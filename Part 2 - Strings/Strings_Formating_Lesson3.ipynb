{
 "cells": [
  {
   "cell_type": "markdown",
   "metadata": {},
   "source": [
    "# 🧵 **Урок 3: Строки в Python.** \n",
    "\n",
    "# **Форматирование и экранирование**\n",
    "\n",
    "\n",
    "\n",
    "В этом ноутбуке мы изучим всё о способах форматирования строк, научимся работать с экранированием и сырыми строками!\n",
    "\n",
    "\n",
    "- 📚 Теория и синтаксис\n",
    "- 🧪 Примеры с пояснениями\n",
    "- 🧠 Упражнения для закрепления\n",
    "\n",
    "<br>\n",
    "\n",
    "> **Продолжение**\n",
    "\n",
    "---"
   ]
  },
  {
   "cell_type": "markdown",
   "metadata": {},
   "source": [
    "<br>\n",
    "\n",
    "# **5. Форматирование строк**\n",
    "Форматирование строк позволяет вставлять значения переменных в текст, управлять отображением чисел и создавать динамические строки. В Python есть три основных подхода: старый стиль с `%`, метод `.format()` и современные F-строки.\n"
   ]
  },
  {
   "cell_type": "markdown",
   "metadata": {},
   "source": [
    "### 📚 **1. Старый стиль: оператор `%`**\n",
    "\n",
    "Этот метод форматирования строк унаследован из языка C и использует специальные **спецификаторы** для подстановки значений. \n",
    "\n",
    "**Синтаксис:**  \n",
    "\n",
    "`\"Шаблон со спецификаторами\" % (значения)`.\n",
    "\n",
    "<br>\n",
    "\n",
    "#### **Спецификаторы формата**\n",
    "\n",
    "> Каждый спецификатор начинается с символа `%` и определяет тип данных и правила отображения. \n",
    "\n",
    "Основные спецификаторы:\n",
    "\n",
    "| Спецификатор | Тип данных                | Пример                     |\n",
    "|--------------|---------------------------|----------------------------|\n",
    "| `%s`         | Строка (любой объект)     | `\"Name: %s\" % \"Alice\"`     |\n",
    "| `%d`         | Целое число (decimal)     | `\"Age: %d\" % 25`           |\n",
    "| `%f`         | Число с плавающей точкой  | `\"Price: %.2f\" % 49.99`    |\n",
    "| `%x`         | Шестнадцатеричное число   | `\"Hex: %x\" % 255` → `ff`   |\n",
    "| `%o`         | Восьмеричное число        | `\"Oct: %o\" % 64` → `100`   |\n",
    "| `%e`         | Экспоненциальная запись   | `\"Sci: %e\" % 1000` → `1e+03` |\n",
    "| `%g`         | Умный выбор между `%f` и `%e` | `\"%g\" % 0.001` → `0.001`  |\n",
    "| `%r`         | Представление объекта (как `repr()`) | `\"%r\" % \"text\"` → `\"'text'\"` |\n",
    "| `%c`         | Символ (ASCII/Unicode код) | `\"Char: %c\" % 65` → `A`   |\n",
    "\n",
    "<br>\n",
    "\n",
    "---"
   ]
  },
  {
   "cell_type": "markdown",
   "metadata": {},
   "source": [
    "#### **Модификаторы формата**\n",
    "\n",
    "Между `%` и спецификатором можно добавить параметры для управления выводом:  \n",
    "\n",
    "**Синтаксис:**  `%[флаги][ширина][.точность]спецификатор`.\n",
    "\n",
    "<br>\n",
    "\n",
    "| Параметр     | Описание                                                                 |\n",
    "|--------------|--------------------------------------------------------------------------|\n",
    "| **Ширина**   | Минимальная длина поля. Если значение короче, оно дополняется пробелами. |\n",
    "| **.Точность**| Для чисел: количество знаков после точки. Для строк: максимальная длина. |\n",
    "| **Флаги**    | Управление заполнением и выравниванием: `-` (влево), `0` (заполнение нулями), `+` (знак числа). |\n",
    "\n",
    "<br>\n",
    "\n",
    "---"
   ]
  },
  {
   "cell_type": "markdown",
   "metadata": {},
   "source": [
    "<br>\n",
    "\n",
    "#### 🧪 **Примеры с модификаторами**"
   ]
  },
  {
   "cell_type": "code",
   "execution_count": 1,
   "metadata": {},
   "outputs": [
    {
     "name": "stdout",
     "output_type": "stream",
     "text": [
      "|      test|\n",
      "|test      |\n",
      "|00042|\n"
     ]
    }
   ],
   "source": [
    "# 1. Ширина поля и выравнивание\n",
    "\n",
    "print(\"|%10s|\" % \"test\")    # |      test| (ширина 10, выравнивание вправо)\n",
    "print(\"|%-10s|\" % \"test\")   # |test      | (влево)\n",
    "print(\"|%05d|\" % 42)        # |00042|    (дополнение нулями)"
   ]
  },
  {
   "cell_type": "code",
   "execution_count": 2,
   "metadata": {},
   "outputs": [
    {
     "name": "stdout",
     "output_type": "stream",
     "text": [
      "Pi: 3.142\n"
     ]
    }
   ],
   "source": [
    "# 2. Точность для чисел\n",
    "\n",
    "print(\"Pi: %.3f\" % 3.14159)  # Pi: 3.142"
   ]
  },
  {
   "cell_type": "code",
   "execution_count": null,
   "metadata": {},
   "outputs": [],
   "source": [
    "# 3. Точность для строк\n",
    "\n",
    "print(\"%.3s\" % \"abcdef\")     # abc (первые 3 символа)"
   ]
  },
  {
   "cell_type": "code",
   "execution_count": null,
   "metadata": {},
   "outputs": [],
   "source": [
    "# 4. Комбинация параметров\n",
    "\n",
    "print(\"|%+10.2f|\" % 3.14)   # |     +3.14| (знак, ширина 10, точность 2)"
   ]
  },
  {
   "cell_type": "markdown",
   "metadata": {},
   "source": [
    "#### **Особенности**\n",
    "\n",
    "1. **Экранирование `%`**: Чтобы вывести символ `%`, используйте `%%`.\n",
    " "
   ]
  },
  {
   "cell_type": "code",
   "execution_count": null,
   "metadata": {},
   "outputs": [],
   "source": [
    "print(\"Скидка: %d%%\" % 20)  # Скидка: 20%"
   ]
  },
  {
   "cell_type": "markdown",
   "metadata": {},
   "source": [
    "2. **Несколько аргументов**: Значения передаются в виде кортежа."
   ]
  },
  {
   "cell_type": "code",
   "execution_count": null,
   "metadata": {},
   "outputs": [],
   "source": [
    "print(\"%s: %d лет\" % (\"Анна\", 30))  # Анна: 30 лет"
   ]
  },
  {
   "cell_type": "markdown",
   "metadata": {},
   "source": [
    "3. **Типы данных должны совпадать**:  \n",
    "   \n",
    "Ошибка: `\"%d\" % \"10\"` (строка вместо числа)."
   ]
  },
  {
   "cell_type": "code",
   "execution_count": null,
   "metadata": {},
   "outputs": [],
   "source": [
    "# Попытка передать строку вместо числа для спецификатора %d\n",
    "\n",
    "print(\"Число: %d\" % \"10\")       # ❌ Ошибка: `\"%d\" % \"10\"` (строка вместо числа)."
   ]
  },
  {
   "cell_type": "markdown",
   "metadata": {},
   "source": [
    "**Пояснение:**\n",
    "\n",
    "Спецификатор `%d` ожидает целое число `(int)`, но получает строку `(str)`. Python не выполняет автоматическое преобразование типов в этом случае, что приводит к ошибке."
   ]
  },
  {
   "cell_type": "markdown",
   "metadata": {},
   "source": [
    "✅ Корректный код:"
   ]
  },
  {
   "cell_type": "code",
   "execution_count": null,
   "metadata": {},
   "outputs": [],
   "source": [
    "# 1. Передача числа вместо строки\n",
    "print(\"Число: %d\" % 10)  # Число: 10\n",
    "\n",
    "# 2. Явное преобразование строки в число\n",
    "value = \"10\"\n",
    "print(\"Число: %d\" % int(value))  # Число: 10"
   ]
  },
  {
   "cell_type": "markdown",
   "metadata": {},
   "source": [
    "### 🧠 **Задания к разделу**"
   ]
  },
  {
   "cell_type": "markdown",
   "metadata": {},
   "source": [
    "#### **Задание 1: Базовое форматирование**\n",
    "\n",
    "Создайте строку: `\"Студент: Иван | Баллы: 85/100 | Рейтинг: 85.00%\"`, \n",
    "\n",
    "используя переменные:  `name = \"Иван\"`, `points = 85`, `total = 100`.\n"
   ]
  },
  {
   "cell_type": "code",
   "execution_count": null,
   "metadata": {},
   "outputs": [],
   "source": [
    "# Ваше решение:"
   ]
  },
  {
   "cell_type": "markdown",
   "metadata": {},
   "source": [
    "**Решение:**\n",
    "\n",
    "```python\n",
    "name = \"Иван\"\n",
    "points = 85\n",
    "total = 100\n",
    "print(\"Студент: %s | Баллы: %d/%d | Рейтинг: %.2f%%\" % (name, points, total, (points/total)*100))\n",
    "```"
   ]
  },
  {
   "cell_type": "markdown",
   "metadata": {},
   "source": [
    "<br>\n",
    "\n",
    "#### **Задание 2: Числа и выравнивание**\n",
    "\n",
    "1. Отформатируйте число `123.456` как:  \n",
    "   - С двумя знаками после точки: `123.46`.  \n",
    "   - В экспоненциальной форме: `1.23e+02`.  \n",
    "  \n",
    "2. Выведите число `42` с шириной поля 5 и заполнением нулями: `00042`.\n"
   ]
  },
  {
   "cell_type": "code",
   "execution_count": null,
   "metadata": {},
   "outputs": [],
   "source": [
    "# Ваше решение:"
   ]
  },
  {
   "cell_type": "markdown",
   "metadata": {},
   "source": [
    "**Решение:**\n",
    "\n",
    "```python\n",
    "num = 123.456\n",
    "print(\"%.2f\" % num)       # 123.46\n",
    "print(\"%.2e\" % num)       # 1.23e+02\n",
    "print(\"%05d\" % 42)        # 00042\n",
    "```"
   ]
  },
  {
   "cell_type": "markdown",
   "metadata": {},
   "source": [
    "<br>\n",
    "\n",
    "#### **Задание 3: Символы и строки**\n",
    "\n",
    "1. Выведите символ с ASCII-кодом `72` (результат: `H`).  \n",
    "\n",
    "2. Обрежьте строку `\"Программирование\"` до 6 символов.  "
   ]
  },
  {
   "cell_type": "code",
   "execution_count": null,
   "metadata": {},
   "outputs": [],
   "source": [
    "# Ваше решение:"
   ]
  },
  {
   "cell_type": "markdown",
   "metadata": {},
   "source": [
    "**Решение:**\n",
    "\n",
    "```python\n",
    "print(\"%c\" % 72)               # H\n",
    "print(\"%.6s\" % \"Программирование\")  # Програ\n",
    "```"
   ]
  },
  {
   "cell_type": "markdown",
   "metadata": {},
   "source": [
    "<br>\n",
    "\n",
    "#### **Задание 4 (продвинутое): Таблица товаров**\n",
    "\n",
    "Создайте таблицу с выравниванием:  \n",
    "```\n",
    "Товар    | Цена     | Кол-во\n",
    "Яблоки   | $  2.50  |    10\n",
    "Молоко   | $  1.20  |     5\n",
    "```\n",
    "\n",
    "Используйте данные:  \n",
    "\n",
    "`products = [(\"Яблоки\", 2.5, 10), (\"Молоко\", 1.2, 5)]`."
   ]
  },
  {
   "cell_type": "code",
   "execution_count": null,
   "metadata": {},
   "outputs": [],
   "source": [
    "# Ваше решение:"
   ]
  },
  {
   "cell_type": "markdown",
   "metadata": {},
   "source": [
    "**Решение:**\n",
    "\n",
    "```python\n",
    "products = [(\"Яблоки\", 2.5, 10), (\"Молоко\", 1.2, 5)]\n",
    "print(\"%-10s | %-10s | %-10s\" % (\"Товар\", \"Цена\", \"Кол-во\"))\n",
    "for product in products:\n",
    "    print(\"%-10s | $%7.2f  | %5d\" % (product[0], product[1], product[2]))\n",
    "```"
   ]
  },
  {
   "cell_type": "markdown",
   "metadata": {},
   "source": [
    "**Подведём итог:**\n",
    "\n",
    "Старый стиль форматирования (`%`) редко используется в новых проектах, но его знание полезно для работы с устаревшим кодом. Для современных задач предпочтительны F-строки или метод `.format()`."
   ]
  },
  {
   "cell_type": "markdown",
   "metadata": {},
   "source": [
    "<br>\n",
    "\n",
    "---\n",
    "\n",
    "<br>"
   ]
  },
  {
   "cell_type": "markdown",
   "metadata": {},
   "source": [
    "### 📚 **2. Метод `.format()`**\n",
    "\n",
    "Более гибкий способ, поддерживающий позиционные и именованные аргументы.\n",
    "\n",
    "**Синтаксис:**\n",
    "\n",
    "```python\n",
    "\"{} + {} = {}\".format(a, b, a+b)\n",
    "\"{name} is {age} years old\".format(name=\"Alice\", age=25)\n",
    "```"
   ]
  },
  {
   "cell_type": "markdown",
   "metadata": {},
   "source": [
    "##### 🧪 **Примеры:**"
   ]
  },
  {
   "cell_type": "code",
   "execution_count": null,
   "metadata": {},
   "outputs": [],
   "source": [
    "# Позиционные аргументы\n",
    "\n",
    "a, b = 5, 3\n",
    "\n",
    "print(\"{} + {} = {}\".format(a, b, a + b))  # 5 + 3 = 8\n"
   ]
  },
  {
   "cell_type": "code",
   "execution_count": null,
   "metadata": {},
   "outputs": [],
   "source": [
    "# Создайте подобное решение:\n"
   ]
  },
  {
   "cell_type": "code",
   "execution_count": null,
   "metadata": {},
   "outputs": [],
   "source": [
    "# Именованные аргументы\n",
    "\n",
    "print(\"{name} loves {lang}\".format(name=\"John\", lang=\"Python\"))  # John loves Python\n"
   ]
  },
  {
   "cell_type": "code",
   "execution_count": null,
   "metadata": {},
   "outputs": [],
   "source": [
    "# Создайте подобное решение:\n"
   ]
  },
  {
   "cell_type": "code",
   "execution_count": null,
   "metadata": {},
   "outputs": [],
   "source": [
    "# Форматирование чисел\n",
    "\n",
    "value = 123.456789\n",
    "\n",
    "print(\"Value: {:.2f}\".format(value))  # Value: 123.46\n"
   ]
  },
  {
   "cell_type": "code",
   "execution_count": null,
   "metadata": {},
   "outputs": [],
   "source": [
    "# Создайте подобное решение:\n"
   ]
  },
  {
   "cell_type": "code",
   "execution_count": null,
   "metadata": {},
   "outputs": [],
   "source": [
    "# Выравнивание текста\n",
    "\n",
    "text = \"Python\"\n",
    "\n",
    "print(\"{:<10}\".format(text))  # 'Python    ' (выравнивание по левому краю)\n",
    "print(\"{:^10}\".format(text))  # '  Python  ' (центрирование)"
   ]
  },
  {
   "cell_type": "code",
   "execution_count": null,
   "metadata": {},
   "outputs": [],
   "source": [
    "# Создайте подобное решение:\n"
   ]
  },
  {
   "cell_type": "markdown",
   "metadata": {},
   "source": [
    "<br>\n",
    "\n",
    "---\n",
    "\n",
    "<br>"
   ]
  },
  {
   "cell_type": "markdown",
   "metadata": {},
   "source": [
    "\n",
    "#### 📚 **3. F-строки (от Python в версии 3.6+)**\n",
    "\n",
    "**Самый современный и удобный способ. Позволяют встраивать выражения прямо в строку.**\n",
    "\n",
    "<br>\n",
    "\n",
    "**Синтаксис:**\n",
    "\n",
    "```python\n",
    "f\"Текст {переменная}\"\n",
    "\n",
    "f\"Текст {выражение}\"\n",
    "```\n",
    "\n",
    "<br>"
   ]
  },
  {
   "cell_type": "markdown",
   "metadata": {},
   "source": [
    "##### 🧪 **Примеры:**"
   ]
  },
  {
   "cell_type": "code",
   "execution_count": null,
   "metadata": {},
   "outputs": [],
   "source": [
    "# Простая подстановка\n",
    "\n",
    "name = \"Anna\"\n",
    "\n",
    "print(f\"Hello, {name}!\")  # Hello, Anna!"
   ]
  },
  {
   "cell_type": "code",
   "execution_count": null,
   "metadata": {},
   "outputs": [],
   "source": [
    "# Создайте подобное решение:"
   ]
  },
  {
   "cell_type": "code",
   "execution_count": null,
   "metadata": {},
   "outputs": [],
   "source": [
    "# Математические выражения\n",
    "\n",
    "x, y = 10, 20\n",
    "\n",
    "print(f\"Sum: {x + y}\")  # Sum: 30"
   ]
  },
  {
   "cell_type": "code",
   "execution_count": null,
   "metadata": {},
   "outputs": [],
   "source": [
    "# Создайте подобное решение:"
   ]
  },
  {
   "cell_type": "code",
   "execution_count": null,
   "metadata": {},
   "outputs": [],
   "source": [
    "# Форматирование чисел\n",
    "\n",
    "pi = 3.1415926535\n",
    "\n",
    "print(f\"Pi: {pi:.3f}\")  # Pi: 3.142"
   ]
  },
  {
   "cell_type": "code",
   "execution_count": null,
   "metadata": {},
   "outputs": [],
   "source": [
    "# Форматирование даты\n",
    "\n",
    "from datetime import datetime \n",
    "\n",
    "now = datetime.now()\n",
    "\n",
    "print(f\"Текущее время: {now:%H:%M:%S}\")  # Текущее время:  например 14:30:45 у вас будет другое"
   ]
  },
  {
   "cell_type": "code",
   "execution_count": null,
   "metadata": {},
   "outputs": [],
   "source": [
    "# Логические выражения\n",
    "\n",
    "is_admin = True\n",
    "\n",
    "print(f\"Admin: {is_admin and 'Yes' or 'No'}\")  # Admin: Yes"
   ]
  },
  {
   "cell_type": "code",
   "execution_count": null,
   "metadata": {},
   "outputs": [],
   "source": [
    "# Создайте подобное решение:"
   ]
  },
  {
   "cell_type": "markdown",
   "metadata": {},
   "source": [
    "---"
   ]
  },
  {
   "cell_type": "markdown",
   "metadata": {},
   "source": [
    "#### 🧠 **Задания к разделу**"
   ]
  },
  {
   "cell_type": "markdown",
   "metadata": {},
   "source": [
    "#### **Задание 1: Старый стиль (`%`)**\n",
    "\n",
    "1. Создайте переменные: `product = \"Apple\"`, `price = 2.5`, `quantity = 10`.\n",
    "\n",
    "2. Используя оператор `%`, выведите строку:  \n",
    "   `\"Product: Apple | Price: $2.50 | Total: $25.00\"`."
   ]
  },
  {
   "cell_type": "code",
   "execution_count": null,
   "metadata": {},
   "outputs": [],
   "source": [
    "# Ваше решение:"
   ]
  },
  {
   "cell_type": "markdown",
   "metadata": {},
   "source": [
    "**Решение:**\n",
    "\n",
    "```python\n",
    "product = \"Apple\"\n",
    "price = 2.5\n",
    "quantity = 10\n",
    "total = price * quantity\n",
    "print(\"Product: %s | Price: $%.2f | Total: $%.2f\" % (product, price, total))\n",
    "```"
   ]
  },
  {
   "cell_type": "markdown",
   "metadata": {},
   "source": [
    "\n",
    "<br>\n",
    "\n",
    "#### **Задание 2: Метод `.format()`**\n",
    "\n",
    "1. Создайте список: `data = [\"Python\", 3.9, 1991]`.\n",
    "\n",
    "2. Используя `.format()`, выведите строку:  \n",
    "   `\"Language: Python, Version: 3.9, Year: 1991\"`.\n"
   ]
  },
  {
   "cell_type": "code",
   "execution_count": null,
   "metadata": {},
   "outputs": [],
   "source": [
    "# Ваше решение:"
   ]
  },
  {
   "cell_type": "markdown",
   "metadata": {},
   "source": [
    "**Решение:**\n",
    "\n",
    "```python\n",
    "data = [\"Python\", 3.9, 1991]\n",
    "print(\"Language: {}, Version: {}, Year: {}\".format(data[0], data[1], data[2]))\n",
    "```"
   ]
  },
  {
   "cell_type": "markdown",
   "metadata": {},
   "source": [
    "\n",
    "<br>\n",
    "\n",
    "#### **Задание 3: `F-строки`**\n",
    "\n",
    "1. Попросите пользователя ввести радиус круга через `input()`.\n",
    "\n",
    "2. Рассчитайте площадь круга по формуле: `π * r²`.\n",
    "\n",
    "3. Выведите результат в формате:  \n",
    "   `\"Radius: 5.0 → Area: 78.54\"` (округлите до двух знаков)."
   ]
  },
  {
   "cell_type": "code",
   "execution_count": null,
   "metadata": {},
   "outputs": [],
   "source": [
    "# Ваше решение:"
   ]
  },
  {
   "cell_type": "markdown",
   "metadata": {},
   "source": [
    "**Решение:**\n",
    "\n",
    "```python\n",
    "import math\n",
    "radius = float(input(\"Введите радиус: \"))\n",
    "area = math.pi * radius ** 2\n",
    "print(f\"Radius: {radius} → Area: {area:.2f}\")\n",
    "```"
   ]
  },
  {
   "cell_type": "markdown",
   "metadata": {},
   "source": [
    "\n",
    "<br>\n",
    "\n",
    "#### **Задание 4: Комбинирование методов**\n",
    "\n",
    "Создайте строку, используя любой метод форматирования:  \n",
    "`\"User: admin (ID: 001) | Balance: $150.50\"`.\n"
   ]
  },
  {
   "cell_type": "code",
   "execution_count": null,
   "metadata": {},
   "outputs": [],
   "source": [
    "# Ваше решение:"
   ]
  },
  {
   "cell_type": "markdown",
   "metadata": {},
   "source": [
    "**Решение (F-строка):**\n",
    "\n",
    "```python\n",
    "user = \"admin\"\n",
    "user_id = 1\n",
    "balance = 150.5\n",
    "print(f\"User: {user} (ID: {user_id:03d}) | Balance: ${balance:.2f}\")\n",
    "```"
   ]
  },
  {
   "cell_type": "markdown",
   "metadata": {},
   "source": [
    "\n",
    "<br>\n",
    "\n",
    "#### **Задание 5 (продвинутое): Таблица умножения**\n",
    "\n",
    "Создайте таблицу умножения (от 1 до 5) с выравниванием столбцов. \n",
    "\n",
    "Пример:\n",
    "```\n",
    "1 x 1 = 1   1 x 2 = 2   1 x 3 = 3\n",
    "2 x 1 = 2   2 x 2 = 4   2 x 3 = 6\n",
    "...\n",
    "```\n",
    "\n",
    "**Подсказка:** Используйте вложенные циклы и F-строки с фиксированной шириной."
   ]
  },
  {
   "cell_type": "code",
   "execution_count": null,
   "metadata": {},
   "outputs": [],
   "source": [
    "# Ваше решение:"
   ]
  },
  {
   "cell_type": "markdown",
   "metadata": {},
   "source": [
    "**Решение:**\n",
    "\n",
    "```python\n",
    "for i in range(1, 6):\n",
    "    row = \"\"\n",
    "    for j in range(1, 4):\n",
    "        row += f\"{i} x {j} = {i*j:<2}  \"\n",
    "    print(row)\n",
    "```"
   ]
  },
  {
   "cell_type": "markdown",
   "metadata": {},
   "source": [
    "---"
   ]
  },
  {
   "cell_type": "markdown",
   "metadata": {},
   "source": [
    "#### 🧠 **Проверь себя**\n",
    "\n",
    "1. Что выведет этот код?  \n",
    "   \n",
    "   ```python\n",
    "   print(\"Value: %05d\" % 42)\n",
    "   ```\n",
    "   \n",
    "   **Ответ:** `Value: 00042` (дополнение нулями до 5 символов).\n"
   ]
  },
  {
   "cell_type": "code",
   "execution_count": null,
   "metadata": {},
   "outputs": [],
   "source": [
    "# Проверь:"
   ]
  },
  {
   "cell_type": "markdown",
   "metadata": {},
   "source": [
    "<br>\n",
    "\n",
    "2. Исправьте ошибку в F-строке: \n",
    "  \n",
    "   ```python\n",
    "   count = 5\n",
    "   print(f\"You have {count} item{'s' if count > 1 else ''}\")\n",
    "   ```\n",
    "\n",
    "   **Ответ:** Добавьте пробел перед `else`: `{'s' if count > 1 else ''}` → `{'s' if count > 1 else ''}`."
   ]
  },
  {
   "cell_type": "code",
   "execution_count": null,
   "metadata": {},
   "outputs": [],
   "source": [
    "# Исправь:"
   ]
  },
  {
   "cell_type": "markdown",
   "metadata": {},
   "source": [
    "<br>\n",
    "\n",
    "3. Как получить строку `\"3.14\"` из числа `3.1415` через `.format()`?  \n",
    "\n",
    "   **Ответ:** `\"{:.2f}\".format(3.1415)`."
   ]
  },
  {
   "cell_type": "code",
   "execution_count": null,
   "metadata": {},
   "outputs": [],
   "source": [
    "# Ваше решение:"
   ]
  },
  {
   "cell_type": "markdown",
   "metadata": {},
   "source": [
    "---"
   ]
  },
  {
   "cell_type": "markdown",
   "metadata": {},
   "source": [
    "<br>\n",
    "\n",
    "#### **Распространенные ошибки**\n",
    "\n",
    "- **Несоответствие числа аргументов:**  \n",
    "  ```python\n",
    "  print(\"{} {}\".format(10))  # Ошибка: IndexError\n",
    "  ```\n",
    "- **Использование F-строк в Python в версии ниже 3.6:** - Вызовет синтаксическую ошибку!\n",
    "  \n",
    "- **Неправильные спецификаторы:**  \n",
    "  ```python\n",
    "  print(\"%d\" % \"10\")  # Ошибка: %d ожидает число, а не строку.\n",
    "  ```\n",
    "\n",
    "<br>\n",
    "\n",
    "🚀 Теперь вы научились форматировать строки всеми доступными способами!  Выбирайте F-строки для удобства и читаемости. \n",
    "\n",
    "<br>"
   ]
  },
  {
   "cell_type": "markdown",
   "metadata": {},
   "source": [
    "<br>\n",
    "\n",
    "---\n",
    "\n",
    "<br>"
   ]
  },
  {
   "cell_type": "markdown",
   "metadata": {},
   "source": [
    "# 🛡️ **6. Экранирование символов**\n",
    "\n",
    "Экранирование позволяет вставлять в строки специальные символы, которые нельзя написать напрямую (например, переносы строк или кавычки). Также с его помощью можно отображать символы, которые конфликтуют с синтаксисом Python. Сырые строки (raw strings) игнорируют экранирование, что полезно для работы с путями и регулярными выражениями."
   ]
  },
  {
   "cell_type": "markdown",
   "metadata": {},
   "source": [
    "<br>\n",
    "\n",
    "### 📚  **1. Управляющие последовательности**\n",
    "\n",
    "Это комбинации символов, начинающиеся с обратного слеша `\\`. Они заменяются на специальные символы при обработке строк.\n",
    "\n",
    "<br>\n",
    "\n",
    "| Последовательность | Значение                                                                 |\n",
    "|--------------------|-------------------------------------------------------------------------|\n",
    "| `\\n`               | Перенос строки                                                         |\n",
    "| `\\t`               | Табуляция (отступ)                                                     |\n",
    "| `\\\\`               | Обратный слеш (чтобы вывести `\\` как обычный символ)                   |\n",
    "| `\\\"` или `\\'`      | Кавычки внутри строки (чтобы избежать конфликта с границами строки)    |\n",
    "| `\\r`               | Возврат каретки (используется в некоторых системах для переноса строк) |\n",
    "| `\\b`               | Backspace (удаление предыдущего символа)                               |\n",
    "\n",
    "<br>\n"
   ]
  },
  {
   "cell_type": "markdown",
   "metadata": {},
   "source": [
    "#### 🧪 **Примеры экранирования**"
   ]
  },
  {
   "cell_type": "code",
   "execution_count": null,
   "metadata": {},
   "outputs": [],
   "source": [
    "# Перенос строки и табуляция\n",
    "\n",
    "text = \"Первая строка\\nВторая строка\\tС табуляцией\"\n",
    "print(text)"
   ]
  },
  {
   "cell_type": "markdown",
   "metadata": {},
   "source": [
    "Вывод:\n",
    "```\n",
    "Первая строка\n",
    "Вторая строка    С табуляцией\n",
    "```\n",
    "\n",
    "<br>"
   ]
  },
  {
   "cell_type": "code",
   "execution_count": null,
   "metadata": {},
   "outputs": [],
   "source": [
    "# Попробуйте сами:"
   ]
  },
  {
   "cell_type": "code",
   "execution_count": null,
   "metadata": {},
   "outputs": [],
   "source": [
    "# Кавычки внутри строки\n",
    "\n",
    "quote = \"Он сказал: \\\"Привет!\\\"\"\n",
    "print(quote)  # Он сказал: \"Привет!\""
   ]
  },
  {
   "cell_type": "code",
   "execution_count": null,
   "metadata": {},
   "outputs": [],
   "source": [
    "# Попробуйте сами:"
   ]
  },
  {
   "cell_type": "code",
   "execution_count": null,
   "metadata": {},
   "outputs": [],
   "source": [
    "# Обратный слеш\n",
    "\n",
    "path = \"C:\\\\new_folder\\\\file.txt\"\n",
    "print(path)  # C:\\new_folder\\file.txt"
   ]
  },
  {
   "cell_type": "code",
   "execution_count": null,
   "metadata": {},
   "outputs": [],
   "source": [
    "# Попробуйте сами:"
   ]
  },
  {
   "cell_type": "markdown",
   "metadata": {},
   "source": [
    "\n",
    "---\n",
    "\n",
    "<br>\n",
    "\n",
    "### 📚 **2. Сырые строки (raw strings)**\n",
    "\n",
    "**Сырые строки** игнорируют управляющие последовательности. Они начинаются с префикса `r` или `R`.\n",
    "\n",
    "<br>\n",
    "\n",
    "#### 🧪 **Пример:**"
   ]
  },
  {
   "cell_type": "code",
   "execution_count": null,
   "metadata": {},
   "outputs": [],
   "source": [
    "# Обычная строка vs сырая строка\n",
    "\n",
    "print(\"C:\\\\new_folder\")  # C:\\new_folder (с экранированием)\n",
    "\n",
    "print(r\"C:\\new_folder\")  # C:\\new_folder (без экранирования)"
   ]
  },
  {
   "cell_type": "markdown",
   "metadata": {},
   "source": [
    "**Где их используют:**\n",
    "\n",
    "- Пути к файлам в Windows: `r\"C:\\Program Files\\Python\"`.\n",
    "  \n",
    "- Регулярные выражения: `r\"\\d+\"` (шаблон для поиска цифр).\n",
    "  \n",
    "- Строки с множеством обратных слешей."
   ]
  },
  {
   "cell_type": "markdown",
   "metadata": {},
   "source": [
    "**Ограничение:**  \n",
    "\n",
    "Сырая строка ***не может заканчиваться нечетным количеством обратных слешей***:"
   ]
  },
  {
   "cell_type": "code",
   "execution_count": null,
   "metadata": {},
   "outputs": [],
   "source": [
    "# Ошибка: SyntaxError\n",
    "\n",
    "path = r\"C:\\new_folder\\\""
   ]
  },
  {
   "cell_type": "markdown",
   "metadata": {},
   "source": [
    "**Решение:** Добавьте пробел или используйте двойной слеш `\\\\`:"
   ]
  },
  {
   "cell_type": "code",
   "execution_count": null,
   "metadata": {},
   "outputs": [],
   "source": [
    "path = r\"C:\\new_folder\" \"\\\\\"  # Конкатенация\n",
    "\n",
    "path = r\"C:\\new_folder\\\\\"      # Два слеша в конце"
   ]
  },
  {
   "cell_type": "markdown",
   "metadata": {},
   "source": [
    "<br>\n",
    "\n",
    "---\n",
    "\n",
    "<br>\n",
    "\n",
    "### 🧠 **Задания к разделу**\n"
   ]
  },
  {
   "cell_type": "markdown",
   "metadata": {},
   "source": [
    "<br>\n",
    "\n",
    "#### **Задание 1: Перенос строки и табуляция**\n",
    "\n",
    "Создайте строку, которая выводит следующий текст с форматированием:\n",
    "\n",
    "```\n",
    "Строка 1\n",
    "    Строка 2 с отступом\n",
    "Строка 3\n",
    "```"
   ]
  },
  {
   "cell_type": "code",
   "execution_count": null,
   "metadata": {},
   "outputs": [],
   "source": [
    "# Ваше решение:"
   ]
  },
  {
   "cell_type": "markdown",
   "metadata": {},
   "source": [
    "**Решение:**\n",
    "\n",
    "```python\n",
    "text = \"Строка 1\\n\\tСтрока 2 с отступом\\nСтрока 3\"\n",
    "print(text)\n",
    "```"
   ]
  },
  {
   "cell_type": "markdown",
   "metadata": {},
   "source": [
    "<br>\n",
    "\n",
    "#### **Задание 2: Путь к файлу**\n",
    "1. Напишите путь к файлу `C:\\Program Files\\Python\\script.py` с использованием:\n",
    "   - Экранирования.\n",
    "   - Сырой строки.\n",
    "2. Выведите оба варианта."
   ]
  },
  {
   "cell_type": "code",
   "execution_count": null,
   "metadata": {},
   "outputs": [],
   "source": [
    "# Ваше решение:"
   ]
  },
  {
   "cell_type": "markdown",
   "metadata": {},
   "source": [
    "**Решение:**\n",
    "\n",
    "```python\n",
    "path1 = \"C:\\\\Program Files\\\\Python\\\\script.py\"\n",
    "path2 = r\"C:\\Program Files\\Python\\script.py\"\n",
    "print(path1)\n",
    "print(path2)\n",
    "```"
   ]
  },
  {
   "cell_type": "markdown",
   "metadata": {},
   "source": [
    "<br>\n",
    "\n",
    "#### **Задание 3: Кавычки внутри строки**\n",
    "\n",
    "Создайте строку: `Она спросила: \"Как тебя зовут?\"`, используя:\n",
    "- Двойные кавычки для всей строки.\n",
    "- Одинарные кавычки для всей строки."
   ]
  },
  {
   "cell_type": "code",
   "execution_count": null,
   "metadata": {},
   "outputs": [],
   "source": [
    "# Ваше решение:"
   ]
  },
  {
   "cell_type": "markdown",
   "metadata": {},
   "source": [
    "**Решение:**\n",
    "\n",
    "```python\n",
    "text1 = \"Она спросила: \\\"Как тебя зовут?\\\"\"\n",
    "text2 = 'Она спросила: \"Как тебя зовут?\"'\n",
    "print(text1)\n",
    "print(text2)\n",
    "```"
   ]
  },
  {
   "cell_type": "markdown",
   "metadata": {},
   "source": [
    "<br>\n",
    "\n",
    "#### **Задание 4: Сырая строка с переносом**\n",
    "\n",
    "Напишите сырую строку, содержащую `\\n\\t`, чтобы при выводе отображалось:\n",
    "```\n",
    "Сырая строка: \\n\\t\n",
    "```"
   ]
  },
  {
   "cell_type": "code",
   "execution_count": null,
   "metadata": {},
   "outputs": [],
   "source": [
    "# Ваше решение:"
   ]
  },
  {
   "cell_type": "markdown",
   "metadata": {},
   "source": [
    "**Решение:**\n",
    "\n",
    "```python\n",
    "raw_text = r\"Сырая строка: \\n\\t\"\n",
    "print(raw_text)\n",
    "```"
   ]
  },
  {
   "cell_type": "markdown",
   "metadata": {},
   "source": [
    "---\n",
    "\n",
    "<br>"
   ]
  },
  {
   "cell_type": "markdown",
   "metadata": {},
   "source": [
    "#### 🧠 **Проверь себя**"
   ]
  },
  {
   "cell_type": "markdown",
   "metadata": {},
   "source": [
    "1. Что выведет этот код?\n",
    "   \n",
    "   ```python\n",
    "   print(r\"Hello\\nWorld\")\n",
    "   ```\n",
    "   **Ответ:** `Hello\\nWorld` (сырая строка игнорирует `\\n`)."
   ]
  },
  {
   "cell_type": "code",
   "execution_count": null,
   "metadata": {},
   "outputs": [],
   "source": [
    "# Проверьте:"
   ]
  },
  {
   "cell_type": "markdown",
   "metadata": {},
   "source": [
    "2. Исправьте ошибку:\n",
    "   \n",
    "   ```python\n",
    "   text = \"Это обратный слеш: \\\"\n",
    "   ```\n",
    "   **Ответ:** Экранируйте слеш: `text = \"Это обратный слеш: \\\\\"`."
   ]
  },
  {
   "cell_type": "code",
   "execution_count": null,
   "metadata": {},
   "outputs": [],
   "source": [
    "# Исправьте:"
   ]
  },
  {
   "cell_type": "markdown",
   "metadata": {},
   "source": [
    "3. Как записать путь `D:\\docs\\new\\file.txt` без ошибок?  \n",
    "   \n",
    "   **Решение:**  \n",
    "   ```python\n",
    "   path = r\"D:\\docs\\new\\file.txt\"\n",
    "   ```"
   ]
  },
  {
   "cell_type": "code",
   "execution_count": null,
   "metadata": {},
   "outputs": [],
   "source": [
    "# Запишите путь:"
   ]
  },
  {
   "cell_type": "markdown",
   "metadata": {},
   "source": [
    "---"
   ]
  },
  {
   "cell_type": "markdown",
   "metadata": {},
   "source": [
    "<br>\n",
    "\n",
    "### **Распространенные ошибки**\n",
    "\n",
    "- **Неэкранированные кавычки:**  \n",
    "  ```python\n",
    "  text = \"Он сказал: \"Привет\"\"  # Ошибка!\n",
    "  ```\n",
    "\n",
    "- **Неверное использование сырых строк:**  \n",
    "  ```python\n",
    "  print(r\"Строка с \\\"\")  # Ошибка: кавычка экранируется, но сырая строка игнорирует `\\\"`.\n",
    "  ```\n",
    "\n",
    "- **Завершение сырой строки слешем:**  \n",
    "  ```python\n",
    "  path = r\"C:\\new\\\"  # Ошибка!\n",
    "  ```\n",
    "\n",
    "---\n",
    "\n",
    "Теперь вы уже умеете работать с экранированием и сырыми строками! 🛡️"
   ]
  },
  {
   "cell_type": "markdown",
   "metadata": {},
   "source": [
    "<br>\n",
    "\n",
    "##### 📬 Author:\n",
    "\n",
    "**Siergej Sobolewski**  \n",
    "\n",
    "[![Email 🚀](https://img.shields.io/badge/Email-s.sobolewski@hotmail.com-blue?logo=protonmail)](mailto:s.sobolewski@hotmail.com)\n",
    "[![GitHub](https://img.shields.io/badge/GitHub-SSobol77-blue?logo=github)](https://github.com/SSobol77)\n",
    "[![LinkedIn](https://img.shields.io/badge/LinkedIn-Connect-blue?logo=linkedin)](https://linkedin.com/in/siergej-s-25a16319a)\n",
    "\n",
    "<br>\n"
   ]
  }
 ],
 "metadata": {
  "kernelspec": {
   "display_name": "Python 3",
   "language": "python",
   "name": "python3"
  },
  "language_info": {
   "codemirror_mode": {
    "name": "ipython",
    "version": 3
   },
   "file_extension": ".py",
   "mimetype": "text/x-python",
   "name": "python",
   "nbconvert_exporter": "python",
   "pygments_lexer": "ipython3",
   "version": "3.13.2"
  }
 },
 "nbformat": 4,
 "nbformat_minor": 2
}
