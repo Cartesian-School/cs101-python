{
 "cells": [
  {
   "cell_type": "markdown",
   "id": "fae2834b",
   "metadata": {},
   "source": [
    "# 🧵 Урок 2: Строки в Python\n",
    "\n",
    "В этом ноутбуке мы изучим всё о строках, их **методах** и представлентях.\n",
    "\n",
    "- 📚 Теория и синтаксис\n",
    "- 🧪 Примеры с пояснениями\n",
    "- 🧠 Упражнения для закрепления\n"
   ]
  },
  {
   "cell_type": "markdown",
   "id": "78fe949d",
   "metadata": {},
   "source": [
    "Что такое строка в Python?\n",
    "\n",
    "Создание строк: одинарные (' '), двойные (\" \") кавычки, многострочные строки (тройные кавычки ''' ''' или \"\"\" \"\"\").\n",
    "\n",
    "Пример: text = \"Hello, Python!\""
   ]
  },
  {
   "cell_type": "markdown",
   "id": "0300e45c",
   "metadata": {},
   "source": [
    "<br>\n",
    "\n",
    "# 📋 **1. Введение в строки**\n",
    "#### **Что такое строка в Python?**\n",
    "Строка (string) — это последовательность символов (букв, цифр, знаков препинания), заключенная в кавычки. В Python строки являются **неизменяемым** типом данных: после создания строки нельзя изменить отдельные символы, но можно создать новую строку на основе существующей.\n",
    "\n",
    "---\n",
    "\n",
    "#### **Создание строк**\n",
    "Python поддерживает несколько способов создания строк:\n",
    "\n",
    "1. **Одинарные кавычки** (`' '`):\n",
    "   ```python\n",
    "   text1 = 'Hello, Python!'\n",
    "   print(text1)  # Вывод: Hello, Python!\n",
    "   ```\n",
    "\n",
    "2. **Двойные кавычки** (`\" \"`):\n",
    "   ```python\n",
    "   text2 = \"I'm learning Python.\"\n",
    "   print(text2)  # Вывод: I'm learning Python.\n",
    "   ```\n",
    "   - Используйте двойные кавычки, если внутри строки есть апостроф (`'`), чтобы избежать ошибок.\n",
    "\n",
    "3. **Тройные кавычки** (`''' '''` или `\"\"\" \"\"\"`):\n",
    "   - Для многострочных строк:\n",
    "     ```python\n",
    "     text3 = '''Это многострочная строка.\n",
    "     Она сохраняет переносы строк\n",
    "     и отступы.'''\n",
    "     print(text3)\n",
    "     ```\n",
    "     Вывод:\n",
    "     ```\n",
    "     Это многострочная строка.\n",
    "     Она сохраняет переносы строк\n",
    "     и отступы.\n",
    "     ```\n",
    "   - Для документирования кода (docstrings)."
   ]
  },
  {
   "cell_type": "markdown",
   "id": "93014aab",
   "metadata": {},
   "source": [
    "---\n",
    "\n",
    "#### **Примеры использования разных кавычек**\n"
   ]
  },
  {
   "cell_type": "code",
   "execution_count": 1,
   "id": "2c1c8fa2",
   "metadata": {},
   "outputs": [
    {
     "name": "stdout",
     "output_type": "stream",
     "text": [
      "It's a beautiful day!\n",
      "Он сказал: \"Привет!\"\n",
      "Это \"тестовая\" строка.\n"
     ]
    }
   ],
   "source": [
    "# Строка с апострофом\n",
    "text4 = \"It's a beautiful day!\"\n",
    "print(text4)  # It's a beautiful day!\n",
    "\n",
    "# Строка с кавычками внутри\n",
    "text5 = 'Он сказал: \"Привет!\"'\n",
    "print(text5)  # Он сказал: \"Привет!\"\n",
    "\n",
    "# Экранирование кавычек\n",
    "text6 = \"Это \\\"тестовая\\\" строка.\"\n",
    "print(text6)  # Это \"тестовая\" строка."
   ]
  },
  {
   "cell_type": "markdown",
   "id": "f01dfcda",
   "metadata": {},
   "source": [
    "#### **Почему важны разные типы кавычек?**\n",
    "\n",
    "- **Гибкость**: Можно использовать кавычки внутри строк без конфликтов.\n",
    "  \n",
    "- **Удобство**: Тройные кавычки упрощают создание текстов с переносами строк.\n",
    "  \n",
    "- **Читаемость**: Например, `\"I'm here\"` выглядит лучше, чем `'I\\'m here'`."
   ]
  },
  {
   "cell_type": "markdown",
   "id": "9bbae1d1",
   "metadata": {},
   "source": [
    "### **Задания к разделу**\n",
    "Практикуйтесь в создании строк, чтобы закрепить материал.\n",
    "\n",
    "#### **Задание 1: Простые строки**\n",
    "1. Создайте строку `'Python is fun!'` с использованием одинарных кавычек.\n",
    "2. Создайте строку `\"Don't give up!\"` с использованием двойных кавычек.\n",
    "3. Выведите обе строки на экран.\n",
    "\n",
    "**Пример решения:**\n",
    "```python\n",
    "str1 = 'Python is fun!'\n",
    "str2 = \"Don't give up!\"\n",
    "print(str1)  # Python is fun!\n",
    "print(str2)  # Don't give up!"
   ]
  },
  {
   "cell_type": "code",
   "execution_count": null,
   "id": "3595db3c",
   "metadata": {},
   "outputs": [],
   "source": [
    "# ваше решение:"
   ]
  },
  {
   "cell_type": "markdown",
   "id": "7f0044e2",
   "metadata": {},
   "source": [
    "#### **Задание 2: Многострочные строки**\n",
    "Создайте многострочную строку, которая будет содержать следующий текст:\n",
    "```\n",
    "Сегодня я изучаю Python.\n",
    "Это мой первый урок по строкам.\n",
    "Очень интересно!\n",
    "```\n",
    "Используйте тройные кавычки. Выведите результат на экран.\n",
    "\n",
    "**Пример решения:**\n",
    "```python\n",
    "multiline_text = '''Сегодня я изучаю Python.\n",
    "Это мой первый урок по строкам.\n",
    "Очень интересно!'''\n",
    "print(multiline_text)"
   ]
  },
  {
   "cell_type": "code",
   "execution_count": null,
   "id": "5d61c66c",
   "metadata": {},
   "outputs": [],
   "source": [
    "# ваше решение:"
   ]
  },
  {
   "cell_type": "markdown",
   "id": "3bf99ff7",
   "metadata": {},
   "source": [
    "<br>\n",
    "\n",
    "### Практикуйтесь в создании строк, чтобы закрепить материал.\n",
    "\n",
    "#### **Задание 3: Простые строки**\n",
    "\n",
    "1. Создайте строку `'Python is fun!'` с использованием одинарных кавычек.\n",
    "2. Создайте строку `\"Don't give up!\"` с использованием двойных кавычек.\n",
    "3. Выведите обе строки на экран.\n",
    "\n",
    "**Пример решения:**\n",
    "```python\n",
    "str1 = 'Python is fun!'\n",
    "str2 = \"Don't give up!\"\n",
    "print(str1)  # Python is fun!\n",
    "print(str2)  # Don't give up!\n",
    "```\n",
    "\n",
    "\n"
   ]
  },
  {
   "cell_type": "code",
   "execution_count": null,
   "id": "1e688b5c",
   "metadata": {},
   "outputs": [],
   "source": [
    "# ваше решение:"
   ]
  },
  {
   "cell_type": "markdown",
   "id": "b8e71d31",
   "metadata": {},
   "source": [
    "#### **Задание 4: Многострочные строки**\n",
    "Создайте многострочную строку, которая будет содержать следующий текст:\n",
    "```\n",
    "Сегодня я изучаю Python.\n",
    "Это мой первый урок по строкам.\n",
    "Очень интересно!\n",
    "```\n",
    "Используйте тройные кавычки. Выведите результат на экран.\n",
    "\n",
    "**Пример решения:**\n",
    "```python\n",
    "multiline_text = '''Сегодня я изучаю Python.\n",
    "Это мой первый урок по строкам.\n",
    "Очень интересно!'''\n",
    "print(multiline_text)\n",
    "```\n"
   ]
  },
  {
   "cell_type": "code",
   "execution_count": null,
   "id": "57857638",
   "metadata": {},
   "outputs": [],
   "source": [
    "# ваше решение:"
   ]
  },
  {
   "cell_type": "markdown",
   "id": "8fe31d1f",
   "metadata": {},
   "source": [
    "#### **Задание 5: Экранирование и вложенные кавычки**\n",
    "1. Создайте строку: `Он сказал: \"I'm ready!\"`, используя одинарные кавычки для всей строки.\n",
    "2. Создайте строку: `Этот текст содержит \\n символ переноса строки.`, используя двойные кавычки.\n",
    "3. Выведите обе строки на экран и посмотрите, как работает `\\n`.\n",
    "\n",
    "**Пример решения:**\n",
    "```python\n",
    "quote = 'Он сказал: \"I\\'m ready!\"'\n",
    "escape_example = \"Этот текст содержит \\n символ переноса строки.\"\n",
    "print(quote)\n",
    "print(escape_example)\n",
    "```\n",
    "Вывод:\n",
    "```\n",
    "Он сказал: \"I'm ready!\"\n",
    "Этот текст содержит \n",
    " символ переноса строки.\n",
    "```"
   ]
  },
  {
   "cell_type": "code",
   "execution_count": null,
   "id": "b5cf0e1b",
   "metadata": {},
   "outputs": [],
   "source": [
    "# ваше решение:"
   ]
  },
  {
   "cell_type": "markdown",
   "id": "b922db85",
   "metadata": {},
   "source": [
    "#### **Задание 6: Строки с комбинацией кавычек**\n",
    "Напишите код, который выводит на экран:\n",
    "```\n",
    "Она спросила: \"Как использовать 'тройные' кавычки?\"\n",
    "```\n",
    "**Подсказка:** Используйте экранирование или разные типы кавычек.\n",
    "\n",
    "**Пример решения:**\n",
    "```python\n",
    "text = \"Она спросила: \\\"Как использовать 'тройные' кавычки?\\\"\"\n",
    "print(text)\n",
    "# Или:\n",
    "text = 'Она спросила: \"Как использовать \\'тройные\\' кавычки?\"'\n",
    "print(text)\n",
    "```\n"
   ]
  },
  {
   "cell_type": "code",
   "execution_count": null,
   "id": "f1bfd457",
   "metadata": {},
   "outputs": [],
   "source": [
    "# ваше решение:"
   ]
  },
  {
   "cell_type": "markdown",
   "id": "1c9a8c8f",
   "metadata": {},
   "source": [
    "### **Проверь себя**\n",
    "\n",
    "1. Что выведет этот код?\n",
    "   ```python\n",
    "   a = 'Hello'\n",
    "   b = \"World\"\n",
    "   print(a + ', ' + b + '!')"
   ]
  },
  {
   "cell_type": "code",
   "execution_count": null,
   "id": "37bbdb94",
   "metadata": {},
   "outputs": [],
   "source": [
    "# ваше решение: "
   ]
  },
  {
   "cell_type": "markdown",
   "id": "160702de",
   "metadata": {},
   "source": [
    "2. Как создать строку `It's a \"test\" string`, не используя экранирование?\n",
    "   ```python\n",
    "   # Решение:\n",
    "   text = '''It's a \"test\" string'''\n",
    "   ```"
   ]
  },
  {
   "cell_type": "code",
   "execution_count": null,
   "id": "c5cd156c",
   "metadata": {},
   "outputs": [],
   "source": [
    "# ваше решение: "
   ]
  },
  {
   "cell_type": "markdown",
   "id": "92148d05",
   "metadata": {},
   "source": [
    "3. Какая ошибка в этом коде?\n",
    "   ```python\n",
    "   message = 'I'm learning Python'\n",
    "   ```\n"
   ]
  },
  {
   "cell_type": "code",
   "execution_count": null,
   "id": "b242bf66",
   "metadata": {},
   "outputs": [],
   "source": [
    "# ваше решение: "
   ]
  },
  {
   "cell_type": "markdown",
   "id": "e4dcf19e",
   "metadata": {},
   "source": [
    "\n",
    "Переходите к следующему разделу, когда выполните задания! 😊\n",
    "\n",
    "<br>"
   ]
  },
  {
   "cell_type": "markdown",
   "id": "8f5d00a1",
   "metadata": {},
   "source": [
    "---"
   ]
  },
  {
   "cell_type": "markdown",
   "id": "ffdb2990",
   "metadata": {},
   "source": [
    "\n",
    "# 📋 **2. Базовые операции со строками**\n",
    "В этом разделе вы научитесь выполнять основные манипуляции со строками: складывать их, повторять и измерять их длину.\n",
    "\n",
    "---\n",
    "\n",
    "#### **1. Конкатенация (сложение строк)**\n",
    "Конкатенация — это объединение строк в одну с помощью оператора `+`.\n",
    "\n",
    "**Примеры:**"
   ]
  },
  {
   "cell_type": "code",
   "execution_count": null,
   "id": "476262f8",
   "metadata": {},
   "outputs": [],
   "source": [
    "# Сложение двух строк\n",
    "greeting = \"Hello\" + \"World\"\n",
    "print(greeting)  # HelloWorld (без пробела!)"
   ]
  },
  {
   "cell_type": "code",
   "execution_count": null,
   "id": "06d7d604",
   "metadata": {},
   "outputs": [],
   "source": [
    "# Добавление пробела вручную\n",
    "greeting_space = \"Hello \" + \"World\"\n",
    "print(greeting_space)  # Hello World\n"
   ]
  },
  {
   "cell_type": "code",
   "execution_count": null,
   "id": "4d824d63",
   "metadata": {},
   "outputs": [],
   "source": [
    "# Сложение строк и переменных\n",
    "name = \"Alice\"\n",
    "message = \"Hello, \" + name\n",
    "print(message)  # Hello, Alice\n"
   ]
  },
  {
   "cell_type": "markdown",
   "id": "6092ca11",
   "metadata": {},
   "source": [
    "**Важно:**\n",
    "- Нельзя складывать строки с числами напрямую:\n",
    "  ```python\n",
    "  # Ошибка: TypeError\n",
    "  age = 25\n",
    "  text = \"Мой возраст: \" + age  # Нужно преобразовать число в строку: str(age)\n",
    "  ```"
   ]
  },
  {
   "cell_type": "code",
   "execution_count": null,
   "id": "533a45bb",
   "metadata": {},
   "outputs": [],
   "source": [
    "# Попробуйте"
   ]
  },
  {
   "cell_type": "markdown",
   "id": "4f923fad",
   "metadata": {},
   "source": [
    "<br>\n",
    "\n",
    "---\n",
    "\n",
    "<br>\n",
    "\n",
    "#### **2. Повторение строк**\n",
    "Оператор `*` позволяет повторить строку указанное количество раз.\n",
    "\n",
    "**Примеры:**"
   ]
  },
  {
   "cell_type": "code",
   "execution_count": null,
   "id": "e5bd744b",
   "metadata": {},
   "outputs": [],
   "source": [
    "# Повторение строки 3 раза\n",
    "stars = \"*\" * 3\n",
    "print(stars)  # ***"
   ]
  },
  {
   "cell_type": "code",
   "execution_count": null,
   "id": "67891b85",
   "metadata": {},
   "outputs": [],
   "source": [
    "\n",
    "# Создание линии из символов\n",
    "line = \"-\" * 20\n",
    "print(line)  # --------------------\n"
   ]
  },
  {
   "cell_type": "code",
   "execution_count": null,
   "id": "43781c67",
   "metadata": {},
   "outputs": [],
   "source": [
    "# Комбинация с конкатенацией\n",
    "text = \"Ha\" * 2 + \"Ho\"\n",
    "print(text)  # HaHaHo"
   ]
  },
  {
   "cell_type": "markdown",
   "id": "92d4cdf4",
   "metadata": {},
   "source": [
    "**Ограничения:**\n",
    "\n",
    "- Число повторений должно быть целым и неотрицательным:\n",
    "- \n",
    "  ```python\n",
    "  valid = \"A\" * 5  # \"AAAAA\"\n",
    "  invalid = \"B\" * 3.5  # Ошибка: TypeError\n",
    "  zero = \"C\" * 0  # Пустая строка \"\"\n",
    "  ```\n"
   ]
  },
  {
   "cell_type": "code",
   "execution_count": null,
   "id": "23b2bd82",
   "metadata": {},
   "outputs": [],
   "source": [
    "# Попробуйте:"
   ]
  },
  {
   "cell_type": "markdown",
   "id": "d7da33bc",
   "metadata": {},
   "source": [
    "<br>\n",
    "\n",
    "---\n",
    "\n",
    "<br>\n",
    "\n",
    "#### **3. Длина строки (функция `len()`)**\n",
    "\n",
    "Функция `len()` возвращает количество символов в строке (включая пробелы, знаки препинания и спецсимволы).\n",
    "\n",
    "**Примеры:**"
   ]
  },
  {
   "cell_type": "code",
   "execution_count": null,
   "id": "3ea27772",
   "metadata": {},
   "outputs": [],
   "source": [
    "# Длина простой строки\n",
    "word = \"Python\"\n",
    "print(len(word))  # 6"
   ]
  },
  {
   "cell_type": "code",
   "execution_count": null,
   "id": "e6ba1091",
   "metadata": {},
   "outputs": [],
   "source": [
    "# Длина строки с пробелами и символами\n",
    "sentence = \"Я изучаю Python!\"\n",
    "print(len(sentence))  # 15 (пробел и '!' тоже считаются)"
   ]
  },
  {
   "cell_type": "code",
   "execution_count": null,
   "id": "a966f28c",
   "metadata": {},
   "outputs": [],
   "source": [
    "# Пустая строка\n",
    "empty = \"\"\n",
    "print(len(empty))  # 0"
   ]
  },
  {
   "cell_type": "markdown",
   "id": "70f23e83",
   "metadata": {},
   "source": [
    "**Особенности:**\n",
    "\n",
    "- Символы кириллицы и латиницы считаются одинаково:\n",
    "  \n",
    "  ```python\n",
    "  print(len(\"Привет\"))  # 6\n",
    "  ```"
   ]
  },
  {
   "cell_type": "code",
   "execution_count": null,
   "id": "a2937fa5",
   "metadata": {},
   "outputs": [],
   "source": [
    "# Попробуйте:"
   ]
  },
  {
   "cell_type": "markdown",
   "id": "9142c4aa",
   "metadata": {},
   "source": [
    "### **Задания к разделу**\n",
    "\n",
    "#### **Задание 1: Конкатенация**\n",
    "1. Создайте две переменные: `first_name = \"Иван\"` и `last_name = \"Петров\"`.\n",
    "2. Объедините их в одну строку с пробелом между именем и фамилией.\n",
    "3. Выведите результат в формате: `\"Имя: Иван Петров\"`.\n",
    "\n",
    "**Пример решения:**\n",
    "```python\n",
    "first_name = \"Иван\"\n",
    "last_name = \"Петров\"\n",
    "full_name = first_name + \" \" + last_name\n",
    "print(\"Имя: \" + full_name)  # Имя: Иван Петров\n",
    "```\n"
   ]
  },
  {
   "cell_type": "code",
   "execution_count": null,
   "id": "8822ef98",
   "metadata": {},
   "outputs": [],
   "source": [
    "# Ваше решение:"
   ]
  },
  {
   "cell_type": "markdown",
   "id": "ecb52871",
   "metadata": {},
   "source": [
    "#### **Задание 2: Повторение строк**\n",
    "\n",
    "1. Создайте строку `symbol = \"+-\"`.\n",
    "2. Повторите ее 5 раз, чтобы получить `\"+-+-+-+--+-\"`.\n",
    "3. Выведите результат.\n",
    "\n",
    "**Пример решения:**\n",
    "```python\n",
    "symbol = \"+-\"\n",
    "result = symbol * 5\n",
    "print(result)  # +-+-+-+-+-+-\n",
    "```\n"
   ]
  },
  {
   "cell_type": "code",
   "execution_count": null,
   "id": "d4222342",
   "metadata": {},
   "outputs": [],
   "source": [
    "# Ваше решение:"
   ]
  },
  {
   "cell_type": "markdown",
   "id": "9f56b5fe",
   "metadata": {},
   "source": [
    "#### **Задание 3: Длина строки**\n",
    "\n",
    "1. Попросите пользователя ввести пароль через `input()`.\n",
    "2. Проверьте длину пароля. Если она меньше 8 символов, выведите: \"Пароль слишком короткий!\".\n",
    "3. Пример:\n",
    "   ```python\n",
    "   password = input(\"Введите пароль: \")\n",
    "   if len(password) < 8:\n",
    "       print(\"Пароль слишком короткий!\")\n",
    "   ```\n"
   ]
  },
  {
   "cell_type": "code",
   "execution_count": null,
   "id": "bf24f0c9",
   "metadata": {},
   "outputs": [],
   "source": [
    "# Ваше решение:"
   ]
  },
  {
   "cell_type": "markdown",
   "id": "a64821c2",
   "metadata": {},
   "source": [
    "#### **Задание 4: Комбинирование операций**\n",
    "\n",
    "Создайте строку, которая повторяет слово \"Wow\" 3 раза, а затем добавляет к ней восклицательный знак.  \n",
    "Выведите результат и его длину.  \n",
    "\n",
    "**Пример вывода:**  \n",
    "```\n",
    "WowWowWow! \n",
    "Длина: 10\n",
    "```\n",
    "\n",
    "**Решение:**\n",
    "```python\n",
    "text = \"Wow\" * 3 + \"!\"\n",
    "print(text)\n",
    "print(\"Длина:\", len(text))\n",
    "```"
   ]
  },
  {
   "cell_type": "code",
   "execution_count": null,
   "id": "7f652fa8",
   "metadata": {},
   "outputs": [],
   "source": [
    "# Ваше решение:"
   ]
  },
  {
   "cell_type": "markdown",
   "id": "cd592e89",
   "metadata": {},
   "source": [
    "#### **Задание 5 (продвинутое): Генератор границ**\n",
    "\n",
    "Напишите код, который создает \"рамку\" вокруг текста.  \n",
    "Пример для текста `\"Hello\"`:  \n",
    "```\n",
    "*************\n",
    "*   Hello   *\n",
    "*************\n",
    "```\n",
    "\n",
    "**Подсказка:**  \n",
    "1. Создайте строку `border = \"*\" * (len(text) + 6)`.\n",
    "2. Используйте форматирование или конкатенацию для строки с текстом.\n",
    "\n",
    "**Решение:**\n",
    "```python\n",
    "text = \"Hello\"\n",
    "border = \"*\" * (len(text) + 6)\n",
    "middle = \"*  \" + text + \"  *\"\n",
    "print(border)\n",
    "print(middle)\n",
    "print(border)\n",
    "```\n"
   ]
  },
  {
   "cell_type": "code",
   "execution_count": null,
   "id": "1b4e3b04",
   "metadata": {},
   "outputs": [],
   "source": [
    "# Ваше решение:"
   ]
  },
  {
   "cell_type": "markdown",
   "id": "bbf60962",
   "metadata": {},
   "source": [
    "---\n",
    "\n",
    "### **Проверь себя**\n",
    "1. Что выведет этот код?\n",
    "   ```python\n",
    "   a = \"12\"\n",
    "   b = \"34\"\n",
    "   print(a + b * 2)\n",
    "   \n",
    "   ```\n",
    "   **Ответ:** `123434` (сначала выполняется повторение, потом сложение)."
   ]
  },
  {
   "cell_type": "code",
   "execution_count": null,
   "id": "01d398f7",
   "metadata": {},
   "outputs": [],
   "source": [
    "# Проверь:"
   ]
  },
  {
   "cell_type": "markdown",
   "id": "a53c25c6",
   "metadata": {},
   "source": [
    "2. Как получить строку `\"AAAAA\"` с помощью оператора `*`?  \n",
    "   \n",
    "   **Ответ:** `\"A\" * 5`.\n"
   ]
  },
  {
   "cell_type": "code",
   "execution_count": null,
   "id": "20f14d06",
   "metadata": {},
   "outputs": [],
   "source": [
    "# Проверь:"
   ]
  },
  {
   "cell_type": "markdown",
   "id": "d456bcdc",
   "metadata": {},
   "source": [
    "3. Исправьте ошибку:\n",
    "   ```python\n",
    "   text = \"Привет\" + 100\n",
    "   ```\n",
    "   **Решение:**  \n",
    "   ```python\n",
    "   text = \"Привет\" + str(100)\n",
    "   ```\n"
   ]
  },
  {
   "cell_type": "code",
   "execution_count": null,
   "id": "ee6ec1b5",
   "metadata": {},
   "outputs": [],
   "source": [
    "# Проверь:"
   ]
  },
  {
   "cell_type": "markdown",
   "id": "00368cb9",
   "metadata": {},
   "source": [
    "---\n",
    "\n",
    "### **Распространенные ошибки !**\n",
    "\n",
    "- **Сложение строк и чисел:** Всегда преобразовывайте числа в строки через `str()`.\n",
    "  \n",
    "- **Путаница с пробелами:** При конкатенации добавляйте пробелы вручную: `\"Hello\" + \" \" + \"World\"`.\n",
    "  \n",
    "- **Неправильный порядок операций:** Умножение выполняется перед сложением (если нет скобок).\n",
    "\n",
    "<br>\n",
    "\n",
    "Переходите к следующему разделу, когда будете готовы. 😊\n",
    "\n",
    "<br>"
   ]
  },
  {
   "cell_type": "markdown",
   "id": "ada0ab20",
   "metadata": {},
   "source": [
    "---"
   ]
  },
  {
   "cell_type": "markdown",
   "id": "f3219bc2",
   "metadata": {},
   "source": [
    "<br>\n",
    "\n",
    "# 📋 **3. Индексация и срезы (Slicing)**\n",
    "Работа с отдельными символами и подстроками — важная часть программирования. В Python это делается через индексы и срезы.\n",
    "\n",
    "---\n",
    "\n",
    "#### **1. Индексация символов**\n",
    "\n",
    "Каждый символ в строке имеет свой индекс (номер), начиная с **0**.  \n",
    "\n",
    "    'P y t h o n'\n",
    "     012345678910 "
   ]
  },
  {
   "cell_type": "markdown",
   "id": "f1ddc3ee",
   "metadata": {},
   "source": [
    "**Пример:** "
   ]
  },
  {
   "cell_type": "code",
   "execution_count": null,
   "id": "7cfca2af",
   "metadata": {},
   "outputs": [],
   "source": [
    "text = \"P y t h o n\"\n",
    "print(text[0])  # P\n",
    "print(text[10])  # n"
   ]
  },
  {
   "cell_type": "code",
   "execution_count": null,
   "id": "d85ed004",
   "metadata": {},
   "outputs": [],
   "source": [
    "# Попробуй:\n"
   ]
  },
  {
   "cell_type": "markdown",
   "id": "935e414a",
   "metadata": {},
   "source": [
    "- **Отрицательные индексы** позволяют отсчитывать символы с конца строки :\n",
    "  \n",
    "```python\n",
    "'P y t h o n'\n",
    "\n",
    "   ...-3-2-1\n",
    "``` "
   ]
  },
  {
   "cell_type": "code",
   "execution_count": null,
   "id": "bad394eb",
   "metadata": {},
   "outputs": [],
   "source": [
    "text = \"P y t h o n\"\n",
    "print(text[-1])  # т (последний символ)\n",
    "print(text[-3])  # о  (третий с конца)"
   ]
  },
  {
   "cell_type": "code",
   "execution_count": null,
   "id": "2ba6604f",
   "metadata": {},
   "outputs": [],
   "source": [
    "# Попробуй:"
   ]
  },
  {
   "cell_type": "markdown",
   "id": "d581efb4",
   "metadata": {},
   "source": [
    "<br>\n",
    "\n",
    "---\n",
    "\n",
    "#### **2. Срезы (slicing)**\n",
    "\n",
    "Синтаксис: `строка[start:end:step]`, где:\n",
    "\n",
    "- `start` — начальный индекс (включительно),\n",
    "  \n",
    "- `end` — конечный индекс (не включается),\n",
    "  \n",
    "- `step` — шаг (по умолчанию 1).\n",
    "\n",
    "**Примеры:**"
   ]
  },
  {
   "cell_type": "code",
   "execution_count": null,
   "id": "472894a1",
   "metadata": {},
   "outputs": [],
   "source": [
    "text = \"ABCDEFGHIJKL\"\n",
    "print(text[2:5])    # CDE (символы с индексами 2, 3, 4)\n",
    "print(text[:4])     # ABCD (от начала до индекса 3)\n",
    "print(text[6:])     # GHIJKL (с индекса 6 до конца)\n",
    "print(text[::2])    # ACEGIK (каждый второй символ)\n",
    "print(text[::-1])   # LKJIHGFEDCBA (реверс строки)"
   ]
  },
  {
   "cell_type": "markdown",
   "id": "a9a83468",
   "metadata": {},
   "source": [
    "<br>\n",
    "\n",
    "---\n",
    "\n",
    "#### **Особенности срезов**\n",
    "\n",
    "- Если `start` не указан — наша индексация начинается с 0.\n",
    "  \n",
    "- Если `end` не указан — то наша индексация идет до конца строки.\n",
    "  \n",
    "- Отрицательные значения в `start` и `end`:\n",
    "  \n",
    "  ```python\n",
    "  text = \"abcdef\"\n",
    "  print(text[-5:-2])  # bcd (индексы -5, -4, -3)\n",
    "  ```\n"
   ]
  },
  {
   "cell_type": "code",
   "execution_count": null,
   "id": "1940f989",
   "metadata": {},
   "outputs": [],
   "source": [
    "text = \"abcdef\"\n",
    "print(text[-5:-2])  # bcd (индексы -5, -4, -3)"
   ]
  },
  {
   "cell_type": "markdown",
   "id": "c21c49d4",
   "metadata": {},
   "source": [
    "### **Примеры:**"
   ]
  },
  {
   "cell_type": "code",
   "execution_count": null,
   "id": "ca5d1038",
   "metadata": {},
   "outputs": [],
   "source": [
    "word = \"ПРИВЕТ\"\n",
    "\n",
    "# Первый символ\n",
    "print(word[0])    # П"
   ]
  },
  {
   "cell_type": "code",
   "execution_count": null,
   "id": "ca90af59",
   "metadata": {},
   "outputs": [],
   "source": [
    "# Последний символ через отрицательный индекс\n",
    "print(word[-1])   # Т"
   ]
  },
  {
   "cell_type": "code",
   "execution_count": null,
   "id": "073e1868",
   "metadata": {},
   "outputs": [],
   "source": [
    "# Срез с 2-го до 5-го символа (индексы 2, 3, 4)\n",
    "print(word[2:5])  # ИВЕ"
   ]
  },
  {
   "cell_type": "code",
   "execution_count": null,
   "id": "193e2c78",
   "metadata": {},
   "outputs": [],
   "source": [
    "# Каждый второй символ с начала до конца\n",
    "print(word[::2])  # ПИЕ"
   ]
  },
  {
   "cell_type": "code",
   "execution_count": null,
   "id": "cc817262",
   "metadata": {},
   "outputs": [],
   "source": [
    "# Реверс строки\n",
    "print(word[::-1]) # ТЕВИРП"
   ]
  },
  {
   "cell_type": "code",
   "execution_count": null,
   "id": "8b59fdf9",
   "metadata": {},
   "outputs": [],
   "source": [
    "# Попробуйте:\n",
    "\n"
   ]
  },
  {
   "cell_type": "markdown",
   "id": "f8747348",
   "metadata": {},
   "source": [
    "---\n",
    "\n",
    "### **Задания к разделу**"
   ]
  },
  {
   "cell_type": "markdown",
   "id": "c3612baf",
   "metadata": {},
   "source": [
    "#### **Задание 1: Индексация**\n",
    "\n",
    "1. Создайте строку: `text = \"Съешь ещё этих мягких французских булок\"`.\n",
    "   \n",
    "2. Выведите:\n",
    "   - Первый символ.\n",
    "   - Последний символ.\n",
    "   - Символ с индексом 5.\n",
    "\n",
    "**Пример решения:**\n",
    "```python\n",
    "text = \"Съешь ещё этих мягких французских булок\"\n",
    "print(text[0])    # С\n",
    "print(text[-1])   # к\n",
    "print(text[5])    # ' ' (пробел)\n",
    "```"
   ]
  },
  {
   "cell_type": "code",
   "execution_count": null,
   "id": "3c14bb51",
   "metadata": {},
   "outputs": [],
   "source": [
    "# Ваше решение:"
   ]
  },
  {
   "cell_type": "markdown",
   "id": "01143690",
   "metadata": {},
   "source": [
    "#### **Задание 2: Срезы**\n",
    "\n",
    "Из строки `text = \"ABCDEFGHIJKL\"` получите:\n",
    "1. Подстроку `\"EFG\"`.\n",
    "2. Подстроку `\"HJL\"` (используйте шаг).\n",
    "3. Реверс всей строки.\n",
    "\n",
    "**Решение:**\n",
    "```python\n",
    "text = \"ABCDEFGHIJKL\"\n",
    "print(text[4:7])      # EFG\n",
    "print(text[7::2])     # H J L (шаг 2, индексы 7, 9, 11)\n",
    "print(text[::-1])     # LKJIHGFEDCBA\n",
    "```\n"
   ]
  },
  {
   "cell_type": "code",
   "execution_count": null,
   "id": "e21cffb4",
   "metadata": {},
   "outputs": [],
   "source": [
    "# Ваше решение:"
   ]
  },
  {
   "cell_type": "markdown",
   "id": "1bcee742",
   "metadata": {},
   "source": [
    "#### **Задание 3: Отрицательные индексы в срезах**\n",
    "\n",
    "Дана строка: `text = \"Hello, World!\"`\n",
    "1. Используя отрицательные индексы, получите подстроку `\"World\"`.\n",
    "2. Выведите последние 3 символа.\n",
    "\n",
    "**Решение:**\n",
    "```python\n",
    "text = \"Hello, World!\"\n",
    "print(text[-6:-1])    # World (индексы -6 до -1)\n",
    "print(text[-3:])      # ld!\n",
    "```"
   ]
  },
  {
   "cell_type": "code",
   "execution_count": null,
   "id": "5180f6d7",
   "metadata": {},
   "outputs": [],
   "source": [
    "# Ваше решение:"
   ]
  },
  {
   "cell_type": "markdown",
   "id": "7e054b72",
   "metadata": {},
   "source": [
    "\n",
    "#### **Задание 4: Шаг в срезах**\n",
    "\n",
    "Из строки `text = \"123456789\"` получите:\n",
    "1. Все четные числа: `\"2468\"`.\n",
    "2. Числа в обратном порядке: `\"987654321\"`.\n",
    "\n",
    "**Решение:**\n",
    "```python\n",
    "text = \"123456789\"\n",
    "print(text[1::2])     # Индексы 1,3,5,7 → \"2468\"\n",
    "print(text[::-1])     # Реверс\n",
    "```\n"
   ]
  },
  {
   "cell_type": "code",
   "execution_count": null,
   "id": "08238071",
   "metadata": {},
   "outputs": [],
   "source": [
    "# Ваше решение:"
   ]
  },
  {
   "cell_type": "markdown",
   "id": "ac575bcf",
   "metadata": {},
   "source": [
    "\n",
    "#### **Задание 5 (продвинутое): Палиндром**\n",
    "\n",
    "Напишите код, который проверяет, является ли строка **палиндромом** (читается одинаково слева направо и справа налево).  \n",
    "Примеры палиндромов: \"топот\", \"madam\".  \n",
    "\n",
    "**Подсказка:** Используйте срез `[::-1]`.\n",
    "\n",
    "**Решение:**\n",
    "```python\n",
    "word = \"топот\"\n",
    "is_palindrome = word == word[::-1]\n",
    "print(\"Палиндром?\" , is_palindrome)  # True\n",
    "```\n"
   ]
  },
  {
   "cell_type": "code",
   "execution_count": null,
   "id": "7752fb9f",
   "metadata": {},
   "outputs": [],
   "source": [
    "# Ваше решение:"
   ]
  },
  {
   "cell_type": "markdown",
   "id": "cd6df334",
   "metadata": {},
   "source": [
    "### **Проверь себя**\n",
    "\n",
    "1. Что выведет этот код?\n",
    "   ```python\n",
    "   text = \"abcdef\"\n",
    "   print(text[1:-1:2])\n",
    "   ```\n",
    "   **Ответ:** `\"bd\"` (индексы 1, 3).\n"
   ]
  },
  {
   "cell_type": "code",
   "execution_count": null,
   "id": "985a0991",
   "metadata": {},
   "outputs": [],
   "source": [
    "# Проверь решение:"
   ]
  },
  {
   "cell_type": "markdown",
   "id": "23d715c9",
   "metadata": {},
   "source": [
    "2. Как получить подстроку `\"Python\"` из строки `\"I love Python!\"`?  \n",
    "   **Ответ:** `text[7:-1]`."
   ]
  },
  {
   "cell_type": "code",
   "execution_count": null,
   "id": "cd63660d",
   "metadata": {},
   "outputs": [],
   "source": [
    "# Проверь решение:"
   ]
  },
  {
   "cell_type": "markdown",
   "id": "eacd1766",
   "metadata": {},
   "source": [
    "3. Исправьте ошибку:\n",
    "   ```python\n",
    "   text = \"Hello\"\n",
    "   print(text[5])\n",
    "   ```\n",
    "   **Ответ:** Индекс 5 выходит за границы строки (максимальный индекс 4). Нужно использовать `text[4]` или `text[-1]`.\n"
   ]
  },
  {
   "cell_type": "code",
   "execution_count": null,
   "id": "d60514aa",
   "metadata": {},
   "outputs": [],
   "source": [
    "# Проверь решение:"
   ]
  },
  {
   "cell_type": "markdown",
   "id": "ad1155f7",
   "metadata": {},
   "source": [
    "\n",
    "### **Распространенные ошибки !**\n",
    "\n",
    "- **Выход за границы индексов:** `IndexError`, если индекс больше длины строки.\n",
    "  \n",
    "- **Путаница с `end` в срезах:** Помните, что `end` не включается.\n",
    "  \n",
    "- **Сложные шаги:** Шаг `-1` используется для реверса, шаг `2` — для пропуска символов.\n",
    "\n",
    "<br>\n",
    "\n",
    "---\n",
    "\n",
    "<br>"
   ]
  },
  {
   "cell_type": "markdown",
   "id": "d5258ee3",
   "metadata": {},
   "source": [
    "# **4. Методы строк**\n",
    "\n",
    "Методы строк — это встроенные функции, которые позволяют манипулировать строками. Поскольку строки в Python **неизменяемы**, методы возвращают новые строки, не изменяя исходные. Рассмотрим ключевые методы с примерами."
   ]
  },
  {
   "cell_type": "markdown",
   "id": "4c6f175a",
   "metadata": {},
   "source": [
    "---"
   ]
  },
  {
   "cell_type": "markdown",
   "id": "31d5a9c5",
   "metadata": {},
   "source": [
    "### 📋 Таблица методов строк (1–29)\n",
    "\n",
    "| №  | Метод                  | Назначение                                                                 |\n",
    "|----|------------------------|----------------------------------------------------------------------------|\n",
    "| 1  | `upper()`              | Преобразует все символы в верхний регистр.                                 |\n",
    "| 2  | `lower()`              | Преобразует все символы в нижний регистр.                                  |\n",
    "| 3  | `title()`              | Делает первую букву каждого слова заглавной.                              |\n",
    "| 4  | `replace(old, new)`    | Заменяет все вхождения подстроки `old` на `new`.                           |\n",
    "| 5  | `split()`              | Разбивает строку на список по разделителю.                                 |\n",
    "| 6  | `join()`               | Объединяет список в строку через разделитель.                             |\n",
    "| 7  | `strip()`              | Удаляет пробелы и спецсимволы с обоих концов строки.                      |\n",
    "| 8  | `startswith()`         | Проверяет, начинается ли строка с указанной подстроки.                    |\n",
    "| 9  | `endswith()`           | Проверяет, заканчивается ли строка указанной подстрокой.                  |\n",
    "| 10 | `find()`               | Возвращает индекс первого вхождения подстроки (или `-1`).                 |\n",
    "| 11 | `index()`              | Возвращает индекс первого вхождения подстроки (вызывает ошибку).          |\n",
    "| 12 | `count()`              | Подсчитывает количество вхождений подстроки.                              |\n",
    "| 13 | `capitalize()`         | Делает первую букву строки заглавной, остальные — строчными.              |\n",
    "| 14 | `casefold()`           | Агрессивное приведение к нижнему регистру (Unicode).                      |\n",
    "| 15 | `center(width)`        | Центрирует строку, добавляя пробелы до указанной ширины.                  |\n",
    "| 16 | `encode()`             | Преобразует строку в байты (кодировка по умолчанию: `utf-8`).             |\n",
    "| 17 | `expandtabs()`         | Заменяет символы табуляции (`\\t`) на пробелы.                             |\n",
    "| 18 | `format()`             | Форматирует строку, подставляя значения по шаблону.                       |\n",
    "| 19 | `isdigit()`            | Проверяет, состоит ли строка только из цифр.                              |\n",
    "| 20 | `isalpha()`            | Проверяет, состоит ли строка только из букв.                              |\n",
    "| 21 | `zfill(width)`         | Дополняет строку нулями слева до указанной длины.                         |\n",
    "| 22 | `swapcase()`           | Меняет регистр всех символов на противоположный.                          |\n",
    "| 23 | `isalnum()`            | Проверяет, состоит ли строка только из букв и цифр.                       |\n",
    "| 24 | `isascii()`            | Проверяет, все ли символы строки являются ASCII-символами.                |\n",
    "| 25 | `isdecimal()`          | Проверяет, состоит ли строка только из десятичных цифр (Unicode).         |\n",
    "| 26 | `isidentifier()`       | Проверяет, может ли строка быть именем переменной.                        |\n",
    "| 27 | `islower()`            | Проверяет, все ли символы строки в нижнем регистре.                       |\n",
    "| 28 | `isprintable()`        | Проверяет, все ли символы строки можно вывести на печать.                 |\n",
    "| 29 | `isspace()`            | Проверяет, состоит ли строка только из пробельных символов.               |\n",
    "| 30 | `rsplit()`             | Разделение строки на список, начиная с конца.                             |\n",
    "| 31 | `rjust(width)`         | Выравнивание строки по правому краю.                                      |\n",
    "| 32 | `splitlines()`         | Разделение строки по переносам строк.                                     |\n",
    "| 33 | `rpartition()`         | Разделение строки по последнему вхождению подстроки.                      |\n",
    "| 34 |`maketrans()` / `translate()` | Создание и применение таблицы замены символов.                      |\n",
    "\n",
    "<br>  \n",
    "\n",
    "**Примеры и задания для этих методов мы рассмотрим ниже:**\n",
    "\n",
    "<br>"
   ]
  },
  {
   "cell_type": "markdown",
   "id": "ebcfebb4",
   "metadata": {},
   "source": [
    "#### **1. `upper()`, `lower()`, `title()`**\n",
    "- **`upper()`**: Преобразует все символы в верхний регистр."
   ]
  },
  {
   "cell_type": "code",
   "execution_count": null,
   "id": "369b8b4e",
   "metadata": {},
   "outputs": [],
   "source": [
    "text = \"Hello, World!\"\n",
    "print(text.upper())  # HELLO, WORLD!"
   ]
  },
  {
   "cell_type": "code",
   "execution_count": null,
   "id": "9739c991",
   "metadata": {},
   "outputs": [],
   "source": [
    "# Проверь решение:"
   ]
  },
  {
   "cell_type": "markdown",
   "id": "5ef727d7",
   "metadata": {},
   "source": [
    "- **`lower()`**: Преобразует все символы в нижний регистр."
   ]
  },
  {
   "cell_type": "code",
   "execution_count": null,
   "id": "5eedf907",
   "metadata": {},
   "outputs": [],
   "source": [
    "text = \"ПРИВЕТ\"\n",
    "print(text.lower())  # привет"
   ]
  },
  {
   "cell_type": "code",
   "execution_count": null,
   "id": "9b6a9373",
   "metadata": {},
   "outputs": [],
   "source": [
    "# Проверь решение:"
   ]
  },
  {
   "cell_type": "markdown",
   "id": "67ff731e",
   "metadata": {},
   "source": [
    "- **`title()`**: Делает первую букву каждого слова заглавной."
   ]
  },
  {
   "cell_type": "code",
   "execution_count": null,
   "id": "f23d9168",
   "metadata": {},
   "outputs": [],
   "source": [
    "text = \"python is awesome\"\n",
    "print(text.title())  # Python Is Awesome"
   ]
  },
  {
   "cell_type": "code",
   "execution_count": null,
   "id": "879ddc27",
   "metadata": {},
   "outputs": [],
   "source": [
    "# Проверь решение:"
   ]
  },
  {
   "cell_type": "markdown",
   "id": "45afc707",
   "metadata": {},
   "source": [
    "<br>\n",
    "\n",
    "---\n",
    "\n",
    "#### **2. `replace(old, new)`**\n",
    "Заменяет все вхождения подстроки `old` на `new`."
   ]
  },
  {
   "cell_type": "code",
   "execution_count": null,
   "id": "3e9627d7",
   "metadata": {},
   "outputs": [],
   "source": [
    "text = \"Я люблю Java\"\n",
    "new_text = text.replace(\"Java\", \"Python\")\n",
    "print(new_text)  # Я люблю Python"
   ]
  },
  {
   "cell_type": "code",
   "execution_count": null,
   "id": "10df2df2",
   "metadata": {},
   "outputs": [],
   "source": [
    "# Проверь решение:"
   ]
  },
  {
   "cell_type": "markdown",
   "id": "b4fe66aa",
   "metadata": {},
   "source": [
    "- Можно указать максимальное количество замен:"
   ]
  },
  {
   "cell_type": "code",
   "execution_count": null,
   "id": "ff6bd16e",
   "metadata": {},
   "outputs": [],
   "source": [
    "text = \"aaaabbaaa\"\n",
    "print(text.replace(\"a\", \"X\", 3))  # XXXabbaaa"
   ]
  },
  {
   "cell_type": "code",
   "execution_count": null,
   "id": "cfd101d2",
   "metadata": {},
   "outputs": [],
   "source": [
    "# Проверь решение:"
   ]
  },
  {
   "cell_type": "markdown",
   "id": "d907ecab",
   "metadata": {},
   "source": [
    "<br>\n",
    "\n",
    "---\n",
    "\n",
    "#### **3. `split()` и `join()`**\n",
    "\n",
    "- **`split()`**: Разбивает строку на список подстрок по указанному разделителю (по умолчанию — пробел).\n",
    "  "
   ]
  },
  {
   "cell_type": "code",
   "execution_count": null,
   "id": "554956dd",
   "metadata": {},
   "outputs": [],
   "source": [
    "text = \"Python,Java,C++\"\n",
    "print(text.split(\",\"))  # ['Python', 'Java', 'C++']\n",
    "\n",
    "sentence = \"Это пример предложения\"\n",
    "print(sentence.split())  # ['Это', 'пример', 'предложения']"
   ]
  },
  {
   "cell_type": "code",
   "execution_count": null,
   "id": "b5bed3b3",
   "metadata": {},
   "outputs": [],
   "source": [
    "# Проверь решение:"
   ]
  },
  {
   "cell_type": "markdown",
   "id": "606ad0dc",
   "metadata": {},
   "source": [
    "- **`join()`**: Объединяет элементы списка в строку, используя текущую строку как разделитель."
   ]
  },
  {
   "cell_type": "code",
   "execution_count": null,
   "id": "5fc1567d",
   "metadata": {},
   "outputs": [],
   "source": [
    "words = [\"Hello\", \"World\"]\n",
    "print(\"-\".join(words))  # Hello-World"
   ]
  },
  {
   "cell_type": "code",
   "execution_count": null,
   "id": "5508f204",
   "metadata": {},
   "outputs": [],
   "source": [
    "# Проверь решение:"
   ]
  },
  {
   "cell_type": "markdown",
   "id": "b096331f",
   "metadata": {},
   "source": [
    "<br>\n",
    "\n",
    "---\n",
    "\n",
    "#### **4. `strip()`, `lstrip()`, `rstrip()`**\n",
    "\n",
    "Удаляют пробельные символы (пробелы, `\\n`, `\\t`) с обоих концов строки, только слева или только справа."
   ]
  },
  {
   "cell_type": "code",
   "execution_count": null,
   "id": "61afc057",
   "metadata": {},
   "outputs": [],
   "source": [
    "text = \"   Hello!   \"\n",
    "print(text.strip())   # \"Hello!\"\n",
    "print(text.lstrip())  # \"Hello!   \"\n",
    "print(text.rstrip())  # \"   Hello!\""
   ]
  },
  {
   "cell_type": "code",
   "execution_count": null,
   "id": "48c2b98a",
   "metadata": {},
   "outputs": [],
   "source": [
    "# Проверь решение:"
   ]
  },
  {
   "cell_type": "markdown",
   "id": "6b6db044",
   "metadata": {},
   "source": [
    "- Можно указать символы для удаления:"
   ]
  },
  {
   "cell_type": "code",
   "execution_count": null,
   "id": "2be5ce70",
   "metadata": {},
   "outputs": [],
   "source": [
    "text = \"###Строка###\"\n",
    "print(text.strip(\"#\"))  # Строка"
   ]
  },
  {
   "cell_type": "code",
   "execution_count": null,
   "id": "dec44015",
   "metadata": {},
   "outputs": [],
   "source": [
    "# Проверь решение:"
   ]
  },
  {
   "cell_type": "markdown",
   "id": "30fb125e",
   "metadata": {},
   "source": [
    "<br>\n",
    "\n",
    "---\n",
    "\n",
    "#### **5. `startswith()` и `endswith()`**\n",
    "\n",
    "Проверяют, начинается или заканчивается ли строка с указанной подстроки."
   ]
  },
  {
   "cell_type": "code",
   "execution_count": null,
   "id": "e38bb2d0",
   "metadata": {},
   "outputs": [],
   "source": [
    "text = \"example.txt\"\n",
    "print(text.startswith(\"ex\"))  # True\n",
    "print(text.endswith(\".txt\"))  # True"
   ]
  },
  {
   "cell_type": "code",
   "execution_count": null,
   "id": "acc4a881",
   "metadata": {},
   "outputs": [],
   "source": [
    "# Проверь решение:"
   ]
  },
  {
   "cell_type": "markdown",
   "id": "ec30385c",
   "metadata": {},
   "source": [
    "<br>\n",
    "\n",
    "---\n",
    "\n",
    "#### **6. `find()` и `index()`**\n",
    "\n",
    "- **`find(sub)`**: Возвращает индекс первого вхождения подстроки `sub`. Если подстрока не найдена, возвращает `-1`."
   ]
  },
  {
   "cell_type": "code",
   "execution_count": null,
   "id": "7ff5a9e6",
   "metadata": {},
   "outputs": [],
   "source": [
    "text = \"Hello, World!\"\n",
    "print(text.find(\"o\"))    # 4\n",
    "print(text.find(\"xyz\"))  # -1"
   ]
  },
  {
   "cell_type": "code",
   "execution_count": null,
   "id": "f5a7cfc0",
   "metadata": {},
   "outputs": [],
   "source": [
    "# Проверь решение:"
   ]
  },
  {
   "cell_type": "markdown",
   "id": "f9a28374",
   "metadata": {},
   "source": [
    "- **`index(sub)`**: Аналогичен `find()`, но вызывает ошибку `ValueError`, если подстрока не найдена."
   ]
  },
  {
   "cell_type": "code",
   "execution_count": null,
   "id": "37cdb68b",
   "metadata": {},
   "outputs": [],
   "source": [
    "text = \"Python\"\n",
    "print(text.index(\"th\"))  # 2\n",
    "# text.index(\"x\")  # Ошибка!"
   ]
  },
  {
   "cell_type": "code",
   "execution_count": null,
   "id": "baa9ff5e",
   "metadata": {},
   "outputs": [],
   "source": [
    "# Проверь решение:"
   ]
  },
  {
   "cell_type": "markdown",
   "id": "655a5e29",
   "metadata": {},
   "source": [
    "<br>\n",
    "\n",
    "---\n",
    "\n",
    "#### **7. `count(sub)`**\n",
    "\n",
    "Подсчитывает количество непересекающихся вхождений подстроки `sub` в строку."
   ]
  },
  {
   "cell_type": "code",
   "execution_count": null,
   "id": "e268a41a",
   "metadata": {},
   "outputs": [],
   "source": [
    "text = \"балалайка\"\n",
    "print(text.count(\"ла\"))  # 2"
   ]
  },
  {
   "cell_type": "code",
   "execution_count": null,
   "id": "79c51a26",
   "metadata": {},
   "outputs": [],
   "source": [
    "# Проверь решение:"
   ]
  },
  {
   "cell_type": "markdown",
   "id": "fb9f829c",
   "metadata": {},
   "source": [
    "<br>\n",
    "\n",
    "---\n",
    "\n",
    "### **Примеры комбинирования методов**"
   ]
  },
  {
   "cell_type": "code",
   "execution_count": null,
   "id": "197c97d7",
   "metadata": {},
   "outputs": [],
   "source": [
    "# Удалить пробелы и привести к нижнему регистру\n",
    "text = \"  ПРИМЕР ТЕКСТА  \"\n",
    "clean_text = text.strip().lower()\n",
    "print(clean_text)  # пример текста\n",
    "\n",
    "# Заменить символы и разбить на список\n",
    "data = \"1,2,3,4,5\"\n",
    "numbers = data.replace(\" \", \"\").split(\",\")\n",
    "print(numbers)  # ['1', '2', '3', '4', '5']"
   ]
  },
  {
   "cell_type": "code",
   "execution_count": null,
   "id": "04d57363",
   "metadata": {},
   "outputs": [],
   "source": [
    "# Приведи свой пример:"
   ]
  },
  {
   "cell_type": "markdown",
   "id": "46a4efd9",
   "metadata": {},
   "source": [
    "<br>\n",
    "\n",
    "---\n",
    "\n",
    "#### **8. `capitalize()`**\n",
    "\n",
    "Делает первую букву строки заглавной, остальные — строчными."
   ]
  },
  {
   "cell_type": "code",
   "execution_count": null,
   "id": "0d17e140",
   "metadata": {},
   "outputs": [],
   "source": [
    "print(\"harry\".capitalize())  # Harry"
   ]
  },
  {
   "cell_type": "code",
   "execution_count": null,
   "id": "64ff1ee3",
   "metadata": {},
   "outputs": [],
   "source": [
    "# Проверь решение:"
   ]
  },
  {
   "cell_type": "markdown",
   "id": "8060ec0c",
   "metadata": {},
   "source": [
    "<br>\n",
    "\n",
    "---\n",
    "\n",
    "#### **9. `casefold()`**\n",
    "Агрессивное приведение к нижнему регистру (работает с Unicode, включая символы типа `ß` → `ss`)."
   ]
  },
  {
   "cell_type": "code",
   "execution_count": null,
   "id": "7b6a7d71",
   "metadata": {},
   "outputs": [],
   "source": [
    "print(\"Hello Harry\".casefold())  # hello harry"
   ]
  },
  {
   "cell_type": "code",
   "execution_count": null,
   "id": "5d0ff89a",
   "metadata": {},
   "outputs": [],
   "source": [
    "# Проверь решение:"
   ]
  },
  {
   "cell_type": "markdown",
   "id": "e454c2a6",
   "metadata": {},
   "source": [
    "<br>\n",
    "\n",
    "---\n",
    "\n",
    "#### **10. `center(width)`**\n",
    "Центрирует строку, добавляя пробелы до указанной ширины."
   ]
  },
  {
   "cell_type": "code",
   "execution_count": null,
   "id": "1036e540",
   "metadata": {},
   "outputs": [],
   "source": [
    "print(\"hello World\".center(20))  #     hello World   "
   ]
  },
  {
   "cell_type": "code",
   "execution_count": null,
   "id": "8b56ea37",
   "metadata": {},
   "outputs": [],
   "source": [
    "# Проверь решение:"
   ]
  },
  {
   "cell_type": "markdown",
   "id": "017bc188",
   "metadata": {},
   "source": [
    "<br>\n",
    "\n",
    "---\n",
    "\n",
    "#### **11. `encode(encoding='utf-8')`**\n",
    "Преобразует строку в байты с указанной кодировкой."
   ]
  },
  {
   "cell_type": "code",
   "execution_count": null,
   "id": "565260b2",
   "metadata": {},
   "outputs": [],
   "source": [
    "print(\"hello World\".encode())  # b'hello World'"
   ]
  },
  {
   "cell_type": "code",
   "execution_count": null,
   "id": "98abf7dc",
   "metadata": {},
   "outputs": [],
   "source": [
    "# Проверь решение:"
   ]
  },
  {
   "cell_type": "markdown",
   "id": "d2bfb626",
   "metadata": {},
   "source": [
    "<br>\n",
    "\n",
    "---\n",
    "\n",
    "#### **12. `expandtabs(tabsize=8)`**\n",
    "Заменяет символы табуляции (`\\t`) на пробелы."
   ]
  },
  {
   "cell_type": "code",
   "execution_count": null,
   "id": "00e50dbd",
   "metadata": {},
   "outputs": [],
   "source": [
    "print(\"H\\te\\tl\\tl\\to\".expandtabs(2))  # H e l l o"
   ]
  },
  {
   "cell_type": "code",
   "execution_count": null,
   "id": "523cae9b",
   "metadata": {},
   "outputs": [],
   "source": [
    "# Проверь решение:"
   ]
  },
  {
   "cell_type": "markdown",
   "id": "758e57de",
   "metadata": {},
   "source": [
    "<br>\n",
    "\n",
    "---\n",
    "\n",
    "#### **13. `format()`**\n",
    "Форматирует строку, подставляя значения по шаблону."
   ]
  },
  {
   "cell_type": "code",
   "execution_count": null,
   "id": "1b96ca10",
   "metadata": {},
   "outputs": [],
   "source": [
    "print(\"{price:.2f}$\".format(price=49))  # 49.00$"
   ]
  },
  {
   "cell_type": "code",
   "execution_count": null,
   "id": "01f1a62b",
   "metadata": {},
   "outputs": [],
   "source": [
    "# Проверь решение:"
   ]
  },
  {
   "cell_type": "markdown",
   "id": "c1b25641",
   "metadata": {},
   "source": [
    "<br>\n",
    "\n",
    "---\n",
    "\n",
    "#### **14. `isdigit()`**\n",
    "Проверяет, состоит ли строка только из цифр."
   ]
  },
  {
   "cell_type": "code",
   "execution_count": null,
   "id": "50ebee65",
   "metadata": {},
   "outputs": [],
   "source": [
    "print(\"hello World 20\".isdigit())  # False\n",
    "print(\"12345\".isdigit())           # True"
   ]
  },
  {
   "cell_type": "code",
   "execution_count": null,
   "id": "6687fb59",
   "metadata": {},
   "outputs": [],
   "source": [
    "# Проверь решение:"
   ]
  },
  {
   "cell_type": "markdown",
   "id": "2ae4ddcc",
   "metadata": {},
   "source": [
    "<br>\n",
    "\n",
    "---\n",
    "\n",
    "#### **15. `isalpha()`**\n",
    "Проверяет, состоит ли строка только из букв."
   ]
  },
  {
   "cell_type": "code",
   "execution_count": null,
   "id": "5fb920c0",
   "metadata": {},
   "outputs": [],
   "source": [
    "print(\"Complex\".isalpha())  # True\n",
    "print(\"Hello123\".isalpha()) # False"
   ]
  },
  {
   "cell_type": "code",
   "execution_count": null,
   "id": "a84c815d",
   "metadata": {},
   "outputs": [],
   "source": [
    "# Проверь решение:"
   ]
  },
  {
   "cell_type": "markdown",
   "id": "7ddefa70",
   "metadata": {},
   "source": [
    "<br>\n",
    "\n",
    "---\n",
    "\n",
    "#### **16. `zfill(width)`**\n",
    "Дополняет строку нулями слева до указанной длины."
   ]
  },
  {
   "cell_type": "code",
   "execution_count": null,
   "id": "6ac0b84e",
   "metadata": {},
   "outputs": [],
   "source": [
    "print(\"50\".zfill(10))  # 0000000050"
   ]
  },
  {
   "cell_type": "code",
   "execution_count": null,
   "id": "35d8f993",
   "metadata": {},
   "outputs": [],
   "source": [
    "# Проверь решение:"
   ]
  },
  {
   "cell_type": "markdown",
   "id": "d41b6e37",
   "metadata": {},
   "source": [
    "<br>\n",
    "\n",
    "---\n",
    "\n",
    "#### **17. `swapcase()`**\n",
    "Меняет регистр всех символов на противоположный."
   ]
  },
  {
   "cell_type": "code",
   "execution_count": null,
   "id": "c2615072",
   "metadata": {},
   "outputs": [],
   "source": [
    "print(\"I'm harry\".swapcase())  # i'M HARRY"
   ]
  },
  {
   "cell_type": "code",
   "execution_count": null,
   "id": "4bb0b891",
   "metadata": {},
   "outputs": [],
   "source": [
    "# Проверь решение:"
   ]
  },
  {
   "cell_type": "markdown",
   "id": "ee3409cb",
   "metadata": {},
   "source": [
    "<br>\n",
    "\n",
    "---\n",
    "\n",
    "#### **18. `isalnum()`**\n",
    "Проверяет, состоит ли строка только из букв и цифр."
   ]
  },
  {
   "cell_type": "code",
   "execution_count": null,
   "id": "f8ca16d8",
   "metadata": {},
   "outputs": [],
   "source": [
    "print(\"Company12\".isalnum())  # True\n",
    "print(\"Hello!\".isalnum())     # False"
   ]
  },
  {
   "cell_type": "code",
   "execution_count": null,
   "id": "e5d50e5b",
   "metadata": {},
   "outputs": [],
   "source": [
    "# Проверь решение:"
   ]
  },
  {
   "cell_type": "markdown",
   "id": "a56f8ea4",
   "metadata": {},
   "source": [
    "<br>\n",
    "\n",
    "---\n",
    "\n",
    "#### **19. `isascii()`**\n",
    "Проверяет, все ли символы строки являются ASCII-символами."
   ]
  },
  {
   "cell_type": "code",
   "execution_count": null,
   "id": "d66a23d2",
   "metadata": {},
   "outputs": [],
   "source": [
    "print(\"Company12\".isascii())  # True\n",
    "print(\"Привет\".isascii())     # False"
   ]
  },
  {
   "cell_type": "code",
   "execution_count": null,
   "id": "45184cd3",
   "metadata": {},
   "outputs": [],
   "source": [
    "# Проверь решение:"
   ]
  },
  {
   "cell_type": "markdown",
   "id": "c6570ac4",
   "metadata": {},
   "source": [
    "<br>\n",
    "\n",
    "---\n",
    "\n",
    "#### **20. `isdecimal()`**\n",
    "Проверяет, состоит ли строка только из десятичных цифр (Unicode)."
   ]
  },
  {
   "cell_type": "code",
   "execution_count": null,
   "id": "c849db38",
   "metadata": {},
   "outputs": [],
   "source": [
    "print(\"50\".isdecimal())        # True\n",
    "print(\"Ⅷ\".isdecimal())         # False (римская цифра)"
   ]
  },
  {
   "cell_type": "code",
   "execution_count": null,
   "id": "4a3abb50",
   "metadata": {},
   "outputs": [],
   "source": [
    "# Проверь решение:"
   ]
  },
  {
   "cell_type": "markdown",
   "id": "b02011c1",
   "metadata": {},
   "source": [
    "<br>\n",
    "\n",
    "---\n",
    "\n",
    "#### **21. `isidentifier()`**\n",
    "Проверяет, может ли строка быть именем переменной."
   ]
  },
  {
   "cell_type": "code",
   "execution_count": null,
   "id": "8fa2fc4d",
   "metadata": {},
   "outputs": [],
   "source": [
    "print(\"hello_World\".isidentifier())  # True\n",
    "print(\"123var\".isidentifier())       # False"
   ]
  },
  {
   "cell_type": "code",
   "execution_count": null,
   "id": "cd2eb7c0",
   "metadata": {},
   "outputs": [],
   "source": [
    "# Проверь решение:"
   ]
  },
  {
   "cell_type": "markdown",
   "id": "1d904ac0",
   "metadata": {},
   "source": [
    "<br>\n",
    "\n",
    "---\n",
    "\n",
    "#### **22. `islower()`**\n",
    "Проверяет, все ли символы строки в нижнем регистре."
   ]
  },
  {
   "cell_type": "code",
   "execution_count": null,
   "id": "9ba0dccb",
   "metadata": {},
   "outputs": [],
   "source": [
    "print(\"hello world\".islower())  # True\n",
    "print(\"Hello World\".islower())  # False"
   ]
  },
  {
   "cell_type": "code",
   "execution_count": null,
   "id": "d35c48bf",
   "metadata": {},
   "outputs": [],
   "source": [
    "# Проверь решение:"
   ]
  },
  {
   "cell_type": "markdown",
   "id": "eca80f53",
   "metadata": {},
   "source": [
    "<br>\n",
    "\n",
    "---\n",
    "\n",
    "#### **23. `isprintable()`**\n",
    "Проверяет, все ли символы строки можно вывести на печать."
   ]
  },
  {
   "cell_type": "code",
   "execution_count": null,
   "id": "43915530",
   "metadata": {},
   "outputs": [],
   "source": [
    "print(\"Hello!\\nAre you #1?\".isprintable())  # False (из-за `\\n`)\n",
    "print(\"Hello\".isprintable())                # True"
   ]
  },
  {
   "cell_type": "code",
   "execution_count": null,
   "id": "f96c72da",
   "metadata": {},
   "outputs": [],
   "source": [
    "# Проверь решение:"
   ]
  },
  {
   "cell_type": "markdown",
   "id": "33ca1e97",
   "metadata": {},
   "source": [
    "<br>\n",
    "\n",
    "---\n",
    "\n",
    "#### **24. `isspace()`**\n",
    "Проверяет, состоит ли строка только из пробельных символов."
   ]
  },
  {
   "cell_type": "code",
   "execution_count": null,
   "id": "0f9086ea",
   "metadata": {},
   "outputs": [],
   "source": [
    "print(\"    \".isspace())  # True\n",
    "print(\"  a  \".isspace()) # False"
   ]
  },
  {
   "cell_type": "code",
   "execution_count": null,
   "id": "98f66ccb",
   "metadata": {},
   "outputs": [],
   "source": [
    "# Проверь решение:"
   ]
  },
  {
   "cell_type": "markdown",
   "id": "a79137de",
   "metadata": {},
   "source": [
    "<br>\n",
    "\n",
    "---\n",
    "\n",
    "#### **25. `maketrans()` и `translate()`**\n",
    "\n",
    "- **`maketrans()`**: Создает таблицу замены символов.\n",
    "  \n",
    "- **`translate()`**: Применяет таблицу замены к строке."
   ]
  },
  {
   "cell_type": "code",
   "execution_count": null,
   "id": "1a08b35e",
   "metadata": {},
   "outputs": [],
   "source": [
    "table = str.maketrans(\"M\", \"T\")\n",
    "print(\"Mango\".translate(table))  # Tango"
   ]
  },
  {
   "cell_type": "code",
   "execution_count": null,
   "id": "964ac9d0",
   "metadata": {},
   "outputs": [],
   "source": [
    "# Проверь решение:"
   ]
  },
  {
   "cell_type": "markdown",
   "id": "78b2d8ba",
   "metadata": {},
   "source": [
    "<br>\n",
    "\n",
    "---\n",
    "\n",
    "#### **26. `rjust(width)`**\n",
    "Выравнивает строку по правому краю, добавляя пробелы слева."
   ]
  },
  {
   "cell_type": "code",
   "execution_count": null,
   "id": "865f563e",
   "metadata": {},
   "outputs": [],
   "source": [
    "print(\"hello World\".rjust(20))  #         hello World"
   ]
  },
  {
   "cell_type": "code",
   "execution_count": null,
   "id": "38216814",
   "metadata": {},
   "outputs": [],
   "source": [
    "# Проверь решение:"
   ]
  },
  {
   "cell_type": "markdown",
   "id": "9786366d",
   "metadata": {},
   "source": [
    "<br>\n",
    "\n",
    "---\n",
    "\n",
    "#### **27. `rpartition(sep)`**\n",
    "Разбивает строку на три части по последнему вхождению разделителя."
   ]
  },
  {
   "cell_type": "code",
   "execution_count": null,
   "id": "2cfcded3",
   "metadata": {},
   "outputs": [],
   "source": [
    "print(\"yes & No\".rpartition(\"&\"))  # ('yes ', '&', ' No')"
   ]
  },
  {
   "cell_type": "code",
   "execution_count": null,
   "id": "e2cc7e61",
   "metadata": {},
   "outputs": [],
   "source": [
    "# Проверь решение:"
   ]
  },
  {
   "cell_type": "markdown",
   "id": "03525b90",
   "metadata": {},
   "source": [
    "<br>\n",
    "\n",
    "---\n",
    "\n",
    "#### **28. `rsplit()`**\n",
    "Разбивает строку на список, начиная с конца."
   ]
  },
  {
   "cell_type": "code",
   "execution_count": null,
   "id": "66f80fd1",
   "metadata": {},
   "outputs": [],
   "source": [
    "print(\"apple,banana,grape\".rsplit(\",\", 1))  # ['apple,banana', 'grape']"
   ]
  },
  {
   "cell_type": "code",
   "execution_count": null,
   "id": "e690d294",
   "metadata": {},
   "outputs": [],
   "source": [
    "# Проверь решение:"
   ]
  },
  {
   "cell_type": "markdown",
   "id": "b8d35431",
   "metadata": {},
   "source": [
    "<br>\n",
    "\n",
    "---\n",
    "\n",
    "#### **29. `splitlines()`**\n",
    "Разбивает строку на список по переносам строк."
   ]
  },
  {
   "cell_type": "code",
   "execution_count": null,
   "id": "95c9a013",
   "metadata": {},
   "outputs": [],
   "source": [
    "print(\"hello\\nworld\".splitlines())  # ['hello', 'world']"
   ]
  },
  {
   "cell_type": "code",
   "execution_count": null,
   "id": "deeb07e7",
   "metadata": {},
   "outputs": [],
   "source": [
    "# Проверь решение:"
   ]
  },
  {
   "cell_type": "markdown",
   "id": "9efe8b48",
   "metadata": {},
   "source": [
    "<br>\n",
    "\n",
    "---\n",
    "\n",
    "<br>\n"
   ]
  },
  {
   "cell_type": "markdown",
   "id": "b9110188",
   "metadata": {},
   "source": [
    "### **Примеры использования новых методов**"
   ]
  },
  {
   "cell_type": "code",
   "execution_count": null,
   "id": "09604d35",
   "metadata": {},
   "outputs": [],
   "source": [
    "# Проверка, является ли строка числом\n",
    "text = \"123\"\n",
    "if text.isdigit():\n",
    "    number = int(text)\n",
    "    print(number * 2)  # 246\n",
    "\n",
    "# Удаление спецсимволов\n",
    "text = \"Hello\\tWorld\"\n",
    "clean_text = text.expandtabs(4)\n",
    "print(clean_text)  # Hello    World\n",
    "\n",
    "# Генерация таблицы замены\n",
    "table = str.maketrans(\"aeiou\", \"12345\")\n",
    "print(\"apple\".translate(table))  # 1ppl2"
   ]
  },
  {
   "cell_type": "markdown",
   "id": "ac583617",
   "metadata": {},
   "source": [
    "<br>\n",
    "\n",
    "---\n",
    "\n",
    "### 🧠 **Задания к разделу**\n",
    "\n",
    "1. Преобразуйте строку `\"python\"` в `\"PYTHON\"` с помощью двух разных методов.\n",
    "   \n",
    "2. Проверьте, является ли строка `\"Hello123\"` идентификатором.\n",
    "   \n",
    "3. Разбейте строку `\"one,two,three,four\"` на два элемента, начиная с конца.\n",
    "   \n",
    "4. Замените все гласные в строке `\"Hello World\"` на звездочки `*`."
   ]
  },
  {
   "cell_type": "code",
   "execution_count": null,
   "id": "63f2b24c",
   "metadata": {},
   "outputs": [],
   "source": [
    "# 1 \n",
    "# Ваше решение:"
   ]
  },
  {
   "cell_type": "code",
   "execution_count": null,
   "id": "6de728e7",
   "metadata": {},
   "outputs": [],
   "source": [
    "# 2\n",
    "# Ваше решение:"
   ]
  },
  {
   "cell_type": "code",
   "execution_count": null,
   "id": "344f4607",
   "metadata": {},
   "outputs": [],
   "source": [
    "# 3\n",
    "# Ваше решение:"
   ]
  },
  {
   "cell_type": "code",
   "execution_count": null,
   "id": "2ffa963f",
   "metadata": {},
   "outputs": [],
   "source": [
    "# 4\n",
    "# Ваше решение:"
   ]
  },
  {
   "cell_type": "markdown",
   "id": "2c327360",
   "metadata": {},
   "source": [
    "**Ответы:**\n",
    "```python\n",
    "# 1\n",
    "print(\"python\".upper())        # PYTHON\n",
    "print(\"python\".swapcase().swapcase())  # PYTHON\n",
    "\n",
    "# 2\n",
    "print(\"Hello123\".isidentifier())  # False\n",
    "\n",
    "# 3\n",
    "print(\"one,two,three,four\".rsplit(\",\", 2))  # ['one,two', 'three', 'four']\n",
    "\n",
    "# 4\n",
    "table = str.maketrans(\"aeiouAEIOU\", \"**********\")\n",
    "print(\"Hello World\".translate(table))  # H*ll* W*rld\n",
    "```"
   ]
  },
  {
   "cell_type": "markdown",
   "id": "7669d1af",
   "metadata": {},
   "source": [
    "<br>\n",
    "\n",
    "#### **Задание 5: Регистр символов**\n",
    "\n",
    "1. Создайте строку: `text = \"ПрИвЕт, КаК ДеЛа?\"`.\n",
    "2. Приведите все символы к нижнему регистру.\n",
    "3. Сделайте первую букву каждого слова заглавной.\n",
    "4. Выведите результаты."
   ]
  },
  {
   "cell_type": "code",
   "execution_count": null,
   "id": "950b88c9",
   "metadata": {},
   "outputs": [],
   "source": [
    "# 5\n",
    "# Ваше решение:"
   ]
  },
  {
   "cell_type": "markdown",
   "id": "154e5e50",
   "metadata": {},
   "source": [
    "**Решение:**\n",
    "```python\n",
    "text = \"ПрИвЕт, КаК ДеЛа?\"\n",
    "print(text.lower())   # привет, как дела?\n",
    "print(text.title())   # Привет, Как Дела?\n",
    "```\n"
   ]
  },
  {
   "cell_type": "markdown",
   "id": "0ed6df28",
   "metadata": {},
   "source": [
    "<br>\n",
    "\n",
    "#### **Задание 6: Поиск и замена**\n",
    "1. В строке `text = \"Я изучаю C++. C++ это интересно.\"` замените все вхождения `C++` на `Python`.\n",
    "2. Найдите позицию первого вхождения слова `\"интересно\"`.\n",
    "3. Выведите результаты."
   ]
  },
  {
   "cell_type": "code",
   "execution_count": null,
   "id": "5cdc6d6d",
   "metadata": {},
   "outputs": [],
   "source": [
    "# 6\n",
    "# Ваше решение:"
   ]
  },
  {
   "cell_type": "markdown",
   "id": "63855495",
   "metadata": {},
   "source": [
    "**Решение:**\n",
    "```python\n",
    "text = \"Я изучаю C++. C++ это интересно.\"\n",
    "new_text = text.replace(\"C++\", \"Python\")\n",
    "position = new_text.find(\"интересно\")\n",
    "print(new_text)      # Я изучаю Python. Python это интересно.\n",
    "print(position)      # 23\n",
    "```"
   ]
  },
  {
   "cell_type": "markdown",
   "id": "d465ce68",
   "metadata": {},
   "source": [
    "<br>\n",
    "\n",
    "#### **Задание 7: Разделение и объединение**\n",
    "1. Разбейте строку `data = \"apple,banana,grape,orange\"` на список фруктов.\n",
    "2. Объедините список в строку с разделителем `\" и \"`.\n",
    "3. Выведите результат: `\"apple и banana и grape и orange\"`."
   ]
  },
  {
   "cell_type": "code",
   "execution_count": null,
   "id": "2bd538f9",
   "metadata": {},
   "outputs": [],
   "source": [
    "# 7\n",
    "# Ваше решение:"
   ]
  },
  {
   "cell_type": "markdown",
   "id": "8e6332a6",
   "metadata": {},
   "source": [
    "**Решение:**\n",
    "```python\n",
    "data = \"apple,banana,grape,orange\"\n",
    "fruits = data.split(\",\")\n",
    "result = \" и \".join(fruits)\n",
    "print(result)\n",
    "```\n"
   ]
  },
  {
   "cell_type": "markdown",
   "id": "bb84cc0d",
   "metadata": {},
   "source": [
    "<br>\n",
    "\n",
    "#### **Задание 8: Очистка строки**\n",
    "\n",
    "1. Дана строка: `text = \"  \\n   Это тестовая строка с лишними пробелами.   \\t \"`.\n",
    "2. Удалите пробелы и символы переноса с обоих концов.\n",
    "3. Замените все пробелы внутри строки на дефисы.\n",
    "4. Выведите результат."
   ]
  },
  {
   "cell_type": "code",
   "execution_count": null,
   "id": "6c0845a9",
   "metadata": {},
   "outputs": [],
   "source": [
    "# 8\n",
    "# Ваше решение:"
   ]
  },
  {
   "cell_type": "markdown",
   "id": "a0aa97d1",
   "metadata": {},
   "source": [
    "**Решение:**\n",
    "```python\n",
    "text = \"  \\n   Это тестовая строка с лишними пробелами.   \\t \"\n",
    "clean_text = text.strip().replace(\" \", \"-\")\n",
    "print(clean_text)  # Это-тестовая-строка-с-лишними-пробелами.\n",
    "```"
   ]
  },
  {
   "cell_type": "markdown",
   "id": "0f01a8b3",
   "metadata": {},
   "source": [
    "<br>\n",
    "\n",
    "#### **Задание 9 (продвинутое): Анализ текста**\n",
    "\n",
    "1. Попросите пользователя ввести текст через `input()`.\n",
    "2. Посчитайте:\n",
    "   - Количество слов (разделенных пробелами).\n",
    "   - Количество буквы `а` (в любом регистре).\n",
    "3. Выведите результаты."
   ]
  },
  {
   "cell_type": "code",
   "execution_count": null,
   "id": "cc4d2c41",
   "metadata": {},
   "outputs": [],
   "source": [
    "# 9\n",
    "# Ваше решение:"
   ]
  },
  {
   "cell_type": "markdown",
   "id": "cb40dae4",
   "metadata": {},
   "source": [
    "**Решение:**\n",
    "```python\n",
    "text = input(\"Введите текст: \")\n",
    "words = text.split()\n",
    "count_a = text.lower().count(\"а\")\n",
    "print(f\"Слов: {len(words)}, букв 'а': {count_a}\")\n",
    "```"
   ]
  },
  {
   "cell_type": "markdown",
   "id": "e5bc4673",
   "metadata": {},
   "source": [
    "---"
   ]
  },
  {
   "cell_type": "markdown",
   "id": "2e4ebab3",
   "metadata": {},
   "source": [
    "### 🧠 **Проверь себя**\n",
    "\n",
    "1. Что выведет код?\n",
    "   ```python\n",
    "   text = \"Hello, World!\"\n",
    "   print(text.replace(\"l\", \"X\", 2))\n",
    "   ```\n",
    "   \n",
    "   **Ответ:** `HeXXo, World!` (заменены первые два \"l\")."
   ]
  },
  {
   "cell_type": "code",
   "execution_count": null,
   "id": "2c041d01",
   "metadata": {},
   "outputs": [],
   "source": [
    "# Проверь:"
   ]
  },
  {
   "cell_type": "markdown",
   "id": "fd51109b",
   "metadata": {},
   "source": [
    "2. Как получить строку `\"Python-Dev\"` из списка `[\"Python\", \"Dev\"]`?  \n",
    "   \n",
    "   **Ответ:** `\"-\".join([\"Python\", \"Dev\"])`."
   ]
  },
  {
   "cell_type": "code",
   "execution_count": null,
   "id": "81bca208",
   "metadata": {},
   "outputs": [],
   "source": [
    "# Проверь:"
   ]
  },
  {
   "cell_type": "markdown",
   "id": "766cbc40",
   "metadata": {},
   "source": [
    "3. Исправьте ошибку:\n",
    "   \n",
    "   ```python\n",
    "   text = \"   test   \"\n",
    "   print(text.strip(\"t\")) \n",
    "   ```\n",
    "   **Ответ:** Удалит все `t` по краям: `\"   test   \"` → `\"   test   \"` (пробелы останутся). Чтобы удалить пробелы и `t`, нужно: `text.strip().strip('t')`."
   ]
  },
  {
   "cell_type": "code",
   "execution_count": null,
   "id": "41acdf84",
   "metadata": {},
   "outputs": [],
   "source": [
    "# Проверь:"
   ]
  },
  {
   "cell_type": "markdown",
   "id": "0ad39db5",
   "metadata": {},
   "source": [
    "---\n",
    "\n",
    "\n",
    "**Важные нюансы для Вас !**\n",
    "\n",
    "- **Неизменяемость строк:** Методы не меняют исходную строку, а возвращают новую.\n",
    "  \n",
    "- **Регистр символов:** `lower()` и `upper()` работают только с ASCII-символами. Для Unicode используйте `casefold()`.\n",
    "  \n",
    "- **Метод `split()`** без аргументов удаляет все пробелы подряд.\n",
    "\n",
    "---"
   ]
  },
  {
   "cell_type": "markdown",
   "id": "16903631",
   "metadata": {},
   "source": [
    "---\n",
    "\n",
    "<br>\n",
    "\n",
    "\n",
    "## 📬 Author\n",
    " \n",
    "**Siergej Sobolewski**  \n",
    "[![Email 🚀](https://img.shields.io/badge/Email-s.sobolewski@hotmail.com-blue?logo=protonmail)](mailto:s.sobolewski@hotmail.com)  \n",
    "[![GitHub](https://img.shields.io/badge/GitHub-SSobol77-blue?logo=github)](https://github.com/SSobol77)  \n",
    "[![LinkedIn](https://img.shields.io/badge/LinkedIn-Connect-blue?logo=linkedin)](https://linkedin.com/in/siergej-s-25a16319a)\n"
   ]
  }
 ],
 "metadata": {
  "kernelspec": {
   "display_name": "Python 3",
   "language": "python",
   "name": "python3"
  },
  "language_info": {
   "codemirror_mode": {
    "name": "ipython",
    "version": 3
   },
   "file_extension": ".py",
   "mimetype": "text/x-python",
   "name": "python",
   "nbconvert_exporter": "python",
   "pygments_lexer": "ipython3",
   "version": "3.13.2"
  }
 },
 "nbformat": 4,
 "nbformat_minor": 5
}
