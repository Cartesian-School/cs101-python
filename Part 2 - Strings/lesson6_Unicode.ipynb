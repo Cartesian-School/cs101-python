{
 "cells": [
  {
   "cell_type": "markdown",
   "metadata": {},
   "source": [
    "# 🧩 **Урок 6: Юникод и кодировки в Python.**\n",
    "\n",
    "<br>\n",
    "\n",
    "> На этом уроке вы узнаете, как Python работает с Юникодом и различными кодировками.\n",
    "\n",
    "\n",
    "<br>\n",
    "\n",
    "Работа с символами разных языков и преобразование строк в байты — важная часть программирования. \n",
    " \n",
    "<br>\n",
    "\n",
    "---\n",
    "\n",
    "<br>"
   ]
  },
  {
   "cell_type": "markdown",
   "metadata": {},
   "source": [
    "## 🌍 **1. Представление символов в Юникоде `Unicode`**\n",
    "\n",
    "<br>\n",
    "\n",
    "`Unicode` — это **глобальный стандарт**, который присваивает **уникальный номер каждому символу** для любого языка и системы письма. Это не способ хранения, а **таблица соответствий**, где каждому символу соответствует код вида `U+XXXX`.\n",
    "\n",
    "<br>\n",
    "\n",
    "#### 🧬 Таблица символов:\n",
    "\n",
    "| Символ | Название              | Код (int) | Unicode |\n",
    "|--------|------------------------|-----------|---------|\n",
    "| A      | Латиница               | 65        | U+0041  |\n",
    "| Ж      | Кириллица              | 1046      | U+0416  |\n",
    "| 世      | Китайский иероглиф     | 19990     | U+4E16  |\n",
    "| 😀      | Эмодзи “улыбка”         | 128512    | U+1F600 |\n",
    "| ❤️     | Составной смайлик сердце| 10084     | U+2764 + U+FE0F |\n",
    "\n",
    "<br>\n",
    "\n",
    "#### 🧰 Python и Unicode\n",
    "\n",
    "В Python 3 **все строки (`str`) по умолчанию — Unicode**. Это значит, ты можешь свободно писать:\n"
   ]
  },
  {
   "cell_type": "code",
   "execution_count": null,
   "metadata": {},
   "outputs": [],
   "source": [
    "print(\"Hello, мир, 世界, 😀\")"
   ]
  },
  {
   "cell_type": "markdown",
   "metadata": {},
   "source": [
    "<br>\n",
    "\n",
    "Стоит заметить, что Python это корректно обработает. Но когда нужно будет **сохранять в файл или передавать по сети**, то наша строка должна быть **перекодирована в байты**.\n",
    "\n",
    "<br>\n",
    "\n",
    "#### 🧩 **2. Кодировки: как символы становятся байтами**\n",
    "\n",
    "Unicode — это концепция. А **кодировка** — это способ **записать** символы Unicode в виде байтов.\n",
    "**Unicode** — это **глобальный стандарт**, который присваивает **уникальный код** каждому символу:\n",
    "- Латиница, кириллица, иероглифы, арабский, эмодзи — всё это входит в Unicode.\n",
    "- Код каждого символа представлен как `U+XXXX` (шестнадцатеричный формат).\n",
    "\n",
    "<br>\n",
    "\n",
    "#### **🛠 Основные функции:**\n",
    "\n",
    "| Функция     | Назначение                              |\n",
    "|-------------|------------------------------------------|\n",
    "| `ord(char)` | Получить числовой код символа в Unicode |\n",
    "| `chr(code)` | Получить символ по его числовому коду   |\n",
    "\n",
    "<br>\n",
    "\n",
    "Иначе говоря:\n",
    "\n",
    "- **`ord(char)`**: Возвращает числовой код символа (например, `ord('A') → 65`).  \n",
    "  \n",
    "- **`chr(code)`**: Возвращает символ по его коду (например, `chr(65) → 'A'`).\n",
    "\n",
    "<br>"
   ]
  },
  {
   "cell_type": "markdown",
   "metadata": {},
   "source": [
    "**🧪 Примеры:**"
   ]
  },
  {
   "cell_type": "code",
   "execution_count": 6,
   "metadata": {},
   "outputs": [
    {
     "name": "stdout",
     "output_type": "stream",
     "text": [
      "1040\n",
      "65\n",
      "1060\n",
      "1092\n",
      "65\n",
      "1046\n",
      "128512\n",
      "-------------------------\n",
      "A\n",
      "А\n",
      "😃\n",
      "А\n"
     ]
    }
   ],
   "source": [
    "print(ord('А'))         # 1040  (это код кириллического символа 'А')\n",
    "print(ord('A'))         # 65    (это код латинского символа 'A')\n",
    "print(ord('Ф'))         # 1060  (это код кириллической заглавной буквы 'Ф')\n",
    "print(ord(\"ф\"))         # 1092  (это код кириллической малой буквы 'ф')\n",
    "print(ord(\"A\"))      # 65\n",
    "print(ord(\"Ж\"))      # 1046\n",
    "print(ord(\"😀\"))     # 128512\n",
    "\n",
    "print(\"-------------------------\")\n",
    "\n",
    "print(chr(65))       # A\n",
    "print(chr(1040))     # A\n",
    "print(chr(128515))      # '😃' (это код смайлика)\n",
    "print(chr(0x0410))      # 'А' (шестнадцатеричный код)"
   ]
  },
  {
   "cell_type": "markdown",
   "metadata": {},
   "source": [
    "<br>\n",
    "\n",
    "---\n",
    "\n",
    "<br>\n",
    "\n",
    "## 📘 **ASCII**\n",
    "\n",
    "При работе с текстом в Python важно понимать, как символы **преобразуются в байты** для хранения и передачи. Для этого используются **кодировки**.\n",
    "\n",
    "\n",
    "#### Что такое **ASCII**?\n",
    "\n",
    "- Самая старая из кодировок (с 1963 года).\n",
    "  \n",
    "- Использует **7 бит** (1 байт, но 1 бит не используется).\n",
    "  \n",
    "- Поддерживает только **латиницу, цифры, знаки препинания и спецсимволы**.\n",
    "  \n",
    "- Диапазон кодов: **от 0 до 127**.\n",
    "\n",
    "\n",
    "**Применение:**\n",
    "- Устаревшие системы, протоколы (`SMTP`, `HTTP 1.0`, `FTP`).\n",
    "- Всегда входит в начало других кодировок (например, UTF-8).\n",
    "\n",
    "\n",
    "\n",
    "**Пример:**\n",
    "\n",
    "| Символ | Код ASCII | Бинарное представление |\n",
    "|--------|-----------|------------------------|\n",
    "| A      | 65        | `01000001`             |\n",
    "| a      | 97        | `01100001`             |\n",
    "| !      | 33        | `00100001`             |\n",
    "\n",
    "❌ Не поддерживает кириллицу, европейские диакритики, иероглифы, эмодзи.\n",
    "\n",
    "\n",
    "<br>"
   ]
  },
  {
   "cell_type": "markdown",
   "metadata": {},
   "source": [
    "<br>\n",
    "\n",
    "---\n",
    "\n",
    "<br>\n",
    "\n",
    "## 🌍 **`UTF-8` — стандарт по умолчанию**\n",
    "\n",
    "**Что такое `UTF-8`?**\n",
    "\n",
    "- Самая современная и распространённая универсальная кодировка в мире 🌎 интернета и не только.\n",
    "- Современная, универсальная кодировка.\n",
    "- Поддерживает **весь Unicode**.\n",
    "- **Совместима с ASCII** (первые 128 символов одинаковы).\n",
    "- Использует от **1 до 4 байт на символ** (в зависимости от символа).\n",
    "  \n",
    "<br>\n",
    "\n",
    "#### `UTF-8` Использует **переменное количество байт**:\n",
    "  \n",
    "  - 1 байт для ASCII (0–127)\n",
    "  \n",
    "  - 2 байта для большинства европейских символов (включая кириллицу)\n",
    "  \n",
    "  - 3 байта для китайских и японских иероглифов\n",
    "  \n",
    "  - 4 байта для эмодзи и редких символов\n",
    "\n",
    "<br>\n",
    "\n",
    "#### 📦 Размер символов:\n",
    "\n",
    "| Тип символов         | Примеры             | Размер |\n",
    "|----------------------|---------------------|--------|\n",
    "| ASCII                | A, B, 1, !           | 1 байт |\n",
    "| Кириллица            | Ж, Ю, я              | 2 байта|\n",
    "| Латиница с акцентом  | é, ü, ñ              | 2 байта|\n",
    "| Иероглифы            | 漢, 字, 学            | 3 байта|\n",
    "| Эмодзи               | 😀, ❤️, 🧠            | 4 байта|\n",
    "\n",
    "<br>\n",
    "\n",
    "✅ **Преимущества использования UTF-8:**\n",
    "-  Совместим с ASCII\n",
    "-  Экономичный для английского текста\n",
    "-  Поддерживает все символы Unicode\n",
    "\n",
    "**Применение:**\n",
    "- Веб-сайты (HTML, CSS, JS)\n",
    "- Python, Java, PostgreSQL, SQLite, JSON\n",
    "\n",
    "<br>\n",
    "\n",
    "\n",
    "\n"
   ]
  },
  {
   "cell_type": "markdown",
   "metadata": {},
   "source": [
    "**🧪 Примеры в Python:**"
   ]
  },
  {
   "cell_type": "code",
   "execution_count": 19,
   "metadata": {},
   "outputs": [
    {
     "name": "stdout",
     "output_type": "stream",
     "text": [
      "1\n",
      "2\n",
      "3\n",
      "4\n",
      "6\n"
     ]
    }
   ],
   "source": [
    "print(len(\"A\".encode(\"utf-8\")))       # 1\n",
    "print(len(\"Ж\".encode(\"utf-8\")))       # 2\n",
    "print(len(\"漢\".encode(\"utf-8\")))      # 3\n",
    "print(len(\"😀\".encode(\"utf-8\")))      # 4\n",
    "print(len(\"❤️\".encode(\"utf-8\")))      # 3 ← составной emoji"
   ]
  },
  {
   "cell_type": "markdown",
   "metadata": {},
   "source": [
    "<br>\n",
    "\n",
    "### 🔧 **3. Методы `encode()` и `decode()`**\n",
    "\n",
    "Python работает с текстом как с **Unicode-строкой**, но для передачи/сохранения нужно **байтовое представление**.\n",
    "\n",
    "<br>\n",
    "\n",
    "#### 📥 `encode(encoding)`\n",
    "\n",
    "Преобразует строку (`str`) → в **байты** (`bytes`).\n",
    "\n",
    "**🧪 Пример:**"
   ]
  },
  {
   "cell_type": "code",
   "execution_count": 20,
   "metadata": {},
   "outputs": [
    {
     "name": "stdout",
     "output_type": "stream",
     "text": [
      "b'Hello, \\xe4\\xb8\\x96\\xe7\\x95\\x8c!'\n"
     ]
    }
   ],
   "source": [
    "text = \"Hello, 世界!\"\n",
    "encoded = text.encode(\"utf-8\")\n",
    "print(encoded)  # b'Hello, \\xe4\\xb8\\x96\\xe7\\x95\\x8c!'"
   ]
  },
  {
   "cell_type": "markdown",
   "metadata": {},
   "source": [
    "<br>\n",
    "\n",
    "#### 📤 `decode(encoding)`\n",
    "\n",
    "Преобразует байты (`bytes`) → в **строку** (`str`).\n",
    "\n",
    "**🧪 Пример:**"
   ]
  },
  {
   "cell_type": "code",
   "execution_count": 21,
   "metadata": {},
   "outputs": [
    {
     "name": "stdout",
     "output_type": "stream",
     "text": [
      "Hello, 世界!\n"
     ]
    }
   ],
   "source": [
    "decoded = encoded.decode(\"utf-8\")\n",
    "print(decoded)  # Hello, 世界!"
   ]
  },
  {
   "cell_type": "markdown",
   "metadata": {},
   "source": []
  },
  {
   "cell_type": "markdown",
   "metadata": {},
   "source": [
    "<br>\n",
    "\n",
    "---\n",
    "\n",
    "<br>\n",
    "\n",
    "\n",
    "## 🔠 **UTF-16 — альтернатива для широких языков**\n",
    "\n",
    "\n",
    "🗣 Что значит **«широкие языки»** в контексте кодировок?\n",
    "\n",
    "> Термин **«широкие языки»** - это неформальный термин и означает **языки с большим числом уникальных символов**. Это важно для кодировок, потому что чем больше символов в языке, тем больше байтов нужно для их кодирования.\n",
    "\n",
    "<br>\n",
    "\n",
    "📚 Примеры широких языков:\n",
    "\n",
    "| Язык             | Пример символов | Пример слова | Кол-во уникальных символов |\n",
    "|------------------|------------------|--------------|-----------------------------|\n",
    "| **Китайский**    | 汉, 字, 学         | 学校 (школа) | 🔼 Десятки тысяч иероглифов |\n",
    "| **Японский**     | 日, 本, 語         | 日本語       | 🔼 Иероглифы + кана         |\n",
    "| **Корейский**    | 한, 국, 어         | 한국어       | 🔼 Хангыль + ханча          |\n",
    "| **Арабский**     | س, ل, م            | سلام         | ➕ От 28 до 50+ с формами    |\n",
    "\n",
    "Эти языки часто требуют **двух и более байт на символ**, поскольку они **не помещаются** в однобайтовые таблицы вроде ASCII или ISO-8859, как например:\n",
    "\n",
    "- Английский: 26 букв + цифры и знаки — отлично помещается в ASCII (7 бит = 1 байт).\n",
    "  \n",
    "- Немецкий/Французский/Русский: чуть больше символов, но могут помещаться в расширенные однобайтовые кодировки (`ISO-8859-1`, `ISO-8859-5`).\n",
    "\n",
    "<br>\n",
    "\n",
    "**💡 UTF-16 характерен тем, что:** \n",
    "\n",
    "- Использует **фиксированные пары байтов (2 или 4 байта)**\n",
    "  \n",
    "- Может начинаться с **Byte Order Mark (BOM)**: `b'\\xff\\xfe'` или `b'\\xfe\\xff'`\n",
    "  \n",
    "- Часто используется в Windows и Java\n",
    "\n",
    "<br>\n",
    "\n",
    "**Преимущества:**\n",
    "\n",
    "  - Эффективен для языков с большим диапазоном символов: китайский, корейский, японский и т.д.\n",
    "\n",
    "<br>\n",
    "\n",
    "❌ **Недостатки:**\n",
    " -  Не совместим с ASCII.\n",
    " -  Может использовать BOM, что затрудняет интерпретацию.\n",
    " -  Неэффективен для англоязычного текста (всегда минимум 2 байта).\n"
   ]
  },
  {
   "cell_type": "markdown",
   "metadata": {},
   "source": [
    "**🧪 Пример:**"
   ]
  },
  {
   "cell_type": "code",
   "execution_count": null,
   "metadata": {},
   "outputs": [
    {
     "name": "stdout",
     "output_type": "stream",
     "text": [
      "3\n",
      "4\n"
     ]
    }
   ],
   "source": [
    "# Китайский символ: 3 байта в UTF-8, 2 байта в UTF-16\n",
    "char = \"学\"\n",
    "print(len(char.encode(\"utf-8\")))   # 3\n",
    "print(len(char.encode(\"utf-16\")))  # 4 , но BOM тоже считается !!!"
   ]
  },
  {
   "cell_type": "markdown",
   "metadata": {},
   "source": [
    "<br>\n",
    "\n",
    "#### **Выводы:**\n",
    "\n",
    "**Когда выбираешь кодировку UTF-16:**\n",
    "- Если язык содержит **очень много символов**, однобайтовые кодировки не подходят.\n",
    "- UTF-8 сохраняет совместимость, но **символы \"широких языков\" там кодируются в 3–4 байта**.\n",
    "- UTF-16 может быть **более эффективным**, потому что многие такие символы укладываются в 2 байта.\n",
    "\n",
    "> **«Широкие языки» — это языки, в которых требуется много уникальных символов для письма, и которые не могут быть закодированы в 1 байт.**  \n",
    "> **Они требуют кодировок вроде UTF-8 (с 3–4 байтами) или UTF-16 (по 2 байта)**."
   ]
  },
  {
   "cell_type": "markdown",
   "metadata": {},
   "source": [
    "<br>\n",
    "\n",
    "---\n",
    "\n",
    "<br>\n",
    "\n",
    "## 🇪🇺 **ISO-8859 — однобайтовые региональные кодировки**\n",
    "\n",
    "#### Что такое ISO-8859?\n",
    "\n",
    "Семейство старых кодировок, где **1 байт = 1 символ**, до 256 символов. \n",
    "\n",
    "Эти кодировки использовались до эпохи Unicode, но Вы ещё можете кое-где их встретить.\n",
    "\n",
    "| Кодировка        | Регион         | Поддержка языка       |\n",
    "|------------------|----------------|------------------------|\n",
    "| ISO-8859-1       | Западная Европа| Немецкий, французский  |\n",
    "| ISO-8859-2       | Восточная Европа| Польский, чешский     |\n",
    "| ISO-8859-5       | Кириллица      | Русский, украинский    |\n",
    "\n",
    "<br>\n",
    "\n",
    "**❌ Недостатки:**\n",
    "-  Только один язык на кодировку.\n",
    "-  Несовместимы между собой.\n",
    "-  Устарели и заменены на UTF-8.\n",
    "\n",
    "<br>"
   ]
  },
  {
   "cell_type": "markdown",
   "metadata": {},
   "source": [
    "**🧪 Пример:**"
   ]
  },
  {
   "cell_type": "code",
   "execution_count": 14,
   "metadata": {},
   "outputs": [
    {
     "data": {
      "text/plain": [
       "b'\\xe9'"
      ]
     },
     "execution_count": 14,
     "metadata": {},
     "output_type": "execute_result"
    }
   ],
   "source": [
    "\"é\".encode(\"iso-8859-1\")  # b'\\xe9'"
   ]
  },
  {
   "cell_type": "code",
   "execution_count": null,
   "metadata": {},
   "outputs": [
    {
     "data": {
      "text/plain": [
       "b'\\xbf\\xe0\\xd8\\xd2\\xd5\\xe2'"
      ]
     },
     "execution_count": 15,
     "metadata": {},
     "output_type": "execute_result"
    }
   ],
   "source": [
    "\"Привет\".encode(\"iso-8859-  5\")  # b'\\xf0\\xd2\\xc9\\xd2\\xc5\\xd4'"
   ]
  },
  {
   "cell_type": "markdown",
   "metadata": {},
   "source": [
    "<br>\n",
    "\n",
    "---\n",
    "\n",
    "<br>\n",
    "\n",
    "### 🧭 **Сравнение кодировок**\n",
    "\n",
    "| Кодировка     | Размер | Совместимость | Поддержка Unicode | Где используется            |\n",
    "|---------------|--------|----------------|--------------------|-----------------------------|\n",
    "| ASCII         | 1 байт | Да             | Только латиница    | Старые системы, сетевые протоколы |\n",
    "| UTF-8         | 1–4 байта | Да          | ✅ Полная           | Интернет, Python, БД        |\n",
    "| UTF-16        | 2–4 байта | Нет         | ✅ Полная           | Windows, Java               |\n",
    "| ISO-8859-1/5  | 1 байт | Нет            | ❌ Ограниченная     | Устаревшие приложения       |\n",
    "\n"
   ]
  },
  {
   "cell_type": "markdown",
   "metadata": {},
   "source": [
    "<br>\n",
    "\n",
    "\n",
    "### 🧠 **Какая кодировка лучше?**\n",
    "\n",
    "| Цель                                | Рекомендуемая кодировка |\n",
    "|-------------------------------------|--------------------------|\n",
    "| Современная веб-разметка, API       | ✅ UTF-8 (всегда!)       |\n",
    "| Работа со старыми Windows-файлами   | UTF-16 или CP1251        |\n",
    "| Одноязычные архивы                  | ISO-8859 (временно)      |\n",
    "| Работа в Python                     | UTF-8 по умолчанию       |\n",
    "\n",
    "✅ **Python 3 использует UTF-8 как стандартную кодировку.**\n"
   ]
  },
  {
   "cell_type": "markdown",
   "metadata": {},
   "source": [
    "<br>\n",
    "\n",
    "---\n",
    "\n",
    "<br>\n",
    "\n",
    "### 🧪  Примеры `encode/decode`"
   ]
  },
  {
   "cell_type": "markdown",
   "metadata": {},
   "source": [
    "- **🔤 ASCII**"
   ]
  },
  {
   "cell_type": "code",
   "execution_count": 23,
   "metadata": {},
   "outputs": [
    {
     "name": "stdout",
     "output_type": "stream",
     "text": [
      "b'Hello'\n"
     ]
    }
   ],
   "source": [
    "text = \"Hello\"\n",
    "ascii_bytes = text.encode(\"ascii\")\n",
    "print(ascii_bytes)  # b'Hello'"
   ]
  },
  {
   "cell_type": "markdown",
   "metadata": {},
   "source": [
    "- **🌐 UTF-8**"
   ]
  },
  {
   "cell_type": "code",
   "execution_count": null,
   "metadata": {},
   "outputs": [],
   "source": [
    "# UTF-8\n",
    "text = \"Привет 😀\"\n",
    "b = text.encode(\"utf-8\")\n",
    "print(b)                  # b'\\xd0\\x9f\\xd1\\x80...'\n",
    "print(b.decode(\"utf-8\"))  # Привет 😀"
   ]
  },
  {
   "cell_type": "markdown",
   "metadata": {},
   "source": [
    "- **UTF-16**"
   ]
  },
  {
   "cell_type": "code",
   "execution_count": 26,
   "metadata": {},
   "outputs": [
    {
     "name": "stdout",
     "output_type": "stream",
     "text": [
      "b'\\xff\\xfe\\x1f\\x04@\\x048\\x042\\x045\\x04B\\x04'\n",
      "Привет\n"
     ]
    }
   ],
   "source": [
    "# UTF-16\n",
    "text = \"Привет\"\n",
    "utf16_bytes = text.encode(\"utf-16\")\n",
    "print(utf16_bytes)  # b'\\xff\\xfe\\x1f\\x04@\\x048\\x042\\x045\\x04B\\x04'\n",
    "\n",
    "decoded = utf16_bytes.decode(\"utf-16\")\n",
    "print(decoded)  # Привет"
   ]
  },
  {
   "cell_type": "markdown",
   "metadata": {},
   "source": [
    "- **📦 ISO-8859-1 (латиница)**"
   ]
  },
  {
   "cell_type": "code",
   "execution_count": 27,
   "metadata": {},
   "outputs": [
    {
     "name": "stdout",
     "output_type": "stream",
     "text": [
      "b'Caf\\xe9'\n",
      "Café\n"
     ]
    }
   ],
   "source": [
    "text = \"Café\"\n",
    "encoded = text.encode(\"iso-8859-1\")\n",
    "print(encoded)  # b'Caf\\xe9'\n",
    "\n",
    "print(encoded.decode(\"iso-8859-1\"))  # Café"
   ]
  },
  {
   "cell_type": "markdown",
   "metadata": {},
   "source": [
    "- **ISO-8859-5 (кириллица)**"
   ]
  },
  {
   "cell_type": "code",
   "execution_count": 25,
   "metadata": {},
   "outputs": [
    {
     "name": "stdout",
     "output_type": "stream",
     "text": [
      "b'\\xbf\\xe0\\xd8\\xd2\\xd5\\xe2'\n",
      "Привет\n"
     ]
    }
   ],
   "source": [
    "# ISO-8859-5 (кириллица)\n",
    "rus = \"Привет\"\n",
    "encoded = rus.encode(\"iso-8859-5\")\n",
    "print(encoded)\n",
    "print(encoded.decode(\"iso-8859-5\"))"
   ]
  },
  {
   "cell_type": "markdown",
   "metadata": {},
   "source": [
    "- **⚠️ Ошибка при неправильной декодировке:**"
   ]
  },
  {
   "cell_type": "code",
   "execution_count": 22,
   "metadata": {},
   "outputs": [
    {
     "name": "stdout",
     "output_type": "stream",
     "text": [
      "Ошибка: 'ascii' codec can't decode byte 0xe4 in position 7: ordinal not in range(128)\n"
     ]
    }
   ],
   "source": [
    "try:\n",
    "    encoded.decode(\"ascii\")\n",
    "except UnicodeDecodeError as e:\n",
    "    print(\"Ошибка:\", e)"
   ]
  },
  {
   "cell_type": "markdown",
   "metadata": {},
   "source": [
    "🖨 **Результат:**\n",
    "```\n",
    "Ошибка: 'ascii' codec can't decode byte 0xe4 in position 7: ordinal not in range(128)\n",
    "```"
   ]
  },
  {
   "cell_type": "markdown",
   "metadata": {},
   "source": [
    "<br>\n",
    "\n",
    "---\n",
    "\n",
    "<br>\n"
   ]
  },
  {
   "cell_type": "markdown",
   "metadata": {},
   "source": [
    "### 🧠 **Практика**"
   ]
  },
  {
   "cell_type": "markdown",
   "metadata": {},
   "source": [
    "#### **Заданиe 1:**\n",
    "\n",
    "1. 🔢 Получи Unicode-коды символов:\n",
    "   \n",
    "   ```python\n",
    "   print(ord(\"ё\"))     # ?\n",
    "   print(ord(\"€\"))     # ?\n",
    "   print(ord(\"🧠\"))     # ?\n",
    "   ```"
   ]
  },
  {
   "cell_type": "code",
   "execution_count": null,
   "metadata": {},
   "outputs": [],
   "source": [
    "# Ваше решение"
   ]
  },
  {
   "cell_type": "markdown",
   "metadata": {},
   "source": [
    "2. 🔡 Получи символы по кодам:\n",
    "   \n",
    "   ```python\n",
    "   print(chr(8364))    # €\n",
    "   print(chr(129504))  # 🤠\n",
    "   ```"
   ]
  },
  {
   "cell_type": "code",
   "execution_count": null,
   "metadata": {},
   "outputs": [],
   "source": [
    "# Ваше решение"
   ]
  },
  {
   "cell_type": "markdown",
   "metadata": {},
   "source": [
    "3. 💾 Закодируй строку: \"Привет 😀\"\n",
    "   \n",
    "   ```python\n",
    "   text = \"Привет 😀\"\n",
    "   b = text.encode(\"utf-8\")\n",
    "   print(b)\n",
    "   print(b.decode(\"utf-8\"))\n",
    "   ```"
   ]
  },
  {
   "cell_type": "code",
   "execution_count": null,
   "metadata": {},
   "outputs": [],
   "source": [
    "# Ваше решение"
   ]
  },
  {
   "cell_type": "markdown",
   "metadata": {},
   "source": [
    "4. 🔁 Закодируй строку `\"Hello, Привет!\"` в:\n",
    "   \n",
    "   - UTF-8\n",
    "  \n",
    "   - UTF-16\n",
    "  \n",
    "   - ISO-8859-5\n",
    "  "
   ]
  },
  {
   "cell_type": "code",
   "execution_count": null,
   "metadata": {},
   "outputs": [],
   "source": [
    "# Ваше решение"
   ]
  },
  {
   "cell_type": "markdown",
   "metadata": {},
   "source": [
    "5. 🧨 Попробуй закодировать кириллицу в ASCII:\n",
    "   \n",
    "   ```python\n",
    "   try:\n",
    "       print(\"Привет\".encode(\"ascii\"))\n",
    "   except Exception as e:\n",
    "       print(\"Ошибка:\", e)\n",
    "   ```"
   ]
  },
  {
   "cell_type": "code",
   "execution_count": null,
   "metadata": {},
   "outputs": [],
   "source": []
  },
  {
   "cell_type": "markdown",
   "metadata": {},
   "source": [
    "<br>\n",
    "\n",
    "#### **Задание 2: Кодирование и декодирование**\n",
    "\n",
    "1. Закодируйте строку `\"Python — это 🐍\"` в байты (UTF-8).  \n",
    "2. Декодируйте байты обратно в строку.  \n",
    "3. Попробуйте декодировать эти байты в кодировке `latin-1`. Объясните результат."
   ]
  },
  {
   "cell_type": "code",
   "execution_count": null,
   "metadata": {},
   "outputs": [],
   "source": [
    "# Ваше решение"
   ]
  },
  {
   "cell_type": "markdown",
   "metadata": {},
   "source": [
    "**Решение:**\n",
    "```python\n",
    "text = \"Python — это 🐍\"\n",
    "bytes_utf8 = text.encode(\"utf-8\")\n",
    "print(bytes_utf8.decode(\"utf-8\"))  # Python — это 🐍\n",
    "\n",
    "# Декодирование в latin-1 (замена ошибок)\n",
    "decoded_latin = bytes_utf8.decode(\"latin-1\", errors=\"replace\")\n",
    "print(decoded_latin)  # Python â€” Ñ�Ñ‚Ð¾ ð� \n",
    "```"
   ]
  },
  {
   "cell_type": "markdown",
   "metadata": {},
   "source": [
    "<br>\n",
    "\n",
    "#### **Задание 3: Размер строки в байтах**\n",
    "Напишите функцию, которая возвращает размер строки в байтах для кодировки UTF-8.  \n",
    "Пример: `\"Hello\"` → 5 байт, `\"Привет\"` → 12 байт.\n"
   ]
  },
  {
   "cell_type": "code",
   "execution_count": null,
   "metadata": {},
   "outputs": [],
   "source": [
    "# Ваше решение"
   ]
  },
  {
   "cell_type": "markdown",
   "metadata": {},
   "source": [
    "**Решение:**\n",
    "```python\n",
    "def get_size(text):\n",
    "    return len(text.encode(\"utf-8\"))\n",
    "\n",
    "print(get_size(\"Hello\"))    # 5\n",
    "print(get_size(\"Привет\"))   # 12\n",
    "```"
   ]
  },
  {
   "cell_type": "markdown",
   "metadata": {},
   "source": [
    "<br>\n",
    "\n",
    "#### **Задание 4: Обработка ошибок декодирования**\n",
    "1. Закодируйте строку `\" café \"` в UTF-8.  \n",
    "2. Попробуйте декодировать её в ASCII с параметром `errors=\"ignore\"`. Что получится?  \n"
   ]
  },
  {
   "cell_type": "code",
   "execution_count": null,
   "metadata": {},
   "outputs": [],
   "source": [
    "# Ваше решение"
   ]
  },
  {
   "cell_type": "markdown",
   "metadata": {},
   "source": [
    "**Решение:**\n",
    "```python\n",
    "text = \" café \"\n",
    "bytes_text = text.encode(\"utf-8\")\n",
    "decoded_ascii = bytes_text.decode(\"ascii\", errors=\"ignore\")\n",
    "print(decoded_ascii)  # \" caf \" (символ 'é' потерян)\n",
    "```"
   ]
  },
  {
   "cell_type": "markdown",
   "metadata": {},
   "source": [
    "<br>\n",
    "\n",
    "#### **Задание 5 (продвинутое): Шифр Цезаря**\n",
    "\n",
    "Напишите функцию `caesar_cipher(text, shift)`, которая шифрует текст, сдвигая каждый символ на `shift` позиций в Юникоде.  \n",
    "Пример: `caesar_cipher(\"ABC\", 3) → \"DEF\"`.\n"
   ]
  },
  {
   "cell_type": "code",
   "execution_count": null,
   "metadata": {},
   "outputs": [],
   "source": [
    "# Ваше решение"
   ]
  },
  {
   "cell_type": "markdown",
   "metadata": {},
   "source": [
    "\n",
    "**Решение:**\n",
    "```python\n",
    "def caesar_cipher(text, shift):\n",
    "    result = []\n",
    "    for char in text:\n",
    "        code = ord(char)\n",
    "        result.append(chr(code + shift))\n",
    "    return \"\".join(result)\n",
    "\n",
    "print(caesar_cipher(\"ABC\", 3))  # DEF\n",
    "```"
   ]
  },
  {
   "cell_type": "markdown",
   "metadata": {},
   "source": [
    "<br>\n",
    "\n",
    "---\n",
    "\n",
    "<br>\n",
    "\n",
    "### 🧾 Заключение\n",
    "\n",
    "| Что            | Объяснение                                                  |\n",
    "|----------------|-------------------------------------------------------------|\n",
    "| Unicode        | Универсальная таблица кодов символов                        |\n",
    "| ASCII          | Старая кодировка, только для английского                    |\n",
    "| **UTF-8**          | Гибкая кодировка, охватывающая весь Unicode                 |\n",
    "| `ord()` / `chr()` | Преобразование между символами и их кодами              |\n",
    "| `encode()`     | Перевод строки в байты                                      |\n",
    "| `decode()`     | Обратный перевод байтов в строку                            |\n",
    "| Ошибки         | Возникают при несовпадении символов и кодировок             |\n",
    "\n",
    "<br>\n",
    "\n",
    "### **Важные нюансы**\n",
    "\n",
    "- **Кодировка по умолчанию:** В Python 3 строки хранятся в Unicode, а при кодировании используется UTF-8.  \n",
    "  \n",
    "- **Ошибки декодирования:** Используйте параметр `errors` в `decode()`:  \n",
    "  - `ignore` — пропустить неверные символы.  \n",
    "  - `replace` — заменить их на `�`.  \n",
    "  \n",
    "- **Разные кодировки:** `cp1251`, `koi8-r` — кодировки для кириллицы (используются в старых системах).\n",
    "\n",
    "<br>\n",
    "\n",
    "---\n",
    "\n",
    "<br>"
   ]
  },
  {
   "cell_type": "markdown",
   "metadata": {},
   "source": [
    "<br>\n",
    "\n",
    "##### 📬 Author:\n",
    "\n",
    "**Siergej Sobolewski**  \n",
    "\n",
    "[![Email 🚀](https://img.shields.io/badge/Email-s.sobolewski@hotmail.com-blue?logo=protonmail)](mailto:s.sobolewski@hotmail.com)\n",
    "[![GitHub](https://img.shields.io/badge/GitHub-SSobol77-blue?logo=github)](https://github.com/SSobol77)\n",
    "[![LinkedIn](https://img.shields.io/badge/LinkedIn-Connect-blue?logo=linkedin)](https://linkedin.com/in/siergej-s-25a16319a)\n",
    "\n",
    "<br>\n"
   ]
  }
 ],
 "metadata": {
  "kernelspec": {
   "display_name": "Python 3",
   "language": "python",
   "name": "python3"
  },
  "language_info": {
   "codemirror_mode": {
    "name": "ipython",
    "version": 3
   },
   "file_extension": ".py",
   "mimetype": "text/x-python",
   "name": "python",
   "nbconvert_exporter": "python",
   "pygments_lexer": "ipython3",
   "version": "3.13.2"
  }
 },
 "nbformat": 4,
 "nbformat_minor": 2
}
