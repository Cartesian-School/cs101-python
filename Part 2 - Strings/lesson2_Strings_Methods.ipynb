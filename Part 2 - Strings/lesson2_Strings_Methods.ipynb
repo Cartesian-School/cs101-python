{
 "cells": [
  {
   "cell_type": "markdown",
   "id": "fae2834b",
   "metadata": {},
   "source": [
    "# 🧵 **Урок 2: Методы Строк в Python**\n",
    "\n",
    "<br>\n",
    "\n",
    "На этом уроке мы изучим всё о методах строк и их представлениях.\n"
   ]
  },
  {
   "cell_type": "markdown",
   "id": "78fe949d",
   "metadata": {},
   "source": [
    "<br>\n",
    "\n",
    "---\n",
    "\n",
    "<br>"
   ]
  },
  {
   "cell_type": "markdown",
   "id": "d5258ee3",
   "metadata": {},
   "source": [
    "## 📦 **1. Методы строк**\n",
    "\n",
    "*Методы строк* — это встроенные функции, которые позволяют манипулировать строками. Поскольку строки в Python **неизменяемы**, методы возвращают новые строки, не изменяя исходные. Рассмотрим ключевые методы с примерами."
   ]
  },
  {
   "cell_type": "markdown",
   "id": "4c6f175a",
   "metadata": {},
   "source": [
    "<br>"
   ]
  },
  {
   "cell_type": "markdown",
   "id": "31d5a9c5",
   "metadata": {},
   "source": [
    "### 📋 Таблица методов строк (1–29)\n",
    "\n",
    "| №  | Метод                  | Назначение                                                                 |\n",
    "|----|------------------------|----------------------------------------------------------------------------|\n",
    "| 1  | `upper()`              | Преобразует все символы в верхний регистр.                                 |\n",
    "| 2  | `lower()`              | Преобразует все символы в нижний регистр.                                  |\n",
    "| 3  | `title()`              | Делает первую букву каждого слова заглавной.                              |\n",
    "| 4  | `replace(old, new)`    | Заменяет все вхождения подстроки `old` на `new`.                           |\n",
    "| 5  | `split()`              | Разбивает строку на список по разделителю.                                 |\n",
    "| 6  | `join()`               | Объединяет список в строку через разделитель.                             |\n",
    "| 7  | `strip()`              | Удаляет пробелы и спецсимволы с обоих концов строки.                      |\n",
    "| 8  | `startswith()`         | Проверяет, начинается ли строка с указанной подстроки.                    |\n",
    "| 9  | `endswith()`           | Проверяет, заканчивается ли строка указанной подстрокой.                  |\n",
    "| 10 | `find()`               | Возвращает индекс первого вхождения подстроки (или `-1`).                 |\n",
    "| 11 | `index()`              | Возвращает индекс первого вхождения подстроки (вызывает ошибку).          |\n",
    "| 12 | `count()`              | Подсчитывает количество вхождений подстроки.                              |\n",
    "| 13 | `capitalize()`         | Делает первую букву строки заглавной, остальные — строчными.              |\n",
    "| 14 | `casefold()`           | Агрессивное приведение к нижнему регистру (Unicode).                      |\n",
    "| 15 | `center(width)`        | Центрирует строку, добавляя пробелы до указанной ширины.                  |\n",
    "| 16 | `encode()`             | Преобразует строку в байты (кодировка по умолчанию: `utf-8`).             |\n",
    "| 17 | `expandtabs()`         | Заменяет символы табуляции (`\\t`) на пробелы.                             |\n",
    "| 18 | `format()`             | Форматирует строку, подставляя значения по шаблону.                       |\n",
    "| 19 | `isdigit()`            | Проверяет, состоит ли строка только из цифр.                              |\n",
    "| 20 | `isalpha()`            | Проверяет, состоит ли строка только из букв.                              |\n",
    "| 21 | `zfill(width)`         | Дополняет строку нулями слева до указанной длины.                         |\n",
    "| 22 | `swapcase()`           | Меняет регистр всех символов на противоположный.                          |\n",
    "| 23 | `isalnum()`            | Проверяет, состоит ли строка только из букв и цифр.                       |\n",
    "| 24 | `isascii()`            | Проверяет, все ли символы строки являются ASCII-символами.                |\n",
    "| 25 | `isdecimal()`          | Проверяет, состоит ли строка только из десятичных цифр (Unicode).         |\n",
    "| 26 | `isidentifier()`       | Проверяет, может ли строка быть именем переменной.                        |\n",
    "| 27 | `islower()`            | Проверяет, все ли символы строки в нижнем регистре.                       |\n",
    "| 28 | `isprintable()`        | Проверяет, все ли символы строки можно вывести на печать.                 |\n",
    "| 29 | `isspace()`            | Проверяет, состоит ли строка только из пробельных символов.               |\n",
    "| 30 | `rsplit()`             | Разделение строки на список, начиная с конца.                             |\n",
    "| 31 | `rjust(width)`         | Выравнивание строки по правому краю.                                      |\n",
    "| 32 | `splitlines()`         | Разделение строки по переносам строк.                                     |\n",
    "| 33 | `rpartition()`         | Разделение строки по последнему вхождению подстроки.                      |\n",
    "| 34 |`maketrans()` / `translate()` | Создание и применение таблицы замены символов.                      |\n",
    "\n",
    "<br>  \n",
    "\n",
    "**Примеры и задания для этих методов мы рассмотрим ниже:**\n",
    "\n",
    "<br>"
   ]
  },
  {
   "cell_type": "markdown",
   "id": "ebcfebb4",
   "metadata": {},
   "source": [
    "#### **1. `upper()`, `lower()`, `title()`**\n",
    "- **`upper()`**: Преобразует все символы в верхний регистр."
   ]
  },
  {
   "cell_type": "code",
   "execution_count": null,
   "id": "369b8b4e",
   "metadata": {},
   "outputs": [],
   "source": [
    "text = \"Hello, World!\"\n",
    "print(text.upper())  # HELLO, WORLD!"
   ]
  },
  {
   "cell_type": "code",
   "execution_count": null,
   "id": "9739c991",
   "metadata": {},
   "outputs": [],
   "source": [
    "# Проверь решение:"
   ]
  },
  {
   "cell_type": "markdown",
   "id": "5ef727d7",
   "metadata": {},
   "source": [
    "- **`lower()`**: Преобразует все символы в нижний регистр."
   ]
  },
  {
   "cell_type": "code",
   "execution_count": null,
   "id": "5eedf907",
   "metadata": {},
   "outputs": [],
   "source": [
    "text = \"ПРИВЕТ\"\n",
    "print(text.lower())  # привет"
   ]
  },
  {
   "cell_type": "code",
   "execution_count": null,
   "id": "9b6a9373",
   "metadata": {},
   "outputs": [],
   "source": [
    "# Проверь решение:"
   ]
  },
  {
   "cell_type": "markdown",
   "id": "67ff731e",
   "metadata": {},
   "source": [
    "- **`title()`**: Делает первую букву каждого слова заглавной."
   ]
  },
  {
   "cell_type": "code",
   "execution_count": null,
   "id": "f23d9168",
   "metadata": {},
   "outputs": [],
   "source": [
    "text = \"python is awesome\"\n",
    "print(text.title())  # Python Is Awesome"
   ]
  },
  {
   "cell_type": "code",
   "execution_count": null,
   "id": "879ddc27",
   "metadata": {},
   "outputs": [],
   "source": [
    "# Проверь решение:"
   ]
  },
  {
   "cell_type": "markdown",
   "id": "45afc707",
   "metadata": {},
   "source": [
    "<br>\n",
    "\n",
    "---\n",
    "\n",
    "#### **2. `replace(old, new)`**\n",
    "Заменяет все вхождения подстроки `old` на `new`."
   ]
  },
  {
   "cell_type": "code",
   "execution_count": null,
   "id": "3e9627d7",
   "metadata": {},
   "outputs": [],
   "source": [
    "text = \"Я люблю Java\"\n",
    "new_text = text.replace(\"Java\", \"Python\")\n",
    "print(new_text)  # Я люблю Python"
   ]
  },
  {
   "cell_type": "code",
   "execution_count": null,
   "id": "10df2df2",
   "metadata": {},
   "outputs": [],
   "source": [
    "# Проверь решение:"
   ]
  },
  {
   "cell_type": "markdown",
   "id": "b4fe66aa",
   "metadata": {},
   "source": [
    "- Можно указать максимальное количество замен:"
   ]
  },
  {
   "cell_type": "code",
   "execution_count": null,
   "id": "ff6bd16e",
   "metadata": {},
   "outputs": [],
   "source": [
    "text = \"aaaabbaaa\"\n",
    "print(text.replace(\"a\", \"X\", 3))  # XXXabbaaa"
   ]
  },
  {
   "cell_type": "code",
   "execution_count": null,
   "id": "cfd101d2",
   "metadata": {},
   "outputs": [],
   "source": [
    "# Проверь решение:"
   ]
  },
  {
   "cell_type": "markdown",
   "id": "d907ecab",
   "metadata": {},
   "source": [
    "<br>\n",
    "\n",
    "---\n",
    "\n",
    "#### **3. `split()` и `join()`**\n",
    "\n",
    "- **`split()`**: Разбивает строку на список подстрок по указанному разделителю (по умолчанию — пробел).\n",
    "  "
   ]
  },
  {
   "cell_type": "code",
   "execution_count": null,
   "id": "554956dd",
   "metadata": {},
   "outputs": [],
   "source": [
    "text = \"Python,Java,C++\"\n",
    "print(text.split(\",\"))  # ['Python', 'Java', 'C++']\n",
    "\n",
    "sentence = \"Это пример предложения\"\n",
    "print(sentence.split())  # ['Это', 'пример', 'предложения']"
   ]
  },
  {
   "cell_type": "code",
   "execution_count": null,
   "id": "b5bed3b3",
   "metadata": {},
   "outputs": [],
   "source": [
    "# Проверь решение:"
   ]
  },
  {
   "cell_type": "markdown",
   "id": "606ad0dc",
   "metadata": {},
   "source": [
    "- **`join()`**: Объединяет элементы списка в строку, используя текущую строку как разделитель."
   ]
  },
  {
   "cell_type": "code",
   "execution_count": null,
   "id": "5fc1567d",
   "metadata": {},
   "outputs": [],
   "source": [
    "words = [\"Hello\", \"World\"]\n",
    "print(\"-\".join(words))  # Hello-World"
   ]
  },
  {
   "cell_type": "code",
   "execution_count": null,
   "id": "5508f204",
   "metadata": {},
   "outputs": [],
   "source": [
    "# Проверь решение:"
   ]
  },
  {
   "cell_type": "markdown",
   "id": "b096331f",
   "metadata": {},
   "source": [
    "<br>\n",
    "\n",
    "---\n",
    "\n",
    "#### **4. `strip()`, `lstrip()`, `rstrip()`**\n",
    "\n",
    "Удаляют пробельные символы (пробелы, `\\n`, `\\t`) с обоих концов строки, только слева или только справа."
   ]
  },
  {
   "cell_type": "code",
   "execution_count": null,
   "id": "61afc057",
   "metadata": {},
   "outputs": [],
   "source": [
    "text = \"   Hello!   \"\n",
    "print(text.strip())   # \"Hello!\"\n",
    "print(text.lstrip())  # \"Hello!   \"\n",
    "print(text.rstrip())  # \"   Hello!\""
   ]
  },
  {
   "cell_type": "code",
   "execution_count": null,
   "id": "48c2b98a",
   "metadata": {},
   "outputs": [],
   "source": [
    "# Проверь решение:"
   ]
  },
  {
   "cell_type": "markdown",
   "id": "6b6db044",
   "metadata": {},
   "source": [
    "- Можно указать символы для удаления:"
   ]
  },
  {
   "cell_type": "code",
   "execution_count": null,
   "id": "2be5ce70",
   "metadata": {},
   "outputs": [],
   "source": [
    "text = \"###Строка###\"\n",
    "print(text.strip(\"#\"))  # Строка"
   ]
  },
  {
   "cell_type": "code",
   "execution_count": null,
   "id": "dec44015",
   "metadata": {},
   "outputs": [],
   "source": [
    "# Проверь решение:"
   ]
  },
  {
   "cell_type": "markdown",
   "id": "30fb125e",
   "metadata": {},
   "source": [
    "<br>\n",
    "\n",
    "---\n",
    "\n",
    "#### **5. `startswith()` и `endswith()`**\n",
    "\n",
    "Проверяют, начинается или заканчивается ли строка с указанной подстроки."
   ]
  },
  {
   "cell_type": "code",
   "execution_count": null,
   "id": "e38bb2d0",
   "metadata": {},
   "outputs": [],
   "source": [
    "text = \"example.txt\"\n",
    "print(text.startswith(\"ex\"))  # True\n",
    "print(text.endswith(\".txt\"))  # True"
   ]
  },
  {
   "cell_type": "code",
   "execution_count": null,
   "id": "acc4a881",
   "metadata": {},
   "outputs": [],
   "source": [
    "# Проверь решение:"
   ]
  },
  {
   "cell_type": "markdown",
   "id": "ec30385c",
   "metadata": {},
   "source": [
    "<br>\n",
    "\n",
    "---\n",
    "\n",
    "#### **6. `find()` и `index()`**\n",
    "\n",
    "- **`find(sub)`**: Возвращает индекс первого вхождения подстроки `sub`. Если подстрока не найдена, возвращает `-1`."
   ]
  },
  {
   "cell_type": "code",
   "execution_count": null,
   "id": "7ff5a9e6",
   "metadata": {},
   "outputs": [],
   "source": [
    "text = \"Hello, World!\"\n",
    "print(text.find(\"o\"))    # 4\n",
    "print(text.find(\"xyz\"))  # -1"
   ]
  },
  {
   "cell_type": "code",
   "execution_count": null,
   "id": "f5a7cfc0",
   "metadata": {},
   "outputs": [],
   "source": [
    "# Проверь решение:"
   ]
  },
  {
   "cell_type": "markdown",
   "id": "f9a28374",
   "metadata": {},
   "source": [
    "- **`index(sub)`**: Аналогичен `find()`, но вызывает ошибку `ValueError`, если подстрока не найдена."
   ]
  },
  {
   "cell_type": "code",
   "execution_count": null,
   "id": "37cdb68b",
   "metadata": {},
   "outputs": [],
   "source": [
    "text = \"Python\"\n",
    "print(text.index(\"th\"))  # 2\n",
    "# text.index(\"x\")  # Ошибка!"
   ]
  },
  {
   "cell_type": "code",
   "execution_count": null,
   "id": "baa9ff5e",
   "metadata": {},
   "outputs": [],
   "source": [
    "# Проверь решение:"
   ]
  },
  {
   "cell_type": "markdown",
   "id": "655a5e29",
   "metadata": {},
   "source": [
    "<br>\n",
    "\n",
    "---\n",
    "\n",
    "#### **7. `count(sub)`**\n",
    "\n",
    "Подсчитывает количество непересекающихся вхождений подстроки `sub` в строку."
   ]
  },
  {
   "cell_type": "code",
   "execution_count": null,
   "id": "e268a41a",
   "metadata": {},
   "outputs": [],
   "source": [
    "text = \"балалайка\"\n",
    "print(text.count(\"ла\"))  # 2"
   ]
  },
  {
   "cell_type": "code",
   "execution_count": null,
   "id": "79c51a26",
   "metadata": {},
   "outputs": [],
   "source": [
    "# Проверь решение:"
   ]
  },
  {
   "cell_type": "markdown",
   "id": "fb9f829c",
   "metadata": {},
   "source": [
    "<br>\n",
    "\n",
    "---\n",
    "\n",
    "#### 🧩 **Примеры комбинирования методов**"
   ]
  },
  {
   "cell_type": "code",
   "execution_count": null,
   "id": "197c97d7",
   "metadata": {},
   "outputs": [],
   "source": [
    "# Удалить пробелы и привести к нижнему регистру\n",
    "text = \"  ПРИМЕР ТЕКСТА  \"\n",
    "clean_text = text.strip().lower()\n",
    "print(clean_text)  # пример текста\n",
    "\n",
    "# Заменить символы и разбить на список\n",
    "data = \"1,2,3,4,5\"\n",
    "numbers = data.replace(\" \", \"\").split(\",\")\n",
    "print(numbers)  # ['1', '2', '3', '4', '5']"
   ]
  },
  {
   "cell_type": "code",
   "execution_count": null,
   "id": "04d57363",
   "metadata": {},
   "outputs": [],
   "source": [
    "# Приведи свой пример:"
   ]
  },
  {
   "cell_type": "markdown",
   "id": "46a4efd9",
   "metadata": {},
   "source": [
    "<br>\n",
    "\n",
    "---\n",
    "\n",
    "#### **8. `capitalize()`**\n",
    "\n",
    "Делает первую букву строки заглавной, остальные — строчными."
   ]
  },
  {
   "cell_type": "code",
   "execution_count": null,
   "id": "0d17e140",
   "metadata": {},
   "outputs": [],
   "source": [
    "print(\"harry\".capitalize())  # Harry"
   ]
  },
  {
   "cell_type": "code",
   "execution_count": null,
   "id": "64ff1ee3",
   "metadata": {},
   "outputs": [],
   "source": [
    "# Проверь решение:"
   ]
  },
  {
   "cell_type": "markdown",
   "id": "8060ec0c",
   "metadata": {},
   "source": [
    "<br>\n",
    "\n",
    "---\n",
    "\n",
    "#### **9. `casefold()`**\n",
    "Агрессивное приведение к нижнему регистру (работает с Unicode, включая символы типа `ß` → `ss`)."
   ]
  },
  {
   "cell_type": "code",
   "execution_count": null,
   "id": "7b6a7d71",
   "metadata": {},
   "outputs": [],
   "source": [
    "print(\"Hello Harry\".casefold())  # hello harry"
   ]
  },
  {
   "cell_type": "code",
   "execution_count": null,
   "id": "5d0ff89a",
   "metadata": {},
   "outputs": [],
   "source": [
    "# Проверь решение:"
   ]
  },
  {
   "cell_type": "markdown",
   "id": "e454c2a6",
   "metadata": {},
   "source": [
    "<br>\n",
    "\n",
    "---\n",
    "\n",
    "#### **10. `center(width)`**\n",
    "Центрирует строку, добавляя пробелы до указанной ширины."
   ]
  },
  {
   "cell_type": "code",
   "execution_count": null,
   "id": "1036e540",
   "metadata": {},
   "outputs": [],
   "source": [
    "print(\"hello World\".center(20))  #     hello World   "
   ]
  },
  {
   "cell_type": "code",
   "execution_count": null,
   "id": "8b56ea37",
   "metadata": {},
   "outputs": [],
   "source": [
    "# Проверь решение:"
   ]
  },
  {
   "cell_type": "markdown",
   "id": "017bc188",
   "metadata": {},
   "source": [
    "<br>\n",
    "\n",
    "---\n",
    "\n",
    "#### **11. `encode(encoding='utf-8')`**\n",
    "Преобразует строку в байты с указанной кодировкой."
   ]
  },
  {
   "cell_type": "code",
   "execution_count": null,
   "id": "565260b2",
   "metadata": {},
   "outputs": [],
   "source": [
    "print(\"hello World\".encode())  # b'hello World'"
   ]
  },
  {
   "cell_type": "code",
   "execution_count": null,
   "id": "98abf7dc",
   "metadata": {},
   "outputs": [],
   "source": [
    "# Проверь решение:"
   ]
  },
  {
   "cell_type": "markdown",
   "id": "d2bfb626",
   "metadata": {},
   "source": [
    "<br>\n",
    "\n",
    "---\n",
    "\n",
    "#### **12. `expandtabs(tabsize=8)`**\n",
    "Заменяет символы табуляции (`\\t`) на пробелы."
   ]
  },
  {
   "cell_type": "code",
   "execution_count": null,
   "id": "00e50dbd",
   "metadata": {},
   "outputs": [],
   "source": [
    "print(\"H\\te\\tl\\tl\\to\".expandtabs(2))  # H e l l o"
   ]
  },
  {
   "cell_type": "code",
   "execution_count": null,
   "id": "523cae9b",
   "metadata": {},
   "outputs": [],
   "source": [
    "# Проверь решение:"
   ]
  },
  {
   "cell_type": "markdown",
   "id": "758e57de",
   "metadata": {},
   "source": [
    "<br>\n",
    "\n",
    "---\n",
    "\n",
    "#### **13. `format()`**\n",
    "Форматирует строку, подставляя значения по шаблону."
   ]
  },
  {
   "cell_type": "code",
   "execution_count": null,
   "id": "1b96ca10",
   "metadata": {},
   "outputs": [],
   "source": [
    "print(\"{price:.2f}$\".format(price=49))  # 49.00$"
   ]
  },
  {
   "cell_type": "code",
   "execution_count": null,
   "id": "01f1a62b",
   "metadata": {},
   "outputs": [],
   "source": [
    "# Проверь решение:"
   ]
  },
  {
   "cell_type": "markdown",
   "id": "c1b25641",
   "metadata": {},
   "source": [
    "<br>\n",
    "\n",
    "---\n",
    "\n",
    "#### **14. `isdigit()`**\n",
    "Проверяет, состоит ли строка только из цифр."
   ]
  },
  {
   "cell_type": "code",
   "execution_count": null,
   "id": "50ebee65",
   "metadata": {},
   "outputs": [],
   "source": [
    "print(\"hello World 20\".isdigit())  # False\n",
    "print(\"12345\".isdigit())           # True"
   ]
  },
  {
   "cell_type": "code",
   "execution_count": null,
   "id": "6687fb59",
   "metadata": {},
   "outputs": [],
   "source": [
    "# Проверь решение:"
   ]
  },
  {
   "cell_type": "markdown",
   "id": "2ae4ddcc",
   "metadata": {},
   "source": [
    "<br>\n",
    "\n",
    "---\n",
    "\n",
    "#### **15. `isalpha()`**\n",
    "Проверяет, состоит ли строка только из букв."
   ]
  },
  {
   "cell_type": "code",
   "execution_count": null,
   "id": "5fb920c0",
   "metadata": {},
   "outputs": [],
   "source": [
    "print(\"Complex\".isalpha())  # True\n",
    "print(\"Hello123\".isalpha()) # False"
   ]
  },
  {
   "cell_type": "code",
   "execution_count": null,
   "id": "a84c815d",
   "metadata": {},
   "outputs": [],
   "source": [
    "# Проверь решение:"
   ]
  },
  {
   "cell_type": "markdown",
   "id": "7ddefa70",
   "metadata": {},
   "source": [
    "<br>\n",
    "\n",
    "---\n",
    "\n",
    "#### **16. `zfill(width)`**\n",
    "Дополняет строку нулями слева до указанной длины."
   ]
  },
  {
   "cell_type": "code",
   "execution_count": null,
   "id": "6ac0b84e",
   "metadata": {},
   "outputs": [],
   "source": [
    "print(\"50\".zfill(10))  # 0000000050"
   ]
  },
  {
   "cell_type": "code",
   "execution_count": null,
   "id": "35d8f993",
   "metadata": {},
   "outputs": [],
   "source": [
    "# Проверь решение:"
   ]
  },
  {
   "cell_type": "markdown",
   "id": "d41b6e37",
   "metadata": {},
   "source": [
    "<br>\n",
    "\n",
    "---\n",
    "\n",
    "#### **17. `swapcase()`**\n",
    "Меняет регистр всех символов на противоположный."
   ]
  },
  {
   "cell_type": "code",
   "execution_count": null,
   "id": "c2615072",
   "metadata": {},
   "outputs": [],
   "source": [
    "print(\"I'm harry\".swapcase())  # i'M HARRY"
   ]
  },
  {
   "cell_type": "code",
   "execution_count": null,
   "id": "4bb0b891",
   "metadata": {},
   "outputs": [],
   "source": [
    "# Проверь решение:"
   ]
  },
  {
   "cell_type": "markdown",
   "id": "ee3409cb",
   "metadata": {},
   "source": [
    "<br>\n",
    "\n",
    "---\n",
    "\n",
    "#### **18. `isalnum()`**\n",
    "Проверяет, состоит ли строка только из букв и цифр."
   ]
  },
  {
   "cell_type": "code",
   "execution_count": null,
   "id": "f8ca16d8",
   "metadata": {},
   "outputs": [],
   "source": [
    "print(\"Company12\".isalnum())  # True\n",
    "print(\"Hello!\".isalnum())     # False"
   ]
  },
  {
   "cell_type": "code",
   "execution_count": null,
   "id": "e5d50e5b",
   "metadata": {},
   "outputs": [],
   "source": [
    "# Проверь решение:"
   ]
  },
  {
   "cell_type": "markdown",
   "id": "a56f8ea4",
   "metadata": {},
   "source": [
    "<br>\n",
    "\n",
    "---\n",
    "\n",
    "#### **19. `isascii()`**\n",
    "Проверяет, все ли символы строки являются ASCII-символами."
   ]
  },
  {
   "cell_type": "code",
   "execution_count": null,
   "id": "d66a23d2",
   "metadata": {},
   "outputs": [],
   "source": [
    "print(\"Company12\".isascii())  # True\n",
    "print(\"Привет\".isascii())     # False"
   ]
  },
  {
   "cell_type": "code",
   "execution_count": null,
   "id": "45184cd3",
   "metadata": {},
   "outputs": [],
   "source": [
    "# Проверь решение:"
   ]
  },
  {
   "cell_type": "markdown",
   "id": "c6570ac4",
   "metadata": {},
   "source": [
    "<br>\n",
    "\n",
    "---\n",
    "\n",
    "#### **20. `isdecimal()`**\n",
    "Проверяет, состоит ли строка только из десятичных цифр (Unicode)."
   ]
  },
  {
   "cell_type": "code",
   "execution_count": null,
   "id": "c849db38",
   "metadata": {},
   "outputs": [],
   "source": [
    "print(\"50\".isdecimal())        # True\n",
    "print(\"Ⅷ\".isdecimal())         # False (римская цифра)"
   ]
  },
  {
   "cell_type": "code",
   "execution_count": null,
   "id": "4a3abb50",
   "metadata": {},
   "outputs": [],
   "source": [
    "# Проверь решение:"
   ]
  },
  {
   "cell_type": "markdown",
   "id": "b02011c1",
   "metadata": {},
   "source": [
    "<br>\n",
    "\n",
    "---\n",
    "\n",
    "#### **21. `isidentifier()`**\n",
    "Проверяет, может ли строка быть именем переменной."
   ]
  },
  {
   "cell_type": "code",
   "execution_count": null,
   "id": "8fa2fc4d",
   "metadata": {},
   "outputs": [],
   "source": [
    "print(\"hello_World\".isidentifier())  # True\n",
    "print(\"123var\".isidentifier())       # False"
   ]
  },
  {
   "cell_type": "code",
   "execution_count": null,
   "id": "cd2eb7c0",
   "metadata": {},
   "outputs": [],
   "source": [
    "# Проверь решение:"
   ]
  },
  {
   "cell_type": "markdown",
   "id": "1d904ac0",
   "metadata": {},
   "source": [
    "<br>\n",
    "\n",
    "---\n",
    "\n",
    "#### **22. `islower()`**\n",
    "Проверяет, все ли символы строки в нижнем регистре."
   ]
  },
  {
   "cell_type": "code",
   "execution_count": null,
   "id": "9ba0dccb",
   "metadata": {},
   "outputs": [],
   "source": [
    "print(\"hello world\".islower())  # True\n",
    "print(\"Hello World\".islower())  # False"
   ]
  },
  {
   "cell_type": "code",
   "execution_count": null,
   "id": "d35c48bf",
   "metadata": {},
   "outputs": [],
   "source": [
    "# Проверь решение:"
   ]
  },
  {
   "cell_type": "markdown",
   "id": "eca80f53",
   "metadata": {},
   "source": [
    "<br>\n",
    "\n",
    "---\n",
    "\n",
    "#### **23. `isprintable()`**\n",
    "Проверяет, все ли символы строки можно вывести на печать."
   ]
  },
  {
   "cell_type": "code",
   "execution_count": null,
   "id": "43915530",
   "metadata": {},
   "outputs": [],
   "source": [
    "print(\"Hello!\\nAre you #1?\".isprintable())  # False (из-за `\\n`)\n",
    "print(\"Hello\".isprintable())                # True"
   ]
  },
  {
   "cell_type": "code",
   "execution_count": null,
   "id": "f96c72da",
   "metadata": {},
   "outputs": [],
   "source": [
    "# Проверь решение:"
   ]
  },
  {
   "cell_type": "markdown",
   "id": "33ca1e97",
   "metadata": {},
   "source": [
    "<br>\n",
    "\n",
    "---\n",
    "\n",
    "#### **24. `isspace()`**\n",
    "Проверяет, состоит ли строка только из пробельных символов."
   ]
  },
  {
   "cell_type": "code",
   "execution_count": null,
   "id": "0f9086ea",
   "metadata": {},
   "outputs": [],
   "source": [
    "print(\"    \".isspace())  # True\n",
    "print(\"  a  \".isspace()) # False"
   ]
  },
  {
   "cell_type": "code",
   "execution_count": null,
   "id": "98f66ccb",
   "metadata": {},
   "outputs": [],
   "source": [
    "# Проверь решение:"
   ]
  },
  {
   "cell_type": "markdown",
   "id": "a79137de",
   "metadata": {},
   "source": [
    "<br>\n",
    "\n",
    "---\n",
    "\n",
    "#### **25. `maketrans()` и `translate()`**\n",
    "\n",
    "- **`maketrans()`**: Создает таблицу замены символов.\n",
    "  \n",
    "- **`translate()`**: Применяет таблицу замены к строке."
   ]
  },
  {
   "cell_type": "code",
   "execution_count": null,
   "id": "1a08b35e",
   "metadata": {},
   "outputs": [],
   "source": [
    "table = str.maketrans(\"M\", \"T\")\n",
    "print(\"Mango\".translate(table))  # Tango"
   ]
  },
  {
   "cell_type": "code",
   "execution_count": null,
   "id": "964ac9d0",
   "metadata": {},
   "outputs": [],
   "source": [
    "# Проверь решение:"
   ]
  },
  {
   "cell_type": "markdown",
   "id": "78b2d8ba",
   "metadata": {},
   "source": [
    "<br>\n",
    "\n",
    "---\n",
    "\n",
    "#### **26. `rjust(width)`**\n",
    "Выравнивает строку по правому краю, добавляя пробелы слева."
   ]
  },
  {
   "cell_type": "code",
   "execution_count": null,
   "id": "865f563e",
   "metadata": {},
   "outputs": [],
   "source": [
    "print(\"hello World\".rjust(20))  #         hello World"
   ]
  },
  {
   "cell_type": "code",
   "execution_count": null,
   "id": "38216814",
   "metadata": {},
   "outputs": [],
   "source": [
    "# Проверь решение:"
   ]
  },
  {
   "cell_type": "markdown",
   "id": "9786366d",
   "metadata": {},
   "source": [
    "<br>\n",
    "\n",
    "---\n",
    "\n",
    "#### **27. `rpartition(sep)`**\n",
    "Разбивает строку на три части по последнему вхождению разделителя."
   ]
  },
  {
   "cell_type": "code",
   "execution_count": null,
   "id": "2cfcded3",
   "metadata": {},
   "outputs": [],
   "source": [
    "print(\"yes & No\".rpartition(\"&\"))  # ('yes ', '&', ' No')"
   ]
  },
  {
   "cell_type": "code",
   "execution_count": null,
   "id": "e2cc7e61",
   "metadata": {},
   "outputs": [],
   "source": [
    "# Проверь решение:"
   ]
  },
  {
   "cell_type": "markdown",
   "id": "03525b90",
   "metadata": {},
   "source": [
    "<br>\n",
    "\n",
    "---\n",
    "\n",
    "#### **28. `rsplit()`**\n",
    "Разбивает строку на список, начиная с конца."
   ]
  },
  {
   "cell_type": "code",
   "execution_count": null,
   "id": "66f80fd1",
   "metadata": {},
   "outputs": [],
   "source": [
    "print(\"apple,banana,grape\".rsplit(\",\", 1))  # ['apple,banana', 'grape']"
   ]
  },
  {
   "cell_type": "code",
   "execution_count": null,
   "id": "e690d294",
   "metadata": {},
   "outputs": [],
   "source": [
    "# Проверь решение:"
   ]
  },
  {
   "cell_type": "markdown",
   "id": "b8d35431",
   "metadata": {},
   "source": [
    "<br>\n",
    "\n",
    "---\n",
    "\n",
    "#### **29. `splitlines()`**\n",
    "Разбивает строку на список по переносам строк."
   ]
  },
  {
   "cell_type": "code",
   "execution_count": null,
   "id": "95c9a013",
   "metadata": {},
   "outputs": [],
   "source": [
    "print(\"hello\\nworld\".splitlines())  # ['hello', 'world']"
   ]
  },
  {
   "cell_type": "code",
   "execution_count": null,
   "id": "deeb07e7",
   "metadata": {},
   "outputs": [],
   "source": [
    "# Проверь решение:"
   ]
  },
  {
   "cell_type": "markdown",
   "id": "9efe8b48",
   "metadata": {},
   "source": [
    "<br>\n",
    "\n",
    "---\n",
    "\n",
    "<br>\n"
   ]
  },
  {
   "cell_type": "markdown",
   "id": "b9110188",
   "metadata": {},
   "source": [
    "#### ✅ **Примеры использования новых методов**"
   ]
  },
  {
   "cell_type": "markdown",
   "id": "f50620cd",
   "metadata": {},
   "source": [
    "- Проверка, является ли строка числом"
   ]
  },
  {
   "cell_type": "code",
   "execution_count": null,
   "id": "03017ec1",
   "metadata": {},
   "outputs": [],
   "source": [
    "# Проверка, является ли строка числом\n",
    "text = \"123\"\n",
    "if text.isdigit():\n",
    "    number = int(text)\n",
    "    print(number * 2)  # 246"
   ]
  },
  {
   "cell_type": "markdown",
   "id": "4f2888f1",
   "metadata": {},
   "source": [
    "- Удаление спецсимволов"
   ]
  },
  {
   "cell_type": "code",
   "execution_count": null,
   "id": "6c606a73",
   "metadata": {},
   "outputs": [],
   "source": [
    "# Удаление спецсимволов\n",
    "text = \"Hello\\tWorld\"\n",
    "clean_text = text.expandtabs(4)\n",
    "print(clean_text)  # Hello    World\n"
   ]
  },
  {
   "cell_type": "markdown",
   "id": "db28e971",
   "metadata": {},
   "source": [
    "- Генерация таблицы замены"
   ]
  },
  {
   "cell_type": "code",
   "execution_count": null,
   "id": "09604d35",
   "metadata": {},
   "outputs": [],
   "source": [
    "# Генерация таблицы замены\n",
    "table = str.maketrans(\"aeiou\", \"12345\")\n",
    "print(\"apple\".translate(table))  # 1ppl2"
   ]
  },
  {
   "cell_type": "markdown",
   "id": "ac583617",
   "metadata": {},
   "source": [
    "<br>\n",
    "\n",
    "---\n",
    "\n",
    "<br>\n",
    "\n",
    "#### 🧠 **Задания к разделу**\n",
    "\n",
    "1. Преобразуйте строку `\"python\"` в `\"PYTHON\"` с помощью двух разных методов.\n",
    "   \n",
    "2. Проверьте, является ли строка `\"Hello123\"` идентификатором.\n",
    "   \n",
    "3. Разбейте строку `\"one,two,three,four\"` на два элемента, начиная с конца.\n",
    "   \n",
    "4. Замените все гласные в строке `\"Hello World\"` на звездочки `*`."
   ]
  },
  {
   "cell_type": "code",
   "execution_count": null,
   "id": "63f2b24c",
   "metadata": {},
   "outputs": [],
   "source": [
    "# 1 \n",
    "# Ваше решение:"
   ]
  },
  {
   "cell_type": "code",
   "execution_count": null,
   "id": "6de728e7",
   "metadata": {},
   "outputs": [],
   "source": [
    "# 2\n",
    "# Ваше решение:"
   ]
  },
  {
   "cell_type": "code",
   "execution_count": null,
   "id": "344f4607",
   "metadata": {},
   "outputs": [],
   "source": [
    "# 3\n",
    "# Ваше решение:"
   ]
  },
  {
   "cell_type": "code",
   "execution_count": null,
   "id": "2ffa963f",
   "metadata": {},
   "outputs": [],
   "source": [
    "# 4\n",
    "# Ваше решение:"
   ]
  },
  {
   "cell_type": "markdown",
   "id": "2c327360",
   "metadata": {},
   "source": [
    "**Ответы:**\n",
    "```python\n",
    "# 1\n",
    "print(\"python\".upper())        # PYTHON\n",
    "print(\"python\".swapcase().swapcase())  # PYTHON\n",
    "\n",
    "# 2\n",
    "print(\"Hello123\".isidentifier())  # False\n",
    "\n",
    "# 3\n",
    "print(\"one,two,three,four\".rsplit(\",\", 2))  # ['one,two', 'three', 'four']\n",
    "\n",
    "# 4\n",
    "table = str.maketrans(\"aeiouAEIOU\", \"**********\")\n",
    "print(\"Hello World\".translate(table))  # H*ll* W*rld\n",
    "```"
   ]
  },
  {
   "cell_type": "markdown",
   "id": "7669d1af",
   "metadata": {},
   "source": [
    "<br>\n",
    "\n",
    "#### **Задание 5: Регистр символов**\n",
    "\n",
    "1. Создайте строку: `text = \"ПрИвЕт, КаК ДеЛа?\"`.\n",
    "2. Приведите все символы к нижнему регистру.\n",
    "3. Сделайте первую букву каждого слова заглавной.\n",
    "4. Выведите результаты."
   ]
  },
  {
   "cell_type": "code",
   "execution_count": null,
   "id": "950b88c9",
   "metadata": {},
   "outputs": [],
   "source": [
    "# 5\n",
    "# Ваше решение:"
   ]
  },
  {
   "cell_type": "markdown",
   "id": "154e5e50",
   "metadata": {},
   "source": [
    "**Решение:**\n",
    "```python\n",
    "text = \"ПрИвЕт, КаК ДеЛа?\"\n",
    "print(text.lower())   # привет, как дела?\n",
    "print(text.title())   # Привет, Как Дела?\n",
    "```\n"
   ]
  },
  {
   "cell_type": "markdown",
   "id": "0ed6df28",
   "metadata": {},
   "source": [
    "<br>\n",
    "\n",
    "#### **Задание 6: Поиск и замена**\n",
    "1. В строке `text = \"Я изучаю C++. C++ это интересно.\"` замените все вхождения `C++` на `Python`.\n",
    "2. Найдите позицию первого вхождения слова `\"интересно\"`.\n",
    "3. Выведите результаты."
   ]
  },
  {
   "cell_type": "code",
   "execution_count": null,
   "id": "5cdc6d6d",
   "metadata": {},
   "outputs": [],
   "source": [
    "# 6\n",
    "# Ваше решение:"
   ]
  },
  {
   "cell_type": "markdown",
   "id": "63855495",
   "metadata": {},
   "source": [
    "**Решение:**\n",
    "```python\n",
    "text = \"Я изучаю C++. C++ это интересно.\"\n",
    "new_text = text.replace(\"C++\", \"Python\")\n",
    "position = new_text.find(\"интересно\")\n",
    "print(new_text)      # Я изучаю Python. Python это интересно.\n",
    "print(position)      # 23\n",
    "```"
   ]
  },
  {
   "cell_type": "markdown",
   "id": "d465ce68",
   "metadata": {},
   "source": [
    "<br>\n",
    "\n",
    "#### **Задание 7: Разделение и объединение**\n",
    "1. Разбейте строку `data = \"apple,banana,grape,orange\"` на список фруктов.\n",
    "2. Объедините список в строку с разделителем `\" и \"`.\n",
    "3. Выведите результат: `\"apple и banana и grape и orange\"`."
   ]
  },
  {
   "cell_type": "code",
   "execution_count": null,
   "id": "2bd538f9",
   "metadata": {},
   "outputs": [],
   "source": [
    "# 7\n",
    "# Ваше решение:"
   ]
  },
  {
   "cell_type": "markdown",
   "id": "8e6332a6",
   "metadata": {},
   "source": [
    "**Решение:**\n",
    "```python\n",
    "data = \"apple,banana,grape,orange\"\n",
    "fruits = data.split(\",\")\n",
    "result = \" и \".join(fruits)\n",
    "print(result)\n",
    "```\n"
   ]
  },
  {
   "cell_type": "markdown",
   "id": "bb84cc0d",
   "metadata": {},
   "source": [
    "<br>\n",
    "\n",
    "#### **Задание 8: Очистка строки**\n",
    "\n",
    "1. Дана строка: `text = \"  \\n   Это тестовая строка с лишними пробелами.   \\t \"`.\n",
    "2. Удалите пробелы и символы переноса с обоих концов.\n",
    "3. Замените все пробелы внутри строки на дефисы.\n",
    "4. Выведите результат."
   ]
  },
  {
   "cell_type": "code",
   "execution_count": null,
   "id": "6c0845a9",
   "metadata": {},
   "outputs": [],
   "source": [
    "# 8\n",
    "# Ваше решение:"
   ]
  },
  {
   "cell_type": "markdown",
   "id": "a0aa97d1",
   "metadata": {},
   "source": [
    "**Решение:**\n",
    "```python\n",
    "text = \"  \\n   Это тестовая строка с лишними пробелами.   \\t \"\n",
    "clean_text = text.strip().replace(\" \", \"-\")\n",
    "print(clean_text)  # Это-тестовая-строка-с-лишними-пробелами.\n",
    "```"
   ]
  },
  {
   "cell_type": "markdown",
   "id": "0f01a8b3",
   "metadata": {},
   "source": [
    "<br>\n",
    "\n",
    "#### **Задание 9 (продвинутое): Анализ текста**\n",
    "\n",
    "1. Попросите пользователя ввести текст через `input()`.\n",
    "2. Посчитайте:\n",
    "   - Количество слов (разделенных пробелами).\n",
    "   - Количество буквы `а` (в любом регистре).\n",
    "3. Выведите результаты."
   ]
  },
  {
   "cell_type": "code",
   "execution_count": null,
   "id": "cc4d2c41",
   "metadata": {},
   "outputs": [],
   "source": [
    "# 9\n",
    "# Ваше решение:"
   ]
  },
  {
   "cell_type": "markdown",
   "id": "cb40dae4",
   "metadata": {},
   "source": [
    "**Решение:**\n",
    "```python\n",
    "text = input(\"Введите текст: \")\n",
    "words = text.split()\n",
    "count_a = text.lower().count(\"а\")\n",
    "print(f\"Слов: {len(words)}, букв 'а': {count_a}\")\n",
    "```"
   ]
  },
  {
   "cell_type": "markdown",
   "id": "e5bc4673",
   "metadata": {},
   "source": [
    "<br>\n",
    "\n",
    "---\n",
    "\n",
    "<br>"
   ]
  },
  {
   "cell_type": "markdown",
   "id": "2e4ebab3",
   "metadata": {},
   "source": [
    "### 🧠 **Проверь себя**\n",
    "\n",
    "1. Что выведет код?\n",
    "   ```python\n",
    "   text = \"Hello, World!\"\n",
    "   print(text.replace(\"l\", \"X\", 2))\n",
    "   ```\n",
    "   \n",
    "   **Ответ:** `HeXXo, World!` (заменены первые два \"l\")."
   ]
  },
  {
   "cell_type": "code",
   "execution_count": null,
   "id": "2c041d01",
   "metadata": {},
   "outputs": [],
   "source": [
    "# Проверь:"
   ]
  },
  {
   "cell_type": "markdown",
   "id": "fd51109b",
   "metadata": {},
   "source": [
    "2. Как получить строку `\"Python-Dev\"` из списка `[\"Python\", \"Dev\"]`?  \n",
    "   \n",
    "   **Ответ:** `\"-\".join([\"Python\", \"Dev\"])`."
   ]
  },
  {
   "cell_type": "code",
   "execution_count": null,
   "id": "81bca208",
   "metadata": {},
   "outputs": [],
   "source": [
    "# Проверь:"
   ]
  },
  {
   "cell_type": "markdown",
   "id": "766cbc40",
   "metadata": {},
   "source": [
    "3. Исправьте ошибку:\n",
    "   \n",
    "   ```python\n",
    "   text = \"   test   \"\n",
    "   print(text.strip(\"t\")) \n",
    "   ```\n",
    "   **Ответ:** Удалит все `t` по краям: `\"   test   \"` → `\"   test   \"` (пробелы останутся). Чтобы удалить пробелы и `t`, нужно: `text.strip().strip('t')`."
   ]
  },
  {
   "cell_type": "code",
   "execution_count": null,
   "id": "41acdf84",
   "metadata": {},
   "outputs": [],
   "source": [
    "# Проверь:"
   ]
  },
  {
   "cell_type": "markdown",
   "id": "0ad39db5",
   "metadata": {},
   "source": [
    "<br>\n",
    "\n",
    "---\n",
    "\n",
    "<br>\n",
    "\n",
    "**💡 Важные нюансы для Вас !**\n",
    "\n",
    "- **Неизменяемость строк:** Методы не меняют исходную строку, а возвращают новую.\n",
    "  \n",
    "- **Регистр символов:** `lower()` и `upper()` работают только с ASCII-символами. Для Unicode используйте `casefold()`.\n",
    "  \n",
    "- **Метод `split()`** без аргументов удаляет все пробелы подряд.\n",
    "\n",
    "<br>\n",
    "\n",
    "---"
   ]
  },
  {
   "cell_type": "markdown",
   "id": "16903631",
   "metadata": {},
   "source": [
    "<br>\n",
    "\n",
    "\n",
    "#### 📬 Author\n",
    " \n",
    "**Siergej Sobolewski**  \n",
    "[![Email 🚀](https://img.shields.io/badge/Email-s.sobolewski@hotmail.com-blue?logo=protonmail)](mailto:s.sobolewski@hotmail.com)  \n",
    "[![GitHub](https://img.shields.io/badge/GitHub-SSobol77-blue?logo=github)](https://github.com/SSobol77)  \n",
    "[![LinkedIn](https://img.shields.io/badge/LinkedIn-Connect-blue?logo=linkedin)](https://linkedin.com/in/siergej-s-25a16319a)\n"
   ]
  }
 ],
 "metadata": {
  "kernelspec": {
   "display_name": "Python 3",
   "language": "python",
   "name": "python3"
  },
  "language_info": {
   "codemirror_mode": {
    "name": "ipython",
    "version": 3
   },
   "file_extension": ".py",
   "mimetype": "text/x-python",
   "name": "python",
   "nbconvert_exporter": "python",
   "pygments_lexer": "ipython3",
   "version": "3.13.2"
  }
 },
 "nbformat": 4,
 "nbformat_minor": 5
}
