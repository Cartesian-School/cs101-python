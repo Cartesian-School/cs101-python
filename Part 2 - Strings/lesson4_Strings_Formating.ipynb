{
 "cells": [
  {
   "cell_type": "markdown",
   "metadata": {},
   "source": [
    "# 🧵 **Урок 4: Строки в Python. Форматирование.**\n",
    "\n",
    "\n",
    "\n",
    "В этом ноутбуке мы изучим всё о способах форматирования строк, научимся работать с экранированием и сырыми строками!\n",
    "\n",
    "\n",
    "- 📚 Теория и синтаксис\n",
    "- 🧪 Примеры с пояснениями\n",
    "- 🧠 Упражнения для закрепления\n",
    "\n",
    "<br>\n",
    "\n",
    "> **Продолжение**\n",
    "\n",
    "---"
   ]
  },
  {
   "cell_type": "markdown",
   "metadata": {},
   "source": [
    "<br>\n",
    "\n",
    "## 🕵️ **7. Проверка содержимого строк**\n",
    "\n",
    "<br>\n",
    "\n",
    "Иногда возникает необходимость проверить, соответствует ли строка определенным критериям, например состоит ли она только из цифр, \n",
    "\n",
    "букв, комбинации букв и цифр или пробелов.\n",
    "\n",
    "В Python существуют методы, котрые позволяют это проверить. Они нам возвращают `True` или `False`.\n",
    "\n",
    "<br>\n",
    "\n",
    "---"
   ]
  },
  {
   "cell_type": "markdown",
   "metadata": {},
   "source": [
    "<br>\n",
    "\n",
    "### 📚 **1. `isdigit()`**\n",
    "\n",
    "Проверяет, содержатся ли в строке **только цифры** (0–9).  \n",
    "\n",
    "**Важно:**  \n",
    "\n",
    "- Пустая строка → `False`.  \n",
    "\n",
    "- Символы юникода, обозначающие цифры (например, `²` или `Ⅷ`), не учитываются.\n"
   ]
  },
  {
   "cell_type": "markdown",
   "metadata": {},
   "source": [
    "#### **🧪 Примеры:**"
   ]
  },
  {
   "cell_type": "code",
   "execution_count": null,
   "metadata": {},
   "outputs": [
    {
     "name": "stdout",
     "output_type": "stream",
     "text": [
      "True\n",
      "False\n",
      "False\n",
      "False\n"
     ]
    }
   ],
   "source": [
    "print(\"123\".isdigit())       # True\n",
    "\n",
    "print(\"12.3\".isdigit())      # False (точка не цифра! У нас ведь строка, а в ней считаются все знаки)\n",
    "\n",
    "print(\"Ⅷ\".isdigit())         # False (римская цифра)\n",
    "\n",
    "print(\"\".isdigit())          # False (пустая строка)"
   ]
  },
  {
   "cell_type": "markdown",
   "metadata": {},
   "source": [
    "<br>\n",
    "\n",
    "---\n",
    "\n",
    "<br>"
   ]
  },
  {
   "cell_type": "markdown",
   "metadata": {},
   "source": [
    "### 📚 **2. `isalpha()`**\n",
    "\n",
    "Проверяет, содержатся ли в строке **только буквы** (латиница, кириллица и др.).  \n",
    "\n",
    "**Важно:**  \n",
    "\n",
    "- Пробелы, цифры и спецсимволы → `False`.  \n",
    "\n",
    "- Регистр букв **не имеет** значения!"
   ]
  },
  {
   "cell_type": "markdown",
   "metadata": {},
   "source": [
    "#### **🧪 Примеры:**"
   ]
  },
  {
   "cell_type": "code",
   "execution_count": null,
   "metadata": {},
   "outputs": [],
   "source": [
    "print(\"Hello\".isalpha())     # True\n",
    "\n",
    "print(\"Привет\".isalpha())    # True\n",
    "\n",
    "print(\"Hello123\".isalpha())  # False\n",
    "\n",
    "print(\"   \".isalpha())       # False (пробелы это тоже строка)"
   ]
  },
  {
   "cell_type": "markdown",
   "metadata": {},
   "source": [
    "<br>\n",
    "\n",
    "---\n",
    "\n",
    "<br>"
   ]
  },
  {
   "cell_type": "markdown",
   "metadata": {},
   "source": [
    "### 📚  **3. `isalnum()`**\n",
    "\n",
    "Проверяет, состоит ли строка **только из букв и/или цифр** (без пробелов и спецсимволов)."
   ]
  },
  {
   "cell_type": "markdown",
   "metadata": {},
   "source": [
    "#### **🧪Примеры:**"
   ]
  },
  {
   "cell_type": "code",
   "execution_count": null,
   "metadata": {},
   "outputs": [],
   "source": [
    "print(\"Hello123\".isalnum())  # True\n",
    "\n",
    "print(\"Python3.9\".isalnum()) # False (точка)\n",
    "\n",
    "print(\"123\".isalnum())       # True\n",
    "\n",
    "print(\"   \".isalnum())       # False (пробелы)"
   ]
  },
  {
   "cell_type": "markdown",
   "metadata": {},
   "source": [
    "<br>\n",
    "\n",
    "---\n",
    "\n",
    "<br>"
   ]
  },
  {
   "cell_type": "markdown",
   "metadata": {},
   "source": [
    "### 📚 **4. `isspace()`**\n",
    "\n",
    "Проверяет, состоит ли строка **только из пробельных символов** (пробел, `\\t`, `\\n`, `\\r`).  "
   ]
  },
  {
   "cell_type": "markdown",
   "metadata": {},
   "source": [
    "#### **🧪Примеры:**"
   ]
  },
  {
   "cell_type": "code",
   "execution_count": null,
   "metadata": {},
   "outputs": [],
   "source": [
    "print(\"   \".isspace())       # True\n",
    "\n",
    "print(\"\\t\\n\".isspace())      # True\n",
    "\n",
    "print(\"   a   \".isspace())   # False (есть буква)"
   ]
  },
  {
   "cell_type": "markdown",
   "metadata": {},
   "source": [
    "\n",
    "---\n",
    "\n",
    "<br>\n",
    "\n",
    "### 🧪 **Примеры комбинирования методов**"
   ]
  },
  {
   "cell_type": "code",
   "execution_count": null,
   "metadata": {},
   "outputs": [],
   "source": [
    "# Проверка, что строка содержит только буквы и пробелы\n",
    "\n",
    "def is_name_valid(name):\n",
    "    return all(c.isalpha() or c.isspace() for c in name)\n",
    "\n",
    "print(is_name_valid(\"Иван Петров\"))  # True\n",
    "print(is_name_valid(\"Иван123\"))      # False"
   ]
  },
  {
   "cell_type": "markdown",
   "metadata": {},
   "source": [
    "<br>\n",
    "\n",
    "---\n",
    "\n",
    "<br>"
   ]
  },
  {
   "cell_type": "markdown",
   "metadata": {},
   "source": [
    "### 🧠 **Задания к разделу**"
   ]
  },
  {
   "cell_type": "markdown",
   "metadata": {},
   "source": [
    "<br>\n",
    "\n",
    "#### **Задание 1: Проверка пароля**\n",
    "\n",
    "Напишите код, который проверяет, соответствует ли пароль условиям:  \n",
    "\n",
    "- Содержит минимум 1 букву.  \n",
    "- Содержит минимум 1 цифру.  \n",
    "- Длина не менее 8 символов.  "
   ]
  },
  {
   "cell_type": "code",
   "execution_count": null,
   "metadata": {},
   "outputs": [],
   "source": [
    "# Ваше решение:"
   ]
  },
  {
   "cell_type": "markdown",
   "metadata": {},
   "source": [
    "**Пример решения:**\n",
    "```python\n",
    "password = input(\"Введите пароль: \")\n",
    "has_alpha = any(c.isalpha() for c in password)\n",
    "has_digit = any(c.isdigit() for c in password)\n",
    "is_valid = has_alpha and has_digit and len(password) >= 8\n",
    "print(\"Пароль валиден?\" , is_valid)\n",
    "```"
   ]
  },
  {
   "cell_type": "markdown",
   "metadata": {},
   "source": [
    "\n",
    "<br>\n",
    "\n",
    "#### **Задание 2: Число или текст?**\n",
    "\n",
    "Попросите пользователя ввести строку. Определите:  \n",
    "- Является ли она целым числом (используйте `isdigit()`).  \n",
    "- Является ли она дробным числом (содержит ровно одну точку и цифры).  "
   ]
  },
  {
   "cell_type": "code",
   "execution_count": null,
   "metadata": {},
   "outputs": [],
   "source": [
    "# Ваше решение:"
   ]
  },
  {
   "cell_type": "markdown",
   "metadata": {},
   "source": [
    "**Решение:**\n",
    "```python\n",
    "text = input(\"Введите значение: \")\n",
    "if text.isdigit():\n",
    "    print(\"Целое число\")\n",
    "elif text.count(\".\") == 1 and text.replace(\".\", \"\").isdigit():\n",
    "    print(\"Дробное число\")\n",
    "else:\n",
    "    print(\"Не число\")\n",
    "```"
   ]
  },
  {
   "cell_type": "markdown",
   "metadata": {},
   "source": [
    "\n",
    "<br>\n",
    "\n",
    "#### **Задание 3: Проверка имени**\n",
    "\n",
    "Создайте функцию `is_valid_name(name)`, которая возвращает `True`, если:  \n",
    "\n",
    "- Имя содержит только буквы и пробелы.  \n",
    "- Первая буква каждого слова заглавная.  "
   ]
  },
  {
   "cell_type": "code",
   "execution_count": null,
   "metadata": {},
   "outputs": [],
   "source": [
    "# Ваше решение:"
   ]
  },
  {
   "cell_type": "markdown",
   "metadata": {},
   "source": [
    "**Пример решения:**\n",
    "\n",
    "```python\n",
    "def is_valid_name(name):\n",
    "    # Проверка на буквы и пробелы\n",
    "    if not all(c.isalpha() or c.isspace() for c in name):\n",
    "        return False\n",
    "    # Проверка регистра первых букв\n",
    "    words = name.split()\n",
    "    return all(word.istitle() for word in words) and len(words) > 0\n",
    "\n",
    "print(is_valid_name(\"Иван Петров\"))  # True\n",
    "print(is_valid_name(\"иван Петров\"))  # False\n",
    "```"
   ]
  },
  {
   "cell_type": "markdown",
   "metadata": {},
   "source": [
    "<br>\n",
    "\n",
    "#### **Задание 4: Анализ текста**\n",
    "\n",
    "Напишите код, который подсчитывает:  \n",
    "- Количество букв.  \n",
    "- Количество цифр.  \n",
    "- Количество пробелов.  "
   ]
  },
  {
   "cell_type": "code",
   "execution_count": null,
   "metadata": {},
   "outputs": [],
   "source": [
    "# Ваше решение:"
   ]
  },
  {
   "cell_type": "markdown",
   "metadata": {},
   "source": [
    "**Пример:**\n",
    "\n",
    "```python\n",
    "text = \"Hello 123 World\"\n",
    "letters = sum(c.isalpha() for c in text)\n",
    "digits = sum(c.isdigit() for c in text)\n",
    "spaces = sum(c.isspace() for c in text)\n",
    "print(f\"Буквы: {letters}, Цифры: {digits}, Пробелы: {spaces}\")\n",
    "```"
   ]
  },
  {
   "cell_type": "markdown",
   "metadata": {},
   "source": [
    "\n",
    "<br>\n",
    "\n",
    "#### **Задание 5 (продвинутое!!!): Валидация e-mail**\n",
    "\n",
    "Проверьте, может ли строка быть e-mail: \n",
    " \n",
    "- Содержит ровно один `@`.  \n",
    "- Домен содержит минимум одну точку.  \n",
    "- Локальная часть (до `@`) не пустая и не содержит пробелов.  \n"
   ]
  },
  {
   "cell_type": "code",
   "execution_count": null,
   "metadata": {},
   "outputs": [],
   "source": [
    "# Ваше решение:"
   ]
  },
  {
   "cell_type": "markdown",
   "metadata": {},
   "source": [
    "**Решение:**\n",
    "\n",
    "```python\n",
    "email = input(\"Введите email: \")\n",
    "if email.count(\"@\") == 1:\n",
    "    local, domain = email.split(\"@\")\n",
    "    if len(local) == 0 or \" \" in local:\n",
    "        print(\"Неверный email\")\n",
    "    elif domain.count(\".\") >= 1:\n",
    "        print(\"Email валиден\")\n",
    "    else:\n",
    "        print(\"Неверный домен\")\n",
    "else:\n",
    "    print(\"Неверный email\")\n",
    "```"
   ]
  },
  {
   "cell_type": "markdown",
   "metadata": {},
   "source": [
    "<br>\n",
    "\n",
    "---\n",
    "\n",
    "<br>"
   ]
  },
  {
   "cell_type": "markdown",
   "metadata": {},
   "source": [
    "\n",
    "### 🧠 **Проверь себя**"
   ]
  },
  {
   "cell_type": "markdown",
   "metadata": {},
   "source": [
    "1. Что выведет код?  \n",
    "   \n",
    "   ```python\n",
    "   print(\"123a\".isdigit())  # False\n",
    "   print(\"   \".isalnum())   # False\n",
    "   ```"
   ]
  },
  {
   "cell_type": "code",
   "execution_count": null,
   "metadata": {},
   "outputs": [],
   "source": [
    "# Проверь:"
   ]
  },
  {
   "cell_type": "markdown",
   "metadata": {},
   "source": [
    "2. Исправьте ошибку:  \n",
    "   \n",
    "   ```python\n",
    "   text = \"Hello World\"\n",
    "   print(text.isalpha())  # False (пробел не буква)\n",
    "   ```"
   ]
  },
  {
   "cell_type": "code",
   "execution_count": null,
   "metadata": {},
   "outputs": [],
   "source": [
    "# Исправьте:"
   ]
  },
  {
   "cell_type": "markdown",
   "metadata": {},
   "source": [
    "3. Как проверить, что строка содержит только цифры и пробелы?  \n",
    "   \n",
    "   **Ответ:**  \n",
    "   ```python\n",
    "   all(c.isdigit() or c.isspace() for c in text)\n",
    "   ```"
   ]
  },
  {
   "cell_type": "code",
   "execution_count": null,
   "metadata": {},
   "outputs": [],
   "source": [
    "# Проверь:"
   ]
  },
  {
   "cell_type": "markdown",
   "metadata": {},
   "source": [
    "<br>\n",
    "\n",
    "---\n",
    "\n",
    "<br>\n",
    "\n",
    "#### ♂️ **Нюансы о которых нужно помнить:**\n",
    "\n",
    "- **Пустая строка:** Все методы (`isdigit()`, `isalpha()` и др.) вернут `False`.  \n",
    "\n",
    "- **Юникод-символы:** Методы работают с буквами любых языков, но не распознают символы вроде `²` как цифры.\n",
    "    \n",
    "- **Комбинации:** Для сложных проверок используйте генераторы или регулярные выражения.\n",
    "  \n",
    "- `:)` Теперь вы умеете проверять содержимое строк! \n",
    "\n",
    "<br>\n",
    "\n",
    "---\n",
    "\n",
    "<br>\n"
   ]
  },
  {
   "cell_type": "markdown",
   "metadata": {},
   "source": [
    "<br>\n",
    "\n",
    "# 🔍 **8. Поиск и замена подстрок**\n",
    "\n",
    "Работа с подстроками — важная часть обработки текста. В Python для этого используются методы `find()`, `index()`, `replace()` и `count()`. \n",
    "\n",
    "Рассмотрим ниже их подробно.\n",
    "\n",
    "<br>\n",
    "\n",
    "---"
   ]
  },
  {
   "cell_type": "markdown",
   "metadata": {},
   "source": [
    "### 📚 **1. Поиск подстрок: `find()` и `index()`**\n",
    "\n",
    "Оба метода ищут первое вхождение подстроки и возвращают её индекс.  \n",
    "\n",
    "**Разница:**  \n",
    "- `find()` возвращает `-1`, если подстрока не найдена.  \n",
    "- `index()` вызывает ошибку `ValueError`, если подстрока не найдена.\n",
    "\n",
    "<br>\n",
    "\n",
    "| Метод          | Возвращаемое значение | Обработка ошибок |\n",
    "|----------------|------------------------|------------------|\n",
    "| `find(sub)`    | Индекс или `-1`        | Без ошибок       |\n",
    "| `index(sub)`   | Индекс                 | `ValueError`     |\n",
    "\n",
    "<br>\n"
   ]
  },
  {
   "cell_type": "markdown",
   "metadata": {},
   "source": [
    "#### 🧪 **Примеры:**"
   ]
  },
  {
   "cell_type": "code",
   "execution_count": null,
   "metadata": {},
   "outputs": [],
   "source": [
    "text = \"Hello, World!\"\n",
    "\n",
    "# find()\n",
    "print(text.find(\"lo\"))     # 3 (индекс начала \"lo\")\n",
    "print(text.find(\"Python\")) # -1 (не найдено)\n",
    "\n",
    "# index()\n",
    "print(text.index(\"World\")) # 7\n",
    "# print(text.index(\"Java\")) # Ошибка: ValueError"
   ]
  },
  {
   "cell_type": "markdown",
   "metadata": {},
   "source": [
    "\n",
    "---\n",
    "\n",
    "<br>\n",
    "\n",
    "#### 📚 **2. Замена подстрок: `replace()`**\n",
    "\n",
    "Метод заменяет все вхождения подстроки `old` на `new`.  \n",
    "\n",
    "\n",
    "**Синтаксис:**  \n",
    "\n",
    "```python\n",
    "строка.replace(old, new, count)\n",
    "\n",
    "```\n",
    "- `count` (опционально) — максимальное количество замен (по умолчанию заменяются все вхождения).\n"
   ]
  },
  {
   "cell_type": "markdown",
   "metadata": {},
   "source": [
    "#### 🧪 **Примеры:**"
   ]
  },
  {
   "cell_type": "code",
   "execution_count": null,
   "metadata": {},
   "outputs": [],
   "source": [
    "text = \"Я изучаю C++. C++ это круто.\"\n",
    "\n",
    "# Замена всех вхождений\n",
    "new_text = text.replace(\"C++\", \"Python\")\n",
    "print(new_text)  # Я изучаю Python. Python это круто.\n",
    "\n",
    "# Замена первого вхождения\n",
    "new_text = text.replace(\"C++\", \"Python\", 1)\n",
    "print(new_text)  # Я изучаю Python. C++ это круто."
   ]
  },
  {
   "cell_type": "markdown",
   "metadata": {},
   "source": [
    "\n",
    "---\n",
    "\n",
    "<br>\n",
    "\n",
    "#### 📚 **3. Подсчет вхождений: `count()`**\n",
    "Метод возвращает количество **неперекрывающихся** вхождений подстроки.  \n",
    "\n",
    "**Синтаксис:**  \n",
    "\n",
    "```python\n",
    "строка.count(sub, start, end)\n",
    "```\n",
    "- `start` и `end` (опционально) — диапазон поиска.\n"
   ]
  },
  {
   "cell_type": "markdown",
   "metadata": {},
   "source": [
    "#### 🧪 **Примеры:**"
   ]
  },
  {
   "cell_type": "code",
   "execution_count": null,
   "metadata": {},
   "outputs": [],
   "source": [
    "text = \"балалайка\"\n",
    "\n",
    "# Подсчет подстроки \"ла\"\n",
    "print(text.count(\"ла\"))  # 2\n",
    "\n",
    "# Поиск в диапазоне\n",
    "print(text.count(\"а\", 3, 7))  # 1 (индексы 3-6: \"лайк\")"
   ]
  },
  {
   "cell_type": "markdown",
   "metadata": {},
   "source": [
    "<br>\n",
    "\n",
    "---"
   ]
  },
  {
   "cell_type": "markdown",
   "metadata": {},
   "source": [
    "<br>\n",
    "\n",
    "### 🧪 **Примеры комбинирования методов**"
   ]
  },
  {
   "cell_type": "code",
   "execution_count": null,
   "metadata": {},
   "outputs": [],
   "source": [
    "# Удаление всех пробелов из строки\n",
    "text = \"  Hello   World  \"\n",
    "clean_text = text.replace(\" \", \"\")\n",
    "print(clean_text)  # HelloWorld\n",
    "\n",
    "# Поиск и замена с проверкой\n",
    "def safe_replace(text, old, new):\n",
    "    if text.find(old) != -1:\n",
    "        return text.replace(old, new)\n",
    "    return text\n",
    "\n",
    "result = safe_replace(\"Hello Java\", \"Java\", \"Python\")\n",
    "print(result)  # Hello Python"
   ]
  },
  {
   "cell_type": "markdown",
   "metadata": {},
   "source": [
    "<br>\n",
    "\n",
    "---\n",
    "\n",
    "<br>"
   ]
  },
  {
   "cell_type": "markdown",
   "metadata": {},
   "source": [
    "### 🧠 **Задания к разделу**"
   ]
  },
  {
   "cell_type": "markdown",
   "metadata": {},
   "source": [
    "<br>\n",
    "\n",
    "#### **Задание 1: Поиск позиций**\n",
    "1. В строке `text = \"Python is fun. Python is easy.\"` найдите:  \n",
    "   - Индекс первого вхождения `Python`.  \n",
    "   - Индекс второго вхождения `Python`.  \n",
    "   - Индекс последнего вхождения `is`.  \n",
    "2. Используйте методы `find()` или `index()`.\n"
   ]
  },
  {
   "cell_type": "code",
   "execution_count": null,
   "metadata": {},
   "outputs": [],
   "source": [
    "# Ваше решение:"
   ]
  },
  {
   "cell_type": "markdown",
   "metadata": {},
   "source": [
    "**Решение:**\n",
    "```python\n",
    "text = \"Python is fun. Python is easy.\"\n",
    "first_python = text.find(\"Python\")\n",
    "second_python = text.find(\"Python\", first_python + 1)\n",
    "last_is = text.rfind(\"is\")  # Поиск с конца\n",
    "print(first_python, second_python, last_is)  # 0, 14, 18\n",
    "```"
   ]
  },
  {
   "cell_type": "markdown",
   "metadata": {},
   "source": [
    "<br>\n",
    "\n",
    "#### **Задание 2: Замена символов**\n",
    "\n",
    "1. В строке `text = \"aaaabbaaaabbaaa\"` замените все `\"aa\"` на `\"X\"`, кроме первого вхождения.  \n",
    "2. Результат: `\"aaaXbbXaaXbbX\"`.\n",
    "\n",
    "**Подсказка:** Используйте `replace()` с параметром `count`.\n"
   ]
  },
  {
   "cell_type": "code",
   "execution_count": null,
   "metadata": {},
   "outputs": [],
   "source": [
    "# Ваше решение:"
   ]
  },
  {
   "cell_type": "markdown",
   "metadata": {},
   "source": [
    "**Решение:**\n",
    "\n",
    "```python\n",
    "text = \"aaaabbaaaabbaaa\"\n",
    "# Замена всех, кроме первого \"aa\"\n",
    "first_aa = text.find(\"aa\")\n",
    "if first_aa != -1:\n",
    "    part1 = text[:first_aa + 2]  # Первое вхождение\n",
    "    part2 = text[first_aa + 2:].replace(\"aa\", \"X\")\n",
    "    result = part1 + part2\n",
    "print(result)  # aaaaXbbXaaXbbX\n",
    "```"
   ]
  },
  {
   "cell_type": "markdown",
   "metadata": {},
   "source": [
    "<br>\n",
    "\n",
    "#### **Задание 3: Подсчет слов**\n",
    "\n",
    "1. Напишите код, который подсчитывает, сколько раз слово `\"apple\"` встречается в строке:  \n",
    "   `text = \"apple banana apple cherry apple\"`.  \n",
    "   \n",
    "2. Учтите, что слово может быть частью другого слова (например, `\"pineapple\"`). \n"
   ]
  },
  {
   "cell_type": "code",
   "execution_count": null,
   "metadata": {},
   "outputs": [],
   "source": [
    "# Ваше решение:"
   ]
  },
  {
   "cell_type": "markdown",
   "metadata": {},
   "source": [
    "**Решение:**\n",
    "```python\n",
    "text = \"apple banana apple cherry apple\"\n",
    "count = text.count(\"apple\")\n",
    "print(count)  # 3 (если \"apple\" не часть других слов)\n",
    "```"
   ]
  },
  {
   "cell_type": "markdown",
   "metadata": {},
   "source": [
    "<br>\n",
    "\n",
    "#### **Задание 4: Валидация текста**\n",
    "\n",
    "1. Напишите функцию `has_substring(text, sub)`, которая возвращает `True`, если `sub` есть в `text`, и `False` иначе. \n",
    "    \n",
    "2. Используйте метод `find()`.\n"
   ]
  },
  {
   "cell_type": "code",
   "execution_count": null,
   "metadata": {},
   "outputs": [],
   "source": [
    "# Ваше решение:"
   ]
  },
  {
   "cell_type": "markdown",
   "metadata": {},
   "source": [
    "**Решение:**\n",
    "\n",
    "```python\n",
    "def has_substring(text, sub):\n",
    "    return text.find(sub) != -1\n",
    "\n",
    "print(has_substring(\"Hello World\", \"lo\"))  # True\n",
    "```"
   ]
  },
  {
   "cell_type": "markdown",
   "metadata": {},
   "source": [
    "<br>\n",
    "\n",
    "#### **Задание 5 (продвинутое): Удаление HTML-тегов**\n",
    "\n",
    "1. Удалите все HTML-теги из строки `\"<div>Hello <b>World</b></div>\"`, чтобы получить `\"Hello World\"`.  \n",
    "   \n",
    "2. Используйте `replace()` или цикл с `find()` и срезами."
   ]
  },
  {
   "cell_type": "code",
   "execution_count": null,
   "metadata": {},
   "outputs": [],
   "source": [
    "# Ваше решение:"
   ]
  },
  {
   "cell_type": "markdown",
   "metadata": {},
   "source": [
    "**Решение:**\n",
    "\n",
    "```python\n",
    "html = \"<div>Hello <b>World</b></div>\"\n",
    "# Вариант с replace (если теги известны)\n",
    "clean = html.replace(\"<div>\", \"\").replace(\"</div>\", \"\").replace(\"<b>\", \"\").replace(\"</b>\", \"\")\n",
    "print(clean)  # Hello World\n"
   ]
  },
  {
   "cell_type": "markdown",
   "metadata": {},
   "source": [
    "##### Универсальный вариант (удаляет все теги):\n",
    "\n",
    "```python\n",
    "while html.find(\"<\") != -1:\n",
    "    start = html.find(\"<\")\n",
    "    end = html.find(\">\", start)\n",
    "    if end == -1:\n",
    "        break\n",
    "    html = html[:start] + html[end + 1:]\n",
    "print(html)  # Hello World\n",
    "```"
   ]
  },
  {
   "cell_type": "markdown",
   "metadata": {},
   "source": [
    "<br>\n",
    "\n",
    "---\n",
    "\n",
    "<br>"
   ]
  },
  {
   "cell_type": "markdown",
   "metadata": {},
   "source": [
    "#### 🧠 **Проверь себя**"
   ]
  },
  {
   "cell_type": "markdown",
   "metadata": {},
   "source": [
    "1. Что выведет код?  \n",
    "   \n",
    "   ```python\n",
    "   text = \"abcabcabc\"\n",
    "   print(text.count(\"abc\"))  # 3\n",
    "   print(text.replace(\"abc\", \"X\", 2))  # XXabc\n",
    "   ```"
   ]
  },
  {
   "cell_type": "code",
   "execution_count": null,
   "metadata": {},
   "outputs": [],
   "source": [
    "# Проверь:"
   ]
  },
  {
   "cell_type": "markdown",
   "metadata": {},
   "source": [
    "2. Как найти последнее вхождение подстроки?  \n",
    "   \n",
    "   **Ответ:** Используйте `rfind()` или `rindex()`."
   ]
  },
  {
   "cell_type": "code",
   "execution_count": null,
   "metadata": {},
   "outputs": [],
   "source": [
    "# Ваше решение:"
   ]
  },
  {
   "cell_type": "markdown",
   "metadata": {},
   "source": [
    "3. Как заменить все вхождения, кроме последнего?  \n",
    "   \n",
    "   **Решение:**  \n",
    "   ```python\n",
    "   text = \"test-test-test\"\n",
    "   last_index = text.rfind(\"test\")\n",
    "   result = text[:last_index].replace(\"test\", \"X\") + text[last_index:]\n",
    "   print(result)  # X-X-test\n",
    "   ```"
   ]
  },
  {
   "cell_type": "code",
   "execution_count": null,
   "metadata": {},
   "outputs": [],
   "source": [
    "# Проверь:"
   ]
  },
  {
   "cell_type": "markdown",
   "metadata": {},
   "source": [
    "#### **Распространенные ошибки**\n",
    "\n",
    "- **Использование `index()` без проверки:**  \n",
    "  ```python\n",
    "  text = \"Hello\"\n",
    "  print(text.index(\"X\"))  # ValueError\n",
    "  ```\n",
    "- **Невнимательность к регистру:**  \n",
    "  ```python\n",
    "  print(\"Apple\".find(\"apple\"))  # -1 (регистр имеет значение)\n",
    "  ```\n",
    "- **Перекрывающиеся вхождения:**  \n",
    "  ```python\n",
    "  print(\"AAAA\".count(\"AA\"))  # 2 (неперекрывающиеся: \"AA\", \"AA\")\n",
    "  ```\n",
    "\n",
    "<br>\n",
    "\n",
    "---\n",
    "\n",
    "<br>\n"
   ]
  }
 ],
 "metadata": {
  "kernelspec": {
   "display_name": "Python 3",
   "language": "python",
   "name": "python3"
  },
  "language_info": {
   "codemirror_mode": {
    "name": "ipython",
    "version": 3
   },
   "file_extension": ".py",
   "mimetype": "text/x-python",
   "name": "python",
   "nbconvert_exporter": "python",
   "pygments_lexer": "ipython3",
   "version": "3.13.2"
  }
 },
 "nbformat": 4,
 "nbformat_minor": 2
}
