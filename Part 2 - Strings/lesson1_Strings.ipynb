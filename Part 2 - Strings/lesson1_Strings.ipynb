{
 "cells": [
  {
   "cell_type": "markdown",
   "id": "fae2834b",
   "metadata": {},
   "source": [
    "# 🧵 Урок 1: Строки в Python\n",
    "\n",
    "<br>\n",
    "\n",
    "> В этом первом уроке по теме \"Строки в Python\" мы познакомимся со строками, изучим индексацию строк и срезы.\n",
    "\n",
    "\n",
    "Также разберём, как обращаться к отдельным символам строки, как извлекать подстроки с помощью срезов, и какие бывают особенности при работе с отрицательными индексами. Мы научимся использовать базовые операции со строками — такие как конкатенация, повторение, проверка вхождения подстроки — и разберём, почему строки в Python являются неизменяемыми объектами. В конце урока вас ждут практические упражнения для закрепления материала."
   ]
  },
  {
   "cell_type": "markdown",
   "id": "78fe949d",
   "metadata": {},
   "source": [
    "<br>"
   ]
  },
  {
   "cell_type": "markdown",
   "id": "6fd1ca8d",
   "metadata": {},
   "source": [
    "<br>\n",
    "\n",
    "---\n",
    "\n",
    "<br>\n",
    "\n",
    "## 📋 **1. Введение в строки**\n",
    "\n",
    "#### **Что такое строка в Python?**  \n",
    "Строка (string) — это последовательность символов (букв, цифр, знаков препинания), заключенная в кавычки. В Python строки являются **неизменяемым** типом данных: после создания строки нельзя изменить отдельные символы, но можно создать новую строку на основе существующей.\n",
    "\n",
    "#### **Что такое символ в Python?**  \n",
    "Символ — это строка длиной 1. В Python нет отдельного типа данных для символов, как, например, в языке C. Любой символ — это просто строка, состоящая из одного элемента. Например, `'a'`, `'1'`, `'!'` — это всё строки, содержащие один символ. Таким образом, строка — это упорядоченная последовательность таких \"односимвольных\" строк.\n",
    "\n",
    "<br>\n",
    "\n",
    "✅ **Пример:**"
   ]
  },
  {
   "cell_type": "code",
   "execution_count": null,
   "id": "e85606c7",
   "metadata": {},
   "outputs": [],
   "source": [
    "s = \"Привет\"\n",
    "print(s[0])  # Выводит: П — это первый символ строки\n",
    "print(type(s[0]))  # <class 'str'> — даже один символ имеет тип str"
   ]
  },
  {
   "cell_type": "markdown",
   "id": "d29ed751",
   "metadata": {},
   "source": [
    "\n",
    "Это важно понимать при работе с индексами и срезами: при извлечении одного символа из строки вы всегда получаете **строку длиной 1**, а не какой-то специальный \"символьный\" тип."
   ]
  },
  {
   "cell_type": "markdown",
   "id": "0300e45c",
   "metadata": {},
   "source": [
    "<br>\n",
    "\n",
    "#### **Создание строк**\n",
    "Python поддерживает несколько способов создания строк:\n",
    "\n",
    "1. **Одинарные кавычки** (`' '`):\n",
    "   ```python\n",
    "   text1 = 'Hello, Python!'\n",
    "   print(text1)  # Вывод: Hello, Python!\n",
    "   ```\n",
    "\n",
    "2. **Двойные кавычки** (`\" \"`):\n",
    "   ```python\n",
    "   text2 = \"I'm learning Python.\"\n",
    "   print(text2)  # Вывод: I'm learning Python.\n",
    "   ```\n",
    "   - Используйте двойные кавычки, если внутри строки есть апостроф (`'`), чтобы избежать ошибок.\n",
    "\n",
    "3. **Тройные кавычки** (`''' '''` или `\"\"\" \"\"\"`):\n",
    "   - Для многострочных строк:\n",
    "     ```python\n",
    "     text3 = '''Это многострочная строка.\n",
    "     Она сохраняет переносы строк\n",
    "     и отступы.'''\n",
    "     print(text3)\n",
    "     ```\n",
    "     Вывод:\n",
    "     ```\n",
    "     Это многострочная строка.\n",
    "     Она сохраняет переносы строк\n",
    "     и отступы.\n",
    "     ```\n",
    "   - Для документирования кода (docstrings)."
   ]
  },
  {
   "cell_type": "markdown",
   "id": "93014aab",
   "metadata": {},
   "source": [
    "<br>\n",
    "\n",
    "---\n",
    "\n",
    "<br>\n",
    "\n",
    "##### ✅ **Примеры использования разных кавычек**\n"
   ]
  },
  {
   "cell_type": "code",
   "execution_count": null,
   "id": "2c1c8fa2",
   "metadata": {},
   "outputs": [],
   "source": [
    "# Строка с апострофом\n",
    "text4 = \"It's a beautiful day!\"\n",
    "print(text4)  # It's a beautiful day!\n",
    "\n",
    "# Строка с кавычками внутри\n",
    "text5 = 'Он сказал: \"Привет!\"'\n",
    "print(text5)  # Он сказал: \"Привет!\"\n",
    "\n",
    "# Экранирование кавычек\n",
    "text6 = \"Это \\\"тестовая\\\" строка.\"\n",
    "print(text6)  # Это \"тестовая\" строка."
   ]
  },
  {
   "cell_type": "markdown",
   "id": "f01dfcda",
   "metadata": {},
   "source": [
    "#### **Почему важны разные типы кавычек?**\n",
    "\n",
    "- **Гибкость**: Можно использовать кавычки внутри строк без конфликтов.\n",
    "  \n",
    "- **Удобство**: Тройные кавычки упрощают создание текстов с переносами строк.\n",
    "  \n",
    "- **Читаемость**: Например, `\"I'm here\"` выглядит лучше, чем `'I\\'m here'`."
   ]
  },
  {
   "cell_type": "markdown",
   "id": "9bbae1d1",
   "metadata": {},
   "source": [
    "<br>\n",
    "\n",
    "---\n",
    "\n",
    "<br>\n",
    "\n",
    "### 🧠 **Задания к разделу**\n",
    "Практикуйтесь в создании строк, чтобы закрепить материал.\n",
    "\n",
    "<br>\n",
    "\n",
    "#### **Задание 1: Простые строки**\n",
    "1. Создайте строку `'Python is fun!'` с использованием одинарных кавычек.\n",
    "2. Создайте строку `\"Don't give up!\"` с использованием двойных кавычек.\n",
    "3. Выведите обе строки на экран.\n",
    "\n"
   ]
  },
  {
   "cell_type": "code",
   "execution_count": null,
   "id": "3595db3c",
   "metadata": {},
   "outputs": [],
   "source": [
    "# Ваше решение:"
   ]
  },
  {
   "cell_type": "markdown",
   "id": "7ac93024",
   "metadata": {},
   "source": [
    "**Пример решения:**\n",
    "```python\n",
    "str1 = 'Python is fun!'\n",
    "str2 = \"Don't give up!\"\n",
    "print(str1)  # Python is fun!\n",
    "print(str2)  # Don't give up!"
   ]
  },
  {
   "cell_type": "markdown",
   "id": "7f0044e2",
   "metadata": {},
   "source": [
    "<br>\n",
    "\n",
    "#### **Задание 2: Многострочные строки**\n",
    "Создайте многострочную строку, которая будет содержать следующий текст:\n",
    "```\n",
    "Сегодня я изучаю Python.\n",
    "Это мой первый урок по строкам.\n",
    "Очень интересно!\n",
    "```\n",
    "Используйте тройные кавычки. Выведите результат на экран.\n"
   ]
  },
  {
   "cell_type": "code",
   "execution_count": null,
   "id": "5d61c66c",
   "metadata": {},
   "outputs": [],
   "source": [
    "# Ваше решение:"
   ]
  },
  {
   "cell_type": "markdown",
   "id": "4c691330",
   "metadata": {},
   "source": [
    "**Пример решения:**\n",
    "```python\n",
    "multiline_text = '''Сегодня я изучаю Python.\n",
    "Это мой первый урок по строкам.\n",
    "Очень интересно!'''\n",
    "print(multiline_text)"
   ]
  },
  {
   "cell_type": "markdown",
   "id": "3bf99ff7",
   "metadata": {},
   "source": [
    "<br>\n",
    "\n",
    "#### **Задание 3: Простые строки**\n",
    "\n",
    "1. Создайте строку `'Python is fun!'` с использованием одинарных кавычек.\n",
    "2. Создайте строку `\"Don't give up!\"` с использованием двойных кавычек.\n",
    "3. Выведите обе строки на экран.\n"
   ]
  },
  {
   "cell_type": "code",
   "execution_count": null,
   "id": "1e688b5c",
   "metadata": {},
   "outputs": [],
   "source": [
    "# Ваше решение:"
   ]
  },
  {
   "cell_type": "markdown",
   "id": "ffa0cc29",
   "metadata": {},
   "source": [
    "**Пример решения:**\n",
    "```python\n",
    "str1 = 'Python is fun!'\n",
    "str2 = \"Don't give up!\"\n",
    "print(str1)  # Python is fun!\n",
    "print(str2)  # Don't give up!\n",
    "```\n"
   ]
  },
  {
   "cell_type": "markdown",
   "id": "b8e71d31",
   "metadata": {},
   "source": [
    "<br>\n",
    "\n",
    "#### **Задание 4: Многострочные строки**\n",
    "Создайте многострочную строку, которая будет содержать следующий текст:\n",
    "```\n",
    "Сегодня я изучаю Python.\n",
    "Это мой первый урок по строкам.\n",
    "Очень интересно!\n",
    "```\n",
    "Используйте тройные кавычки. Выведите результат на экран."
   ]
  },
  {
   "cell_type": "code",
   "execution_count": null,
   "id": "57857638",
   "metadata": {},
   "outputs": [],
   "source": [
    "# Ваше решение:"
   ]
  },
  {
   "cell_type": "markdown",
   "id": "e2607c0b",
   "metadata": {},
   "source": [
    "**Пример решения:**\n",
    "```python\n",
    "multiline_text = '''Сегодня я изучаю Python.\n",
    "Это мой первый урок по строкам.\n",
    "Очень интересно!'''\n",
    "print(multiline_text)\n",
    "```"
   ]
  },
  {
   "cell_type": "markdown",
   "id": "8fe31d1f",
   "metadata": {},
   "source": [
    "<br>\n",
    "\n",
    "#### **Задание 5: Экранирование и вложенные кавычки**\n",
    "1. Создайте строку: `Он сказал: \"I'm ready!\"`, используя одинарные кавычки для всей строки.\n",
    "2. Создайте строку: `Этот текст содержит \\n символ переноса строки.`, используя двойные кавычки.\n",
    "3. Выведите обе строки на экран и посмотрите, как работает `\\n`.\n",
    "\n"
   ]
  },
  {
   "cell_type": "code",
   "execution_count": null,
   "id": "b5cf0e1b",
   "metadata": {},
   "outputs": [],
   "source": [
    "# Ваше решение:"
   ]
  },
  {
   "cell_type": "markdown",
   "id": "5025e4e5",
   "metadata": {},
   "source": [
    "**Пример решения:**\n",
    "```python\n",
    "quote = 'Он сказал: \"I\\'m ready!\"'\n",
    "escape_example = \"Этот текст содержит \\n символ переноса строки.\"\n",
    "print(quote)\n",
    "print(escape_example)\n",
    "```\n",
    "Вывод:\n",
    "```\n",
    "Он сказал: \"I'm ready!\"\n",
    "Этот текст содержит \n",
    " символ переноса строки.\n",
    "```"
   ]
  },
  {
   "cell_type": "markdown",
   "id": "b922db85",
   "metadata": {},
   "source": [
    "<br>\n",
    "\n",
    "#### **Задание 6: Строки с комбинацией кавычек**\n",
    "Напишите код, который выводит на экран:\n",
    "```\n",
    "Она спросила: \"Как использовать 'тройные' кавычки?\"\n",
    "```\n",
    "**Подсказка:** Используйте экранирование или разные типы кавычек."
   ]
  },
  {
   "cell_type": "code",
   "execution_count": null,
   "id": "f1bfd457",
   "metadata": {},
   "outputs": [],
   "source": [
    "# Ваше решение:"
   ]
  },
  {
   "cell_type": "markdown",
   "id": "6d53cfce",
   "metadata": {},
   "source": [
    "**Пример решения:**\n",
    "```python\n",
    "text = \"Она спросила: \\\"Как использовать 'тройные' кавычки?\\\"\"\n",
    "print(text)\n",
    "# Или:\n",
    "text = 'Она спросила: \"Как использовать \\'тройные\\' кавычки?\"'\n",
    "print(text)\n",
    "```"
   ]
  },
  {
   "cell_type": "markdown",
   "id": "1c9a8c8f",
   "metadata": {},
   "source": [
    "<br>\n",
    "\n",
    "---\n",
    "\n",
    "<br>\n",
    "\n",
    "### **Проверь себя**\n",
    "\n",
    "1. Что выведет этот код?\n",
    "   ```python\n",
    "   a = 'Hello'\n",
    "   b = \"World\"\n",
    "   print(a + ', ' + b + '!')"
   ]
  },
  {
   "cell_type": "code",
   "execution_count": null,
   "id": "37bbdb94",
   "metadata": {},
   "outputs": [],
   "source": [
    "# ваше решение: "
   ]
  },
  {
   "cell_type": "markdown",
   "id": "160702de",
   "metadata": {},
   "source": [
    "2. Как создать строку `It's a \"test\" string`, не используя экранирование?\n",
    "   ```python\n",
    "   # Решение:\n",
    "   text = '''It's a \"test\" string'''\n",
    "   ```"
   ]
  },
  {
   "cell_type": "code",
   "execution_count": null,
   "id": "c5cd156c",
   "metadata": {},
   "outputs": [],
   "source": [
    "# ваше решение: "
   ]
  },
  {
   "cell_type": "markdown",
   "id": "92148d05",
   "metadata": {},
   "source": [
    "3. Какая ошибка в этом коде?\n",
    "   ```python\n",
    "   message = 'I'm learning Python'\n",
    "   ```\n"
   ]
  },
  {
   "cell_type": "code",
   "execution_count": null,
   "id": "b242bf66",
   "metadata": {},
   "outputs": [],
   "source": [
    "# ваше решение: "
   ]
  },
  {
   "cell_type": "markdown",
   "id": "e4dcf19e",
   "metadata": {},
   "source": [
    "\n",
    "Переходите к следующему разделу, только когда выполните все задания! 😊\n",
    "\n",
    "<br>"
   ]
  },
  {
   "cell_type": "markdown",
   "id": "8f5d00a1",
   "metadata": {},
   "source": [
    "---"
   ]
  },
  {
   "cell_type": "markdown",
   "id": "ffdb2990",
   "metadata": {},
   "source": [
    "<br>\n",
    "\n",
    "## 📋 **2. Базовые операции со строками**\n",
    "\n",
    "В этом разделе вы научитесь выполнять основные манипуляции со строками: складывать их, повторять и измерять их длину.\n",
    "\n",
    "<br>\n",
    "\n",
    "#### **1. Конкатенация (сложение строк)**\n",
    "\n",
    "**Конкатенация** — это объединение строк в одну с помощью оператора `+`.\n",
    "\n",
    "<br>\n",
    "\n",
    "✅ **Примеры:**"
   ]
  },
  {
   "cell_type": "markdown",
   "id": "fcdd9f84",
   "metadata": {},
   "source": [
    "- Сложение двух строк"
   ]
  },
  {
   "cell_type": "code",
   "execution_count": null,
   "id": "476262f8",
   "metadata": {},
   "outputs": [],
   "source": [
    "# Сложение двух строк\n",
    "greeting = \"Hello\" + \"World\"\n",
    "print(greeting)  # HelloWorld (без пробела!)"
   ]
  },
  {
   "cell_type": "markdown",
   "id": "1d8dfb17",
   "metadata": {},
   "source": [
    "- Добавление пробела вручную"
   ]
  },
  {
   "cell_type": "code",
   "execution_count": null,
   "id": "06d7d604",
   "metadata": {},
   "outputs": [],
   "source": [
    "# Добавление пробела вручную\n",
    "greeting_space = \"Hello \" + \"World\"\n",
    "print(greeting_space)  # Hello World\n"
   ]
  },
  {
   "cell_type": "markdown",
   "id": "db98ad7c",
   "metadata": {},
   "source": [
    "- Сложение строк и переменных"
   ]
  },
  {
   "cell_type": "code",
   "execution_count": null,
   "id": "4d824d63",
   "metadata": {},
   "outputs": [],
   "source": [
    "# Сложение строк и переменных\n",
    "name = \"Alice\"\n",
    "message = \"Hello, \" + name\n",
    "print(message)  # Hello, Alice\n"
   ]
  },
  {
   "cell_type": "markdown",
   "id": "6092ca11",
   "metadata": {},
   "source": [
    "**Важно:**\n",
    "- Нельзя складывать строки с числами напрямую:\n",
    "  ```python\n",
    "  # Ошибка: TypeError\n",
    "  age = 25\n",
    "  text = \"Мой возраст: \" + age  # Нужно преобразовать число в строку: str(age)\n",
    "  ```"
   ]
  },
  {
   "cell_type": "code",
   "execution_count": null,
   "id": "533a45bb",
   "metadata": {},
   "outputs": [],
   "source": [
    "# Попробуйте"
   ]
  },
  {
   "cell_type": "markdown",
   "id": "4f923fad",
   "metadata": {},
   "source": [
    "<br>\n",
    "\n",
    "---\n",
    "\n",
    "<br>\n",
    "\n",
    "#### **2. Повторение строк**\n",
    "\n",
    "Оператор `*` позволяет повторить строку указанное количество раз.\n",
    "\n",
    "<br>\n",
    "\n",
    "✅ **Примеры:**"
   ]
  },
  {
   "cell_type": "markdown",
   "id": "46461d0f",
   "metadata": {},
   "source": [
    "- Повторение строки 3 раза:"
   ]
  },
  {
   "cell_type": "code",
   "execution_count": null,
   "id": "e5bd744b",
   "metadata": {},
   "outputs": [],
   "source": [
    "# Повторение строки 3 раза\n",
    "stars = \"*\" * 3\n",
    "print(stars)  # ***"
   ]
  },
  {
   "cell_type": "markdown",
   "id": "c371b9ea",
   "metadata": {},
   "source": [
    "- Создание линии из символов:"
   ]
  },
  {
   "cell_type": "code",
   "execution_count": null,
   "id": "67891b85",
   "metadata": {},
   "outputs": [],
   "source": [
    "\n",
    "# Создание линии из символов\n",
    "line = \"-\" * 20\n",
    "print(line)  # --------------------\n"
   ]
  },
  {
   "cell_type": "markdown",
   "id": "9edcbc13",
   "metadata": {},
   "source": [
    "- Комбинация с конкатенацией:"
   ]
  },
  {
   "cell_type": "code",
   "execution_count": null,
   "id": "43781c67",
   "metadata": {},
   "outputs": [],
   "source": [
    "# Комбинация с конкатенацией\n",
    "text = \"Ha\" * 2 + \"Ho\"\n",
    "print(text)  # HaHaHo"
   ]
  },
  {
   "cell_type": "markdown",
   "id": "92d4cdf4",
   "metadata": {},
   "source": [
    "**Ограничения:**\n",
    "\n",
    "- Число повторений должно быть целым и неотрицательным:\n",
    "- \n",
    "  ```python\n",
    "  valid = \"A\" * 5  # \"AAAAA\"\n",
    "  invalid = \"B\" * 3.5  # Ошибка: TypeError\n",
    "  zero = \"C\" * 0  # Пустая строка \"\"\n",
    "  ```\n"
   ]
  },
  {
   "cell_type": "code",
   "execution_count": null,
   "id": "23b2bd82",
   "metadata": {},
   "outputs": [],
   "source": [
    "# Попробуйте:"
   ]
  },
  {
   "cell_type": "markdown",
   "id": "d7da33bc",
   "metadata": {},
   "source": [
    "<br>\n",
    "\n",
    "---\n",
    "\n",
    "<br>\n",
    "\n",
    "### **📏 3. Определение длины строки - функция `len()`**\n",
    "\n",
    "Функция `len()` возвращает целое число, равное количеству символов в строке, включая пробелы, знаки препинания и даже невидимые символы, такие как `\\n`.\n",
    "\n",
    "<br>\n",
    "\n",
    "📌 **Синтаксис:**\n",
    "\n",
    "```python\n",
    "len(строка)\n",
    "```\n",
    "<br>\n",
    "\n",
    "✅ **Примеры:**"
   ]
  },
  {
   "cell_type": "markdown",
   "id": "e7170966",
   "metadata": {},
   "source": [
    "- Длина простой строки"
   ]
  },
  {
   "cell_type": "code",
   "execution_count": null,
   "id": "3ea27772",
   "metadata": {},
   "outputs": [],
   "source": [
    "# Длина простой строки\n",
    "word = \"Python\"\n",
    "print(len(word))  # 6"
   ]
  },
  {
   "cell_type": "markdown",
   "id": "be39823c",
   "metadata": {},
   "source": [
    "- Длина строки с пробелами и символами"
   ]
  },
  {
   "cell_type": "code",
   "execution_count": null,
   "id": "e6ba1091",
   "metadata": {},
   "outputs": [],
   "source": [
    "# Длина строки с пробелами и символами\n",
    "sentence = \"Я изучаю Python!\"\n",
    "print(len(sentence))  # 15 (пробел и '!' тоже считаются)"
   ]
  },
  {
   "cell_type": "markdown",
   "id": "c0f2913f",
   "metadata": {},
   "source": [
    "- Пустая строка"
   ]
  },
  {
   "cell_type": "code",
   "execution_count": null,
   "id": "a966f28c",
   "metadata": {},
   "outputs": [],
   "source": [
    "# Пустая строка\n",
    "empty = \"\"\n",
    "print(len(empty))  # 0"
   ]
  },
  {
   "cell_type": "markdown",
   "id": "70f23e83",
   "metadata": {},
   "source": [
    "**Особенности:**\n",
    "\n",
    "- Символы кириллицы и латиницы считаются одинаково:\n",
    "  \n",
    "  ```python\n",
    "  print(len(\"Привет\"))  # 6\n",
    "  ```"
   ]
  },
  {
   "cell_type": "code",
   "execution_count": null,
   "id": "a2937fa5",
   "metadata": {},
   "outputs": [],
   "source": [
    "# Попробуйте:"
   ]
  },
  {
   "cell_type": "markdown",
   "id": "aa96eefc",
   "metadata": {},
   "source": [
    "##### 💡 Важно: В строку может входить любой символ, в том числе пробелы, табуляции (\\t), переносы строк (\\n) и даже эмодзи — и они все учитываются в длине."
   ]
  },
  {
   "cell_type": "markdown",
   "id": "9142c4aa",
   "metadata": {},
   "source": [
    "<br>\n",
    "\n",
    "---\n",
    "\n",
    "<br>\n",
    "\n",
    "### 🧠 **Задания к разделу**\n",
    "\n",
    "<br>\n",
    "\n",
    "#### **Задание 1: Конкатенация**\n",
    "1. Создайте две переменные: `first_name = \"Иван\"` и `last_name = \"Петров\"`.\n",
    "2. Объедините их в одну строку с пробелом между именем и фамилией.\n",
    "3. Выведите результат в формате: `\"Имя: Иван Петров\"`.\n",
    "\n"
   ]
  },
  {
   "cell_type": "code",
   "execution_count": null,
   "id": "8822ef98",
   "metadata": {},
   "outputs": [],
   "source": [
    "# Ваше решение:"
   ]
  },
  {
   "cell_type": "markdown",
   "id": "b965a6c1",
   "metadata": {},
   "source": [
    "**Пример решения:**\n",
    "```python\n",
    "first_name = \"Иван\"\n",
    "last_name = \"Петров\"\n",
    "full_name = first_name + \" \" + last_name\n",
    "print(\"Имя: \" + full_name)  # Имя: Иван Петров\n",
    "```"
   ]
  },
  {
   "cell_type": "markdown",
   "id": "ecb52871",
   "metadata": {},
   "source": [
    "#### **Задание 2: Повторение строк**\n",
    "\n",
    "1. Создайте строку `symbol = \"+-\"`.\n",
    "2. Повторите ее 5 раз, чтобы получить `\"+-+-+-+--+-\"`.\n",
    "3. Выведите результат.\n",
    "\n",
    "**Пример решения:**\n",
    "```python\n",
    "symbol = \"+-\"\n",
    "result = symbol * 5\n",
    "print(result)  # +-+-+-+-+-+-\n",
    "```\n"
   ]
  },
  {
   "cell_type": "code",
   "execution_count": null,
   "id": "d4222342",
   "metadata": {},
   "outputs": [],
   "source": [
    "# Ваше решение:"
   ]
  },
  {
   "cell_type": "markdown",
   "id": "9f56b5fe",
   "metadata": {},
   "source": [
    "#### **Задание 3: Длина строки**\n",
    "\n",
    "1. Попросите пользователя ввести пароль через `input()`.\n",
    "2. Проверьте длину пароля. Если она меньше 8 символов, выведите: \"Пароль слишком короткий!\".\n",
    "3. Пример:\n",
    "   ```python\n",
    "   password = input(\"Введите пароль: \")\n",
    "   if len(password) < 8:\n",
    "       print(\"Пароль слишком короткий!\")\n",
    "   ```\n"
   ]
  },
  {
   "cell_type": "code",
   "execution_count": null,
   "id": "bf24f0c9",
   "metadata": {},
   "outputs": [],
   "source": [
    "# Ваше решение:"
   ]
  },
  {
   "cell_type": "markdown",
   "id": "a64821c2",
   "metadata": {},
   "source": [
    "#### **Задание 4: Комбинирование операций**\n",
    "\n",
    "Создайте строку, которая повторяет слово \"Wow\" 3 раза, а затем добавляет к ней восклицательный знак.  \n",
    "Выведите результат и его длину.  \n",
    "\n",
    "**Пример вывода:**  \n",
    "```\n",
    "WowWowWow! \n",
    "Длина: 10\n",
    "```\n",
    "\n",
    "**Решение:**\n",
    "```python\n",
    "text = \"Wow\" * 3 + \"!\"\n",
    "print(text)\n",
    "print(\"Длина:\", len(text))\n",
    "```"
   ]
  },
  {
   "cell_type": "code",
   "execution_count": null,
   "id": "7f652fa8",
   "metadata": {},
   "outputs": [],
   "source": [
    "# Ваше решение:"
   ]
  },
  {
   "cell_type": "markdown",
   "id": "cd592e89",
   "metadata": {},
   "source": [
    "#### **Задание 5 (продвинутое): Генератор границ**\n",
    "\n",
    "Напишите код, который создает \"рамку\" вокруг текста.  \n",
    "Пример для текста `\"Hello\"`:  \n",
    "```\n",
    "*************\n",
    "*   Hello   *\n",
    "*************\n",
    "```\n",
    "\n",
    "**Подсказка:**  \n",
    "1. Создайте строку `border = \"*\" * (len(text) + 6)`.\n",
    "2. Используйте форматирование или конкатенацию для строки с текстом.\n",
    "\n",
    "**Решение:**\n",
    "```python\n",
    "text = \"Hello\"\n",
    "border = \"*\" * (len(text) + 6)\n",
    "middle = \"*  \" + text + \"  *\"\n",
    "print(border)\n",
    "print(middle)\n",
    "print(border)\n",
    "```\n"
   ]
  },
  {
   "cell_type": "code",
   "execution_count": null,
   "id": "1b4e3b04",
   "metadata": {},
   "outputs": [],
   "source": [
    "# Ваше решение:"
   ]
  },
  {
   "cell_type": "markdown",
   "id": "bbf60962",
   "metadata": {},
   "source": [
    "<br>\n",
    "\n",
    "---\n",
    "\n",
    "<br>\n",
    "\n",
    "#### 🧩 **Проверь себя**\n",
    "\n",
    "1. Что выведет этот код?\n",
    "   ```python\n",
    "   a = \"12\"\n",
    "   b = \"34\"\n",
    "   print(a + b * 2)\n",
    "   \n",
    "   ```\n",
    "   **Ответ:** `123434` (сначала выполняется повторение, потом сложение)."
   ]
  },
  {
   "cell_type": "code",
   "execution_count": null,
   "id": "01d398f7",
   "metadata": {},
   "outputs": [],
   "source": [
    "# Проверь:"
   ]
  },
  {
   "cell_type": "markdown",
   "id": "a53c25c6",
   "metadata": {},
   "source": [
    "2. Как получить строку `\"AAAAA\"` с помощью оператора `*`?  \n",
    "   \n",
    "   **Ответ:** `\"A\" * 5`.\n"
   ]
  },
  {
   "cell_type": "code",
   "execution_count": null,
   "id": "20f14d06",
   "metadata": {},
   "outputs": [],
   "source": [
    "# Проверь:"
   ]
  },
  {
   "cell_type": "markdown",
   "id": "d456bcdc",
   "metadata": {},
   "source": [
    "3. Исправьте ошибку:\n",
    "   ```python\n",
    "   text = \"Привет\" + 100\n",
    "   ```\n",
    "   **Решение:**  \n",
    "   ```python\n",
    "   text = \"Привет\" + str(100)\n",
    "   ```\n"
   ]
  },
  {
   "cell_type": "code",
   "execution_count": null,
   "id": "ee6ec1b5",
   "metadata": {},
   "outputs": [],
   "source": [
    "# Проверь:"
   ]
  },
  {
   "cell_type": "markdown",
   "id": "00368cb9",
   "metadata": {},
   "source": [
    "<br>\n",
    "\n",
    "---\n",
    "\n",
    "<br>\n",
    "\n",
    "#### 💡 **Распространенные ошибки !**\n",
    "\n",
    "- **Сложение строк и чисел:** Всегда преобразовывайте числа в строки через `str()`.\n",
    "  \n",
    "- **Путаница с пробелами:** При конкатенации добавляйте пробелы вручную: `\"Hello\" + \" \" + \"World\"`.\n",
    "  \n",
    "- **Неправильный порядок операций:** Умножение выполняется перед сложением (если нет скобок).\n",
    "\n",
    "<br>\n",
    "\n",
    "Переходите к следующему разделу, когда будете готовы. 😊\n",
    "\n",
    "<br>"
   ]
  },
  {
   "cell_type": "markdown",
   "id": "ada0ab20",
   "metadata": {},
   "source": [
    "---"
   ]
  },
  {
   "cell_type": "markdown",
   "id": "f3219bc2",
   "metadata": {},
   "source": [
    "<br>\n",
    "\n",
    "## 🔢 **3. Индексация и срезы (Slicing)**\n",
    "\n",
    "Работа с отдельными символами и подстроками — важная часть программирования. В Python это делается через индексы и срезы.\n",
    "\n",
    "<br>\n",
    "\n",
    "#### Что такое индексация строки в Python?\n",
    "\n",
    "**Индексация** — это способ доступа к отдельным символам строки с помощью номера позиции (индекса), на которой находится нужный символ.\n",
    "\n",
    "В Python каждый символ строки имеет свой индекс — целое число, которое указывает его положение в строке. Индексация начинается с нуля (как и во многих других языках программирования)."
   ]
  },
  {
   "cell_type": "markdown",
   "id": "f1ddc3ee",
   "metadata": {},
   "source": [
    "<br>\n",
    "\n",
    "##### 📌 Прямая (положительная) индексация:\n",
    "\n",
    "Считается слева направо, начиная с `0`:\n",
    "\n",
    "```python\n",
    "s = \"Python\"\n",
    "\n",
    " Индексы:    0     1     2     3     4     5\n",
    "             ↓     ↓     ↓     ↓     ↓     ↓\n",
    " Символы:   'P'   'y'   't'   'h'   'o'   'n'\n",
    "\n",
    "print(s[0])  # 'P'\n",
    "print(s[3])  # 'h'\n",
    "```"
   ]
  },
  {
   "cell_type": "markdown",
   "id": "038bece9",
   "metadata": {},
   "source": [
    "<br>\n",
    "\n",
    "##### 🔁 Обратная (отрицательная) индексация:\n",
    "\n",
    "Считается справа налево, начиная с `-1`:\n",
    "```python\n",
    "\n",
    " Индексы:   -6    -5    -4    -3    -2    -1\n",
    "             ↓     ↓     ↓     ↓     ↓     ↓\n",
    " Символы:   'P'   'y'   't'   'h'   'o'   'n'\n",
    "\n",
    "print(s[-1])  # 'n'\n",
    "print(s[-4])  # 't'\n",
    "```\n",
    "<br>\n",
    "\n",
    "**🔍 Пояснения:**\n",
    "\n",
    "- Каждый символ строки можно получить по его **индексу**: `s[0]` вернёт `'P'`, а `s[4]` — `'o'`.\n",
    "  \n",
    "- Индексация начинается с **нуля** (как и в большинстве языков программирования).\n",
    "  \n",
    "- Также можно использовать **отрицательные индексы**: `s[-1]` — это последний символ строки (`'n'`), `s[-2]` — предпоследний и т.д.\n",
    "  \n",
    "- Каждый символ — это **строка длиной 1** (`str`), а не отдельный тип данных.\n",
    "\n",
    "<br>\n",
    "\n",
    "> **Важно помнить**: Если вы попытаетесь обратиться к индексу, которого нет (например, `s[100]` в строке из 6 символов), Python вызовет **ошибку IndexError**.\n",
    "\n",
    "<br>\n",
    "\n",
    "✅ **Примеры:**"
   ]
  },
  {
   "cell_type": "markdown",
   "id": "45a233a3",
   "metadata": {},
   "source": [
    "- **Положительная индексация:**"
   ]
  },
  {
   "cell_type": "code",
   "execution_count": null,
   "id": "7cfca2af",
   "metadata": {},
   "outputs": [],
   "source": [
    "text = \"P y t h o n\"\n",
    "print(text[0])  # P\n",
    "print(text[10])  # n"
   ]
  },
  {
   "cell_type": "code",
   "execution_count": null,
   "id": "d85ed004",
   "metadata": {},
   "outputs": [],
   "source": [
    "# Попробуй:\n"
   ]
  },
  {
   "cell_type": "markdown",
   "id": "935e414a",
   "metadata": {},
   "source": [
    "- **Отрицательные индексы** позволяют отсчитывать символы с конца строки :\n"
   ]
  },
  {
   "cell_type": "code",
   "execution_count": null,
   "id": "bad394eb",
   "metadata": {},
   "outputs": [],
   "source": [
    "text = \"P y t h o n\"\n",
    "print(text[-1])  # т (последний символ)\n",
    "print(text[-3])  # о  (третий с конца)"
   ]
  },
  {
   "cell_type": "code",
   "execution_count": null,
   "id": "2ba6604f",
   "metadata": {},
   "outputs": [],
   "source": [
    "# Попробуй:"
   ]
  },
  {
   "cell_type": "markdown",
   "id": "d581efb4",
   "metadata": {},
   "source": [
    "<br>\n",
    "\n",
    "---\n",
    "\n",
    "<br>\n",
    "\n",
    "### ✂️ **2. Срезы (slicing)**\n",
    "\n",
    "**Срез** — это способ получить **подстроку** из исходной строки, указав диапазон индексов и (при необходимости) шаг.\n",
    "\n",
    "<br>\n",
    "\n",
    "##### 📌 Синтаксис:\n",
    "```python\n",
    "строка[start:end:step]\n",
    "```\n",
    "- `start` — начальный индекс (включительно),\n",
    "  \n",
    "- `end` — конечный индекс (**не включается**),\n",
    "  \n",
    "- `step` — шаг (по умолчанию `1`, можно указывать отрицательное значение для движения справа налево).\n",
    "  \n",
    "  <br>\n",
    "\n",
    "💡 Если какой-либо из параметров не указан, Python подставит значение по умолчанию:\n",
    "- `start` → с начала строки\n",
    "- `end` → до конца строки\n",
    "- `step` → 1\n",
    "\n",
    "<br>\n",
    "\n",
    "**🧩 Расмотрим для примера:**\n",
    "\n",
    "```python\n",
    "s = \"Python\"\n",
    "\n",
    "Индексы:     0   1   2   3   4   5\n",
    "Символы:    'P' 'y' 't' 'h' 'o' 'n'\n",
    "\n",
    "s[1:4]   → 'yth'   # С индекса 1 до индекса 4 (не включая)\n",
    "s[:3]    → 'Pyt'   # От начала до индекса 3 (не включая)\n",
    "s[2:]    → 'thon'  # От индекса 2 до конца\n",
    "s[::2]   → 'Pto'   # Каждый второй символ\n",
    "s[::-1]  → 'nohtyP' # Разворачиваем строку\n",
    "```\n",
    "<br>\n",
    "\n",
    "> 🔎 **Важно**: Срезы не вызывают ошибку, даже если указанные индексы выходят за границы строки. Python просто возьмёт те символы, которые есть в доступном диапазоне.\n",
    "\n",
    "<br>\n",
    "\n",
    "**✅ Примеры:**"
   ]
  },
  {
   "cell_type": "markdown",
   "id": "41fab414",
   "metadata": {},
   "source": [
    "- Строка \"Программирование\":"
   ]
  },
  {
   "cell_type": "code",
   "execution_count": null,
   "id": "9b3b1572",
   "metadata": {},
   "outputs": [],
   "source": [
    "s = \"Программирование\"\n",
    "\n",
    "print(s[0:6])    # 'Програ'\n",
    "print(s[6:])     # 'ммирование'\n",
    "print(s[:5])     # 'Прогр'\n",
    "print(s[::3])    # 'Памрн' — каждый 3-й символ\n",
    "print(s[::-1])   # 'еинявиноргаммарП' — строка в обратном порядке\n"
   ]
  },
  {
   "cell_type": "markdown",
   "id": "4c899b0d",
   "metadata": {},
   "source": [
    "- Строка \"ABCDEFGHIJKL\":"
   ]
  },
  {
   "cell_type": "code",
   "execution_count": null,
   "id": "472894a1",
   "metadata": {},
   "outputs": [],
   "source": [
    "text = \"ABCDEFGHIJKL\"\n",
    "print(text[2:5])    # CDE (символы с индексами 2, 3, 4)\n",
    "print(text[:4])     # ABCD (от начала до индекса 3)\n",
    "print(text[6:])     # GHIJKL (с индекса 6 до конца)\n",
    "print(text[::2])    # ACEGIK (каждый второй символ)\n",
    "print(text[::-1])   # LKJIHGFEDCBA (реверс строки)"
   ]
  },
  {
   "cell_type": "markdown",
   "id": "a9a83468",
   "metadata": {},
   "source": [
    "<br>\n",
    "\n",
    "---\n",
    "\n",
    "#### 💡 **Особенности срезов**\n",
    "\n",
    "- Если `start` не указан — наша индексация начинается с 0.\n",
    "  \n",
    "- Если `end` не указан — то наша индексация идет до конца строки.\n",
    "  \n",
    "- Отрицательные значения в `start` и `end`:\n",
    "  \n",
    "  ```python\n",
    "  text = \"abcdef\"\n",
    "  print(text[-5:-2])  # bcd (индексы -5, -4, -3)\n",
    "  ```\n"
   ]
  },
  {
   "cell_type": "code",
   "execution_count": null,
   "id": "1940f989",
   "metadata": {},
   "outputs": [],
   "source": [
    "text = \"abcdef\"\n",
    "print(text[-5:-2])  # bcd (индексы -5, -4, -3)"
   ]
  },
  {
   "cell_type": "markdown",
   "id": "c21c49d4",
   "metadata": {},
   "source": [
    "✅ **Примеры:**"
   ]
  },
  {
   "cell_type": "code",
   "execution_count": null,
   "id": "ca5d1038",
   "metadata": {},
   "outputs": [],
   "source": [
    "word = \"ПРИВЕТ\"\n",
    "\n",
    "# Первый символ\n",
    "print(word[0])    # П"
   ]
  },
  {
   "cell_type": "code",
   "execution_count": null,
   "id": "ca90af59",
   "metadata": {},
   "outputs": [],
   "source": [
    "# Последний символ через отрицательный индекс\n",
    "print(word[-1])   # Т"
   ]
  },
  {
   "cell_type": "code",
   "execution_count": null,
   "id": "073e1868",
   "metadata": {},
   "outputs": [],
   "source": [
    "# Срез с 2-го до 5-го символа (индексы 2, 3, 4)\n",
    "print(word[2:5])  # ИВЕ"
   ]
  },
  {
   "cell_type": "code",
   "execution_count": null,
   "id": "193e2c78",
   "metadata": {},
   "outputs": [],
   "source": [
    "# Каждый второй символ с начала до конца\n",
    "print(word[::2])  # ПИЕ"
   ]
  },
  {
   "cell_type": "code",
   "execution_count": null,
   "id": "cc817262",
   "metadata": {},
   "outputs": [],
   "source": [
    "# Реверс строки\n",
    "print(word[::-1]) # ТЕВИРП"
   ]
  },
  {
   "cell_type": "code",
   "execution_count": null,
   "id": "8b59fdf9",
   "metadata": {},
   "outputs": [],
   "source": [
    "# Попробуйте:\n",
    "\n"
   ]
  },
  {
   "cell_type": "markdown",
   "id": "f8747348",
   "metadata": {},
   "source": [
    "<br>\n",
    "\n",
    "---\n",
    "\n",
    "<br>\n",
    "\n",
    "### 🧠 **Задания к разделу**\n",
    "\n",
    "<br>"
   ]
  },
  {
   "cell_type": "markdown",
   "id": "c3612baf",
   "metadata": {},
   "source": [
    "#### **Задание 1: Индексация**\n",
    "\n",
    "1. Создайте строку: `text = \"Съешь ещё этих мягких французских булок\"`.\n",
    "   \n",
    "2. Выведите:\n",
    "   - Первый символ.\n",
    "   - Последний символ.\n",
    "   - Символ с индексом 5."
   ]
  },
  {
   "cell_type": "code",
   "execution_count": null,
   "id": "3c14bb51",
   "metadata": {},
   "outputs": [],
   "source": [
    "# Ваше решение:"
   ]
  },
  {
   "cell_type": "markdown",
   "id": "e18ad25c",
   "metadata": {},
   "source": [
    "**Пример решения:**\n",
    "```python\n",
    "text = \"Съешь ещё этих мягких французских булок\"\n",
    "print(text[0])    # С\n",
    "print(text[-1])   # к\n",
    "print(text[5])    # ' ' (пробел)\n",
    "```"
   ]
  },
  {
   "cell_type": "markdown",
   "id": "01143690",
   "metadata": {},
   "source": [
    "<br>\n",
    "\n",
    "#### **Задание 2: Срезы**\n",
    "\n",
    "Из строки `text = \"ABCDEFGHIJKL\"` получите:\n",
    "1. Подстроку `\"EFG\"`.\n",
    "2. Подстроку `\"HJL\"` (используйте шаг).\n",
    "3. Реверс всей строки.\n",
    "\n"
   ]
  },
  {
   "cell_type": "code",
   "execution_count": null,
   "id": "e21cffb4",
   "metadata": {},
   "outputs": [],
   "source": [
    "# Ваше решение:"
   ]
  },
  {
   "cell_type": "markdown",
   "id": "d41275f8",
   "metadata": {},
   "source": [
    "\n",
    "**Решение:**\n",
    "```python\n",
    "text = \"ABCDEFGHIJKL\"\n",
    "print(text[4:7])      # EFG\n",
    "print(text[7::2])     # H J L (шаг 2, индексы 7, 9, 11)\n",
    "print(text[::-1])     # LKJIHGFEDCBA\n",
    "```"
   ]
  },
  {
   "cell_type": "markdown",
   "id": "1bcee742",
   "metadata": {},
   "source": [
    "<br>\n",
    "\n",
    "#### **Задание 3: Отрицательные индексы в срезах**\n",
    "\n",
    "Дана строка: `text = \"Hello, World!\"`\n",
    "1. Используя отрицательные индексы, получите подстроку `\"World\"`.\n",
    "2. Выведите последние 3 символа.\n",
    "\n"
   ]
  },
  {
   "cell_type": "code",
   "execution_count": null,
   "id": "5180f6d7",
   "metadata": {},
   "outputs": [],
   "source": [
    "# Ваше решение:"
   ]
  },
  {
   "cell_type": "markdown",
   "id": "a3f1be2b",
   "metadata": {},
   "source": [
    "**Решение:**\n",
    "```python\n",
    "text = \"Hello, World!\"\n",
    "print(text[-6:-1])    # World (индексы -6 до -1)\n",
    "print(text[-3:])      # ld!\n",
    "```"
   ]
  },
  {
   "cell_type": "markdown",
   "id": "7e054b72",
   "metadata": {},
   "source": [
    "<br>\n",
    "\n",
    "#### **Задание 4: Шаг в срезах**\n",
    "\n",
    "Из строки `text = \"123456789\"` получите:\n",
    "1. Все четные числа: `\"2468\"`.\n",
    "2. Числа в обратном порядке: `\"987654321\"`.\n"
   ]
  },
  {
   "cell_type": "code",
   "execution_count": null,
   "id": "08238071",
   "metadata": {},
   "outputs": [],
   "source": [
    "# Ваше решение:"
   ]
  },
  {
   "cell_type": "markdown",
   "id": "d8422055",
   "metadata": {},
   "source": [
    "**Решение:**\n",
    "```python\n",
    "text = \"123456789\"\n",
    "print(text[1::2])     # Индексы 1,3,5,7 → \"2468\"\n",
    "print(text[::-1])     # Реверс\n",
    "```"
   ]
  },
  {
   "cell_type": "markdown",
   "id": "ac575bcf",
   "metadata": {},
   "source": [
    "<br>\n",
    "\n",
    "#### **Задание 5 (продвинутое): Палиндром**\n",
    "\n",
    "Напишите код, который проверяет, является ли строка **палиндромом** (читается одинаково слева направо и справа налево).  \n",
    "Примеры палиндромов: \"топот\", \"madam\".  \n",
    "\n",
    "**Подсказка:** Используйте срез `[::-1]`.\n"
   ]
  },
  {
   "cell_type": "code",
   "execution_count": null,
   "id": "7752fb9f",
   "metadata": {},
   "outputs": [],
   "source": [
    "# Ваше решение:"
   ]
  },
  {
   "cell_type": "markdown",
   "id": "638e0d4a",
   "metadata": {},
   "source": [
    "**Решение:**\n",
    "```python\n",
    "word = \"топот\"\n",
    "is_palindrome = word == word[::-1]\n",
    "print(\"Палиндром?\" , is_palindrome)  # True\n",
    "```"
   ]
  },
  {
   "cell_type": "markdown",
   "id": "cd6df334",
   "metadata": {},
   "source": [
    "<br>\n",
    "\n",
    "---\n",
    "\n",
    "<br>\n",
    "\n",
    "#### 🧩 **Проверь себя**\n",
    "\n",
    "1. Что выведет этот код?\n",
    "   ```python\n",
    "   text = \"abcdef\"\n",
    "   print(text[1:-1:2])\n",
    "   ```\n",
    "   **Ответ:** `\"bd\"` (индексы 1, 3).\n"
   ]
  },
  {
   "cell_type": "code",
   "execution_count": null,
   "id": "985a0991",
   "metadata": {},
   "outputs": [],
   "source": [
    "# Проверь решение:"
   ]
  },
  {
   "cell_type": "markdown",
   "id": "23d715c9",
   "metadata": {},
   "source": [
    "2. Как получить подстроку `\"Python\"` из строки `\"I love Python!\"`?  \n",
    "   **Ответ:** `text[7:-1]`."
   ]
  },
  {
   "cell_type": "code",
   "execution_count": null,
   "id": "cd63660d",
   "metadata": {},
   "outputs": [],
   "source": [
    "# Проверь решение:"
   ]
  },
  {
   "cell_type": "markdown",
   "id": "eacd1766",
   "metadata": {},
   "source": [
    "3. Исправьте ошибку:\n",
    "   ```python\n",
    "   text = \"Hello\"\n",
    "   print(text[5])\n",
    "   ```\n",
    "   **Ответ:** Индекс 5 выходит за границы строки (максимальный индекс 4). Нужно использовать `text[4]` или `text[-1]`.\n"
   ]
  },
  {
   "cell_type": "code",
   "execution_count": null,
   "id": "d60514aa",
   "metadata": {},
   "outputs": [],
   "source": [
    "# Проверь решение:"
   ]
  },
  {
   "cell_type": "markdown",
   "id": "ad1155f7",
   "metadata": {},
   "source": [
    "\n",
    "#### 💡 **Распространенные ошибки !**\n",
    "\n",
    "- **Выход за границы индексов:** `IndexError`, если индекс больше длины строки.\n",
    "  \n",
    "- **Путаница с `end` в срезах:** Помните, что `end` не включается.\n",
    "  \n",
    "- **Сложные шаги:** Шаг `-1` используется для реверса, шаг `2` — для пропуска символов.\n",
    "\n",
    "<br>\n",
    "\n",
    "---\n",
    "\n",
    "<br>"
   ]
  },
  {
   "cell_type": "markdown",
   "id": "16903631",
   "metadata": {},
   "source": [
    "\n",
    "#### 📬 Author\n",
    " \n",
    "**Siergej Sobolewski**  \n",
    "[![Email 🚀](https://img.shields.io/badge/Email-s.sobolewski@hotmail.com-blue?logo=protonmail)](mailto:s.sobolewski@hotmail.com)  \n",
    "[![GitHub](https://img.shields.io/badge/GitHub-SSobol77-blue?logo=github)](https://github.com/SSobol77)  \n",
    "[![LinkedIn](https://img.shields.io/badge/LinkedIn-Connect-blue?logo=linkedin)](https://linkedin.com/in/siergej-s-25a16319a)\n"
   ]
  }
 ],
 "metadata": {
  "kernelspec": {
   "display_name": "Python 3",
   "language": "python",
   "name": "python3"
  },
  "language_info": {
   "codemirror_mode": {
    "name": "ipython",
    "version": 3
   },
   "file_extension": ".py",
   "mimetype": "text/x-python",
   "name": "python",
   "nbconvert_exporter": "python",
   "pygments_lexer": "ipython3",
   "version": "3.13.2"
  }
 },
 "nbformat": 4,
 "nbformat_minor": 5
}
