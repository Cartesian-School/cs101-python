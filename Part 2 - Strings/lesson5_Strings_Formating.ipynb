{
 "cells": [
  {
   "cell_type": "markdown",
   "metadata": {},
   "source": [
    "# 🧵 **Урок 5: Строки в Python. Форматирование.**\n",
    "\n",
    "<br>\n",
    "\n",
    "> **Продолжение темы**\n",
    "\n",
    "<br>\n",
    "\n",
    "В этом уроке мы изучим всё о способах форматирования строк, научимся управлять пробелами и выравнивать строки! \n",
    "\n",
    "<br>\n",
    "\n",
    "---"
   ]
  },
  {
   "cell_type": "markdown",
   "metadata": {},
   "source": [
    "<br>\n",
    "\n",
    "### 📐 **9. Работа с пробелами**\n",
    "Управление пробелами и выравнивание текста — важные задачи при форматировании строк. Python предоставляет методы для удаления пробелов и выравнивания строк по заданной ширине.\n",
    "\n",
    "\n",
    "<br>\n",
    "\n",
    "#### **📚 1. Удаление пробелов**\n",
    "\n",
    "Эти методы удаляют пробелы и другие пробельные символы (табуляция `\\t`, перенос строки `\\n`) с разных сторон строки.\n",
    "\n",
    "| Метод          | Описание                                                                 |\n",
    "|----------------|-------------------------------------------------------------------------|\n",
    "| `strip()`      | Удаляет пробелы **с обоих концов** строки.                             |\n",
    "| `lstrip()`     | Удаляет пробелы **слева** (в начале строки).                           |\n",
    "| `rstrip()`     | Удаляет пробелы **справа** (в конце строки).                           |\n",
    "\n",
    "<br>"
   ]
  },
  {
   "cell_type": "markdown",
   "metadata": {},
   "source": [
    "🧪 **Примеры:**"
   ]
  },
  {
   "cell_type": "code",
   "execution_count": 16,
   "metadata": {},
   "outputs": [
    {
     "name": "stdout",
     "output_type": "stream",
     "text": [
      "   'Hello World'   !\n"
     ]
    }
   ],
   "source": [
    "text = \"   'Hello World'  \"\n",
    "print(text,\"!\")"
   ]
  },
  {
   "cell_type": "markdown",
   "metadata": {},
   "source": [
    "- **Удаление пробелов с обоих концов**"
   ]
  },
  {
   "cell_type": "code",
   "execution_count": 17,
   "metadata": {},
   "outputs": [
    {
     "name": "stdout",
     "output_type": "stream",
     "text": [
      "'Hello World'\n"
     ]
    }
   ],
   "source": [
    "# Удаление пробелов с обоих концов\n",
    "print(text.strip())   "
   ]
  },
  {
   "cell_type": "markdown",
   "metadata": {},
   "source": [
    "- **Удаление пробелов слева**"
   ]
  },
  {
   "cell_type": "code",
   "execution_count": 18,
   "metadata": {},
   "outputs": [
    {
     "name": "stdout",
     "output_type": "stream",
     "text": [
      "   'Hello World'  \n",
      "'Hello World'  \n"
     ]
    }
   ],
   "source": [
    "text = \"   'Hello World'  \"\n",
    "print(text)\n",
    "# Удаление пробелов слева\n",
    "print(text.lstrip())  # \"Hello World\\n   \"\n"
   ]
  },
  {
   "cell_type": "markdown",
   "metadata": {},
   "source": [
    "- **Удаление пробелов справа**"
   ]
  },
  {
   "cell_type": "code",
   "execution_count": 19,
   "metadata": {},
   "outputs": [
    {
     "name": "stdout",
     "output_type": "stream",
     "text": [
      "   'Hello World'    !!\n",
      "   'Hello World'\n"
     ]
    }
   ],
   "source": [
    "text = \"   'Hello World'   \"\n",
    "print(text, \"!!\")\n",
    "\n",
    "# Удаление пробелов справа\n",
    "print(text.rstrip())  # \"   \\tHello World\""
   ]
  },
  {
   "cell_type": "markdown",
   "metadata": {},
   "source": [
    "- **Удаление конкретных символов:**  \n",
    "\n",
    "Методы принимают аргумент `chars` для удаления указанных символов (не только пробелов)."
   ]
  },
  {
   "cell_type": "code",
   "execution_count": 32,
   "metadata": {},
   "outputs": [
    {
     "name": "stdout",
     "output_type": "stream",
     "text": [
      "###Hello World###\n",
      "\n",
      "ello Worl\n"
     ]
    }
   ],
   "source": [
    "text = \"###Hello World###\"\n",
    "print(text +\"\\n\")\n",
    "print(text.strip(\"#\").strip(\"H\").strip(\"d\"))  # \"ello Worl\"\n"
   ]
  },
  {
   "cell_type": "markdown",
   "metadata": {},
   "source": [
    "<br>\n",
    "\n",
    "#### 📚 **2. Выравнивание строк**\n",
    "\n",
    "<br>\n",
    "\n",
    "Эти методы форматируют строку, добавляя пробелы (или другие символы) до указанной длины.\n",
    "\n",
    "| Метод              | Описание                                                                 |\n",
    "|--------------------|-------------------------------------------------------------------------|\n",
    "| `ljust(width)`     | Выравнивает строку **по левому краю**, добавляя пробелы справа.         |\n",
    "| `rjust(width)`     | Выравнивает строку **по правому краю**, добавляя пробелы слева.         |\n",
    "| `center(width)`    | **Центрирует** строку, добавляя пробелы с обеих сторон.                 |\n",
    "\n",
    "<br>\n",
    "\n",
    "**Синтаксис:**  \n",
    "```python\n",
    "строка.ljust(width, fillchar=\" \")\n",
    "строка.rjust(width, fillchar=\" \")\n",
    "строка.center(width, fillchar=\" \")\n",
    "```\n",
    "- `width` — минимальная длина результирующей строки.  \n",
    "- `fillchar` (опционально) — символ для заполнения (по умолчанию пробел).\n",
    "\n",
    "<br>\n",
    "\n",
    "🧪 **Примеры:**"
   ]
  },
  {
   "cell_type": "markdown",
   "metadata": {},
   "source": [
    "- **Выравнивание по левому краю**"
   ]
  },
  {
   "cell_type": "code",
   "execution_count": 33,
   "metadata": {},
   "outputs": [
    {
     "name": "stdout",
     "output_type": "stream",
     "text": [
      "Hello     \n",
      "Hello-----\n"
     ]
    }
   ],
   "source": [
    "text = \"Hello\"\n",
    "\n",
    "# Выравнивание по левому краю\n",
    "print(text.ljust(10))        # \"Hello     \"\n",
    "print(text.ljust(10, \"-\"))   # \"Hello-----\"\n"
   ]
  },
  {
   "cell_type": "markdown",
   "metadata": {},
   "source": [
    "- **Выравнивание по правому краю**"
   ]
  },
  {
   "cell_type": "code",
   "execution_count": 35,
   "metadata": {},
   "outputs": [
    {
     "name": "stdout",
     "output_type": "stream",
     "text": [
      "    Bingo!\n",
      "****Bingo!\n"
     ]
    }
   ],
   "source": [
    "text = \"Bingo!\"\n",
    "\n",
    "# Выравнивание по правому краю\n",
    "print(text.rjust(10))        # \"     Bingo!\"\n",
    "print(text.rjust(10, \"*\"))   # \"*****Bingo!\"\n"
   ]
  },
  {
   "cell_type": "markdown",
   "metadata": {},
   "source": [
    "- **Центрирование**"
   ]
  },
  {
   "cell_type": "code",
   "execution_count": 41,
   "metadata": {},
   "outputs": [
    {
     "name": "stdout",
     "output_type": "stream",
     "text": [
      "Hello\n",
      "\n",
      "  Hello   \n",
      "++Hello+++\n"
     ]
    }
   ],
   "source": [
    "text = \"Hello\"\n",
    "print(text + '\\n')\n",
    "# Центрирование\n",
    "print(text.center(10))       # \"  Hello   \"\n",
    "print(text.center(10, \"+\"))  # \"++Hello+++\""
   ]
  },
  {
   "cell_type": "markdown",
   "metadata": {},
   "source": [
    "📌 **Особенности:** \n",
    "\n",
    "- Если `width` будет меньше длины строки, то возвращается исходная строка.\n",
    "  \n",
    "- Если `fillchar` содержит больше одного символа, то возникнет ошибка.\n"
   ]
  },
  {
   "cell_type": "markdown",
   "metadata": {},
   "source": [
    "<br>\n",
    "\n",
    "###  **Примеры комбинирования методов**"
   ]
  },
  {
   "cell_type": "markdown",
   "metadata": {},
   "source": [
    "- **Удаление пробелов + выравнивание**"
   ]
  },
  {
   "cell_type": "code",
   "execution_count": 42,
   "metadata": {},
   "outputs": [
    {
     "name": "stdout",
     "output_type": "stream",
     "text": [
      "-----Hello-----\n"
     ]
    }
   ],
   "source": [
    "text = \"   Hello   \"\n",
    "\n",
    "# Удаление пробелов + выравнивание\n",
    "clean_text = text.strip().center(15, \"-\")\n",
    "print(clean_text)  # \"-----Hello-----\""
   ]
  },
  {
   "cell_type": "markdown",
   "metadata": {},
   "source": [
    "- **Форматирование таблицы**"
   ]
  },
  {
   "cell_type": "code",
   "execution_count": 50,
   "metadata": {},
   "outputs": [
    {
     "name": "stdout",
     "output_type": "stream",
     "text": [
      "|      Items       |       Date       |\n"
     ]
    }
   ],
   "source": [
    "print(\"|\" + \"Items\".center(18) + \"|\" + \"Date\".center(18) + \"|\")\n"
   ]
  },
  {
   "cell_type": "markdown",
   "metadata": {},
   "source": [
    "Хочешь добавить ещё столбцы? Просто дописывай по той же схеме:"
   ]
  },
  {
   "cell_type": "code",
   "execution_count": 51,
   "metadata": {},
   "outputs": [
    {
     "name": "stdout",
     "output_type": "stream",
     "text": [
      "|      Items       |       Date       |      Price       |\n"
     ]
    }
   ],
   "source": [
    "print(\"|\" + \"Items\".center(18) + \"|\" + \"Date\".center(18) + \"|\" + \"Price\".center(18) + \"|\")\n"
   ]
  },
  {
   "cell_type": "markdown",
   "metadata": {},
   "source": [
    "📌 **На заметку:**  **Главное** — чтобы была одинаковая ширина `.center(18)` у всех колонок."
   ]
  },
  {
   "cell_type": "markdown",
   "metadata": {},
   "source": [
    "<br>\n",
    "\n",
    "---\n",
    "\n",
    "<br>"
   ]
  },
  {
   "cell_type": "markdown",
   "metadata": {},
   "source": [
    "<br>\n",
    "\n",
    "### 🧠 **Задания к разделу**"
   ]
  },
  {
   "cell_type": "markdown",
   "metadata": {},
   "source": [
    "<br>\n",
    "\n",
    "#### **Задание 1: Очистка строки**\n",
    "\n",
    "1. Дана строка: `text = \"   \\tPython is awesome!\\n   \"`.  \n",
    "   \n",
    "2. Удалите пробелы слева и справа.  \n",
    "   \n",
    "3. Выведите результат.  \n"
   ]
  },
  {
   "cell_type": "code",
   "execution_count": null,
   "metadata": {},
   "outputs": [],
   "source": [
    "# Ваше решение:"
   ]
  },
  {
   "cell_type": "markdown",
   "metadata": {},
   "source": [
    "**Решение:**\n",
    "```python\n",
    "text = \"   \\tPython is awesome!\\n   \"\n",
    "print(text.strip())  # \"Python is awesome!\"\n",
    "```"
   ]
  },
  {
   "cell_type": "markdown",
   "metadata": {},
   "source": [
    "<br>\n",
    "\n",
    "#### **Задание 2: Выравнивание текста**\n",
    "\n",
    "1. Создайте строку `text = \"42\"`.  \n",
    "\n",
    "2. Выровняйте её по правому краю с шириной 5 символов, заполнив пробелы нулями.  \n",
    "\n",
    "3. Результат: `\"00042\"`.\n"
   ]
  },
  {
   "cell_type": "code",
   "execution_count": null,
   "metadata": {},
   "outputs": [],
   "source": [
    "# Ваше решение:"
   ]
  },
  {
   "cell_type": "markdown",
   "metadata": {},
   "source": [
    "**Решение:**\n",
    "```python\n",
    "text = \"42\"\n",
    "print(text.rjust(5, \"0\"))  # 00042\n",
    "```"
   ]
  },
  {
   "cell_type": "markdown",
   "metadata": {},
   "source": [
    "<br>\n",
    "\n",
    "\n",
    "#### **Задание 3: Форматирование таблицы**\n",
    "\n",
    "Создайте таблицу с выравниванием:\n",
    "\n",
    "```\n",
    "Name      | Age\n",
    "----------------\n",
    "Alice     | 30\n",
    "Bob       | 25\n",
    "```\n",
    "Используйте методы `ljust()` и `rjust()`.\n"
   ]
  },
  {
   "cell_type": "code",
   "execution_count": null,
   "metadata": {},
   "outputs": [],
   "source": [
    "# Ваше решение:\n"
   ]
  },
  {
   "cell_type": "markdown",
   "metadata": {},
   "source": [
    "**Решение:**\n",
    "```python\n",
    "print(\"Name\".ljust(10) + \"|\" + \"Age\".rjust(5))\n",
    "print(\"-\" * 16)\n",
    "print(\"Alice\".ljust(10) + \"|\" + \"30\".rjust(5))\n",
    "print(\"Bob\".ljust(10) + \"|\" + \"25\".rjust(5))\n",
    "```"
   ]
  },
  {
   "cell_type": "markdown",
   "metadata": {},
   "source": [
    "<br>\n",
    "\n",
    "#### **Задание 4: Удаление символов**\n",
    "\n",
    "1. Дана строка: `text = \"****[Hello]****\"`.  \n",
    "\n",
    "2. Удалите все `*` и пробелы с обоих концов.  \n",
    "\n",
    "3. Результат: `\"[Hello]\"`.\n"
   ]
  },
  {
   "cell_type": "code",
   "execution_count": null,
   "metadata": {},
   "outputs": [],
   "source": [
    "# Ваше решение:"
   ]
  },
  {
   "cell_type": "markdown",
   "metadata": {},
   "source": [
    "**Решение:**\n",
    "```python\n",
    "text = \"****[Hello]****\"\n",
    "print(text.strip(\"* \"))  # [Hello]\n",
    "```"
   ]
  },
  {
   "cell_type": "markdown",
   "metadata": {},
   "source": [
    "<br>\n",
    "\n",
    "#### **Задание 5 (продвинутое): Генератор рамки**\n",
    "\n",
    "Напишите функцию `create_box(text)`, которая обрамляет текст в рамку из символов `*`.  \n",
    "\n",
    "Пример для `text = \"Hello\"`:  \n",
    "```\n",
    "*************\n",
    "*   Hello   *\n",
    "*************\n",
    "```"
   ]
  },
  {
   "cell_type": "code",
   "execution_count": null,
   "metadata": {},
   "outputs": [],
   "source": [
    "# Ваше решение:"
   ]
  },
  {
   "cell_type": "markdown",
   "metadata": {},
   "source": [
    "**Решение:**\n",
    "```python\n",
    "def create_box(text):\n",
    "    width = len(text) + 6\n",
    "    border = \"*\" * width\n",
    "    middle = \"*  \" + text.center(len(text) + 2) + \"  *\"\n",
    "    return f\"{border}\\n{middle}\\n{border}\"\n",
    "\n",
    "print(create_box(\"Hello\"))\n",
    "```"
   ]
  },
  {
   "cell_type": "markdown",
   "metadata": {},
   "source": [
    "<br>\n",
    "\n",
    "---\n",
    "\n",
    "<br>"
   ]
  },
  {
   "cell_type": "markdown",
   "metadata": {},
   "source": [
    "#### 🧠 **Проверь себя**"
   ]
  },
  {
   "cell_type": "markdown",
   "metadata": {},
   "source": [
    "1. Что выведет код?  \n",
    "   ```python\n",
    "   print(\"test\".center(8, \"-\"))  # \"--test--\"\n",
    "   ```"
   ]
  },
  {
   "cell_type": "code",
   "execution_count": null,
   "metadata": {},
   "outputs": [],
   "source": [
    "# Ваше решение:"
   ]
  },
  {
   "cell_type": "markdown",
   "metadata": {},
   "source": [
    "2. Как удалить только пробелы справа в строке `\"   Hello   \"`?  \n",
    "   "
   ]
  },
  {
   "cell_type": "code",
   "execution_count": null,
   "metadata": {},
   "outputs": [],
   "source": [
    "# Ваше решение:"
   ]
  },
  {
   "cell_type": "markdown",
   "metadata": {},
   "source": [
    "Ответ:  \n",
    "   ```python\n",
    "   print(\"   Hello   \".rstrip())  # \"   Hello\"\n",
    "   ```"
   ]
  },
  {
   "cell_type": "markdown",
   "metadata": {},
   "source": [
    "<br>\n",
    "\n",
    "3. Как получить строку `\"000123\"` из `\"123\"`?  \n",
    "   \n",
    "\n",
    "  "
   ]
  },
  {
   "cell_type": "code",
   "execution_count": null,
   "metadata": {},
   "outputs": [],
   "source": [
    "# Ваше решение:"
   ]
  },
  {
   "cell_type": "markdown",
   "metadata": {},
   "source": [
    "Ответ:  \n",
    "   ```python\n",
    "   print(\"123\".rjust(6, \"0\"))  # 000123"
   ]
  },
  {
   "cell_type": "markdown",
   "metadata": {},
   "source": [
    "<br>\n",
    "\n",
    "#### 📌 **Распространенные ошибки**\n",
    "\n",
    "- **Неправильный `fillchar`:**  \n",
    "  ```python\n",
    "  print(\"Hello\".center(10, \"**\"))  # Ошибка: fillchar должен быть одним символом \"*\" , а не двумя \"**\".\n",
    "  ```\n",
    "\n",
    "- **Неучёт пробельных символов:**  \n",
    "  Методы `strip()`, `lstrip()`, `rstrip()` удаляют все пробельные символы (пробел, `\\t`, `\\n`), а не только пробелы.\n"
   ]
  },
  {
   "cell_type": "markdown",
   "metadata": {},
   "source": [
    "<br>\n",
    "\n",
    "---\n",
    "\n",
    "<br>"
   ]
  },
  {
   "cell_type": "markdown",
   "metadata": {},
   "source": [
    "<br>\n",
    "\n",
    "##### 📬 Author:\n",
    "\n",
    "**Siergej Sobolewski**  \n",
    "\n",
    "[![Email 🚀](https://img.shields.io/badge/Email-s.sobolewski@hotmail.com-blue?logo=protonmail)](mailto:s.sobolewski@hotmail.com)\n",
    "[![GitHub](https://img.shields.io/badge/GitHub-SSobol77-blue?logo=github)](https://github.com/SSobol77)\n",
    "[![LinkedIn](https://img.shields.io/badge/LinkedIn-Connect-blue?logo=linkedin)](https://linkedin.com/in/siergej-s-25a16319a)\n",
    "\n",
    "<br>\n"
   ]
  }
 ],
 "metadata": {
  "kernelspec": {
   "display_name": "Python 3",
   "language": "python",
   "name": "python3"
  },
  "language_info": {
   "codemirror_mode": {
    "name": "ipython",
    "version": 3
   },
   "file_extension": ".py",
   "mimetype": "text/x-python",
   "name": "python",
   "nbconvert_exporter": "python",
   "pygments_lexer": "ipython3",
   "version": "3.13.2"
  }
 },
 "nbformat": 4,
 "nbformat_minor": 2
}
