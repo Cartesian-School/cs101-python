{
 "cells": [
  {
   "cell_type": "markdown",
   "id": "186ad513",
   "metadata": {},
   "source": [
    "# 🧰 Урок 3. Методы списков."
   ]
  },
  {
   "cell_type": "markdown",
   "id": "47cbd71e",
   "metadata": {},
   "source": [
    "> В этом уроке мы подробно рассмотрим свойства списков, основные методы и примеры их применения. Каждый раздел содержит теоретическую часть, примеры кода и практические задания для самостоятельной работы.\n"
   ]
  },
  {
   "cell_type": "markdown",
   "id": "aa6aefd5",
   "metadata": {},
   "source": [
    "## 🔹 1. Повторим ещё раз.\n",
    "\n",
    "### 1.1 Что такое список в Python\n",
    "- **Список** (list) — это изменяемая, упорядоченная структура данных, которая может содержать элементы любых типов (числа, строки, другие списки, объекты и т.д.).\n",
    "\n",
    "```python\n",
    "# Список из целых чисел\n",
    "nums = [1, 2, 3]\n",
    "\n",
    "# Список из строк\n",
    "words = [\"apple\", \"banana\", \"cherry\"]\n",
    "\n",
    "# Смешанный список\n",
    "mixed = [42, \"hello\", 3.14, [1, 2, 3]]\n",
    "```\n",
    "\n",
    "### 1.2 Как создавать списки\n",
    "\n",
    "1. **Через квадратные скобки**:\n",
    "   ```python\n",
    "   my_list = [10, 20, 30]\n",
    "   ```\n",
    "2. **Через функцию `list()`**:\n",
    "   ```python\n",
    "   my_list = list([10, 20, 30])\n",
    "   # или\n",
    "   my_list = list(range(5))  # [0, 1, 2, 3, 4]\n",
    "   ```\n",
    "3. **Пустой список**:\n",
    "   ```python\n",
    "   empty_list = []\n",
    "   # или\n",
    "   empty_list = list()\n",
    "   ```\n"
   ]
  },
  {
   "cell_type": "markdown",
   "id": "8d50a8f2-4f32-4a34-bdfb-d8e7a41b79e7",
   "metadata": {},
   "source": [
    "---\n",
    "\n",
    "<br>\n",
    "\n",
    "### 1.3 Индексация и срезы\n",
    "- **Доступ к элементам**: `my_list[0]` вернёт первый элемент.\n",
    "- **Отрицательные индексы**: `my_list[-1]` — последний элемент, `my_list[-2]` — предпоследний и т.д.\n",
    "- **Срезы**: `my_list[начало:конец:шаг]`.\n",
    "\n",
    "```python\n",
    "numbers = [0, 1, 2, 3, 4, 5]\n",
    "print(numbers[1:4])    # [1, 2, 3]\n",
    "print(numbers[:3])     # [0, 1, 2]\n",
    "print(numbers[::2])    # [0, 2, 4]\n",
    "print(numbers[-3:])    # [3, 4, 5]\n",
    "```\n",
    "\n",
    "### 1.4 Изменяемость списков\n",
    "Если мы присваиваем список другой переменной, то обе переменные ссылаются на один и тот же объект:\n",
    "\n",
    "```python\n",
    "a = [1, 2, 3]\n",
    "b = a\n",
    "b.append(4)\n",
    "print(a)  # [1, 2, 3, 4]\n",
    "print(b)  # [1, 2, 3, 4]\n",
    "```\n",
    "\n",
    "<br>\n",
    "\n",
    "---\n",
    "\n",
    "<br>"
   ]
  },
  {
   "cell_type": "markdown",
   "id": "606e696d-3200-407d-9270-29e7b6e1d913",
   "metadata": {},
   "source": [
    "## 🧰 2. Методы списков и примеры их использования\n",
    "\n",
    "\n",
    "\n",
    "<br>"
   ]
  },
  {
   "cell_type": "markdown",
   "id": "13065b2e",
   "metadata": {},
   "source": [
    "### 🎯 Основные методы списков\n",
    "\n",
    "| Метод          | Описание |\n",
    "|----------------|----------|\n",
    "| `append(x)`    | Добавляет элемент `x` в конец списка |\n",
    "| `extend(iter)` | Расширяет список, добавляя элементы из `iter` |\n",
    "| `insert(i, x)` | Вставляет `x` по индексу `i` |\n",
    "| `remove(x)`    | Удаляет первый элемент `x` |\n",
    "| `pop(i)`       | Удаляет элемент по индексу `i` (по умолчанию — последний) |\n",
    "| `clear()`      | Очищает список |\n",
    "| `index(x)`     | Возвращает индекс первого элемента `x` |\n",
    "| `count(x)`     | Подсчитывает количество `x` в списке |\n",
    "| `sort()`       | Сортирует список |\n",
    "| `reverse()`    | Разворачивает список |\n",
    "| `copy()`       | Возвращает поверхностную копию списка |\n",
    "\n",
    "\n",
    "<br>\n",
    "\n",
    "---"
   ]
  },
  {
   "cell_type": "markdown",
   "id": "efdb6d7b",
   "metadata": {},
   "source": [
    "### 2.1 Метод `append(x)`\n",
    "\n",
    "Метод `append()` добавляет элемент `x` в конец списка.\n",
    "\n",
    "```python\n",
    "my_list = [1, 2]\n",
    "my_list.append(3)\n",
    "print(my_list)  # [1, 2, 3]\n",
    "```\n",
    "\n",
    "🧪 **Примеры:**\n",
    "1. Добавление числа:\n",
    "   ```python\n",
    "   numbers = [10, 20]\n",
    "   numbers.append(30)\n",
    "   print(numbers)  # [10, 20, 30]\n",
    "   ```"
   ]
  },
  {
   "cell_type": "code",
   "execution_count": null,
   "id": "e536024d",
   "metadata": {
    "vscode": {
     "languageId": "plaintext"
    }
   },
   "outputs": [],
   "source": [
    "# Выполните код:\n"
   ]
  },
  {
   "cell_type": "markdown",
   "id": "372e4434",
   "metadata": {},
   "source": [
    "\n",
    "2. Добавление строки:\n",
    "   ```python\n",
    "   fruits = [\"apple\", \"banana\"]\n",
    "   fruits.append(\"cherry\")\n",
    "   print(fruits)  # [\"apple\", \"banana\", \"cherry\"]\n",
    "   ```"
   ]
  },
  {
   "cell_type": "code",
   "execution_count": null,
   "id": "abe77ad2",
   "metadata": {
    "vscode": {
     "languageId": "plaintext"
    }
   },
   "outputs": [],
   "source": [
    "# Выполните код:"
   ]
  },
  {
   "cell_type": "markdown",
   "id": "6947f98d",
   "metadata": {},
   "source": [
    "3. Добавление списка как единого элемента:\n",
    "   ```python\n",
    "   data = [1, 2, 3]\n",
    "   data.append([4, 5])\n",
    "   print(data)  # [1, 2, 3, [4, 5]]\n",
    "   ```"
   ]
  },
  {
   "cell_type": "code",
   "execution_count": null,
   "id": "c5596e75",
   "metadata": {
    "vscode": {
     "languageId": "plaintext"
    }
   },
   "outputs": [],
   "source": [
    "# Выполните код:"
   ]
  },
  {
   "cell_type": "markdown",
   "id": "41b39ccb",
   "metadata": {},
   "source": [
    "4. Добавление по условию:\n",
    "   ```python\n",
    "   lst = [100, 200, 300]\n",
    "   x = 400\n",
    "   if x not in lst:\n",
    "       lst.append(x)\n",
    "   print(lst)  # [100, 200, 300, 400]\n",
    "   ```"
   ]
  },
  {
   "cell_type": "code",
   "execution_count": null,
   "id": "580b9581",
   "metadata": {
    "vscode": {
     "languageId": "plaintext"
    }
   },
   "outputs": [],
   "source": [
    "# Выполните код:"
   ]
  },
  {
   "cell_type": "markdown",
   "id": "f312df23",
   "metadata": {},
   "source": [
    "\n",
    "5. Чтение от пользователя:\n",
    " \n",
    "   ```python\n",
    "   # Пример работы в интерактивном режиме\n",
    "   user_input = []\n",
    "   inp = int(input(\"Введите число: \"))\n",
    "   user_input.append(inp)\n",
    "   print(user_input)\n",
    "```"
   ]
  },
  {
   "cell_type": "code",
   "execution_count": null,
   "id": "9715a2af",
   "metadata": {
    "vscode": {
     "languageId": "plaintext"
    }
   },
   "outputs": [],
   "source": [
    "# Выполните код:"
   ]
  },
  {
   "cell_type": "markdown",
   "id": "a0b43877-8b28-46f7-a1fa-818a46a9c583",
   "metadata": {},
   "source": [
    "🛠 **Задания:**\n",
    "1. Создайте список чисел от 1 до 3 и добавьте в него 4.\n",
    "2. Создайте список из трёх строк и добавьте к нему новую строку, введённую пользователем.\n",
    "3. Создайте пустой список `results` и с помощью цикла `for` добавьте в него квадраты чисел от 1 до 5.\n",
    "4. Напишите функцию `add_unique(lst, x)`, которая добавляет элемент `x`, если его ещё нет в списке.\n",
    "5. Заполните список `odd_numbers` нечётными числами от 1 до 9.\n",
    "6. Создайте список случайных чисел и добавьте в него фиксированное число 999.\n",
    "7. Запросите у пользователя 3 слова и добавьте их в пустой список `words_list`.\n",
    "8. Добавьте в список заданных строк те элементы, которых там ещё нет.\n",
    "9. Добавьте в список имена минимум 5 друзей и выведите результат.\n"
   ]
  },
  {
   "cell_type": "code",
   "execution_count": null,
   "id": "b97dd84f",
   "metadata": {
    "vscode": {
     "languageId": "plaintext"
    }
   },
   "outputs": [],
   "source": [
    "# Выполните Задание 1:"
   ]
  },
  {
   "cell_type": "code",
   "execution_count": null,
   "id": "66ecb92f",
   "metadata": {
    "vscode": {
     "languageId": "plaintext"
    }
   },
   "outputs": [],
   "source": [
    "# Выполните Задание 2:"
   ]
  },
  {
   "cell_type": "code",
   "execution_count": null,
   "id": "7dbd1ec9",
   "metadata": {
    "vscode": {
     "languageId": "plaintext"
    }
   },
   "outputs": [],
   "source": [
    "# Выполните Задание 3:"
   ]
  },
  {
   "cell_type": "code",
   "execution_count": null,
   "id": "b4e830b7",
   "metadata": {
    "vscode": {
     "languageId": "plaintext"
    }
   },
   "outputs": [],
   "source": [
    "# Выполните Задание 4:"
   ]
  },
  {
   "cell_type": "code",
   "execution_count": null,
   "id": "1e47092f",
   "metadata": {
    "vscode": {
     "languageId": "plaintext"
    }
   },
   "outputs": [],
   "source": [
    "# Выполните Задание 5:"
   ]
  },
  {
   "cell_type": "code",
   "execution_count": null,
   "id": "78628b5e",
   "metadata": {
    "vscode": {
     "languageId": "plaintext"
    }
   },
   "outputs": [],
   "source": [
    "# Выполните Задание 6:"
   ]
  },
  {
   "cell_type": "code",
   "execution_count": null,
   "id": "32249bc8",
   "metadata": {
    "vscode": {
     "languageId": "plaintext"
    }
   },
   "outputs": [],
   "source": [
    "# Выполните Задание 7:"
   ]
  },
  {
   "cell_type": "code",
   "execution_count": null,
   "id": "f9a2b90c",
   "metadata": {
    "vscode": {
     "languageId": "plaintext"
    }
   },
   "outputs": [],
   "source": [
    "# Выполните Задание 8:"
   ]
  },
  {
   "cell_type": "code",
   "execution_count": null,
   "id": "d2e6a54b",
   "metadata": {
    "vscode": {
     "languageId": "plaintext"
    }
   },
   "outputs": [],
   "source": [
    "# Выполните Задание 9:"
   ]
  },
  {
   "cell_type": "markdown",
   "id": "f52a8f48",
   "metadata": {},
   "source": [
    "<br>\n",
    "\n",
    "### 2.2 Метод `extend(iterable)`\n",
    "\n",
    "Метод `extend()` расширяет список, добавляя каждый элемент из итерируемого объекта в конец списка.\n",
    "\n",
    "```python\n",
    "my_list = [1, 2]\n",
    "my_list.extend([3, 4])\n",
    "print(my_list)  # [1, 2, 3, 4]\n",
    "```"
   ]
  },
  {
   "cell_type": "markdown",
   "id": "caa5f50c",
   "metadata": {},
   "source": [
    "🧪 **Примеры:**\n",
    "1. Слияние двух списков:\n",
    "   ```python\n",
    "   nums1 = [1, 2]\n",
    "   nums2 = [3, 4, 5]\n",
    "   nums1.extend(nums2)\n",
    "   print(nums1)  # [1, 2, 3, 4, 5]\n",
    "   ```"
   ]
  },
  {
   "cell_type": "code",
   "execution_count": null,
   "id": "cd94e70d",
   "metadata": {
    "vscode": {
     "languageId": "plaintext"
    }
   },
   "outputs": [],
   "source": [
    "# Выполните код:"
   ]
  },
  {
   "cell_type": "markdown",
   "id": "4ca84e5b",
   "metadata": {},
   "source": [
    "2. Расширение строки (строка — итерируемый объект):\n",
    "   ```python\n",
    "   symbols = ['a', 'b']\n",
    "   symbols.extend(\"cde\")\n",
    "   print(symbols)  # ['a', 'b', 'c', 'd', 'e']\n",
    "   ```"
   ]
  },
  {
   "cell_type": "code",
   "execution_count": null,
   "id": "3bb15c90",
   "metadata": {
    "vscode": {
     "languageId": "plaintext"
    }
   },
   "outputs": [],
   "source": [
    "# Выполните код:"
   ]
  },
  {
   "cell_type": "markdown",
   "id": "911f5d3e",
   "metadata": {},
   "source": [
    "3. Расширение кортежем:\n",
    "   ```python\n",
    "   my_list = [10, 20]\n",
    "   t = (30, 40)\n",
    "   my_list.extend(t)\n",
    "   print(my_list)  # [10, 20, 30, 40]\n",
    "   ```"
   ]
  },
  {
   "cell_type": "code",
   "execution_count": null,
   "id": "cad6ae7b",
   "metadata": {
    "vscode": {
     "languageId": "plaintext"
    }
   },
   "outputs": [],
   "source": [
    "# Выполните код:"
   ]
  },
  {
   "cell_type": "markdown",
   "id": "260b7c98",
   "metadata": {},
   "source": [
    "4. Считывание значений с input:\n",
    "   ```python\n",
    "   # user_data = []\n",
    "   # line = input(\"Введите числа через пробел: \")\n",
    "   # splitted = line.split()\n",
    "   # user_data.extend(splitted)\n",
    "   # print(user_data)\n",
    "   ```"
   ]
  },
  {
   "cell_type": "code",
   "execution_count": null,
   "id": "cedc86e1",
   "metadata": {},
   "outputs": [],
   "source": [
    "# Выполните код:"
   ]
  },
  {
   "cell_type": "markdown",
   "id": "927863f9",
   "metadata": {},
   "source": [
    "5. Пример рекурсивной функции для расширения вложенных списков (более сложная логика).\n",
    "\n",
    "```python\n",
    "nested = [1, [2, [3, 4], 5], 6, [[7, 8], 9]]\n",
    "flat = flatten(nested)\n",
    "print(flat)  # [1, 2, 3, 4, 5, 6, 7, 8, 9]\n",
    "```\n",
    "- Проходим по каждому элементу в списке.\n",
    "\n",
    "- Если элемент — список, вызываем flatten() рекурсивно.\n",
    "\n",
    "- Если элемент не список — добавляем напрямую в результат.\n",
    "\n",
    "- Таким образом, любая вложенность будет «развёрнута» в один уровень."
   ]
  },
  {
   "cell_type": "code",
   "execution_count": null,
   "id": "a53b52de",
   "metadata": {
    "vscode": {
     "languageId": "plaintext"
    }
   },
   "outputs": [],
   "source": [
    "# Выполните код:"
   ]
  },
  {
   "cell_type": "markdown",
   "id": "22e10f95-7b63-4f56-ac82-779fa1fe8701",
   "metadata": {},
   "source": [
    "🛠 **Задания:**\n",
    "1. Расширьте список `[10, 20]` элементами `[30, 40]`.\n",
    "2. Объедините два списка строк, например `['cat', 'dog']` и `['mouse', 'rabbit']`.\n",
    "3. Напишите функцию `merge_lists(lst1, lst2)`, которая возвращает объединённый список.\n",
    "4. Примените `extend()` к строке \"ABC\" для списка `['X', 'Y']` и объясните результат.\n",
    "5. Создайте список `numbers = [1, 2]` и с помощью `extend()` добавьте в него числа от 3 до 5 (используя `range(3, 6)`).\n",
    "6. Запросите у пользователя значения через `split()` и расширьте имеющийся список новыми элементами.\n",
    "7. Напишите функцию, которая принимает несколько списков и объединяет их через `extend()`.\n",
    "8. Реализуйте функцию `flatten(lst)`, которая \"расплющивает\" список списков.\n",
    "9. Создайте список, содержащий буквы `['a', 'b', 'c']`, и расширьте его словом \"Python\". Объясните результат.\n"
   ]
  },
  {
   "cell_type": "code",
   "execution_count": null,
   "id": "95a85f3e",
   "metadata": {
    "vscode": {
     "languageId": "plaintext"
    }
   },
   "outputs": [],
   "source": [
    "# Выполните Задание 1:"
   ]
  },
  {
   "cell_type": "code",
   "execution_count": null,
   "id": "762eb4b1",
   "metadata": {
    "vscode": {
     "languageId": "plaintext"
    }
   },
   "outputs": [],
   "source": [
    "# Выполните Задание 2:"
   ]
  },
  {
   "cell_type": "code",
   "execution_count": null,
   "id": "cb222d14",
   "metadata": {
    "vscode": {
     "languageId": "plaintext"
    }
   },
   "outputs": [],
   "source": [
    "# Выполните Задание 3:"
   ]
  },
  {
   "cell_type": "code",
   "execution_count": null,
   "id": "bc82484e",
   "metadata": {
    "vscode": {
     "languageId": "plaintext"
    }
   },
   "outputs": [],
   "source": [
    "# Выполните Задание 4:"
   ]
  },
  {
   "cell_type": "code",
   "execution_count": null,
   "id": "51153163",
   "metadata": {
    "vscode": {
     "languageId": "plaintext"
    }
   },
   "outputs": [],
   "source": [
    "# Выполните Задание 5:"
   ]
  },
  {
   "cell_type": "code",
   "execution_count": null,
   "id": "89dd02b2",
   "metadata": {
    "vscode": {
     "languageId": "plaintext"
    }
   },
   "outputs": [],
   "source": [
    "# Выполните Задание 6:"
   ]
  },
  {
   "cell_type": "code",
   "execution_count": null,
   "id": "c310552c",
   "metadata": {
    "vscode": {
     "languageId": "plaintext"
    }
   },
   "outputs": [],
   "source": [
    "# Выполните Задание 7:"
   ]
  },
  {
   "cell_type": "code",
   "execution_count": null,
   "id": "53e02d2a",
   "metadata": {
    "vscode": {
     "languageId": "plaintext"
    }
   },
   "outputs": [],
   "source": [
    "# Выполните Задание 8:"
   ]
  },
  {
   "cell_type": "code",
   "execution_count": null,
   "id": "1ed09500",
   "metadata": {
    "vscode": {
     "languageId": "plaintext"
    }
   },
   "outputs": [],
   "source": [
    "# Выполните Задание 9:"
   ]
  },
  {
   "cell_type": "markdown",
   "id": "c2db56b1",
   "metadata": {},
   "source": [
    "<br>\n",
    "\n",
    "### 2.3 Метод `insert(i, x)`\n",
    "\n",
    "Метод `insert()` вставляет элемент `x` по индексу `i`.\n",
    "\n",
    "```python\n",
    "my_list = [1, 3]\n",
    "my_list.insert(1, 2)\n",
    "print(my_list)  # [1, 2, 3]\n",
    "```"
   ]
  },
  {
   "cell_type": "markdown",
   "id": "0246cd96",
   "metadata": {},
   "source": [
    "**🧪 Примеры:**\n",
    "1. Вставка в начало списка:\n",
    "   ```python\n",
    "   numbers = [2, 3, 4]\n",
    "   numbers.insert(0, 1)\n",
    "   print(numbers)  # [1, 2, 3, 4]\n",
    "   ```"
   ]
  },
  {
   "cell_type": "code",
   "execution_count": null,
   "id": "3ab9133a",
   "metadata": {
    "vscode": {
     "languageId": "plaintext"
    }
   },
   "outputs": [],
   "source": [
    "# Выполните код:"
   ]
  },
  {
   "cell_type": "markdown",
   "id": "3ee78466",
   "metadata": {},
   "source": [
    "2. Вставка в конец (через `insert(len(my_list), x)`):\n",
    "   ```python\n",
    "   data = [\"a\", \"b\"]\n",
    "   data.insert(len(data), \"c\")\n",
    "   print(data)  # [\"a\", \"b\", \"c\"]\n",
    "   ```"
   ]
  },
  {
   "cell_type": "code",
   "execution_count": null,
   "id": "c442b6d8",
   "metadata": {
    "vscode": {
     "languageId": "plaintext"
    }
   },
   "outputs": [],
   "source": [
    "# Выполните код:"
   ]
  },
  {
   "cell_type": "markdown",
   "id": "1639b31c",
   "metadata": {},
   "source": [
    "3. Вставка строки по индексу:\n",
    "   ```python\n",
    "   words = [\"Hello\", \"world\"]\n",
    "   words.insert(1, \"my\")\n",
    "   print(words)  # [\"Hello\", \"my\", \"world\"]\n",
    "   ```"
   ]
  },
  {
   "cell_type": "code",
   "execution_count": null,
   "id": "7b0463bb",
   "metadata": {
    "vscode": {
     "languageId": "plaintext"
    }
   },
   "outputs": [],
   "source": [
    "# Выполните код:"
   ]
  },
  {
   "cell_type": "markdown",
   "id": "d9b8039d-1e04-44a6-8a1a-8c0c7169d4b4",
   "metadata": {},
   "source": [
    "🛠 **Задания:**\n",
    "1. Создайте список `[1, 2, 4, 5]` и вставьте число `3` между `2` и `4`.\n",
    "2. Создайте список строк `['red', 'green', 'blue']` и вставьте `'yellow'` на позицию 1.\n",
    "3. Сформируйте пустой список и с помощью `insert(0, x)` добавьте несколько значений так, чтобы каждый новый элемент вставлялся в начало.\n",
    "4. Напишите функцию `insert_unique(lst, index, x)`, которая вставляет элемент, если его ещё нет в списке.\n",
    "5. Используйте `insert()` для вставки элемента в последнюю позицию и сравните с `append()`.\n",
    "6. Создайте список случайных чисел, найдите позицию максимального элемента и вставьте рядом с ним слово \"MAX\".\n",
    "7. Реализуйте код, который вставляет ноль на каждую вторую позицию (индексы 2, 4, 6, ...).\n",
    "8. Переверните список, используя `pop(0)` и `insert(0, x)` для формирования нового списка.\n",
    "9. Напишите функцию, которая вставляет элемент в середину списка (для нечётной длины — точно в середину, для чётной — на `len(lst)//2`).\n"
   ]
  },
  {
   "cell_type": "code",
   "execution_count": null,
   "id": "9bffc098",
   "metadata": {
    "vscode": {
     "languageId": "plaintext"
    }
   },
   "outputs": [],
   "source": [
    "# Выполните Задание 1:"
   ]
  },
  {
   "cell_type": "code",
   "execution_count": null,
   "id": "6e5fb049",
   "metadata": {
    "vscode": {
     "languageId": "plaintext"
    }
   },
   "outputs": [],
   "source": [
    "# Выполните Задание 2:"
   ]
  },
  {
   "cell_type": "code",
   "execution_count": null,
   "id": "3ad22194",
   "metadata": {
    "vscode": {
     "languageId": "plaintext"
    }
   },
   "outputs": [],
   "source": [
    "# Выполните Задание 3:"
   ]
  },
  {
   "cell_type": "code",
   "execution_count": null,
   "id": "573ba8d9",
   "metadata": {
    "vscode": {
     "languageId": "plaintext"
    }
   },
   "outputs": [],
   "source": [
    "# Выполните Задание 4:"
   ]
  },
  {
   "cell_type": "code",
   "execution_count": null,
   "id": "c1257f5d",
   "metadata": {
    "vscode": {
     "languageId": "plaintext"
    }
   },
   "outputs": [],
   "source": [
    "# Выполните Задание 5:"
   ]
  },
  {
   "cell_type": "code",
   "execution_count": null,
   "id": "593953f6",
   "metadata": {
    "vscode": {
     "languageId": "plaintext"
    }
   },
   "outputs": [],
   "source": [
    "# Выполните Задание 6:"
   ]
  },
  {
   "cell_type": "code",
   "execution_count": null,
   "id": "e6290ada",
   "metadata": {
    "vscode": {
     "languageId": "plaintext"
    }
   },
   "outputs": [],
   "source": [
    "# Выполните Задание 7:"
   ]
  },
  {
   "cell_type": "code",
   "execution_count": null,
   "id": "14f5e9db",
   "metadata": {
    "vscode": {
     "languageId": "plaintext"
    }
   },
   "outputs": [],
   "source": [
    "# Выполните Задание 8:"
   ]
  },
  {
   "cell_type": "code",
   "execution_count": null,
   "id": "09a2f070",
   "metadata": {
    "vscode": {
     "languageId": "plaintext"
    }
   },
   "outputs": [],
   "source": [
    "# Выполните Задание 9:"
   ]
  },
  {
   "cell_type": "markdown",
   "id": "137aada5",
   "metadata": {},
   "source": [
    "<br>\n",
    "\n",
    "### 2.4 Метод `remove(x)`\n",
    "\n",
    "Метод `remove()` удаляет **первый** элемент, равный `x`. Если элемента нет в списке, возникает исключение `ValueError`.\n",
    "\n",
    "```python\n",
    "my_list = [1, 2, 3, 2]\n",
    "my_list.remove(2)\n",
    "print(my_list)  # [1, 3, 2]\n",
    "```"
   ]
  },
  {
   "cell_type": "markdown",
   "id": "725de1a7",
   "metadata": {},
   "source": [
    "**🧪 Примеры:**\n",
    "1. Удаление строки:\n",
    "   ```python\n",
    "   fruits = [\"apple\", \"banana\", \"cherry\", \"banana\"]\n",
    "   fruits.remove(\"banana\")\n",
    "   print(fruits)  # [\"apple\", \"cherry\", \"banana\"]\n",
    "   ```"
   ]
  },
  {
   "cell_type": "code",
   "execution_count": null,
   "id": "dfb2ce34",
   "metadata": {
    "vscode": {
     "languageId": "plaintext"
    }
   },
   "outputs": [],
   "source": [
    "# Выполните код:"
   ]
  },
  {
   "cell_type": "markdown",
   "id": "cfae98e5",
   "metadata": {},
   "source": [
    "2. Предварительная проверка перед удалением:\n",
    "   ```python\n",
    "   lst = [10, 20, 30]\n",
    "   if 20 in lst:\n",
    "       lst.remove(20)\n",
    "   print(lst)  # [10, 30]\n",
    "   ```"
   ]
  },
  {
   "cell_type": "code",
   "execution_count": null,
   "id": "6160c0c5",
   "metadata": {
    "vscode": {
     "languageId": "plaintext"
    }
   },
   "outputs": [],
   "source": [
    "# Выполните код:"
   ]
  },
  {
   "cell_type": "markdown",
   "id": "416f8260",
   "metadata": {},
   "source": [
    "3. Удаление всех вхождений с помощью цикла `while`:\n",
    "   ```python\n",
    "   data = [1, 2, 2, 3, 2]\n",
    "   while 2 in data:\n",
    "       data.remove(2)\n",
    "   print(data)  # [1, 3]\n",
    "   ```"
   ]
  },
  {
   "cell_type": "code",
   "execution_count": null,
   "id": "97357674",
   "metadata": {
    "vscode": {
     "languageId": "plaintext"
    }
   },
   "outputs": [],
   "source": [
    "# Выполните код:"
   ]
  },
  {
   "cell_type": "markdown",
   "id": "05bb89a2",
   "metadata": {},
   "source": [
    "4. Обработка ошибки, если элемента нет:\n",
    "   ```python\n",
    "   try:\n",
    "       data.remove(100)\n",
    "   except ValueError:\n",
    "       print(\"Элемента 100 нет в списке!\")\n",
    "   ```"
   ]
  },
  {
   "cell_type": "code",
   "execution_count": null,
   "id": "aa21ccb8",
   "metadata": {
    "vscode": {
     "languageId": "plaintext"
    }
   },
   "outputs": [],
   "source": [
    "# Выполните код:"
   ]
  },
  {
   "cell_type": "markdown",
   "id": "89a9d5ea-1e7d-41bd-9eb8-d83dc47cc30d",
   "metadata": {},
   "source": [
    "**🛠 Задания:**\n",
    "1. Удалите элемент \"яблоко\" из списка `['груша', 'яблоко', 'банан']`.\n",
    "2. Удалите число 7 из списка `[1, 2, 3, 4, 7, 7, 8]` — удалится только первое вхождение.\n",
    "3. Удалите несуществующий элемент и предусмотрите обработку ошибки.\n",
    "4. Удалите все вхождения элемента \"dog\" из списка `['cat', 'dog', 'mouse', 'dog', 'dog']`.\n",
    "5. Напишите функцию `remove_all(lst, x)`, удаляющую все вхождения `x`.\n",
    "6. Реализуйте процесс \"блокировки пользователя\": по вводимому имени удаляйте его из списка имен `['Alice', 'Bob', 'Charlie']`.\n",
    "7. Создайте список случайных чисел с повторениями и удалите первый вхождение минимального элемента.\n",
    "8. Удалите из списка все строки длиной менее 3 символов.\n",
    "9. Напишите функцию `remove_if_present(lst, x)`, которая удаляет элемент, если он присутствует, иначе ничего не делает.\n"
   ]
  },
  {
   "cell_type": "code",
   "execution_count": null,
   "id": "d382dcc9",
   "metadata": {
    "vscode": {
     "languageId": "plaintext"
    }
   },
   "outputs": [],
   "source": [
    "# Выполните Задание 1:"
   ]
  },
  {
   "cell_type": "code",
   "execution_count": null,
   "id": "37c31822",
   "metadata": {},
   "outputs": [],
   "source": [
    "# Выполните Задание 2:"
   ]
  },
  {
   "cell_type": "code",
   "execution_count": null,
   "id": "bc749ebd",
   "metadata": {},
   "outputs": [],
   "source": [
    "# Выполните Задание 3:"
   ]
  },
  {
   "cell_type": "code",
   "execution_count": null,
   "id": "fef56053",
   "metadata": {},
   "outputs": [],
   "source": [
    "# Выполните Задание 4:"
   ]
  },
  {
   "cell_type": "code",
   "execution_count": null,
   "id": "10aa62b0",
   "metadata": {},
   "outputs": [],
   "source": [
    "# Выполните Задание 5:"
   ]
  },
  {
   "cell_type": "code",
   "execution_count": null,
   "id": "55b06075",
   "metadata": {},
   "outputs": [],
   "source": [
    "# Выполните Задание 6:"
   ]
  },
  {
   "cell_type": "code",
   "execution_count": null,
   "id": "8a54b55b",
   "metadata": {},
   "outputs": [],
   "source": [
    "# Выполните Задание 7:"
   ]
  },
  {
   "cell_type": "code",
   "execution_count": null,
   "id": "5ca42ee5",
   "metadata": {},
   "outputs": [],
   "source": [
    "# Выполните Задание 8:"
   ]
  },
  {
   "cell_type": "code",
   "execution_count": null,
   "id": "17d8e839",
   "metadata": {},
   "outputs": [],
   "source": [
    "# Выполните Задание 9:"
   ]
  },
  {
   "cell_type": "markdown",
   "id": "c6a0f432",
   "metadata": {},
   "source": [
    "<br>\n",
    "\n",
    "###  **2.4 Метод `clear()` в списках**\n",
    "\n",
    "Метод `clear()` удаляет **все элементы** из списка, делая его **пустым**.\n",
    "\n",
    "### Синтаксис:\n",
    "```python\n",
    "list.clear()\n",
    "```\n",
    "\n",
    "```python\n",
    "my_list = [1, 2, 3]\n",
    "my_list.clear()\n",
    "print(my_list)  # []\n",
    "```\n",
    "\n",
    "- Метод **не принимает аргументов**.\n",
    "- Возвращает `None`.\n",
    "- Работает **на месте** (in-place), то есть изменяет сам список.\n",
    "\n"
   ]
  },
  {
   "cell_type": "markdown",
   "id": "b9a8b436",
   "metadata": {},
   "source": [
    "**🧪 Примеры:**\n",
    "\n",
    "1. Полная очистка списка:\n",
    "```python\n",
    "data = [10, 20, 30]\n",
    "data.clear()\n",
    "print(data)  # []\n",
    "```"
   ]
  },
  {
   "cell_type": "code",
   "execution_count": null,
   "id": "5edc9d1f",
   "metadata": {},
   "outputs": [],
   "source": [
    "# Выполните код:"
   ]
  },
  {
   "cell_type": "markdown",
   "id": "b220264d",
   "metadata": {},
   "source": [
    "2. Очистка списка внутри функции:\n",
    "```python\n",
    "def reset_list(lst):\n",
    "    lst.clear()\n",
    "\n",
    "my_list = [1, 2, 3]\n",
    "reset_list(my_list)\n",
    "print(my_list)  # []\n",
    "```"
   ]
  },
  {
   "cell_type": "code",
   "execution_count": null,
   "id": "d4aab111",
   "metadata": {},
   "outputs": [],
   "source": [
    "# Выполните код:"
   ]
  },
  {
   "cell_type": "markdown",
   "id": "c211395a",
   "metadata": {},
   "source": [
    "3. Очистка списка перед повторным использованием:\n",
    "```python\n",
    "buffer = [\"temp1\", \"temp2\"]\n",
    "process(buffer)  # псевдофункция обработки\n",
    "buffer.clear()   # подготовка к следующей порции данных\n",
    "```"
   ]
  },
  {
   "cell_type": "code",
   "execution_count": null,
   "id": "1f80174a",
   "metadata": {},
   "outputs": [],
   "source": [
    "# Выполните код:"
   ]
  },
  {
   "cell_type": "markdown",
   "id": "88453f50",
   "metadata": {},
   "source": [
    "4. Очистка вложенного списка:\n",
    "```python\n",
    "nested = [[1, 2], [3, 4]]\n",
    "nested[0].clear()\n",
    "print(nested)  # [[], [3, 4]]\n",
    "```"
   ]
  },
  {
   "cell_type": "code",
   "execution_count": null,
   "id": "c60b2058",
   "metadata": {},
   "outputs": [],
   "source": [
    "# Выполните код:"
   ]
  },
  {
   "cell_type": "markdown",
   "id": "d4310bfb",
   "metadata": {},
   "source": [
    "5. Очистка списка через переменную:\n",
    "```python\n",
    "a = [1, 2, 3]\n",
    "b = a\n",
    "a.clear()\n",
    "print(b)  # [] — b тоже очистится, так как указывает на тот же объект\n",
    "```"
   ]
  },
  {
   "cell_type": "code",
   "execution_count": null,
   "id": "605dfb74",
   "metadata": {},
   "outputs": [],
   "source": [
    "# Выполните код:"
   ]
  },
  {
   "cell_type": "markdown",
   "id": "596e89d5",
   "metadata": {},
   "source": [
    "<br>\n",
    "\n",
    "#### 🧠 Как `clear()` отличается от других способов:\n",
    "\n",
    "| Способ                    | Поведение                     |\n",
    "|---------------------------|-------------------------------|\n",
    "| `lst.clear()`             | Удаляет всё, изменяя объект   |\n",
    "| `lst = []`                | Переменная указывает на новый пустой список |\n",
    "| `del lst[:]`              | Альтернатива `clear()`        |\n",
    "| `lst.pop()` / `remove()`  | Удаляют по одному элементу    |\n"
   ]
  },
  {
   "cell_type": "markdown",
   "id": "983ba65f",
   "metadata": {},
   "source": [
    "<br>\n",
    "\n",
    "**🛠 Задания:**\n",
    "\n",
    "1. Создайте список чисел от 1 до 5. Очистите его с помощью `clear()` и выведите результат.  \n",
    "2. Напишите функцию `clear_if_large(lst)`, которая очищает список, если в нём больше 10 элементов.  \n",
    "3. Создайте список строк и очистите его внутри функции. Проверьте, как это влияет на оригинал.  \n",
    "4. Создайте список списков. Очистите только один из вложенных списков.  \n",
    "5. Очистите список, затем снова добавьте в него элементы с помощью `append()` и `extend()`.  \n",
    "6. Проверьте, указывают ли переменные `a` и `b` на один и тот же список (сначала `b = a`, затем `a.clear()` → выведите `b`).  \n",
    "7. Напишите функцию `reset_all(*lists)` — принимает несколько списков и очищает каждый.  \n",
    "8. Реализуйте простой буфер, который накапливает строки, и при вводе `\"clear\"` — очищает список.  \n",
    "9. Используйте `clear()` в коде, который моделирует корзину покупок, и по команде `\"очистить\"` — удаляет все товары.\n"
   ]
  },
  {
   "cell_type": "code",
   "execution_count": null,
   "id": "5455bcb9",
   "metadata": {},
   "outputs": [],
   "source": [
    "# Выполните Задание 1:"
   ]
  },
  {
   "cell_type": "code",
   "execution_count": null,
   "id": "1ebb8d45",
   "metadata": {},
   "outputs": [],
   "source": [
    "# Выполните Задание 2:"
   ]
  },
  {
   "cell_type": "code",
   "execution_count": null,
   "id": "f772bc6d",
   "metadata": {},
   "outputs": [],
   "source": [
    "# Выполните Задание 3:"
   ]
  },
  {
   "cell_type": "code",
   "execution_count": null,
   "id": "142735ac",
   "metadata": {},
   "outputs": [],
   "source": [
    "# Выполните Задание 4:"
   ]
  },
  {
   "cell_type": "code",
   "execution_count": null,
   "id": "56ae89b3",
   "metadata": {},
   "outputs": [],
   "source": [
    "# Выполните Задание 5:"
   ]
  },
  {
   "cell_type": "code",
   "execution_count": null,
   "id": "1d366b89",
   "metadata": {},
   "outputs": [],
   "source": [
    "# Выполните Задание 6:"
   ]
  },
  {
   "cell_type": "code",
   "execution_count": null,
   "id": "93fca601",
   "metadata": {},
   "outputs": [],
   "source": [
    "# Выполните Задание 7:"
   ]
  },
  {
   "cell_type": "code",
   "execution_count": null,
   "id": "dcaa1f13",
   "metadata": {},
   "outputs": [],
   "source": [
    "# Выполните Задание 8:"
   ]
  },
  {
   "cell_type": "code",
   "execution_count": null,
   "id": "5e34a09c",
   "metadata": {},
   "outputs": [],
   "source": [
    "# Выполните Задание 9:"
   ]
  },
  {
   "cell_type": "markdown",
   "id": "83d9057c",
   "metadata": {},
   "source": [
    "<br>\n",
    "\n",
    "### 2.5 Метод `pop(i=-1)`\n",
    "\n",
    "Метод `pop()` удаляет элемент по индексу `i` (по умолчанию последний) и возвращает его.\n",
    "\n",
    "```python\n",
    "my_list = [10, 20, 30]\n",
    "val = my_list.pop()\n",
    "print(val)      # 30\n",
    "print(my_list)  # [10, 20]\n",
    "```"
   ]
  },
  {
   "cell_type": "markdown",
   "id": "43c32ef7",
   "metadata": {},
   "source": [
    "**🧪 Примеры:**\n",
    "1. Удаление последнего элемента:\n",
    "   ```python\n",
    "   data = [1, 2, 3]\n",
    "   deleted = data.pop()\n",
    "   print(deleted)  # 3\n",
    "   print(data)     # [1, 2]\n",
    "   ```"
   ]
  },
  {
   "cell_type": "code",
   "execution_count": null,
   "id": "267738a3",
   "metadata": {},
   "outputs": [],
   "source": [
    "# Выполните код:"
   ]
  },
  {
   "cell_type": "markdown",
   "id": "0198f015",
   "metadata": {},
   "source": [
    "2. Удаление первого элемента (`pop(0)`):\n",
    "   ```python\n",
    "   data = [5, 6, 7]\n",
    "   first = data.pop(0)\n",
    "   print(first)  # 5\n",
    "   print(data)   # [6, 7]\n",
    "   ```"
   ]
  },
  {
   "cell_type": "code",
   "execution_count": null,
   "id": "50806237",
   "metadata": {},
   "outputs": [],
   "source": [
    "# Выполните код:"
   ]
  },
  {
   "cell_type": "markdown",
   "id": "47b61751",
   "metadata": {},
   "source": [
    "3. Удаление из середины списка:\n",
    "   ```python\n",
    "   data = [10, 20, 30, 40]\n",
    "   val = data.pop(2)  # удалит элемент с индексом 2 -> 30\n",
    "   print(val)   # 30\n",
    "   print(data)  # [10, 20, 40]\n",
    "   ```"
   ]
  },
  {
   "cell_type": "code",
   "execution_count": null,
   "id": "a5a34fcd",
   "metadata": {},
   "outputs": [],
   "source": [
    "# Выполните код:"
   ]
  },
  {
   "cell_type": "markdown",
   "id": "1b67ff0e-97a2-48a5-a348-0de1f9b90db5",
   "metadata": {},
   "source": [
    "**🛠 Задания:**\n",
    "1. Удалите последний элемент из списка `['A', 'B', 'C']` и выведите его.\n",
    "2. Удалите первый элемент (индекс 0) из списка и выведите новый список.\n",
    "3. Удалите элемент с индексом 2 из списка `[10, 20, 30, 40, 50]`.\n",
    "4. Напишите функцию `pop_last_two(lst)`, удаляющую и возвращающую два последних элемента в виде кортежа `(предпоследний, последний)`.\n",
    "5. Реализуйте «стек» (LIFO): добавьте элементы через `append()` и извлекайте их через `pop()`.\n",
    "6. Используйте `pop(0)` для реализации очереди (FIFO): добавьте 5 элементов, удалите 2 и выведите результат.\n",
    "7. Напишите функцию `pop_all(lst)`, извлекающую все элементы списка до его опустения, и возвращающую их в новом списке.\n",
    "8. Создайте список строк и извлекайте элементы по очереди до полного опустения списка.\n",
    "9. Используйте `pop()` для циклического сдвига элементов (извлекайте последний и вставляйте его в начало).\n"
   ]
  },
  {
   "cell_type": "code",
   "execution_count": null,
   "id": "e7b2cd66",
   "metadata": {},
   "outputs": [],
   "source": [
    "# Выполните Задание 1:"
   ]
  },
  {
   "cell_type": "code",
   "execution_count": null,
   "id": "60566a9f",
   "metadata": {},
   "outputs": [],
   "source": [
    "# Выполните Задание 2:"
   ]
  },
  {
   "cell_type": "code",
   "execution_count": null,
   "id": "88ae8977",
   "metadata": {},
   "outputs": [],
   "source": [
    "# Выполните Задание 3:"
   ]
  },
  {
   "cell_type": "code",
   "execution_count": null,
   "id": "26c96781",
   "metadata": {},
   "outputs": [],
   "source": [
    "# Выполните Задание 4:"
   ]
  },
  {
   "cell_type": "code",
   "execution_count": null,
   "id": "7d4eee91",
   "metadata": {},
   "outputs": [],
   "source": [
    "# Выполните Задание 5:"
   ]
  },
  {
   "cell_type": "code",
   "execution_count": null,
   "id": "5b09f93b",
   "metadata": {},
   "outputs": [],
   "source": [
    "# Выполните Задание 6:"
   ]
  },
  {
   "cell_type": "code",
   "execution_count": null,
   "id": "8f9c3f46",
   "metadata": {},
   "outputs": [],
   "source": [
    "# Выполните Задание 7:"
   ]
  },
  {
   "cell_type": "code",
   "execution_count": null,
   "id": "3d4bce35",
   "metadata": {},
   "outputs": [],
   "source": [
    "# Выполните Задание 8:"
   ]
  },
  {
   "cell_type": "code",
   "execution_count": null,
   "id": "bb5b8e1d",
   "metadata": {},
   "outputs": [],
   "source": [
    "# Выполните Задание 9:"
   ]
  },
  {
   "cell_type": "markdown",
   "id": "4fb6835e",
   "metadata": {},
   "source": [
    "<br>\n",
    "\n",
    "### 2.6 Метод `index(x[, start[, end]])`\n",
    "\n",
    "Метод `index()` возвращает индекс первого вхождения элемента `x`. Если элемент не найден, возникает `ValueError`.\n",
    "\n",
    "```python\n",
    "names = [\"Alice\", \"Bob\", \"Charlie\", \"Bob\"]\n",
    "idx = names.index(\"Bob\")\n",
    "print(idx)  # 1\n",
    "```\n",
    "\n"
   ]
  },
  {
   "cell_type": "markdown",
   "id": "f9d1517a",
   "metadata": {},
   "source": [
    "**🧪 Примеры:**\n",
    "1. Поиск элемента:\n",
    "   ```python\n",
    "   numbers = [4, 8, 15, 16, 23, 42]\n",
    "   i = numbers.index(15)\n",
    "   print(i)  # 2\n",
    "   ```"
   ]
  },
  {
   "cell_type": "code",
   "execution_count": null,
   "id": "cbf418e4",
   "metadata": {},
   "outputs": [],
   "source": [
    "# Выполните код:"
   ]
  },
  {
   "cell_type": "markdown",
   "id": "109e2543",
   "metadata": {},
   "source": [
    "2. Поиск с параметром `start`:\n",
    "   ```python\n",
    "   letters = [\"a\", \"b\", \"c\", \"b\", \"d\"]\n",
    "   i = letters.index(\"b\", 2)  # поиск начнётся с индекса 2\n",
    "   print(i)  # 3\n",
    "   ```"
   ]
  },
  {
   "cell_type": "code",
   "execution_count": null,
   "id": "da23ce82",
   "metadata": {},
   "outputs": [],
   "source": [
    "# Выполните код:"
   ]
  },
  {
   "cell_type": "markdown",
   "id": "d6d4c246",
   "metadata": {},
   "source": [
    "3. Обработка ошибки, если элемента нет:\n",
    "   ```python\n",
    "   try:\n",
    "       idx = [1, 2, 3].index(4)\n",
    "   except ValueError:\n",
    "       idx = None\n",
    "   print(idx)  # None\n",
    "   ```"
   ]
  },
  {
   "cell_type": "code",
   "execution_count": null,
   "id": "0b7a264b",
   "metadata": {},
   "outputs": [],
   "source": [
    "# Выполните код:"
   ]
  },
  {
   "cell_type": "markdown",
   "id": "8da3ac6e-f5d5-4568-8e27-6cba9ee85c7e",
   "metadata": {},
   "source": [
    "**🛠 Задания:**\n",
    "1. Найдите индекс элемента \"Banana\" в списке `['Apple', 'Banana', 'Cherry']`.\n",
    "2. Найдите индекс числа 7 в списке `[1, 7, 7, 9]` и убедитесь, что это первое вхождение.\n",
    "3. Используйте параметр `start` для поиска второго вхождения \"Bob\" в списке `['Bob', 'Alice', 'Bob']`.\n",
    "4. Обработайте ситуацию, когда элемент не найден (например, \"Kiwi\" в списке фруктов) и выведите сообщение \"Элемент не найден\".\n",
    "5. Напишите функцию `find_all(lst, x)`, возвращающую список всех индексов, где встречается `x`.\n",
    "6. С помощью `index()` и цикла удалите все вхождения заданного элемента (аналогично заданию по `remove_all`).\n",
    "7. Реализуйте поиск элемента, удовлетворяющего условию (например, число больше 100), с использованием `index()`.\n",
    "8. Найдите все позиции элемента `0` в списке `[0, 1, 2, 0, 3, 0]` с помощью цикла и `index()`.\n",
    "9. Используйте `index()` в функции для поиска первого элемента, удовлетворяющего указанному условию.\n"
   ]
  },
  {
   "cell_type": "code",
   "execution_count": null,
   "id": "f4a7b3cc",
   "metadata": {},
   "outputs": [],
   "source": [
    "# Выполните Задание 1:"
   ]
  },
  {
   "cell_type": "code",
   "execution_count": null,
   "id": "6023736d",
   "metadata": {},
   "outputs": [],
   "source": [
    "# Выполните Задание 2:"
   ]
  },
  {
   "cell_type": "code",
   "execution_count": null,
   "id": "3550fd30",
   "metadata": {},
   "outputs": [],
   "source": [
    "# Выполните Задание 3:"
   ]
  },
  {
   "cell_type": "code",
   "execution_count": null,
   "id": "0f563a2f",
   "metadata": {},
   "outputs": [],
   "source": [
    "# Выполните Задание 4:"
   ]
  },
  {
   "cell_type": "code",
   "execution_count": null,
   "id": "bc6d1e53",
   "metadata": {},
   "outputs": [],
   "source": [
    "# Выполните Задание 5:"
   ]
  },
  {
   "cell_type": "code",
   "execution_count": null,
   "id": "e3fcf7f1",
   "metadata": {},
   "outputs": [],
   "source": [
    "# Выполните Задание 6:"
   ]
  },
  {
   "cell_type": "code",
   "execution_count": null,
   "id": "6e1cc1c4",
   "metadata": {},
   "outputs": [],
   "source": [
    "# Выполните Задание 7:"
   ]
  },
  {
   "cell_type": "code",
   "execution_count": null,
   "id": "7c8f98aa",
   "metadata": {},
   "outputs": [],
   "source": [
    "# Выполните Задание 8:"
   ]
  },
  {
   "cell_type": "code",
   "execution_count": null,
   "id": "6dcda264",
   "metadata": {},
   "outputs": [],
   "source": [
    "# Выполните Задание 9:"
   ]
  },
  {
   "cell_type": "markdown",
   "id": "ecfb155c",
   "metadata": {},
   "source": [
    "<br>\n",
    "\n",
    "### 2.7 Метод `count(x)`\n",
    "\n",
    "Метод `count()` возвращает количество вхождений элемента `x` в список.\n",
    "\n",
    "```python\n",
    "a = [1, 2, 2, 3, 2]\n",
    "print(a.count(2))  # 3\n",
    "```"
   ]
  },
  {
   "cell_type": "markdown",
   "id": "5a2bd679",
   "metadata": {},
   "source": [
    "**🧪 Примеры:**\n",
    "1. Подсчёт повторений числа:\n",
    "   ```python\n",
    "   data = [4, 4, 4, 2, 4]\n",
    "   print(data.count(4))  # 4\n",
    "   ```"
   ]
  },
  {
   "cell_type": "code",
   "execution_count": null,
   "id": "787ae7f3",
   "metadata": {},
   "outputs": [],
   "source": [
    "# Выполните код:"
   ]
  },
  {
   "cell_type": "markdown",
   "id": "86fd7da2",
   "metadata": {},
   "source": [
    "2. Подсчёт строк:\n",
    "   ```python\n",
    "   words = [\"yes\", \"no\", \"yes\", \"maybe\"]\n",
    "   print(words.count(\"yes\"))  # 2\n",
    "   ```"
   ]
  },
  {
   "cell_type": "code",
   "execution_count": null,
   "id": "12cfb0b1",
   "metadata": {},
   "outputs": [],
   "source": [
    "# Выполните код:"
   ]
  },
  {
   "cell_type": "markdown",
   "id": "228f33ab",
   "metadata": {},
   "source": [
    "3. Если элемент не встречается:\n",
    "   ```python\n",
    "   print([10, 20].count(30))  # 0\n",
    "   ```"
   ]
  },
  {
   "cell_type": "code",
   "execution_count": null,
   "id": "1da13c3f",
   "metadata": {},
   "outputs": [],
   "source": [
    "# Выполните код:"
   ]
  },
  {
   "cell_type": "markdown",
   "id": "44695db6",
   "metadata": {},
   "source": [
    "4. Подсчёт уникальных элементов с использованием множества:\n",
    "   ```python\n",
    "   nums = [1, 2, 2, 3, 3, 3]\n",
    "   unique_elements = set(nums)\n",
    "   for x in unique_elements:\n",
    "       print(f\"Элемент {x} встречается {nums.count(x)} раз\")\n",
    "   ```"
   ]
  },
  {
   "cell_type": "code",
   "execution_count": null,
   "id": "f7daac71",
   "metadata": {},
   "outputs": [],
   "source": [
    "# Выполните код:"
   ]
  },
  {
   "cell_type": "markdown",
   "id": "b72e46ed-212e-47fd-afc5-1ed9b4f07a6b",
   "metadata": {},
   "source": [
    "**🛠 Задания:**\n",
    "1. Подсчитайте количество единиц в списке `[1, 1, 2, 3, 1]`.\n",
    "2. Подсчитайте, сколько раз встречается слово \"hello\" в списке строк.\n",
    "3. Найдите, каких элементов в списке больше всего, сравнивая результаты `count(x)` для уникальных элементов.\n",
    "4. Напишите функцию `count_occurrences(lst)`, которая выводит каждое уникальное значение и его количество в формате \"элемент: количество\".\n",
    "5. Используйте `count()` для проверки, встречается ли элемент более 3 раз, и если да — удалите его все.\n",
    "6. Создайте список из 20 случайных чисел от 1 до 5 и определите, какой элемент встречается чаще всего.\n",
    "7. Найдите самую часто встречающуюся строку в списке строк с использованием `count()`.\n",
    "8. Определите, встречается ли элемент хотя бы 10 раз в списке (используя цикл и `count()`).\n",
    "9. Напишите функцию `count_and_remove(lst, x, limit)`, которая удаляет элемент `x`, если он встречается не менее `limit` раз.\n"
   ]
  },
  {
   "cell_type": "code",
   "execution_count": null,
   "id": "b5174582",
   "metadata": {},
   "outputs": [],
   "source": [
    "# Выполните Задание 1:"
   ]
  },
  {
   "cell_type": "code",
   "execution_count": null,
   "id": "6296718e",
   "metadata": {},
   "outputs": [],
   "source": [
    "# Выполните Задание 2:"
   ]
  },
  {
   "cell_type": "code",
   "execution_count": null,
   "id": "3474c091",
   "metadata": {},
   "outputs": [],
   "source": [
    "# Выполните Задание 3:"
   ]
  },
  {
   "cell_type": "code",
   "execution_count": null,
   "id": "deeeee07",
   "metadata": {},
   "outputs": [],
   "source": [
    "# Выполните Задание 4:"
   ]
  },
  {
   "cell_type": "code",
   "execution_count": null,
   "id": "82220e8f",
   "metadata": {},
   "outputs": [],
   "source": [
    "# Выполните Задание 5:"
   ]
  },
  {
   "cell_type": "code",
   "execution_count": null,
   "id": "a537ccd2",
   "metadata": {},
   "outputs": [],
   "source": [
    "# Выполните Задание 6:"
   ]
  },
  {
   "cell_type": "code",
   "execution_count": null,
   "id": "6e21b5af",
   "metadata": {},
   "outputs": [],
   "source": [
    "# Выполните Задание 7:"
   ]
  },
  {
   "cell_type": "code",
   "execution_count": null,
   "id": "821d41b9",
   "metadata": {},
   "outputs": [],
   "source": [
    "# Выполните Задание 8:"
   ]
  },
  {
   "cell_type": "code",
   "execution_count": null,
   "id": "7fec3c70",
   "metadata": {},
   "outputs": [],
   "source": [
    "# Выполните Задание 9:"
   ]
  },
  {
   "cell_type": "markdown",
   "id": "9cbb7632",
   "metadata": {},
   "source": [
    "<br>\n",
    "\n",
    "### 2.8 Методы `sort()` и `reverse()`\n",
    "\n",
    "#### 2.8.1 Метод `sort()`\n",
    "\n",
    "Метод `sort()` сортирует список *на месте* в порядке возрастания. \n",
    "\n",
    "Дополнительно можно указать параметры:\n",
    "- `key` для сортировки по ключу\n",
    "- `reverse=True` для сортировки в обратном порядке\n",
    "\n",
    "```python\n",
    "a = [3, 1, 4, 2]\n",
    "a.sort()\n",
    "print(a)  # [1, 2, 3, 4]\n",
    "```\n"
   ]
  },
  {
   "cell_type": "code",
   "execution_count": null,
   "id": "6043d239",
   "metadata": {},
   "outputs": [],
   "source": [
    "# Выполните код:"
   ]
  },
  {
   "cell_type": "markdown",
   "id": "f4bccf81",
   "metadata": {},
   "source": [
    "Пример с параметром `key`:\n",
    "```python\n",
    "names = [\"Alice\", \"Bob\", \"alex\"]\n",
    "names.sort(key=str.lower)\n",
    "print(names)  # ['alex', 'Alice', 'Bob']\n",
    "```"
   ]
  },
  {
   "cell_type": "code",
   "execution_count": null,
   "id": "f22e81b7",
   "metadata": {},
   "outputs": [],
   "source": [
    "# Выполните код:"
   ]
  },
  {
   "cell_type": "markdown",
   "id": "4bb277b4",
   "metadata": {},
   "source": [
    "#### 2.8.2 Метод `reverse()`\n",
    "\n",
    "Метод `reverse()` переворачивает список, не сортируя его:\n",
    "\n",
    "```python\n",
    "a = [1, 2, 3, 4]\n",
    "a.reverse()\n",
    "print(a)  # [4, 3, 2, 1]\n",
    "```"
   ]
  },
  {
   "cell_type": "code",
   "execution_count": null,
   "id": "3bf04fd4",
   "metadata": {},
   "outputs": [],
   "source": [
    "# Выполните код:"
   ]
  },
  {
   "cell_type": "markdown",
   "id": "89c035b4",
   "metadata": {},
   "source": [
    "**🧪 Примеры:**\n",
    "1. Сортировка строк по длине:\n",
    "   ```python\n",
    "   words = [\"apple\", \"hi\", \"banana\", \"a\"]\n",
    "   words.sort(key=len)\n",
    "   print(words)  # ['a', 'hi', 'apple', 'banana']\n",
    "   ```"
   ]
  },
  {
   "cell_type": "code",
   "execution_count": null,
   "id": "f89cd080",
   "metadata": {},
   "outputs": [],
   "source": [
    "# Выполните код:"
   ]
  },
  {
   "cell_type": "markdown",
   "id": "ba380c1b",
   "metadata": {},
   "source": [
    "2. Сортировка чисел по убыванию:\n",
    "   ```python\n",
    "   nums = [10, 2, 33, 14]\n",
    "   nums.sort(reverse=True)\n",
    "   print(nums)  # [33, 14, 10, 2]\n",
    "   ```"
   ]
  },
  {
   "cell_type": "code",
   "execution_count": null,
   "id": "57d86766",
   "metadata": {},
   "outputs": [],
   "source": [
    "# Выполните код:"
   ]
  },
  {
   "cell_type": "markdown",
   "id": "71dad435",
   "metadata": {},
   "source": [
    "3. Переворот отсортированного списка:\n",
    "   ```python\n",
    "   items = [3, 1, 2]\n",
    "   items.sort()\n",
    "   items.reverse()\n",
    "   print(items)  # [3, 2, 1]\n",
    "   ```"
   ]
  },
  {
   "cell_type": "code",
   "execution_count": null,
   "id": "37d6cde0",
   "metadata": {},
   "outputs": [],
   "source": [
    "# Выполните код:"
   ]
  },
  {
   "cell_type": "markdown",
   "id": "46064f5e-a0b9-411c-9f42-72c282bde12a",
   "metadata": {},
   "source": [
    "**🛠 Задания:**\n",
    "1. Отсортируйте список чисел `[5, 3, 8, 1, 2]` по возрастанию и по убыванию.\n",
    "2. Отсортируйте список строк `['cat', 'dog', 'elephant', 'ant']` по алфавиту.\n",
    "3. Отсортируйте тот же список строк по длине (используя `key=len`).\n",
    "4. Используя `reverse()`, переверните список `[1, 2, 3, 4, 5]`.\n",
    "5. Напишите функцию `sort_copy(lst)`, возвращающую отсортированную копию списка, не изменяя оригинал.\n",
    "6. Отсортируйте список чисел так, чтобы сначала шли чётные, потом нечётные (используя `key`).\n",
    "7. Реализуйте сложную сортировку: сначала по длине строки, затем по алфавиту.\n",
    "8. Создайте список кортежей вида `(имя, возраст)` и отсортируйте его сначала по возрасту, затем по имени.\n",
    "9. Используйте `reverse()` для создания палиндромного списка из исходного (например, `[1, 2, 3]` -> `[1, 2, 3, 3, 2, 1]`).\n"
   ]
  },
  {
   "cell_type": "code",
   "execution_count": null,
   "id": "6273dfbc",
   "metadata": {},
   "outputs": [],
   "source": [
    "# Выполните Задание 1:"
   ]
  },
  {
   "cell_type": "code",
   "execution_count": null,
   "id": "b4e1f662",
   "metadata": {},
   "outputs": [],
   "source": [
    "# Выполните Задание 2:"
   ]
  },
  {
   "cell_type": "code",
   "execution_count": null,
   "id": "aa144a6c",
   "metadata": {},
   "outputs": [],
   "source": [
    "# Выполните Задание 3:"
   ]
  },
  {
   "cell_type": "code",
   "execution_count": null,
   "id": "d8831f4d",
   "metadata": {},
   "outputs": [],
   "source": [
    "# Выполните Задание 4:"
   ]
  },
  {
   "cell_type": "code",
   "execution_count": null,
   "id": "5d87d42e",
   "metadata": {},
   "outputs": [],
   "source": [
    "# Выполните Задание 5:"
   ]
  },
  {
   "cell_type": "code",
   "execution_count": null,
   "id": "760ed437",
   "metadata": {},
   "outputs": [],
   "source": [
    "# Выполните Задание 6:"
   ]
  },
  {
   "cell_type": "code",
   "execution_count": null,
   "id": "118dc349",
   "metadata": {},
   "outputs": [],
   "source": [
    "# Выполните Задание 7:"
   ]
  },
  {
   "cell_type": "code",
   "execution_count": null,
   "id": "694dadd3",
   "metadata": {},
   "outputs": [],
   "source": [
    "# Выполните Задание 8:"
   ]
  },
  {
   "cell_type": "code",
   "execution_count": null,
   "id": "5efcb71e",
   "metadata": {},
   "outputs": [],
   "source": [
    "# Выполните Задание 9:"
   ]
  },
  {
   "cell_type": "markdown",
   "id": "b312e8a1",
   "metadata": {},
   "source": [
    "<br>\n",
    "\n",
    "### 2.9 Метод `copy()`\n",
    "\n",
    "Метод `copy()` создаёт поверхностную копию списка. Это необходимо, чтобы изменения копии не влияли на оригинал, особенно при работе с изменяемыми объектами внутри списка.\n",
    "\n",
    "```python\n",
    "a = [1, 2, 3]\n",
    "b = a.copy()\n",
    "b.append(4)\n",
    "print(a)  # [1, 2, 3]\n",
    "print(b)  # [1, 2, 3, 4]\n",
    "```\n"
   ]
  },
  {
   "cell_type": "code",
   "execution_count": null,
   "id": "d827fe17",
   "metadata": {},
   "outputs": [],
   "source": [
    "# Выполните код:"
   ]
  },
  {
   "cell_type": "markdown",
   "id": "d31e8072",
   "metadata": {},
   "source": [
    "🧪 **Примеры:**\n",
    "1. Создание копии перед изменением:\n",
    "   ```python\n",
    "   original = [10, 20]\n",
    "   clone = original.copy()\n",
    "   clone.append(30)\n",
    "   print(original)  # [10, 20]\n",
    "   print(clone)     # [10, 20, 30]\n",
    "   ```"
   ]
  },
  {
   "cell_type": "code",
   "execution_count": null,
   "id": "7b0320fb",
   "metadata": {},
   "outputs": [],
   "source": [
    "# Выполните код:"
   ]
  },
  {
   "cell_type": "markdown",
   "id": "05e95d83",
   "metadata": {},
   "source": [
    "2. Поверхностная копия при вложенных списках:\n",
    "   ```python\n",
    "   a = [[1, 2], [3, 4]]\n",
    "   b = a.copy()\n",
    "   b[0].append(99)\n",
    "   print(a)  # [[1, 2, 99], [3, 4]]\n",
    "   print(b)  # [[1, 2, 99], [3, 4]]\n",
    "   ```"
   ]
  },
  {
   "cell_type": "code",
   "execution_count": null,
   "id": "a7ba6e96",
   "metadata": {},
   "outputs": [],
   "source": [
    "# Выполните код:"
   ]
  },
  {
   "cell_type": "markdown",
   "id": "0da9359c-6123-476f-a96c-8b91dd4071bc",
   "metadata": {},
   "source": [
    "**🛠 Задания:**\n",
    "1. Сделайте копию списка, добавьте элемент в копию и убедитесь, что оригинал не изменился.\n",
    "2. Сделайте две копии одного списка, измените каждую по-разному и проверьте независимость изменений.\n",
    "3. Используйте `copy()` перед сортировкой, чтобы сохранить исходный список.\n",
    "4. Создайте список со вложенным списком и продемонстрируйте, что вложения остаются общими.\n",
    "5. Напишите функцию `safe_edit(original)`, которая создаёт копию, редактирует её (например, вставляет элемент в середину), и возвращает и оригинал, и изменённую копию.\n",
    "6. Создайте три копии одного списка и выполните над ними разные операции (`clear()`, `reverse()`, `sort()`), затем выведите результаты.\n",
    "7. Напишите функцию `clone_and_merge(lst1, lst2)`, возвращающую новый список, являющийся объединением копий списков `lst1` и `lst2`.\n",
    "8. Продемонстрируйте, что при использовании `copy()` вложенные объекты остаются общими.\n",
    "9. Реализуйте свою функцию для глубокого копирования вложенных списков (рекурсивное копирование) и сравните с `copy()`.\n"
   ]
  },
  {
   "cell_type": "code",
   "execution_count": null,
   "id": "5dfa5b64",
   "metadata": {},
   "outputs": [],
   "source": [
    "# Выполните Задание 1:"
   ]
  },
  {
   "cell_type": "code",
   "execution_count": null,
   "id": "96a161d1",
   "metadata": {},
   "outputs": [],
   "source": [
    "# Выполните Задание 2:"
   ]
  },
  {
   "cell_type": "code",
   "execution_count": null,
   "id": "4e701613",
   "metadata": {},
   "outputs": [],
   "source": [
    "# Выполните Задание 3:"
   ]
  },
  {
   "cell_type": "code",
   "execution_count": null,
   "id": "b20f9fbe",
   "metadata": {},
   "outputs": [],
   "source": [
    "# Выполните Задание 4:"
   ]
  },
  {
   "cell_type": "code",
   "execution_count": null,
   "id": "a0a0f00e",
   "metadata": {},
   "outputs": [],
   "source": [
    "# Выполните Задание 5:"
   ]
  },
  {
   "cell_type": "code",
   "execution_count": null,
   "id": "1a58c0f7",
   "metadata": {},
   "outputs": [],
   "source": [
    "# Выполните Задание 6:"
   ]
  },
  {
   "cell_type": "code",
   "execution_count": null,
   "id": "b2782985",
   "metadata": {},
   "outputs": [],
   "source": [
    "# Выполните Задание 7:"
   ]
  },
  {
   "cell_type": "code",
   "execution_count": null,
   "id": "5b91ea26",
   "metadata": {},
   "outputs": [],
   "source": [
    "# Выполните Задание 8:"
   ]
  },
  {
   "cell_type": "code",
   "execution_count": null,
   "id": "bf3dfdab",
   "metadata": {},
   "outputs": [],
   "source": [
    "# Выполните Задание 9:"
   ]
  },
  {
   "cell_type": "markdown",
   "id": "f801d4d8",
   "metadata": {},
   "source": [
    "<br>\n",
    "\n",
    "---\n",
    "\n",
    "<br>"
   ]
  },
  {
   "cell_type": "markdown",
   "id": "12179d62-fdc0-450e-80c2-3e2cde920420",
   "metadata": {},
   "source": [
    "### 🧠 3. Итоговые задания (комплексная практика)\n",
    "\n",
    "В следующих заданиях нужно применить сразу несколько методов и свойств списков:\n",
    "\n",
    "1. **CRUD-операция над списком**\n",
    "   - Изначально создайте пустой список `items`.\n",
    "   - Организуйте меню, позволяющее пользователю добавлять элементы (через `append()` или `insert()`), удалять (через `remove()` или `pop()`), просматривать список и его длину, сортировать или разворачивать его.\n",
    "   - Выводите результат после каждого действия.\n",
    "\n",
    "2. **История изменений**\n",
    "   - Создайте список `data = [10, 20, 30]`.\n",
    "   - При каждом изменении списка создавайте его копию и сохраняйте в список `history`.\n",
    "   - Реализуйте возможность отката (undo) к предыдущей версии списка.\n",
    "\n",
    "3. **Анализ текстовых данных**\n",
    "   - Запросите от пользователя строку, разбейте её на слова через `split()`.\n",
    "   - Подсчитайте количество повторений каждого слова.\n",
    "   - Разбейте слова на те, что встречаются один раз, и те, что встречаются более одного раза.\n",
    "   - Отсортируйте список слов по длине и по алфавиту, выведите оба результата.\n",
    "\n",
    "4. **Отбор чётных и нечётных чисел**\n",
    "   - Дан список `[1, 2, 3, 4, 5, 6, 7, 8, 9]`. Разделите его на два списка: для чётных и для нечётных чисел.\n",
    "   - Удалите из исходного списка все чётные числа и выведите, сколько элементов было удалено.\n",
    "\n",
    "5. **Список задач (to-do)**\n",
    "   - Создайте пустой список `tasks`.\n",
    "   - Реализуйте меню для добавления задач, их удаления, вывода всех задач, поиска по индексу и «поднятия» задачи (перемещения в начало списка).\n",
    "   - Добавьте сортировку задач по алфавиту.\n",
    "\n",
    "6. **Обработка данных о студентах**\n",
    "   - Создайте список кортежей вида `(имя, возраст)`.\n",
    "   - Реализуйте функцию для добавления студента и функцию для удаления студента по имени.\n",
    "   - Отсортируйте список по возрасту, а затем по имени.\n",
    "   - Реализуйте поиск студента по имени.\n",
    "\n",
    "7. **Использование `extend()` и `insert()`**\n",
    "   - Создайте два списка слов и объедините их через `extend()`.\n",
    "   - Вставьте слово \"MARKER\" между двумя группами слов, затем найдите его индекс и удалите.\n",
    "   - Выведите итоговый список.\n",
    "\n",
    "8. **Сортировка смешанного списка**\n",
    "   - Дан список с элементами разных типов (числа, строки). Отфильтруйте отдельно числа и строки, отсортируйте каждый список и верните их.\n",
    "\n",
    "9. **Комбинация копирования и сортировки**\n",
    "   - Дан список `[3, 1, 4, 1, 5, 9, 2]`.\n",
    "   - Создайте его копию и отсортируйте по возрастанию, затем ещё одну копию и отсортируйте по убыванию. Оригинальный список должен остаться неизменным.\n",
    "   - Выведите все три списка.\n"
   ]
  },
  {
   "cell_type": "markdown",
   "id": "865d9314-078e-4e51-90e4-e9f0790fd264",
   "metadata": {},
   "source": [
    "### ✅ 4. Заключение\n",
    "\n",
    "В этом уроке мы:\n",
    "\n",
    "- Изучили, как создаются, изменяются и индексируются списки в Python.\n",
    "- Детально рассмотрели методы: `append()`, `extend()`, `insert()`, `remove()`, `pop()`, `index()`, `count()`, `sort()`, `reverse()`, `copy()`.\n",
    "- Ознакомились с большим количеством примеров и практических заданий для закрепления материала.\n",
    "\n",
    "**Рекомендация:** Регулярно практикуйтесь с методами списков, комбинируйте их и экспериментируйте с различными подходами для углубления понимания работы с Python-списками.\n",
    "\n",
    "\n",
    "<br>\n",
    "\n",
    "---\n",
    "\n",
    "<br>\n",
    "\n",
    "##### 📬 Author:\n",
    "\n",
    "**Siergej Sobolewski**  \n",
    "\n",
    "[![Email 🚀](https://img.shields.io/badge/Email-s.sobolewski@hotmail.com-blue?logo=protonmail)](mailto:s.sobolewski@hotmail.com)\n",
    "[![GitHub](https://img.shields.io/badge/GitHub-SSobol77-blue?logo=github)](https://github.com/SSobol77)\n",
    "[![LinkedIn](https://img.shields.io/badge/LinkedIn-Connect-blue?logo=linkedin)](https://linkedin.com/in/siergej-s-25a16319a)\n",
    "\n",
    "<br>"
   ]
  }
 ],
 "metadata": {
  "kernelspec": {
   "display_name": "Python 3",
   "language": "python",
   "name": "python3"
  },
  "language_info": {
   "file_extension": ".py",
   "mimetype": "text/x-python",
   "name": "python",
   "version": "3.x"
  }
 },
 "nbformat": 4,
 "nbformat_minor": 5
}
