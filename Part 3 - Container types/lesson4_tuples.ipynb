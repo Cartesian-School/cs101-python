{
 "cells": [
  {
   "cell_type": "markdown",
   "id": "c1eeec03",
   "metadata": {},
   "source": [
    "# **🧰 Урок 4:  Кортежи - `Tuple` в Python**\n"
   ]
  },
  {
   "cell_type": "markdown",
   "id": "53ce9699",
   "metadata": {},
   "source": [
    "<br>\n",
    "\n",
    "---\n",
    "\n",
    "<br>\n",
    "\n",
    "## **Что такое кортеж (tuple)?**\n",
    "\n",
    "Кортеж — это **упорядоченная неизменяемая коллекция** элементов. \n",
    "\n",
    "Это значит:\n",
    "\n",
    "- элементы в кортеже **расположены в определённом порядке**;\n",
    "  \n",
    "- **нельзя добавлять, удалять или изменять** элементы после создания;\n",
    "  \n",
    "- можно **хранить данные разных типов**: числа, строки, булевы значения и даже другие кортежи и списки.\n",
    "  \n"
   ]
  },
  {
   "cell_type": "markdown",
   "id": "1cd0c2f6",
   "metadata": {},
   "source": [
    "<br>\n",
    "\n",
    "## **Синтаксис**\n",
    "\n",
    "```python\n",
    "# Обычный кортеж\n",
    "t = (1, 2, 3)\n",
    "\n",
    "# Кортеж из строк\n",
    "colors = (\"red\", \"green\", \"blue\")\n",
    "\n",
    "# Пустой кортеж\n",
    "empty = ()\n",
    "\n",
    "# Кортеж из одного элемента (нужна запятая!)\n",
    "one = (42,)\n",
    "```\n",
    "\n",
    "<br>"
   ]
  },
  {
   "cell_type": "markdown",
   "id": "4bc68a82",
   "metadata": {},
   "source": [
    "<br>\n",
    "\n",
    "---\n",
    "\n",
    "<br>"
   ]
  },
  {
   "cell_type": "markdown",
   "id": "dc924a06",
   "metadata": {},
   "source": [
    "### 🔹  **Свойства кортежей**\n",
    "\n",
    "| Свойство         | Описание                                                                 |\n",
    "|------------------|--------------------------------------------------------------------------|\n",
    "| Упорядованность   | Элементы хранятся в порядке их добавления.                              |\n",
    "| Неизменяемость    | После создания изменить кортеж нельзя.                                   |\n",
    "| Индексация        | Доступ к элементам — по индексу (как в списке).                          |\n",
    "| Допустимость повторов | Элементы могут повторяться.                                              |\n",
    "| Можно итерировать | Можно перебирать элементы в цикле `for`.                                |\n",
    "| Хэшируемость      | Если кортеж не содержит изменяемых объектов — его можно использовать как ключ словаря или элемент множества. |\n"
   ]
  },
  {
   "cell_type": "markdown",
   "id": "e7fa6d0d",
   "metadata": {},
   "source": [
    "<br>\n",
    "\n",
    "## **Работа с кортежами**\n",
    "\n",
    "### **1. Индексация**\n",
    "\n",
    "```python\n",
    "t = (\"apple\", \"banana\", \"cherry\")\n",
    "\n",
    "print(t[0])  # 'apple'\n",
    "print(t[1])  # 'banana'\n",
    "print(t[-1]) # 'cherry' — последний элемент\n",
    "```"
   ]
  },
  {
   "cell_type": "code",
   "execution_count": null,
   "id": "52806bdd",
   "metadata": {},
   "outputs": [],
   "source": [
    "# Повторите код:"
   ]
  },
  {
   "cell_type": "markdown",
   "id": "4953fb77",
   "metadata": {},
   "source": [
    "<br>\n",
    "\n",
    "### **2. Срезы (slices)**\n",
    "\n",
    "```python\n",
    "t = (10, 20, 30, 40, 50)\n",
    "\n",
    "print(t[1:4])  # (20, 30, 40)\n",
    "print(t[:3])   # (10, 20, 30)\n",
    "print(t[::2])  # (10, 30, 50)\n",
    "```\n"
   ]
  },
  {
   "cell_type": "code",
   "execution_count": null,
   "id": "e29b7191",
   "metadata": {},
   "outputs": [],
   "source": [
    "# Повторите код:"
   ]
  },
  {
   "cell_type": "markdown",
   "id": "017aae89",
   "metadata": {},
   "source": [
    "<br>\n",
    "\n",
    "### **3. Повторение и объединение**\n",
    "\n",
    "```python\n",
    "a = (1, 2)\n",
    "b = (3, 4)\n",
    "\n",
    "print(a + b)  # (1, 2, 3, 4)\n",
    "print(a * 2)  # (1, 2, 1, 2)\n",
    "```"
   ]
  },
  {
   "cell_type": "code",
   "execution_count": null,
   "id": "47e038ae",
   "metadata": {},
   "outputs": [],
   "source": [
    "# Повторите код:"
   ]
  },
  {
   "cell_type": "markdown",
   "id": "b0b646ca",
   "metadata": {},
   "source": [
    "<br>\n",
    "\n",
    "### **4. Методы кортежей**\n",
    "\n",
    "```python\n",
    "t = (1, 2, 3, 2, 4, 2)\n",
    "\n",
    "# Подсчитать количество элемента\n",
    "print(t.count(2))   # 3\n",
    "\n",
    "# Найти индекс первого вхождения элемента\n",
    "print(t.index(4))   # 4\n",
    "```"
   ]
  },
  {
   "cell_type": "code",
   "execution_count": null,
   "id": "edcf74d0",
   "metadata": {},
   "outputs": [],
   "source": [
    "# Повторите код:"
   ]
  },
  {
   "cell_type": "markdown",
   "id": "3be5e439",
   "metadata": {},
   "source": [
    "<br>\n",
    "\n",
    "### **5. Перебор кортежа**\n",
    "\n",
    "```python\n",
    "colors = (\"red\", \"green\", \"blue\")\n",
    "\n",
    "for color in colors:\n",
    "    print(color)\n",
    "```\n"
   ]
  },
  {
   "cell_type": "code",
   "execution_count": null,
   "id": "059ad3b7",
   "metadata": {},
   "outputs": [],
   "source": [
    "# Повторите код:"
   ]
  },
  {
   "cell_type": "markdown",
   "id": "186db40d",
   "metadata": {},
   "source": [
    "<br>\n",
    "\n",
    "### **6. Вложенные кортежи**\n",
    "\n",
    "```python\n",
    "person = (\"John\", 25, (\"USA\", \"New York\"))\n",
    "\n",
    "print(person[0])        # John\n",
    "print(person[2][1])     # New York\n",
    "```\n"
   ]
  },
  {
   "cell_type": "code",
   "execution_count": null,
   "id": "d0c574b5",
   "metadata": {},
   "outputs": [],
   "source": [
    "# Повторите код:"
   ]
  },
  {
   "cell_type": "markdown",
   "id": "eba4b389",
   "metadata": {},
   "source": [
    "<br>\n",
    "\n",
    "### **7. Кортеж как элемент множества или ключ словаря**\n",
    "\n",
    "```python\n",
    "# Множество\n",
    "coords = {(0, 0), (1, 1), (2, 2)}\n",
    "print((1, 1) in coords)  # True\n",
    "\n",
    "# Словарь\n",
    "phone_book = {\n",
    "    (\"John\", \"Smith\"): \"+123456789\",\n",
    "    (\"Jane\", \"Doe\"): \"+987654321\"\n",
    "}\n",
    "\n",
    "print(phone_book[(\"John\", \"Smith\")])\n",
    "```"
   ]
  },
  {
   "cell_type": "code",
   "execution_count": null,
   "id": "a04c8209",
   "metadata": {},
   "outputs": [],
   "source": [
    "# Повторите код:"
   ]
  },
  {
   "cell_type": "markdown",
   "id": "78b4918b",
   "metadata": {},
   "source": [
    "<br>\n",
    "\n",
    "### **8. Преобразование в кортеж**\n",
    "\n",
    "```python\n",
    "# Из списка\n",
    "lst = [1, 2, 3]\n",
    "t = tuple(lst)\n",
    "print(t)  # (1, 2, 3)\n",
    "\n",
    "# Из строки\n",
    "s = \"abc\"\n",
    "print(tuple(s))  # ('a', 'b', 'c')\n",
    "```\n"
   ]
  },
  {
   "cell_type": "code",
   "execution_count": null,
   "id": "e37927ff",
   "metadata": {},
   "outputs": [],
   "source": [
    "# Повторите код:"
   ]
  },
  {
   "cell_type": "markdown",
   "id": "d6e0e62a",
   "metadata": {},
   "source": [
    "<br>\n",
    "\n",
    "### 🎯 **Где применяются кортежи**\n",
    "\n",
    "| Применение                        | Пример |\n",
    "|----------------------------------|--------|\n",
    "| Хранение **неизменяемых данных** | Дата рождения `(2000, 5, 15)` |\n",
    "| **Координаты**                   | `(10, 20)` |\n",
    "| Возврат **нескольких значений** из функций (в будущем) | `(name, age)` |\n",
    "| **Ключи словаря**                | `(\"имя\", \"фамилия\")` |\n",
    "| Хранение конфигурации или данных | `(\"Linux\", \"x86\", \"v1.2\")` |\n",
    "\n",
    "<br>"
   ]
  },
  {
   "cell_type": "markdown",
   "id": "7ca67dfc",
   "metadata": {},
   "source": [
    "<br>\n",
    "\n",
    "---\n",
    "\n",
    "<br>\n",
    "\n",
    "\n",
    "## 🧪 **Практика**"
   ]
  },
  {
   "cell_type": "markdown",
   "id": "4689b8ac",
   "metadata": {},
   "source": [
    "<br>\n",
    "\n",
    "#### **Задача 1. Доступ к элементам**\n",
    "\n",
    "**Дан кортеж:**\n",
    "```python\n",
    "months = (\"January\", \"February\", \"March\", \"April\")\n",
    "```\n",
    "\n",
    "**Выведи:**\n",
    "- первый элемент\n",
    "- последний элемент\n",
    "- срез первых двух\n",
    "\n",
    "\n"
   ]
  },
  {
   "cell_type": "code",
   "execution_count": null,
   "id": "6ecbbcde",
   "metadata": {},
   "outputs": [],
   "source": [
    "# Ваше решение:"
   ]
  },
  {
   "cell_type": "markdown",
   "id": "505ec7c7",
   "metadata": {},
   "source": [
    "**Решение:**\n",
    "```python\n",
    "print(months[0])    # January\n",
    "print(months[-1])   # April\n",
    "print(months[:2])   # ('January', 'February')\n",
    "```"
   ]
  },
  {
   "cell_type": "markdown",
   "id": "ba95740a",
   "metadata": {},
   "source": [
    "<br>\n",
    "\n",
    "### **Задача 2. Подсчёт элементов**\n",
    "\n",
    "**Дан кортеж:**\n",
    "```python\n",
    "numbers = (1, 2, 2, 3, 4, 2, 5)\n",
    "```\n",
    "\n",
    "**Найди:**\n",
    "- сколько раз встречается 2\n",
    "- индекс первого вхождения числа 3\n"
   ]
  },
  {
   "cell_type": "code",
   "execution_count": null,
   "id": "c1ac9176",
   "metadata": {},
   "outputs": [],
   "source": [
    "# Ваше решение:"
   ]
  },
  {
   "cell_type": "markdown",
   "id": "1e019359",
   "metadata": {},
   "source": [
    "\n",
    "**Решение:**\n",
    "```python\n",
    "print(numbers.count(2))  # 3\n",
    "print(numbers.index(3))  # 3\n",
    "```"
   ]
  },
  {
   "cell_type": "markdown",
   "id": "88f385ab",
   "metadata": {},
   "source": [
    "<br>\n",
    "\n",
    "\n",
    "### **Задача 3. Объединение и повторение**\n",
    "\n",
    "**Создай два кортежа:**\n",
    "```python\n",
    "a = (\"x\", \"y\")\n",
    "b = (\"z\",)\n",
    "```\n",
    "\n",
    "**Сделай:**\n",
    "- объединение `a + b`\n",
    "- повторение `b * 3`\n"
   ]
  },
  {
   "cell_type": "code",
   "execution_count": null,
   "id": "54be553f",
   "metadata": {},
   "outputs": [],
   "source": [
    "# Ваше решение:"
   ]
  },
  {
   "cell_type": "markdown",
   "id": "b4b7ab9b",
   "metadata": {},
   "source": [
    "**Решение:**\n",
    "```python\n",
    "print(a + b)    # ('x', 'y', 'z')\n",
    "print(b * 3)    # ('z', 'z', 'z')\n",
    "```\n"
   ]
  },
  {
   "cell_type": "markdown",
   "id": "e7eeee62",
   "metadata": {},
   "source": [
    "<br>\n",
    "\n",
    "### **Задача 4. Работа с вложенным кортежем**\n",
    "\n",
    "```python\n",
    "person = (\"Mietek\", 30, (\"PL\", \"Warszawa\"))\n",
    "```\n",
    "\n",
    "**Выведи:**\n",
    "- имя (Mietek)\n",
    "- возраст\n",
    "- страну\n",
    "- город"
   ]
  },
  {
   "cell_type": "code",
   "execution_count": null,
   "id": "08acc5eb",
   "metadata": {},
   "outputs": [],
   "source": [
    "# Ваше решение:"
   ]
  },
  {
   "cell_type": "markdown",
   "id": "0385cb5f",
   "metadata": {},
   "source": [
    "**Решение:**\n",
    "```python\n",
    "print(person[0])      # Mietek\n",
    "print(person[1])      # 30\n",
    "print(person[2][0])   # PL\n",
    "print(person[2][1])   # Warszawa\n",
    "```\n"
   ]
  },
  {
   "cell_type": "markdown",
   "id": "a0fabcd6",
   "metadata": {},
   "source": [
    "<br>\n",
    "\n",
    "---\n",
    "\n",
    "<br>\n",
    "\n",
    "### 🆚 **Сравнение `list` и `tuple` в Python**\n",
    "\n",
    "| Свойство                    | `list` — список                              | `tuple` — кортеж                              |\n",
    "|-----------------------------|-----------------------------------------------|-----------------------------------------------|\n",
    "| **Определение**             | Изменяемая упорядоченная коллекция           | Неизменяемая упорядоченная коллекция          |\n",
    "| **Синтаксис**               | `my_list = [1, 2, 3]`                         | `my_tuple = (1, 2, 3)`                         |\n",
    "| **Изменяемость**            | ✅ Да — можно менять, добавлять, удалять      | ❌ Нет — нельзя изменить после создания        |\n",
    "| **Методы**                 | Много: `append()`, `pop()`, `remove()` и др. | Мало: `count()`, `index()`                    |\n",
    "| **Скорость выполнения**     | Медленнее (гибкость = больше памяти)          | Быстрее (меньше памяти)                        |\n",
    "| **Можно ли ключом словаря?**| ❌ Нет (не хэшируемый)                        | ✅ Да (если все элементы тоже хэшируемы)       |\n",
    "| **Область применения**      | Когда данные нужно изменять                   | Когда данные должны оставаться постоянными     |\n",
    "| **Память**                  | Занимает больше                              | Занимает меньше                                |\n",
    "| **Пример 1**                | `a = [10, 20, 30]`                            | `b = (10, 20, 30)`                             |\n",
    "| **Пример 2**                | `a[0] = 99` ✅ Работает                       | `b[0] = 99` ❌ Ошибка: нельзя изменить кортеж  |\n",
    "| **Преобразование**          | `tuple([1, 2, 3]) → (1, 2, 3)`                | `list((1, 2, 3)) → [1, 2, 3]`                  |\n",
    "\n",
    "\n",
    "<br>\n",
    "\n",
    "<br>\n",
    "\n",
    "\n",
    "### 📌 **Ещё раз сравним их:**\n",
    "\n",
    "```python\n",
    "# Список (list)\n",
    "fruits = [\"apple\", \"banana\", \"cherry\"]\n",
    "fruits.append(\"orange\")\n",
    "print(fruits)  # ['apple', 'banana', 'cherry', 'orange']\n",
    "\n",
    "# Кортеж (tuple)\n",
    "colors = (\"red\", \"green\", \"blue\")\n",
    "print(colors[1])  # 'green'\n",
    "\n",
    "# colors[1] = \"yellow\"  # ❌ Ошибка: кортеж нельзя изменять !!!\n",
    "```\n",
    "\n",
    "\n",
    "<br>\n",
    "\n",
    "### 💡 **Подведём итоги - когда их использовать:**\n",
    "\n",
    "- ✅ Используй **`list` (список)**, если:\n",
    "  - Нужно **менять** содержимое (добавлять, удалять, заменять).\n",
    "  - Данные **динамические**.\n",
    "  - Требуется много **методов для обработки** коллекции.\n",
    "\n",
    "\n",
    "- ✅ Используй **`tuple` (кортеж)**, если:\n",
    "  - Данные **должны быть защищены** от изменений.\n",
    "  - Требуется **больше скорости** и **меньше памяти**.\n",
    "  - Нужно использовать как **ключ в словаре** или элемент множества.\n",
    "\n"
   ]
  },
  {
   "cell_type": "markdown",
   "id": "a9d35554",
   "metadata": {},
   "source": [
    "<br>\n",
    "\n",
    "---\n",
    "\n",
    "<br>\n",
    "\n",
    "### **🛠 Домашнее задание**\n",
    "\n",
    "\n",
    "<br>\n",
    "\n",
    "**Задание 1.**\n",
    "\n",
    "Создай кортеж с днями недели. Выведи вторник, пятницу и срез выходных."
   ]
  },
  {
   "cell_type": "code",
   "execution_count": null,
   "id": "dfd4ceaa",
   "metadata": {},
   "outputs": [],
   "source": [
    "# # Ваше решение:"
   ]
  },
  {
   "cell_type": "markdown",
   "id": "265edb50",
   "metadata": {},
   "source": [
    "**Задание 2.**\n",
    "\n",
    "Дан кортеж с числами: найди, сколько раз встречается число 5."
   ]
  },
  {
   "cell_type": "code",
   "execution_count": null,
   "id": "5f26a848",
   "metadata": {},
   "outputs": [],
   "source": [
    "# Ваше решение:"
   ]
  },
  {
   "cell_type": "markdown",
   "id": "ce5193e4",
   "metadata": {},
   "source": [
    "**Задание 3.**\n",
    "\n",
    "Объедини два кортежа: `(\"Linux\", \"Windows\")` и `(\"MacOS\",)`, выведи результат."
   ]
  },
  {
   "cell_type": "code",
   "execution_count": null,
   "id": "de2edfef",
   "metadata": {},
   "outputs": [],
   "source": [
    "# Ваше решение:"
   ]
  },
  {
   "cell_type": "markdown",
   "id": "c8de8419",
   "metadata": {},
   "source": [
    "**Задание 4.**\n",
    "\n",
    "Создай кортеж `(\"x\", \"y\")`, повтори его 3 раза и выведи."
   ]
  },
  {
   "cell_type": "code",
   "execution_count": null,
   "id": "90454645",
   "metadata": {},
   "outputs": [],
   "source": [
    "# Ваше решение:"
   ]
  },
  {
   "cell_type": "markdown",
   "id": "24df054c",
   "metadata": {},
   "source": [
    "**Задание 5.**\n",
    "\n",
    "Из вложенного кортежа `(\"Name\", 20, (\"Country\", \"City\"))` выведи все вложенные элементы."
   ]
  },
  {
   "cell_type": "code",
   "execution_count": null,
   "id": "a9639277",
   "metadata": {},
   "outputs": [],
   "source": [
    "# Ваше решение:"
   ]
  },
  {
   "cell_type": "markdown",
   "id": "f1371afd",
   "metadata": {},
   "source": [
    "<br>\n",
    "\n",
    "---\n",
    "\n",
    "<br>"
   ]
  },
  {
   "cell_type": "markdown",
   "id": "2828f2e9",
   "metadata": {},
   "source": [
    "\n",
    "##### 📬 Author:\n",
    "\n",
    "**Siergej Sobolewski**  \n",
    "\n",
    "[![Email 🚀](https://img.shields.io/badge/Email-s.sobolewski@hotmail.com-blue?logo=protonmail)](mailto:s.sobolewski@hotmail.com)\n",
    "[![GitHub](https://img.shields.io/badge/GitHub-SSobol77-blue?logo=github)](https://github.com/SSobol77)\n",
    "[![LinkedIn](https://img.shields.io/badge/LinkedIn-Connect-blue?logo=linkedin)](https://linkedin.com/in/siergej-s-25a16319a)\n",
    "\n",
    "<br>"
   ]
  }
 ],
 "metadata": {
  "kernelspec": {
   "display_name": "Python 3",
   "language": "python",
   "name": "python3"
  },
  "language_info": {
   "name": "python",
   "version": "3.13.2"
  }
 },
 "nbformat": 4,
 "nbformat_minor": 5
}
