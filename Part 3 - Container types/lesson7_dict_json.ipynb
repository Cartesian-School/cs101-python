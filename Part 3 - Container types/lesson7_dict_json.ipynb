{
 "cells": [
  {
   "cell_type": "markdown",
   "id": "5e452f73",
   "metadata": {},
   "source": [
    "# 📚 **Урок 7:**\n",
    "# **Вложенные словари, списки внутри словарей, JSON и практические структуры данных**\n",
    "\n",
    "<br>\n",
    "\n",
    "> Это третья часть урока по словарям в Python. \n",
    "\n",
    "<br>\n",
    "\n",
    "---\n",
    "\n",
    "<br>"
   ]
  },
  {
   "cell_type": "markdown",
   "id": "b111c61c",
   "metadata": {},
   "source": [
    "### 🔷 1. Вложенные словари (**Nested dictionaries**)\n",
    "\n",
    "Вложенные словари — это словари, **вложенные как значения** в другие словари.\n",
    "\n",
    "<br>\n",
    "\n",
    "####  Пример:\n",
    "\n",
    "```python\n",
    "user = {\n",
    "    \"name\": \"Anna\",\n",
    "    \"age\": 28,\n",
    "    \"address\": {\n",
    "        \"city\": \"Moscow\",\n",
    "        \"zip\": \"101000\",\n",
    "        \"street\": \"Tverskaya\"\n",
    "    }\n",
    "}\n",
    "```"
   ]
  },
  {
   "cell_type": "code",
   "execution_count": null,
   "id": "e92e8d1b",
   "metadata": {},
   "outputs": [],
   "source": [
    "# Повторите код:"
   ]
  },
  {
   "cell_type": "markdown",
   "id": "4a6f7fa4",
   "metadata": {},
   "source": [
    "<br>\n",
    "\n",
    "##### ✅ Доступ к вложенным значениям:\n",
    "\n",
    "```python\n",
    "print(user[\"address\"][\"city\"])   # Moscow\n",
    "print(user[\"address\"][\"zip\"])    # 101000\n",
    "```"
   ]
  },
  {
   "cell_type": "code",
   "execution_count": null,
   "id": "29aaa3ce",
   "metadata": {},
   "outputs": [],
   "source": [
    "# Повторите код:"
   ]
  },
  {
   "cell_type": "markdown",
   "id": "2f011499",
   "metadata": {},
   "source": [
    "<br>\n",
    "\n",
    "#### 🧠 Для чего нам их использовать?\n",
    "\n",
    "- Хранение **структурированных данных** (аналог JSON, XML)\n",
    "  \n",
    "- Моделирование **объектов**: пользователи, товары, сообщения, и т.д.\n",
    "  \n",
    "- Удобно для **экспорта/импорта** в формате JSON\n",
    "\n",
    "<br>"
   ]
  },
  {
   "cell_type": "markdown",
   "id": "3c82322f",
   "metadata": {},
   "source": [
    "<br>\n",
    "\n",
    "### 🔷 2. Списки внутри словарей\n",
    "\n",
    "Иногда одному ключу соответствует **несколько значений**, хранящихся в списке.\n",
    "\n",
    "##### Пример:\n",
    "\n",
    "```python\n",
    "student = {\n",
    "    \"name\": \"Ivan\",\n",
    "    \"grades\": [5, 4, 4, 5]\n",
    "}\n",
    "\n",
    "print(student[\"grades\"])         # [5, 4, 4, 5]\n",
    "print(student[\"grades\"][0])      # 5\n",
    "```"
   ]
  },
  {
   "cell_type": "code",
   "execution_count": null,
   "id": "113cae8c",
   "metadata": {},
   "outputs": [],
   "source": [
    "# Повторите код:"
   ]
  },
  {
   "cell_type": "markdown",
   "id": "644d5c33",
   "metadata": {},
   "source": [
    "<br>\n",
    "\n",
    "##### ✅ Добавление в наш список по ключу:\n",
    "\n",
    "```python\n",
    "student[\"grades\"].append(5)\n",
    "print(student[\"grades\"])  # [5, 4, 4, 5, 5]\n",
    "```\n"
   ]
  },
  {
   "cell_type": "code",
   "execution_count": null,
   "id": "943a5922",
   "metadata": {},
   "outputs": [],
   "source": [
    "# Повторите код:"
   ]
  },
  {
   "cell_type": "markdown",
   "id": "aa099449",
   "metadata": {},
   "source": [
    "<br>\n",
    "\n",
    "### 🔷 3. Словарь внутри списка\n",
    "\n",
    "Такая структура часто используется, когда у нас имеется некий **список объектов**\n",
    "\n",
    "####  Пример: список пользователей :)\n",
    "\n",
    "```python\n",
    "users = [\n",
    "    {\"name\": \"Jury\", \"age\": 25},\n",
    "    {\"name\": \"Bob\", \"age\": 30}\n",
    "]\n",
    "\n",
    "print(users[0][\"name\"])  # Jury\n",
    "```"
   ]
  },
  {
   "cell_type": "code",
   "execution_count": null,
   "id": "73f4844c",
   "metadata": {},
   "outputs": [],
   "source": [
    "# Повторите код:\n"
   ]
  },
  {
   "cell_type": "markdown",
   "id": "b2d753d7",
   "metadata": {},
   "source": [
    "<br>\n",
    "\n",
    "### 🔷 4. **Словари + JSON**\n",
    "\n",
    "Формат **JSON** (JavaScript Object Notation) — стандарт обмена данными.  \n",
    "\n",
    "В Python **JSON** — это просто **словари и списки**.\n",
    "\n",
    "<br>\n",
    "\n",
    "#### ✅ Импорт и экспорт JSON:\n",
    "\n",
    "```python\n",
    "import json\n",
    "\n",
    "data = {\n",
    "    \"user\": \"Olga\",\n",
    "    \"status\": \"active\",\n",
    "    \"roles\": [\"admin\", \"editor\"]\n",
    "}\n",
    "\n",
    "# Преобразовать в JSON-строку\n",
    "json_str = json.dumps(data)\n",
    "print(json_str)\n",
    "\n",
    "# Преобразовать обратно в словарь\n",
    "parsed = json.loads(json_str)\n",
    "print(parsed[\"user\"])\n",
    "```"
   ]
  },
  {
   "cell_type": "code",
   "execution_count": null,
   "id": "750be931",
   "metadata": {},
   "outputs": [],
   "source": [
    "# Повторите код:\n"
   ]
  },
  {
   "cell_type": "markdown",
   "id": "0e4d87b9",
   "metadata": {},
   "source": [
    "<br>\n",
    "\n",
    "---\n",
    "\n",
    "<br>"
   ]
  },
  {
   "cell_type": "markdown",
   "id": "0479d6c0",
   "metadata": {},
   "source": [
    "### 📦 **Практичные структуры в деле:**"
   ]
  },
  {
   "cell_type": "markdown",
   "id": "247abba5",
   "metadata": {},
   "source": [
    "<br>\n",
    "\n",
    "##### ✅ Пример 1: каталог товаров\n",
    "\n",
    "```python\n",
    "catalog = {\n",
    "    \"TV\": {\"price\": 30000, \"stock\": 5},\n",
    "    \"Laptop\": {\"price\": 60000, \"stock\": 3},\n",
    "    \"Phone\": {\"price\": 20000, \"stock\": 10}\n",
    "}\n",
    "\n",
    "# Вывести цену ноутбука\n",
    "print(catalog[\"Laptop\"][\"price\"])  # 60000\n",
    "```"
   ]
  },
  {
   "cell_type": "code",
   "execution_count": null,
   "id": "34b9e8d0",
   "metadata": {},
   "outputs": [],
   "source": [
    "# Повторите код:"
   ]
  },
  {
   "cell_type": "markdown",
   "id": "604adfbd",
   "metadata": {},
   "source": [
    "<br>\n",
    "\n",
    "##### ✅ Пример 2: сообщения пользователей\n",
    "\n",
    "```python\n",
    "messages = {\n",
    "    \"user1\": [\"Привет\", \"Как дела?\"],\n",
    "    \"user2\": [\"Здравствуйте\", \"Всё хорошо\"]\n",
    "}\n",
    "\n",
    "# Добавить новое сообщение\n",
    "messages[\"user1\"].append(\"До встречи!\")\n",
    "```\n"
   ]
  },
  {
   "cell_type": "code",
   "execution_count": null,
   "id": "49709ef3",
   "metadata": {},
   "outputs": [],
   "source": [
    "# Повторите код:"
   ]
  },
  {
   "cell_type": "markdown",
   "id": "87eecefa",
   "metadata": {},
   "source": [
    "<br>\n",
    "\n",
    "---\n",
    "\n",
    "<br>\n",
    "\n",
    "### 🧠 Практика\n",
    "\n",
    "<br>"
   ]
  },
  {
   "cell_type": "markdown",
   "id": "dd6be9ca",
   "metadata": {},
   "source": [
    "#### 🔸 Задача 1: Вложенный доступ\n",
    "\n",
    "Создай словарь `profile`:\n",
    "\n",
    "```python\n",
    "profile = {\n",
    "    \"username\": \"admin\",\n",
    "    \"info\": {\n",
    "        \"email\": \"admin@example.com\",\n",
    "        \"phone\": \"123456\"\n",
    "    }\n",
    "}\n",
    "```\n",
    "\n",
    "Выведи:\n",
    "- email\n",
    "- phone\n"
   ]
  },
  {
   "cell_type": "code",
   "execution_count": null,
   "id": "5ccf2495",
   "metadata": {},
   "outputs": [],
   "source": [
    "# Решение для задания 1:"
   ]
  },
  {
   "cell_type": "markdown",
   "id": "e52e68f9",
   "metadata": {},
   "source": [
    "<br>\n",
    "\n",
    "\n",
    "#### 🔸 Задача 2: Добавление в список внутри словаря\n",
    "\n",
    "Есть:\n",
    "\n",
    "```python\n",
    "notebook = {\n",
    "    \"tasks\": [\"купить хлеб\", \"почистить почту\"]\n",
    "}\n",
    "```\n",
    "\n",
    "Добавь задачу `\"сделать уроки\"`.\n"
   ]
  },
  {
   "cell_type": "code",
   "execution_count": null,
   "id": "db10ea0d",
   "metadata": {},
   "outputs": [],
   "source": [
    "# Решение для задания 2:"
   ]
  },
  {
   "cell_type": "markdown",
   "id": "2a174451",
   "metadata": {},
   "source": [
    "<br>\n",
    "\n",
    "#### 🔸 Задача 3: Поиск во вложенных структурах\n",
    "\n",
    "Дан список:\n",
    "\n",
    "```python\n",
    "users = [\n",
    "    {\"name\": \"Elena\", \"age\": 22},\n",
    "    {\"name\": \"Sergey\", \"age\": 30},\n",
    "    {\"name\": \"Dmitry\", \"age\": 22}\n",
    "]\n",
    "```\n",
    "\n",
    "Выведи имена всех, кто младше 25 лет.\n"
   ]
  },
  {
   "cell_type": "code",
   "execution_count": null,
   "id": "e4e9bd0c",
   "metadata": {},
   "outputs": [],
   "source": [
    "# Решение для задания 3:"
   ]
  },
  {
   "cell_type": "markdown",
   "id": "ecc55b51",
   "metadata": {},
   "source": [
    "<br>\n",
    "\n",
    "#### 🔸 Задача 4: Подсчёт товаров\n",
    "\n",
    "```python\n",
    "store = {\n",
    "    \"milk\": {\"stock\": 10},\n",
    "    \"bread\": {\"stock\": 5},\n",
    "    \"eggs\": {\"stock\": 12}\n",
    "}\n",
    "```\n",
    "\n",
    "Подсчитай общее количество всех товаров."
   ]
  },
  {
   "cell_type": "code",
   "execution_count": null,
   "id": "6fd207e7",
   "metadata": {},
   "outputs": [],
   "source": [
    "# Решение для задания 4:"
   ]
  },
  {
   "cell_type": "markdown",
   "id": "071193a0",
   "metadata": {},
   "source": [
    "<br>\n",
    "\n",
    "\n",
    "#### 🔸 Задача 5: Преобразование JSON\n",
    "\n",
    "Создай словарь, преобразуй его в JSON и выведи строку:\n",
    "\n",
    "```python\n",
    "user = {\n",
    "    \"id\": 1001,\n",
    "    \"name\": \"Victor\",\n",
    "    \"languages\": [\"Python\", \"JavaScript\"]\n",
    "}\n",
    "```\n"
   ]
  },
  {
   "cell_type": "code",
   "execution_count": null,
   "id": "2ca5afcc",
   "metadata": {},
   "outputs": [],
   "source": [
    "# Решение для задания 5:"
   ]
  },
  {
   "cell_type": "markdown",
   "id": "cf1093b5",
   "metadata": {},
   "source": [
    "<br>\n",
    "\n",
    "---\n",
    "\n",
    "<br>"
   ]
  },
  {
   "cell_type": "markdown",
   "id": "e4dc38d6",
   "metadata": {},
   "source": [
    "### 🏠 Домашнее задание\n",
    "\n",
    "1. Сделай структуру данных `students`, где каждый студент — это ключ, а значение — словарь с предметами и оценками.\n",
    "   \n",
    "2. Добавь новому студенту предмет `\"math\"` с оценкой 5.\n",
    "   \n",
    "3. Выведи средний балл всех студентов по `\"math\"`.\n",
    "   \n",
    "4. Преобразуй весь словарь в JSON-строку.\n",
    "   \n",
    "5. Выведи JSON-строку с отступами (`indent=2`).\n"
   ]
  },
  {
   "cell_type": "code",
   "execution_count": null,
   "id": "d1f0fe20",
   "metadata": {},
   "outputs": [],
   "source": [
    "# Решение для задания 1:"
   ]
  },
  {
   "cell_type": "code",
   "execution_count": null,
   "id": "7fa0a39a",
   "metadata": {},
   "outputs": [],
   "source": [
    "# Решение для задания 2:"
   ]
  },
  {
   "cell_type": "code",
   "execution_count": null,
   "id": "15f50959",
   "metadata": {},
   "outputs": [],
   "source": [
    "# Решение для задания 3:"
   ]
  },
  {
   "cell_type": "code",
   "execution_count": null,
   "id": "562c1c48",
   "metadata": {},
   "outputs": [],
   "source": [
    "# Решение для задания 4:"
   ]
  },
  {
   "cell_type": "code",
   "execution_count": null,
   "id": "00e3974f",
   "metadata": {},
   "outputs": [],
   "source": [
    "# Решение для задания 5:"
   ]
  },
  {
   "cell_type": "markdown",
   "id": "37651583",
   "metadata": {},
   "source": [
    "<br>\n",
    "\n",
    "---\n",
    "\n",
    "<br>\n",
    "\n",
    "### 📚 **Дополнительно для преобразования: JSON ⇄ Python**\n",
    "\n",
    "Когда ты работаешь с **JSON-файлами** (например, получаешь данные с API или сохраняешь в файл), тебе нужно понимать, **как значения JSON преобразуются в Python и обратно**.\n",
    "\n",
    "<br>\n",
    "\n",
    "Эта таблица показывает **соответствие между типами данных в формате JSON и структурами данных в Python**:\n",
    "\n",
    "| **Формат в JSON** | **Что это в Python**                    |\n",
    "|-------------------|------------------------------------------|\n",
    "| `JSON объект`     | `dict` — словарь                        |\n",
    "| `JSON массив`     | `list` — список                         |\n",
    "| `строка`          | `str` — строка                          |\n",
    "| `число`           | `int`, `float` — целое или с точкой     |\n",
    "| `true/false`      | `True`, `False` — логические значения   |\n",
    "| `null`            | `None` — отсутствие значения            |\n",
    "\n",
    "<br>\n",
    "\n",
    "### 🔄 Пример преобразования JSON → Python:\n",
    "\n",
    "```json\n",
    "{\n",
    "  \"name\": \"Olga\",\n",
    "  \"age\": 32,\n",
    "  \"is_active\": true,\n",
    "  \"languages\": [\"Python\", \"JavaScript\"],\n",
    "  \"address\": null\n",
    "}\n",
    "```\n",
    "<br>"
   ]
  },
  {
   "cell_type": "markdown",
   "id": "0f8b138e",
   "metadata": {},
   "source": [
    "\n",
    "🔽 После `json.loads(...)` это будет:\n",
    "\n",
    "```python\n",
    "{\n",
    "    \"name\": \"Olga\",               # str\n",
    "    \"age\": 32,                    # int\n",
    "    \"is_active\": True,           # bool\n",
    "    \"languages\": [\"Python\", \"JavaScript\"],  # list\n",
    "    \"address\": None              # None\n",
    "}\n",
    "```"
   ]
  },
  {
   "cell_type": "markdown",
   "id": "1e761e7e",
   "metadata": {},
   "source": [
    "#### 📌 Почему это важно?\n",
    "\n",
    "Это важно, если ты:\n",
    "\n",
    "- работаешь с API,\n",
    "  \n",
    "- читаешь различные конфигурации,\n",
    "  \n",
    "- обмениваешься данными между программами,\n",
    "\n",
    "соответственно тебе нужно знать, как **один формат превращается в другой**, чтобы избежать ошибок.\n",
    "\n",
    "\n",
    "<br>\n"
   ]
  },
  {
   "cell_type": "markdown",
   "id": "77969f07",
   "metadata": {},
   "source": [
    "<br>\n",
    "\n",
    "---\n",
    "\n",
    "<br>\n"
   ]
  },
  {
   "cell_type": "markdown",
   "id": "85a05dbf",
   "metadata": {},
   "source": [
    "##### 📬 Author:\n",
    "\n",
    "**Siergej Sobolewski**  \n",
    "\n",
    "[![Email 🚀](https://img.shields.io/badge/Email-s.sobolewski@hotmail.com-blue?logo=protonmail)](mailto:s.sobolewski@hotmail.com)\n",
    "[![GitHub](https://img.shields.io/badge/GitHub-SSobol77-blue?logo=github)](https://github.com/SSobol77)\n",
    "[![LinkedIn](https://img.shields.io/badge/LinkedIn-Connect-blue?logo=linkedin)](https://linkedin.com/in/siergej-s-25a16319a)\n",
    "\n",
    "<br>"
   ]
  }
 ],
 "metadata": {
  "kernelspec": {
   "display_name": "Python 3",
   "language": "python",
   "name": "python3"
  },
  "language_info": {
   "codemirror_mode": {
    "name": "ipython",
    "version": 3
   },
   "file_extension": ".py",
   "mimetype": "text/x-python",
   "name": "python",
   "nbconvert_exporter": "python",
   "pygments_lexer": "ipython3",
   "version": "3.13.2"
  }
 },
 "nbformat": 4,
 "nbformat_minor": 5
}
