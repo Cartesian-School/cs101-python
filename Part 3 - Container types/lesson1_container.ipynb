{
 "cells": [
  {
   "cell_type": "markdown",
   "metadata": {},
   "source": [
    "# Урок 1. Контейнерные типы данных в Python.\n",
    "\n",
    "\n",
    "> Коротко на английском контейнерные типы данных называют **\"container types\"** или просто **\"containers\"**.  \n",
    "\n",
    "### Пояснение:\n",
    "- **Container types** — это общий термин для структур данных, которые хранят коллекции элементов (например, списки, словари, множества).  \n",
    "- В документации Python и англоязычных ресурсах часто используется именно это название.  \n",
    "\n",
    "### Примеры:\n",
    "- **List** → `list` (контейнер для упорядоченных изменяемых данных).  \n",
    "- **Tuple** → `tuple` (контейнер для упорядоченных неизменяемых данных).  \n",
    "- **Dict** → `dict` (контейнер для пар «ключ-значение»).  \n",
    "\n",
    "### Важно:\n",
    "Иногда их также называют **\"collection types\"** или **\"data structures\"**, но:  \n",
    "- **Data structures** — более широкое понятие (включает не только встроенные контейнеры, но и очереди, деревья и т.д.).  \n",
    "- **Collection types** — чаще используется в контексте модуля `collections` (например, `deque`, `Counter`).  \n",
    "\n",
    "👉 **Итог:** Самый точный и короткий вариант — **\"container types\"**."
   ]
  },
  {
   "cell_type": "markdown",
   "metadata": {},
   "source": [
    "В Python есть несколько встроенных **контейнерных типов данных**, которые используются для хранения коллекций элементов. Они делятся на **изменяемые** (можно менять после создания) и **неизменяемые**. Вот основные из них:\n",
    "\n",
    "\n",
    "<br>\n",
    "\n",
    "---\n",
    "\n",
    "<br>\n"
   ]
  },
  {
   "cell_type": "markdown",
   "metadata": {},
   "source": [
    "### 1. **Список (List)**  \n",
    "- **Изменяемый**, упорядоченный набор элементов.  \n",
    "- Элементы могут быть разных типов.  \n",
    "- Поддерживает индексы и срезы.  \n",
    "- **Пример:**  \n",
    "  ```python\n",
    "  my_list = [1, \"яблоко\", True, 3.14]\n",
    "  my_list.append(\"новый элемент\")  # Добавить элемент\n",
    "  print(my_list[1])  # Выведет: \"яблоко\"\n",
    "  ```\n"
   ]
  },
  {
   "cell_type": "code",
   "execution_count": null,
   "metadata": {},
   "outputs": [],
   "source": []
  },
  {
   "cell_type": "markdown",
   "metadata": {},
   "source": [
    "<br>\n",
    "\n",
    "### 2. **Кортеж (Tuple)**  \n",
    "- **Неизменяемый**, упорядоченный набор элементов.  \n",
    "- Используется для данных, которые не должны меняться.  \n",
    "- **Пример:**  \n",
    "  ```python\n",
    "  my_tuple = (10, \"мир\", False)\n",
    "  print(my_tuple[0])  # Выведет: 10\n",
    "  ```"
   ]
  },
  {
   "cell_type": "code",
   "execution_count": null,
   "metadata": {},
   "outputs": [],
   "source": []
  },
  {
   "cell_type": "markdown",
   "metadata": {},
   "source": [
    "<br>\n",
    "\n",
    "### 3. **Словарь (Dict)**  \n",
    "- **Изменяемый**, неупорядоченный набор пар **ключ-значение**.  \n",
    "- Ключи уникальны и неизменяемы (числа, строки, кортежи).  \n",
    "- **Пример:**  \n",
    "  ```python\n",
    "  my_dict = {\"имя\": \"Анна\", \"возраст\": 25, \"город\": \"Москва\"}\n",
    "  print(my_dict[\"город\"])  # Выведет: \"Москва\"\n",
    "  my_dict[\"email\"] = \"anna@mail.ru\"  # Добавить новую пару\n",
    "  ```\n"
   ]
  },
  {
   "cell_type": "code",
   "execution_count": null,
   "metadata": {},
   "outputs": [],
   "source": []
  },
  {
   "cell_type": "markdown",
   "metadata": {},
   "source": [
    "<br>\n",
    "\n",
    "### 4. **Множество (Set)**  \n",
    "- **Изменяемый**, неупорядоченный набор **уникальных** элементов.  \n",
    "- Используется для операций: объединение, пересечение, разность.  \n",
    "- **Пример:**  \n",
    "  ```python\n",
    "  my_set = {1, 2, 3, 2, 1}  # Повторы игнорируются\n",
    "  print(my_set)  # Выведет: {1, 2, 3}\n",
    "  my_set.add(4)  # Добавить элемент\n",
    "  ```\n"
   ]
  },
  {
   "cell_type": "code",
   "execution_count": null,
   "metadata": {},
   "outputs": [],
   "source": []
  },
  {
   "cell_type": "markdown",
   "metadata": {},
   "source": [
    "### 5. **Неизменяемое множество (Frozenset)**  \n",
    "- Аналог множества, но **неизменяемый**.  \n",
    "- **Пример:**  \n",
    "  ```python\n",
    "  my_frozenset = frozenset([1, 2, 3])\n",
    "  ```\n",
    "\n",
    "<br>"
   ]
  },
  {
   "cell_type": "code",
   "execution_count": null,
   "metadata": {},
   "outputs": [],
   "source": []
  },
  {
   "cell_type": "markdown",
   "metadata": {},
   "source": [
    "<br>\n",
    "\n",
    "### 6. **Строка (String)**  \n",
    "\n",
    "- **Неизменяемая** последовательность символов.  \n",
    "- Может обрабатываться как контейнер (например, перебор символов).  \n",
    "- **Пример:**  \n",
    "  ```python\n",
    "  my_str = \"Привет\"\n",
    "  print(my_str[0])  # Выведет: \"П\"\n",
    "  ```"
   ]
  },
  {
   "cell_type": "code",
   "execution_count": null,
   "metadata": {},
   "outputs": [],
   "source": []
  },
  {
   "cell_type": "markdown",
   "metadata": {},
   "source": [
    "\n",
    "---\n",
    "\n",
    "<br>\n",
    "\n",
    "### Сравнение типов:\n",
    "\n",
    "| Тип         | Изменяемый? | Упорядоченный? | Уникальность | Пример           |\n",
    "|-------------|-------------|----------------|--------------|------------------|\n",
    "| **List**    | Да          | Да             | Нет          | `[1, 2, 3]`      |\n",
    "| **Tuple**   | Нет         | Да             | Нет          | `(1, \"a\", True)` |\n",
    "| **Dict**    | Да          | Нет (Python 3.7+ упорядочены) | Ключи уникальны | `{\"key\": \"value\"}` |\n",
    "| **Set**     | Да          | Нет            | Да           | `{1, 2, 3}`      |\n",
    "| **String**  | Нет         | Да             | Нет          | `\"Hello\"`        |\n",
    "\n",
    "\n",
    "<br>\n"
   ]
  },
  {
   "cell_type": "markdown",
   "metadata": {},
   "source": [
    "<br>\n",
    "\n",
    "### Примеры использования:"
   ]
  },
  {
   "cell_type": "code",
   "execution_count": null,
   "metadata": {},
   "outputs": [],
   "source": [
    "# Список\n",
    "numbers = [1, 2, 3]\n",
    "numbers[0] = 100  # Изменяем элемент\n",
    "\n",
    "# Кортеж\n",
    "colors = (\"красный\", \"зелёный\", \"синий\")\n",
    "# colors[0] = \"жёлтый\"  # Ошибка! Кортеж неизменяем.\n",
    "\n",
    "# Словарь\n",
    "user = {\"name\": \"Max\", \"age\": 30}\n",
    "user[\"age\"] = 31  # Изменяем значение\n",
    "\n",
    "# Множество\n",
    "unique_numbers = {1, 2, 2, 3}  # Станет {1, 2, 3}"
   ]
  },
  {
   "cell_type": "markdown",
   "metadata": {},
   "source": [
    "---\n",
    "\n",
    "<br>\n",
    "\n",
    "### Зачем это нужно и где применяем?\n",
    "\n",
    "- **Списки** — для хранения данных, которые могут меняться (например, список задач).  \n",
    "  \n",
    "- **Кортежи** — для константных данных (например, координаты точки).  \n",
    "  \n",
    "- **Словари** — для структурированного хранения информации (например, данные пользователя).  \n",
    "  \n",
    "- **Множества** — для работы с уникальными элементами (например, удаление дубликатов)."
   ]
  },
  {
   "cell_type": "markdown",
   "metadata": {},
   "source": [
    "<br>\n",
    "\n",
    "---\n",
    "\n",
    "<br>\n",
    "\n",
    "##### 📬 Author:\n",
    "\n",
    "**Siergej Sobolewski**  \n",
    "\n",
    "[![Email 🚀](https://img.shields.io/badge/Email-s.sobolewski@hotmail.com-blue?logo=protonmail)](mailto:s.sobolewski@hotmail.com)\n",
    "[![GitHub](https://img.shields.io/badge/GitHub-SSobol77-blue?logo=github)](https://github.com/SSobol77)\n",
    "[![LinkedIn](https://img.shields.io/badge/LinkedIn-Connect-blue?logo=linkedin)](https://linkedin.com/in/siergej-s-25a16319a)\n",
    "\n",
    "<br>"
   ]
  }
 ],
 "metadata": {
  "kernelspec": {
   "display_name": "Python 3",
   "language": "python",
   "name": "python3"
  },
  "language_info": {
   "codemirror_mode": {
    "name": "ipython",
    "version": 3
   },
   "file_extension": ".py",
   "mimetype": "text/x-python",
   "name": "python",
   "nbconvert_exporter": "python",
   "pygments_lexer": "ipython3",
   "version": "3.13.2"
  }
 },
 "nbformat": 4,
 "nbformat_minor": 2
}
