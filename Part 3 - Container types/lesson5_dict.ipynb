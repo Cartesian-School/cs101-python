{
 "cells": [
  {
   "cell_type": "markdown",
   "id": "9043872c",
   "metadata": {},
   "source": [
    "# 📘 **Урок 6: Словари (dict) в Python**\n",
    "\n",
    "\n",
    "<br>\n",
    "\n",
    "---\n",
    "\n",
    "<br>"
   ]
  },
  {
   "cell_type": "markdown",
   "id": "d1160513",
   "metadata": {},
   "source": [
    "###  Что такое словарь?\n",
    "\n",
    "**Словарь (`dict`)** — это **неупорядоченная** коллекция пар `ключ: значение`.\n",
    "\n",
    "Словари:\n",
    "- хранят значения по **ключу** (а не по индексу, как списки),\n",
    "- **изменяемы**,\n",
    "- **ключи уникальны**, а значения могут повторяться.\n",
    "\n",
    "<br>\n",
    "\n",
    "###  Синтаксис:\n",
    "\n",
    "```python\n",
    "# Пустой словарь\n",
    "empty = {}\n",
    "\n",
    "# Словарь с данными\n",
    "person = {\n",
    "    \"name\": \"Alice\",\n",
    "    \"age\": 30,\n",
    "    \"city\": \"Moscow\"\n",
    "}"
   ]
  },
  {
   "cell_type": "code",
   "execution_count": null,
   "id": "a7bac48a",
   "metadata": {},
   "outputs": [],
   "source": [
    "# Повторите код:"
   ]
  },
  {
   "cell_type": "markdown",
   "id": "c8f6e627",
   "metadata": {},
   "source": [
    "<br>\n",
    "\n",
    "### 🔹 Свойства словаря\n",
    "\n",
    "| Свойство             | Описание                                                   |\n",
    "|----------------------|------------------------------------------------------------|\n",
    "| **Ключи уникальны**  | Повторяющиеся ключи автоматически заменяются               |\n",
    "| **Ключи — хэшируемы**| Можно использовать строки, числа, кортежи                  |\n",
    "| **Изменяемый**       | Можно добавлять, удалять и изменять элементы               |\n",
    "| **Доступ по ключу**  | Значение ищется не по позиции (индексу), а по ключу                  |\n",
    "| **Упорядоченность**| Порядок гарантируется от версии Python 3.7 (ранее не сохранялся) |\n",
    "\n",
    "<br>"
   ]
  },
  {
   "cell_type": "markdown",
   "id": "027c7679",
   "metadata": {},
   "source": [
    "\n",
    "### 🔹 Как получить доступ к значениям ?\n",
    "\n",
    "```python\n",
    "person = {\n",
    "    \"name\": \"Alice\",\n",
    "    \"age\": 30\n",
    "}\n",
    "\n",
    "print(person[\"name\"])  # Alice\n",
    "print(person[\"age\"])   # 30\n",
    "```\n",
    "\n",
    "> ❗ Если ключа нет — будет `KeyError`.\n"
   ]
  },
  {
   "cell_type": "code",
   "execution_count": null,
   "id": "c88b9bea",
   "metadata": {},
   "outputs": [
    {
     "name": "stdout",
     "output_type": "stream",
     "text": [
      "Alice\n",
      "30\n"
     ]
    }
   ],
   "source": [
    "# Повторите код:\n"
   ]
  },
  {
   "cell_type": "markdown",
   "id": "f4b628e3",
   "metadata": {},
   "source": [
    "<br>\n",
    "\n",
    "### 🔹 Безопасный доступ: `get()`\n",
    "\n",
    "```python\n",
    "print(person.get(\"name\"))     # Alice\n",
    "print(person.get(\"email\"))    # None (без ошибки)\n",
    "print(person.get(\"email\", \"Not found\"))  # Not found\n",
    "```\n"
   ]
  },
  {
   "cell_type": "code",
   "execution_count": null,
   "id": "295bc51d",
   "metadata": {},
   "outputs": [],
   "source": [
    "# Повторите код:"
   ]
  },
  {
   "cell_type": "markdown",
   "id": "ddeb68f9",
   "metadata": {},
   "source": [
    "<br>\n",
    "\n",
    "**🔒 Почему способ `get()` считается безопасным способом доступа к значениям в словаре?**\n",
    "\n",
    "Когда ты обращаешься к значению по ключу обычным способом:\n",
    "\n",
    "```python\n",
    "person = {\"name\": \"Alice\"}\n",
    "print(person[\"email\"])  # ❌ KeyError: 'email'\n",
    "```\n",
    "🔻 Если ключа нет — программа вылетает с ошибкой (KeyError), и дальнейшее выполнение останавливается."
   ]
  },
  {
   "cell_type": "code",
   "execution_count": null,
   "id": "e76893bb",
   "metadata": {},
   "outputs": [],
   "source": [
    "# Повторите код:"
   ]
  },
  {
   "cell_type": "markdown",
   "id": "b8a9c38c",
   "metadata": {},
   "source": [
    "✅ get() — безопасный способ потому что:\n",
    "\n",
    "- Не вызывает ошибку, если ключ отсутствует.\n",
    "\n",
    "- Возвращает `None` (или другое значение по умолчанию), а не ломает программу.\n",
    "\n",
    "```python\n",
    "print(person.get(\"email\"))  # None, без ошибки\n",
    "```\n",
    "\n",
    "<br>\n",
    "\n",
    "-  Дополнительно: можно задать значение по умолчанию\n",
    "```python\n",
    "print(person.get(\"email\", \"Not provided\"))  # Not provided\n",
    "```"
   ]
  },
  {
   "cell_type": "code",
   "execution_count": null,
   "id": "5f911db1",
   "metadata": {},
   "outputs": [],
   "source": [
    "# Повторите код:"
   ]
  },
  {
   "cell_type": "markdown",
   "id": "5c386eb3",
   "metadata": {},
   "source": [
    "<br>\n",
    "\n",
    "### 🔹 Добавление и изменение значений\n",
    "\n",
    "```python\n",
    "person[\"email\"] = \"alice@example.com\"  # добавление\n",
    "person[\"age\"] = 31                     # изменение\n",
    "\n",
    "print(person)\n",
    "```"
   ]
  },
  {
   "cell_type": "code",
   "execution_count": null,
   "id": "d4461c73",
   "metadata": {},
   "outputs": [],
   "source": [
    "# Повторите код:\n"
   ]
  },
  {
   "cell_type": "markdown",
   "id": "20f3e3e2",
   "metadata": {},
   "source": [
    "<br>\n",
    "\n",
    "### 🔹 Удаление элементов\n",
    "\n",
    "```python\n",
    "del person[\"age\"]        # удаление по ключу\n",
    "\n",
    "person.pop(\"email\")      # удаление и возврат значения\n",
    "\n",
    "person.clear()           # полная очистка словаря\n",
    "```\n"
   ]
  },
  {
   "cell_type": "code",
   "execution_count": null,
   "id": "baf409f1",
   "metadata": {},
   "outputs": [],
   "source": [
    "# Повторите код:"
   ]
  },
  {
   "cell_type": "markdown",
   "id": "70c2c16e",
   "metadata": {},
   "source": [
    "<br>\n",
    "\n",
    "### 🔹 Проверка на наличие ключа\n",
    "\n",
    "```python\n",
    "if \"name\" in person:\n",
    "    print(\"Name exists\")\n",
    "```\n"
   ]
  },
  {
   "cell_type": "code",
   "execution_count": null,
   "id": "8a0b15a3",
   "metadata": {},
   "outputs": [],
   "source": [
    "# Повторите код:"
   ]
  },
  {
   "cell_type": "markdown",
   "id": "892aa6d5",
   "metadata": {},
   "source": [
    "<br>\n",
    "\n",
    "### 🔹 Перебор словаря циклом `for`\n",
    "\n",
    "```python\n",
    "for key in person:\n",
    "    print(key, person[key])  # вывод ключа и значения\n",
    "\n",
    "for key, value in person.items():\n",
    "    print(key, \"→\", value)\n",
    "```\n"
   ]
  },
  {
   "cell_type": "code",
   "execution_count": null,
   "id": "c7394056",
   "metadata": {},
   "outputs": [],
   "source": [
    "# Повторите код:"
   ]
  },
  {
   "cell_type": "markdown",
   "id": "674dbb6d",
   "metadata": {},
   "source": [
    "<br>\n",
    "\n",
    "### 🔹 Полезные методы словаря\n",
    "\n",
    "| Метод             | Описание                                                  |\n",
    "|------------------|-----------------------------------------------------------|\n",
    "| `dict.get(key)`  | Возвращает значение по ключу (без ошибки)                 |\n",
    "| `dict.keys()`    | Возвращает список всех ключей                             |\n",
    "| `dict.values()`  | Возвращает список всех значений                           |\n",
    "| `dict.items()`   | Возвращает пары `(ключ, значение)`                        |\n",
    "| `dict.pop(key)`  | Удаляет и возвращает значение по ключу                    |\n",
    "| `dict.clear()`   | Очищает словарь полностью                                 |\n",
    "| `dict.update()`  | Обновляет словарь другим словарём или парой ключ-значение |\n",
    "\n",
    "\n",
    "<br>"
   ]
  },
  {
   "cell_type": "markdown",
   "id": "d728e95d",
   "metadata": {},
   "source": [
    "<br>\n",
    "\n",
    "---\n",
    "\n",
    "<br>"
   ]
  },
  {
   "cell_type": "markdown",
   "id": "0e14ca6a",
   "metadata": {},
   "source": [
    "### 🧪 Примеры"
   ]
  },
  {
   "cell_type": "markdown",
   "id": "5e3a6d44",
   "metadata": {},
   "source": [
    "<br>\n",
    "\n",
    "### Пример 1: работа с персональными данными человека\n",
    "```python\n",
    "person = {\n",
    "    \"name\": \"Ivan\",\n",
    "    \"age\": 25,\n",
    "    \"city\": \"Kazan\"\n",
    "}\n",
    "\n",
    "# доступ\n",
    "print(person[\"name\"])  # Ivan\n",
    "\n",
    "# изменение\n",
    "person[\"age\"] = 26\n",
    "\n",
    "# добавление\n",
    "person[\"email\"] = \"ivan@yandex.ru\"\n",
    "\n",
    "# удаление\n",
    "del person[\"city\"]\n",
    "```"
   ]
  },
  {
   "cell_type": "code",
   "execution_count": null,
   "id": "a6e949d9",
   "metadata": {},
   "outputs": [],
   "source": [
    "# Повторите код:"
   ]
  },
  {
   "cell_type": "markdown",
   "id": "28e4d7c8",
   "metadata": {},
   "source": [
    "<br>\n",
    "\n",
    "### Пример 2: подсчёт символов в строке при помощи цикла `for`\n",
    "\n",
    "```python\n",
    "text = \"hello\"\n",
    "count = {}\n",
    "\n",
    "for char in text:\n",
    "    if char in count:\n",
    "        count[char] += 1\n",
    "    else:\n",
    "        count[char] = 1\n",
    "\n",
    "print(count)  # {'h': 1, 'e': 1, 'l': 2, 'o': 1}\n",
    "```"
   ]
  },
  {
   "cell_type": "code",
   "execution_count": null,
   "id": "e1067a2d",
   "metadata": {},
   "outputs": [],
   "source": [
    "# Повторите код:"
   ]
  },
  {
   "cell_type": "markdown",
   "id": "e1160c64",
   "metadata": {},
   "source": [
    "<br>\n",
    "\n",
    "---\n",
    "\n",
    "<br>"
   ]
  },
  {
   "cell_type": "markdown",
   "id": "8362945e",
   "metadata": {},
   "source": [
    "### 🧠 Практические задания:"
   ]
  },
  {
   "cell_type": "markdown",
   "id": "496df1f0",
   "metadata": {},
   "source": [
    "<br>\n",
    "\n",
    "### Задача 1: Создание словаря\n",
    "Создай словарь с данными:\n",
    "- имя: \"Maria\"\n",
    "- возраст: 20\n",
    "- страна: \"Польша\"\n",
    "\n",
    "**Выведи имя и страну.**"
   ]
  },
  {
   "cell_type": "code",
   "execution_count": null,
   "id": "76323f4c",
   "metadata": {},
   "outputs": [],
   "source": [
    "# Ваше решение:"
   ]
  },
  {
   "cell_type": "markdown",
   "id": "5d46b8e5",
   "metadata": {},
   "source": [
    "**Решение:**\n",
    "```python\n",
    "user = {\n",
    "    \"name\": \"Maria\",\n",
    "    \"age\": 20,\n",
    "    \"country\": \"Польша\"\n",
    "}\n",
    "\n",
    "print(user[\"name\"])\n",
    "print(user[\"country\"])\n",
    "```"
   ]
  },
  {
   "cell_type": "markdown",
   "id": "17d541d7",
   "metadata": {},
   "source": [
    "<br>\n",
    "\n",
    "\n",
    "### Задача 2: Обновление данных\n",
    "Увеличь возраст на 1, добавь ключ `\"status\"` со значением `\"active\"`.\n",
    "\n"
   ]
  },
  {
   "cell_type": "code",
   "execution_count": null,
   "id": "4b3ef6fc",
   "metadata": {},
   "outputs": [],
   "source": [
    "# Ваше решение:"
   ]
  },
  {
   "cell_type": "markdown",
   "id": "e4623340",
   "metadata": {},
   "source": [
    "**Решение:**\n",
    "```python\n",
    "user[\"age\"] += 1\n",
    "user[\"status\"] = \"active\"\n",
    "```"
   ]
  },
  {
   "cell_type": "markdown",
   "id": "65a33571",
   "metadata": {},
   "source": [
    "<br>\n",
    "\n",
    "### Задача 3: Проверка ключей\n",
    "Проверь, есть ли ключ `\"email\"` в словаре. Если нет — выведи `\"Email not provided\"`.\n",
    "\n"
   ]
  },
  {
   "cell_type": "code",
   "execution_count": null,
   "id": "b804d773",
   "metadata": {},
   "outputs": [],
   "source": [
    "# Ваше решение:"
   ]
  },
  {
   "cell_type": "markdown",
   "id": "72e12623",
   "metadata": {},
   "source": [
    "**Решение:**\n",
    "```python\n",
    "if \"email\" not in user:\n",
    "    print(\"Email not provided\")\n",
    "```"
   ]
  },
  {
   "cell_type": "markdown",
   "id": "5f4fac46",
   "metadata": {},
   "source": [
    "<br>\n",
    "\n",
    "### Задача 4: Перебор ключей и значений\n",
    "\n",
    "Выведи словарь по строкам формата: \n",
    "\n",
    "`ключ → значение`"
   ]
  },
  {
   "cell_type": "code",
   "execution_count": null,
   "id": "3dc92a65",
   "metadata": {},
   "outputs": [],
   "source": [
    "# Ваше решение:"
   ]
  },
  {
   "cell_type": "markdown",
   "id": "36560d44",
   "metadata": {},
   "source": [
    "**Решение:**\n",
    "```python\n",
    "for k, v in user.items():\n",
    "    print(k, \"→\", v)\n",
    "```"
   ]
  },
  {
   "cell_type": "markdown",
   "id": "f0a0941a",
   "metadata": {},
   "source": [
    "<br>\n",
    "\n",
    "---\n",
    "\n",
    "<br>"
   ]
  },
  {
   "cell_type": "markdown",
   "id": "ebeba5a0",
   "metadata": {},
   "source": [
    "### 🏠 Домашнее задание"
   ]
  },
  {
   "cell_type": "markdown",
   "id": "67580260",
   "metadata": {},
   "source": [
    "1. Создай словарь `book` с ключами `\"title\"`, `\"author\"`, `\"year\"`, выведи все значения.\n",
    "   \n",
    "2. Добавь в словарь `book` ключ `\"pages\"` со значением 320.\n",
    "   \n",
    "3. Удали ключ `\"year\"`.\n",
    "   \n",
    "4. Проверь, есть ли ключ `\"publisher\"`. Если нет — добавь его со значением `\"Unknown\"`.\n",
    "   \n",
    "5. Выведи словарь в формате:\n",
    "\n",
    "```\n",
    "title: <значение>\n",
    "author: <значение>\n",
    "...\n",
    "```\n"
   ]
  },
  {
   "cell_type": "code",
   "execution_count": null,
   "id": "70b50986",
   "metadata": {},
   "outputs": [],
   "source": [
    "# Решение для задания 1:"
   ]
  },
  {
   "cell_type": "code",
   "execution_count": null,
   "id": "a894c4d1",
   "metadata": {},
   "outputs": [],
   "source": [
    "# Решение для задания 2:"
   ]
  },
  {
   "cell_type": "code",
   "execution_count": null,
   "id": "6d7211c2",
   "metadata": {},
   "outputs": [],
   "source": [
    "# Решение для задания 3:"
   ]
  },
  {
   "cell_type": "code",
   "execution_count": null,
   "id": "0358b916",
   "metadata": {},
   "outputs": [],
   "source": [
    "# Решение для задания 4:"
   ]
  },
  {
   "cell_type": "code",
   "execution_count": null,
   "id": "356c9e64",
   "metadata": {},
   "outputs": [],
   "source": [
    "# Решение для задания 5:"
   ]
  },
  {
   "cell_type": "markdown",
   "id": "55c8b23a",
   "metadata": {},
   "source": [
    "<br>\n",
    "\n",
    "---\n",
    "\n",
    "<br>"
   ]
  },
  {
   "cell_type": "markdown",
   "id": "e8061171",
   "metadata": {},
   "source": [
    "##### 📬 Author:\n",
    "\n",
    "**Siergej Sobolewski**  \n",
    "\n",
    "[![Email 🚀](https://img.shields.io/badge/Email-s.sobolewski@hotmail.com-blue?logo=protonmail)](mailto:s.sobolewski@hotmail.com)\n",
    "[![GitHub](https://img.shields.io/badge/GitHub-SSobol77-blue?logo=github)](https://github.com/SSobol77)\n",
    "[![LinkedIn](https://img.shields.io/badge/LinkedIn-Connect-blue?logo=linkedin)](https://linkedin.com/in/siergej-s-25a16319a)\n",
    "\n",
    "<br>"
   ]
  }
 ],
 "metadata": {
  "kernelspec": {
   "display_name": "Python 3",
   "language": "python",
   "name": "python3"
  },
  "language_info": {
   "codemirror_mode": {
    "name": "ipython",
    "version": 3
   },
   "file_extension": ".py",
   "mimetype": "text/x-python",
   "name": "python",
   "nbconvert_exporter": "python",
   "pygments_lexer": "ipython3",
   "version": "3.13.2"
  }
 },
 "nbformat": 4,
 "nbformat_minor": 5
}
