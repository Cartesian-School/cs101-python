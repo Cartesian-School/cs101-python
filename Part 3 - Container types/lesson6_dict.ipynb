{
 "cells": [
  {
   "cell_type": "markdown",
   "id": "49c4f243",
   "metadata": {},
   "source": [
    "# 📘 **Урок 6: Методы словарей (`dict`) в Python**\n",
    "\n",
    "<br>\n",
    "\n",
    "---\n",
    "\n",
    "<br>"
   ]
  },
  {
   "cell_type": "markdown",
   "id": "a566ca0a",
   "metadata": {},
   "source": [
    "\n",
    "### 🔹 Напоминание: что такое словарь?\n",
    "\n",
    "**Словарь** — это структура `ключ: значение`.  \n",
    "\n",
    "Ключи должны быть **уникальными** и **неизменяемыми** (строки, числа, кортежи без списков).\n",
    "\n",
    "<br>\n",
    "\n",
    "\n",
    "### 🔧 **Основные методы словарей**\n",
    "\n",
    "| Метод             | Назначение                                                | Возвращает |\n",
    "|------------------|------------------------------------------------------------|------------|\n",
    "| `dict.get(key)`  | Получить значение по ключу без ошибки                      | значение / None |\n",
    "| `dict.keys()`    | Получить все ключи                                          | `dict_keys` объект |\n",
    "| `dict.values()`  | Получить все значения                                       | `dict_values` |\n",
    "| `dict.items()`   | Получить пары `(ключ, значение)`                           | `dict_items` |\n",
    "| `dict.pop(key)`  | Удалить и вернуть значение по ключу                        | значение |\n",
    "| `dict.popitem()` | Удалить последнюю добавленную пару (с Python 3.7+)         | `(ключ, значение)` |\n",
    "| `dict.update()`  | Обновить словарь другим словарем или парами ключ:значение | `None` |\n",
    "| `dict.clear()`   | Удалить все элементы словаря                                | `None` |\n",
    "| `dict.setdefault()` | Получить значение по ключу или вставить, если его нет   | значение |\n",
    "\n",
    "<br>\n",
    "\n",
    "---\n",
    "\n",
    "<br>"
   ]
  },
  {
   "cell_type": "markdown",
   "id": "c7ae1c64",
   "metadata": {},
   "source": [
    "### 📌 **Примеры с комментариями**\n"
   ]
  },
  {
   "cell_type": "markdown",
   "id": "ae9e1f23",
   "metadata": {},
   "source": [
    "<br>\n",
    "\n",
    "#### ✅ `get(key[, default])`\n",
    "\n",
    "**Назначение:** получить значение по ключу, не вызывая ошибку, если ключа нет.\n",
    "\n",
    "```python\n",
    "user = {\"name\": \"Anna\", \"age\": 25}\n",
    "\n",
    "print(user.get(\"name\"))          # Anna\n",
    "print(user.get(\"email\"))         # None\n",
    "print(user.get(\"email\", \"нет\"))  # нет\n",
    "```\n",
    "\n",
    "<br>\n",
    "\n",
    "👉 **Важно знать:**\n",
    "\n",
    "- **Плюс:** этот способ безопасен \n",
    "   \n",
    "- **Минус:** но не различает `None` по ключу и отсутствие ключа"
   ]
  },
  {
   "cell_type": "code",
   "execution_count": null,
   "id": "760bc5dd",
   "metadata": {},
   "outputs": [],
   "source": [
    "# Повторите код:"
   ]
  },
  {
   "cell_type": "markdown",
   "id": "1c3486fb",
   "metadata": {},
   "source": [
    "<br>\n",
    "\n",
    "#### ✅ `keys()`, `values()`, `items()`\n",
    "\n",
    "```python\n",
    "user = {\"name\": \"Ivan\", \"age\": 30}\n",
    "\n",
    "print(user.keys())    # dict_keys(['name', 'age'])\n",
    "print(user.values())  # dict_values(['Ivan', 30])\n",
    "print(user.items())   # dict_items([('name', 'Ivan'), ('age', 30)])\n",
    "```\n",
    "<br>\n",
    "\n",
    "🔹 dict.keys() -  возвращает все ключи словаря\n",
    "\n",
    "🔹 dict.values() - возвращает все значения словаря\n",
    "\n",
    "🔹 dict.items() - возвращает все пары (ключ, значение).\n",
    "\n",
    "\n",
    "**Перебор элементов:**\n",
    "```python\n",
    "for key in user:\n",
    "    print(key, \"→\", user[key])\n",
    "\n",
    "for key, value in user.items():\n",
    "    print(f\"{key} = {value}\")\n",
    "```"
   ]
  },
  {
   "cell_type": "code",
   "execution_count": null,
   "id": "43514bc2",
   "metadata": {},
   "outputs": [],
   "source": [
    "user = {\"name\": \"Ivan\", \"age\": 30}\n",
    "\n",
    "# Повторите код:"
   ]
  },
  {
   "cell_type": "markdown",
   "id": "592a1b24",
   "metadata": {},
   "source": [
    "<br>\n",
    "\n",
    "#### ✅ `pop(key[, default])`\n",
    "\n",
    "**Удаляет ключ и возвращает его значение.**\n",
    "\n",
    "```python\n",
    "user = {\"name\": \"Oleg\", \"age\": 40}\n",
    "\n",
    "age = user.pop(\"age\")  # 40\n",
    "print(user)            # {'name': 'Oleg'}\n",
    "```\n",
    "\n",
    "👉 Если ключа нет — ошибка, если не указан `default`.\n"
   ]
  },
  {
   "cell_type": "code",
   "execution_count": null,
   "id": "4d7872b3",
   "metadata": {},
   "outputs": [],
   "source": [
    "# Повторите код:"
   ]
  },
  {
   "cell_type": "markdown",
   "id": "56879919",
   "metadata": {},
   "source": [
    "<br >\n",
    "\n",
    "### ✅ `popitem()`\n",
    "\n",
    "**Удаляет последнюю добавленную пару.**\n",
    "\n",
    "```python\n",
    "data = {\"x\": 1, \"y\": 2}\n",
    "last = data.popitem()\n",
    "print(last)   # ('y', 2)\n",
    "```\n",
    "\n",
    "👉 Начиная с Python 3.7, словари сохраняют порядок.\n"
   ]
  },
  {
   "cell_type": "code",
   "execution_count": null,
   "id": "8a1a1276",
   "metadata": {},
   "outputs": [],
   "source": [
    "# Повторите код:"
   ]
  },
  {
   "cell_type": "markdown",
   "id": "aa25ab93",
   "metadata": {},
   "source": [
    "<br>\n",
    "\n",
    "#### ✅ `update()`\n",
    "\n",
    "**Обновляет словарь данными из другого словаря или через ключевые аргументы.**\n",
    "\n",
    "```python\n",
    "user = {\"name\": \"Lena\"}\n",
    "user.update({\"age\": 28})\n",
    "user.update(city=\"Sochi\")\n",
    "print(user)  # {'name': 'Lena', 'age': 28, 'city': 'Sochi'}\n",
    "```\n"
   ]
  },
  {
   "cell_type": "code",
   "execution_count": null,
   "id": "dd0bc86f",
   "metadata": {},
   "outputs": [],
   "source": [
    "# Повторите код:"
   ]
  },
  {
   "cell_type": "markdown",
   "id": "960bcd5d",
   "metadata": {},
   "source": [
    "<br>\n",
    "\n",
    "#### ✅ `setdefault(key[, default])`\n",
    "\n",
    "**Возвращает значение по ключу. Если ключа нет — добавляет его со значением `default`.**\n",
    "\n",
    "```python\n",
    "settings = {}\n",
    "\n",
    "settings.setdefault(\"theme\", \"light\")\n",
    "print(settings)  # {'theme': 'light'}\n",
    "```"
   ]
  },
  {
   "cell_type": "code",
   "execution_count": null,
   "id": "de2905f4",
   "metadata": {},
   "outputs": [],
   "source": [
    "# Повторите код:"
   ]
  },
  {
   "cell_type": "markdown",
   "id": "bec8b666",
   "metadata": {},
   "source": [
    "<br>\n",
    "\n",
    "#### ✅ `clear()`\n",
    "\n",
    "**Полностью очищает словарь.**\n",
    "\n",
    "```python\n",
    "user.clear()\n",
    "print(user)  # {}\n",
    "```"
   ]
  },
  {
   "cell_type": "code",
   "execution_count": null,
   "id": "f1af05d0",
   "metadata": {},
   "outputs": [],
   "source": [
    "# Повторите код:"
   ]
  },
  {
   "cell_type": "markdown",
   "id": "2cfabe1b",
   "metadata": {},
   "source": [
    "<br>\n",
    "\n",
    "---\n",
    "\n",
    "<br>\n",
    "\n",
    "### ⚠️ Важные нюансы работы со словарями: \n",
    "\n",
    "<br>\n",
    "\n",
    "##### ✅ 1. Ключи должны быть **уникальными** и **неизменяемыми**\n",
    "\n",
    "```python\n",
    "d = {\n",
    "    \"name\": \"Alice\",\n",
    "    123: \"ID\",\n",
    "    (1, 2): \"coords\"\n",
    "}\n",
    "\n",
    "# ❌ список — нельзя, так как он изменяемый\n",
    "# d[[1, 2]] = \"ошибка\"  # TypeError\n",
    "```\n"
   ]
  },
  {
   "cell_type": "code",
   "execution_count": null,
   "id": "b6684eab",
   "metadata": {},
   "outputs": [],
   "source": [
    "# Повторите код:"
   ]
  },
  {
   "cell_type": "markdown",
   "id": "c74c1dd5",
   "metadata": {},
   "source": [
    "\n",
    "<br>\n",
    "\n",
    "##### ✅  2. Повторяющиеся ключи **затираются**\n",
    "\n",
    "```python\n",
    "d = {\"a\": 1, \"a\": 2}\n",
    "print(d)  # {'a': 2}\n",
    "```\n"
   ]
  },
  {
   "cell_type": "code",
   "execution_count": null,
   "id": "74aa25bf",
   "metadata": {},
   "outputs": [],
   "source": [
    "# Повторите код:"
   ]
  },
  {
   "cell_type": "markdown",
   "id": "42e20f6e",
   "metadata": {},
   "source": [
    "<br>\n",
    "\n",
    "##### ✅ 3. Проверка наличия ключа\n",
    "\n",
    "```python\n",
    "if \"name\" in d:\n",
    "    print(\"Есть имя\")\n",
    "```\n"
   ]
  },
  {
   "cell_type": "code",
   "execution_count": null,
   "id": "33efec6e",
   "metadata": {},
   "outputs": [],
   "source": [
    "# Повторите код:"
   ]
  },
  {
   "cell_type": "markdown",
   "id": "e6e9ae22",
   "metadata": {},
   "source": [
    "<br>\n",
    "\n",
    "##### ✅ 4. Словари — по значению не ищут, только по ключу\n",
    "\n",
    "Чтобы найти по значению — нужен цикл:\n",
    "```python\n",
    "for k, v in d.items():\n",
    "    if v == \"Alice\":\n",
    "        print(\"Ключ:\", k)\n",
    "```\n"
   ]
  },
  {
   "cell_type": "code",
   "execution_count": null,
   "id": "770ce21a",
   "metadata": {},
   "outputs": [],
   "source": [
    "# Повторите код:"
   ]
  },
  {
   "cell_type": "markdown",
   "id": "98fcca64",
   "metadata": {},
   "source": [
    "<br>\n",
    "\n",
    "##### ✅ 5. Глубокие словари (вложенность)\n",
    "\n",
    "```python\n",
    "user = {\n",
    "    \"name\": \"Ivan\",\n",
    "    \"address\": {\n",
    "        \"city\": \"Moscow\",\n",
    "        \"zip\": \"101000\"\n",
    "    }\n",
    "}\n",
    "\n",
    "print(user[\"address\"][\"city\"])  # Moscow\n",
    "```"
   ]
  },
  {
   "cell_type": "code",
   "execution_count": null,
   "id": "872005f2",
   "metadata": {},
   "outputs": [],
   "source": [
    "# Повторите код:"
   ]
  },
  {
   "cell_type": "markdown",
   "id": "3b2b77e9",
   "metadata": {},
   "source": [
    "<br>\n",
    "\n",
    "---\n",
    "\n",
    "<br>\n",
    "\n",
    "### 🧠 Практика"
   ]
  },
  {
   "cell_type": "markdown",
   "id": "eed1e9b3",
   "metadata": {},
   "source": [
    "#### Задача 1: Обнови и удали\n",
    "\n",
    "```python\n",
    "data = {\"x\": 5, \"y\": 10}\n",
    "\n",
    "# Увеличь x на 1\n",
    "data[\"x\"] += 1\n",
    "\n",
    "# Удали y\n",
    "data.pop(\"y\")\n",
    "\n",
    "print(data)  # {'x': 6}\n",
    "```\n"
   ]
  },
  {
   "cell_type": "code",
   "execution_count": null,
   "id": "bacf0ca2",
   "metadata": {},
   "outputs": [],
   "source": [
    "# Повторите код:"
   ]
  },
  {
   "cell_type": "markdown",
   "id": "c4a9004f",
   "metadata": {},
   "source": [
    "#### Задача 2: Безопасное извлечение\n",
    "\n",
    "```python\n",
    "user = {\"name\": \"Max\"}\n",
    "\n",
    "# Получи email с использованием get\n",
    "email = user.get(\"email\", \"не указан\")\n",
    "\n",
    "print(email)  # не указан\n",
    "```\n"
   ]
  },
  {
   "cell_type": "code",
   "execution_count": null,
   "id": "b294c07f",
   "metadata": {},
   "outputs": [],
   "source": [
    "# Повторите код:"
   ]
  },
  {
   "cell_type": "markdown",
   "id": "01cd52e9",
   "metadata": {},
   "source": [
    "#### Задача 3: Объединение словарей\n",
    "\n",
    "```python\n",
    "d1 = {\"a\": 1}\n",
    "d2 = {\"b\": 2, \"c\": 3}\n",
    "\n",
    "d1.update(d2)\n",
    "print(d1)  # {'a': 1, 'b': 2, 'c': 3}\n",
    "```\n"
   ]
  },
  {
   "cell_type": "code",
   "execution_count": null,
   "id": "14dcfddf",
   "metadata": {},
   "outputs": [],
   "source": [
    "# Повторите код:"
   ]
  },
  {
   "cell_type": "markdown",
   "id": "f56da3da",
   "metadata": {},
   "source": [
    "<br>\n",
    "\n",
    "---\n",
    "\n",
    "<br>\n",
    "\n",
    "### 🏠 Домашнее задание\n",
    "\n",
    "1. Создай словарь с ключами `\"product\"`, `\"price\"`, `\"quantity\"`.\n",
    "   \n",
    "2. Увеличь количество на 10.\n",
    "   \n",
    "3. Добавь новый ключ `\"category\"` со значением `\"electronics\"`.\n",
    "   \n",
    "4. Проверь, есть ли ключ `\"discount\"`. Если нет — добавь `\"discount\": 0`.\n",
    "   \n",
    "5. Удали ключ `\"price\"` с помощью `pop()`.\n",
    "   \n",
    "6. Выведи все пары ключ–значение.\n"
   ]
  },
  {
   "cell_type": "code",
   "execution_count": null,
   "id": "fba54ac1",
   "metadata": {},
   "outputs": [],
   "source": [
    "# Решение для задания 1:"
   ]
  },
  {
   "cell_type": "code",
   "execution_count": null,
   "id": "674a479d",
   "metadata": {},
   "outputs": [],
   "source": [
    "# Решение для задания 2:"
   ]
  },
  {
   "cell_type": "code",
   "execution_count": null,
   "id": "2d296eb9",
   "metadata": {},
   "outputs": [],
   "source": [
    "# Решение для задания 3:"
   ]
  },
  {
   "cell_type": "code",
   "execution_count": null,
   "id": "e1c35f6d",
   "metadata": {},
   "outputs": [],
   "source": [
    "# Решение для задания 4:"
   ]
  },
  {
   "cell_type": "code",
   "execution_count": null,
   "id": "b9a8bfc2",
   "metadata": {},
   "outputs": [],
   "source": [
    "# Решение для задания 5:"
   ]
  },
  {
   "cell_type": "code",
   "execution_count": null,
   "id": "cbfdde32",
   "metadata": {},
   "outputs": [],
   "source": [
    "# Решение для задания 6:"
   ]
  },
  {
   "cell_type": "markdown",
   "id": "6bcbe67a",
   "metadata": {},
   "source": [
    "<br>\n",
    "\n",
    "---\n",
    "\n",
    "<br>\n",
    "\n",
    "##### 📬 Author:\n",
    "\n",
    "**Siergej Sobolewski**  \n",
    "\n",
    "[![Email 🚀](https://img.shields.io/badge/Email-s.sobolewski@hotmail.com-blue?logo=protonmail)](mailto:s.sobolewski@hotmail.com)\n",
    "[![GitHub](https://img.shields.io/badge/GitHub-SSobol77-blue?logo=github)](https://github.com/SSobol77)\n",
    "[![LinkedIn](https://img.shields.io/badge/LinkedIn-Connect-blue?logo=linkedin)](https://linkedin.com/in/siergej-s-25a16319a)\n",
    "\n",
    "<br>"
   ]
  }
 ],
 "metadata": {
  "kernelspec": {
   "display_name": "Python 3",
   "language": "python",
   "name": "python3"
  },
  "language_info": {
   "name": "python",
   "version": "3.13.2"
  }
 },
 "nbformat": 4,
 "nbformat_minor": 5
}
