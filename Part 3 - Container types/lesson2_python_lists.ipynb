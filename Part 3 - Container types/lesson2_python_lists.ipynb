{
 "cells": [
  {
   "cell_type": "markdown",
   "id": "e9169b69",
   "metadata": {},
   "source": [
    "# 🧰 Урок 2.  Списки в Python\n",
    "\n",
    "На этом уроке вы познакомитесь с основными свойствами и методами списков в Python."
   ]
  },
  {
   "cell_type": "markdown",
   "id": "c78a91ac",
   "metadata": {},
   "source": [
    "### 1. Что такое список?\n",
    "\n",
    "**Список (list)** — упорядоченная изменяемая коллекция элементов разных типов.\n",
    "\n",
    "Пример списка:"
   ]
  },
  {
   "cell_type": "code",
   "execution_count": null,
   "id": "55867032",
   "metadata": {},
   "outputs": [],
   "source": [
    "my_list = [10, \"banana\", False, 2.718, [1, 2]]\n",
    "print(my_list)"
   ]
  },
  {
   "cell_type": "markdown",
   "id": "405a693d",
   "metadata": {},
   "source": [
    "### 2. Основные свойства списков\n",
    "\n",
    "- Упорядоченность\n",
    "- Изменяемость\n",
    "- Гетерогенность это свойство списков содержать элементы разных типов данных.\n",
    "- Динамический размер\n",
    "\n",
    "Проверка копирования и ссылок:"
   ]
  },
  {
   "cell_type": "code",
   "execution_count": null,
   "id": "d54735bd",
   "metadata": {},
   "outputs": [],
   "source": [
    "list1 = [1, 2, 3]\n",
    "list2 = list1\n",
    "list3 = list1.copy()\n",
    "list1[0] = 100\n",
    "\n",
    "print(\"list1:\", list1)\n",
    "print(\"list2 (ссылка):\", list2)\n",
    "print(\"list3 (копия):\", list3)\n",
    "print(\"id list1:\", id(list1), \"\\nid list2:\", id(list2), \"\\nid list3:\", id(list3))"
   ]
  },
  {
   "cell_type": "markdown",
   "id": "17495ab6",
   "metadata": {},
   "source": [
    "### 3. Получение списка из строки\n",
    "\n",
    "Используем методы `split()` и функцию `list()`:"
   ]
  },
  {
   "cell_type": "code",
   "execution_count": null,
   "id": "8a96eac3",
   "metadata": {},
   "outputs": [],
   "source": [
    "text = \"I love Python\"\n",
    "print(text.split())\n",
    "print(list(\"Python\"))"
   ]
  },
  {
   "cell_type": "markdown",
   "id": "eb7f179d",
   "metadata": {},
   "source": [
    "### 4. Генераторы списков\n",
    "\n",
    "Примеры генераторов списков (list comprehensions):"
   ]
  },
  {
   "cell_type": "code",
   "execution_count": null,
   "id": "c92ff4eb",
   "metadata": {},
   "outputs": [],
   "source": [
    "cubes = [x**3 for x in range(6)]\n",
    "odds = [x for x in range(10) if x % 2 != 0]\n",
    "print(\"Кубы чисел:\", cubes)\n",
    "print(\"Нечетные числа:\", odds)"
   ]
  },
  {
   "cell_type": "markdown",
   "id": "6c73942d",
   "metadata": {},
   "source": [
    "### 5. Основные методы списков\n",
    "\n",
    "Примеры использования основных методов:"
   ]
  },
  {
   "cell_type": "code",
   "execution_count": null,
   "id": "013459b6",
   "metadata": {},
   "outputs": [],
   "source": [
    "lst = [3, 1, 2, 1]\n",
    "lst.append(4)\n",
    "lst.extend([5, 6])\n",
    "lst.insert(0, 7)\n",
    "lst.remove(1)\n",
    "popped = lst.pop()\n",
    "print(\"После всех операций:\", lst)\n",
    "print(\"Удаленный элемент:\", popped)\n",
    "lst.clear()\n",
    "print(\"Список после clear():\", lst)"
   ]
  },
  {
   "cell_type": "markdown",
   "id": "544f300c",
   "metadata": {},
   "source": [
    "## Практическое задание\n",
    "\n",
    "Выполните следующие действия:\n",
    "1. Создайте список из строки \"Python is awesome\", разделив её по пробелам.\n",
    "2. Добавьте число 42 в конец списка.\n",
    "3. Удалите первый элемент списка.\n",
    "4. Создайте новый список кубов чисел от 1 до 10.\n",
    "5. Отсортируйте список кубов по убыванию.\n",
    "\n",
    "Решение:"
   ]
  },
  {
   "cell_type": "code",
   "execution_count": null,
   "id": "0433e67b",
   "metadata": {},
   "outputs": [],
   "source": [
    "# Ваше решение:"
   ]
  },
  {
   "cell_type": "code",
   "execution_count": null,
   "id": "a8c41ae0",
   "metadata": {},
   "outputs": [],
   "source": [
    "# Решение практического задания\n",
    "lst = \"Python is awesome\".split()\n",
    "print(\"Шаг 1:\", lst)\n",
    "lst.append(42)\n",
    "print(\"Шаг 2:\", lst)\n",
    "lst.pop(0)\n",
    "print(\"Шаг 3:\", lst)\n",
    "cubes = [x**3 for x in range(1, 11)]\n",
    "print(\"Шаг 4:\", cubes)\n",
    "cubes.sort(reverse=True)\n",
    "print(\"Шаг 5:\", cubes)"
   ]
  },
  {
   "cell_type": "markdown",
   "id": "2872f1c8",
   "metadata": {},
   "source": [
    "<br>\n",
    "\n",
    "---\n",
    "\n",
    "<br>\n",
    "\n",
    "##### 📬 Author:\n",
    "\n",
    "**Siergej Sobolewski**  \n",
    "\n",
    "[![Email 🚀](https://img.shields.io/badge/Email-s.sobolewski@hotmail.com-blue?logo=protonmail)](mailto:s.sobolewski@hotmail.com)\n",
    "[![GitHub](https://img.shields.io/badge/GitHub-SSobol77-blue?logo=github)](https://github.com/SSobol77)\n",
    "[![LinkedIn](https://img.shields.io/badge/LinkedIn-Connect-blue?logo=linkedin)](https://linkedin.com/in/siergej-s-25a16319a)\n",
    "\n",
    "<br>\n"
   ]
  }
 ],
 "metadata": {
  "language_info": {
   "name": "python"
  }
 },
 "nbformat": 4,
 "nbformat_minor": 5
}
