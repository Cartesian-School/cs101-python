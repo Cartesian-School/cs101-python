{
 "cells": [
  {
   "cell_type": "markdown",
   "metadata": {},
   "source": [
    "# 1. Типы данных\n",
    "\n",
    "Используйте установленный на компьютере редактор, например Spyder или Visual Studio Code. Если вы хотите попробовать писать код без установки программ, воспользуйтесь этим онлайн-редактором: https://www.pythonanywhere.com/try-ipython/\n",
    "\n",
    "## Комментарии в коде\n",
    "Чтобы пояснить код, в Python можно использовать комментарии — достаточно поставить перед строкой символ `#`. Всё, что находится на этой строке после `#`, не будет интерпретироваться как код:\n",
    "\n"
   ]
  },
  {
   "cell_type": "code",
   "execution_count": 2,
   "metadata": {},
   "outputs": [
    {
     "data": {
      "text/plain": [
       "'\\nЭто многострочный комментарий \\n    и он тоже не будет \\n         интерпретироваться \\n                        как код\\n'"
      ]
     },
     "execution_count": 2,
     "metadata": {},
     "output_type": "execute_result"
    }
   ],
   "source": [
    "# Это строчный комментарий и он не будет интерпретироваться как код\n",
    "\n",
    "\n",
    "\"\"\"\n",
    "Это многострочный комментарий \n",
    "    и он тоже не будет \n",
    "         интерпретироваться \n",
    "                        как код\n",
    "\"\"\"\n"
   ]
  },
  {
   "cell_type": "markdown",
   "metadata": {},
   "source": [
    "### Целые числа - Integers (`int`)"
   ]
  },
  {
   "cell_type": "code",
   "execution_count": 1,
   "metadata": {},
   "outputs": [],
   "source": [
    "# Integers\n",
    "a = 2\n",
    "b = 239"
   ]
  },
  {
   "cell_type": "markdown",
   "metadata": {},
   "source": [
    "### Числа с плавающей запятой  - Floating point numbers (`float`)"
   ]
  },
  {
   "cell_type": "code",
   "execution_count": 2,
   "metadata": {},
   "outputs": [],
   "source": [
    "# Floats\n",
    "c = 2.1\n",
    "d = 239.0"
   ]
  },
  {
   "cell_type": "markdown",
   "metadata": {},
   "source": [
    "### Строки - Strings (`str`)"
   ]
  },
  {
   "cell_type": "code",
   "execution_count": 3,
   "metadata": {},
   "outputs": [],
   "source": [
    "e = 'Hello world!'\n",
    "my_text = 'This is my text'"
   ]
  },
  {
   "cell_type": "markdown",
   "metadata": {},
   "source": [
    "- Кавычки"
   ]
  },
  {
   "cell_type": "markdown",
   "metadata": {},
   "source": [
    "Оба варианта кавычек — двойные `\"` и одинарные `'` — могут использоваться для обозначения строк.  \n",
    "Если в строке должен присутствовать апостроф, то в качестве внешних кавычек рекомендуется использовать двойные `\"`:\n",
    "\n",
    "\n",
    "```python\n",
    "\"Варшава'25 - это Варшава 2025 года\"  # Апостроф внутри строки — используем двойные кавычки\n",
    "\n",
    "'Он сказал: \"Привет!\"'      # Кавычки внутри строки — используем одинарные\n",
    "```"
   ]
  },
  {
   "cell_type": "code",
   "execution_count": null,
   "metadata": {},
   "outputs": [
    {
     "data": {
      "text/plain": [
       "'Он сказал: \"Привет!\"'"
      ]
     },
     "execution_count": 3,
     "metadata": {},
     "output_type": "execute_result"
    }
   ],
   "source": [
    "print(\"Варшава'25 - это Варшава 2025 года\")  # Апостроф внутри строки — используем двойные кавычки\n",
    "\n",
    "print('Он сказал: \"Привет!\"')      # Кавычки внутри строки — используем одинарные"
   ]
  },
  {
   "cell_type": "markdown",
   "metadata": {},
   "source": [
    "Альтернативно, можно использовать символ \\ как экран (escape-символ), чтобы \"защитить\" специальные символы внутри строки:\n",
    "\n",
    "```python\n",
    "'Варшава \\'25 - это Варшава 2025 года'     # Экранированный апостроф \n",
    "```"
   ]
  },
  {
   "cell_type": "code",
   "execution_count": null,
   "metadata": {},
   "outputs": [
    {
     "data": {
      "text/plain": [
       "\"Barack's last name is Obama\""
      ]
     },
     "execution_count": 4,
     "metadata": {},
     "output_type": "execute_result"
    }
   ],
   "source": [
    "print('Варшава\\'25 - это Варшава 2025 года')  # Экранированный апостроф\n",
    "\n",
    "print(\"Он сказал: \\\"Привет!\\\"\")        # Экранированные кавычки"
   ]
  },
  {
   "cell_type": "markdown",
   "metadata": {},
   "source": [
    "**Также с помощью `\\` можно вставлять управляющие символы:**\n",
    "\n",
    "- \\n — перевод строки\n",
    "\n",
    "- \\t — табуляция\n",
    "\n",
    "- \\\\\\ — обратный слэш"
   ]
  },
  {
   "cell_type": "code",
   "execution_count": null,
   "metadata": {},
   "outputs": [],
   "source": [
    "print(\"Привет,\\nмир!\")     # \\n — перевод строки\n",
    "\n",
    "print(\"Имя:\\tИван\")        # \\t — табуляция\n",
    "\n",
    "print(\"Путь: C:\\\\Users\\\\Ivan\")  # \\\\ — обратный слэш\n"
   ]
  },
  {
   "cell_type": "markdown",
   "metadata": {},
   "source": [
    "> Обратите внимание, что строки являются ***Неизменяемыми (immutable)*** , что означает, что они не могут быть изменены после создания. Однако их можно скопировать, затем обработать и после этого сохранить в новой переменной."
   ]
  },
  {
   "cell_type": "markdown",
   "metadata": {},
   "source": [
    "### Логический тип - Boolean (`bool`)"
   ]
  },
  {
   "cell_type": "markdown",
   "metadata": {},
   "source": [
    "Логический тип (`bool`) принимает только два значения:\n",
    "\n",
    "```python\n",
    "x = True  # истина\n",
    "y = False # ложь\n",
    "```\n",
    "\n",
    "Тип `bool` в Python используется для представления логических значений: `True` (истина) и `False` (ложь).  \n",
    "Эти значения часто используются в условиях, циклах и логических выражениях.\n",
    "\n",
    "Пример:"
   ]
  },
  {
   "cell_type": "code",
   "execution_count": null,
   "metadata": {},
   "outputs": [],
   "source": [
    "is_sunny = True\n",
    "is_raining = False"
   ]
  },
  {
   "cell_type": "code",
   "execution_count": null,
   "metadata": {},
   "outputs": [],
   "source": [
    "print(\"На улице солнечно:\", is_sunny)\n",
    "print(\"Идёт дождь:\", is_raining)\n",
    "\n",
    "print(type(is_sunny,is_raining)) #  узнаем тип наших переменных"
   ]
  },
  {
   "cell_type": "markdown",
   "metadata": {},
   "source": [
    "Тип `bool` особенно полезен для проверки выражений, которые могут быть истинными или ложными.\n",
    "\n",
    "Пример:"
   ]
  },
  {
   "cell_type": "code",
   "execution_count": null,
   "metadata": {},
   "outputs": [],
   "source": [
    "is_ready = True\n",
    "print(\"Готово?\", is_ready)  # Вывод: Готово? True\n",
    "\n",
    "is_empty = False\n",
    "print(\"Список пустой?\", is_empty)  # Вывод: Список пустой? False\n"
   ]
  },
  {
   "cell_type": "markdown",
   "metadata": {},
   "source": [
    "**Логические выражения:**"
   ]
  },
  {
   "cell_type": "code",
   "execution_count": null,
   "metadata": {},
   "outputs": [],
   "source": [
    "a = 5\n",
    "b = 10\n",
    "\n",
    "print(a > b)      # False\n",
    "print(a != b)     # True\n",
    "print(a <= 5)     # True\n",
    "\n"
   ]
  },
  {
   "cell_type": "markdown",
   "metadata": {},
   "source": [
    "**Логические операторы:**"
   ]
  },
  {
   "cell_type": "code",
   "execution_count": null,
   "metadata": {},
   "outputs": [],
   "source": [
    "x = True\n",
    "y = False\n",
    "\n",
    "print(x and y)   # False — оба должны быть True\n",
    "print(x or y)    # True  — хотя бы один True\n",
    "print(not x)     # False — инверсия True\n"
   ]
  },
  {
   "cell_type": "markdown",
   "metadata": {},
   "source": [
    "---"
   ]
  },
  {
   "cell_type": "markdown",
   "metadata": {},
   "source": [
    "### Python — это язык с динамической типизацией\n",
    "\n",
    "Как вы могли заметить, в Python **не нужно заранее указывать тип переменной** перед её созданием.  \n",
    "Это потому, что Python — это *язык с динамической типизацией*.\n",
    "\n",
    "В *языке со статической типизацией*, например C++, объявление переменной `a` выглядело бы так:\n",
    "\n",
    "```c++\n",
    "int a;\n",
    "a = 5;\n",
    "```\n",
    "\n",
    "В Python это не так. Он автоматически определяет, какой тип присвоить каждой переменной в фоновом режиме.\n",
    "\n",
    "Это не означает, что Python \"умнее\" других языков, он просто так реализован автором языка, который заставил его вести себя таким образом. В этом есть как свои преимущества, так и стать источником ошибок, особенно если не следить за типами переменных во время разработки.\n",
    "\n",
    "Динамическая типизация также означает, что переменные могут изменять типы на протяжении всей программы, поэтому допустимо что-то вроде этого:\n",
    "\n",
    "```python\n",
    "a = 5\n",
    "a = 'Hi'\n",
    "```\n",
    "\n",
    "Гибкость хороша, но может привести к неожиданному поведению кода, если не отслеживать переменные. "
   ]
  },
  {
   "cell_type": "code",
   "execution_count": null,
   "metadata": {},
   "outputs": [],
   "source": [
    "a = 5\n",
    "print(a)\n",
    "a = \"Привет!\"\n",
    "print(a)"
   ]
  },
  {
   "cell_type": "markdown",
   "metadata": {},
   "source": [
    "---"
   ]
  },
  {
   "cell_type": "markdown",
   "metadata": {},
   "source": [
    "## Вычисления с типами данных"
   ]
  },
  {
   "cell_type": "markdown",
   "metadata": {},
   "source": [
    "### Стандартные операции, как в калькуляторе\n",
    "\n",
    "Большинство базовых операций с целыми числами (`int`) и числами с плавающей точкой (`float`) работают так, как ожидается:\n",
    "\n",
    "| Операция          | Синтаксис     | Пример             | Результат |\n",
    "|-------------------|---------------|--------------------|-----------|\n",
    "| Сложение          | `+`           | `5 + 3`            | `8`       |\n",
    "| Вычитание         | `-`           | `10 - 4`           | `6`       |\n",
    "| Умножение         | `*`           | `2 * 7`            | `14`      |\n",
    "| Деление (float)   | `/`           | `10 / 4`           | `2.5`     |\n",
    "| Деление (целое)   | `//`          | `10 // 4`          | `2`       |\n",
    "| Остаток от деления| `%`           | `10 % 4`           | `2`       |\n",
    "| Возведение в степень | `**`        | `2 ** 3`           | `8`       |\n",
    "\n",
    "\n",
    "\n",
    "#### Примеры в коде:\n"
   ]
  },
  {
   "cell_type": "code",
   "execution_count": null,
   "metadata": {},
   "outputs": [
    {
     "data": {
      "text/plain": [
       "8"
      ]
     },
     "execution_count": 6,
     "metadata": {},
     "output_type": "execute_result"
    }
   ],
   "source": [
    "print(5 + 3)      # 8"
   ]
  },
  {
   "cell_type": "code",
   "execution_count": null,
   "metadata": {},
   "outputs": [
    {
     "data": {
      "text/plain": [
       "0.4"
      ]
     },
     "execution_count": 7,
     "metadata": {},
     "output_type": "execute_result"
    }
   ],
   "source": [
    "print(10 - 4)     # 6"
   ]
  },
  {
   "cell_type": "code",
   "execution_count": null,
   "metadata": {},
   "outputs": [
    {
     "data": {
      "text/plain": [
       "10.5"
      ]
     },
     "execution_count": 8,
     "metadata": {},
     "output_type": "execute_result"
    }
   ],
   "source": [
    "print(10 / 4)     # 2.5"
   ]
  },
  {
   "cell_type": "markdown",
   "metadata": {},
   "source": [
    "### Возведение в степень\n",
    "\n",
    "В Python возведение в степень обозначается оператором `**`:\n",
    "\n",
    "📌 В Python `**` — это встроенный оператор, поэтому не нужно импортировать никаких библиотек для возведения в степень."
   ]
  },
  {
   "cell_type": "code",
   "execution_count": null,
   "metadata": {},
   "outputs": [],
   "source": [
    "2**3"
   ]
  },
  {
   "cell_type": "code",
   "execution_count": null,
   "metadata": {},
   "outputs": [
    {
     "data": {
      "text/plain": [
       "8"
      ]
     },
     "execution_count": 9,
     "metadata": {},
     "output_type": "execute_result"
    }
   ],
   "source": [
    "print(2 ** 3)     # 8"
   ]
  },
  {
   "cell_type": "markdown",
   "metadata": {},
   "source": [
    "Вы также можете использовать отрицательные степени:"
   ]
  },
  {
   "cell_type": "code",
   "execution_count": null,
   "metadata": {},
   "outputs": [],
   "source": [
    "print(2 ** -1)   # 0.5, то есть 1 / 2\n",
    "print(4 ** -2)   # 0.0625, потому что 1 / (4 * 4)"
   ]
  },
  {
   "cell_type": "code",
   "execution_count": null,
   "metadata": {},
   "outputs": [],
   "source": []
  },
  {
   "cell_type": "markdown",
   "metadata": {},
   "source": [
    "> ⚠️ **Внимание**:\n",
    ">  \n",
    "> Oператор `^` **не используется** в Python для возведения в степень!\n",
    "> \n",
    "> В отличие от многих других языков, в Python `^` — это **побитовый XOR (исключающее ИЛИ)**.\n",
    "\n",
    "##### ❌ Ошибочный пример:"
   ]
  },
  {
   "cell_type": "code",
   "execution_count": null,
   "metadata": {},
   "outputs": [],
   "source": [
    "print(2 ^ 3)  # НЕ 8!"
   ]
  },
  {
   "cell_type": "markdown",
   "metadata": {},
   "source": [
    "Ожидается, что получим `8` (`2` в степени `3`), но результат будет `1`, потому что Python выполняет побитовую операцию `XOR`:\n",
    "\n",
    "`2` в двоичной системе:  `010`\n",
    "\n",
    "`3` в двоичной системе:  `011`\n",
    "\n",
    "**Результат `XOR`:**       `001 => 1`\n",
    "\n",
    "<br>"
   ]
  },
  {
   "cell_type": "markdown",
   "metadata": {},
   "source": [
    "### Целочисленное деление\n",
    "\n",
    "Целочисленное деление в Python обозначается оператором `//`.\n",
    "\n",
    "Оно возвращает **только целую часть** результата деления, **отбрасывая дробную часть** (округление вниз).\n",
    "\n",
    "<br>\n",
    "\n",
    "> Что значит \"округление вниз\" или \"округляет в меньшую сторону\" или \"в сторону пола\"?\n",
    ">\n",
    "> Все эти фразы означают что результат целочисленного деления всегда будет ближайшим меньшим целым числом по отношению к точному результату деления.\n",
    ">\n",
    "> Термин \"пол\" (от англ. floor ) используется в математике для обозначения функции, которая округляет число вниз до ближайшего целого !!!\n",
    ">\n",
    "> Таким образом, \"пол\" — это метафора, которая означает \"самое низкое значение\" на числовой оси.\n",
    "\n",
    "<br>\n",
    "\n",
    "**Примеры:**"
   ]
  },
  {
   "cell_type": "code",
   "execution_count": null,
   "metadata": {},
   "outputs": [
    {
     "data": {
      "text/plain": [
       "3"
      ]
     },
     "execution_count": 10,
     "metadata": {},
     "output_type": "execute_result"
    }
   ],
   "source": [
    "print(7 // 2)   # 3, потому что 7 / 2 = 3.5, а целая часть — 3\n",
    "\n",
    "print(10 // 3)  # 3\n",
    "\n",
    "print(9 // 3)   # 3, делится нацело  отсутствует дробная часть"
   ]
  },
  {
   "cell_type": "markdown",
   "metadata": {},
   "source": [
    "> 🚫 Важно:\n",
    "> \n",
    "> Это не то же самое, что обычное деление `/`, которое возвращает число с плавающей точкой `(float)`:"
   ]
  },
  {
   "cell_type": "code",
   "execution_count": null,
   "metadata": {},
   "outputs": [],
   "source": [
    "print(7 / 2)   # 3.5 — обычное деление\n",
    "\n",
    "print(7 // 2)  # 3   — целая часть "
   ]
  },
  {
   "cell_type": "markdown",
   "metadata": {},
   "source": [
    "🔁 С отрицательными числами:"
   ]
  },
  {
   "cell_type": "code",
   "execution_count": null,
   "metadata": {},
   "outputs": [],
   "source": [
    "print(-7 // 2)   # -4, потому что -3.5 округляется вниз до -4\n",
    "\n",
    "print(7 // -2)   # -4"
   ]
  },
  {
   "cell_type": "code",
   "execution_count": null,
   "metadata": {},
   "outputs": [],
   "source": [
    "-7 // 3 = -3  # внимание обратите на результат округления:  -2 больше, чем -2.333  !!!"
   ]
  },
  {
   "cell_type": "markdown",
   "metadata": {},
   "source": [
    "📌 Почему важно понимать \"пол\"?\n",
    "\n",
    "Если бы целочисленное деление просто отбрасывало дробную часть, не учитывая знак числа, результат мог бы быть некорректным. \n",
    "\n",
    "Как видим в примере выше:\n",
    "\n",
    "- Для -7 / 3 простое отбрасывание дробной части дало бы -2, но это неверно, потому что -2 больше, чем -2.333....\n",
    "  \n",
    "- Поэтому используется правило \"округления вниз\" (к \"полу\"), чтобы гарантировать, что результат всегда будет корректным.\n",
    "\n",
    "<br>"
   ]
  },
  {
   "cell_type": "markdown",
   "metadata": {},
   "source": [
    "### Остаток от деления (оператор `%`)\n",
    "\n",
    "Оператор `%` в Python используется для получения **остатка от деления**.\n",
    "\n",
    "**Примеры:**"
   ]
  },
  {
   "cell_type": "code",
   "execution_count": null,
   "metadata": {},
   "outputs": [],
   "source": [
    "print(7 % 3)   # 1, потому что 7 = 2 * 3 + 1"
   ]
  },
  {
   "cell_type": "code",
   "execution_count": null,
   "metadata": {},
   "outputs": [],
   "source": [
    "print(10 % 4)  # 2, потому что 10 = 2 * 4 + 2"
   ]
  },
  {
   "cell_type": "code",
   "execution_count": null,
   "metadata": {},
   "outputs": [],
   "source": [
    "print(9 % 3)   # 0, потому что 9 делится на 3 без остатка"
   ]
  },
  {
   "cell_type": "markdown",
   "metadata": {},
   "source": [
    "<br>\n",
    "\n",
    "🧠 Как это работает:\n",
    "\n",
    "Оператор `%` возвращает остаток после деления первого числа на второе:\n",
    "\n",
    "```css\n",
    "a % b  →  остаток от деления a на b\n",
    "```\n",
    "\n",
    "<br>"
   ]
  },
  {
   "cell_type": "markdown",
   "metadata": {},
   "source": [
    "🔁 С отрицательными числами:\n",
    "\n",
    "⚠️ Python сохраняет знак делителя, а результат ***всегда*** имеет тот же знак, что и делитель:"
   ]
  },
  {
   "cell_type": "code",
   "execution_count": null,
   "metadata": {},
   "outputs": [],
   "source": [
    "print(-7 % 3)   # 2, потому что -7 = (-3)*3 + 2\n",
    "\n",
    "print(7 % -3)   # -2"
   ]
  },
  {
   "cell_type": "markdown",
   "metadata": {},
   "source": [
    "##### 📦 Часто используется для:\n",
    "\n",
    "1. Вычисления чётности: условие `x % 2 == 0` — число чётное, если  нет , то число нечетное \n",
    "\n",
    "2. Работы с циклами, например, \"каждый третий элемент\"\n",
    "  \n",
    "\n",
    "Забегая вперёд покажу организацию \"кольцевой\" логики (например, по модулю 24 — часы, 12 — месяцы и т.д.)"
   ]
  },
  {
   "cell_type": "markdown",
   "metadata": {},
   "source": [
    "<br>\n",
    "\n",
    "##### 1. Как работает проверка чётности через `x % 2`?\n",
    "\n",
    "Чётное число — это число, которое делится на 2 без остатка. То есть:\n",
    "\n",
    "- Если `x % 2 == 0`, то число чётное , потому что остаток от деления на 2 равен нулю.\n",
    "\n",
    "- Если `x % 2 != 0` (или `x % 2 == 1` для положительных чисел), то число нечётное , потому что при делении остаётся остаток."
   ]
  },
  {
   "cell_type": "markdown",
   "metadata": {},
   "source": [
    "**Примеры**\n",
    "\n",
    "- Чётные числа:"
   ]
  },
  {
   "cell_type": "code",
   "execution_count": null,
   "metadata": {},
   "outputs": [],
   "source": [
    "4 % 2 == 0  # True, потому что 4 делится на 2 без остатка\n",
    "\n",
    "10 % 2 == 0  # True, потому что 10 делится на 2 без остатка"
   ]
  },
  {
   "cell_type": "markdown",
   "metadata": {},
   "source": [
    "- Нечётные числа:"
   ]
  },
  {
   "cell_type": "code",
   "execution_count": null,
   "metadata": {},
   "outputs": [],
   "source": [
    "7 % 2 == 0  # False, потому что остаток равен 1\n",
    "\n",
    "15 % 2 == 0  # False, потому что остаток равен 1"
   ]
  },
  {
   "cell_type": "markdown",
   "metadata": {},
   "source": [
    "**Пример условия:**"
   ]
  },
  {
   "cell_type": "code",
   "execution_count": null,
   "metadata": {},
   "outputs": [],
   "source": [
    "x = 17\n",
    "if x % 2 == 0:\n",
    "    print(\"Чётное число\")\n",
    "else:\n",
    "    print(\"Нечётное число\")"
   ]
  },
  {
   "cell_type": "markdown",
   "metadata": {},
   "source": [
    "**Как это работает с отрицательными числами?**\n",
    "\n",
    "Оператор `%` работает корректно даже с отрицательными числами. \n",
    "\n",
    "Остаток всегда будет таким, чтобы результат соответствовал правилам чётности:"
   ]
  },
  {
   "cell_type": "code",
   "execution_count": null,
   "metadata": {},
   "outputs": [],
   "source": [
    "-4 % 2 == 0  # → Чётное (делится на 2 без остатка).\n",
    "\n",
    "-7 % 2 == 1  # → Нечётное (остаток равен 1)."
   ]
  },
  {
   "cell_type": "markdown",
   "metadata": {},
   "source": [
    "**Подводя итог:**\n",
    "\n",
    "Условие `x % 2 == 0` — это простой и надёжный способ проверить, является ли число чётным:\n",
    "\n",
    "Если `x % 2 == 0`, то число чётное .\n",
    "\n",
    "Если `x % 2 != 0`, то число нечётное  `!=` - означает неравно.\n",
    "\n",
    "Ответ: Да, условие x % 2 == 0 верно определяет чётность числа. Если оно выполняется, число чётное, иначе — нечётное.\n",
    "\n",
    "<br>"
   ]
  },
  {
   "cell_type": "markdown",
   "metadata": {},
   "source": [
    "##### 2. Работа с циклами"
   ]
  },
  {
   "cell_type": "markdown",
   "metadata": {},
   "source": [
    "Давайте разберем и объясним, как работает логика с использованием оператора `%` (остаток от деления) в контекстах: \"каждый третий элемент\" и \"кольцевая логика\"."
   ]
  },
  {
   "cell_type": "markdown",
   "metadata": {},
   "source": [
    "Кольцевая логика используется, когда нужно \"зациклить\" значения в пределах определённого диапазона. \n",
    "\n",
    "Например:\n",
    "\n",
    "- Часы имеют цикл из 24 часов.\n",
    "\n",
    "- Месяцы имеют цикл из 12 месяцев.\n",
    "\n",
    "Оператор % помогает \"обернуть\" значение обратно в начало цикла, если оно превышает максимальное значение.\n",
    "\n",
    "<br>"
   ]
  },
  {
   "cell_type": "markdown",
   "metadata": {},
   "source": [
    "**Пример:** \n",
    "\n",
    "Кольцевая логика для часов\n",
    "\n",
    "Предположим, у нас есть время в часах, и мы хотим вычислить, какое время будет через x часов после полуночи:"
   ]
  },
  {
   "cell_type": "code",
   "execution_count": null,
   "metadata": {},
   "outputs": [],
   "source": [
    "x = 17  # Через 17 часов после полуночи\n",
    "\n",
    "current_hour = x % 24  # Остаток от деления на 24\n",
    "\n",
    "print(f\"Через {x} часов будет {current_hour} часов.\")"
   ]
  },
  {
   "cell_type": "markdown",
   "metadata": {},
   "source": [
    "Результат: Через 17 часов будет 17 часов.\n",
    "\n",
    "Но если x = 30 (то есть через 30 часов после полуночи):"
   ]
  },
  {
   "cell_type": "code",
   "execution_count": null,
   "metadata": {},
   "outputs": [],
   "source": [
    "x = 30\n",
    "\n",
    "current_hour = x % 24\n",
    "\n",
    "print(f\"Через {x} часов будет {current_hour} часов.\")"
   ]
  },
  {
   "cell_type": "markdown",
   "metadata": {},
   "source": [
    "Здесь 30 % 24 = 6, так как после завершения полного цикла в 24 часа остаётся ещё 6 часов.\n",
    "\n",
    "<br>"
   ]
  },
  {
   "cell_type": "markdown",
   "metadata": {},
   "source": [
    "---"
   ]
  },
  {
   "cell_type": "markdown",
   "metadata": {},
   "source": [
    "<br>\n",
    "\n",
    "### Строки в Python (`str`) - string\n",
    "\n",
    "#### 📘 Что такое строки?\n",
    "\n",
    "**Строка** — это последовательность символов: буквы, цифры, пробелы, знаки препинания и т.д.  \n",
    "В Python строки относятся к типу данных `str` (от \"string\").\n",
    "\n",
    "<br>\n",
    "\n",
    "#### 🔤 Как обозначаются строки?\n",
    "\n",
    "Строки можно записывать с помощью **одинарных** `'...'` или **двойных** кавычек `\"...\"`:\n",
    "\n",
    "```python\n",
    "text1 = 'Привет'\n",
    "text2 = \"Мир\"\n",
    "```\n",
    "\n",
    "Оба варианта работают одинаково.\n",
    "\n",
    "- Если в строке есть кавычка одного типа, удобно использовать другой тип для внешней оболочки:"
   ]
  },
  {
   "cell_type": "code",
   "execution_count": null,
   "metadata": {},
   "outputs": [],
   "source": [
    "message = \"Это строка с апострофом: 'Пример'\"\n",
    "\n",
    "quote = 'Он сказал: \"Учиться — это важно.\"'\n",
    "\n",
    "print(type(message)) #определим тип переменной message"
   ]
  },
  {
   "cell_type": "markdown",
   "metadata": {},
   "source": [
    "- Также можно использовать тройные кавычки ('''...''' или \"\"\"...\"\"\") для многострочных строк:"
   ]
  },
  {
   "cell_type": "code",
   "execution_count": null,
   "metadata": {},
   "outputs": [],
   "source": [
    "multiline = \"\"\"Это строка\n",
    "на несколько\n",
    "строк\"\"\"\n",
    "\n",
    "print(multiline)"
   ]
  },
  {
   "cell_type": "markdown",
   "metadata": {},
   "source": [
    "<br>\n",
    "\n",
    "### 🧪 Операции со строками\n",
    "\n",
    "#### ➕ Конкатенация (сложение строк)\n",
    "\n",
    "Оператор `+` объединяет строки:"
   ]
  },
  {
   "cell_type": "code",
   "execution_count": null,
   "metadata": {},
   "outputs": [
    {
     "data": {
      "text/plain": [
       "'Bruce Wayne'"
      ]
     },
     "execution_count": 12,
     "metadata": {},
     "output_type": "execute_result"
    }
   ],
   "source": [
    "first = \"Иван\"\n",
    "last = \"Иванов\"\n",
    "\n",
    "full_name = first + \" \" + last\n",
    "\n",
    "print(full_name)  # Иван Иванов"
   ]
  },
  {
   "cell_type": "markdown",
   "metadata": {},
   "source": [
    "#### `*` **Повторение строк** (Multiplication)\n",
    "\n",
    "Оператор `*` повторяет строку заданное число раз:"
   ]
  },
  {
   "cell_type": "code",
   "execution_count": null,
   "metadata": {},
   "outputs": [],
   "source": [
    "'a' * 3"
   ]
  },
  {
   "cell_type": "code",
   "execution_count": null,
   "metadata": {},
   "outputs": [],
   "source": [
    "print(\"Привет! \" * 3)  # Привет! Привет! Привет!"
   ]
  },
  {
   "cell_type": "markdown",
   "metadata": {},
   "source": [
    "<br>\n",
    "\n",
    "###  🔄 **Преобразование типов**\n",
    "\n",
    "\n",
    "### Что такое преобразование типов (`Type Conversion`)\n",
    "\n",
    "**Преобразование типов** — это процесс **превращения значения одного типа данных в другой**.\n",
    "\n",
    "В Python это делается с помощью **встроенных функций**, таких как:\n",
    "\n",
    "<br>\n",
    "\n",
    "| Функция        | Назначение                         | Пример               |\n",
    "|----------------|------------------------------------|----------------------|\n",
    "| `int()`        | Преобразовать в целое число (`int`) | `int(\"42\") → 42`     |\n",
    "| `float()`      | Преобразовать в число с точкой (`float`) | `float(\"3.14\") → 3.14` |\n",
    "| `str()`        | Преобразовать в строку (`str`)     | `str(100) → \"100\"`   |\n",
    "| `bool()`       | Преобразовать в логическое значение (`bool`) | `bool(\"\") → False` |\n",
    "\n",
    "<br>\n",
    "\n",
    "### 📘 Зачем нужно преобразование типов?\n",
    "\n",
    "В Python разные типы нельзя смешивать напрямую, например нельзя соединять строку и число напрямую — нужно преобразовать число в строку:"
   ]
  },
  {
   "cell_type": "code",
   "execution_count": null,
   "metadata": {},
   "outputs": [],
   "source": [
    "age = 25\n",
    "\n",
    "# print(\"Мне \" + age + \" лет\")  ❌ Ошибка: нельзя сложить строку и число"
   ]
  },
  {
   "cell_type": "markdown",
   "metadata": {},
   "source": [
    "✅ **Нужно привести число к строке:**"
   ]
  },
  {
   "cell_type": "code",
   "execution_count": null,
   "metadata": {},
   "outputs": [],
   "source": [
    "print(\"Мне \" + str(age) + \" лет\")  # ✅ Мне 25 лет "
   ]
  },
  {
   "cell_type": "markdown",
   "metadata": {},
   "source": [
    "**🧪 Примеры преобразований:**"
   ]
  },
  {
   "cell_type": "code",
   "execution_count": null,
   "metadata": {},
   "outputs": [],
   "source": [
    "# строка в число\n",
    "num1 = int(\"10\")     # 10\n",
    "num2 = float(\"3.14\") # 3.14\n",
    "\n",
    "# число в строку\n",
    "text = str(123)      # \"123\"\n",
    "\n",
    "# пустая строка в логическое значение\n",
    "print(bool(\"\"))      # False\n",
    "print(bool(\"текст\")) # True\n"
   ]
  },
  {
   "cell_type": "markdown",
   "metadata": {},
   "source": [
    "⚠️ Если строка не выглядит как число — будет ошибка:"
   ]
  },
  {
   "cell_type": "code",
   "execution_count": null,
   "metadata": {},
   "outputs": [],
   "source": [
    "int(\"abc\")  # ❌ ValueError: invalid literal for int()"
   ]
  },
  {
   "cell_type": "markdown",
   "metadata": {},
   "source": [
    "📌 Преобразование типов — это явное указание Python'у, как интерпретировать данные. Это важно для правильной работы кода, особенно при вводе данных, форматировании, арифметике и логике."
   ]
  },
  {
   "cell_type": "markdown",
   "metadata": {},
   "source": [
    "### 🚫 Вычитание и деление строк\n",
    "\n",
    "В Python **нельзя вычитать или делить строки** — такие операции приведут к ошибке.\n",
    "\n",
    "<br>\n",
    "\n",
    "#### ❌ Примеры недопустимых операций:\n",
    "\n",
    "```python\n",
    "'a' / 3     # Ошибка: нельзя делить строку на число\n",
    "'a' - 'b'   # Ошибка: нельзя вычитать одну строку из другой\n",
    "```"
   ]
  },
  {
   "cell_type": "code",
   "execution_count": 4,
   "metadata": {},
   "outputs": [
    {
     "ename": "TypeError",
     "evalue": "unsupported operand type(s) for /: 'str' and 'int'",
     "output_type": "error",
     "traceback": [
      "\u001b[1;31m---------------------------------------------------------------------------\u001b[0m",
      "\u001b[1;31mTypeError\u001b[0m                                 Traceback (most recent call last)",
      "Cell \u001b[1;32mIn[4], line 1\u001b[0m\n\u001b[1;32m----> 1\u001b[0m \u001b[38;5;124;43m'\u001b[39;49m\u001b[38;5;124;43ma\u001b[39;49m\u001b[38;5;124;43m'\u001b[39;49m\u001b[43m \u001b[49m\u001b[38;5;241;43m/\u001b[39;49m\u001b[43m \u001b[49m\u001b[38;5;241;43m3\u001b[39;49m    \u001b[38;5;66;03m# Division results in error\u001b[39;00m\n",
      "\u001b[1;31mTypeError\u001b[0m: unsupported operand type(s) for /: 'str' and 'int'"
     ]
    }
   ],
   "source": [
    "'a' / 3    # Division results in error"
   ]
  },
  {
   "cell_type": "code",
   "execution_count": 5,
   "metadata": {},
   "outputs": [
    {
     "ename": "TypeError",
     "evalue": "unsupported operand type(s) for -: 'str' and 'str'",
     "output_type": "error",
     "traceback": [
      "\u001b[1;31m---------------------------------------------------------------------------\u001b[0m",
      "\u001b[1;31mTypeError\u001b[0m                                 Traceback (most recent call last)",
      "Cell \u001b[1;32mIn[5], line 1\u001b[0m\n\u001b[1;32m----> 1\u001b[0m \u001b[38;5;124;43m'\u001b[39;49m\u001b[38;5;124;43ma\u001b[39;49m\u001b[38;5;124;43m'\u001b[39;49m\u001b[43m \u001b[49m\u001b[38;5;241;43m-\u001b[39;49m\u001b[43m \u001b[49m\u001b[38;5;124;43m'\u001b[39;49m\u001b[38;5;124;43mb\u001b[39;49m\u001b[38;5;124;43m'\u001b[39;49m    \u001b[38;5;66;03m# Subtraction results in error\u001b[39;00m\n",
      "\u001b[1;31mTypeError\u001b[0m: unsupported operand type(s) for -: 'str' and 'str'"
     ]
    }
   ],
   "source": [
    "'a' - 'b'    # Subtraction results in error"
   ]
  },
  {
   "cell_type": "markdown",
   "metadata": {},
   "source": [
    "✅ Так что же можно со строками в Python?\n",
    "\n",
    "Разрешены такие операции:\n",
    "\n",
    "- Сложение (+) → объединение строк\n",
    "\n",
    "- Умножение (*) → повторение строки"
   ]
  },
  {
   "cell_type": "code",
   "execution_count": null,
   "metadata": {},
   "outputs": [],
   "source": [
    "print(\"ab\" + \"cd\")    # abcd\n",
    "\n",
    "print(\"la\" * 3)       # lalala"
   ]
  },
  {
   "cell_type": "markdown",
   "metadata": {},
   "source": [
    "🧠 В Python строки — это не числа, и они не поддерживают \"арифметику\", кроме сложения и умножения.\n",
    "\n",
    "<br>"
   ]
  },
  {
   "cell_type": "markdown",
   "metadata": {},
   "source": [
    "---"
   ]
  },
  {
   "cell_type": "markdown",
   "metadata": {},
   "source": [
    "<br>\n",
    "\n",
    "## Вывод строк с переменными\n",
    "\n",
    "Очень часто возникает необходимость вывести **комбинацию текста и значений переменных**.  \n",
    "\n",
    "Например, при отображении результата вычислений или составлении сообщений.\n",
    "\n",
    "Самый удобный и современный способ сделать это в Python — использовать так называемые **f-строки** (форматированные строки).\n"
   ]
  },
  {
   "cell_type": "markdown",
   "metadata": {},
   "source": [
    "<br>\n",
    "\n",
    "### 🔤 F-строки (f-strings)\n",
    "\n",
    "F-строки начинаются с префикса `f` перед строкой и позволяют **вставлять переменные или выражения прямо внутрь строки**, заключая их в фигурные скобки `{}`.\n",
    "\n",
    "\n",
    "#####  Пример: базовое использование"
   ]
  },
  {
   "cell_type": "code",
   "execution_count": null,
   "metadata": {},
   "outputs": [],
   "source": [
    "a = 2\n",
    "b = 27\n",
    "\n",
    "print(f'Умножение: a * b = {a} * {b} = {a * b}')\n",
    "print(f'Деление: a / b = {a} / {b} = {a / b}')"
   ]
  },
  {
   "cell_type": "markdown",
   "metadata": {},
   "source": [
    "##### 🎯 Форматирование чисел\n",
    "\n",
    "С помощью конструкции `:.xf` можно указать количество знаков после запятой (`x` — это число знаков):"
   ]
  },
  {
   "cell_type": "code",
   "execution_count": null,
   "metadata": {},
   "outputs": [],
   "source": [
    "print(f'Деление с 3 знаками после запятой: {a / b:.3f}')\n",
    "\n",
    "# Результат, деление с 3 знаками после запятой: 0.074"
   ]
  },
  {
   "cell_type": "markdown",
   "metadata": {},
   "source": [
    "##### 📌 В фигурных скобках можно использовать даже вычисления"
   ]
  },
  {
   "cell_type": "code",
   "execution_count": null,
   "metadata": {},
   "outputs": [],
   "source": [
    "print(f'Вычисление прямо в строке: {122**2 / 47}')\n",
    "# Python выполнит выражение 122 в квадрате, разделить на 47, и вставит результат"
   ]
  },
  {
   "cell_type": "markdown",
   "metadata": {},
   "source": [
    "##### ✅ Преимущества f-строк:\n",
    "\n",
    "- Удобочитаемость\n",
    "\n",
    "- Производительность (работают быстрее, чем .format() или конкатенация)\n",
    "\n",
    "- Поддержка любых выражений внутри {}\n",
    "\n",
    "<br>\n"
   ]
  },
  {
   "cell_type": "markdown",
   "metadata": {},
   "source": [
    "---"
   ]
  },
  {
   "cell_type": "markdown",
   "metadata": {},
   "source": [
    "<br>\n",
    "\n",
    "## Встроенная функция: `len()`\n",
    "\n",
    "Функция `len()` возвращает **длину последовательности**, такой как строка, список, кортеж и т.д.\n",
    "\n",
    "<br>\n",
    "\n",
    "### 📏 Пример со строками:"
   ]
  },
  {
   "cell_type": "code",
   "execution_count": null,
   "metadata": {},
   "outputs": [],
   "source": [
    "print(len('aaa'))         # 3 — три символа 'a'"
   ]
  },
  {
   "cell_type": "code",
   "execution_count": null,
   "metadata": {},
   "outputs": [],
   "source": [
    "print(len('a and b'))     # 7 — считаются и пробелы"
   ]
  },
  {
   "cell_type": "code",
   "execution_count": null,
   "metadata": {},
   "outputs": [
    {
     "name": "stdout",
     "output_type": "stream",
     "text": [
      "44\n"
     ]
    }
   ],
   "source": [
    "print(len((f'Вычисление прямо в строке: {122**2 / 47}')))  # 44 количество символов в f-строке"
   ]
  },
  {
   "cell_type": "markdown",
   "metadata": {},
   "source": [
    "⚠️ Пробелы, знаки препинания и спецсимволы — это тоже символы, и они учитываются при подсчёте длины строки.\n"
   ]
  },
  {
   "cell_type": "markdown",
   "metadata": {},
   "source": [
    "📌 Функция `len()` — одна из самых часто используемых в Python. Она универсальна и работает со многими типами данных."
   ]
  },
  {
   "cell_type": "code",
   "execution_count": null,
   "metadata": {},
   "outputs": [],
   "source": [
    "# Списки:\n",
    "items = [1, 2, 3, 4]\n",
    "print(len(items)) \n",
    "\n",
    "# Кортежи:\n",
    "point = (3, 7)\n",
    "print(len(point)) \n",
    "\n",
    "# Строки:\n",
    "text = \"Python 3.13\"\n",
    "print(len(text))  "
   ]
  },
  {
   "cell_type": "markdown",
   "metadata": {},
   "source": [
    "<br>\n",
    "\n",
    "---"
   ]
  },
  {
   "cell_type": "markdown",
   "metadata": {},
   "source": [
    "<br>\n",
    "\n",
    "## Некоторые методы строк\n",
    "\n",
    "В Python строка — это объект, у которого есть множество полезных ***методов*** для работы с текстом. \n",
    "\n",
    "Ниже приведены несколько распространённых примеров:\n",
    "\n",
    "```python\n",
    "name = 'Edward Snowden'\n",
    "```"
   ]
  },
  {
   "cell_type": "code",
   "execution_count": 21,
   "metadata": {},
   "outputs": [],
   "source": [
    "name = 'Edward Snowden'"
   ]
  },
  {
   "cell_type": "markdown",
   "metadata": {},
   "source": [
    "#### 🔁 `string.replace()`\n",
    "\n",
    "Метод `replace()` заменяет одну подстроку на другую в строке:\n",
    "<br>\n",
    "\n",
    "```python\n",
    "string.replace('старый_текст', 'новый_текст')\n",
    "```"
   ]
  },
  {
   "cell_type": "code",
   "execution_count": null,
   "metadata": {},
   "outputs": [
    {
     "data": {
      "text/plain": [
       "'Ed Snowden'"
      ]
     },
     "execution_count": 22,
     "metadata": {},
     "output_type": "execute_result"
    }
   ],
   "source": [
    "name.replace('Edward', 'Ed')  # 'Ed Snowden'"
   ]
  },
  {
   "cell_type": "markdown",
   "metadata": {},
   "source": [
    "🧠 Напоминаем: строки в Python неизменяемы (`immutable`).\n",
    "\n",
    "Это значит, что при изменении строки создаётся новая строка, а не изменяется старая.\n",
    "\n",
    "Исходная переменная `name` останется прежней:"
   ]
  },
  {
   "cell_type": "code",
   "execution_count": null,
   "metadata": {},
   "outputs": [],
   "source": [
    "print(name)  # Edward Snowden"
   ]
  },
  {
   "cell_type": "markdown",
   "metadata": {},
   "source": [
    "Чтобы сохранить результат в переменную с тем же названием `name`, нужно выполнить операцию присваивания:"
   ]
  },
  {
   "cell_type": "code",
   "execution_count": null,
   "metadata": {},
   "outputs": [],
   "source": [
    "name = name.replace('Edward', 'Ed')\n",
    "\n",
    "print(name)  # Ed Snowden"
   ]
  },
  {
   "cell_type": "markdown",
   "metadata": {},
   "source": [
    "##### 1. **Что происходит в коде?**\n",
    "\n",
    "```python\n",
    "name = \"Edward Snowden\"\n",
    "name = name.replace('Edward', 'Ed')\n",
    "print(name)  # Ed Snowden\n",
    "```\n",
    "<br>"
   ]
  },
  {
   "cell_type": "markdown",
   "metadata": {},
   "source": [
    "\n",
    "1. Первоначально переменная `name` ссылается на строку `\"Edward Snowden\"`.\n",
    "   \n",
    "2. Метод `.replace('Edward', 'Ed')` создаёт **новую строку** `\"Ed Snowden\"`, так как строки в Python **неизменяемы** (immutable).\n",
    "   \n",
    "3. Результат метода `.replace()` присваивается обратно переменной `name`.\n",
    "\n",
    "\n",
    "Теперь `name` ссылается на новую строку `\"Ed Snowden\"`, а старая строка `\"Edward Snowden\"` остаётся в памяти до тех пор, пока сборщик мусора Python её не удалит (если на неё больше нет ссылок)."
   ]
  },
  {
   "cell_type": "markdown",
   "metadata": {},
   "source": [
    "<br>\n",
    "\n",
    "#### 2. **Как работает память?**\n",
    "\n",
    "##### Неизменяемость строк\n",
    "\n",
    "> Строки в Python — это **неизменяемые объекты**. \n",
    "\n",
    "> Это означает, что при выполнении операций (например, `.replace()`) исходная строка не изменяется. Вместо этого создаётся новый объект строки.\n",
    "\n",
    "##### Присваивание переменной\n",
    "\n",
    "- Когда вы выполняете присваивание:\n",
    "\n",
    "```python\n",
    "name = name.replace('Edward', 'Ed')\n",
    "\n",
    "```\n",
    "\n",
    "происходит следующее:\n",
    "\n",
    "1. Создаётся новый объект строки `\"Ed Snowden\"`.\n",
    "   \n",
    "2. Переменная `name` теперь ссылается на этот новый объект.\n",
    "   \n",
    "3. Если на старую строку `\"Edward Snowden\"` больше нет ссылок, она становится кандидатом на удаление сборщиком мусора.\n"
   ]
  },
  {
   "cell_type": "markdown",
   "metadata": {},
   "source": [
    "#### 3. **Указатель в памяти**\n",
    "\n",
    "> В Python все переменные — это **ссылки** на объекты в памяти. \n",
    "> \n",
    "> Когда вы выполняете присваивание, переменная начинает указывать на новый объект, а не изменяет существующий.\n",
    "\n",
    "##### 📌 Пример с использованием функции `id()` для проверки адресов в памяти:"
   ]
  },
  {
   "cell_type": "code",
   "execution_count": null,
   "metadata": {},
   "outputs": [],
   "source": [
    "name = \"Edward Snowden\"\n",
    "print(id(name))  # Адрес оригинальной строки\n",
    "\n",
    "name = name.replace('Edward', 'Ed')\n",
    "print(id(name))  # Адрес новой строки"
   ]
  },
  {
   "cell_type": "markdown",
   "metadata": {},
   "source": [
    "**Результат:**\n",
    "\n",
    "- Первый вызов `id(name)` покажет адрес строки `\"Edward Snowden\"`.\n",
    "  \n",
    "- Второй вызов `id(name)` покажет другой адрес — строки `\"Ed Snowden\"`.\n",
    "\n",
    "!!!  Это доказывает, что переменная `name` теперь указывает на новый объект в памяти."
   ]
  },
  {
   "cell_type": "markdown",
   "metadata": {},
   "source": [
    "\n",
    "#### 4. **Изменяется ли указатель?**\n",
    "\n",
    "Да, указатель переменной `name` изменяется. Однако важно понимать:\n",
    "\n",
    "- **Сам объект строки не изменяется.** Вместо этого создаётся новый объект.\n",
    "  \n",
    "- **Переменная `name`** просто начинает ссылаться на новый объект.\n",
    "  "
   ]
  },
  {
   "cell_type": "markdown",
   "metadata": {},
   "source": [
    "<br>\n",
    "\n",
    "### 🔚 `string.endswith()`\n",
    "\n",
    "> Метод `endswith()` проверяет, заканчивается ли строка на указанную подстроку.\n",
    "\n",
    "> Возвращает значение типа `bool` (`True` или `False`):\n",
    "\n",
    "```python\n",
    "string.endswith('подстрока')\n",
    "```\n",
    "\n",
    "**Пример:**"
   ]
  },
  {
   "cell_type": "code",
   "execution_count": null,
   "metadata": {},
   "outputs": [],
   "source": [
    "name = \"Edward Snowden\""
   ]
  },
  {
   "cell_type": "code",
   "execution_count": null,
   "metadata": {},
   "outputs": [],
   "source": [
    "name.endswith('g')      # False"
   ]
  },
  {
   "cell_type": "code",
   "execution_count": null,
   "metadata": {},
   "outputs": [],
   "source": [
    "name.endswith('n')      # True"
   ]
  },
  {
   "cell_type": "code",
   "execution_count": null,
   "metadata": {},
   "outputs": [],
   "source": [
    "name.endswith('den')    # True"
   ]
  },
  {
   "cell_type": "markdown",
   "metadata": {},
   "source": [
    "<br>\n",
    "\n",
    "#### 🔢 `string.count()`\n",
    "\n",
    "> Метод `count()` подсчитывает количество вхождений подстроки в строке:\n",
    "\n",
    "```python\n",
    "string.count('что_искать')\n",
    "```\n",
    "\n",
    "**Пример:**"
   ]
  },
  {
   "cell_type": "code",
   "execution_count": 20,
   "metadata": {},
   "outputs": [],
   "source": [
    "text = 'Ja mieszkam w Warszawie'"
   ]
  },
  {
   "cell_type": "code",
   "execution_count": 21,
   "metadata": {},
   "outputs": [
    {
     "data": {
      "text/plain": [
       "2"
      ]
     },
     "execution_count": 21,
     "metadata": {},
     "output_type": "execute_result"
    }
   ],
   "source": [
    "text.count('w')     # 2 — буква 'w' встречается 2 раза"
   ]
  },
  {
   "cell_type": "code",
   "execution_count": 22,
   "metadata": {},
   "outputs": [
    {
     "data": {
      "text/plain": [
       "1"
      ]
     },
     "execution_count": 22,
     "metadata": {},
     "output_type": "execute_result"
    }
   ],
   "source": [
    "text.count('W')  # 1 — буква 'W' встречается 1 раз"
   ]
  },
  {
   "cell_type": "code",
   "execution_count": 23,
   "metadata": {},
   "outputs": [
    {
     "data": {
      "text/plain": [
       "2"
      ]
     },
     "execution_count": 23,
     "metadata": {},
     "output_type": "execute_result"
    }
   ],
   "source": [
    "text.count('sz')    # 2 — подстрока 'sz' встречается 2 раза"
   ]
  },
  {
   "cell_type": "code",
   "execution_count": 24,
   "metadata": {},
   "outputs": [
    {
     "data": {
      "text/plain": [
       "2"
      ]
     },
     "execution_count": 24,
     "metadata": {},
     "output_type": "execute_result"
    }
   ],
   "source": [
    "text.count('i')     # 2 — буква 'i' встречается 2 раза"
   ]
  },
  {
   "cell_type": "markdown",
   "metadata": {},
   "source": [
    "⚠️ Поиск чувствителен к регистру — `w` и `W` считаются разными символами."
   ]
  },
  {
   "cell_type": "markdown",
   "metadata": {},
   "source": [
    "---"
   ]
  },
  {
   "cell_type": "markdown",
   "metadata": {},
   "source": [
    "## 📘 Таблица строковых методов в Python\n",
    "\n",
    "| Метод               | Назначение                                                         |\n",
    "|---------------------|--------------------------------------------------------------------|\n",
    "| `startswith()`      | Проверяет, начинается ли строка с указанной подстроки              |\n",
    "| `isupper()`         | Проверяет, все ли символы строки — заглавные                      |\n",
    "| `islower()`         | Проверяет, все ли символы — строчные                              |\n",
    "| `isnumeric()`       | Проверяет, состоит ли строка только из чисел                      |\n",
    "| `isspace()`         | Проверяет, состоит ли строка только из пробелов                   |\n",
    "| `swapcase()`        | Меняет регистр символов на противоположный                        |\n",
    "| `zfill(width)`      | Дополняет строку нулями слева до указанной длины                  |\n",
    "| `rjust(width)`      | Выравнивает строку по правому краю, добавляя пробелы слева        |\n",
    "| `ljust(width)`      | Выравнивает строку по левому краю, добавляя пробелы справа        |\n",
    "| `center(width)`     | Центрирует строку внутри заданной ширины                          |\n",
    "| `partition(sep)`    | Разбивает строку на три части: до разделителя, разделитель, после |\n",
    "| `rpartition(sep)`   | То же, но ищет разделитель справа                                 |\n",
    "\n"
   ]
  },
  {
   "cell_type": "markdown",
   "metadata": {},
   "source": [
    "### 🔍 Примеры к каждому методу"
   ]
  },
  {
   "cell_type": "code",
   "execution_count": null,
   "metadata": {},
   "outputs": [],
   "source": [
    "# 1. startswith() - Проверяет, начинается ли строка с указанной подстроки \n",
    "\n",
    "s = \" Python\"\n",
    "print(s.startswith(\" Py\"))      # True"
   ]
  },
  {
   "cell_type": "code",
   "execution_count": null,
   "metadata": {},
   "outputs": [],
   "source": [
    "# 2. isupper() - Проверяет, все ли символы строки — заглавные\n",
    "\n",
    "print(\"HELLO\".isupper())        # True\n",
    "print(\"Hello\".isupper())        # False"
   ]
  },
  {
   "cell_type": "code",
   "execution_count": null,
   "metadata": {},
   "outputs": [],
   "source": [
    "# 3. islower() - Проверяет, все ли символы — строчные  \n",
    "\n",
    "print(\"hello\".islower())        # True\n",
    "print(\"Hello\".islower())        # False"
   ]
  },
  {
   "cell_type": "code",
   "execution_count": null,
   "metadata": {},
   "outputs": [],
   "source": [
    "# 4. isnumeric() - Проверяет, состоит ли строка только из чисел \n",
    "\n",
    "print(\"123456\".isnumeric())     # True\n",
    "print(\"12.34\".isnumeric())      # False (точка не считается числом)\n",
    "print(\"Ⅻ\".isnumeric())          # True (римские цифры и др. считаются)\n"
   ]
  },
  {
   "cell_type": "code",
   "execution_count": null,
   "metadata": {},
   "outputs": [],
   "source": [
    "# 5. isspace() - Проверяет, состоит ли строка только из пробелов  \n",
    "\n",
    "print(\"   \".isspace())          # True\n",
    "print(\"  a \".isspace())         # False"
   ]
  },
  {
   "cell_type": "code",
   "execution_count": null,
   "metadata": {},
   "outputs": [],
   "source": [
    "# 6. swapcase() - Меняет регистр символов на противоположный  \n",
    "\n",
    "print(\"PyThOn\".swapcase())      # pYtHoN"
   ]
  },
  {
   "cell_type": "code",
   "execution_count": null,
   "metadata": {},
   "outputs": [],
   "source": [
    "# 7. zfill(width) - Дополняет строку нулями слева до указанной длины\n",
    "\n",
    "print(\"42\".zfill(5))            # 00042"
   ]
  },
  {
   "cell_type": "code",
   "execution_count": null,
   "metadata": {},
   "outputs": [],
   "source": [
    "# 8. rjust(width) - Выравнивает строку по правому краю, добавляя пробелы слева \n",
    "\n",
    "print(\"42\".rjust(6))            # '    42'"
   ]
  },
  {
   "cell_type": "code",
   "execution_count": null,
   "metadata": {},
   "outputs": [],
   "source": [
    "# 9. ljust(width) - Выравнивает строку по левому краю, добавляя пробелы справа \n",
    "\n",
    "print(\"42\".ljust(6))            # '42    '"
   ]
  },
  {
   "cell_type": "code",
   "execution_count": null,
   "metadata": {},
   "outputs": [],
   "source": [
    "# 10. center(width) - Центрирует строку внутри заданной ширины \n",
    "\n",
    "print(\"Python\".center(12))      # '   Python   '"
   ]
  },
  {
   "cell_type": "code",
   "execution_count": null,
   "metadata": {},
   "outputs": [],
   "source": [
    "# 11. partition(sep) - Разбивает строку на три части: до разделителя, разделитель, после\n",
    "\n",
    "print(\"name=John\".partition('='))    # ('name', '=', 'John')"
   ]
  },
  {
   "cell_type": "code",
   "execution_count": null,
   "metadata": {},
   "outputs": [],
   "source": [
    "# 12. rpartition(sep) - То же, но ищет разделитель справа \n",
    "\n",
    "print(\"path/to/file.txt\".rpartition('/'))  # ('path/to', '/', 'file.txt')"
   ]
  },
  {
   "cell_type": "markdown",
   "metadata": {},
   "source": [
    "## 🧠 Советы как быстро запомнить:\n",
    "\n",
    "- Методы, начинающиеся с `is...()` — всегда возвращают `True` или `False`\n",
    "  \n",
    "- Методы выравнивания (`rjust`, `ljust`, `center`) полезны при красивом выводе в консоли\n",
    "  \n",
    "- `partition()` — удобнее, чем `split()`, когда нужен только **один разделитель**\n",
    "\n"
   ]
  },
  {
   "cell_type": "markdown",
   "metadata": {},
   "source": [
    "\n",
    "\n",
    "---\n",
    "\n",
    "\n",
    "---\n",
    "\n",
    "### Итог\n",
    "1. Строки в Python **неизменяемы**, и любая операция, которая \"изменяет\" строку, создаёт новый объект.\n",
    "2. При присваивании (`name = name.replace(...)`) переменная начинает ссылаться на новый объект в памяти.\n",
    "3. Указатель переменной `name` обновляется, чтобы указывать на новый объект, но сам объект не модифицируется.\n",
    "\n",
    "**Ответ:**  \n",
    "- Строки в Python неизменяемы.  \n",
    "- При выполнении `name = name.replace(...)` создаётся новый объект строки, и переменная `name` начинает ссылаться на него.  \n",
    "- Указатель переменной обновляется, чтобы указывать на новый объект в памяти."
   ]
  },
  {
   "cell_type": "code",
   "execution_count": 24,
   "metadata": {},
   "outputs": [],
   "source": [
    "name = name.replace('Edward', 'Ed') "
   ]
  },
  {
   "cell_type": "markdown",
   "metadata": {},
   "source": [
    "Internally, the computer gives this new `name` variable a new id due to the immutability, but for us this does not really matter.  "
   ]
  },
  {
   "cell_type": "markdown",
   "metadata": {},
   "source": [
    "### `string.endswith()`\n",
    "This method might be self explanatory, but returns a ***boolean*** (`True` of `False`) depending on whether or not the strings ends with the specified substring.\n",
    "\n",
    "~~~python\n",
    "string.endswith('substring_to_test_for')\n",
    "~~~"
   ]
  },
  {
   "cell_type": "code",
   "execution_count": 25,
   "metadata": {},
   "outputs": [
    {
     "data": {
      "text/plain": [
       "False"
      ]
     },
     "execution_count": 25,
     "metadata": {},
     "output_type": "execute_result"
    }
   ],
   "source": [
    "name.endswith('g')"
   ]
  },
  {
   "cell_type": "code",
   "execution_count": 26,
   "metadata": {},
   "outputs": [
    {
     "data": {
      "text/plain": [
       "True"
      ]
     },
     "execution_count": 26,
     "metadata": {},
     "output_type": "execute_result"
    }
   ],
   "source": [
    "name.endswith('n')"
   ]
  },
  {
   "cell_type": "code",
   "execution_count": 27,
   "metadata": {},
   "outputs": [
    {
     "data": {
      "text/plain": [
       "True"
      ]
     },
     "execution_count": 27,
     "metadata": {},
     "output_type": "execute_result"
    }
   ],
   "source": [
    "name.endswith('den')"
   ]
  },
  {
   "cell_type": "markdown",
   "metadata": {},
   "source": [
    "### `string.count()`\n",
    "Counts the number of occurences of a substring inside a string:\n",
    "~~~python\n",
    "string.count('substring_to_count')\n",
    "~~~\n",
    "\n"
   ]
  },
  {
   "cell_type": "code",
   "execution_count": 28,
   "metadata": {},
   "outputs": [
    {
     "data": {
      "text/plain": [
       "4"
      ]
     },
     "execution_count": 28,
     "metadata": {},
     "output_type": "execute_result"
    }
   ],
   "source": [
    "text = 'This is how it is done'\n",
    "text.count('i')"
   ]
  },
  {
   "cell_type": "code",
   "execution_count": 29,
   "metadata": {},
   "outputs": [
    {
     "data": {
      "text/plain": [
       "3"
      ]
     },
     "execution_count": 29,
     "metadata": {},
     "output_type": "execute_result"
    }
   ],
   "source": [
    "text.count('is')"
   ]
  },
  {
   "cell_type": "markdown",
   "metadata": {},
   "source": [
    "The match is case sensitive:"
   ]
  },
  {
   "cell_type": "code",
   "execution_count": 30,
   "metadata": {},
   "outputs": [
    {
     "data": {
      "text/plain": [
       "1"
      ]
     },
     "execution_count": 30,
     "metadata": {},
     "output_type": "execute_result"
    }
   ],
   "source": [
    "text.count('t')"
   ]
  },
  {
   "cell_type": "markdown",
   "metadata": {},
   "source": [
    "## Conditionals and code indendation\n",
    "In Python, code blocks are separated by use of indentation. See the defintion of an `if`-statement below:\n",
    "\n",
    "### Syntax of conditional blocks\n",
    "    \n",
    "```python\n",
    "if condition:\n",
    "    # Code goes here (must be indented!)\n",
    "    # Otherwise, IndentationError will be thrown\n",
    "\n",
    "# Code placed here is outside of the if-statement    \n",
    "```\n",
    "\n",
    "Where evaluation of `condition` must return a boolean (`True` or `False`).\n",
    "\n",
    "\n",
    "> **Remember:**\n",
    "> 1. The `:` ***must*** be present after `condition`.\n",
    "> 2. The line immediately after `:` ***must*** be indented. \n",
    "> 3. The `if`-statement is ***exited by reverting the indentation*** as shown above.\n",
    "\n",
    "This is how Python interprets the code as a block.    \n",
    "\n",
    "The same indentation rules are required for all types of code blocks, the `if`-block above is just an example. Examples of other types of code blocks are `for` and `while` loops, functions etc.\n",
    "\n",
    "All editors will automatically make the indentation upon hitting enter after the `:`, so it doesn't take long to get used to this. \n",
    "\n",
    "### Comparison to other languages\n",
    "In many other programming languages indentation is not required. It is however still used as good practice to increase code readability. Instead of indentation, code blocks are denoted by encapsulating code in characters like `()`, `{}` etc.\n"
   ]
  },
  {
   "cell_type": "markdown",
   "metadata": {},
   "source": [
    "## Conditional statements - examples\n",
    "\n",
    "### `if`-statements\n",
    "An `if`-statement has the following syntax:"
   ]
  },
  {
   "cell_type": "code",
   "execution_count": 31,
   "metadata": {},
   "outputs": [
    {
     "name": "stdout",
     "output_type": "stream",
     "text": [
      "x is larger than 1\n"
     ]
    }
   ],
   "source": [
    "x = 2\n",
    "if x > 1:\n",
    "    print('x is larger than 1')"
   ]
  },
  {
   "cell_type": "markdown",
   "metadata": {},
   "source": [
    "### `if` / `else`-statements"
   ]
  },
  {
   "cell_type": "code",
   "execution_count": 32,
   "metadata": {},
   "outputs": [
    {
     "name": "stdout",
     "output_type": "stream",
     "text": [
      "y is less than or equal to 1\n"
     ]
    }
   ],
   "source": [
    "y = 1\n",
    "if y > 1:\n",
    "    print('y is larger than 1')\n",
    "else:\n",
    "    print('y is less than or equal to 1')"
   ]
  },
  {
   "cell_type": "markdown",
   "metadata": {},
   "source": [
    "### `if` / `elif` / `else`"
   ]
  },
  {
   "cell_type": "code",
   "execution_count": 33,
   "metadata": {},
   "outputs": [
    {
     "name": "stdout",
     "output_type": "stream",
     "text": [
      "z is less than 1\n"
     ]
    }
   ],
   "source": [
    "z = 0\n",
    "if z > 1:\n",
    "    print('z is larger than 1')\n",
    "elif z < 1:\n",
    "    print('z is less than 1')\n",
    "else:\n",
    "    print('z is equal to 1')"
   ]
  },
  {
   "cell_type": "markdown",
   "metadata": {},
   "source": [
    "An unlimited number of `elif` blocks can be used in between `if` and `else`."
   ]
  },
  {
   "cell_type": "markdown",
   "metadata": {},
   "source": [
    "# Exercise 1"
   ]
  },
  {
   "cell_type": "markdown",
   "metadata": {},
   "source": [
    "Find the length of the following string:\n",
    "> ~~~~python\n",
    "> s = \"Batman's real name is Bruce Wayne\"\n",
    "> ~~~~"
   ]
  },
  {
   "cell_type": "markdown",
   "metadata": {},
   "source": [
    "# Exercise 2\n",
    "Test if `s` from above has *\"Wayne\"* as last characters (should return `True` of course)"
   ]
  },
  {
   "cell_type": "markdown",
   "metadata": {},
   "source": [
    "# Exercise 3\n",
    "Print the following sentence using an `f-string`:\n",
    "\n",
    "```python\n",
    "'The string s has a length of {insert_length_of_s} items.'\n",
    "```\n",
    "\n",
    "Use `s` from above."
   ]
  },
  {
   "cell_type": "markdown",
   "metadata": {},
   "source": [
    "# Exercise 4\n",
    "Use the `count()` method to print the number of ***e***'s in the string `s` form above."
   ]
  },
  {
   "cell_type": "markdown",
   "metadata": {},
   "source": [
    "# Exercise 5\n",
    "Use the `replace()` method to replace `Ø` with `Y` in the following string:\n",
    "\n",
    ">~~~python\n",
    "string1 = '33Ø12'\n",
    ">~~~\n",
    "\n",
    "Save the new string in a variable `string2` and print the following sentence:\n",
    "```python\n",
    "'The string {insert_string1} was replaced by {insert_string2}'\n",
    "```"
   ]
  },
  {
   "cell_type": "markdown",
   "metadata": {},
   "source": [
    "# Exercise 6\n",
    "If the string below has more than 100 characters, print *\"String has more than 100 characters\"*, otherwise print *\"String has less than or exactly 100 characters\"*.\n",
    "~~~python\n",
    "dummy_string = 'Lorem ipsum is placeholder text commonly used in the graphic, print, and publishing industries for previewing layouts and visual mockups.'\n",
    "~~~"
   ]
  },
  {
   "cell_type": "markdown",
   "metadata": {},
   "source": [
    "# Exercise 7\n",
    "Print the number of space characters in `dummy_string` from above. "
   ]
  },
  {
   "cell_type": "markdown",
   "metadata": {},
   "source": [
    "# Exercise 8\n",
    "Create the variables\n",
    "\n",
    "```python\n",
    "letter1 = 'e'\n",
    "letter2 = 'm'\n",
    "```\n",
    "\n",
    "Convert this pseudo code to a Python program:\n",
    "\n",
    "```python\n",
    "if there are more occurrences of letter1 than letter2 in dummy_string:\n",
    "    print(\"There are more {insert_letter1}'s than {insert_letter2}'s\")\n",
    "    \n",
    "elif there are more occurrences of letter2 than letter1 in dummy_string:\n",
    "    print(\"There are more {insert_letter2}'s than {insert_letter1}'s\")\n",
    "\n",
    "else:\n",
    "    print(\"There are exactly the same number {insert_letter1}'s and {insert_letter2}'s\")\n",
    "```"
   ]
  },
  {
   "cell_type": "markdown",
   "metadata": {},
   "source": [
    "# Exercise 9\n",
    "Test the program you wrote above with different combinations of letters for the variables `letter1` and `letter2`. \n",
    "\n",
    "If you are still with us at this point you can try to implement a print message of the actual number of occurrences."
   ]
  },
  {
   "cell_type": "markdown",
   "metadata": {},
   "source": [
    "---\n",
    "\n",
    "# End of exercises\n",
    "\n",
    "*The cell below is for setting the style of this document. It's not part of the exercises.* "
   ]
  },
  {
   "cell_type": "code",
   "execution_count": 34,
   "metadata": {},
   "outputs": [
    {
     "data": {
      "text/html": [
       "<style>\n",
       "/* div#notebook {\n",
       " font-size: 13pt;\n",
       " line-height: 120%;\n",
       " color: #303030;\n",
       " -webkit-font-smoothing: antialiased !important;\n",
       " padding-top: 25px !important;\n",
       "} */\n",
       "\n",
       "\n",
       "body,\n",
       "div.body {\n",
       " font-family: Roboto;\n",
       " /* font-size: 16pt; */\n",
       " color: #303030;\n",
       " /* background-color: #d1b5b5; */\n",
       " /* background: #8f4f4f; */\n",
       " margin-right: 10px;\n",
       " /* -webkit-font-smoothing: antialiased !important; */\n",
       "}\n",
       "\n",
       "/* Code inside HTML/Markdown */\n",
       "div.rendered_html code {\n",
       "    border-radius: 5px;\n",
       "}\n",
       "\n",
       "/* Output area from code cells */\n",
       "div.output_area pre {\n",
       "    /* font-size: 11pt !important; */\n",
       "    color: #303030;\n",
       "}\n",
       "\n",
       "\n",
       "\n",
       "/* HEADING 1 styles */\n",
       "h1 {\n",
       "    font-family: 'Roboto', 'Signika', sans-serif;\n",
       "    font-weight: ligher;\n",
       "    font-style: normal;\n",
       "    /* font-size: 20pt; */\n",
       "    width: 100%;\n",
       "    text-align: left;\n",
       "    color: #EE7631;\n",
       "    border-bottom: 1px solid rgba(238, 118, 49, 0.575);\n",
       "    padding-bottom: 6px;\n",
       "    /* font-variant: small-caps; */\n",
       "    }\n",
       "  \n",
       "    /* table {\n",
       "        margin: 5px;\n",
       "        width: 290px;\n",
       "    }\n",
       "  \n",
       "    th {\n",
       "        padding: 3px;\n",
       "    }\n",
       "  \n",
       "    td {\n",
       "        padding-left: 8px;\n",
       "        padding-right: 8px;\n",
       "        border: 1px solid #990000;\n",
       "        background-color: #ffffcc;\n",
       "    }\n",
       "\n",
       "    #trHeader {\n",
       "        text-decoration: underline;\n",
       "        color: #990000;\n",
       "    }\n",
       "  \n",
       "    .centerCell {\n",
       "        text-align: center;\n",
       "    } */\n",
       "\n",
       "/* HEADING 2 styles */\n",
       "h2 {\n",
       "        font-family: \"Roboto\";\n",
       "        text-align: left;\n",
       "        /* font-size: 12pt; */\n",
       "        color: #EE7631;\n",
       "        margin-bottom: 5px;\n",
       "        /* border-bottom: 1px solid lightgray; */\n",
       "        border-bottom: 0.8px solid rgba(238, 118, 49, 0.575);\n",
       "        padding-bottom: 6px\n",
       "    }\n",
       "  \n",
       "    /* table {\n",
       "        margin: 5px;\n",
       "        width: 290px;\n",
       "    }\n",
       "  \n",
       "    th {\n",
       "        padding: 3px;\n",
       "    }\n",
       "  \n",
       "    td {\n",
       "        padding-left: 8px;\n",
       "        padding-right: 8px;\n",
       "        border: 1px solid #990000;\n",
       "        background-color: #ffffcc;\n",
       "    }\n",
       "\n",
       "    #trHeader {\n",
       "        text-decoration: underline;\n",
       "        color: #990000;\n",
       "    }\n",
       "  \n",
       "    .centerCell {\n",
       "        text-align: center;\n",
       "    } */\n",
       "\n",
       "h3 {\n",
       "        font-family: 'Roboto';\n",
       "        /* text-align: left; */\n",
       "        /* font-size: 12pt; */\n",
       "        /* color: #EE7631; */\n",
       "        /* margin-bottom: 5px; */\n",
       "        border-bottom: 0.5px solid #ededed;\n",
       "        padding-bottom: 6px\n",
       "    }\n",
       "\n",
       "\n",
       "\n",
       "p {\n",
       "    font-family: Roboto;\n",
       "    font-size: 16px;\n",
       "}\n",
       "\n",
       "/* Lists  with dots */\n",
       "ul {\n",
       "    font-size: 16px;\n",
       "    line-height: 150%;\n",
       "}\n",
       "\n",
       "/* Lists  with numbers */\n",
       "ol {\n",
       "    font-size: 16px;\n",
       "    line-height: 150%;\n",
       "}\n",
       "\n",
       "/* Horizontal rules */\n",
       "hr { \n",
       "    margin-top: 3px; \n",
       "    margin-bottom: 3px \n",
       "}\n",
       "\n",
       "/* Links */\n",
       "a {\n",
       "  color: #EE7631;\n",
       "}\n",
       "\n",
       "\n",
       "/* Change global font size (for code) */\n",
       ".CodeMirror {\n",
       "font-size: 16px !important;\n",
       "font-family: monospace;\n",
       "}\n",
       "\n",
       "\n",
       "/* Code cells in the notebook - NOTE: color is font-color */\n",
       ".cm-s-ipython.CodeMirror {\n",
       " font-family: monospace, monospace;\n",
       " /* font-size: 11pt; */\n",
       " background: #ededed;\n",
       " color: #303030;     \n",
       " border-radius: 2px;\n",
       " /* margin-right: 10px; */\n",
       " font-style: normal;\n",
       " font-weight: normal;\n",
       "}\n",
       "\n",
       "\n",
       "/* Background of code cells */\n",
       ".cm-s-ipython.CodeMirror {\n",
       " font-family: monospace, monospace;\n",
       " /* font-size: 11pt; */\n",
       " background: rgba(211, 211, 211, 0.123);\n",
       " color: #303030;\n",
       " border-radius: 2px;\n",
       " font-style: normal;\n",
       " font-weight: normal;\n",
       "}\n",
       "\n",
       "\n",
       "/* .CodeMirror-gutters {\n",
       " border: none;\n",
       " border-right: 1px solid #e0e1e3 !important;\n",
       " background-color: #e0e1e3 !important;\n",
       " background: #e0e1e3 !important;\n",
       " border-radius: 0px;\n",
       " white-space: nowrap;\n",
       "} */\n",
       "\n",
       "\n",
       "\n",
       "/* Code syntax highlithig theme */\n",
       ".cm-s-ipython .CodeMirror-cursor {\n",
       " border-left: 2px solid #ff711a !important;\n",
       "}\n",
       ".cm-s-ipython span.cm-comment {\n",
       " color: #8d8d8d;\n",
       " font-style: italic;                                                   \n",
       "}\n",
       ".cm-s-ipython span.cm-atom {\n",
       " color: #055be0;\n",
       "}\n",
       ".cm-s-ipython span.cm-number {\n",
       " color: #ff8132;\n",
       "}\n",
       ".cm-s-ipython span.cm-property {\n",
       " color: #303030;\n",
       "}\n",
       ".cm-s-ipython span.cm-attribute {\n",
       " color: #303030;\n",
       "}\n",
       ".cm-s-ipython span.cm-keyword {\n",
       " color: #a045ddf3;\n",
       " font-weight: normal;\n",
       "}\n",
       ".cm-s-ipython span.cm-string {\n",
       " color: #009e07;\n",
       "}\n",
       ".cm-s-ipython span.cm-meta {\n",
       " color: #aa22ff;\n",
       "}\n",
       ".cm-s-ipython span.cm-operator {\n",
       " color: #055be0;\n",
       "}\n",
       ".cm-s-ipython span.cm-builtin {\n",
       " color: #3f2ce7;\n",
       "}\n",
       ".cm-s-ipython span.cm-variable {\n",
       " color: #303030;\n",
       "}\n",
       ".cm-s-ipython span.cm-variable-2 {\n",
       " color: #de143d;\n",
       "}\n",
       ".cm-s-ipython span.cm-variable-3 {\n",
       " color: #aa22ff;\n",
       "}\n",
       ".cm-s-ipython span.cm-def {\n",
       " color: #e22978;\n",
       " font-weight: normal;\n",
       "}\n",
       ".cm-s-ipython span.cm-error {\n",
       " background: rgba(191,11,55,.70);\n",
       "}\n",
       ".cm-s-ipython span.cm-tag {\n",
       " color: #e22978;\n",
       "}\n",
       ".cm-s-ipython span.cm-link {\n",
       " color: #ef5c00;\n",
       "}\n",
       ".cm-s-ipython span.cm-storage {\n",
       " color: #055be0;\n",
       "}\n",
       ".cm-s-ipython span.cm-entity {\n",
       " color: #e22978;\n",
       "}\n",
       ".cm-s-ipython span.cm-quote {\n",
       " color: #009e07;\n",
       "}\n",
       "</style>"
      ],
      "text/plain": [
       "<IPython.core.display.HTML object>"
      ]
     },
     "execution_count": 34,
     "metadata": {},
     "output_type": "execute_result"
    }
   ],
   "source": [
    "from IPython.display import HTML\n",
    "HTML('<style>{}</style>'.format(open('../css/cowi.css').read()))"
   ]
  }
 ],
 "metadata": {
  "hide_input": false,
  "kernelspec": {
   "display_name": "Python 3",
   "language": "python",
   "name": "python3"
  },
  "language_info": {
   "codemirror_mode": {
    "name": "ipython",
    "version": 3
   },
   "file_extension": ".py",
   "mimetype": "text/x-python",
   "name": "python",
   "nbconvert_exporter": "python",
   "pygments_lexer": "ipython3",
   "version": "3.13.2"
  },
  "latex_envs": {
   "LaTeX_envs_menu_present": true,
   "autoclose": false,
   "autocomplete": true,
   "bibliofile": "biblio.bib",
   "cite_by": "apalike",
   "current_citInitial": 1,
   "eqLabelWithNumbers": true,
   "eqNumInitial": 1,
   "hotkeys": {
    "equation": "Ctrl-E",
    "itemize": "Ctrl-I"
   },
   "labels_anchors": false,
   "latex_user_defs": false,
   "report_style_numbering": false,
   "user_envs_cfg": false
  },
  "toc": {
   "base_numbering": 1,
   "nav_menu": {},
   "number_sections": false,
   "sideBar": true,
   "skip_h1_title": false,
   "title_cell": "Table of Contents",
   "title_sidebar": "Table of Contents",
   "toc_cell": false,
   "toc_position": {},
   "toc_section_display": true,
   "toc_window_display": true
  }
 },
 "nbformat": 4,
 "nbformat_minor": 2
}
