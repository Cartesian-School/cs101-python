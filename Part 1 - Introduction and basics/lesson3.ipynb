{
 "cells": [
  {
   "cell_type": "markdown",
   "id": "730aff78",
   "metadata": {},
   "source": [
    "# **Урок 3: Ввод от пользователя и Типы данных**\n",
    "\n",
    "<br>\n",
    "\n",
    "---\n",
    "\n",
    "<br>"
   ]
  },
  {
   "cell_type": "markdown",
   "id": "7da594c5",
   "metadata": {},
   "source": [
    "## **1. Ввод от пользователя: `input()`**\n",
    "\n",
    "Иногда программе нужно **спросить что-то у пользователя** — например, имя, возраст, число и т.д.\n",
    "\n",
    "<br>\n",
    "\n",
    "### **Функция `input()` позволяет это сделать.**\n",
    "\n",
    "<br>\n",
    "\n",
    "**✅ Пример:**\n",
    "\n",
    "```python\n",
    "name = input(\"Как тебя зовут? \")\n",
    "print(\"Привет,\", name)\n",
    "```"
   ]
  },
  {
   "cell_type": "code",
   "execution_count": null,
   "id": "03ddd22e",
   "metadata": {},
   "outputs": [],
   "source": [
    "# Впишите код:"
   ]
  },
  {
   "cell_type": "markdown",
   "id": "75b8f491",
   "metadata": {},
   "source": [
    "**Что происходит:**\n",
    "\n",
    "* Python показывает сообщение: `Как тебя зовут?`\n",
    "\n",
    "* Ждёт, пока пользователь что-то введёт\n",
    "\n",
    "* Сохраняет введённое в переменную `name`\n",
    "\n",
    "* Выводит приветствие\n"
   ]
  },
  {
   "cell_type": "markdown",
   "id": "57afd2d0",
   "metadata": {},
   "source": [
    "**⚠️ Важное замечание:**\n",
    "\n",
    "> `input()` **всегда возвращает строку (тип str) !**\n"
   ]
  },
  {
   "cell_type": "markdown",
   "id": "72b8a071",
   "metadata": {},
   "source": [
    "<br>\n",
    "\n",
    "---\n",
    "\n",
    "<br>"
   ]
  },
  {
   "cell_type": "markdown",
   "id": "e1f807a3",
   "metadata": {},
   "source": [
    "## 🧱 **2. Типы данных в Python**\n",
    "\n",
    "В Python как и в других языках программирования существуют **встроенные типоы данных**, каждый из которых используется для представления различных видов информации: чисел, текста, коллекций, логических значений и др.\n",
    "\n",
    "<br>\n",
    "\n",
    "* Тип данных в Python  **определяется автоматически** при присваивании самим интерпретатором .\n",
    "\n",
    "* Python — язык **с динамической типизацией**, то есть переменная может менять тип в процессе работы:\n",
    "\n",
    "<br>\n",
    "\n",
    "**🔧 Пример:*\n",
    "\n",
    "```python\n",
    "x = 5      # int\n",
    "x = \"Hi\"   # теперь str\n",
    "```"
   ]
  },
  {
   "cell_type": "code",
   "execution_count": null,
   "id": "2fb32e21",
   "metadata": {},
   "outputs": [
    {
     "name": "stdout",
     "output_type": "stream",
     "text": [
      "5\n",
      "Hi\n"
     ]
    }
   ],
   "source": [
    "# Выполните код:\n",
    "\n",
    "x = 5\n",
    "print(x)\n",
    "\n",
    "x = \"Hi\"\n",
    "print(x)"
   ]
  },
  {
   "cell_type": "markdown",
   "id": "34347042",
   "metadata": {},
   "source": [
    "<br>\n",
    "\n",
    "###  **Основные категории типов данных в Python:**\n",
    "\n",
    "<br>\n",
    "\n",
    "#### 🔢 1. **Числовые типы (Numeric Types)**\n",
    "\n",
    "| Тип       | Описание                              | Пример           |\n",
    "| --------- | ------------------------------------- | ---------------- |\n",
    "| `int`     | Целое число                           | `42`, `-7`, `0`  |\n",
    "| `float`   | Число с плавающей точкой (десятичное) | `3.14`, `-0.001` |\n",
    "| `complex` | Комплексное число                     | `3 + 4j`         |\n",
    "\n",
    "<br>\n",
    "\n",
    "#### 🔤 2. **Строки (Text Type)**\n",
    "\n",
    "| Тип   | Описание                    | Пример              |\n",
    "| ----- | --------------------------- | ------------------- |\n",
    "| `str` | Последовательность символов | `\"Привет\"`, `'123'` |\n",
    "\n",
    "<br>\n",
    "\n",
    "> ⚠️ Строки поддерживают **индексацию**, **срезы**, **итерацию** и **методы обработки текста**:\n",
    "\n",
    "<br>\n",
    "\n",
    "**🔧 Пример:**\n",
    "\n",
    "```python\n",
    "text = \"Python\"\n",
    "print(text[0])     # 'P'\n",
    "print(text.upper()) # 'PYTHON'\n",
    "```\n"
   ]
  },
  {
   "cell_type": "code",
   "execution_count": 15,
   "id": "08f429bf",
   "metadata": {},
   "outputs": [
    {
     "name": "stdout",
     "output_type": "stream",
     "text": [
      "P\n",
      "PYTHON\n"
     ]
    }
   ],
   "source": [
    "# Выполните код:\n",
    "text = \"Python\"\n",
    "print(text[0])     # 'P'\n",
    "print(text.upper()) # 'PYTHON'"
   ]
  },
  {
   "cell_type": "markdown",
   "id": "ef64ff7b",
   "metadata": {},
   "source": [
    "<br>\n",
    "\n",
    "#### 🟢 3. **Логический тип (Boolean Type)**\n",
    "\n",
    "| Тип    | Описание            | Пример          |\n",
    "| ------ | ------------------- | --------------- |\n",
    "| `bool` | Логические значения | `True`, `False` |\n",
    "\n",
    "\n",
    "<br>\n",
    "\n",
    "> ⚠️ Часто используется в условиях (`if`, `while`) и возвращается функцией `bool()`:\n",
    "\n",
    "<br>\n",
    "\n",
    "**🔧 Пример:**\n",
    "\n",
    "```python\n",
    "bool(0)      # False\n",
    "bool(\"Hi\")   # True\n",
    "```\n"
   ]
  },
  {
   "cell_type": "code",
   "execution_count": 4,
   "id": "dd34ae28",
   "metadata": {},
   "outputs": [
    {
     "data": {
      "text/plain": [
       "False"
      ]
     },
     "execution_count": 4,
     "metadata": {},
     "output_type": "execute_result"
    }
   ],
   "source": [
    "# Выполните код:\n",
    "bool(0)      # False\n"
   ]
  },
  {
   "cell_type": "code",
   "execution_count": 5,
   "id": "307c7b78",
   "metadata": {},
   "outputs": [
    {
     "data": {
      "text/plain": [
       "True"
      ]
     },
     "execution_count": 5,
     "metadata": {},
     "output_type": "execute_result"
    }
   ],
   "source": [
    "bool(\"Hi\")   # True"
   ]
  },
  {
   "cell_type": "markdown",
   "id": "61ab6295",
   "metadata": {},
   "source": [
    "<br>\n",
    "\n",
    "### 🔹 4. **Последовательности (Sequences)**\n",
    "\n",
    "| Тип     | Описание                     | Пример                   |\n",
    "| ------- | ---------------------------- | ------------------------ |\n",
    "| `list`  | Изменяемый список            | `[1, 2, 3]`              |\n",
    "| `tuple` | Неизменяемый список (кортеж) | `(1, 2, 3)`              |\n",
    "| `range` | Диапазон чисел               | `range(5)` → `0,1,2,3,4` |\n",
    "\n",
    "<br>\n",
    "\n",
    "**🔧 Пример:**  Методы списков\n",
    "\n",
    "```python\n",
    "a = [1, 2, 3]\n",
    "a.append(4)       # [1, 2, 3, 4]\n",
    "a.remove(2)       # [1, 3, 4]\n",
    "```\n"
   ]
  },
  {
   "cell_type": "code",
   "execution_count": 14,
   "id": "41d6e938",
   "metadata": {},
   "outputs": [
    {
     "name": "stdout",
     "output_type": "stream",
     "text": [
      "[1, 2, 3, 4]\n",
      "[1, 3, 4]\n"
     ]
    }
   ],
   "source": [
    "# Выполните код:\n",
    "a = [1, 2, 3]\n",
    "\n",
    "a.append(4)       # [1, 2, 3, 4]\n",
    "print(a)\n",
    "\n",
    "a.remove(2)       # [1, 3, 4]\n",
    "print(a)"
   ]
  },
  {
   "cell_type": "markdown",
   "id": "59fee59a",
   "metadata": {},
   "source": [
    "<br>\n",
    "\n",
    "### 🗂 5. **Множества (Sets)**\n",
    "\n",
    "| Тип   | Описание                                       | Пример      |\n",
    "| ----- | ---------------------------------------------- | ----------- |\n",
    "| `set` | Неупорядоченное множество уникальных элементов | `{1, 2, 3}` |\n",
    "\n",
    "<br>\n",
    "\n",
    "**🔧 Пример:**  Методы списков\n",
    "\n",
    "```python\n",
    "a = {1, 2, 3}\n",
    "a.add(4)\n",
    "a.remove(2)\n",
    "```\n"
   ]
  },
  {
   "cell_type": "code",
   "execution_count": null,
   "id": "dcba23be",
   "metadata": {},
   "outputs": [
    {
     "name": "stdout",
     "output_type": "stream",
     "text": [
      "{1, 2, 3, 4}\n",
      "{1, 3, 4}\n"
     ]
    }
   ],
   "source": [
    "# Выполните код:\n",
    "\n",
    "a = {1, 2, 3}\n",
    "\n",
    "a.add(4)\n",
    "print(a)\n",
    "\n",
    "a.remove(2)\n",
    "print(a)\n"
   ]
  },
  {
   "cell_type": "markdown",
   "id": "a095a4c7",
   "metadata": {},
   "source": [
    "<br>\n",
    "\n",
    "### 🧾 6. **Словари (Dictionaries)**\n",
    "\n",
    "| Тип    | Описание           | Пример                         |\n",
    "| ------ | ------------------ | ------------------------------ |\n",
    "| `dict` | Пары ключ–значение | `{\"name\": \"Alice\", \"age\": 25}` |\n",
    "\n",
    "<br>\n",
    "\n",
    "> ⚠️ Ключи могут быть только **неизменяемыми типами** (строки, числа, кортежи и т.д.)\n",
    "\n",
    "<br>\n",
    "\n",
    "**🔧 Пример:**\n",
    "\n",
    "```python\n",
    "person = {\"name\": \"Bob\", \"age\": 30}\n",
    "print(person[\"name\"])  # Bob\n",
    "```\n"
   ]
  },
  {
   "cell_type": "code",
   "execution_count": null,
   "id": "6f1d63d5",
   "metadata": {},
   "outputs": [
    {
     "name": "stdout",
     "output_type": "stream",
     "text": [
      "Bob\n"
     ]
    }
   ],
   "source": [
    "# Выполните код:\n",
    "person = {\"name\": \"Bob\", \"age\": 30}\n",
    "print(person[\"name\"])  # Bob"
   ]
  },
  {
   "cell_type": "markdown",
   "id": "8d996360",
   "metadata": {},
   "source": [
    "<br>\n",
    "\n",
    "### 🔘 7. **NoneType**\n",
    "\n",
    "| Тип        | Описание            | Пример |\n",
    "| ---------- | ------------------- | ------ |\n",
    "| `NoneType` | Отсутствие значения | `None` |\n",
    "\n",
    "<br>\n",
    "\n",
    "> ⚠️ Часто используется как значение по умолчанию или для проверки: `if value is None`\n",
    "\n",
    "<br>"
   ]
  },
  {
   "cell_type": "markdown",
   "id": "21dafacf",
   "metadata": {},
   "source": [
    "\n",
    "### 📌 Сводная таблица\n",
    "\n",
    "| Категория          | Типы                            |\n",
    "| ------------------ | ------------------------------- |\n",
    "| Числа              | `int`, `float`, `complex`       |\n",
    "| Последовательности | `str`, `list`, `tuple`, `range` |\n",
    "| Коллекции          | `dict`, `set`, `frozenset`      |\n",
    "| Логический         | `bool`                          |\n",
    "| Особый тип         | `NoneType`                      |\n",
    "\n",
    "<br>"
   ]
  },
  {
   "cell_type": "markdown",
   "id": "22273629",
   "metadata": {},
   "source": [
    "<br>\n",
    "\n",
    "---\n",
    "\n",
    "<br>\n",
    "\n",
    "## 🔍 **Функция `type()`**\n",
    "\n",
    "`type()` - Эта функция позволяет нам узнать какой тип данных находится в нашей переменной:\n",
    "\n",
    "<br>\n",
    "\n",
    "**✅ Пример:**\n",
    "\n",
    "```python\n",
    "x = 7\n",
    "print(type(x))  # <class 'int'>\n",
    "\n",
    "text = input(\"Введите что-нибудь: \")\n",
    "print(type(text))  # <class 'str'>\n",
    "```"
   ]
  },
  {
   "cell_type": "code",
   "execution_count": null,
   "id": "ee69d281",
   "metadata": {},
   "outputs": [],
   "source": [
    "# Впишите код:"
   ]
  },
  {
   "cell_type": "markdown",
   "id": "e6202d89",
   "metadata": {},
   "source": [
    "<br>\n",
    "\n",
    "---\n",
    "\n",
    "<br>\n",
    "\n",
    "## 🔁  **2. Преобразование типов данных (type conversion)**\n",
    "\n",
    "**Преобразование типов** (или **приведение типов**) в Python — это процесс преобразования одного типа данных в другой. \n",
    "\n",
    "<br>\n",
    "\n",
    "> Это используется, когда вы хотите, чтобы значения одного типа данных вы могли перевести и использовать как значения другого типа (например, строка → число или число → строка).\n",
    "\n",
    "<br>\n",
    "\n",
    "**✅ Пример:**\n",
    "\n",
    "Если ты вводишь число, но хочешь работать с ним как с **числом**, нужно **преобразовать тип**:\n",
    "\n",
    "```python\n",
    "age = input(\"Сколько тебе лет? \")\n",
    "age = int(age)  # преобразуем строку в число\n",
    "print(\"Через год тебе будет\", age + 1)\n",
    "```\n"
   ]
  },
  {
   "cell_type": "code",
   "execution_count": null,
   "id": "7c08d017",
   "metadata": {},
   "outputs": [],
   "source": [
    "# Впишите код:"
   ]
  },
  {
   "cell_type": "markdown",
   "id": "50a383f0",
   "metadata": {},
   "source": [
    "<br>\n",
    "\n",
    "В Python существует *два вида преобразования типов*:\n",
    "\n",
    "    1. Неявное преобразование типов (implicit type conversion)\n",
    "   \n",
    "    2. Явное преобразование типов (explicit type conversion / type casting)\n"
   ]
  },
  {
   "cell_type": "markdown",
   "id": "c000d89a",
   "metadata": {},
   "source": [
    "<br>\n",
    "\n",
    "#### 🟢 1. **Неявное преобразование типов (implicit type conversion)**\n",
    "\n",
    "Python **сам автоматически** преобразует тип данных, если это безопасно и логично.\n",
    "\n",
    "<br>\n",
    "\n",
    "**✅ Пример:**\n",
    "\n",
    "```python\n",
    "a = 5        # int\n",
    "b = 2.0      # float\n",
    "result = a + b  # int + float → float\n",
    "print(result)   # 7.0\n",
    "print(type(result))  # <class 'float'>\n",
    "```\n",
    "<br>\n",
    "\n",
    "> ⚠️ Здесь Python сам преобразует `int` в `float`, потому что результат может потерять точность, и он выбирает «более широкий» тип.\n",
    "\n",
    "<br>"
   ]
  },
  {
   "cell_type": "code",
   "execution_count": 18,
   "id": "863a19b8",
   "metadata": {},
   "outputs": [
    {
     "name": "stdout",
     "output_type": "stream",
     "text": [
      "7.0\n",
      "<class 'float'>\n"
     ]
    }
   ],
   "source": [
    "# Выполните код:\n",
    "a = 5        # int\n",
    "b = 2.0      # float\n",
    "result = a + b  # int + float → float\n",
    "print(result)   # 7.0\n",
    "print(type(result))  # <class 'float'>"
   ]
  },
  {
   "cell_type": "markdown",
   "id": "5759bc7a",
   "metadata": {},
   "source": [
    "<br>\n",
    "\n",
    "#### 🟡 2. **Явное преобразование типов (explicit type conversion / type casting)**\n",
    "\n",
    "Вы **вручную указываете**, какой тип хотите получить, используя специальные встроенные функции:\n",
    "\n",
    "| Функция   | Назначение                                | Пример                        |\n",
    "| --------- | ----------------------------------------- | ----------------------------- |\n",
    "| `int()`   | Преобразование в целое число              | `int(\"42\") → 42`              |\n",
    "| `float()` | Преобразование в число с плавающей точкой | `float(\"3.14\") → 3.14`        |\n",
    "| `str()`   | Преобразование в строку                   | `str(10) → \"10\"`              |\n",
    "| `bool()`  | Преобразование в логическое значение      | `bool(0) → False`             |\n",
    "| `list()`  | Преобразование в список                   | `list(\"abc\") → ['a','b','c']` |\n",
    "| `tuple()` | Преобразование в кортеж                   | `tuple([1, 2]) → (1, 2)`      |\n",
    "\n",
    "<br>"
   ]
  },
  {
   "cell_type": "markdown",
   "id": "c092a225",
   "metadata": {},
   "source": [
    "#### **✅ Примеры:**"
   ]
  },
  {
   "cell_type": "markdown",
   "id": "de786b3f",
   "metadata": {},
   "source": [
    "#### 1. Преобразование строки в число:\n",
    "\n",
    "```python\n",
    "num_str = \"123\"\n",
    "num_int = int(num_str)\n",
    "print(num_int + 10)  # 133\n",
    "```"
   ]
  },
  {
   "cell_type": "code",
   "execution_count": null,
   "id": "558a6073",
   "metadata": {},
   "outputs": [],
   "source": [
    "# Впишите код:"
   ]
  },
  {
   "cell_type": "markdown",
   "id": "3fc46f67",
   "metadata": {},
   "source": [
    "#### 2. Преобразование числа в строку:\n",
    "\n",
    "```python\n",
    "num = 123\n",
    "text = str(num)\n",
    "print(\"Ваш номер: \" + text)  # \"Ваш номер: 123\"\n",
    "```"
   ]
  },
  {
   "cell_type": "code",
   "execution_count": null,
   "id": "68f57331",
   "metadata": {},
   "outputs": [],
   "source": [
    "# Впишите код:"
   ]
  },
  {
   "cell_type": "markdown",
   "id": "1b5cb3a9",
   "metadata": {},
   "source": [
    "#### 3. Преобразование в логический тип:\n",
    "\n",
    "```python\n",
    "print(bool(0))       # False\n",
    "print(bool(1))       # True\n",
    "print(bool(\"\"))      # False\n",
    "print(bool(\"abc\"))   # True\n",
    "```"
   ]
  },
  {
   "cell_type": "code",
   "execution_count": null,
   "id": "d7580bfa",
   "metadata": {},
   "outputs": [],
   "source": [
    "# Впишите код:"
   ]
  },
  {
   "cell_type": "markdown",
   "id": "46da6b66",
   "metadata": {},
   "source": [
    "#### 4. Пример программы с `input()` и преобразованием типов\n",
    "\n",
    "```python\n",
    "name = input(\"Как тебя зовут? \")\n",
    "age = int(input(\"Сколько тебе лет? \"))\n",
    "height = float(input(\"Какой у тебя рост в метрах? \"))\n",
    "\n",
    "print(f\"Привет, {name}!\")\n",
    "print(f\"Через 5 лет тебе будет {age + 5}\")\n",
    "print(f\"Твой рост — {height} метров\")\n",
    "```"
   ]
  },
  {
   "cell_type": "code",
   "execution_count": null,
   "id": "75e2b9f3",
   "metadata": {},
   "outputs": [],
   "source": [
    "# Впишите код:"
   ]
  },
  {
   "cell_type": "markdown",
   "id": "8f10ee4e",
   "metadata": {},
   "source": [
    "<br>\n",
    "\n",
    "#### ⚠️ Ошибки при преобразовании типов\n",
    "\n",
    "| Ошибка                   | Пример          | Почему                         |\n",
    "| ------------------------ | --------------- | ------------------------------ |\n",
    "| Ввод строки вместо числа | `int(\"Привет\")` | Ошибка преобразования          |\n",
    "| Не преобразовали тип     | `input() + 5`   | Строку нельзя сложить с числом |\n",
    "\n",
    "Преобразование может вызвать ошибку, если Python не может понять, как это сделать:\n",
    "\n",
    "```python\n",
    "int(\"abc\")  # ValueError: invalid literal for int()\n",
    "```\n"
   ]
  },
  {
   "cell_type": "code",
   "execution_count": null,
   "id": "e31bd62c",
   "metadata": {},
   "outputs": [],
   "source": [
    "# Впишите код:"
   ]
  },
  {
   "cell_type": "markdown",
   "id": "fa0525ad",
   "metadata": {},
   "source": [
    "<br>\n",
    "\n",
    "###  **Заключение:**\n",
    "\n",
    "- **Преобразование типов** — важная часть языка Python, особенно в работе с пользовательским вводом, помните, что `input()` всегда возвращает строку, а также работой с файлами, базами данных и API.\n",
    "\n",
    "**Преобразование между типами**\n",
    "\n",
    "| Что хотим               | Функция   | Пример            |\n",
    "| ----------------------- | --------- | ----------------- |\n",
    "| Строка → число          | `int()`   | `int(\"25\")`       |\n",
    "| Строка → дробь          | `float()` | `float(\"3.14\")`   |\n",
    "| Число → строка          | `str()`   | `str(123)`        |\n",
    "| Любое значение → логика | `bool()`  | `bool(0)` → False |\n",
    "\n",
    "- Умение правильно преобразовывать типы помогает избежать ошибок и добиться нужного результата.\n",
    "\n",
    "<br>"
   ]
  },
  {
   "cell_type": "markdown",
   "id": "d1e31a7a",
   "metadata": {},
   "source": [
    "<br>\n",
    "\n",
    "---\n",
    "\n",
    "<br>"
   ]
  },
  {
   "cell_type": "markdown",
   "id": "d4714529",
   "metadata": {},
   "source": [
    "## 🧠 **Задачник 2: Функция `input()` и типы данных**\n"
   ]
  },
  {
   "cell_type": "markdown",
   "id": "5c4740d0",
   "metadata": {},
   "source": [
    "<br>\n",
    "\n",
    "#### ➡️ **Задача 1**\n",
    "\n",
    "**Условие:**\n",
    "\n",
    "1. Запрашивает:\n",
    "\n",
    "   * Имя\n",
    "   * Возраст\n",
    "   * Год рождения (вводит пользователь)\n",
    "2. Выводит:\n",
    "\n",
    "   * Приветствие\n",
    "   * Возраст через 10 лет\n",
    "   * Сколько лет пользователю было в 2020 году\n",
    "\n"
   ]
  },
  {
   "cell_type": "code",
   "execution_count": null,
   "id": "da66466f",
   "metadata": {},
   "outputs": [
    {
     "name": "stdout",
     "output_type": "stream",
     "text": [
      "Привет, Serge, тебе сейчас 66, ведь ты с 1969 года\n"
     ]
    }
   ],
   "source": [
    "# Ваше решение:"
   ]
  },
  {
   "cell_type": "markdown",
   "id": "ebc6cd98",
   "metadata": {},
   "source": [
    "<br>\n",
    "\n",
    "#### ➡️ **Задача 2**\n",
    "\n",
    "**Условие:**\n",
    "\n",
    "Создай программу, которая:\n",
    "\n",
    "1. Просит пользователя ввести:\n",
    "\n",
    "   * Название любимой книги\n",
    "   * Количество страниц\n",
    "   * Год публикации\n",
    "2. Выводит:\n",
    "\n",
    "   ```\n",
    "   Книга \"Война и мир\" состоит из 1225 страниц и была издана в 1869 году.\n",
    "   Через 10 лет ей исполнится 166 лет.\n",
    "   ```\n"
   ]
  },
  {
   "cell_type": "code",
   "execution_count": null,
   "id": "f757c2fe",
   "metadata": {},
   "outputs": [],
   "source": [
    "# Ваше решение:"
   ]
  },
  {
   "cell_type": "markdown",
   "id": "36dc68c2",
   "metadata": {},
   "source": [
    "<br>\n",
    "\n",
    "#### ➡️ **Задача 3**\n",
    "\n",
    "**Условие:**\n",
    "\n",
    "Спросите имя пользователя и выведите: `\"Здравствуйте, <имя>!\"`\n"
   ]
  },
  {
   "cell_type": "code",
   "execution_count": null,
   "id": "5802b7e9",
   "metadata": {},
   "outputs": [],
   "source": [
    "# Ваше решение:"
   ]
  },
  {
   "cell_type": "markdown",
   "id": "7216dbfb",
   "metadata": {},
   "source": [
    "**Код:**\n",
    "\n",
    "```python\n",
    "name = input(\"Введите ваше имя: \")\n",
    "print(f\"Здравствуйте, {name}!\")\n",
    "```\n",
    "\n",
    "**Пояснение:**\n",
    "`input()` получает строку от пользователя. Она сохраняется в переменную и подставляется в f-строку.\n"
   ]
  },
  {
   "cell_type": "markdown",
   "id": "42009bad",
   "metadata": {},
   "source": [
    "<br>\n",
    "\n",
    "#### ➡️ **Задача 4**\n",
    "\n",
    "**Условие:**\n",
    "Пользователь вводит возраст. Выведите, сколько ему будет через 5 лет.\n"
   ]
  },
  {
   "cell_type": "code",
   "execution_count": null,
   "id": "e908a261",
   "metadata": {},
   "outputs": [],
   "source": [
    "# Ваше решение:"
   ]
  },
  {
   "cell_type": "markdown",
   "id": "8e31c34c",
   "metadata": {},
   "source": [
    "**Код:**\n",
    "\n",
    "```python\n",
    "age = int(input(\"Введите ваш возраст: \"))\n",
    "print(\"Через 5 лет вам будет\", age + 5)\n",
    "```\n",
    "\n",
    "**Пояснение:**\n",
    "\n",
    "`input()` возвращает строку, поэтому `int()` преобразует её в число, чтобы с ним можно было работать.\n"
   ]
  },
  {
   "cell_type": "markdown",
   "id": "a59573dd",
   "metadata": {},
   "source": [
    "<br>\n",
    "\n",
    "#### ➡️ **Задача 5**\n",
    "\n",
    "**Условие:**\n",
    "Введённая строка — это число с точкой. Выведите её квадрат.\n"
   ]
  },
  {
   "cell_type": "code",
   "execution_count": null,
   "id": "773f2f6d",
   "metadata": {},
   "outputs": [],
   "source": [
    "# Ваше решение:"
   ]
  },
  {
   "cell_type": "markdown",
   "id": "6a7b2e16",
   "metadata": {},
   "source": [
    "**Код:**\n",
    "\n",
    "```python\n",
    "num = float(input(\"Введите число с точкой: \"))\n",
    "print(\"Квадрат числа:\", num ** 2)\n",
    "```\n",
    "\n",
    "**Пояснение:**\n",
    "Преобразуем ввод в `float` для работы с дробными числами. Возводим в квадрат.\n"
   ]
  },
  {
   "cell_type": "markdown",
   "id": "8aec7b34",
   "metadata": {},
   "source": [
    "<br>\n",
    "\n",
    "#### ➡️ **Задача 6**\n",
    "\n",
    "**Условие:**\n",
    "Пользователь вводит строку. Выведите её длину.\n"
   ]
  },
  {
   "cell_type": "code",
   "execution_count": null,
   "id": "8a779f38",
   "metadata": {},
   "outputs": [],
   "source": [
    "# Ваше решение:"
   ]
  },
  {
   "cell_type": "markdown",
   "id": "f9cd82ed",
   "metadata": {},
   "source": [
    "**Код:**\n",
    "\n",
    "```python\n",
    "text = input(\"Введите текст: \")\n",
    "print(\"Количество символов:\", len(text))\n",
    "```\n",
    "\n",
    "**Пояснение:**\n",
    "`len()` возвращает длину строки (количество символов), включая пробелы.\n"
   ]
  },
  {
   "cell_type": "markdown",
   "id": "f58478e7",
   "metadata": {},
   "source": [
    "<br>\n",
    "\n",
    "#### ➡️ **Задача 7**\n",
    "\n",
    "**Условие:**\n",
    "Пользователь вводит год рождения. Вычислите его возраст в 2025 году.\n"
   ]
  },
  {
   "cell_type": "code",
   "execution_count": null,
   "id": "bee25911",
   "metadata": {},
   "outputs": [],
   "source": [
    "# Ваше решение:"
   ]
  },
  {
   "cell_type": "markdown",
   "id": "2dd9c217",
   "metadata": {},
   "source": [
    "**Код:**\n",
    "\n",
    "```python\n",
    "birth = int(input(\"Введите год рождения: \"))\n",
    "print(\"В 2025 вам будет\", 2025 - birth)\n",
    "```\n",
    "\n",
    "**Пояснение:**\n",
    "Вычитаем год рождения из 2025, после преобразования строки в целое число.\n"
   ]
  },
  {
   "cell_type": "markdown",
   "id": "251c91bf",
   "metadata": {},
   "source": [
    "<br>\n",
    "\n",
    "#### ➡️ **Задача 8**\n",
    "\n",
    "**Условие:**\n",
    "Пользователь вводит число. \n",
    "\n",
    "Выведите:\n",
    "\n",
    "* тип введённых данных до преобразования\n",
    "\n",
    "* тип после преобразования в `int`\n"
   ]
  },
  {
   "cell_type": "code",
   "execution_count": null,
   "id": "90cb14b6",
   "metadata": {},
   "outputs": [],
   "source": [
    "# Ваше решение:"
   ]
  },
  {
   "cell_type": "markdown",
   "id": "1c467c0a",
   "metadata": {},
   "source": [
    "**Код:**\n",
    "\n",
    "```python\n",
    "user_input = input(\"Введите число: \")\n",
    "print(\"Тип до:\", type(user_input))\n",
    "number = int(user_input)\n",
    "print(\"Тип после:\", type(number))\n",
    "```\n",
    "\n",
    "**Пояснение:**\n",
    "`input()` возвращает строку. Мы используем `type()` до и после преобразования.\n"
   ]
  },
  {
   "cell_type": "markdown",
   "id": "786bd22a",
   "metadata": {},
   "source": [
    "<br>\n",
    "\n",
    "#### ➡️ **Задача 9**\n",
    "\n",
    "**Условие:**\n",
    "\n",
    "Вводятся `имя` и `возраст`. \n",
    "\n",
    "Выведите: `\"Пользователь <имя> возраст <возраст>\"`\n"
   ]
  },
  {
   "cell_type": "code",
   "execution_count": null,
   "id": "2e1fab9c",
   "metadata": {},
   "outputs": [],
   "source": [
    "# Ваше решение:"
   ]
  },
  {
   "cell_type": "markdown",
   "id": "9a079d77",
   "metadata": {},
   "source": [
    "**Код:**\n",
    "\n",
    "```python\n",
    "name = input(\"Введите имя: \")\n",
    "age = int(input(\"Введите возраст: \"))\n",
    "print(f\"Пользователь {name}, возраст {age}\")\n",
    "```\n",
    "\n",
    "**Пояснение:**\n",
    "Используем f-строку и преобразование возраста в `int`.\n"
   ]
  },
  {
   "cell_type": "markdown",
   "id": "177dc3d5",
   "metadata": {},
   "source": [
    "<br>\n",
    "\n",
    "#### ➡️ **Задача 10**\n",
    "\n",
    "**Условие:**\n",
    "Пользователь вводит два числа (вводим через `input()` дважды). Выведите их сумму и разность.\n"
   ]
  },
  {
   "cell_type": "code",
   "execution_count": null,
   "id": "d3adf30f",
   "metadata": {},
   "outputs": [],
   "source": [
    "# Ваше решение:"
   ]
  },
  {
   "cell_type": "markdown",
   "id": "94184397",
   "metadata": {},
   "source": [
    "**Код:**\n",
    "\n",
    "```python\n",
    "a = int(input(\"Введите первое число: \"))\n",
    "b = int(input(\"Введите второе число: \"))\n",
    "print(\"Сумма:\", a + b)\n",
    "print(\"Разность:\", a - b)\n",
    "```\n",
    "\n",
    "**Пояснение:**\n",
    "Оба значения преобразуются в `int`, чтобы можно было выполнять арифметику.\n"
   ]
  },
  {
   "cell_type": "markdown",
   "id": "5e9fc4fa",
   "metadata": {},
   "source": [
    "<br>\n",
    "\n",
    "#### ➡️ **Задача 11**\n",
    "\n",
    "**Условие:**\n",
    "Пользователь вводит дробное число. Выведите его как строку и как число.\n"
   ]
  },
  {
   "cell_type": "code",
   "execution_count": null,
   "id": "7a4a7fc4",
   "metadata": {},
   "outputs": [],
   "source": [
    "# Ваше решение:"
   ]
  },
  {
   "cell_type": "markdown",
   "id": "94fefe04",
   "metadata": {},
   "source": [
    "**Код:**\n",
    "\n",
    "```python\n",
    "x = input(\"Введите дробное число: \")\n",
    "print(\"Как строка:\", x)\n",
    "print(\"Как число:\", float(x))\n",
    "```\n",
    "\n",
    "**Пояснение:**\n",
    "Показываем разницу между строкой и числовым типом.\n"
   ]
  },
  {
   "cell_type": "markdown",
   "id": "1503026c",
   "metadata": {},
   "source": [
    "<br>\n",
    "\n",
    "#### ➡️ **Задача 12**\n",
    "\n",
    "**Условие:**\n",
    "Пользователь вводит температуру в градусах Цельсия. \n",
    "\n",
    "Переведите её в Фаренгейты:\n",
    "`F = C * 1.8 + 32`\n"
   ]
  },
  {
   "cell_type": "code",
   "execution_count": null,
   "id": "80df68cb",
   "metadata": {},
   "outputs": [],
   "source": [
    "# Ваше решение:"
   ]
  },
  {
   "cell_type": "markdown",
   "id": "b8accddc",
   "metadata": {},
   "source": [
    "**Код:**\n",
    "\n",
    "```python\n",
    "c = float(input(\"Введите температуру в °C: \"))\n",
    "f = c * 1.8 + 32\n",
    "print(\"Температура в °F:\", f)\n",
    "```\n",
    "\n",
    "**Пояснение:**\n",
    "Используем формулу перевода температуры, предварительно преобразовав ввод в `float`.\n"
   ]
  },
  {
   "cell_type": "markdown",
   "id": "c7386cf3",
   "metadata": {},
   "source": [
    "<br>\n",
    "\n",
    "---\n",
    "\n",
    "<br>\n",
    "\n",
    "\n",
    "##### 📬 Author:\n",
    "\n",
    "**Siergej Sobolewski**  \n",
    "\n",
    "[![Email 🚀](https://img.shields.io/badge/Email-s.sobolewski@hotmail.com-blue?logo=protonmail)](mailto:s.sobolewski@hotmail.com)\n",
    "[![GitHub](https://img.shields.io/badge/GitHub-SSobol77-blue?logo=github)](https://github.com/SSobol77)\n",
    "[![LinkedIn](https://img.shields.io/badge/LinkedIn-Connect-blue?logo=linkedin)](https://linkedin.com/in/siergej-s-25a16319a)\n",
    "\n",
    "<br>"
   ]
  }
 ],
 "metadata": {
  "kernelspec": {
   "display_name": "Python 3",
   "language": "python",
   "name": "python3"
  },
  "language_info": {
   "codemirror_mode": {
    "name": "ipython",
    "version": 3
   },
   "file_extension": ".py",
   "mimetype": "text/x-python",
   "name": "python",
   "nbconvert_exporter": "python",
   "pygments_lexer": "ipython3",
   "version": "3.13.2"
  }
 },
 "nbformat": 4,
 "nbformat_minor": 5
}
