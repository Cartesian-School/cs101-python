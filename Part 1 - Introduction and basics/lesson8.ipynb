{
 "cells": [
  {
   "cell_type": "markdown",
   "id": "e79dc182",
   "metadata": {},
   "source": [
    "# **Урок 8: Операторы в Python**\n",
    "\n",
    "### **- Логические (`and`, `or`, `not`)**\n",
    "  "
   ]
  },
  {
   "cell_type": "markdown",
   "id": "620923d2",
   "metadata": {},
   "source": [
    "<br>\n",
    "\n",
    "---\n",
    "\n",
    "<br>\n",
    "\n",
    "## 🧠 **ЛОГИЧЕСКИЕ ОПЕРАТОРЫ (булева логика)**\n"
   ]
  },
  {
   "cell_type": "markdown",
   "id": "93e74300",
   "metadata": {},
   "source": [
    "<br>\n",
    "\n",
    "### **Что такое логика в программировании?**\n",
    "\n",
    "<br>\n",
    "\n",
    "> В программировании логика — это механизм, который позволяет принимать решения на основе определённых условий. Эти условия проверяются с использованием логических выражений , которые могут принимать одно из двух значений: True (истина) или False (ложь). Логические выражения строятся с помощью операторов сравнения, логических операторов и других конструкций.\n",
    "\n",
    "* **ИСТИНА** (`True`)\n",
    "\n",
    "* **ЛОЖЬ** (`False`)\n",
    "\n",
    "<br>\n",
    "  \n",
    "> Логика играет ключевую роль в управлении потоком выполнения программы. Она используется в таких конструкциях, как условные операторы (`if`, `elif`, `else`), циклы (`while`, `for`) и других структурах, где требуется принятие решений на основе данных.\n",
    "\n",
    "<br>\n",
    "\n",
    "### 🟡 **1. Булевы значения: `True` и `False`**\n",
    "\n",
    "**Булевы значения** — это два константных значения в Python: `True` и `False`. Они являются основой для построения логических выражений. В Python тип данных для булевых значений называется `bool`.\n",
    "\n",
    "<br>\n"
   ]
  },
  {
   "cell_type": "markdown",
   "id": "4f8465dd",
   "metadata": {},
   "source": [
    "✅ **Пример:**\n",
    "\n",
    "```python\n",
    "5 > 3  # True\n",
    "2 == 4  # False\n",
    "```"
   ]
  },
  {
   "cell_type": "code",
   "execution_count": 1,
   "id": "d54694e4",
   "metadata": {},
   "outputs": [
    {
     "data": {
      "text/plain": [
       "False"
      ]
     },
     "execution_count": 1,
     "metadata": {},
     "output_type": "execute_result"
    }
   ],
   "source": [
    "# Выполните код:\n",
    "5 > 3  # True"
   ]
  },
  {
   "cell_type": "code",
   "execution_count": 2,
   "id": "0fc9e2ae",
   "metadata": {},
   "outputs": [
    {
     "data": {
      "text/plain": [
       "False"
      ]
     },
     "execution_count": 2,
     "metadata": {},
     "output_type": "execute_result"
    }
   ],
   "source": [
    "# Выполните код:\n",
    "2 == 4  # False"
   ]
  },
  {
   "cell_type": "markdown",
   "id": "21f18c61",
   "metadata": {},
   "source": [
    "<br>\n",
    "\n",
    "### 🔢 **Булевы значения как числа**\n",
    "\n",
    "В Python булевы значения `True` и `False` имеют некоторые интересные особенности, которые важно понимать для эффективного использования логики. Эти особенности связаны с тем, как Python интерпретирует булевы значения в различных контекстах.\n",
    "\n",
    "<br>\n",
    "\n",
    "> В Python булевы значения `True` и `False` являются подтипом целых чисел `int`.\n",
    "\n",
    "Это означает, что:\n",
    "\n",
    "* `True` эквивалентно числу `1`.\n",
    "\n",
    "* `False` эквивалентно числу `0`.\n",
    "\n",
    "Это можно проверить с помощью явного преобразования или арифметических операций:\n",
    "\n",
    "<br>\n",
    "\n",
    "✅ **Пример 1:** `Преобразование к целому числу`"
   ]
  },
  {
   "cell_type": "code",
   "execution_count": null,
   "id": "c02f0599",
   "metadata": {},
   "outputs": [],
   "source": [
    "print(int(True))   # 1\n",
    "print(int(False))  # 0"
   ]
  },
  {
   "cell_type": "markdown",
   "id": "56435cff",
   "metadata": {},
   "source": [
    "✅ **Пример 2:** `Использование в арифметике`"
   ]
  },
  {
   "cell_type": "code",
   "execution_count": null,
   "id": "bc0e4fcf",
   "metadata": {},
   "outputs": [],
   "source": [
    "result = True + True + False\n",
    "print(result)  # 2 (1 + 1 + 0)"
   ]
  },
  {
   "cell_type": "markdown",
   "id": "cece8b2b",
   "metadata": {},
   "source": [
    "✅ **Пример 3:** `Умножение на булево значение`"
   ]
  },
  {
   "cell_type": "code",
   "execution_count": null,
   "id": "866dc9d8",
   "metadata": {},
   "outputs": [],
   "source": [
    "value = 10 * True  # 10 * 1\n",
    "print(value)  # 10\n",
    "\n",
    "value = 10 * False  # 10 * 0\n",
    "print(value)  # 0"
   ]
  },
  {
   "cell_type": "markdown",
   "id": "b8f7d53f",
   "metadata": {},
   "source": [
    "<br>\n",
    "\n",
    "### 🟢 **Использование булевых значений в условных выражениях**\n",
    "\n",
    "> В Python любое значение может быть интерпретировано как булево в условных выражениях.\n",
    ">  \n",
    "> Это называется \"истинностью\" (truthiness) или \"ложностью\" (falsiness).\n",
    "\n",
    "<br>\n",
    "\n",
    "Вот как это работает:"
   ]
  },
  {
   "cell_type": "markdown",
   "id": "586a6b10",
   "metadata": {},
   "source": [
    "**Значения, которые считаются `False`:**\n",
    "\n",
    "* `False`\n",
    "\n",
    "* `None`\n",
    "\n",
    "* 0 (целое число)\n",
    "\n",
    "* 0.0 (число с плавающей точкой)\n",
    "\n",
    "* Пустые коллекции: `[]`, `{}`, `()`, `\"\"` (пустая строка)\n",
    "\n",
    "* Пользовательские объекты, если они реализуют метод `__bool__()` или `__len__()`, возвращающий `False` или `0`.\n",
    "\n",
    "<br>\n",
    "\n",
    "**Значения, которые считаются `True`:**\n",
    "\n",
    "* Любое ненулевое число: `1`, `-1`, `3.14`, и т.д.\n",
    "\n",
    "* Непустые коллекции: `[1]`, `{\"key\": \"value\"}`, `\"hello\"`, `(1, 2)`.\n",
    "\n",
    "* Пользовательские объекты, если они реализуют метод `__bool__()` или `__len__()`, возвращающий True или положительное число.\n",
    "\n"
   ]
  },
  {
   "cell_type": "markdown",
   "id": "94c39f20",
   "metadata": {},
   "source": [
    "✅ **Пример:** `Проверка истинности`\n",
    "\n",
    "```python\n",
    "\n",
    "    values = [0, 1, -1, \"\", \"hello\", [], [1, 2], None]\n",
    "\n",
    "    for value in values:\n",
    "        print(f\"{value}: {bool(value)}\")\n",
    "\n",
    "```"
   ]
  },
  {
   "cell_type": "code",
   "execution_count": null,
   "id": "88c1b895",
   "metadata": {},
   "outputs": [],
   "source": [
    "# Выполните код:"
   ]
  },
  {
   "cell_type": "markdown",
   "id": "c540f8c5",
   "metadata": {},
   "source": [
    "**Результат:**\n",
    "```sh\n",
    "0: False\n",
    "1: True\n",
    "-1: True\n",
    ": False\n",
    "hello: True\n",
    "[]: False\n",
    "[1, 2]: True\n",
    "None: False\n",
    "```"
   ]
  },
  {
   "cell_type": "markdown",
   "id": "4f013fd2",
   "metadata": {},
   "source": [
    "<br>\n",
    "\n",
    "---\n",
    "\n",
    "<br>"
   ]
  },
  {
   "cell_type": "markdown",
   "id": "eb20416a",
   "metadata": {},
   "source": [
    "### **3. Операторы сравнения**\n",
    "\n",
    "Операторы сравнения позволяют сравнивать значения и возвращают булево значение (`True` или `False`). \n",
    "\n",
    "Вот основные операторы сравнения:\n",
    "\n",
    "| Оператор | Описание                     | Пример          | Результат |\n",
    "|----------|------------------------------|-----------------|-----------|\n",
    "| `==`     | Равно                        | `5 == 5`        | `True`    |\n",
    "| `!=`     | Не равно                     | `5 != 3`        | `True`    |\n",
    "| `>`      | Больше                       | `10 > 5`        | `True`    |\n",
    "| `<`      | Меньше                       | `3 < 7`         | `True`    |\n",
    "| `>=`     | Больше или равно             | `8 >= 8`        | `True`    |\n",
    "| `<=`     | Меньше или равно             | `4 <= 6`        | `True`    |\n",
    "\n",
    "<br>\n",
    "\n",
    "✅ **Пример:** `Проверка истинности`\n",
    "\n",
    "```python\n",
    "x = 10\n",
    "y = 20\n",
    "\n",
    "print(x == y)  # False\n",
    "print(x < y)   # True\n",
    "print(x != y)  # True\n",
    "```"
   ]
  },
  {
   "cell_type": "code",
   "execution_count": 4,
   "id": "f2e78cc7",
   "metadata": {},
   "outputs": [],
   "source": [
    "# Выполните код:\n",
    "x = 10\n",
    "y = 20"
   ]
  },
  {
   "cell_type": "code",
   "execution_count": 5,
   "id": "960906fc",
   "metadata": {},
   "outputs": [
    {
     "name": "stdout",
     "output_type": "stream",
     "text": [
      "False\n",
      "True\n",
      "True\n"
     ]
    }
   ],
   "source": [
    "# Выполните код:\n",
    "print(x == y)  # False\n",
    "print(x < y)   # True\n",
    "print(x != y)  # True"
   ]
  },
  {
   "cell_type": "markdown",
   "id": "cb560711",
   "metadata": {},
   "source": [
    "<br>\n",
    "\n",
    "---\n",
    "\n",
    "<br>"
   ]
  },
  {
   "cell_type": "markdown",
   "id": "1edba6ad",
   "metadata": {},
   "source": [
    "### 📌 **2. Логические операторы в Python**\n",
    "\n",
    "> Логические операторы используются для комбинирования нескольких логических выражений. \n",
    "\n",
    "<br>\n",
    "\n",
    "В Python есть три основных логических оператора:\n",
    "\n",
    "| Оператор | Назначение | Пример           | Результат |\n",
    "| -------- | ---------- | ---------------- | --------- |\n",
    "| `and`    | И          | `True and False` | `False`   |\n",
    "| `or`     | ИЛИ        | `True or False`  | `True`    |\n",
    "| `not`    | НЕ         | `not True`       | `False`   |\n",
    "\n"
   ]
  },
  {
   "cell_type": "markdown",
   "id": "d107c344",
   "metadata": {},
   "source": [
    "<br>\n",
    "\n",
    "### **2.1 Как работает `and`**\n",
    "\n",
    "> Оператор `and` возвращает `True`, если оба выражения **истинны**. \n",
    "> \n",
    "> Если хотя бы одно выражение **ложно**, результат будет `False`.\n",
    "\n",
    "<br>\n",
    "\n",
    "**Таблица истинности для `and`:**\n",
    "\n",
    "| A     | B     | A and B |\n",
    "| ----- | ----- | ------- |\n",
    "| True  | True  | True    |\n",
    "| True  | False | False   |\n",
    "| False | True  | False   |\n",
    "| False | False | False   |\n"
   ]
  },
  {
   "cell_type": "markdown",
   "id": "5a9d0458",
   "metadata": {},
   "source": [
    "<br>\n",
    "\n",
    "✅ **Пример:**\n",
    "```python\n",
    "\n",
    "    age = 25\n",
    "    is_adult = age >= 18\n",
    "    has_license = True\n",
    "\n",
    "    can_drive = is_adult and has_license\n",
    "    print(can_drive)  # True\n",
    "```"
   ]
  },
  {
   "cell_type": "code",
   "execution_count": null,
   "id": "685985ae",
   "metadata": {},
   "outputs": [],
   "source": [
    "# Выполните код:"
   ]
  },
  {
   "cell_type": "markdown",
   "id": "0e1fbc01",
   "metadata": {},
   "source": [
    "<br>\n",
    "\n",
    "### **2.2 Как работает `or`**"
   ]
  },
  {
   "cell_type": "markdown",
   "id": "14a3103a",
   "metadata": {},
   "source": [
    "> Оператор `or` возвращает `True`, если хотя бы одно из выражений истинно. Если оба выражения ложны, результат будет `False`.\n",
    "\n",
    "**Таблица истинности для `or`:**\n",
    "\n",
    "| A      | B      | A or B |\n",
    "|--------|--------|--------|\n",
    "| `True` | `True` | `True` |\n",
    "| `True` | `False`| `True` |\n",
    "| `False`| `True` | `True` |\n",
    "| `False`| `False`| `False`|"
   ]
  },
  {
   "cell_type": "markdown",
   "id": "74d0dce4",
   "metadata": {},
   "source": [
    "<br>\n",
    "\n",
    "✅ **Пример:**\n",
    "\n",
    "```python\n",
    "    is_weekend = True\n",
    "    is_holiday = False\n",
    "\n",
    "    can_relax = is_weekend or is_holiday\n",
    "    print(can_relax)  # True\n",
    "```"
   ]
  },
  {
   "cell_type": "code",
   "execution_count": null,
   "id": "a8337060",
   "metadata": {},
   "outputs": [],
   "source": [
    "# Выполните код:"
   ]
  },
  {
   "cell_type": "markdown",
   "id": "f29c40ea",
   "metadata": {},
   "source": [
    "<br>\n",
    "\n",
    "### **2.3 Как работает `not`**"
   ]
  },
  {
   "cell_type": "markdown",
   "id": "2371a642",
   "metadata": {},
   "source": [
    "> Оператор `not` инвертирует значение выражения: если выражение истинно, то результат будет `False`, и наоборот.\n",
    "\n",
    "**Таблица истинности для `not`:**\n",
    "\n",
    "| A      | not A  |\n",
    "|--------|--------|\n",
    "| `True` | `False`|\n",
    "| `False`| `True` |\n",
    "\n",
    "<br>"
   ]
  },
  {
   "cell_type": "markdown",
   "id": "54b7152f",
   "metadata": {},
   "source": [
    "✅ **Пример:**\n",
    "\n",
    "```python\n",
    "    is_raining = True\n",
    "    print(not is_raining)  # False\n",
    "```"
   ]
  },
  {
   "cell_type": "code",
   "execution_count": null,
   "id": "e1af5448",
   "metadata": {},
   "outputs": [],
   "source": [
    "# Выполните код:"
   ]
  },
  {
   "cell_type": "markdown",
   "id": "b7cb25dc",
   "metadata": {},
   "source": [
    "<br>\n",
    "\n",
    "---\n",
    "\n",
    "<br>\n",
    "\n",
    "### **3. Приоритет логических операторов**"
   ]
  },
  {
   "cell_type": "markdown",
   "id": "75bb21e2",
   "metadata": {},
   "source": [
    "> Приоритет операторов в Python определяет порядок их выполнения. \n",
    "\n",
    "> Если в выражении используется несколько операторов, Python выполняет их в следующем порядке:\n",
    "\n",
    "1. Сначала выполняются операторы сравнения (`==`, `!=`, `>`, `<`, `>=`, `<=`).\n",
    "\n",
    "2. Затем выполняется оператор `not`.\n",
    "\n",
    "3. После этого выполняется оператор `and`.\n",
    "\n",
    "4. В конце выполняется оператор `or`."
   ]
  },
  {
   "cell_type": "markdown",
   "id": "10adab96",
   "metadata": {},
   "source": [
    "✅ **Пример:**\n",
    "\n",
    "```python\n",
    "    x = 5\n",
    "    y = 10\n",
    "    z = 15\n",
    "\n",
    "    result = (x < y) and (y < z) or (x == z)\n",
    "    print(result)  # True\n",
    "```"
   ]
  },
  {
   "cell_type": "code",
   "execution_count": null,
   "id": "e63dcfab",
   "metadata": {},
   "outputs": [],
   "source": [
    "# Выполните код:"
   ]
  },
  {
   "cell_type": "markdown",
   "id": "78c65d82",
   "metadata": {},
   "source": [
    "**Если нужно изменить порядок выполнения, можно использовать скобки:**\n",
    "\n",
    "```python\n",
    "    result = (x < y) and ((y < z) or (x == z))\n",
    "    print(result)  # True\n",
    "```"
   ]
  },
  {
   "cell_type": "code",
   "execution_count": null,
   "id": "e707291f",
   "metadata": {},
   "outputs": [],
   "source": [
    "# Выполните код:"
   ]
  },
  {
   "cell_type": "markdown",
   "id": "381377a1",
   "metadata": {},
   "source": [
    "<br>\n",
    "\n",
    "---\n",
    "\n",
    "<br>"
   ]
  },
  {
   "cell_type": "markdown",
   "id": "39eab5a6",
   "metadata": {},
   "source": [
    "### **4. Условные операторы**\n",
    "\n",
    "Условные операторы (`if`, `elif`, `else`) используются для выполнения блоков кода в зависимости от результата логического выражения.\n",
    "\n",
    "#### **4.1. Конструкция `if`**\n",
    "\n",
    "> Выполняет блок кода, если условие истинно.\n"
   ]
  },
  {
   "cell_type": "markdown",
   "id": "3588670d",
   "metadata": {},
   "source": [
    "✅ **Пример:**\n",
    "\n",
    "```python\n",
    "    temperature = 25\n",
    "\n",
    "    if temperature > 30:\n",
    "        print(\"Жарко!\")\n",
    "```"
   ]
  },
  {
   "cell_type": "code",
   "execution_count": null,
   "id": "25680452",
   "metadata": {},
   "outputs": [],
   "source": [
    "# Выполните код:"
   ]
  },
  {
   "cell_type": "markdown",
   "id": "6ee13271",
   "metadata": {},
   "source": [
    "<br>\n",
    "\n",
    "#### **4.2. Конструкция `if-else`**\n",
    "\n",
    "> Выполняет один блок кода, если условие истинно, и другой блок, если условие ложно.\n"
   ]
  },
  {
   "cell_type": "markdown",
   "id": "233a984c",
   "metadata": {},
   "source": [
    "✅ **Пример:**\n",
    "\n",
    "```python\n",
    "    temperature = 25\n",
    "\n",
    "    if temperature > 30:\n",
    "        print(\"Жарко!\")\n",
    "    else:\n",
    "        print(\"Прохладно.\")\n",
    "```"
   ]
  },
  {
   "cell_type": "code",
   "execution_count": null,
   "id": "9ab1531a",
   "metadata": {},
   "outputs": [],
   "source": [
    "# Выполните код:"
   ]
  },
  {
   "cell_type": "markdown",
   "id": "66faca21",
   "metadata": {},
   "source": [
    "<br>\n",
    "\n",
    "#### **4.3. Конструкция `if-elif-else`**\n",
    "\n",
    "> Позволяет проверить несколько условий.\n"
   ]
  },
  {
   "cell_type": "markdown",
   "id": "218092ab",
   "metadata": {},
   "source": [
    "✅ **Пример:**\n",
    "\n",
    "```python\n",
    "    score = 85\n",
    "\n",
    "    if score >= 90:\n",
    "        print(\"Отлично!\")\n",
    "    elif score >= 75:\n",
    "        print(\"Хорошо.\")\n",
    "    else:\n",
    "        print(\"Нужно улучшить результат.\")\n",
    "```"
   ]
  },
  {
   "cell_type": "code",
   "execution_count": null,
   "id": "86465f65",
   "metadata": {},
   "outputs": [],
   "source": [
    "# Выполните код:"
   ]
  },
  {
   "cell_type": "markdown",
   "id": "56821b5c",
   "metadata": {},
   "source": [
    "<br>\n",
    "\n",
    "---\n",
    "\n",
    "<br>"
   ]
  },
  {
   "cell_type": "markdown",
   "id": "9d935f94",
   "metadata": {},
   "source": [
    "### 🔍 **Нюансы использования логических операторов в Python**\n",
    "\n",
    "В Python логические операторы (`and`, `or`, `not`) работают предсказуемо, но есть несколько важных особенностей и \"подводных камней\", о которых часто не говорят в учебниках. Эти нюансы могут существенно повлиять на поведение программы, если их не учитывать. Давайте разберем их подробно."
   ]
  },
  {
   "cell_type": "markdown",
   "id": "037d5b4b",
   "metadata": {},
   "source": [
    "#### **1. Ленивая (short-circuit) логика**\n",
    "\n",
    "Python использует **ленивую логику** (short-circuit evaluation). Это означает, что операторы `and` и `or` прекращают вычисление выражений, как только результат становится очевидным.\n",
    "\n",
    "##### **Оператор `and`**\n",
    "\n",
    "- Выражение `A and B`:\n",
    "  - Если `A` равно `False`, то `B` даже не вычисляется, потому что результат уже известен: `False`.\n",
    "  - Если `A` равно `True`, то вычисляется `B`, и результатом будет значение `B`.\n"
   ]
  },
  {
   "cell_type": "markdown",
   "id": "534e90f2",
   "metadata": {},
   "source": [
    "✅ **Пример:**\n",
    "\n",
    "```python\n",
    "\n",
    "    def check():\n",
    "        print(\"Эта функция вызвана!\")\n",
    "        return True\n",
    "\n",
    "    result = False and check()\n",
    "    print(result)  # False\n",
    "\n",
    "```\n",
    "- Вывод: Функция `check()` не вызывается, потому что первое условие (`False`) уже определяет результат."
   ]
  },
  {
   "cell_type": "code",
   "execution_count": null,
   "id": "98191c06",
   "metadata": {},
   "outputs": [],
   "source": [
    "# Выполните код:"
   ]
  },
  {
   "cell_type": "markdown",
   "id": "e3b53946",
   "metadata": {},
   "source": [
    "<br>\n",
    "\n",
    "#### **Оператор `or`**\n",
    "\n",
    "- Выражение `A or B`:\n",
    "  - Если `A` равно `True`, то `B` не вычисляется, потому что результат уже известен: `True`.\n",
    "  - Если `A` равно `False`, то вычисляется `B`, и результатом будет значение `B`.\n"
   ]
  },
  {
   "cell_type": "markdown",
   "id": "e144cc02",
   "metadata": {},
   "source": [
    "✅ **Пример:**\n",
    "\n",
    "```python\n",
    "\n",
    "    result = True or check()\n",
    "    print(result)  # True\n",
    "\n",
    "```\n",
    "\n",
    "- Вывод: Функция `check()` снова не вызывается, потому что первое условие (`True`) уже определяет результат.\n"
   ]
  },
  {
   "cell_type": "code",
   "execution_count": null,
   "id": "e68805c9",
   "metadata": {},
   "outputs": [],
   "source": [
    "# Выполните код:"
   ]
  },
  {
   "cell_type": "markdown",
   "id": "d28b97af",
   "metadata": {},
   "source": [
    "**Почему это важно?**\n",
    "\n",
    "Ленивая логика позволяет избежать лишних вычислений или ошибок. \n",
    "\n",
    "✅ **Пример:**\n",
    "\n",
    "```python\n",
    "\n",
    "    x = None\n",
    "    if x is not None and len(x) > 0:\n",
    "        print(\"Список не пустой\")\n",
    "\n",
    "```\n",
    "- Здесь проверка `len(x)` не выполняется, если `x` равен `None`, что предотвращает ошибку `TypeError`.\n"
   ]
  },
  {
   "cell_type": "markdown",
   "id": "dfd57bc2",
   "metadata": {},
   "source": [
    "<br>\n",
    "\n",
    "### **2. Возвращаемые значения — не всегда `True` или `False`**\n",
    "\n",
    "Логические операторы `and` и `or` **не всегда возвращают булевы значения**. \n",
    "\n",
    "Они возвращают **один из операндов**, а не строго `True` или `False`."
   ]
  },
  {
   "cell_type": "markdown",
   "id": "d223f70f",
   "metadata": {},
   "source": [
    "<br>\n",
    "\n",
    "#### **Оператор `and`**\n",
    "\n",
    "- Возвращает **первый ложный операнд**, если он есть. Если все операнды истинны, возвращается последний.\n",
    "\n",
    "<br>\n",
    "\n",
    "✅ **Пример:**\n",
    "\n",
    "```python\n",
    "\n",
    "  print(5 and \"Hello\")  # \"Hello\"\n",
    "  print(0 and \"Hello\")  # 0\n",
    "\n",
    "```\n",
    "- **Объяснение:**\n",
    "  \n",
    "  - В первом случае `5` истинно, поэтому возвращается `\"Hello\"`.\n",
    "  \n",
    "  - Во втором случае `0` ложно, поэтому возвращается `0`."
   ]
  },
  {
   "cell_type": "code",
   "execution_count": null,
   "id": "0ec90060",
   "metadata": {},
   "outputs": [],
   "source": [
    "# Выполните код:"
   ]
  },
  {
   "cell_type": "markdown",
   "id": "49b1cb73",
   "metadata": {},
   "source": [
    "<br>\n",
    "\n",
    "#### **Оператор `or`**\n",
    "\n",
    "- Возвращает **первый истинный операнд**, если он есть. Если все операнды ложны, возвращается последний.\n",
    "\n",
    "<br>\n",
    "\n",
    "✅ **Пример:**\n",
    "\n",
    "```python\n",
    "\n",
    "    print(0 or \"Hello\")  # \"Hello\"\n",
    "    print(None or 0)     # 0\n",
    "\n",
    "```\n",
    "- **Объяснение:**\n",
    "\n",
    "  - В первом случае `0` ложно, поэтому возвращается `\"Hello\"`.\n",
    "  \n",
    "  - Во втором случае оба операнда ложны, поэтому возвращается последний (`0`).\n"
   ]
  },
  {
   "cell_type": "code",
   "execution_count": null,
   "id": "a21ed931",
   "metadata": {},
   "outputs": [],
   "source": [
    "# Выполните код:"
   ]
  },
  {
   "cell_type": "markdown",
   "id": "afe1df30",
   "metadata": {},
   "source": [
    "<br>\n",
    "\n",
    "✅ **Практическое применение:**\n",
    "\n",
    "```python\n",
    "    # Установка значения по умолчанию\n",
    "    user_input = None\n",
    "    value = user_input or \"Default\"\n",
    "    print(value)  # \"Default\"\n",
    "\n",
    "    # Комбинирование значений\n",
    "    first_name = \"\"\n",
    "    full_name = first_name or \"Unknown\"\n",
    "    print(full_name)  # \"Unknown\"\n",
    "```"
   ]
  },
  {
   "cell_type": "code",
   "execution_count": null,
   "id": "3ce4b8a3",
   "metadata": {},
   "outputs": [],
   "source": [
    "# Выполните код:"
   ]
  },
  {
   "cell_type": "markdown",
   "id": "5c6d6ec3",
   "metadata": {},
   "source": [
    "<br>\n",
    "\n",
    "### **3. Приоритет операторов**\n",
    "\n",
    "> Приоритет операторов может привести к неожиданным результатам, если не использовать скобки для явного указания порядка выполнения.\n",
    "\n",
    "- Приоритет: `not` > `and` > `or`."
   ]
  },
  {
   "cell_type": "markdown",
   "id": "7ca1064e",
   "metadata": {},
   "source": [
    "<br>\n",
    "\n",
    "✅ **Пример:**\n",
    "\n",
    "```python\n",
    "\n",
    "  result = True or False and False\n",
    "  print(result)  # True\n",
    "\n",
    "```\n",
    "- **Объяснение:**\n",
    "  \n",
    "  - Сначала выполняется `False and False` (результат: `False`).\n",
    "  \n",
    "  - Затем выполняется `True or False` (результат: `True`).\n",
    "\n",
    "Если нужен другой порядок, используйте скобки:\n",
    "\n",
    "```python\n",
    "  result = (True or False) and False\n",
    "  print(result)  # False\n",
    "```"
   ]
  },
  {
   "cell_type": "code",
   "execution_count": null,
   "id": "5643e440",
   "metadata": {},
   "outputs": [],
   "source": [
    "# Выполните код:"
   ]
  },
  {
   "cell_type": "markdown",
   "id": "37bbc3e6",
   "metadata": {},
   "source": [
    "<br>\n",
    "\n",
    "### **4. Логический оператор `not`**\n",
    "\n",
    "Оператор `not` инвертирует значение, но возвращает строго булево значение (`True` или `False`), даже если исходное значение не является булевым.\n",
    "\n",
    "<br>\n",
    "\n",
    "✅ **Пример:**\n",
    "\n",
    "```python\n",
    "\n",
    "  print(not 0)      # True\n",
    "  print(not 1)      # False\n",
    "  print(not [])     # True\n",
    "  print(not [1, 2]) # False\n",
    "\n",
    "```\n",
    "- **Объяснение:**\n",
    "  \n",
    "  - В Python значения интерпретируются как `True` или `False` (например, `0`, `None`, пустые коллекции считаются `False`).\n",
    "  \n",
    "  - Оператор `not` всегда возвращает `True` или `False`.\n"
   ]
  },
  {
   "cell_type": "code",
   "execution_count": null,
   "id": "9cfaa3e3",
   "metadata": {},
   "outputs": [],
   "source": [
    "# Выполните код:"
   ]
  },
  {
   "cell_type": "markdown",
   "id": "e5d893ae",
   "metadata": {},
   "source": [
    "### **5. Использование объектов вместо булевых значений**\n",
    "\n",
    "В Python любое значение может быть использовано в логическом контексте. Это называется **истинностью (truthiness)** и **ложностью (falsiness)**.\n",
    "\n",
    "#### **Значения, которые считаются ложными:**\n",
    "- `None`\n",
    "- `False`\n",
    "- `0` (любой числовой ноль)\n",
    "- Пустые коллекции: `[]`, `{}`, `()`, `\"\"`, `set()`, `range(0)`\n",
    "\n",
    "#### **Значения, которые считаются истинными:**\n",
    "- Любое ненулевое число\n",
    "- Непустые коллекции: `[1]`, `{\"key\": \"value\"}`, `\"text\"`\n"
   ]
  },
  {
   "cell_type": "markdown",
   "id": "02c8d989",
   "metadata": {},
   "source": [
    "<br>\n",
    "\n",
    "✅ **Пример:**\n",
    "\n",
    "```python\n",
    "\n",
    "if []:\n",
    "    print(\"Это никогда не выполнится\")\n",
    "else:\n",
    "    print(\"Пустой список считается ложным\")\n",
    "\n",
    "if \"Hello\":\n",
    "    print(\"Непустая строка считается истинной\")\n",
    "```"
   ]
  },
  {
   "cell_type": "code",
   "execution_count": null,
   "id": "98235fa7",
   "metadata": {},
   "outputs": [],
   "source": [
    "# Выполните код:"
   ]
  },
  {
   "cell_type": "markdown",
   "id": "037dd282",
   "metadata": {},
   "source": [
    "<br>\n",
    "\n",
    "### **6. Побочные эффекты при использовании функций**\n",
    "\n",
    "Если в логическом выражении используются функции, важно помнить, что они могут иметь побочные эффекты (например, изменять глобальные переменные или выводить данные).\n"
   ]
  },
  {
   "cell_type": "markdown",
   "id": "1ed1880e",
   "metadata": {},
   "source": [
    "<br>\n",
    "\n",
    "✅ **Пример:**\n",
    "\n",
    "```python\n",
    "\n",
    "    def side_effect():\n",
    "        print(\"Побочный эффект!\")\n",
    "        return True\n",
    "\n",
    "    result = False and side_effect()\n",
    "    print(result)  # False\n",
    "\n",
    "```\n",
    "- Функция `side_effect()` не вызывается, потому что `False` уже определяет результат.\n"
   ]
  },
  {
   "cell_type": "code",
   "execution_count": null,
   "id": "c75701e2",
   "metadata": {},
   "outputs": [],
   "source": [
    "# Выполните код:"
   ]
  },
  {
   "cell_type": "markdown",
   "id": "fbafd088",
   "metadata": {},
   "source": [
    "<br>\n",
    "\n",
    "### **7. Разница между `is` и `==`**\n",
    "\n",
    "Операторы `is` и `==` часто путают, но они имеют разное назначение:\n",
    "\n",
    "- `==` проверяет **равенство значений**.\n",
    "  \n",
    "- `is` проверяет **идентичность объектов** (т.е. находятся ли они в одной области памяти).\n"
   ]
  },
  {
   "cell_type": "markdown",
   "id": "5cedabdc",
   "metadata": {},
   "source": [
    "<br>\n",
    "\n",
    "✅ **Пример:**\n",
    "\n",
    "```python\n",
    "\n",
    "    a = [1, 2, 3]\n",
    "    b = [1, 2, 3]\n",
    "\n",
    "    print(a == b)  # True (значения равны)\n",
    "    print(a is b)  # False (разные объекты в памяти)\n",
    "\n",
    "```"
   ]
  },
  {
   "cell_type": "code",
   "execution_count": null,
   "id": "16aad4ac",
   "metadata": {},
   "outputs": [],
   "source": [
    "# Выполните код:"
   ]
  },
  {
   "cell_type": "markdown",
   "id": "a2299f25",
   "metadata": {},
   "source": [
    "<br>\n",
    "\n",
    "### **8. Логические операторы с `None`**\n",
    "\n",
    "Значение `None` часто используется для обозначения отсутствия значения. Оно всегда считается ложным в логическом контексте.\n"
   ]
  },
  {
   "cell_type": "markdown",
   "id": "891183bb",
   "metadata": {},
   "source": [
    "<br>\n",
    "\n",
    "✅ **Пример:**\n",
    "\n",
    "```python\n",
    "\n",
    "    value = None\n",
    "    if value:\n",
    "        print(\"Это никогда не выполнится\")\n",
    "    else:\n",
    "        print(\"None считается ложным\")\n",
    "\n",
    "```\n"
   ]
  },
  {
   "cell_type": "code",
   "execution_count": null,
   "id": "00239bcb",
   "metadata": {},
   "outputs": [],
   "source": [
    "# Выполните код:"
   ]
  },
  {
   "cell_type": "markdown",
   "id": "17219d51",
   "metadata": {},
   "source": [
    "<br>\n",
    "\n",
    "### **9. Логические операторы с числами**\n",
    "\n",
    "Числа в Python также имеют истинность:\n",
    "\n",
    "- Любое ненулевое число считается `True`.\n",
    "\n",
    "- Ноль (`0`, `0.0`) считается `False`."
   ]
  },
  {
   "cell_type": "markdown",
   "id": "be64839f",
   "metadata": {},
   "source": [
    "<br>\n",
    "\n",
    "✅ **Пример:**\n",
    "\n",
    "```python\n",
    "\n",
    "print(bool(1))   # True\n",
    "print(bool(0))   # False\n",
    "print(bool(-1))  # True\n",
    "\n",
    "```"
   ]
  },
  {
   "cell_type": "code",
   "execution_count": null,
   "id": "a28621f0",
   "metadata": {},
   "outputs": [],
   "source": [
    "# Выполните код:"
   ]
  },
  {
   "cell_type": "markdown",
   "id": "759956bd",
   "metadata": {},
   "source": [
    "<br>\n",
    "\n",
    "#### 📘 **Подводим итог занятия:**\n",
    "\n",
    "Логика в Python — это мощный инструмент для управления потоком выполнения программы. Она основана на булевых значениях (`True` и `False`), операторах сравнения и логических операторах (`and`, `or`, `not`). Понимание этих концепций позволяет создавать сложные и гибкие программы, способные принимать решения на основе данных.\n",
    "\n",
    "**Ключевые моменты:**\n",
    "\n",
    "- Булевы значения: `True` и `False`.\n",
    "\n",
    "- Операторы сравнения: `==`, `!=`, `>`, `<`, `>=`, `<=`.\n",
    "\n",
    "- Логические операторы: `and`, `or`, `not`.\n",
    "\n",
    "- Условные операторы: `if`, `elif`, `else`.\n",
    "\n",
    "<br>\n",
    "\n",
    "⚠️ **Особенности о которых нужно помнить:**\n",
    "\n",
    "Логические операторы в Python — это мощный инструмент, но их особенности могут привести к неожиданным результатам, если не учитывать следующие моменты:\n",
    "\n",
    "1. Ленивая логика (`and`, `or`).\n",
    "\n",
    "2. Возвращаемые значения — не всегда `True` или `False`.\n",
    "\n",
    "3. Приоритет операторов.\n",
    "\n",
    "4. Инверсия с помощью `not`.\n",
    "\n",
    "5. Истинность и ложность объектов.\n",
    "\n",
    "6. Побочные эффекты функций.\n",
    "\n",
    "7. Разница между `is` и `==`.\n",
    "\n",
    "8. Особенности работы с `None`.\n",
    "\n",
    "9. Истинность чисел.\n",
    "\n",
    "Учет этих нюансов поможет писать более надежный и понятный код.\n",
    "\n",
    "\n"
   ]
  },
  {
   "cell_type": "markdown",
   "id": "1a2ccabb",
   "metadata": {},
   "source": [
    "<br>\n",
    "\n",
    "---\n",
    "\n",
    "<br>"
   ]
  },
  {
   "cell_type": "markdown",
   "id": "ccea4a01",
   "metadata": {},
   "source": [
    "### 🧠 **Задачник 8: Логические операторы (`and`, `or`, `not`)**\n",
    "\n",
    "<br>"
   ]
  },
  {
   "cell_type": "markdown",
   "id": "d532b6bb",
   "metadata": {},
   "source": [
    "#### ➡️ **Задача 1**\n",
    "\n",
    "**Условие:**\n",
    "\n",
    "Пользователь вводит возраст и гражданство. Разрешить голосование, если возраст ≥ 18 и гражданин страны.\n"
   ]
  },
  {
   "cell_type": "code",
   "execution_count": null,
   "id": "900d79f6",
   "metadata": {},
   "outputs": [],
   "source": [
    "# Ваше решение:"
   ]
  },
  {
   "cell_type": "markdown",
   "id": "37dd9593",
   "metadata": {},
   "source": [
    "**Код:**\n",
    "\n",
    "```python\n",
    "age = int(input(\"Возраст: \"))\n",
    "citizen = input(\"Вы гражданин страны? (да/нет): \") == \"да\"\n",
    "\n",
    "print(age >= 18 and citizen)\n",
    "\n",
    "```\n",
    "\n",
    "**Объяснение:**\n",
    "\n",
    "`and` возвращает `True`, только если оба условия `True`.\n"
   ]
  },
  {
   "cell_type": "markdown",
   "id": "4585bb3f",
   "metadata": {},
   "source": [
    "<br>\n",
    "\n",
    "#### ➡️ **Задача 2**\n",
    "\n",
    "**Условие:**\n",
    "\n",
    "Проверьте, является ли число положительным и чётным.\n"
   ]
  },
  {
   "cell_type": "code",
   "execution_count": null,
   "id": "3d42e41d",
   "metadata": {},
   "outputs": [],
   "source": [
    "# Ваше решение:"
   ]
  },
  {
   "cell_type": "markdown",
   "id": "61e3cf5a",
   "metadata": {},
   "source": [
    "**Код:**\n",
    "\n",
    "```python\n",
    "n = int(input(\"Введите число: \"))\n",
    "print(n > 0 and n % 2 == 0)\n",
    "```\n",
    "\n",
    "**Объяснение:**\n",
    "\n",
    "Сначала проверяем положительность, затем делимость на 2.\n"
   ]
  },
  {
   "cell_type": "markdown",
   "id": "aef601f7",
   "metadata": {},
   "source": [
    "<br>\n",
    "\n",
    "#### ➡️ **Задача 3**\n",
    "\n",
    "**Условие:**\n",
    "\n",
    "Проверьте, входит ли человек в возрастной диапазон от 14 до 18 лет включительно.\n"
   ]
  },
  {
   "cell_type": "code",
   "execution_count": null,
   "id": "f4092460",
   "metadata": {},
   "outputs": [],
   "source": [
    "# Ваше решение:"
   ]
  },
  {
   "cell_type": "markdown",
   "id": "d170d1b2",
   "metadata": {},
   "source": [
    "**Код:**\n",
    "\n",
    "```python\n",
    "age = int(input(\"Введите возраст: \"))\n",
    "print(age >= 14 and age <= 18)\n",
    "```\n",
    "\n",
    "**Объяснение:**\n",
    "\n",
    "`and` объединяет два сравнения.\n"
   ]
  },
  {
   "cell_type": "markdown",
   "id": "ca2fe62b",
   "metadata": {},
   "source": [
    "<br>\n",
    "\n",
    "#### ➡️ **Задача 4**\n",
    "\n",
    "**Условие:**\n",
    "\n",
    "Проверьте, можно ли войти по паролю или по коду (одно из условий должно быть `True`).\n"
   ]
  },
  {
   "cell_type": "code",
   "execution_count": null,
   "id": "29d5fdc7",
   "metadata": {},
   "outputs": [],
   "source": [
    "# Ваше решение:"
   ]
  },
  {
   "cell_type": "markdown",
   "id": "012e62cc",
   "metadata": {},
   "source": [
    "**Код:**\n",
    "\n",
    "```python\n",
    "has_password = input(\"Есть пароль? (да/нет): \") == \"да\"\n",
    "has_code = input(\"Есть код? (да/нет): \") == \"да\"\n",
    "print(has_password or has_code)\n",
    "```\n",
    "\n",
    "**Объяснение:**\n",
    "\n",
    "`or` возвращает `True`, если хотя бы одно условие `True`."
   ]
  },
  {
   "cell_type": "markdown",
   "id": "08f590f4",
   "metadata": {},
   "source": [
    "<br>\n",
    "\n",
    "#### ➡️ **Задача 5**\n",
    "\n",
    "**Условие:**\n",
    "\n",
    "Пользователь не должен быть забанен (is\\_banned = False). Разрешить вход только если он не забанен.\n"
   ]
  },
  {
   "cell_type": "code",
   "execution_count": null,
   "id": "995d0fca",
   "metadata": {},
   "outputs": [],
   "source": [
    "# Ваше решение:"
   ]
  },
  {
   "cell_type": "markdown",
   "id": "2be14c5f",
   "metadata": {},
   "source": [
    "**Код:**\n",
    "\n",
    "```python\n",
    "is_banned = input(\"Вы забанены? (да/нет): \") == \"да\"\n",
    "print(not is_banned)\n",
    "```\n",
    "\n",
    "**Объяснение:**\n",
    "\n",
    "`not` изменяет значение `True` на `False` и наоборот.\n"
   ]
  },
  {
   "cell_type": "markdown",
   "id": "b116362e",
   "metadata": {},
   "source": [
    "<br>\n",
    "\n",
    "#### ➡️ **Задача 6**\n",
    "\n",
    "**Условие:**\n",
    "\n",
    "Проверьте, является ли число отрицательным **или** больше 100.\n"
   ]
  },
  {
   "cell_type": "code",
   "execution_count": null,
   "id": "ea6e5f47",
   "metadata": {},
   "outputs": [],
   "source": [
    "# Ваше решение:"
   ]
  },
  {
   "cell_type": "markdown",
   "id": "ff80fc2e",
   "metadata": {},
   "source": [
    "**Код:**\n",
    "\n",
    "```python\n",
    "n = int(input(\"Введите число: \"))\n",
    "print(n < 0 or n > 100)\n",
    "```\n",
    "\n",
    "**Объяснение:**\n",
    "\n",
    "`or` позволяет задавать альтернативные условия."
   ]
  },
  {
   "cell_type": "markdown",
   "id": "39444eb8",
   "metadata": {},
   "source": [
    "<br>\n",
    "\n",
    "#### ➡️ **Задача 7**\n",
    "\n",
    "**Условие:**\n",
    "\n",
    "У студента есть зачёт, если он сдал экзамен (балл ≥ 60) и **не** списывал.\n"
   ]
  },
  {
   "cell_type": "code",
   "execution_count": null,
   "id": "1cf5bf2e",
   "metadata": {},
   "outputs": [],
   "source": [
    "# Ваше решение:"
   ]
  },
  {
   "cell_type": "markdown",
   "id": "eeb313a6",
   "metadata": {},
   "source": [
    "**Код:**\n",
    "\n",
    "```python\n",
    "score = int(input(\"Введите балл: \"))\n",
    "cheated = input(\"Вы списывали? (да/нет): \") == \"да\"\n",
    "\n",
    "print(score >= 60 and not cheated)\n",
    "\n",
    "```\n",
    "\n",
    "**Объяснение:**\n",
    "\n",
    "`not` инвертирует `cheated`, а `and` объединяет два условия."
   ]
  },
  {
   "cell_type": "markdown",
   "id": "a47fb7e7",
   "metadata": {},
   "source": [
    "<br>\n",
    "\n",
    "#### ➡️ **Задача 8**\n",
    "\n",
    "**Условие:**\n",
    "\n",
    "Проверьте, **не входит** ли число в диапазон от 10 до 20 включительно.\n"
   ]
  },
  {
   "cell_type": "code",
   "execution_count": null,
   "id": "714ca09a",
   "metadata": {},
   "outputs": [],
   "source": [
    "# Ваше решение:"
   ]
  },
  {
   "cell_type": "markdown",
   "id": "fc6e28d0",
   "metadata": {},
   "source": [
    "**Код:**\n",
    "\n",
    "```python\n",
    "x = int(input(\"Введите число: \"))\n",
    "print(not (10 <= x <= 20))\n",
    "```\n",
    "\n",
    "**Объяснение:**\n",
    "\n",
    "Объединённое сравнение в скобках даёт `True`, если в диапазоне, `not` — инвертирует."
   ]
  },
  {
   "cell_type": "markdown",
   "id": "09ca2123",
   "metadata": {},
   "source": [
    "<br>\n",
    "\n",
    "#### ➡️ **Задача 9**\n",
    "\n",
    "**Условие:**\n",
    "\n",
    "У человека должно быть либо ВНЖ, либо паспорт, чтобы пересечь границу.\n"
   ]
  },
  {
   "cell_type": "code",
   "execution_count": null,
   "id": "1698dfa7",
   "metadata": {},
   "outputs": [],
   "source": [
    "# Ваше решение:"
   ]
  },
  {
   "cell_type": "markdown",
   "id": "fdcea4bd",
   "metadata": {},
   "source": [
    "**Код:**\n",
    "\n",
    "```python\n",
    "has_passport = input(\"Есть паспорт? (да/нет): \") == \"да\"\n",
    "has_residence = input(\"Есть ВНЖ? (да/нет): \") == \"да\"\n",
    "\n",
    "print(has_passport or has_residence)\n",
    "\n",
    "```\n",
    "\n",
    "**Объяснение:**\n",
    "\n",
    "Достаточно одного `True` для допуска."
   ]
  },
  {
   "cell_type": "markdown",
   "id": "b1ce4668",
   "metadata": {},
   "source": [
    "<br>\n",
    "\n",
    "#### ➡️ **Задача 10**\n",
    "\n",
    "**Условие:**\n",
    "\n",
    "Ввести три булевых значения: `есть билет`, `прошёл досмотр`, `есть паспорт`. Пропустить только если **всё выполнено**.\n"
   ]
  },
  {
   "cell_type": "code",
   "execution_count": null,
   "id": "a5f863af",
   "metadata": {},
   "outputs": [],
   "source": [
    "# Ваше решение:"
   ]
  },
  {
   "cell_type": "markdown",
   "id": "7b3cfb0a",
   "metadata": {},
   "source": [
    "**Код:**\n",
    "\n",
    "```python\n",
    "ticket = input(\"Есть билет? (да/нет): \") == \"да\"\n",
    "security = input(\"Пройден досмотр? (да/нет): \") == \"да\"\n",
    "passport = input(\"Есть паспорт? (да/нет): \") == \"да\"\n",
    "\n",
    "print(ticket and security and passport)\n",
    "\n",
    "```\n",
    "\n",
    "**Объяснение:**\n",
    "\n",
    "Все условия должны быть `True`, иначе итог — `False`.\n"
   ]
  },
  {
   "cell_type": "markdown",
   "id": "6483d575",
   "metadata": {},
   "source": [
    "<br>\n",
    "\n",
    "---\n",
    "\n",
    "<br>\n",
    "\n",
    "\n",
    "##### 📬 Author:\n",
    "\n",
    "**Siergej Sobolewski**  \n",
    "\n",
    "[![Email 🚀](https://img.shields.io/badge/Email-s.sobolewski@hotmail.com-blue?logo=protonmail)](mailto:s.sobolewski@hotmail.com)\n",
    "[![GitHub](https://img.shields.io/badge/GitHub-SSobol77-blue?logo=github)](https://github.com/SSobol77)\n",
    "[![LinkedIn](https://img.shields.io/badge/LinkedIn-Connect-blue?logo=linkedin)](https://linkedin.com/in/siergej-s-25a16319a)\n",
    "\n",
    "<br>"
   ]
  }
 ],
 "metadata": {
  "kernelspec": {
   "display_name": "Python 3",
   "language": "python",
   "name": "python3"
  },
  "language_info": {
   "codemirror_mode": {
    "name": "ipython",
    "version": 3
   },
   "file_extension": ".py",
   "mimetype": "text/x-python",
   "name": "python",
   "nbconvert_exporter": "python",
   "pygments_lexer": "ipython3",
   "version": "3.13.2"
  }
 },
 "nbformat": 4,
 "nbformat_minor": 5
}
