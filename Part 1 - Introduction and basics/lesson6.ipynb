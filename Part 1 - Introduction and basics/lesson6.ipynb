{
 "cells": [
  {
   "cell_type": "markdown",
   "id": "94ad4f09",
   "metadata": {},
   "source": []
  },
  {
   "cell_type": "markdown",
   "id": "7f736b75",
   "metadata": {},
   "source": [
    "#  **Урок 6: ▶ Операторы в Python** \n",
    "\n",
    "<br>\n",
    "\n",
    "### **- Оператор присваивания (` = `)**\n",
    "\n",
    "### **- Арифметические операторы (`+`,`-`,`*`,`/`,`//`,`%`)**\n",
    "\n",
    "### **- Составные операторы присваивания (`+=`, `-=`, `*=`, `/=`, `//=`, `%=`)**\n",
    "\n",
    "\n",
    "<br>\n",
    "\n",
    "---\n",
    "\n",
    "<br>"
   ]
  },
  {
   "cell_type": "markdown",
   "id": "876cd987",
   "metadata": {},
   "source": [
    "## ▶ **Операторы** \n",
    "\n",
    "<br>\n",
    "\n",
    "### 📌 **Что такое оператор?**\n",
    "\n",
    "**Оператор** — это специальный символ, который сообщает Python, **что нужно сделать с переменными или значениями**.\n",
    "Python использует операторы для выполнения **арифметики**, **присваивания**, **сравнения**, **логики**, **проверки принадлежности** и других действий.\n",
    "\n",
    "<br>\n"
   ]
  },
  {
   "cell_type": "markdown",
   "id": "25c69f2f",
   "metadata": {},
   "source": [
    "### 1️⃣ **Оператор присваивания `=`**\n",
    "\n",
    "**Присваивание** — это основа любой программы.\n",
    "\n",
    "```python\n",
    "    x = 5\n",
    "```"
   ]
  },
  {
   "cell_type": "code",
   "execution_count": 2,
   "id": "7a7a81d7",
   "metadata": {},
   "outputs": [
    {
     "name": "stdout",
     "output_type": "stream",
     "text": [
      "5\n"
     ]
    }
   ],
   "source": [
    "x = 5\n",
    "\n",
    "print(x)  # 5"
   ]
  },
  {
   "cell_type": "markdown",
   "id": "1ef69a40",
   "metadata": {},
   "source": [
    "> * Оператор `=` **не означает \"равно\"**, как в математике!\n",
    "> \n",
    "> * Он означает:\n",
    "> «в переменную `x` поместить значение `5`».\n",
    "\n",
    "Действия интерпретатора, когда мы **присваиваем значение**:\n",
    "\n",
    "1. Создаёт имя `x`.\n",
    "2. Выделяет ячейку в памяти.\n",
    "3. Помещает туда число `5`.\n",
    "4. Имя `x` **указывает на эту ячейку**.\n"
   ]
  },
  {
   "cell_type": "markdown",
   "id": "f75da687",
   "metadata": {},
   "source": [
    "Аналогично мы можем присвоить значения любым нашим переменным:\n",
    "\n",
    "```python\n",
    "    name = \"Alice\"\n",
    "    age = 25\n",
    "    pi = 3.14159\n",
    "```\n",
    "\n",
    "✅ **Присваивать можно:**\n",
    "\n",
    "* **числа**, **строки**, **значения выражений**\n",
    "\n",
    "* результат **вызова функции**\n",
    "\n",
    "* даже **другие переменные**\n"
   ]
  },
  {
   "cell_type": "markdown",
   "id": "079dafd7",
   "metadata": {},
   "source": [
    "<br>\n",
    "\n",
    "---\n",
    "\n",
    "<br>"
   ]
  },
  {
   "cell_type": "markdown",
   "id": "80d4aef3",
   "metadata": {},
   "source": [
    "### 2️⃣ **Арифметические операторы в Python**\n",
    "\n",
    "**Арифметические операторы** — это также, как и в математике:\n",
    "\n",
    "| Оператор | Название           | Пример    | Результат |\n",
    "| -------- | ------------------ | --------- | --------- |\n",
    "| `+`      | сложение           | `2 + 3`   | `5`       |\n",
    "| `-`      | вычитание          | `5 - 2`   | `3`       |\n",
    "| `*`      | умножение          | `3 * 4`   | `12`      |\n",
    "| `/`      | деление (float)    | `10 / 2`  | `5.0`     |\n",
    "| `//`     | целое деление      | `10 // 3` | `3`       |\n",
    "| `%`      | остаток от деления | `10 % 3`  | `1`       |\n",
    "| `**`     | степень            | `2 ** 3`  | `8`       |\n",
    "\n",
    "<br>"
   ]
  },
  {
   "cell_type": "markdown",
   "id": "c0daf2ab",
   "metadata": {},
   "source": [
    "**📌 Пример:**\n",
    "\n",
    "```python\n",
    "a = 7\n",
    "b = 3\n",
    "\n",
    "print(a + b)   # 10\n",
    "print(a - b)   # 4\n",
    "print(a * b)   # 21\n",
    "print(a / b)   # 2.333...\n",
    "print(a // b)  # 2\n",
    "print(a % b)   # 1\n",
    "print(a ** b)  # 343\n",
    "```"
   ]
  },
  {
   "cell_type": "code",
   "execution_count": null,
   "id": "43fc77c5",
   "metadata": {},
   "outputs": [],
   "source": [
    "# Впиши код:"
   ]
  },
  {
   "cell_type": "markdown",
   "id": "bfc755dd",
   "metadata": {},
   "source": [
    "<br>\n",
    "\n",
    "---\n",
    "\n",
    "<br>"
   ]
  },
  {
   "cell_type": "markdown",
   "id": "e16bf24b",
   "metadata": {},
   "source": [
    "### 3️⃣ **Составные операторы присваивания (`+=`, `-=`, `*=`, и др.)**\n",
    "\n",
    "Эти операторы объединяют **арифметические** и **присваивание**:\n",
    "\n",
    "<br>\n",
    "\n",
    "| Оператор | То же что и  | Пример    | Результат          |\n",
    "| -------- | ------------ | --------- | ------------------ |\n",
    "| `+=`     | `x = x + y`  | `a += 5`  | прибавить 5        |\n",
    "| `-=`     | `x = x - y`  | `a -= 2`  | вычесть 2          |\n",
    "| `*=`     | `x = x * y`  | `a *= 3`  | умножить на 3      |\n",
    "| `/=`     | `x = x / y`  | `a /= 2`  | поделить           |\n",
    "| `//=`    | `x = x // y` | `a //= 2` | целое деление      |\n",
    "| `%=`     | `x = x % y`  | `a %= 2`  | остаток            |\n",
    "| `**=`    | `x = x ** y` | `a **= 2` | возвести в степень |\n",
    "\n",
    "<br>"
   ]
  },
  {
   "cell_type": "markdown",
   "id": "2741f719",
   "metadata": {},
   "source": [
    "**📌 Пример:**\n",
    "\n",
    "```python\n",
    "a = 10\n",
    "a += 2    # a = 12\n",
    "a *= 3    # a = 36\n",
    "a //= 5   # a = 7\n",
    "print(a)  # 7\n",
    "```\n"
   ]
  },
  {
   "cell_type": "code",
   "execution_count": null,
   "id": "4bad5f5e",
   "metadata": {},
   "outputs": [],
   "source": [
    "# Впиши код:"
   ]
  },
  {
   "cell_type": "markdown",
   "id": "b705cfc2",
   "metadata": {},
   "source": [
    "##### 📋 Подведём итог урока:\n",
    "\n",
    "| №   | Тип оператора            | Назначение                         |\n",
    "| --- | ------------------------ | ---------------------------------- |\n",
    "| 1️⃣ | `=`                      | Присвоить значение переменной      |\n",
    "| 2️⃣ | `+`, `-`, `*`, `/` и др. | Арифметика                         |\n",
    "| 3️⃣ | `+=`, `-=`, `*=` и т.д.  | Краткая форма арифметики с записью |\n",
    "\n",
    "<br>"
   ]
  },
  {
   "cell_type": "markdown",
   "id": "2d21e455",
   "metadata": {},
   "source": [
    "<br>\n",
    "\n",
    "---\n",
    "\n",
    "<br>"
   ]
  },
  {
   "cell_type": "markdown",
   "id": "f16c49ce",
   "metadata": {},
   "source": [
    "### 🧠 **Задачник 6:** "
   ]
  },
  {
   "cell_type": "markdown",
   "id": "8d0909b5",
   "metadata": {},
   "source": [
    "<br>\n",
    "\n",
    "#### ➡️ **Задача 1**\n",
    "\n",
    "**Условие:**\n",
    "\n",
    "Создайте переменную `x = 10`. Увеличьте её на 5 с помощью `+=`.\n"
   ]
  },
  {
   "cell_type": "code",
   "execution_count": null,
   "id": "476e39e8",
   "metadata": {},
   "outputs": [],
   "source": [
    "# Ваше решение:"
   ]
  },
  {
   "cell_type": "markdown",
   "id": "33fbb778",
   "metadata": {},
   "source": [
    "**Код:**\n",
    "\n",
    "```python\n",
    "x = 10\n",
    "x += 5\n",
    "print(x)\n",
    "```\n",
    "\n",
    "**Объяснение:**\n",
    "\n",
    "`x += 5` — это сокращённая форма `x = x + 5`. Новый результат сохраняется в той же переменной `x`."
   ]
  },
  {
   "cell_type": "markdown",
   "id": "b6b19990",
   "metadata": {},
   "source": [
    "<br>\n",
    "\n",
    "#### ➡️ **Задача 2**\n",
    "\n",
    "**Условие:**\n",
    "\n",
    "Создайте переменную `score = 100`. Уменьшите её на 20 с помощью `-=`.\n"
   ]
  },
  {
   "cell_type": "code",
   "execution_count": null,
   "id": "c0d408ff",
   "metadata": {},
   "outputs": [],
   "source": [
    "# Ваше решение:"
   ]
  },
  {
   "cell_type": "markdown",
   "id": "05ed2ee5",
   "metadata": {},
   "source": [
    "**Код:**\n",
    "\n",
    "```python\n",
    "score = 100\n",
    "score -= 20\n",
    "print(score)\n",
    "```\n",
    "\n",
    "**Объяснение:**\n",
    "\n",
    "`score -= 20` означает `score = score - 20`.\n"
   ]
  },
  {
   "cell_type": "markdown",
   "id": "1dd58ffe",
   "metadata": {},
   "source": [
    "<br>\n",
    "\n",
    "#### ➡️ **Задача 3**\n",
    "\n",
    "**Условие:**\n",
    "\n",
    "Увеличьте переменную `money = 50` в 3 раза с помощью `*=`.\n"
   ]
  },
  {
   "cell_type": "code",
   "execution_count": null,
   "id": "d05387d7",
   "metadata": {},
   "outputs": [],
   "source": [
    "# Ваше решение:"
   ]
  },
  {
   "cell_type": "markdown",
   "id": "4023aaf2",
   "metadata": {},
   "source": [
    "**Код:**\n",
    "\n",
    "```python\n",
    "money = 50\n",
    "money *= 3\n",
    "print(money)\n",
    "```\n",
    "\n",
    "**Объяснение:**\n",
    "\n",
    "`money *= 3` эквивалентно `money = money * 3`.\n"
   ]
  },
  {
   "cell_type": "markdown",
   "id": "e3886762",
   "metadata": {},
   "source": [
    "<br>\n",
    "\n",
    "#### ➡️ **Задача 4**\n",
    "\n",
    "**Условие:**\n",
    "\n",
    "Разделите переменную `value = 90` пополам с помощью `/=`.\n"
   ]
  },
  {
   "cell_type": "code",
   "execution_count": null,
   "id": "6e769cba",
   "metadata": {},
   "outputs": [],
   "source": [
    "# Ваше решение:"
   ]
  },
  {
   "cell_type": "markdown",
   "id": "1229d15e",
   "metadata": {},
   "source": [
    "**Код:**\n",
    "\n",
    "```python\n",
    "value = 90\n",
    "value /= 2\n",
    "print(value)\n",
    "```\n",
    "\n",
    "**Объяснение:**\n",
    "\n",
    "`value /= 2` то же самое, что `value = value / 2`. Результат — всегда `float`.\n"
   ]
  },
  {
   "cell_type": "markdown",
   "id": "76bc35d8",
   "metadata": {},
   "source": [
    "<br>\n",
    "\n",
    "#### ➡️ **Задача 5**\n",
    "\n",
    "**Условие:**\n",
    "\n",
    "Создайте `a = 27`. Используйте `//=`, чтобы получить целое деление на 4.\n"
   ]
  },
  {
   "cell_type": "code",
   "execution_count": null,
   "id": "f224203a",
   "metadata": {},
   "outputs": [],
   "source": [
    "# Ваше решение:"
   ]
  },
  {
   "cell_type": "markdown",
   "id": "7d82e1cd",
   "metadata": {},
   "source": [
    "**Код:**\n",
    "\n",
    "```python\n",
    "a = 27\n",
    "a //= 4\n",
    "print(a)\n",
    "```\n",
    "\n",
    "**Объяснение:**\n",
    "\n",
    "`a //= 4` сохраняет только целую часть результата (в данном случае 6).\n"
   ]
  },
  {
   "cell_type": "markdown",
   "id": "2684d3e9",
   "metadata": {},
   "source": [
    "<br>\n",
    "\n",
    "#### ➡️ **Задача 6**\n",
    "\n",
    "**Условие:**\n",
    "\n",
    "Вычислите остаток от деления `n = 19` на 5 с помощью `%=`.\n"
   ]
  },
  {
   "cell_type": "code",
   "execution_count": null,
   "id": "81e338bd",
   "metadata": {},
   "outputs": [],
   "source": [
    "# Ваше решение:"
   ]
  },
  {
   "cell_type": "markdown",
   "id": "89af93ba",
   "metadata": {},
   "source": [
    "**Код:**\n",
    "\n",
    "```python\n",
    "n = 19\n",
    "n %= 5\n",
    "print(n)\n",
    "```\n",
    "\n",
    "**Объяснение:**\n",
    "\n",
    "`n %= 5` то же самое, что `n = n % 5`. Получаем остаток: `19 % 5 = 4`.\n"
   ]
  },
  {
   "cell_type": "markdown",
   "id": "cead09eb",
   "metadata": {},
   "source": [
    "<br>\n",
    "\n",
    "#### ➡️ **Задача 7**\n",
    "\n",
    "**Условие:**\n",
    "\n",
    "Создайте переменную `power = 2`. Возведите её в квадрат с помощью `**=`.\n"
   ]
  },
  {
   "cell_type": "code",
   "execution_count": null,
   "id": "5a9e0501",
   "metadata": {},
   "outputs": [],
   "source": [
    "# Ваше решение:"
   ]
  },
  {
   "cell_type": "markdown",
   "id": "273cb38e",
   "metadata": {},
   "source": [
    "**Код:**\n",
    "\n",
    "```python\n",
    "power = 2\n",
    "power **= 2\n",
    "print(power)\n",
    "```\n",
    "\n",
    "**Объяснение:**\n",
    "\n",
    "`power **= 2` аналогично `power = power ** 2`. Результат: 4.\n"
   ]
  },
  {
   "cell_type": "markdown",
   "id": "8d884e54",
   "metadata": {},
   "source": [
    "<br>\n",
    "\n",
    "#### ➡️ **Задача 8**\n",
    "\n",
    "**Условие:**\n",
    "\n",
    "Пользователь вводит начальную цену. Увеличьте её на 18% НДС с помощью `*=`.\n"
   ]
  },
  {
   "cell_type": "code",
   "execution_count": null,
   "id": "54c70a79",
   "metadata": {},
   "outputs": [],
   "source": [
    "# Ваше решение:"
   ]
  },
  {
   "cell_type": "markdown",
   "id": "fbb7d6ee",
   "metadata": {},
   "source": [
    "**Код:**\n",
    "\n",
    "```python\n",
    "price = float(input(\"Введите цену: \"))\n",
    "price *= 1.18\n",
    "print(\"Цена с НДС:\", price)\n",
    "```\n",
    "\n",
    "**Объяснение:**\n",
    "\n",
    "`price *= 1.18` — увеличение значения на 18%.\n"
   ]
  },
  {
   "cell_type": "markdown",
   "id": "ece86ff7",
   "metadata": {},
   "source": [
    "<br>\n",
    "\n",
    "#### ➡️ **Задача 9**\n",
    "\n",
    "**Условие:**\n",
    "\n",
    "Пусть `counter = 0`. Увеличьте счётчик 3 раза на 1.\n"
   ]
  },
  {
   "cell_type": "code",
   "execution_count": null,
   "id": "03456cb7",
   "metadata": {},
   "outputs": [],
   "source": [
    "# Ваше решение:"
   ]
  },
  {
   "cell_type": "markdown",
   "id": "42c252a1",
   "metadata": {},
   "source": [
    "**Код:**\n",
    "\n",
    "```python\n",
    "counter = 0\n",
    "counter += 1\n",
    "counter += 1\n",
    "counter += 1\n",
    "print(counter)\n",
    "```\n",
    "\n",
    "**Объяснение:**\n",
    "\n",
    "Повторное использование `+=` — способ накапливать значение.\n"
   ]
  },
  {
   "cell_type": "markdown",
   "id": "a37c5dc7",
   "metadata": {},
   "source": [
    "<br>\n",
    "\n",
    "#### ➡️ **Задача 10**\n",
    "\n",
    "**Условие:**\n",
    "\n",
    "Создайте `x = 7.5`. Уменьшите значение на 0.5 и затем умножьте результат на 2.\n"
   ]
  },
  {
   "cell_type": "code",
   "execution_count": null,
   "id": "e4794569",
   "metadata": {},
   "outputs": [],
   "source": [
    "# Ваше решение:"
   ]
  },
  {
   "cell_type": "markdown",
   "id": "eec82017",
   "metadata": {},
   "source": [
    "\n",
    "**Код:**\n",
    "\n",
    "```python\n",
    "x = 7.5\n",
    "x -= 0.5\n",
    "x *= 2\n",
    "print(x)\n",
    "```\n",
    "\n",
    "**Объяснение:**\n",
    "\n",
    "Операторы можно применять по очереди, и Python запоминает изменения переменной в памяти."
   ]
  },
  {
   "cell_type": "markdown",
   "id": "7961d784",
   "metadata": {},
   "source": [
    "<br>\n",
    "\n",
    "---\n",
    "\n",
    "<br>\n",
    "\n",
    "\n",
    "##### 📬 Author:\n",
    "\n",
    "**Siergej Sobolewski**  \n",
    "\n",
    "[![Email 🚀](https://img.shields.io/badge/Email-s.sobolewski@hotmail.com-blue?logo=protonmail)](mailto:s.sobolewski@hotmail.com)\n",
    "[![GitHub](https://img.shields.io/badge/GitHub-SSobol77-blue?logo=github)](https://github.com/SSobol77)\n",
    "[![LinkedIn](https://img.shields.io/badge/LinkedIn-Connect-blue?logo=linkedin)](https://linkedin.com/in/siergej-s-25a16319a)\n",
    "\n",
    "<br>"
   ]
  }
 ],
 "metadata": {
  "kernelspec": {
   "display_name": "Python 3",
   "language": "python",
   "name": "python3"
  },
  "language_info": {
   "codemirror_mode": {
    "name": "ipython",
    "version": 3
   },
   "file_extension": ".py",
   "mimetype": "text/x-python",
   "name": "python",
   "nbconvert_exporter": "python",
   "pygments_lexer": "ipython3",
   "version": "3.13.2"
  }
 },
 "nbformat": 4,
 "nbformat_minor": 5
}
