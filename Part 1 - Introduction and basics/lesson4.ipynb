{
 "cells": [
  {
   "cell_type": "markdown",
   "id": "3ab62a02",
   "metadata": {},
   "source": [
    "# **Урок 4: 🔁 Преобразование типов в Python**\n",
    "\n",
    "<br>\n",
    "\n",
    "---\n",
    "\n",
    "<br>"
   ]
  },
  {
   "cell_type": "markdown",
   "id": "9688791f",
   "metadata": {},
   "source": [
    "> На этом уроке мы продолжим рассматривать и закреплять тему **\"Преобразования типов данных\"** или **\"приведение типов\"**\n"
   ]
  },
  {
   "cell_type": "markdown",
   "id": "1f309a57",
   "metadata": {},
   "source": [
    "#### **Что такое тип данных в Python?**\n",
    "\n",
    "В Python у каждого значения есть свой **тип**, это могут быть:\n",
    "\n",
    "* **`str`** — строка (текст),\n",
    "* **`int`** — целое число,\n",
    "* **`float`** — дробное число,\n",
    "* **`bool`** — логическое значение: True или False.\n"
   ]
  },
  {
   "cell_type": "markdown",
   "id": "6025b372",
   "metadata": {},
   "source": [
    "<br>\n",
    "\n",
    "### 📌 **Функции преобразования типов**\n",
    "\n",
    "Это функции, при помощи которых мы можем легко преобразовывать типы наших данных\n",
    "\n",
    "| Цель                   | Функция   | Пример                   |\n",
    "| ---------------------- | --------- | ------------------------ |\n",
    "| Строка → целое число   | `int()`   | `int(\"123\")` → `123`     |\n",
    "| Строка → дробное число | `float()` | `float(\"3.14\")` → `3.14` |\n",
    "| Число → строка         | `str()`   | `str(42)` → `\"42\"`       |\n",
    "| Значение → логика      | `bool()`  | `bool(0)` → `False`      |\n",
    "\n",
    "<br>"
   ]
  },
  {
   "cell_type": "markdown",
   "id": "bccccf5d",
   "metadata": {},
   "source": [
    "#### **Примеры преобразования**"
   ]
  },
  {
   "cell_type": "code",
   "execution_count": null,
   "id": "fda7ed13",
   "metadata": {},
   "outputs": [],
   "source": [
    "print(int(\"123\"))       # 123\n",
    "print(float(\"3.14\"))    # 3.14\n",
    "print(str(100))         # \"100\"\n",
    "print(bool(\"\"))         # False\n",
    "print(bool(\"Python\"))   # True"
   ]
  },
  {
   "cell_type": "markdown",
   "id": "3fd3d9a6",
   "metadata": {},
   "source": [
    "<br>\n",
    "\n",
    "### 📌 **Когда преобразование обязательно:**\n",
    "\n",
    "<br>"
   ]
  },
  {
   "cell_type": "markdown",
   "id": "e8f44703",
   "metadata": {},
   "source": [
    "#### **Случай 1: При вводе от пользователя**\n",
    "\n",
    "```python\n",
    "pages = int(input(\"Сколько страниц в книге? \"))\n",
    "print(pages + 10)  # работает, потому что pages — это число\n",
    "```"
   ]
  },
  {
   "cell_type": "code",
   "execution_count": null,
   "id": "1e7b2109",
   "metadata": {},
   "outputs": [],
   "source": [
    "# Впишите код:"
   ]
  },
  {
   "cell_type": "markdown",
   "id": "54f9be13",
   "metadata": {},
   "source": [
    "#### **Случай 2: При выводе текста**\n",
    "\n",
    "```python\n",
    "year = 2025\n",
    "print(\"Сейчас\", year)  # можно\n",
    "print(\"Сейчас \" + str(year))  # тоже можно (всё превращаем в строку)\n",
    "```\n"
   ]
  },
  {
   "cell_type": "code",
   "execution_count": null,
   "id": "fd37db89",
   "metadata": {},
   "outputs": [],
   "source": [
    "# Впишите код:"
   ]
  },
  {
   "cell_type": "markdown",
   "id": "fb4bd260",
   "metadata": {},
   "source": [
    "<br>\n",
    "\n",
    "### ⚠️ **Возможные ошибки**\n",
    "\n",
    "| Ошибка          | Почему                                   | \n",
    "| --------------- | ---------------------------------------- |\n",
    "| `int(\"abc\")`    | Нельзя превратить текст в число          |\n",
    "| `float(\"3,14\")` | Python ждёт точку, а не запятую          |\n",
    "| `int(\"5.5\")`    | Дробь нельзя превратить в целое напрямую |\n",
    "\n",
    "<br>\n",
    "\n",
    "#### **Чтобы защититься от ошибок:**\n",
    "\n",
    "- Можно использовать **`try` и `except`**, но это мы изучим позже.\n",
    "\n",
    "- Сейчас — просто помни: **ввод всегда строка**, преобразовывай, **если нужно**.\n",
    "\n",
    "<br>\n"
   ]
  },
  {
   "cell_type": "markdown",
   "id": "5683f2eb",
   "metadata": {},
   "source": [
    "✅ **Пример 1:**\n",
    "\n",
    "```python\n",
    "number = input(\"Введите число: \")\n",
    "number = int(number)\n",
    "print(\"Удвоенное значение:\", number * 2)\n",
    "```"
   ]
  },
  {
   "cell_type": "code",
   "execution_count": null,
   "id": "d145b4a1",
   "metadata": {},
   "outputs": [],
   "source": [
    "# Впишите код:"
   ]
  },
  {
   "cell_type": "markdown",
   "id": "fcbe13b3",
   "metadata": {},
   "source": [
    "✅ **Пример 2:**\n",
    "\n",
    "```python\n",
    "length = float(input(\"Длина комнаты в метрах: \"))\n",
    "width = float(input(\"Ширина комнаты в метрах: \"))\n",
    "print(\"Площадь:\", length * width, \"кв. м\")\n",
    "```"
   ]
  },
  {
   "cell_type": "code",
   "execution_count": null,
   "id": "b3bf6129",
   "metadata": {},
   "outputs": [],
   "source": [
    "# Впишите код:"
   ]
  },
  {
   "cell_type": "markdown",
   "id": "8fa0e427",
   "metadata": {},
   "source": [
    "<br>\n",
    "\n",
    "---\n",
    "\n",
    "<br>"
   ]
  },
  {
   "cell_type": "markdown",
   "id": "0ddd072c",
   "metadata": {},
   "source": [
    "## 🧠 **Задачник 3: Преобразование типов данных**\n"
   ]
  },
  {
   "cell_type": "markdown",
   "id": "6e972386",
   "metadata": {},
   "source": [
    "<br>\n",
    "\n",
    "#### ➡️ **Задача 1**\n",
    "\n",
    "**Условие:**\n",
    "\n",
    "Вводится строка `\"123\"`. Преобразуйте её в число и прибавьте 10.\n"
   ]
  },
  {
   "cell_type": "code",
   "execution_count": null,
   "id": "6c238b9c",
   "metadata": {},
   "outputs": [],
   "source": [
    "# Ваше решение:"
   ]
  },
  {
   "cell_type": "markdown",
   "id": "7bbf9b0c",
   "metadata": {},
   "source": [
    "**Код:**\n",
    "\n",
    "```python\n",
    "s = \"123\"\n",
    "n = int(s)\n",
    "print(n + 10)\n",
    "```\n",
    "\n",
    "**Объяснение:**\n",
    "\n",
    "Строка `\"123\"` не может участвовать в арифметике. `int(s)` превращает её в целое число, с которым можно складывать.\n"
   ]
  },
  {
   "cell_type": "markdown",
   "id": "56d19576",
   "metadata": {},
   "source": [
    "<br>\n",
    "\n",
    "#### ➡️ **Задача 2**\n",
    "\n",
    "**Условие:**\n",
    "\n",
    "Вводится `\"3.14\"`. Выведите число + 2, используя `float()`.\n"
   ]
  },
  {
   "cell_type": "code",
   "execution_count": null,
   "id": "45991979",
   "metadata": {},
   "outputs": [],
   "source": [
    "# Ваше решение:"
   ]
  },
  {
   "cell_type": "markdown",
   "id": "1b92a343",
   "metadata": {},
   "source": [
    "**Код:**\n",
    "\n",
    "```python\n",
    "f = float(\"3.14\")\n",
    "print(f + 2)\n",
    "```\n",
    "\n",
    "**Объяснение:**\n",
    "\n",
    "`float()` позволяет работать с дробным значением как с числом, а не строкой.\n"
   ]
  },
  {
   "cell_type": "markdown",
   "id": "21a8bcbd",
   "metadata": {},
   "source": [
    "<br>\n",
    "\n",
    "#### ➡️ **Задача 3**\n",
    "\n",
    "**Условие:**\n",
    "\n",
    "Пользователь вводит число. Выведите строку: `\"Вы ввели число 25\"` (где 25 — пример числа).\n"
   ]
  },
  {
   "cell_type": "code",
   "execution_count": null,
   "id": "bf386a6b",
   "metadata": {},
   "outputs": [],
   "source": [
    "# Ваше решение:"
   ]
  },
  {
   "cell_type": "markdown",
   "id": "0d5a754a",
   "metadata": {},
   "source": [
    "**Код:**\n",
    "\n",
    "```python\n",
    "num = input(\"Введите число: \")\n",
    "print(\"Вы ввели число \" + num)\n",
    "```\n",
    "\n",
    "**Объяснение:**\n",
    "`input()` возвращает строку, и её можно соединять с другими строками без преобразования.\n"
   ]
  },
  {
   "cell_type": "markdown",
   "id": "11a96f5b",
   "metadata": {},
   "source": [
    "<br>\n",
    "\n",
    "#### ➡️ **Задача 4**\n",
    "\n",
    "**Условие:**\n",
    "\n",
    "Пользователь вводит число, выведите его тип до и после приведения к `float`.\n"
   ]
  },
  {
   "cell_type": "code",
   "execution_count": null,
   "id": "d6287612",
   "metadata": {},
   "outputs": [],
   "source": [
    "# Ваше решение:"
   ]
  },
  {
   "cell_type": "markdown",
   "id": "3c4a0208",
   "metadata": {},
   "source": [
    "**Код:**\n",
    "\n",
    "```python\n",
    "s = input(\"Введите число: \")\n",
    "print(type(s))\n",
    "f = float(s)\n",
    "print(type(f))\n",
    "```\n",
    "\n",
    "**Объяснение:**\n",
    "\n",
    "Сначала — строка, потом — дробное число. Проверка типа через `type()`.\n"
   ]
  },
  {
   "cell_type": "markdown",
   "id": "86f48ef1",
   "metadata": {},
   "source": [
    "<br>\n",
    "\n",
    "#### ➡️ **Задача 5**\n",
    "\n",
    "**Условие:**\n",
    "\n",
    "Дано: `num = 5`. Преобразуйте его в строку, добавьте к `\"лет\"` и выведите.\n"
   ]
  },
  {
   "cell_type": "code",
   "execution_count": null,
   "id": "2d5f9589",
   "metadata": {},
   "outputs": [],
   "source": [
    "# Ваше решение:"
   ]
  },
  {
   "cell_type": "markdown",
   "id": "14f35ccc",
   "metadata": {},
   "source": [
    "**Код:**\n",
    "\n",
    "```python\n",
    "num = 5\n",
    "print(str(num) + \" лет\")\n",
    "```\n",
    "\n",
    "**Объяснение:**\n",
    "\n",
    "`str()` позволяет объединить число с текстом.\n"
   ]
  },
  {
   "cell_type": "markdown",
   "id": "bcbfdeed",
   "metadata": {},
   "source": [
    "<br>\n",
    "\n",
    "#### ➡️ **Задача 6**\n",
    "\n",
    "**Условие:**\n",
    "\n",
    "Вводится два числа: сначала как строки. Преобразуйте оба в числа, выведите их произведение.\n"
   ]
  },
  {
   "cell_type": "code",
   "execution_count": null,
   "id": "4d8da32c",
   "metadata": {},
   "outputs": [],
   "source": [
    "# Ваше решение:"
   ]
  },
  {
   "cell_type": "markdown",
   "id": "5cd778b7",
   "metadata": {},
   "source": [
    "**Код:**\n",
    "\n",
    "```python\n",
    "a = int(input(\"Первое число: \"))\n",
    "b = int(input(\"Второе число: \"))\n",
    "print(\"Произведение:\", a * b)\n",
    "```\n",
    "\n",
    "**Объяснение:**\n",
    "\n",
    "`int()` используется для арифметических операций. Без него строки нельзя умножать между собой.\n"
   ]
  },
  {
   "cell_type": "markdown",
   "id": "09cbff0c",
   "metadata": {},
   "source": [
    "<br>\n",
    "\n",
    "#### ➡️ **Задача 7**\n",
    "\n",
    "**Условие:**\n",
    "\n",
    "Строка `\"True\"` не является булевым значением. Попробуйте применить `bool()` к пустой строке и строке `\"0\"`.\n"
   ]
  },
  {
   "cell_type": "code",
   "execution_count": null,
   "id": "833b944a",
   "metadata": {},
   "outputs": [],
   "source": [
    "# Ваше решение:"
   ]
  },
  {
   "cell_type": "markdown",
   "id": "059eb2a1",
   "metadata": {},
   "source": [
    "**Код:**\n",
    "\n",
    "```python\n",
    "print(bool(\"\"))     # False\n",
    "print(bool(\"0\"))    # True\n",
    "```\n",
    "\n",
    "**Объяснение:**\n",
    "\n",
    "Пустая строка — `False`. Даже строка `\"0\"` — непустая, значит `True`.\n"
   ]
  },
  {
   "cell_type": "markdown",
   "id": "61c6b360",
   "metadata": {},
   "source": [
    "<br>\n",
    "\n",
    "#### ➡️ **Задача 8**\n",
    "\n",
    "**Условие:**\n",
    "\n",
    "Пользователь вводит дробное число в виде строки. \n",
    "\n",
    "Преобразуйте и выведите:\n",
    "`Число: 3.2, Тип: <class 'float'>`\n"
   ]
  },
  {
   "cell_type": "code",
   "execution_count": null,
   "id": "9661801d",
   "metadata": {},
   "outputs": [],
   "source": [
    "# Ваше решение:"
   ]
  },
  {
   "cell_type": "markdown",
   "id": "ac1bd21a",
   "metadata": {},
   "source": [
    "**Код:**\n",
    "\n",
    "```python\n",
    "x = input(\"Введите дробное число: \")\n",
    "y = float(x)\n",
    "print(f\"Число: {y}, Тип: {type(y)}\")\n",
    "```\n",
    "\n",
    "**Объяснение:**\n",
    "\n",
    "Проверяем преобразование с помощью `float()` и функции `type()`.\n"
   ]
  },
  {
   "cell_type": "markdown",
   "id": "df147d05",
   "metadata": {},
   "source": [
    "<br>\n",
    "\n",
    "#### ➡️ **Задача 9**\n",
    "\n",
    "**Условие:**\n",
    "\n",
    "Вводится строка `\"25\"`. Преобразуйте в `int`, затем обратно в `str`, затем выведите типы всех значений.\n"
   ]
  },
  {
   "cell_type": "code",
   "execution_count": null,
   "id": "5107a58b",
   "metadata": {},
   "outputs": [],
   "source": [
    "# Ваше решение:"
   ]
  },
  {
   "cell_type": "markdown",
   "id": "551ffe8e",
   "metadata": {},
   "source": [
    "**Код:**\n",
    "\n",
    "```python\n",
    "s = \"25\"\n",
    "n = int(s)\n",
    "s2 = str(n)\n",
    "print(type(s), type(n), type(s2))\n",
    "```\n",
    "\n",
    "**Объяснение:**\n",
    "Упражнение на понимание цепочки преобразований и работу с типами.\n"
   ]
  },
  {
   "cell_type": "markdown",
   "id": "a257e704",
   "metadata": {},
   "source": [
    "<br>\n",
    "\n",
    "#### ➡️ **Задача 10**\n",
    "\n",
    "**Условие:**\n",
    "\n",
    "Пользователь вводит два целых и одно дробное число. Найдите среднее арифметическое. Все вводы — строки.\n"
   ]
  },
  {
   "cell_type": "code",
   "execution_count": null,
   "id": "5efaecb0",
   "metadata": {},
   "outputs": [],
   "source": [
    "# Ваше решение:"
   ]
  },
  {
   "cell_type": "markdown",
   "id": "7f69ff05",
   "metadata": {},
   "source": [
    "**Код:**\n",
    "\n",
    "```python\n",
    "a = int(input(\"Первое целое: \"))\n",
    "b = int(input(\"Второе целое: \"))\n",
    "c = float(input(\"Дробное: \"))\n",
    "\n",
    "avg = (a + b + c) / 3\n",
    "print(\"Среднее:\", avg)\n",
    "```\n",
    "\n",
    "**Объяснение:**\n",
    "После преобразования используем обычную формулу среднего. Без `int()` и `float()` программа бы упала с ошибкой.\n",
    "\n",
    "<br>\n"
   ]
  },
  {
   "cell_type": "markdown",
   "id": "4e421cc2",
   "metadata": {},
   "source": [
    "<br>\n",
    "\n",
    "---\n",
    "\n",
    "<br>\n",
    "\n",
    "\n",
    "##### 📬 Author:\n",
    "\n",
    "**Siergej Sobolewski**  \n",
    "\n",
    "[![Email 🚀](https://img.shields.io/badge/Email-s.sobolewski@hotmail.com-blue?logo=protonmail)](mailto:s.sobolewski@hotmail.com)\n",
    "[![GitHub](https://img.shields.io/badge/GitHub-SSobol77-blue?logo=github)](https://github.com/SSobol77)\n",
    "[![LinkedIn](https://img.shields.io/badge/LinkedIn-Connect-blue?logo=linkedin)](https://linkedin.com/in/siergej-s-25a16319a)\n",
    "\n",
    "<br>"
   ]
  }
 ],
 "metadata": {
  "kernelspec": {
   "display_name": "Python 3",
   "language": "python",
   "name": "python3"
  },
  "language_info": {
   "name": "python",
   "version": "3.13.2"
  }
 },
 "nbformat": 4,
 "nbformat_minor": 5
}
