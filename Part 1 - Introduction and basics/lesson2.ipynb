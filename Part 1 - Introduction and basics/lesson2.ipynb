{
 "cells": [
  {
   "cell_type": "markdown",
   "id": "238bc90c",
   "metadata": {},
   "source": [
    "# **Урок 2: 🔤 Переменные и функция вывода `print()`**\n",
    "\n",
    "<br>\n",
    "\n",
    "---\n",
    "\n",
    "<br>"
   ]
  },
  {
   "cell_type": "markdown",
   "id": "119bec32",
   "metadata": {},
   "source": [
    "<br>\n",
    "\n",
    "## **1. Что такое переменные?**\n",
    "\n",
    "**Переменная** — это как *коробка с ярлыком*, куда ты можешь положить данные, а потом использовать их в программе.\n"
   ]
  },
  {
   "cell_type": "markdown",
   "id": "af266f2d",
   "metadata": {},
   "source": [
    "<br>\n",
    "\n",
    "**✅ Пример:**\n",
    "\n",
    "```python\n",
    "\n",
    "name = \"Маша\"\n",
    "age = 12\n",
    "\n",
    "```\n",
    "\n",
    "**Объяснение:**\n",
    "\n",
    "* `name` — это название коробки.\n",
    "\n",
    "* `=` — команда \"положить в коробку\".\n",
    "\n",
    "* `\"Маша\"` — это то, что мы положили.\n",
    "\n",
    "* Теперь, если мы захотим использовать имя, нам достаточно написать `name`.\n"
   ]
  },
  {
   "cell_type": "markdown",
   "id": "ed82bcec",
   "metadata": {},
   "source": [
    "<br>\n",
    "\n",
    "### **2. Как работают переменные в Python**\n",
    "\n",
    "Python автоматически:\n",
    "\n",
    "* выделяет память (место в оперативной памяти);\n",
    "\n",
    "* присваивает значение;\n",
    "\n",
    "* определяет тип данных (число, текст, список и т.д.).\n",
    "\n",
    "\n",
    "**✅  Примеры:**\n",
    "\n",
    "```python\n",
    "x = 10         # целое число (int)\n",
    "pi = 3.14      # число с точкой (float)\n",
    "text = \"Привет\" # строка (str)\n",
    "```\n",
    "\n",
    "<br>\n",
    "\n",
    "**Выполните код:**"
   ]
  },
  {
   "cell_type": "code",
   "execution_count": 1,
   "id": "f926df50",
   "metadata": {},
   "outputs": [],
   "source": [
    "x = 10             # целое число (int)\n",
    "pi = 3.14          # число с точкой (float)\n",
    "text = \"Привет\"    # строка (str)"
   ]
  },
  {
   "cell_type": "markdown",
   "id": "74d40c1e",
   "metadata": {},
   "source": [
    "<br>\n",
    "\n",
    "### **3. Имена переменных: правила**\n",
    "\n",
    "* Название может содержать **буквы, цифры и знак подчеркивания**.\n",
    "\n",
    "* Нельзя начинать имя переменной с цифры.\n",
    "\n",
    "* Регистр имеет значение: `Name` и `name` — это разные переменные.\n",
    "\n",
    "* Название должно быть понятным:\n",
    "\n",
    "  ```python\n",
    "  user_name = \"Иван\"    # хорошо\n",
    "  x = \"Иван\"            # плохо, непонятно\n",
    "  ```"
   ]
  },
  {
   "cell_type": "markdown",
   "id": "9575c603",
   "metadata": {},
   "source": [
    "<br>\n",
    "\n",
    "### **4. Функция `print()`**\n",
    "\n",
    "\n",
    "`print()` — это встроенная функция Python, которая **выводит текст в консоль** (на экран).\n",
    "\n",
    "<br>\n",
    "\n",
    "**✅ Пример:**\n",
    "\n",
    "```python\n",
    "print(\"Привет, мир!\")\n",
    "```\n",
    "\n",
    "**Результат:**\n",
    "\n",
    "```\n",
    "Привет, мир!\n",
    "```\n",
    "\n",
    "<br>\n",
    "\n",
    "**Выполните код:**"
   ]
  },
  {
   "cell_type": "code",
   "execution_count": 2,
   "id": "2361d8aa",
   "metadata": {},
   "outputs": [
    {
     "name": "stdout",
     "output_type": "stream",
     "text": [
      "Привет, мир!\n"
     ]
    }
   ],
   "source": [
    "print(\"Привет, мир!\")"
   ]
  },
  {
   "cell_type": "markdown",
   "id": "0eb5846c",
   "metadata": {},
   "source": [
    "<br>\n",
    "\n",
    "### **5. Печать переменных**\n",
    "\n",
    "Можно выводить не только строки, но и значения переменных:\n",
    "\n",
    "```python\n",
    "name = \"Катя\"\n",
    "print(name)\n",
    "```\n",
    "\n",
    "**Результат:**\n",
    "\n",
    "```\n",
    "Катя\n",
    "```\n",
    "<br>\n",
    "\n",
    "**Выполните код:**"
   ]
  },
  {
   "cell_type": "code",
   "execution_count": 3,
   "id": "ef4d6388",
   "metadata": {},
   "outputs": [
    {
     "name": "stdout",
     "output_type": "stream",
     "text": [
      "Катя\n"
     ]
    }
   ],
   "source": [
    "name = \"Катя\"\n",
    "print(name)"
   ]
  },
  {
   "cell_type": "markdown",
   "id": "94b48de5",
   "metadata": {},
   "source": [
    "<br>\n",
    "\n",
    "### **6. Комбинирование текста и переменных**\n",
    "\n",
    "##### **Способ 1: Через запятую**\n",
    "\n",
    "```python\n",
    "name = \"Антон\"\n",
    "print(\"Привет,\", name)\n",
    "```\n",
    "<br>\n",
    "\n",
    "**Выполните код:**"
   ]
  },
  {
   "cell_type": "code",
   "execution_count": null,
   "id": "c059c7eb",
   "metadata": {},
   "outputs": [],
   "source": [
    "name = \"Антон\"\n",
    "print(\"Привет,\", name)"
   ]
  },
  {
   "cell_type": "markdown",
   "id": "39ca0c9a",
   "metadata": {},
   "source": [
    "##### **Способ 2: f-строки (современный способ)**\n",
    "\n",
    "```python\n",
    "age = 14\n",
    "print(f\"Мне {age} лет\")\n",
    "```\n",
    "<br>\n",
    "\n",
    "**Выполните код:**"
   ]
  },
  {
   "cell_type": "code",
   "execution_count": null,
   "id": "f89280ce",
   "metadata": {},
   "outputs": [],
   "source": [
    "age = 14\n",
    "print(f\"Мне {age} лет\")"
   ]
  },
  {
   "cell_type": "markdown",
   "id": "a12c49a8",
   "metadata": {},
   "source": [
    "<br>\n",
    "\n",
    "### 📌 **7. Частые ошибки**\n",
    "\n",
    "| Ошибка                      | Пример              | Что не так                         |\n",
    "| --------------------------- | ------------------- | ---------------------------------- |\n",
    "| Пробелы в имени             | `user name = \"Оля\"` | Нельзя использовать пробел         |\n",
    "| Опечатка                    | `pritn(\"Hello\")`    | Неправильное имя функции           |\n",
    "| Использование до объявления | `print(age)`        | Если переменная ещё не была задана |\n",
    "\n",
    "<br>"
   ]
  },
  {
   "cell_type": "markdown",
   "id": "3e845297",
   "metadata": {},
   "source": [
    "<br>\n",
    "\n",
    "---\n",
    "\n",
    "<br>"
   ]
  },
  {
   "cell_type": "markdown",
   "id": "05d00e70",
   "metadata": {},
   "source": [
    "### **Практика**\n",
    "\n",
    "Попробуй сам:\n",
    "\n",
    "```python\n",
    "# Задай переменные\n",
    "name = \"Лена\"\n",
    "age = 11\n",
    "city = \"Москва\"\n",
    "\n",
    "# Выведи их на экран разными способами\n",
    "print(\"Имя:\", name)\n",
    "print(f\"{name} живёт в городе {city}\")\n",
    "print(\"Через 5 лет ей будет\", age + 5)\n",
    "```\n",
    "<br>\n",
    "\n",
    "**Выполните код:**"
   ]
  },
  {
   "cell_type": "code",
   "execution_count": null,
   "id": "8ce281fe",
   "metadata": {},
   "outputs": [],
   "source": [
    "# Впишите код:\n"
   ]
  },
  {
   "cell_type": "markdown",
   "id": "e1e48f62",
   "metadata": {},
   "source": [
    "<br>\n",
    "\n",
    "### **Задание на дом**\n",
    "\n",
    "Создай программу, которая:\n",
    "\n",
    "1. Запоминает:\n",
    "\n",
    "   * имя пользователя\n",
    "   * его возраст\n",
    "   * город проживания\n",
    "\n",
    "2. Выводит три строки:\n",
    "\n",
    "   * Приветствие\n",
    "   * Возраст через 10 лет\n",
    "   * Сообщение о городе\n",
    "\n",
    "**Ожидаемый вывод результата:**\n",
    "\n",
    "```\n",
    "Привет, меня зовут Игорь!\n",
    "Мне 25 лет, через 10 лет будет 35.\n",
    "Я живу в городе Казань.\n",
    "```\n"
   ]
  },
  {
   "cell_type": "code",
   "execution_count": null,
   "id": "29989b4b",
   "metadata": {},
   "outputs": [],
   "source": [
    "# Впишите код:"
   ]
  },
  {
   "cell_type": "markdown",
   "id": "4e29df01",
   "metadata": {},
   "source": [
    "\n",
    "\n",
    "### **Проверь себя**\n",
    "\n",
    "* Что делает функция `print()`?\n",
    "\n",
    "* Зачем нужны переменные?\n",
    "\n",
    "* Можно ли назвать переменную `3name`?\n",
    "\n",
    "* Какой способ вывода предпочтительнее: `f-строки` или `print()` с запятыми?\n",
    "\n",
    "\n",
    "<br>\n",
    "\n",
    "---\n",
    "\n",
    "<br>"
   ]
  },
  {
   "cell_type": "markdown",
   "id": "bd71f716",
   "metadata": {},
   "source": [
    "<br>\n",
    "\n",
    "### 🧠 **Задачник 1: Переменные и  функция `print()`**\n",
    "\n",
    "<br>\n",
    "\n",
    "#### ➡️ **Задача 1**\n",
    "\n",
    "**Условие:** Создайте переменную `name` и присвойте ей ваше имя. Выведите фразу `Привет, <имя>!`.\n"
   ]
  },
  {
   "cell_type": "code",
   "execution_count": null,
   "id": "570523b9",
   "metadata": {},
   "outputs": [],
   "source": [
    "# Впишите код:"
   ]
  },
  {
   "cell_type": "markdown",
   "id": "89851eab",
   "metadata": {},
   "source": [
    "\n",
    "**Код:**\n",
    "\n",
    "```python\n",
    "name = \"Алиса\"\n",
    "print(\"Привет,\", name + \"!\")\n",
    "```\n",
    "\n",
    "**Объяснение:**\n",
    "\n",
    "Мы создаём переменную `name`, в которую записываем строку `\"Алиса\"`. Функция `print()` выводит текст и значение переменной. Символ `+` соединяет строки.\n"
   ]
  },
  {
   "cell_type": "markdown",
   "id": "3e40db20",
   "metadata": {},
   "source": [
    "<br>\n",
    "\n",
    "#### ➡️ **Задача 2**\n",
    "\n",
    "**Условие:** Создайте переменную `year` и выведите её значение с подписью \"Текущий год:\".\n"
   ]
  },
  {
   "cell_type": "code",
   "execution_count": null,
   "id": "fd19bc9c",
   "metadata": {},
   "outputs": [],
   "source": [
    "# Впишите код:"
   ]
  },
  {
   "cell_type": "markdown",
   "id": "88f8be54",
   "metadata": {},
   "source": [
    "\n",
    "**Код:**\n",
    "\n",
    "```python\n",
    "year = 2025\n",
    "print(\"Текущий год:\", year)\n",
    "```\n",
    "\n",
    "**Объяснение:**\n",
    "\n",
    "`print()` умеет выводить текст и числа через запятую. Python автоматически добавит пробел между ними.\n"
   ]
  },
  {
   "cell_type": "markdown",
   "id": "69b58d86",
   "metadata": {},
   "source": [
    "<br>\n",
    "\n",
    "#### ➡️ **Задача 3**\n",
    "\n",
    "**Условие:** Задайте переменные `city = \"Москва\"` и `temp = -5`, выведите фразу: \"В городе Москва сейчас -5 градусов\".\n"
   ]
  },
  {
   "cell_type": "code",
   "execution_count": null,
   "id": "0b86dbe3",
   "metadata": {},
   "outputs": [],
   "source": [
    "# Впишите код:"
   ]
  },
  {
   "cell_type": "markdown",
   "id": "10522056",
   "metadata": {},
   "source": [
    "**Код:**\n",
    "\n",
    "```python\n",
    "city = \"Москва\"\n",
    "temp = -5\n",
    "print(f\"В городе {city} сейчас {temp} градусов\")\n",
    "```\n",
    "\n",
    "**Объяснение:**\n",
    "\n",
    "Используется f-строка для подстановки переменных прямо в текст. Это удобно и читаемо.\n"
   ]
  },
  {
   "cell_type": "markdown",
   "id": "6493764a",
   "metadata": {},
   "source": [
    "<br>\n",
    "\n",
    "#### ➡️ **Задача 4**\n",
    "\n",
    "**Условие:** Создайте переменные `x = 10`, `y = 5`, выведите их сумму, разность и произведение.\n"
   ]
  },
  {
   "cell_type": "code",
   "execution_count": null,
   "id": "f227d0ae",
   "metadata": {},
   "outputs": [],
   "source": [
    "# Впишите код:"
   ]
  },
  {
   "cell_type": "markdown",
   "id": "92044fd9",
   "metadata": {},
   "source": [
    "\n",
    "**Код:**\n",
    "\n",
    "```python\n",
    "x = 10\n",
    "y = 5\n",
    "print(\"Сумма:\", x + y)\n",
    "print(\"Разность:\", x - y)\n",
    "print(\"Произведение:\", x * y)\n",
    "```\n",
    "\n",
    "**Объяснение:**\n",
    "\n",
    "Каждая операция проводится с переменными, результат выводится через `print()`.\n"
   ]
  },
  {
   "cell_type": "markdown",
   "id": "9f970c9b",
   "metadata": {},
   "source": [
    "<br>\n",
    "\n",
    "#### ➡️ **Задача 5**\n",
    "\n",
    "**Условие:** Объявите переменную `message = \"Python это круто\"` и выведите её трижды на разных строках.\n"
   ]
  },
  {
   "cell_type": "code",
   "execution_count": null,
   "id": "30c856d4",
   "metadata": {},
   "outputs": [],
   "source": [
    "# Впишите код:"
   ]
  },
  {
   "cell_type": "markdown",
   "id": "2f34add3",
   "metadata": {},
   "source": [
    "**Код:**\n",
    "\n",
    "```python\n",
    "message = \"Python это круто\"\n",
    "print(message)\n",
    "print(message)\n",
    "print(message)\n",
    "```\n",
    "\n",
    "**Объяснение:**\n",
    "Один и тот же текст выводится несколько раз, переменная используется повторно.\n"
   ]
  },
  {
   "cell_type": "markdown",
   "id": "15a5cf61",
   "metadata": {},
   "source": [
    "<br>\n",
    "\n",
    "#### ➡️ **Задача 6**\n",
    "\n",
    "**Условие:** Создайте переменную `a = 3.14`. Выведите её тип и значение.\n"
   ]
  },
  {
   "cell_type": "code",
   "execution_count": null,
   "id": "91967e9d",
   "metadata": {},
   "outputs": [],
   "source": [
    "# Впишите код:"
   ]
  },
  {
   "cell_type": "markdown",
   "id": "1719a01f",
   "metadata": {},
   "source": [
    "**Код:**\n",
    "\n",
    "```python\n",
    "a = 3.14\n",
    "print(\"Значение:\", a)\n",
    "print(\"Тип:\", type(a))\n",
    "```\n",
    "\n",
    "**Объяснение:**\n",
    "Функция `type()` показывает тип переменной (в данном случае `float` — дробное число).\n"
   ]
  },
  {
   "cell_type": "markdown",
   "id": "eb13bf6b",
   "metadata": {},
   "source": [
    "<br>\n",
    "\n",
    "#### ➡️ **Задача 7**\n",
    "\n",
    "**Условие:** Создайте переменную `num = 7`, выведите фразу \"Число: 7, квадрат: 49\"\n"
   ]
  },
  {
   "cell_type": "code",
   "execution_count": null,
   "id": "aa5541aa",
   "metadata": {},
   "outputs": [],
   "source": [
    "# Впишите код:"
   ]
  },
  {
   "cell_type": "markdown",
   "id": "8113c8b6",
   "metadata": {},
   "source": [
    "**Код:**\n",
    "\n",
    "```python\n",
    "num = 7\n",
    "print(f\"Число: {num}, квадрат: {num ** 2}\")\n",
    "```\n",
    "\n",
    "**Объяснение:**\n",
    "Используем возведение в степень (`**`) и f-строку для читаемого вывода.\n"
   ]
  },
  {
   "cell_type": "markdown",
   "id": "66447919",
   "metadata": {},
   "source": [
    "<br>\n",
    "\n",
    "#### ➡️ **Задача 8**\n",
    "\n",
    "**Условие:** Введите имя и возраст, сохраните в переменные `name` и `age`, выведите: \"Имя: <имя>, Возраст: <возраст>\"\n"
   ]
  },
  {
   "cell_type": "code",
   "execution_count": null,
   "id": "10f9c910",
   "metadata": {},
   "outputs": [],
   "source": [
    "# Впишите код:"
   ]
  },
  {
   "cell_type": "markdown",
   "id": "b92c1c85",
   "metadata": {},
   "source": [
    "**Код:**\n",
    "\n",
    "```python\n",
    "name = \"Ирина\"\n",
    "age = 25\n",
    "print(\"Имя:\", name, \"Возраст:\", age)\n",
    "```\n",
    "\n",
    "**Объяснение:**\n",
    "\n",
    "Множественные значения можно выводить в одной команде `print()` через запятую.\n"
   ]
  },
  {
   "cell_type": "markdown",
   "id": "dfdc89b8",
   "metadata": {},
   "source": [
    "<br>\n",
    "\n",
    "#### ➡️ **Задача 9**\n",
    "\n",
    "**Условие:** Объявите переменные `x = 2`, `y = 4`, `z = 6` и выведите сумму всех трёх.\n"
   ]
  },
  {
   "cell_type": "code",
   "execution_count": null,
   "id": "700bea72",
   "metadata": {},
   "outputs": [],
   "source": [
    "# Впишите код:"
   ]
  },
  {
   "cell_type": "markdown",
   "id": "880e71e5",
   "metadata": {},
   "source": [
    "**Код:**\n",
    "\n",
    "```python\n",
    "x = 2\n",
    "y = 4\n",
    "z = 6\n",
    "print(\"Сумма трёх чисел:\", x + y + z)\n",
    "```\n",
    "\n",
    "**Объяснение:**\n",
    "Сложение может производиться сразу между несколькими переменными.\n"
   ]
  },
  {
   "cell_type": "markdown",
   "id": "e1172c95",
   "metadata": {},
   "source": [
    "<br>\n",
    "\n",
    "#### ➡️ **Задача 10**\n",
    "\n",
    "**Условие:** Выведите фразу `\"Привет\"` в кавычках, используя `print()`.\n"
   ]
  },
  {
   "cell_type": "code",
   "execution_count": null,
   "id": "d0655bfa",
   "metadata": {},
   "outputs": [],
   "source": [
    "# Впишите код:"
   ]
  },
  {
   "cell_type": "markdown",
   "id": "623efa31",
   "metadata": {},
   "source": [
    "**Код:**\n",
    "\n",
    "```python\n",
    "print('\"Привет\"')\n",
    "```\n",
    "\n",
    "**Объяснение:**\n",
    "Чтобы напечатать кавычки, можно использовать двойные внутри одинарных или экранирование.\n"
   ]
  },
  {
   "cell_type": "markdown",
   "id": "06da582b",
   "metadata": {},
   "source": [
    "\n",
    "<br>\n",
    "\n",
    "---\n",
    "\n",
    "<br>\n",
    "\n",
    "\n",
    "##### 📬 Author:\n",
    "\n",
    "**Siergej Sobolewski**  \n",
    "\n",
    "[![Email 🚀](https://img.shields.io/badge/Email-s.sobolewski@hotmail.com-blue?logo=protonmail)](mailto:s.sobolewski@hotmail.com)\n",
    "[![GitHub](https://img.shields.io/badge/GitHub-SSobol77-blue?logo=github)](https://github.com/SSobol77)\n",
    "[![LinkedIn](https://img.shields.io/badge/LinkedIn-Connect-blue?logo=linkedin)](https://linkedin.com/in/siergej-s-25a16319a)\n",
    "\n",
    "<br>"
   ]
  }
 ],
 "metadata": {
  "kernelspec": {
   "display_name": "Python 3",
   "language": "python",
   "name": "python3"
  },
  "language_info": {
   "codemirror_mode": {
    "name": "ipython",
    "version": 3
   },
   "file_extension": ".py",
   "mimetype": "text/x-python",
   "name": "python",
   "nbconvert_exporter": "python",
   "pygments_lexer": "ipython3",
   "version": "3.13.2"
  }
 },
 "nbformat": 4,
 "nbformat_minor": 5
}
