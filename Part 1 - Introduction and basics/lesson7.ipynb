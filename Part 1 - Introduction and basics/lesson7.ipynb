{
 "cells": [
  {
   "cell_type": "markdown",
   "id": "97a76474",
   "metadata": {},
   "source": [
    "#  **Урок 7: ▶ Операторы в Python** \n",
    "\n",
    "### **- Операторы отношения (сравнения)**\n",
    "\n",
    "<br>\n",
    "\n",
    "---\n",
    "\n",
    "<br>"
   ]
  },
  {
   "cell_type": "markdown",
   "id": "f046ef56",
   "metadata": {},
   "source": [
    "\n",
    "### **📌 Операторы  сравнения**\n",
    "\n",
    "Они сравнивают два значения и возвращают результат **True** или **False** — логическое значение.\n",
    "\n",
    "<br>\n",
    "\n",
    "| Оператор | Значение         | Пример   | Результат |\n",
    "| -------- | ---------------- | -------- | --------- |\n",
    "| `==`     | равно            | `5 == 5` | `True`    |\n",
    "| `!=`     | не равно         | `5 != 3` | `True`    |\n",
    "| `>`      | больше           | `7 > 3`  | `True`    |\n",
    "| `<`      | меньше           | `3 < 2`  | `False`   |\n",
    "| `>=`     | больше или равно | `5 >= 5` | `True`    |\n",
    "| `<=`     | меньше или равно | `2 <= 1` | `False`   |\n",
    "\n",
    "<br>"
   ]
  },
  {
   "cell_type": "markdown",
   "id": "83d8266b",
   "metadata": {},
   "source": [
    "📦 **Как это работает в памяти?**\n",
    "\n",
    "Рассмотрим простой пример:\n",
    "\n",
    "```python\n",
    "x = 10\n",
    "y = 15\n",
    "result = x < y\n",
    "```\n",
    "\n",
    "* `x` и `y` — это ссылки на значения в памяти.\n",
    "* Оператор `<` вызывает **механизм сравнения**, который:\n",
    "\n",
    "  * **читает значения** из памяти,\n",
    "  * сравнивает их,\n",
    "  * сохраняет результат (`True`) в переменной `result`.\n",
    "\n",
    "<br>\n",
    "\n",
    "```bash\n",
    "┌───────────────┬────────────┐\n",
    "│ Переменная    │ Значение   │\n",
    "├───────────────┼────────────┤\n",
    "│ x             │     10     │  → в ячейке памяти: 10\n",
    "│ y             │     15     │  → в ячейке памяти: 15\n",
    "│ result        │    True    │  ← потому что 10 < 15\n",
    "└───────────────┴────────────┘\n",
    "```\n",
    "\n",
    "<br>"
   ]
  },
  {
   "cell_type": "markdown",
   "id": "c8966dd4",
   "metadata": {},
   "source": [
    "✅ **Пример:**\n",
    "\n",
    "```python\n",
    "x = 7\n",
    "y = 5\n",
    "\n",
    "print(\"x == y:\", x == y)\n",
    "print(\"x != y:\", x != y)\n",
    "print(\"x > y:\", x > y)\n",
    "print(\"x < y:\", x < y)\n",
    "print(\"x >= y:\", x >= y)\n",
    "print(\"x <= y:\", x <= y)\n",
    "```"
   ]
  },
  {
   "cell_type": "code",
   "execution_count": null,
   "id": "d9c1305a",
   "metadata": {},
   "outputs": [],
   "source": [
    "# Выполните код"
   ]
  },
  {
   "cell_type": "markdown",
   "id": "5f67b328",
   "metadata": {},
   "source": [
    "<br>\n",
    "\n",
    "### ✅ **Сравнение разных типов данных**\n",
    "\n",
    "```python\n",
    "print(\"5\" == 5)       # False — строка ≠ число\n",
    "print(int(\"5\") == 5)  # True — преобразовали строку в число\n",
    "```\n",
    "\n",
    "<br>\n",
    "\n",
    "⚠️ **Распостраненные ошибки:**\n",
    "\n",
    "| Ошибка                        | Объяснение                                              |\n",
    "| ----------------------------- | ------------------------------------------------------- |\n",
    "| Использование `=` вместо `==` | `=` — это присваивание, `==` — сравнение                |\n",
    "| Сравнение строки и числа      | Python не может сравнить `\"5\"` и `5` без преобразования |\n",
    "| Деление целых чисел           | `/` всегда даёт `float`, даже если делится нацело       |\n",
    "\n",
    "<br>\n"
   ]
  },
  {
   "cell_type": "markdown",
   "id": "ff6cd412",
   "metadata": {},
   "source": [
    "\n",
    "<br>\n",
    "\n",
    "---\n",
    "\n",
    "<br>"
   ]
  },
  {
   "cell_type": "markdown",
   "id": "1d7c8288",
   "metadata": {},
   "source": [
    "### 🧠 **Задачник 7: Операторы сравнения (`==`, `!=`, `<`, `>`, `<=`, `>=`)**\n",
    "\n",
    "\n",
    "<br>"
   ]
  },
  {
   "cell_type": "markdown",
   "id": "8b334946",
   "metadata": {},
   "source": [
    "#### ➡️ **Задача 1**\n",
    "\n",
    "**Условие:**\n",
    "\n",
    "Сравните два числа. Выведите `True`, если они равны, иначе `False`.\n"
   ]
  },
  {
   "cell_type": "code",
   "execution_count": null,
   "id": "7c7c8da1",
   "metadata": {},
   "outputs": [],
   "source": [
    "# Ваше решение:"
   ]
  },
  {
   "cell_type": "markdown",
   "id": "26617ff8",
   "metadata": {},
   "source": [
    "**Код:**\n",
    "\n",
    "```python\n",
    "a = int(input(\"Первое число: \"))\n",
    "b = int(input(\"Второе число: \"))\n",
    "print(a == b)\n",
    "```\n",
    "\n",
    "**Объяснение:**\n",
    "\n",
    "`==` сравнивает значения. Возвращает логическое значение `True` или `False`.\n"
   ]
  },
  {
   "cell_type": "markdown",
   "id": "23a68907",
   "metadata": {},
   "source": [
    "<br>\n",
    "\n",
    "#### ➡️ **Задача 2**\n",
    "\n",
    "**Условие:**\n",
    "\n",
    "Сравните два числа. Выведите `True`, если они не равны.\n"
   ]
  },
  {
   "cell_type": "code",
   "execution_count": null,
   "id": "455c7079",
   "metadata": {},
   "outputs": [],
   "source": [
    "# Ваше решение:"
   ]
  },
  {
   "cell_type": "markdown",
   "id": "eaf65974",
   "metadata": {},
   "source": [
    "**Код:**\n",
    "\n",
    "```python\n",
    "x = int(input(\"x: \"))\n",
    "y = int(input(\"y: \"))\n",
    "print(x != y)\n",
    "```\n",
    "\n",
    "**Объяснение:**\n",
    "\n",
    "`!=` — оператор \"не равно\". Возвращает `True`, если значения различны.\n"
   ]
  },
  {
   "cell_type": "markdown",
   "id": "4e5ad6d3",
   "metadata": {},
   "source": [
    "<br>\n",
    "\n",
    "#### ➡️ **Задача 3**\n",
    "\n",
    "**Условие:**\n",
    "\n",
    "Введите число. Проверьте, больше ли оно 100.\n"
   ]
  },
  {
   "cell_type": "code",
   "execution_count": null,
   "id": "8a56879a",
   "metadata": {},
   "outputs": [],
   "source": [
    "# Ваше решение:"
   ]
  },
  {
   "cell_type": "markdown",
   "id": "2228599d",
   "metadata": {},
   "source": [
    "**Код:**\n",
    "\n",
    "```python\n",
    "n = int(input(\"Введите число: \"))\n",
    "print(n > 100)\n",
    "```\n",
    "\n",
    "**Объяснение:**\n",
    "\n",
    "`>` — проверяет \"строго больше\". Если `n > 100`, результат `True`."
   ]
  },
  {
   "cell_type": "markdown",
   "id": "09e609cf",
   "metadata": {},
   "source": [
    "<br>\n",
    "\n",
    "#### ➡️ **Задача 4**\n",
    "\n",
    "**Условие:**\n",
    "\n",
    "Проверьте, меньше ли первое число второго.\n"
   ]
  },
  {
   "cell_type": "code",
   "execution_count": null,
   "id": "f191467f",
   "metadata": {},
   "outputs": [],
   "source": [
    "# Ваше решение:"
   ]
  },
  {
   "cell_type": "markdown",
   "id": "3ead375d",
   "metadata": {},
   "source": [
    "**Код:**\n",
    "\n",
    "```python\n",
    "a = int(input(\"a = \"))\n",
    "b = int(input(\"b = \"))\n",
    "print(a < b)\n",
    "```\n",
    "\n",
    "**Объяснение:**\n",
    "\n",
    "`<` — оператор \"меньше\". Возвращает `True`, если первое меньше второго.\n"
   ]
  },
  {
   "cell_type": "markdown",
   "id": "a55ae70b",
   "metadata": {},
   "source": [
    "<br>\n",
    "\n",
    "#### ➡️ **Задача 5**\n",
    "\n",
    "**Условие:**\n",
    "\n",
    "Проверьте, не меньше ли число 18 (то есть ≥ 18).\n"
   ]
  },
  {
   "cell_type": "code",
   "execution_count": null,
   "id": "7264f4ba",
   "metadata": {},
   "outputs": [],
   "source": [
    "# Ваше решение:"
   ]
  },
  {
   "cell_type": "markdown",
   "id": "7fcdb36f",
   "metadata": {},
   "source": [
    "**Код:**\n",
    "\n",
    "```python\n",
    "age = int(input(\"Введите возраст: \"))\n",
    "print(age >= 18)\n",
    "```\n",
    "\n",
    "**Объяснение:**\n",
    "\n",
    "`>=` означает \"больше или равно\". Используется, например, при проверке возраста."
   ]
  },
  {
   "cell_type": "markdown",
   "id": "679a542c",
   "metadata": {},
   "source": [
    "<br>\n",
    "\n",
    "#### ➡️ **Задача 6**\n",
    "\n",
    "**Условие:**\n",
    "\n",
    "Проверьте, не больше ли число 50 (то есть ≤ 50).\n"
   ]
  },
  {
   "cell_type": "code",
   "execution_count": null,
   "id": "8fcddbd9",
   "metadata": {},
   "outputs": [],
   "source": [
    "# Ваше решение:"
   ]
  },
  {
   "cell_type": "markdown",
   "id": "2388600d",
   "metadata": {},
   "source": [
    "**Код:**\n",
    "\n",
    "```python\n",
    "score = int(input(\"Введите балл: \"))\n",
    "print(score <= 50)\n",
    "```\n",
    "\n",
    "**Объяснение:**\n",
    "\n",
    "`<=` означает \"меньше или равно\"."
   ]
  },
  {
   "cell_type": "markdown",
   "id": "0596ee4f",
   "metadata": {},
   "source": [
    "<br>\n",
    "\n",
    "#### ➡️ **Задача 7**\n",
    "\n",
    "**Условие:**\n",
    "\n",
    "Введите два слова. Проверьте, равны ли они.\n"
   ]
  },
  {
   "cell_type": "code",
   "execution_count": null,
   "id": "4e3d23c8",
   "metadata": {},
   "outputs": [],
   "source": [
    "# Ваше решение:"
   ]
  },
  {
   "cell_type": "markdown",
   "id": "31965f36",
   "metadata": {},
   "source": [
    "**Код:**\n",
    "\n",
    "```python\n",
    "word1 = input(\"Первое слово: \")\n",
    "word2 = input(\"Второе слово: \")\n",
    "print(word1 == word2)\n",
    "```\n",
    "\n",
    "**Объяснение:**\n",
    "\n",
    "`==` работает не только с числами, но и со строками."
   ]
  },
  {
   "cell_type": "markdown",
   "id": "17d6e1ca",
   "metadata": {},
   "source": [
    "<br>\n",
    "\n",
    "#### ➡️ **Задача 8**\n",
    "\n",
    "**Условие:**\n",
    "\n",
    "Проверьте, является ли введённый год не високосным (не делится на 4).\n"
   ]
  },
  {
   "cell_type": "code",
   "execution_count": null,
   "id": "de9878d5",
   "metadata": {},
   "outputs": [],
   "source": [
    "# Ваше решение:"
   ]
  },
  {
   "cell_type": "markdown",
   "id": "26c5dac7",
   "metadata": {},
   "source": [
    "**Код:**\n",
    "\n",
    "```python\n",
    "year = int(input(\"Введите год: \"))\n",
    "print(year % 4 != 0)\n",
    "```\n",
    "\n",
    "**Объяснение:**\n",
    "\n",
    "Високосный год кратен 4. Если `год % 4 != 0`, он не високосный."
   ]
  },
  {
   "cell_type": "markdown",
   "id": "99375eb8",
   "metadata": {},
   "source": [
    "<br>\n",
    "\n",
    "#### ➡️ **Задача 9**\n",
    "\n",
    "**Условие:**\n",
    "\n",
    "Пользователь вводит рост. Проверьте, больше ли он 170, и выведите соответствующее сообщение.\n"
   ]
  },
  {
   "cell_type": "code",
   "execution_count": null,
   "id": "ea9939dd",
   "metadata": {},
   "outputs": [],
   "source": [
    "# Ваше решение:"
   ]
  },
  {
   "cell_type": "markdown",
   "id": "f45b0596",
   "metadata": {},
   "source": [
    "**Код:**\n",
    "\n",
    "```python\n",
    "height = int(input(\"Введите рост: \"))\n",
    "if height > 170:\n",
    "    print(\"Вы выше среднего!\")\n",
    "else:\n",
    "    print(\"Ваш рост в пределах нормы.\")\n",
    "```\n",
    "\n",
    "**Объяснение:**\n",
    "\n",
    "Комбинация `>` и `if` позволяет создать логическое ветвление.\n"
   ]
  },
  {
   "cell_type": "markdown",
   "id": "77383ec4",
   "metadata": {},
   "source": [
    "<br>\n",
    "\n",
    "#### ➡️  **Задача 10**\n",
    "\n",
    "**Условие:**\n",
    "\n",
    "Введите два числа. Выведите `1`, если первое больше, `-1`, если второе больше, `0`, если равны.\n"
   ]
  },
  {
   "cell_type": "code",
   "execution_count": null,
   "id": "68cabe40",
   "metadata": {},
   "outputs": [],
   "source": [
    "# Ваше решение:"
   ]
  },
  {
   "cell_type": "markdown",
   "id": "855999ff",
   "metadata": {},
   "source": [
    "**Код:**\n",
    "\n",
    "```python\n",
    "a = int(input(\"a: \"))\n",
    "b = int(input(\"b: \"))\n",
    "\n",
    "if a > b:\n",
    "    print(1)\n",
    "elif a < b:\n",
    "    print(-1)\n",
    "else:\n",
    "    print(0)\n",
    "```\n",
    "\n",
    "**Объяснение:**\n",
    "\n",
    "Используем несколько операторов сравнения (`>`, `<`, `==`) и `if-elif-else`."
   ]
  },
  {
   "cell_type": "markdown",
   "id": "a3b119fd",
   "metadata": {},
   "source": [
    "<br>\n",
    "\n",
    "---\n",
    "\n",
    "<br>\n",
    "\n",
    "\n",
    "##### 📬 Author:\n",
    "\n",
    "**Siergej Sobolewski**  \n",
    "\n",
    "[![Email 🚀](https://img.shields.io/badge/Email-s.sobolewski@hotmail.com-blue?logo=protonmail)](mailto:s.sobolewski@hotmail.com)\n",
    "[![GitHub](https://img.shields.io/badge/GitHub-SSobol77-blue?logo=github)](https://github.com/SSobol77)\n",
    "[![LinkedIn](https://img.shields.io/badge/LinkedIn-Connect-blue?logo=linkedin)](https://linkedin.com/in/siergej-s-25a16319a)\n",
    "\n",
    "<br>\n",
    "\n",
    "\n"
   ]
  }
 ],
 "metadata": {
  "kernelspec": {
   "display_name": "Python 3",
   "language": "python",
   "name": "python3"
  },
  "language_info": {
   "name": "python",
   "version": "3.13.2"
  }
 },
 "nbformat": 4,
 "nbformat_minor": 5
}
