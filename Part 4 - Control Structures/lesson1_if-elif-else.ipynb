{
 "cells": [
  {
   "cell_type": "markdown",
   "metadata": {},
   "source": [
    "# Тема 4. 🧩 **\"Управляющие конструкции\"**\n",
    "\n",
    "\n",
    "> **\"Управляющие конструкции\"** на английском языке называется **\"control structures\"** или **\"control flow statements\"**.\n",
    "\n",
    "### Пояснение:\n",
    "\n",
    "- **Control structures** — это конструкции, которые управляют порядком выполнения кода в программе.  \n",
    "  \n",
    "- **Control flow** — это \"поток управления\", то есть последовательность выполнения инструкций.\n",
    "\n",
    "### Примеры таких конструкций:\n",
    "\n",
    "1. **Условные операторы** → **Conditional statements** (`if`, `elif`, `else`).  \n",
    "   \n",
    "2. **Циклы** → **Loops** (`for`, `while`).  \n",
    "   \n",
    "3. **Обработка исключений** → **Exception handling** (`try`, `except`).  \n",
    "\n",
    "\n",
    "#### Пример: \n",
    "\n",
    "```python\n",
    "x = -6\n",
    "\n",
    "if x > 0:\n",
    "    print(\"Положительное число\")\n",
    "\n",
    "```\n",
    "\n",
    "<br>\n",
    "\n"
   ]
  },
  {
   "cell_type": "markdown",
   "metadata": {},
   "source": [
    "<br>\n",
    "\n",
    "---\n",
    "\n",
    "<br>"
   ]
  },
  {
   "cell_type": "markdown",
   "metadata": {},
   "source": [
    "# 🧠 **Урок 1: Управляющие конструкции и условные операторы**\n",
    "\n",
    "<br>\n",
    "\n",
    "## 🎓 Теория\n",
    "\n",
    "<br>\n",
    "\n",
    "#### 📌 Что такое условные операторы?\n",
    "\n",
    "Условные операторы позволяют программе принимать **решения**.  \n",
    "Они помогают выполнять разные действия в зависимости от **состояния данных**.\n",
    "\n",
    "Примеры из жизни:\n",
    "- Если пошёл дождь, возьми зонт.\n",
    "- Если пользователь ввёл верный пароль — войди в систему, иначе — покажи ошибку.\n",
    "\n",
    "---\n",
    "\n",
    "#### ✅ Синтаксис условных операторов\n",
    "\n",
    "```python\n",
    "if условие:\n",
    "    # код, если условие истинно\n",
    "elif другое_условие:\n",
    "    # код, если предыдущее не сработало\n",
    "else:\n",
    "    # код, если ничего не подошло\n",
    "```\n",
    "\n",
    "<br>\n",
    "\n",
    "### 🧱 Структура:\n",
    "\n",
    "- `if` — обязательный.  \n",
    "  \n",
    "- `elif` — можно использовать несколько.  \n",
    "  \n",
    "- `else` — необязательный, но завершает конструкцию.\n",
    "\n",
    "<br>\n",
    "\n",
    "## ⚙️ Логические операторы\n",
    "\n",
    "| Оператор | Назначение        | Пример                     |\n",
    "|----------|-------------------|----------------------------|\n",
    "| and      | И                 | `if x > 0 and x < 10`     |\n",
    "| or       | ИЛИ               | `if color == \"red\" or color == \"blue\"` |\n",
    "| not      | НЕ (инверсия)     | `if not is_valid`         |\n",
    "\n",
    "<br>\n",
    "\n",
    "## 🧩 Вложенные условия\n",
    "\n",
    "```python\n",
    "if условие1:\n",
    "    if условие2:\n",
    "        print(\"Оба условия выполнены\")\n",
    "```\n",
    "\n",
    "💡 **Не злоупотребляйте вложенностью — лучше использовать `elif`.**\n",
    "\n",
    "<br>\n",
    "\n",
    "---\n",
    "\n",
    "<br>"
   ]
  },
  {
   "cell_type": "markdown",
   "metadata": {},
   "source": [
    "<br>\n",
    "\n",
    "### 📚 Раздел 1: Оператор if (Простые условия)\n",
    "\n",
    "<br>\n",
    "\n",
    "> Оператор `if` используется для выполнения блока кода, если условие истинно (True).\n",
    "\n",
    "<br>\n",
    "\n",
    "✅ **Синтаксис:**\n",
    "\n",
    "```python\n",
    "if условие:\n",
    "    # код, если условие выполнено\n",
    "```\n",
    "\n",
    "<br>\n",
    "\n",
    "<br>\n",
    "\n",
    "##### 🧪 Примеры:\n",
    "1.\n",
    "```python\n",
    "age = 20\n",
    "if age >= 18:\n",
    "    print(\"Доступ разрешён\")\n",
    "```\n",
    "\n",
    "или \n",
    "\n",
    "2.\n",
    "```python\n",
    "temperature = 30\n",
    "if temperature > 25:\n",
    "    print(\"Очень жарко!\")\n",
    "```"
   ]
  },
  {
   "cell_type": "code",
   "execution_count": null,
   "metadata": {},
   "outputs": [],
   "source": [
    "# Выполните код 1:"
   ]
  },
  {
   "cell_type": "code",
   "execution_count": null,
   "metadata": {},
   "outputs": [],
   "source": [
    "# Выполните код 2:"
   ]
  },
  {
   "cell_type": "markdown",
   "metadata": {},
   "source": [
    "<br>\n",
    "\n",
    "#### 📝 Задания для if (Простые условия):"
   ]
  },
  {
   "cell_type": "markdown",
   "metadata": {},
   "source": [
    "##### 🔹 Задание 1: Число положительное?\n",
    "\n",
    "```python\n",
    "num = int(input(\"Введите число: \"))\n",
    "if num > 0:\n",
    "    print(\"Положительное число\")\n",
    "```\n",
    "<br>"
   ]
  },
  {
   "cell_type": "code",
   "execution_count": null,
   "metadata": {},
   "outputs": [],
   "source": [
    "# Cоздайте файл 1.1.py и запустите его\n"
   ]
  },
  {
   "cell_type": "markdown",
   "metadata": {},
   "source": [
    "<br>\n",
    "\n",
    "🔹 Задание 2: Число чётное?\n",
    "\n",
    "```python\n",
    "number = int(input(\"Введите число: \"))\n",
    "if number % 2 == 0:\n",
    "    print(\"число чётное\")\n",
    "\n",
    "```"
   ]
  },
  {
   "cell_type": "code",
   "execution_count": null,
   "metadata": {},
   "outputs": [],
   "source": [
    "# Cоздайте файл 1.2.py и запустите его"
   ]
  },
  {
   "cell_type": "markdown",
   "metadata": {},
   "source": [
    "<br>\n",
    "\n",
    "🔹 Задание 3: Первая буква «А»?\n",
    "\n",
    "```python\n",
    "word = input(\"Введите слово: \")\n",
    "\n",
    "if word[0].lower() == 'аa':\n",
    "    print(\"Слово начинается на А\")\n",
    "```"
   ]
  },
  {
   "cell_type": "code",
   "execution_count": null,
   "metadata": {},
   "outputs": [],
   "source": [
    "# Cоздайте файл 1.3.py и запустите его"
   ]
  },
  {
   "cell_type": "markdown",
   "metadata": {},
   "source": [
    "<br>\n",
    "\n",
    "🔹 Задание 4: Делится ли число на 3?\n",
    "\n",
    "```python\n",
    "n = int(input(\"Введите число: \"))\n",
    "if n % 3 == 0:\n",
    "    print(\"Число делится на 3\")\n",
    "```"
   ]
  },
  {
   "cell_type": "code",
   "execution_count": null,
   "metadata": {},
   "outputs": [],
   "source": [
    "# Cоздайте файл 1.4.py и запустите его"
   ]
  },
  {
   "cell_type": "markdown",
   "metadata": {},
   "source": [
    "<br>\n",
    "\n",
    "🔹 Задание 5: Температура выше 100?\n",
    "```python\n",
    "temp = float(input(\"Введите температуру: \"))\n",
    "if temp > 100:\n",
    "    print(\"Кипит!\")\n",
    "```"
   ]
  },
  {
   "cell_type": "code",
   "execution_count": null,
   "metadata": {},
   "outputs": [],
   "source": [
    "# Cоздайте файл 1.5.py и запустите его"
   ]
  },
  {
   "cell_type": "markdown",
   "metadata": {},
   "source": [
    "<br>\n",
    "\n",
    "---\n",
    "\n",
    "<br>"
   ]
  },
  {
   "cell_type": "markdown",
   "metadata": {},
   "source": [
    "<br>\n",
    "\n",
    "### 📚 Раздел 2: Оператор `if-else` (Выбор из двух вариантов)\n",
    "\n",
    "<br>\n",
    "\n",
    "> Оператор `if-else` позволяет выбрать одно из двух действий:\n",
    "\n",
    "<br>\n",
    "\n",
    "\n",
    "✅ **Синтаксис:**\n",
    "\n",
    "```python\n",
    "\n",
    "if условие:\n",
    "    # если условие истинно\n",
    "else:\n",
    "    # если условие ложно\n",
    "\n",
    "```\n",
    "\n",
    "<br>\n",
    "\n",
    "##### 🧪 **Примеры:**\n",
    "\n",
    "```python\n",
    "\n",
    "num = int(input(\"Введите число: \"))\n",
    "if num % 2 == 0:\n",
    "    print(\"Чётное\")\n",
    "else:\n",
    "    print(\"Нечётное\")\n",
    "```\n",
    "<br>\n",
    "\n",
    "```python\n",
    "name = input(\"Введите имя: \")\n",
    "if name == \"Марк\":\n",
    "    print(\"Привет, Марк!\")\n",
    "else:\n",
    "    print(\"Ты не Марк...\")\n",
    "```\n",
    "\n",
    "<br>"
   ]
  },
  {
   "cell_type": "code",
   "execution_count": null,
   "metadata": {},
   "outputs": [
    {
     "name": "stdout",
     "output_type": "stream",
     "text": [
      "<class 'str'>\n",
      "5\n"
     ]
    }
   ],
   "source": [
    "# Выполните код 1:\n"
   ]
  },
  {
   "cell_type": "code",
   "execution_count": null,
   "metadata": {},
   "outputs": [],
   "source": [
    "# Выполните код 2:\n"
   ]
  },
  {
   "cell_type": "markdown",
   "metadata": {},
   "source": [
    "<br>\n",
    "\n",
    "#### 📌 **Вложенные условия** \n",
    "\n",
    "Это условия, заданные внутри других условий. \n",
    "\n",
    "```python\n",
    "if условие:\n",
    "\n",
    "    if условие:\n",
    "        # если условие истинно\n",
    "    else:\n",
    "        # если условие ложно\n",
    "else:\n",
    "    # если условие ложно\n",
    "\n",
    "```\n",
    "\n",
    "🧪 **Пример:**  \n",
    "\n",
    "```python\n",
    "age = 20\n",
    "has_subscription = True\n",
    "\n",
    "if age >= 18:\n",
    "    if has_subscription:\n",
    "        print(\"Доступ к премиум-контенту\")\n",
    "    else:\n",
    "        print(\"Купите подписку\")\n",
    "else:\n",
    "    print(\"Доступ запрещён\")\n",
    "```\n",
    "\n",
    "<br>\n",
    "\n",
    "💡 **Совет:** Не делайте слишком много вложенных условий — код станет сложным для чтения.\n",
    "\n",
    "<br>"
   ]
  },
  {
   "cell_type": "code",
   "execution_count": null,
   "metadata": {},
   "outputs": [],
   "source": [
    "# Выполните код примера:"
   ]
  },
  {
   "cell_type": "markdown",
   "metadata": {},
   "source": [
    "<br>\n",
    "\n",
    "#### 📝 Задания для `if-else` (Сложные условия или выбор из двух)\n",
    "\n",
    "<br>"
   ]
  },
  {
   "cell_type": "markdown",
   "metadata": {},
   "source": [
    "🔸 Задание 6: Проверка пароля\n",
    "```python\n",
    "\n",
    "password = input(\"Введите пароль: \")\n",
    "if len(password) >= 8:\n",
    "    print(\"Пароль соответствует минимальной длинне\")\n",
    "else:\n",
    "    print(\"Пароль слишком короткий\")\n",
    "```"
   ]
  },
  {
   "cell_type": "code",
   "execution_count": null,
   "metadata": {},
   "outputs": [],
   "source": [
    "# Cоздайте файл 1.6.py и запустите его"
   ]
  },
  {
   "cell_type": "markdown",
   "metadata": {},
   "source": [
    "<br>\n",
    "\n",
    "🔸 Задание 7: Возрастной контроль\n",
    "```python\n",
    "age = int(input(\"Введите возраст: \"))\n",
    "if age >= 18:\n",
    "    print(\"Доступ разрешён\")\n",
    "else:\n",
    "    print(\"Доступ запрещён\")\n",
    "```"
   ]
  },
  {
   "cell_type": "code",
   "execution_count": null,
   "metadata": {},
   "outputs": [],
   "source": [
    "# Cоздайте файл 1.7.py и запустите его"
   ]
  },
  {
   "cell_type": "markdown",
   "metadata": {},
   "source": [
    "<br>\n",
    "\n",
    "🔸 Задание 8: Сравнение двух чисел\n",
    "\n",
    "```python\n",
    "a = int(input(\"Введите первое число: \"))\n",
    "b = int(input(\"Введите второе число: \"))\n",
    "if a > b:\n",
    "    print(\"Первое больше\")\n",
    "else:\n",
    "    print(\"Второе больше или равно\")\n",
    "```"
   ]
  },
  {
   "cell_type": "code",
   "execution_count": null,
   "metadata": {},
   "outputs": [],
   "source": [
    "# Cоздайте файл 1.8.py и запустите его"
   ]
  },
  {
   "cell_type": "markdown",
   "metadata": {},
   "source": [
    "🔸 Задание 9: Делится ли на 5\n",
    "\n",
    "```python\n",
    "x = int(input(\"Введите число: \"))\n",
    "if x % 5 == 0:\n",
    "    print(\"Число делится на 5\")\n",
    "else:\n",
    "    print(\"Число не делится на 5\")\n",
    "```"
   ]
  },
  {
   "cell_type": "code",
   "execution_count": null,
   "metadata": {},
   "outputs": [],
   "source": [
    "# Cоздайте файл 1.9.py и запустите его"
   ]
  },
  {
   "cell_type": "markdown",
   "metadata": {},
   "source": [
    "<br>\n",
    "\n",
    "🔸 Задание 10: Проверка на пустую строку\n",
    "\n",
    "```python\n",
    "text = input(\"Введите текст: \")\n",
    "if text == \"\":\n",
    "    print(\"Пустая строка\")\n",
    "else:\n",
    "    print(\"Вы что-то ввели\")\n",
    "```"
   ]
  },
  {
   "cell_type": "code",
   "execution_count": null,
   "metadata": {},
   "outputs": [],
   "source": [
    "# Cоздайте файл 1.10.py и запустите его"
   ]
  },
  {
   "cell_type": "markdown",
   "metadata": {},
   "source": [
    "<br>\n",
    "\n",
    "---\n",
    "\n",
    "<br>"
   ]
  },
  {
   "cell_type": "markdown",
   "metadata": {},
   "source": [
    "<br>\n",
    "\n",
    "### 📚 Раздел 3: Операторы `if-elif-else` (Множественные условия)\n",
    "\n",
    "<br>\n",
    "\n",
    "> Используется, когда есть несколько вариантов условий:\n",
    "\n",
    "<br>\n",
    "\n",
    "К уже рассмотренным нами ранее операторам `if` и `else`, в случае множественного условия задачи мы добавляем \n",
    "\n",
    "оператор `elif` - это оператор дополнительного условия, который дополняет предыдущее (может выступать в большом количестве)\n",
    "\n",
    "<br>\n",
    "\n",
    "✅ **Синтаксис (правила написания) условных операторов:** \n",
    "\n",
    "```python\n",
    "if условие1:\n",
    "    # код, который выполнится, если условие1 истинно\n",
    "\n",
    "elif условие2:  # необязательный блок (может быть несколько)\n",
    "    # код, если условие1 ложно, а условие2 истинно\n",
    "\n",
    "else:  # необязательный блок\n",
    "    # код, если все условия выше ложны\n",
    "\n",
    "```\n",
    "\n",
    "<br>\n",
    "\n",
    "🧪 Примеры:\n",
    "```python\n",
    "score = int(input(\"Введите баллы: \"))\n",
    "if score >= 90:\n",
    "    print(\"Оценка: A\")\n",
    "elif score >= 75:\n",
    "    print(\"Оценка: B\")\n",
    "elif score >= 60:\n",
    "    print(\"Оценка: C\")\n",
    "else:\n",
    "    print(\"Оценка: F\")\n",
    "```\n",
    "\n",
    "<br>"
   ]
  },
  {
   "cell_type": "code",
   "execution_count": null,
   "metadata": {},
   "outputs": [],
   "source": [
    "# Выполните код из примера:"
   ]
  },
  {
   "cell_type": "markdown",
   "metadata": {},
   "source": [
    "<br>\n",
    "\n",
    "#### 📝 Задания для `if-elif-else` (Сложных условий)\n",
    "\n",
    "<br>"
   ]
  },
  {
   "cell_type": "markdown",
   "metadata": {},
   "source": [
    "\n",
    "#### 🔻 Задание 11. Калькулятор оценок\n",
    "\n",
    "```python\n",
    "score = int(input(\"Введите баллы (0–100): \"))\n",
    "\n",
    "if score >= 90:\n",
    "    print(\"Оценка: A\")\n",
    "elif score >= 80:\n",
    "    print(\"Оценка: B\")\n",
    "elif score >= 70:\n",
    "    print(\"Оценка: C\")\n",
    "elif score >= 60:\n",
    "    print(\"Оценка: D\")\n",
    "else:\n",
    "    print(\"Оценка: F\")\n",
    "```"
   ]
  },
  {
   "cell_type": "code",
   "execution_count": null,
   "metadata": {},
   "outputs": [],
   "source": [
    "# Cоздайте файл 1.11.py и запустите его"
   ]
  },
  {
   "cell_type": "markdown",
   "metadata": {},
   "source": [
    "<br>\n",
    "\n",
    "#### 🔻 Задание 12. Расписание по дню недели\n",
    "\n",
    "```python\n",
    "day = input(\"Введите день недели: \").lower()\n",
    "\n",
    "if day == \"понедельник\":\n",
    "    print(\"Начало рабочей недели\")\n",
    "elif day == \"пятница\":\n",
    "    print(\"Скоро выходные!\")\n",
    "elif day == \"суббота\" or day == \"воскресенье\":\n",
    "    print(\"Выходной!\")\n",
    "else:\n",
    "    print(\"Обычный рабочий день\")\n",
    "```"
   ]
  },
  {
   "cell_type": "code",
   "execution_count": null,
   "metadata": {},
   "outputs": [],
   "source": [
    "# Cоздайте файл 1.12.py и запустите его"
   ]
  },
  {
   "cell_type": "markdown",
   "metadata": {},
   "source": [
    "#### 🔻 Задание 13. Классификация температуры\n",
    "```python\n",
    "temp = float(input(\"Введите температуру: \"))\n",
    "\n",
    "if temp < 0:\n",
    "    print(\"Очень холодно\")\n",
    "elif 0 <= temp <= 15:\n",
    "    print(\"Прохладно\")\n",
    "elif 15 < temp <= 25:\n",
    "    print(\"Тепло\")\n",
    "else:\n",
    "    print(\"Жарко\")\n",
    "```"
   ]
  },
  {
   "cell_type": "code",
   "execution_count": null,
   "metadata": {},
   "outputs": [],
   "source": [
    "# Cоздайте файл 1.13.py и запустите его"
   ]
  },
  {
   "cell_type": "markdown",
   "metadata": {},
   "source": [
    "<br>\n",
    "\n",
    "#### 🔻 Задание 13. Проверка логина и пароля\n",
    "\n",
    "```python\n",
    "login = input(\"Введите логин: \")\n",
    "password = input(\"Введите пароль: \")\n",
    "\n",
    "if login == \"admin\":\n",
    "    if password == \"12345\":\n",
    "        print(\"Добро пожаловать, администратор!\")\n",
    "    else:\n",
    "        print(\"Неверный пароль\")\n",
    "else:\n",
    "    print(\"Неизвестный пользователь\")\n",
    "```\n"
   ]
  },
  {
   "cell_type": "code",
   "execution_count": null,
   "metadata": {},
   "outputs": [],
   "source": [
    "# Cоздайте файл 1.13.py и запустите его"
   ]
  },
  {
   "cell_type": "markdown",
   "metadata": {},
   "source": [
    "<br>\n",
    "\n",
    "#### 🔻 Задание 14. Проверка пароля по правилам\n",
    "\n",
    "```python\n",
    "password = input(\"Введите пароль: \")\n",
    "\n",
    "has_digit = any(char.isdigit() for char in password)\n",
    "has_special = any(char in \"!@#$%^&*()\" for char in password)\n",
    "\n",
    "if len(password) < 8:\n",
    "    print(\"Пароль слишком короткий\")\n",
    "elif not has_digit:\n",
    "    print(\"Нет цифры\")\n",
    "elif not has_special:\n",
    "    print(\"Нет спецсимвола\")\n",
    "else:\n",
    "    print(\"Пароль надёжный\")\n",
    "```"
   ]
  },
  {
   "cell_type": "code",
   "execution_count": null,
   "metadata": {},
   "outputs": [],
   "source": [
    "# Cоздайте файл 1.14.py и запустите его"
   ]
  },
  {
   "cell_type": "markdown",
   "metadata": {},
   "source": [
    "<br>\n",
    "\n",
    "#### 🔻 Задание 15.  Калькулятор арифметических действий по выбору\n",
    "\n",
    "```python\n",
    "a = float(input(\"Введите число A: \"))\n",
    "b = float(input(\"Введите число B: \"))\n",
    "op = input(\"Выберите операцию (+, -, *, /): \")\n",
    "\n",
    "if op == \"+\":\n",
    "    print(\"Сумма:\", a + b)\n",
    "elif op == \"-\":\n",
    "    print(\"Разность:\", a - b)\n",
    "elif op == \"*\":\n",
    "    print(\"Произведение:\", a * b)\n",
    "elif op == \"/\":\n",
    "    if b != 0:\n",
    "        print(\"Частное:\", a / b)\n",
    "    else:\n",
    "        print(\"Деление на ноль невозможно\")\n",
    "else:\n",
    "    print(\"Неизвестная операция\")\n",
    "\n",
    "```"
   ]
  },
  {
   "cell_type": "code",
   "execution_count": null,
   "metadata": {},
   "outputs": [],
   "source": [
    "# Cоздайте файл 1.15.py и запустите его"
   ]
  },
  {
   "cell_type": "markdown",
   "metadata": {},
   "source": [
    "<br>\n",
    "\n",
    "---\n",
    "\n",
    "<br>\n",
    "\n",
    "### 🎯 Рекомендации:\n",
    "\n",
    "- Обратите своё внимание на **отступы** и **двоеточия**.\n",
    "  \n",
    "- Проверяйте свой код на разных входных данных (тестируйте изменяя значения переменных которые вы задаёте).\n",
    "  \n",
    "- Используйте `print()` для проверки значений переменных, добавляйте запись в вашем коде и получайте значение вашей переменной в данном месте кода.\n",
    "  \n",
    "- Проговаривайте логические условия вслух — это помогает избежать ошибок, составьте логическую схему на бумагею \n",
    "\n",
    "<br>\n",
    "\n",
    "---\n",
    "\n",
    "<br>"
   ]
  },
  {
   "cell_type": "markdown",
   "metadata": {},
   "source": [
    "<br>\n",
    "\n",
    "\n",
    "### ⚙️ **Логические операторы в Python**\n",
    "\n",
    "<br>\n",
    "\n",
    "> Логические операторы позволяют **объединять условия** и принимать более сложные решения в конструкции `if`.\n",
    "\n",
    "<br>\n",
    "\n",
    "\n",
    "#### 📘 Таблица логических операторов:\n",
    "<br>\n",
    "\n",
    "| Оператор | Назначение    | Пример                                |\n",
    "|----------|---------------|----------------------------------------|\n",
    "| `and`    | И             | `if x > 0 and x < 10:`                 |\n",
    "| `or`     | ИЛИ           | `if color == \"red\" or color == \"blue\"` |\n",
    "| `not`    | НЕ (инверсия) | `if not is_valid:`                     |\n",
    "\n",
    "\n",
    "<br>\n",
    "\n",
    "\n",
    "#### ✅ **Объяснение операторов**\n",
    "\n",
    "- **`and`** — результат `True`, только если **оба условия истинны**.  \n",
    "  → Применяется, когда нужно, чтобы **всё выполнялось одновременно**.\n",
    "\n",
    "- **`or`** — результат `True`, если **хотя бы одно условие истинно**.  \n",
    "  → Применяется, когда **достаточно выполнения хотя бы одного условия**.\n",
    "\n",
    "- **`not`** — **инвертирует** логическое значение.  \n",
    "  → `not True` становится `False`, и наоборот.\n",
    "\n",
    "<br>\n",
    "\n",
    "---"
   ]
  },
  {
   "cell_type": "markdown",
   "metadata": {},
   "source": [
    "\n",
    "<br>\n",
    "\n",
    "#### 🧪 **Примеры использования**\n",
    "\n",
    "<br>"
   ]
  },
  {
   "cell_type": "markdown",
   "metadata": {},
   "source": [
    "##### 🟢 Пример 1: `and` — Проверка двух условий сразу\n",
    "\n",
    "```python\n",
    "age = int(input(\"Введите возраст: \"))\n",
    "has_passport = input(\"Есть ли паспорт (да/нет): \").lower() == \"да\"\n",
    "\n",
    "if age >= 18 and has_passport:\n",
    "    print(\"Вы можете путешествовать\")\n",
    "else:\n",
    "    print(\"Недостаточно данных для путешествия\")\n",
    "```"
   ]
  },
  {
   "cell_type": "code",
   "execution_count": null,
   "metadata": {},
   "outputs": [],
   "source": [
    "# Cоздайте файл 1.16.py и запустите его"
   ]
  },
  {
   "cell_type": "markdown",
   "metadata": {},
   "source": [
    "<br>\n",
    "\n",
    "##### 🟢 Пример 2: `or` — Проверка одного из двух условий\n",
    "\n",
    "```python\n",
    "day = input(\"Введите день недели: \").lower()\n",
    "\n",
    "if day == \"суббота\" or day == \"воскресенье\":\n",
    "    print(\"Выходной день!\")\n",
    "else:\n",
    "    print(\"Рабочий день.\")\n",
    "```\n"
   ]
  },
  {
   "cell_type": "code",
   "execution_count": null,
   "metadata": {},
   "outputs": [],
   "source": [
    "# Cоздайте файл 1.17.py и запустите его"
   ]
  },
  {
   "cell_type": "markdown",
   "metadata": {},
   "source": [
    "<br>\n",
    "\n",
    "##### 🟢 Пример 3: `not` — Инвертирование булевого флага   \n",
    "\n",
    "```python\n",
    "is_raining = input(\"Идёт дождь? (да/нет): \").lower() == \"да\"\n",
    "\n",
    "if not is_raining:\n",
    "    print(\"Можно идти гулять без зонта\")\n",
    "else:\n",
    "    print(\"Возьмите зонт\")\n",
    "```"
   ]
  },
  {
   "cell_type": "markdown",
   "metadata": {},
   "source": [
    "<br>\n",
    "\n",
    "👉 **Рассмотрим этот пример подробно по шагам:**\n",
    "\n",
    "\n",
    "`input(...)` — пользователь вводит текст: да или нет.\n",
    "\n",
    "`.lower()` — приводит ввод к нижнему регистру (чтобы \"Да\", \"ДА\", \"дА\" тоже распознавались как \"да\").\n",
    "\n",
    "`== \"да\"` — сравниваем результат с \"да\".\n",
    "\n",
    "- Если пользователь ввёл \"да\", то logged_in станет True.\n",
    "-  Если что-то другое — станет False.\n",
    "  \n",
    "<br>\n",
    "\n",
    "А теперь логика:\n",
    "\n",
    "`not logged_in` — инверсия (противоположное значение):\n",
    "\n",
    "если пользователь не вошёл (то есть logged_in == False), тогда not False == True, и мы печатаем:\n",
    "\n",
    "👉 \"Пожалуйста, авторизуйтесь\"\n",
    "\n",
    "иначе: 👉 \"Добро пожаловать!\"\n",
    "\n",
    "<br>"
   ]
  },
  {
   "cell_type": "code",
   "execution_count": null,
   "metadata": {},
   "outputs": [],
   "source": [
    "# Cоздайте файл 1.18.py и запустите его"
   ]
  },
  {
   "cell_type": "markdown",
   "metadata": {},
   "source": [
    "<br>\n",
    "\n",
    "##### 🟢 Пример 4: `and` + `or` — Сложное составное условие\n",
    "\n",
    "```python\n",
    "temperature = float(input(\"Введите температуру: \"))\n",
    "is_sunny = input(\"Солнечно? (да/нет): \").lower() == \"да\"\n",
    "is_holiday = input(\"Сегодня выходной? (да/нет): \").lower() == \"да\"\n",
    "\n",
    "if (temperature > 20 and is_sunny) or is_holiday:\n",
    "    print(\"Идём на пикник!\")\n",
    "else:\n",
    "    print(\"Остаёмся дома.\")\n",
    "```"
   ]
  },
  {
   "cell_type": "code",
   "execution_count": null,
   "metadata": {},
   "outputs": [],
   "source": [
    "# Cоздайте файл 1.19.py и запустите его"
   ]
  },
  {
   "cell_type": "markdown",
   "metadata": {},
   "source": [
    "<br>\n",
    "\n",
    "##### 🟢 Пример 5: `not` с пользовательским вводом\n",
    "\n",
    "```python\n",
    "logged_in = input(\"Вы вошли в систему? (да/нет): \").lower() == \"да\"\n",
    "\n",
    "if not logged_in:\n",
    "    print(\"Пожалуйста, авторизуйтесь\")\n",
    "else:\n",
    "    print(\"Добро пожаловать!\")\n",
    "```\n"
   ]
  },
  {
   "cell_type": "code",
   "execution_count": null,
   "metadata": {},
   "outputs": [],
   "source": [
    "# Cоздайте файл 1.20.py и запустите его"
   ]
  },
  {
   "cell_type": "markdown",
   "metadata": {},
   "source": [
    "<br>\n",
    "\n",
    "##### 🟢 Пример 6: `and` с проверкой числа\n",
    "\n",
    "```python\n",
    "x = int(input(\"Введите число от 1 до 100: \"))\n",
    "if x >= 1 and x <= 100:\n",
    "    print(\"Число в допустимом диапазоне\")\n",
    "else:\n",
    "    print(\"Число вне диапазона\")\n",
    "```"
   ]
  },
  {
   "cell_type": "code",
   "execution_count": null,
   "metadata": {},
   "outputs": [],
   "source": [
    "# Cоздайте файл 1.20.py и запустите его\n",
    "\n"
   ]
  },
  {
   "cell_type": "markdown",
   "metadata": {},
   "source": [
    "\n",
    "#### 💡 Подсказка:\n",
    "\n",
    "- Всегда проверяйте приоритет логических операторов (используйте скобки `()` при необходимости).\n",
    "  \n",
    "- `and` — строгое, `or` — гибкое условие.\n",
    "  \n",
    "- `not` — полезно, если нужно проверить, что **что-то не так**.\n",
    "\n",
    "<br>\n"
   ]
  },
  {
   "cell_type": "markdown",
   "metadata": {},
   "source": [
    "### 🎯 Рекомендации: \n",
    "\n",
    "- Если код не работает, проверьте **отступы** и **двоеточия** после `if`, `elif`, `else`.  \n",
    "  \n",
    "- Используйте `print()`, чтобы выводить промежуточные значения переменных для отладки.  \n",
    "  \n",
    "- Всегда тестируйте свой код на разных примерах (например, для високосного года проверьте 2000, 2024, 1900).\n",
    "  \n",
    "  <br>"
   ]
  },
  {
   "cell_type": "markdown",
   "metadata": {},
   "source": [
    "<br>\n",
    "\n",
    "##### 📬 Author:\n",
    "\n",
    "**Siergej Sobolewski**  \n",
    "\n",
    "[![Email 🚀](https://img.shields.io/badge/Email-s.sobolewski@hotmail.com-blue?logo=protonmail)](mailto:s.sobolewski@hotmail.com)\n",
    "[![GitHub](https://img.shields.io/badge/GitHub-SSobol77-blue?logo=github)](https://github.com/SSobol77)\n",
    "[![LinkedIn](https://img.shields.io/badge/LinkedIn-Connect-blue?logo=linkedin)](https://linkedin.com/in/siergej-s-25a16319a)\n",
    "\n",
    "<br>\n"
   ]
  }
 ],
 "metadata": {
  "kernelspec": {
   "display_name": "Python 3",
   "language": "python",
   "name": "python3"
  },
  "language_info": {
   "codemirror_mode": {
    "name": "ipython",
    "version": 3
   },
   "file_extension": ".py",
   "mimetype": "text/x-python",
   "name": "python",
   "nbconvert_exporter": "python",
   "pygments_lexer": "ipython3",
   "version": "3.13.2"
  }
 },
 "nbformat": 4,
 "nbformat_minor": 2
}
