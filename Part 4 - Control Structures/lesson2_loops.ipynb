{
 "cells": [
  {
   "cell_type": "markdown",
   "id": "c38e0628",
   "metadata": {},
   "source": [
    "# Урок 2. Циклы в Python.\n",
    "\n",
    "Циклы позволяют многократно выполнять одни и те же инструкции, автоматизируя повторяющиеся действия."
   ]
  },
  {
   "cell_type": "markdown",
   "id": "d7428f0a",
   "metadata": {},
   "source": [
    "### 1. Основные типы циклов в Python\n",
    "\n",
    "В Python два типа циклов:\n",
    "- **for**\n",
    "- **while**"
   ]
  },
  {
   "cell_type": "markdown",
   "id": "d7ee2fa3",
   "metadata": {},
   "source": [
    "### Цикл `for`\n",
    "Используется для перебора элементов последовательностей."
   ]
  },
  {
   "cell_type": "code",
   "execution_count": 2,
   "id": "1aa8d398",
   "metadata": {},
   "outputs": [
    {
     "name": "stdout",
     "output_type": "stream",
     "text": [
      "1\n",
      "2\n",
      "3\n"
     ]
    }
   ],
   "source": [
    "numbers = [1, 2, 3]\n",
    "for num in numbers:\n",
    "    print(num)\n",
    "\n"
   ]
  },
  {
   "cell_type": "code",
   "execution_count": 3,
   "id": "96c78fa2",
   "metadata": {},
   "outputs": [
    {
     "name": "stdout",
     "output_type": "stream",
     "text": [
      "P\n",
      "y\n",
      "t\n",
      "h\n",
      "o\n",
      "n\n"
     ]
    }
   ],
   "source": [
    "word = \"Python\"\n",
    "for char in word:\n",
    "    print(char)"
   ]
  },
  {
   "cell_type": "markdown",
   "id": "d39d7019",
   "metadata": {},
   "source": [
    "### Цикл `while`\n",
    "Используется, когда количество повторений зависит от условия."
   ]
  },
  {
   "cell_type": "code",
   "execution_count": 6,
   "id": "7035ba68",
   "metadata": {},
   "outputs": [
    {
     "name": "stdout",
     "output_type": "stream",
     "text": [
      "1\n",
      "2\n",
      "3\n",
      "4\n",
      "5\n"
     ]
    }
   ],
   "source": [
    "c = 1\n",
    "while c <= 5:\n",
    "    print(c)\n",
    "    c += 1  # count = count + 1"
   ]
  },
  {
   "cell_type": "markdown",
   "id": "6445f2c3",
   "metadata": {},
   "source": [
    "### 2. Управляющие операторы циклов: `break`, `continue`, `else`"
   ]
  },
  {
   "cell_type": "code",
   "execution_count": null,
   "id": "5307ec51",
   "metadata": {},
   "outputs": [],
   "source": [
    "# break\n",
    "for num in range(10):\n",
    "    if num == 5:\n",
    "        break\n",
    "    print(num)\n",
    "\n",
    "# continue\n",
    "for num in range(5):\n",
    "    if num == 2:\n",
    "        continue\n",
    "    print(num)\n",
    "\n",
    "# else\n",
    "for num in range(3):\n",
    "    print(num)\n",
    "else:\n",
    "    print(\"Цикл завершён без break\")"
   ]
  },
  {
   "cell_type": "markdown",
   "id": "550ba641",
   "metadata": {},
   "source": [
    "### 3. Вложенные циклы\n",
    "Полезны для обработки многомерных данных."
   ]
  },
  {
   "cell_type": "code",
   "execution_count": 7,
   "id": "ab5251f3",
   "metadata": {},
   "outputs": [
    {
     "name": "stdout",
     "output_type": "stream",
     "text": [
      "1 * 1 = 1\n",
      "1 * 2 = 2\n",
      "1 * 3 = 3\n",
      "2 * 1 = 2\n",
      "2 * 2 = 4\n",
      "2 * 3 = 6\n",
      "3 * 1 = 3\n",
      "3 * 2 = 6\n",
      "3 * 3 = 9\n"
     ]
    }
   ],
   "source": [
    "for i in range(1, 4):\n",
    "    for j in range(1, 4):\n",
    "        print(f\"{i} * {j} = {i*j}\")"
   ]
  },
  {
   "cell_type": "markdown",
   "id": "d8a01c5b",
   "metadata": {},
   "source": [
    "### 4. Генераторы списков (List comprehensions)\n",
    "Удобный способ создания списков с использованием циклов."
   ]
  },
  {
   "cell_type": "code",
   "execution_count": 8,
   "id": "0125eb7a",
   "metadata": {},
   "outputs": [
    {
     "name": "stdout",
     "output_type": "stream",
     "text": [
      "[0, 1, 4, 9, 16]\n"
     ]
    }
   ],
   "source": [
    "squares = [x**2 for x in range(5)]\n",
    "print(squares)"
   ]
  },
  {
   "cell_type": "markdown",
   "id": "0b9c2e23",
   "metadata": {},
   "source": [
    "### Практическое задание\n",
    "\n",
    "1. Выведите чётные числа от 1 до 20.\n",
    "2. Выведите числа от 10 до 1.\n",
    "3. Выведите числа от 1 до 25 с использованием `break`.\n",
    "4. Создайте список кубов чисел от 1 до 10.\n",
    "5. Выведите таблицу умножения от 1 до 5."
   ]
  },
  {
   "cell_type": "code",
   "execution_count": null,
   "id": "69f17732",
   "metadata": {},
   "outputs": [],
   "source": [
    "# Ваше решение:"
   ]
  },
  {
   "cell_type": "code",
   "execution_count": null,
   "id": "67c4fd69",
   "metadata": {},
   "outputs": [],
   "source": [
    "# Задача 1\n",
    "for num in range(1, 21):\n",
    "    if num % 2 == 0:\n",
    "        print(num)\n",
    "\n",
    "# Задача 2\n",
    "count = 10\n",
    "while count > 0:\n",
    "    print(count)\n",
    "    count -= 1\n",
    "\n",
    "# Задача 3\n",
    "for num in range(1, 101):\n",
    "    if num > 25:\n",
    "        break\n",
    "    print(num)\n",
    "\n",
    "# Задача 4\n",
    "cubes = [x**3 for x in range(1, 11)]\n",
    "print(cubes)\n",
    "\n",
    "# Задача 5\n",
    "for i in range(1, 6):\n",
    "    for j in range(1, 6):\n",
    "        print(f\"{i} x {j} = {i*j}\")"
   ]
  },
  {
   "cell_type": "markdown",
   "id": "a7cb7a84",
   "metadata": {},
   "source": [
    "<br>\n",
    "\n",
    "---\n",
    "\n",
    "<br>"
   ]
  },
  {
   "cell_type": "markdown",
   "id": "cd926dce",
   "metadata": {},
   "source": [
    "<br>\n",
    "\n",
    "##### 📬 Author:\n",
    "\n",
    "**Siergej Sobolewski**  \n",
    "\n",
    "[![Email 🚀](https://img.shields.io/badge/Email-s.sobolewski@hotmail.com-blue?logo=protonmail)](mailto:s.sobolewski@hotmail.com)\n",
    "[![GitHub](https://img.shields.io/badge/GitHub-SSobol77-blue?logo=github)](https://github.com/SSobol77)\n",
    "[![LinkedIn](https://img.shields.io/badge/LinkedIn-Connect-blue?logo=linkedin)](https://linkedin.com/in/siergej-s-25a16319a)\n",
    "\n",
    "<br>\n"
   ]
  }
 ],
 "metadata": {
  "kernelspec": {
   "display_name": "Python 3",
   "language": "python",
   "name": "python3"
  },
  "language_info": {
   "codemirror_mode": {
    "name": "ipython",
    "version": 3
   },
   "file_extension": ".py",
   "mimetype": "text/x-python",
   "name": "python",
   "nbconvert_exporter": "python",
   "pygments_lexer": "ipython3",
   "version": "3.13.2"
  }
 },
 "nbformat": 4,
 "nbformat_minor": 5
}
