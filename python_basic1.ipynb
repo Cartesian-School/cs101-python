{
 "cells": [
  {
   "cell_type": "markdown",
   "id": "ccce66bd-6899-4526-af00-0d331fa3d1bf",
   "metadata": {},
   "source": [
    "![Python][1]\n",
    "\n",
    "[1]:https://www.python.org/static/img/python-logo.png \"python.org\"\n",
    "# &nbsp;&nbsp;&nbsp;&nbsp;&nbsp;&nbsp;&nbsp;&nbsp;&nbsp;&nbsp;&nbsp;&nbsp;&nbsp;&nbsp;**\"Основы программирования на Python\"**\n",
    "\n",
    "# &nbsp;&nbsp;&nbsp;&nbsp;&nbsp;&nbsp;&nbsp;&nbsp;&nbsp;&nbsp;&nbsp;&nbsp;&nbsp;&nbsp;*\"@-Learning Python Master\"*\n",
    "\n",
    "# &nbsp;&nbsp;&nbsp;&nbsp;&nbsp;&nbsp;&nbsp;&nbsp;&nbsp;&nbsp;&nbsp;&nbsp;&nbsp;&nbsp;&nbsp;&nbsp;*Level 1*"
   ]
  },
  {
   "cell_type": "markdown",
   "id": "43ca5cf4-9f98-4c47-b32c-a1154b95a9ae",
   "metadata": {},
   "source": [
    "  "
   ]
  },
  {
   "cell_type": "markdown",
   "id": "acf24c79-74f6-436a-812a-a3884620252c",
   "metadata": {},
   "source": [
    "Автор: Соболевский Сергей Владимирович"
   ]
  },
  {
   "cell_type": "markdown",
   "id": "5913f133-56aa-4505-b9eb-f779f64c7bbe",
   "metadata": {},
   "source": [
    "  "
   ]
  },
  {
   "cell_type": "markdown",
   "id": "ee1f0148-d307-4c46-b961-4b45d614f916",
   "metadata": {},
   "source": [
    " "
   ]
  },
  {
   "cell_type": "markdown",
   "id": "cb58b4f8-c8a1-4bc7-ae22-d3e6163c60d1",
   "metadata": {},
   "source": [
    " "
   ]
  },
  {
   "cell_type": "markdown",
   "id": "f9e16ffe-4c7c-4bcd-9a12-f21d2f6e910a",
   "metadata": {},
   "source": [
    " "
   ]
  },
  {
   "cell_type": "markdown",
   "id": "e2bbe3c7-4166-43fe-b757-f20b50384099",
   "metadata": {},
   "source": [
    " "
   ]
  },
  {
   "cell_type": "markdown",
   "id": "071797c2-b441-437f-9ffc-4996aa2acfca",
   "metadata": {},
   "source": [
    " "
   ]
  },
  {
   "cell_type": "markdown",
   "id": "b6db6e11-a37b-45eb-8ec8-3022bcf86262",
   "metadata": {},
   "source": [
    "# **Установка Python в системе**\n",
    "----------------------------------------"
   ]
  },
  {
   "cell_type": "markdown",
   "id": "9336d7bd-3f21-4075-9ef4-02454b97a6fb",
   "metadata": {},
   "source": [
    "## * &nbsp;&nbsp;для &nbsp;&nbsp;Windows:"
   ]
  },
  {
   "cell_type": "markdown",
   "id": "e9b535f6-9b2e-4aed-944b-4c9dc51875ab",
   "metadata": {},
   "source": [
    "### Шаг 1 &nbsp;&nbsp;— &nbsp;&nbsp;Загрузка установщика Python\n",
    "\n"
   ]
  },
  {
   "cell_type": "markdown",
   "id": "c14649f3-d06e-4618-8673-abd9099f394f",
   "metadata": {},
   "source": [
    "   **1.** &nbsp;&nbsp; Перейдите на официальную страницу загрузки Python для Windows. Страница загрузки последней версии исходного кода-> [pyhton 3.x](https://www.python.org/downloads/) \n",
    "\n",
    "   **2.** &nbsp;&nbsp; Найдите стабильную версию **Python 3.x**. Данное руководство было протестировано на **Python** версии **3.11.4**\n",
    "\n",
    "   **3.** &nbsp;&nbsp; Нажмите на соответствующую вашей системе ссылку, чтобы загрузить исполняемый файл: \n",
    "  \n",
    "  Установщик &nbsp;&nbsp;*Windows installer (64-bit)* &nbsp;&nbsp;- &nbsp;&nbsp;**64**-разрядная версия или установщик &nbsp;&nbsp;*Windows installer (32-bit)*&nbsp;&nbsp; - &nbsp;&nbsp;**32**-разрядная версия:"
   ]
  },
  {
   "cell_type": "markdown",
   "id": "8f37e524-d766-46d5-96cb-5a8334f5ba9b",
   "metadata": {},
   "source": [
    "![Python][7]\n",
    "\n",
    "[7]:https://deved-images.nyc3.digitaloceanspaces.com/CONTINT-1526%2Fpy_download.png"
   ]
  },
  {
   "cell_type": "markdown",
   "id": "f756f481-992d-411f-ae97-7910626d8c4d",
   "metadata": {},
   "source": [
    "  "
   ]
  },
  {
   "cell_type": "markdown",
   "id": "a96614a0-3cde-4449-8b83-17b7b7e8ef82",
   "metadata": {},
   "source": [
    "### Шаг 2&nbsp;&nbsp;—&nbsp;&nbsp; Запуск установщика"
   ]
  },
  {
   "cell_type": "markdown",
   "id": "fef68a7e-9160-4e0b-b8bb-0258841e5eeb",
   "metadata": {},
   "source": [
    "   "
   ]
  },
  {
   "cell_type": "markdown",
   "id": "75d2e60e-b208-46db-b406-532b7e82f391",
   "metadata": {},
   "source": [
    "\n",
    "  **1.**  &nbsp;&nbsp;После загрузки установщика дважды щелкните по файлу **.exe**, например **python-3.11.4-amd64.exe**, чтобы запустить установщик Python.\n",
    "\n",
    "  **2.**  &nbsp;&nbsp;Установите флажок *\"Install launcher for all users \"* (Установить для всех пользователей), чтобы разрешить всем пользователям компьютера получить доступ к приложению - Python.\n",
    "\n",
    "  **3.**  &nbsp;&nbsp;Установите флажок *\"Add python.exe to PATH\"* (Добавить python.exe в переменную PATH), чтобы пользователи могли запускать Python из командной строки.\n",
    "\n"
   ]
  },
  {
   "cell_type": "markdown",
   "id": "3ee5ce84-94e8-4473-9667-1570f21b5178",
   "metadata": {},
   "source": [
    "   "
   ]
  },
  {
   "cell_type": "markdown",
   "id": "090c6e13-84fb-4149-b4ef-62b3ecfa8c7f",
   "metadata": {},
   "source": [
    "![Python][8]\n",
    "\n",
    "[8]:https://deved-images.nyc3.digitaloceanspaces.com/CONTINT-1526%2Fpy-installer-customize.png"
   ]
  },
  {
   "cell_type": "markdown",
   "id": "e13959bd-ce27-4a1c-a014-2c8dfc414453",
   "metadata": {},
   "source": [
    "  "
   ]
  },
  {
   "cell_type": "markdown",
   "id": "fe24eb54-3eef-42fb-b5d8-6ca188d942d3",
   "metadata": {},
   "source": [
    "  **4.** &nbsp;&nbsp;Если вы только начинаете знакомство с Python и хотите установить его с параметрами по умолчанию, как описано в диалоговом окне, то нажмите *\"Install Now\"* (Установить сейчас) и перейдите к Шагу 4 - Проверка установки Python. Чтобы установить другие дополнительные и расширенные возможности, выберите *\"Customize installation\"*   (Настройка установки) и продолжайте.\n",
    "\n",
    "  **5.** &nbsp;&nbsp;Диалоговое окно *\"Optional Features\"* (Дополнительные функции) включают общие инструменты и ресурсы для Python, и вы можете установить все из них, даже если не планируете их использовать как показано ниже:"
   ]
  },
  {
   "cell_type": "markdown",
   "id": "71c58a60-b418-4007-aee5-0dd9ef23311c",
   "metadata": {},
   "source": [
    "  "
   ]
  },
  {
   "cell_type": "markdown",
   "id": "635697b5-7559-4fb7-832e-556439c2dce0",
   "metadata": {},
   "source": [
    "![Python][9]\n",
    "\n",
    "[9]:https://deved-images.nyc3.digitaloceanspaces.com/CONTINT-1526%2Fpy-installer-optional.png"
   ]
  },
  {
   "cell_type": "markdown",
   "id": "36e2cc87-13c8-4f1b-a0ef-f0c203fa75a0",
   "metadata": {},
   "source": [
    "*Выберите один или несколько из следующих вариантов:*\n",
    "\n",
    "   * **Documentation** &nbsp;&nbsp;&nbsp;&nbsp;-&nbsp;&nbsp; *рекомендуется*\n",
    "\n",
    "   * **pip** &nbsp;&nbsp;&nbsp;&nbsp;-&nbsp;&nbsp; *рекомендуется*,&nbsp;&nbsp; если вы хотите установить другие пакеты Python, такие как NumPy или pandas\n",
    "\n",
    "   * **tcl/tk and IDLE** &nbsp;&nbsp;&nbsp;&nbsp;-&nbsp;&nbsp; *рекомендуется*,&nbsp;&nbsp; если вы планируете использовать IDLE или следовать учебным пособиям, использующим его\n",
    "\n",
    "   * **Python test suite** &nbsp;&nbsp;&nbsp;&nbsp;-&nbsp;&nbsp; *рекомендуется*&nbsp;&nbsp; для тестирования и обучения\n",
    "\n",
    "   * **py launcher and for all users** &nbsp;&nbsp;&nbsp;&nbsp;-&nbsp;&nbsp; *рекомендуется*,&nbsp;&nbsp; чтобы все пользователи могли запускать Python из командной строки\n"
   ]
  },
  {
   "cell_type": "markdown",
   "id": "fc7767c1-dbf1-4d74-8944-2da1282fa76a",
   "metadata": {},
   "source": [
    "   "
   ]
  },
  {
   "cell_type": "markdown",
   "id": "6b43990a-6a8c-495b-9391-e8207ea34a03",
   "metadata": {},
   "source": [
    "  **6.** &nbsp;&nbsp;Нажмите *\"Next\"* (Далее).\n",
    "\n",
    "  **7.** &nbsp;&nbsp;Откроется диалоговое окно *\"Advanced Options\"* (Расширенные параметры).\n",
    "\n"
   ]
  },
  {
   "cell_type": "markdown",
   "id": "7869dfd0-f6b9-4f22-8bcb-83ea1ad60f2e",
   "metadata": {},
   "source": [
    "![Python][10]\n",
    "\n",
    "[10]:https://deved-images.nyc3.digitaloceanspaces.com/CONTINT-1526%2Fpy-installer-advanced.png"
   ]
  },
  {
   "cell_type": "markdown",
   "id": "873c11f4-0603-4b07-b1fe-945c5e05616a",
   "metadata": {},
   "source": [
    "   "
   ]
  },
  {
   "cell_type": "markdown",
   "id": "a21a9c5a-4470-4635-9f03-80b2bcca1e00",
   "metadata": {},
   "source": [
    "*Выберите варианты, соответствующие вашим требованиям:*\n",
    "\n",
    "   * **Install for all users** &nbsp;&nbsp;(Установить для всех пользователей)&nbsp;&nbsp;&nbsp;&nbsp; - &nbsp;&nbsp;&nbsp;&nbsp; *рекомендуется*,&nbsp;&nbsp; если вы не единственный пользователь на этом компьютере.\n",
    "\n",
    "   * **Associate files with Python** &nbsp;&nbsp;(Ассоциировать файлы с Python)&nbsp;&nbsp;&nbsp;&nbsp; -  &nbsp;&nbsp;&nbsp;&nbsp; *рекомендуется*,&nbsp;&nbsp; так как эта опция ассоциирует все типы файлов Python с загрузчиком или редактором.\n",
    "\n",
    "   * **Create shortcuts for installed applications** &nbsp;&nbsp;(Создать ярлыки для установленных приложений)&nbsp;&nbsp;&nbsp;&nbsp; -  &nbsp;&nbsp;&nbsp;&nbsp; *рекомендуется*,&nbsp;&nbsp; чтобы создавать ярлыки для приложений Python.\n",
    "\n",
    "   * **Add Python to environment variables** &nbsp;&nbsp;(Добавить Python в переменные среды)&nbsp;&nbsp;&nbsp;&nbsp; -  &nbsp;&nbsp;&nbsp;&nbsp; *рекомендуется*,&nbsp;&nbsp; чтобы можно было запускать Python.\n",
    "\n",
    "   * **Precompile standard library** &nbsp;&nbsp;(Предварительная компиляция стандартной библиотеки)&nbsp;&nbsp;&nbsp;&nbsp; -  &nbsp;&nbsp;&nbsp;&nbsp; *не требуется*,&nbsp;&nbsp; так как это может замедлить установку.\n",
    "\n",
    "   * **Download debugging symbols** &nbsp;&nbsp;(Загрузить символы отладки)&nbsp;&nbsp;&nbsp;&nbsp; -  &nbsp;&nbsp;&nbsp;&nbsp; *рекомендуется*&nbsp;&nbsp; только если вы планируете разрабатывать расширения на C или C++.\n",
    "     \n",
    "   * **Download debug binaries** &nbsp;&nbsp;(загрузить отладочные двоичные файлы)&nbsp;&nbsp;&nbsp;&nbsp; -  &nbsp;&nbsp;&nbsp;&nbsp; *рекомендуется* только если вы планируете создавать расширения на C или C++.\n",
    "     "
   ]
  },
  {
   "cell_type": "markdown",
   "id": "622da0b7-a840-434c-bc32-68fe8262ac32",
   "metadata": {},
   "source": [
    "Обратите внимание на **Customize install location** -  возможность выбора каталога установки Python на случай, если вам понадобится обратиться к нему позже."
   ]
  },
  {
   "cell_type": "markdown",
   "id": "3aeaca01-0bb9-445c-ade8-0b01354fd0a1",
   "metadata": {},
   "source": [
    "   "
   ]
  },
  {
   "cell_type": "markdown",
   "id": "e56f9e15-1ab7-41af-bf7e-8cc34dca208c",
   "metadata": {},
   "source": [
    "\n",
    "\n",
    "**8.** &nbsp;&nbsp;Нажмите кнопку *\"Install\"* (Установить), чтобы начать установку.\n",
    "\n",
    "\n",
    "**9.** &nbsp;&nbsp;После завершения установки появится сообщение *\"Setup was successful\"* (Установка успешно завершена)."
   ]
  },
  {
   "cell_type": "markdown",
   "id": "97fd4d9a-9600-432c-b4f7-e03000f393b8",
   "metadata": {},
   "source": [
    "  "
   ]
  },
  {
   "cell_type": "markdown",
   "id": "e8c415ff-0179-4be3-a399-ac2314ae5c11",
   "metadata": {},
   "source": [
    "### Шаг 3 &nbsp;&nbsp;— &nbsp;&nbsp;Добавление Python в переменные среды (опционально по желанию)"
   ]
  },
  {
   "cell_type": "markdown",
   "id": "c648b3c7-9893-4805-9b36-ec205a874216",
   "metadata": {},
   "source": [
    " + *Пропустите этот шаг, если вы выбрали \"Add Python to environment variables\" (Добавить Python в переменные среды) во время установки.*\n",
    "\n",
    "Если вы хотите получить доступ к Python через командную строку, но не добавили Python в ваши переменные среды во время установки, вы можете сделать это вручную.\n",
    "\n",
    "Перед тем как начать, найдите каталог установки Python на вашей системе. Ниже приведены примеры путей каталогов по умолчанию:"
   ]
  },
  {
   "cell_type": "markdown",
   "id": "9648c868-1d1c-4739-bea3-01ce7b6df29d",
   "metadata": {},
   "source": [
    "``C:\\Program Files\\Python311``&nbsp;&nbsp;&nbsp;&nbsp; -&nbsp;&nbsp; Если вы **выбрали** *\"Установить для всех пользователей\"* во время установки, то каталог будет доступен системно."
   ]
  },
  {
   "cell_type": "markdown",
   "id": "a29d1fcb-c526-4a62-beb5-b04357fc324c",
   "metadata": {},
   "source": [
    "``C:\\Users\\Sammy\\AppData\\Local\\Programs\\Python\\Python311`` &nbsp;&nbsp;&nbsp;&nbsp; -&nbsp;&nbsp; Если вы **не выбирали**  *\"Установить для всех пользователей\"* во время установки, то каталог будет находиться в пути пользователя Windows."
   ]
  },
  {
   "cell_type": "markdown",
   "id": "5bfe66ed-6402-44f3-a126-07623c1b8a18",
   "metadata": {},
   "source": [
    "Обратите внимание, что имя папки будет отличаться, если вы установили другую версию, но все равно начнется с **\"Python\"**."
   ]
  },
  {
   "cell_type": "markdown",
   "id": "3bf3a56d-da52-4448-9521-20728c394ca4",
   "metadata": {},
   "source": [
    "**1.**&nbsp;&nbsp; Перейдите в меню **Пуск** и  введите дополнительные системные настройки в строке поиска.\n",
    "\n",
    "**2.**&nbsp;&nbsp; Нажмите *Просмотреть дополнительные системные настройки*.\n",
    "\n",
    "**3.**&nbsp;&nbsp; В диалоговом окне *\"Свойства системы\"* перейдите на вкладку *\"Дополнительно\"*, а затем выберите *\"Переменные среды\"*.\n",
    "\n",
    "**4.**&nbsp;&nbsp; В зависимости от вашей установки:\n",
    "\n",
    "   * Если во время установки вы ``выбрали`` *\"Установить для всех пользователей\"*, выберите **PATH** (Путь) из списка системных переменных и нажмите **Изменить**.\n",
    "     \n",
    "   * Если вы ``не выбрали`` *\"Установить для всех пользователей\"* во время установки, выберите **PATH** (Путь) из списка пользовательских переменных и нажмите **Изменить**.\n",
    "\n",
    "**5.**&nbsp;&nbsp; Нажмите кнопку **Создать** и введите путь к каталогу Python, затем нажимайте кнопку **ОК**, пока все диалоговые окна не будут закрыты.\n",
    "\n",
    "&nbsp;"
   ]
  },
  {
   "cell_type": "markdown",
   "id": "368be03a-c20c-4213-a2bd-25a502cc0dc4",
   "metadata": {},
   "source": [
    "### Шаг 4 &nbsp;&nbsp;— &nbsp;&nbsp;Проверьте установку Python"
   ]
  },
  {
   "cell_type": "markdown",
   "id": "93a38b93-15f1-46f0-8453-02636c39d5dd",
   "metadata": {},
   "source": [
    "Вы можете проверить успешность установки **Python** как через командную строку, так и через приложение среды разработки с интегрированной средой разработки **IDLE**, если на этапе инсталляции вы выбрали его установку."
   ]
  },
  {
   "cell_type": "markdown",
   "id": "d3ca5d82-0964-4b39-be6a-87593858d034",
   "metadata": {},
   "source": [
    "Перейдите в меню **\"Пуск\"** и введите **\"cmd\"** в строку поиска. Нажмите *Command Prompt* - **\"Командная строка\"**.\n",
    "\n",
    "Введите следующую команду в командной строке:"
   ]
  },
  {
   "cell_type": "markdown",
   "id": "6ed3eadb-1afd-442f-8f96-f10edd057b94",
   "metadata": {},
   "source": [
    "```{r include=False}\n",
    "$ python --version\n",
    "```"
   ]
  },
  {
   "cell_type": "raw",
   "id": "2661d709-3092-42e5-8429-2e1d278750de",
   "metadata": {},
   "source": [
    "Вывод:\n",
    "Python 3.10.12"
   ]
  },
  {
   "cell_type": "markdown",
   "id": "0a98dc58-1b5c-4c76-be7e-ae466df39e4c",
   "metadata": {},
   "source": [
    "    "
   ]
  },
  {
   "cell_type": "markdown",
   "id": "5407b999-5adf-4562-a4ef-c6e1f6e214a1",
   "metadata": {},
   "source": [
    "# ![IDLE][11] IDLE  - среда разработки и обучения на языке Python\n",
    "\n",
    "[11]:data:image/jpeg;base64,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\n"
   ]
  },
  {
   "cell_type": "markdown",
   "id": "8d427d3e-2474-4675-9ceb-96679e1cb54b",
   "metadata": {},
   "source": [
    "**IDLE**&nbsp; (&nbsp;**I**ntegrated **D**evelopment and **L**earning **E**nvironment&nbsp;) &nbsp;— &nbsp;это интегрированная среда разработки и обучения на языке Python, созданная с помощью библиотеки Tkinter. Названа в честь _Эрика Айдла_ из _Монти Пайтон_. "
   ]
  },
  {
   "cell_type": "markdown",
   "id": "6054e0d6-d8ec-40c5-a5b5-637410dd61ae",
   "metadata": {},
   "source": [
    " IDLE&nbsp; предоставляет пользователю удобный способ создания, редактирования, выполнения и отладки Python-кода. Он обеспечивает базовые функциональные возможности, такие как подсветка синтаксиса, авто-завершение кода, интерактивная оболочка&nbsp; *Python (&nbsp;Python Shell&nbsp;)* &nbsp;и другие инструменты, которые делают процесс разработки и тестирования более эффективным. \n",
    "\n",
    "IDLE&nbsp; поставляется вместе с большинством стандартных установок Python, поэтому его можно найти и использовать вместе с вашей установкой Python. Однако, стоит отметить, что IDLE не является самой мощной или расширяемой средой разработки для Python. Существуют также более продвинутые IDE, такие как&nbsp; **PyCharm**, &nbsp;**Visual Studio Code** и другие, которые предоставляют более широкий набор инструментов для разработки на Python и других языках.\n",
    "\n",
    "Несмотря на это, IDLE всё равно остаётся полезным вариантом для новичков, так как он имеет дружественный интерфейс и предоставляет базовые инструменты, необходимые для изучения и начала работы с Python."
   ]
  },
  {
   "cell_type": "code",
   "execution_count": null,
   "id": "72d69daf-2f4b-45df-814f-116cb421d088",
   "metadata": {},
   "outputs": [],
   "source": []
  },
  {
   "cell_type": "markdown",
   "id": "91ea5d7b-21e7-4683-8690-880f9e58aa9c",
   "metadata": {},
   "source": []
  },
  {
   "cell_type": "markdown",
   "id": "8e06ab7d-180b-4b4a-bb4e-7aae5c37dece",
   "metadata": {},
   "source": [
    "Вы можете проверить *версию* Python, открыв приложение **IDLE**. Перейдите в меню **Пуск**, введите `` python `` в строку поиска, а затем нажмите на приложение **IDLE**, например *\"IDLE (Python 3.10 64-bit)\"*."
   ]
  },
  {
   "cell_type": "markdown",
   "id": "7a81efc8-a58e-47fb-a784-c12223343d91",
   "metadata": {},
   "source": [
    "![Python][11]\n",
    "\n",
    "[11]:https://deved-images.nyc3.digitaloceanspaces.com/CONTINT-1526%2Fpy-idle.png"
   ]
  },
  {
   "cell_type": "markdown",
   "id": "094b9f7f-95b2-4002-9182-891f924f415e",
   "metadata": {},
   "source": [
    "Вы можете начать программировать на Python, используя **IDLE** или ваш редактор кода по выбору."
   ]
  },
  {
   "cell_type": "markdown",
   "id": "1bd78f17-17f3-465c-a085-460ef2140f3e",
   "metadata": {},
   "source": [
    ">assa\n",
    " >>assa\n",
    "> >>///\n",
    "  \n"
   ]
  },
  {
   "cell_type": "code",
   "execution_count": null,
   "id": "33b3f523-e795-42b7-991d-27dade0b2409",
   "metadata": {},
   "outputs": [],
   "source": [
    "* a"
   ]
  },
  {
   "cell_type": "code",
   "execution_count": null,
   "id": "b11904f7-4d9e-4260-a626-f0979cde85b8",
   "metadata": {},
   "outputs": [],
   "source": []
  },
  {
   "cell_type": "code",
   "execution_count": null,
   "id": "831b1d4d-a6bd-4ab5-95cc-eefc18483346",
   "metadata": {},
   "outputs": [],
   "source": []
  },
  {
   "cell_type": "code",
   "execution_count": null,
   "id": "04bd27cc-e55f-4f1a-b4be-15f743f6ba1b",
   "metadata": {},
   "outputs": [],
   "source": []
  },
  {
   "cell_type": "code",
   "execution_count": null,
   "id": "868863c0-267d-4579-9d68-a5b2410f6b37",
   "metadata": {},
   "outputs": [],
   "source": []
  },
  {
   "cell_type": "markdown",
   "id": "fe93aa69-8f11-4e15-bc0c-af8436c31262",
   "metadata": {},
   "source": [
    "## * for Linux:"
   ]
  },
  {
   "cell_type": "markdown",
   "id": "0de35591-c5c2-4da4-b5c9-e5768af3aa9e",
   "metadata": {},
   "source": [
    "*Вам понадобится компьютер с установленной системой Linux, а также  доступ к Вашему компьютеру с правами администратора и подключение к Интернету.*"
   ]
  },
  {
   "cell_type": "markdown",
   "id": "af5c6fe8-09f0-46f2-adf3-f3e17f9e944a",
   "metadata": {},
   "source": [
    "### Шаг 1 — Настройка Python 3"
   ]
  },
  {
   "cell_type": "markdown",
   "id": "282a104c-76f6-4c87-aef5-63f7734090ca",
   "metadata": {},
   "source": [
    "Ubuntu поставляется с предустановленными Python 3 и Python 2. "
   ]
  },
  {
   "cell_type": "markdown",
   "id": "6ae9c3fe-01ae-4f77-864f-df489bb90851",
   "metadata": {},
   "source": [
    "  *  Нажмите одновременно клавиши **CTRL**, **ALT** и **T** на клавиатуре, чтобы автоматически открыть приложение *Терминала*.\n",
    "\n",
    "  *  Альтернативно Вы можете найти приложение **Terminal**, нажав на значок Ubuntu в левом верхнем углу экрана и введя “терминал” в строке поиска. Нажмите на значок приложения терминала, чтобы открыть его."
   ]
  },
  {
   "cell_type": "markdown",
   "id": "e3d39ecd-9af4-4e4b-897c-8a06bf260c20",
   "metadata": {},
   "source": [
    "Чтобы убедиться, что наши версии актуальны, давайте обновим и обновим систему с помощью apt-get:"
   ]
  },
  {
   "cell_type": "raw",
   "id": "f59813b5-a40a-450f-b9b3-eccc62bf8ac2",
   "metadata": {},
   "source": [
    "$ sudo apt-get update\n",
    "$ sudo apt-get -y upgrade"
   ]
  },
  {
   "cell_type": "markdown",
   "id": "ce0d371b-a45e-4328-ae2d-df543d51708b",
   "metadata": {},
   "source": [
    "Флаг **-y** подтвердит, что мы даем согласие на установку всех элементов, но в зависимости от вашей версии Linux вам может потребоваться подтверждать дополнительные запросы по мере обновления вашей системы."
   ]
  },
  {
   "cell_type": "markdown",
   "id": "b740c27a-706f-4f4e-aeab-32007b58b1d0",
   "metadata": {},
   "source": [
    "По завершении процесса мы можем проверить установленную версию Python 3 в системе, введя комманду:"
   ]
  },
  {
   "cell_type": "raw",
   "id": "223a2a9e-2793-4557-af7b-2fd3fc328762",
   "metadata": {},
   "source": [
    "$ python3 -V"
   ]
  },
  {
   "cell_type": "raw",
   "id": "fdb1c083-8768-4ecb-995c-875359f94c61",
   "metadata": {},
   "source": [
    "Output\n",
    "Python 3.10.12"
   ]
  },
  {
   "cell_type": "markdown",
   "id": "02502144-4d66-4275-bf13-01f225487820",
   "metadata": {},
   "source": [
    "выходные данные в окне терминала, которые позволят вам узнать номер версии Python3, установленного в Вашей системе"
   ]
  },
  {
   "cell_type": "markdown",
   "id": "e873ec99-9862-4c4f-9e55-3cc0d6916388",
   "metadata": {},
   "source": [
    "Установим pip (Python Package Index) - это инструмент командной строки для управления установкой и управлением пакетов программного обеспечения для языка программирования Python. Он позволяет легко устанавливать, обновлять и удалять пакеты Python из репозитория Python Package Index (PyPI), который содержит тысячи полезных пакетов и библиотек, созданных сообществом разработчиков Python. Введем в Терминале следующую комманду:"
   ]
  },
  {
   "cell_type": "markdown",
   "id": "d1292e45-9464-444c-b866-b165c0b4afa7",
   "metadata": {},
   "source": [
    "$ sudo apt-get install -y python3-pip"
   ]
  },
  {
   "cell_type": "markdown",
   "id": "f8c8abdc-8004-4382-b66b-15cf57f451cb",
   "metadata": {},
   "source": [
    "По завершении установки pip проверим установленную версию pip в системе:"
   ]
  },
  {
   "cell_type": "raw",
   "id": "3d86e7db-93e2-43a6-8754-f0931cef5cbe",
   "metadata": {},
   "source": [
    "$ pip -V"
   ]
  },
  {
   "cell_type": "raw",
   "id": "5d749cd5-c6df-4ae2-8d00-6526906dc87b",
   "metadata": {},
   "source": [
    "Output\n",
    "pip 22.0.2 from /usr/lib/python3/dist-packages/pip (python 3.10)"
   ]
  },
  {
   "cell_type": "markdown",
   "id": "6083532a-1916-4757-9238-3a2681a68a14",
   "metadata": {},
   "source": [
    "Необходимо установить еще несколько пакетов и средств разработки, чтобы обеспечить надежную настройку нашей среды программирования:"
   ]
  },
  {
   "cell_type": "raw",
   "id": "7fb2440f-54bd-4894-ac05-a8baaa8e24c3",
   "metadata": {},
   "source": [
    "$ sudo apt-get install build-essential libssl-dev libffi-dev python-dev"
   ]
  },
  {
   "cell_type": "markdown",
   "id": "cdee8e1e-978d-40f7-96a3-f9948d70e20b",
   "metadata": {},
   "source": [
    "Как только Python настроен, а pip и другие инструменты установлены, мы можем настроить виртуальную среду для наших проектов разработки."
   ]
  },
  {
   "cell_type": "code",
   "execution_count": null,
   "id": "3fbaaf84-426f-4938-835a-291aad1a3ca5",
   "metadata": {},
   "outputs": [],
   "source": []
  },
  {
   "cell_type": "markdown",
   "id": "d6699bdb-75be-43b5-acab-f567ff63a660",
   "metadata": {},
   "source": [
    "## Шаг 2 — Создание Виртуальной Среды"
   ]
  },
  {
   "cell_type": "markdown",
   "id": "b9972593-3faf-4037-913a-33731fde311c",
   "metadata": {},
   "source": [
    "**Виртуальная среда** в Python - это изолированное окружение, которое позволяет вам управлять зависимостями и пакетами для конкретного проекта независимо от других проектов. Она предоставляет возможность создать отдельное пространство для разработки, где вы можете установить нужные версии библиотек и инструментов, не влияя на глобальное окружение Python на вашем компьютере.\n",
    "\n",
    "**Виртуальная среда** полезна, когда у вас есть несколько проектов, которые требуют разных версий библиотек или когда вы хотите избежать конфликтов между зависимостями разных проектов. Вы можете создавать, активировать и деактивировать виртуальные среды, чтобы эффективно управлять окружением для каждого проекта."
   ]
  },
  {
   "cell_type": "markdown",
   "id": "3db1e9bc-a955-48d1-a17a-10f703a05cc2",
   "metadata": {},
   "source": [
    "Для начала нам нужно установить модуль **venv**, часть стандартной библиотеки **Python 3**, чтобы мы могли создавать виртуальные среды. Давайте установим **venv**, набрав комманду:"
   ]
  },
  {
   "cell_type": "raw",
   "id": "ee4bd1c6-ae74-4384-b4c5-f29f76f5cf30",
   "metadata": {},
   "source": [
    "$ sudo apt-get install -y python3-venv"
   ]
  },
  {
   "cell_type": "markdown",
   "id": "1c8935bb-12bb-4a40-b723-0247750937c7",
   "metadata": {},
   "source": [
    "Установив это, мы готовы создавать среды. Давайте выберем каталог, в котором мы хотим разместить наши среды для программирования на Python, или мы можем создать новый каталог с помощью команды mkdir, как в примере:"
   ]
  },
  {
   "cell_type": "raw",
   "id": "dbf613e6-13ec-4640-ba84-71f2c5047e3a",
   "metadata": {},
   "source": [
    "$ mkdir environments"
   ]
  },
  {
   "cell_type": "raw",
   "id": "627c3e11-779d-47e5-9e60-cc848778879e",
   "metadata": {},
   "source": [
    "$ cd environments"
   ]
  },
  {
   "cell_type": "markdown",
   "id": "1a021971-3f89-4a5f-aa2a-38a9996c5d70",
   "metadata": {},
   "source": [
    "\n",
    "После того как вы перейдете в каталог, где хотите разместить среды, вы можете создать среду, выполнив следующую команду:"
   ]
  },
  {
   "cell_type": "raw",
   "id": "72946b3c-4897-4cdd-b475-77f4caf6bec8",
   "metadata": {},
   "source": [
    "$ python3 -m venv my_venv"
   ]
  },
  {
   "cell_type": "markdown",
   "id": "7f2e072a-ab36-4adc-b3e2-81d1500cb040",
   "metadata": {},
   "source": [
    "Сущностью этой команды является создание нового каталога, который содержит несколько элементов, которые мы можем увидеть с помощью команды **ls**:"
   ]
  },
  {
   "cell_type": "raw",
   "id": "106b589b-10b4-47b9-a2a9-61f5a7bbc5a0",
   "metadata": {},
   "source": [
    "$ ls my_venv"
   ]
  },
  {
   "cell_type": "raw",
   "id": "7774bdaa-cedb-46f7-b952-b769af7a6937",
   "metadata": {},
   "source": [
    "Output\n",
    "bin include lib lib64 pyvenv.cfg share"
   ]
  },
  {
   "cell_type": "markdown",
   "id": "fa58efe1-66c6-49b8-9a96-7765c3061b30",
   "metadata": {},
   "source": [
    "Вместе эти файлы обеспечивают изоляцию ваших проектов от широкого контекста вашей локальной машины, чтобы системные файлы и файлы проекта не смешивались. Это хорошая практика для контроля версий и обеспечивает доступ каждого из ваших проектов к определенным пакетам, которые им необходимы. Файлы Python Wheels, формат встроенного пакета для Python, который может ускорить производство программного обеспечения, уменьшив количество раз, когда вам нужно компилировать, будут находиться в каталоге share на Ubuntu 22.04."
   ]
  },
  {
   "cell_type": "markdown",
   "id": "56cf66e1-257b-4a38-865d-823c2eec1130",
   "metadata": {},
   "source": [
    "Чтобы использовать эту среду, вы должны ее **активировать**, что можно сделать, введя следующую команду, вызывающую скрипт **activate**:"
   ]
  },
  {
   "cell_type": "raw",
   "id": "7ce8f64c-e0f3-42cf-ab11-7583f58b0e77",
   "metadata": {},
   "source": [
    "$ source my_venv/bin/activate"
   ]
  },
  {
   "cell_type": "markdown",
   "id": "01fd526c-de0d-401f-a267-35a321083faf",
   "metadata": {},
   "source": [
    "Ваш приглашение теперь будет предваряться именем вашей среды, в данном случае она называется my_env. Ваш префикс может выглядеть несколько иначе, но имя вашей среды в скобках должно быть первым, что вы видите на вашей строке:"
   ]
  },
  {
   "cell_type": "raw",
   "id": "dbc1b2d8-b5e0-446d-8576-bf9f6f16823d",
   "metadata": {},
   "source": [
    "(my_env) $ _"
   ]
  },
  {
   "cell_type": "markdown",
   "id": "c9ce9366-039d-44f9-98aa-ef7aa65dacc6",
   "metadata": {},
   "source": [
    "Этот префикс позволяет нам знать, что среда my_env в настоящее время активна, что означает, что при создании программ здесь будут использоваться только настройки и пакеты этой конкретной среды.\n",
    "\n",
    "Примечание: Внутри виртуальной среды вы можете использовать команду python вместо python3 и pip вместо pip3, если предпочитаете. Если вы используете Python 3 на своей машине вне среды, вам потребуется использовать исключительно команды python3 и pip3.\n",
    "\n",
    "После выполнения этих шагов ваша виртуальная среда готова к использованию."
   ]
  },
  {
   "cell_type": "markdown",
   "id": "3ebf3639-7efa-470f-af65-532d7affe9e0",
   "metadata": {},
   "source": [
    "  "
   ]
  },
  {
   "cell_type": "markdown",
   "id": "8a5d0f34-fa91-4f41-b264-fa32528a7c97",
   "metadata": {},
   "source": [
    "## Шаг 3 — Создание Простой Тестовой Программы"
   ]
  },
  {
   "cell_type": "markdown",
   "id": "1db92ac5-9812-4395-9006-3f0745c5cce4",
   "metadata": {},
   "source": [
    "Теперь, когда у нас настроена виртуальная среда, давайте создадим простую программу \"Привет, мир!\". Это позволит нам убедиться, что наша среда работает, и даст нам возможность более подробно ознакомиться с Python, если мы этого еще не сделали.\n",
    "\n",
    "Для этого мы откроем текстовый редактор командной строки, такой как nano, и создадим новый файл:"
   ]
  },
  {
   "cell_type": "code",
   "execution_count": null,
   "id": "9e747fd2-4609-46b4-a98b-b960e40303b3",
   "metadata": {},
   "outputs": [],
   "source": [
    "$ nano hello.py"
   ]
  },
  {
   "cell_type": "markdown",
   "id": "b43870a5-69d5-4553-bf37-57ea396540c1",
   "metadata": {},
   "source": [
    "Когда текстовый файл откроется в терминальном окне, мы напишем нашу программу:"
   ]
  },
  {
   "cell_type": "code",
   "execution_count": 9,
   "id": "1c46043f-363d-428f-912a-6d26577dbd92",
   "metadata": {},
   "outputs": [
    {
     "name": "stdout",
     "output_type": "stream",
     "text": [
      "Привет, мир!\n"
     ]
    }
   ],
   "source": [
    "print(\"Привет, мир!\")"
   ]
  },
  {
   "cell_type": "markdown",
   "id": "a3ee81cb-636b-4032-be47-3e12ed21d354",
   "metadata": {},
   "source": [
    "Выйдите из редактора **nano**, нажав клавиши **Ctrl** и **X**, и при запросе о сохранении файла нажмите **Y**.\n",
    "\n",
    "После выхода из **nano** и возвращения к оболочке давайте выполним программу:"
   ]
  },
  {
   "cell_type": "raw",
   "id": "73087588-258d-4f53-8ca9-4e4040944cfe",
   "metadata": {},
   "source": [
    "$ python3 hello.py"
   ]
  },
  {
   "cell_type": "markdown",
   "id": "ab716475-043d-4f19-a984-f070d23e877a",
   "metadata": {},
   "source": [
    "Программа **hello.py**, которую вы только что создали, должна вызвать следующий вывод в вашем терминале:"
   ]
  },
  {
   "cell_type": "raw",
   "id": "b0be3398-931c-4794-b025-687a913127a1",
   "metadata": {},
   "source": [
    "Привет, мир!"
   ]
  },
  {
   "cell_type": "markdown",
   "id": "6e061046-1101-481f-9cbb-36c9a7cf1e97",
   "metadata": {},
   "source": [
    "Чтобы выйти из среды, просто введите команду deactivate, и вы вернетесь в исходный каталог.\n",
    "\n",
    "Заключение\n",
    "Поздравляем! На данный момент у вас есть среда программирования Python 3 на вашей локальной машине Ubuntu, и вы можете начать проект по кодированию!\n",
    "\n",
    "Чтобы настроить Python 3 на другом компьютере, следуйте руководствам по созданию локальной среды программирования для Debian 12, CentOS 9, Windows 10 или macOS. Вы также можете ознакомиться с установкой Python и настройкой среды программирования на сервере Ubuntu 22.04, что особенно полезно при работе в команде разработчиков."
   ]
  },
  {
   "cell_type": "code",
   "execution_count": null,
   "id": "afd96f15-5c7f-4def-96f8-f929f51bbeb8",
   "metadata": {},
   "outputs": [],
   "source": []
  },
  {
   "cell_type": "code",
   "execution_count": null,
   "id": "498fc7a4-4e90-416f-ba3b-bd77a091e6eb",
   "metadata": {},
   "outputs": [],
   "source": []
  },
  {
   "cell_type": "code",
   "execution_count": null,
   "id": "15413afd-d550-41ec-b95b-9f79c80b6711",
   "metadata": {},
   "outputs": [],
   "source": []
  },
  {
   "cell_type": "markdown",
   "id": "033608ff-dc69-4c65-8ae0-f2fb651a792e",
   "metadata": {},
   "source": [
    "## Среды разработки для языка программирования Python:\n",
    "\n",
    "1. [Visual Studio Code][2]  \n",
    "\n",
    "[2]:https://code.visualstudio.com/\n",
    "\n",
    "  * **Visual Studio Code** — редактор исходного кода, разработанный **Microsoft** для Windows, Linux и macOS.\n",
    "\n",
    "2. [PyCharm][3]\n",
    "[3]:\n",
    "\n",
    "[3]:https://www.jetbrains.com/pycharm/download/?section=windows\n",
    "\n",
    "  * **PyCharm** — это кроссплатформенная интегрированная среда разработки для языка программирования Python, разработанная компанией **JetBrains** на основе IntelliJ IDEA. Предоставляет пользователю комплекс средств для написания кода и визуальный отладчик.\n",
    "\n",
    "\n",
    " \n",
    "   \n"
   ]
  },
  {
   "cell_type": "markdown",
   "id": "f2b578f4-c9d7-4315-a887-ebfda4ade5e3",
   "metadata": {},
   "source": [
    "   "
   ]
  },
  {
   "cell_type": "markdown",
   "id": "a554cb50-bd45-4f08-9afa-4f08fb47ea80",
   "metadata": {},
   "source": [
    "   "
   ]
  },
  {
   "cell_type": "markdown",
   "id": "48e2e7ad-940c-4bb3-b751-247a1978d4d7",
   "metadata": {},
   "source": [
    "   "
   ]
  },
  {
   "cell_type": "markdown",
   "id": "1d16e266-c8f5-4c97-a0b3-22762fd8fe23",
   "metadata": {},
   "source": [
    "# Язык программирования Python\n",
    "-----------------------------------"
   ]
  },
  {
   "cell_type": "markdown",
   "id": "dfd224d1-ca74-4742-9795-748bb5c1fc54",
   "metadata": {},
   "source": [
    "  "
   ]
  },
  {
   "cell_type": "markdown",
   "id": "b25c459e-02f0-4fe0-a5f6-3876183f1c44",
   "metadata": {},
   "source": [
    "## **История создания Python**"
   ]
  },
  {
   "cell_type": "markdown",
   "id": "d1278675-8ed4-40ae-be44-f947fd7bd468",
   "metadata": {
    "jp-MarkdownHeadingCollapsed": true
   },
   "source": [
    "&nbsp;\n",
    "\n",
    "Язык программирования **Python** был создан **Гвидо ван Россумом** и впервые анонсирован в конце **1980-х**, а его официальная реализация была выпущена в **1991** году, прошел долгий путь развития и стал одним из самых популярных языков программирования.\n",
    "\n",
    "В **2000** году была издана версия **Python 2.0**, а в **2008** году - версия **Python 3.0**. Переход с версии 2 на версию 3 (Python 2.x -> Python 3.x) был довольно значительным и связан с устранением некоторых дизайнерских проблем и улучшением языка. В **2020** году официально объявлено о прекращении поддержки **Python 2.x**, и разработчики призвали переходить на **Python 3**.\n",
    "\n",
    "Внутри версий **Python 3** происходят регулярные обновления и выпуски подверсий, чтобы вносить улучшения, исправлять ошибки и предоставлять новые возможности. Версия **3.11**, которая была выпущена в **октябре 2022** года, продолжает эту традицию, добавляя новые функции и улучшения к уже богатому набору возможностей **Python**.\n",
    "\n",
    "\n",
    "\n",
    "\n",
    "\n"
   ]
  },
  {
   "cell_type": "markdown",
   "id": "5d4b9713-4e6b-4328-a232-8290b078509f",
   "metadata": {},
   "source": [
    "   "
   ]
  },
  {
   "cell_type": "markdown",
   "id": "7d530a8e-fbc1-4387-8211-6fc84b5242c8",
   "metadata": {},
   "source": [
    "## \"Философия Python\", Тим Петерс :"
   ]
  },
  {
   "cell_type": "markdown",
   "id": "0ae909d9-c0ab-4a22-a9b6-892ecd6bc5aa",
   "metadata": {},
   "source": [
    "* Красивое лучше, чем уродливое.\n",
    "\n",
    "* Явное лучше, чем неявное.\n",
    "\n",
    "* Простое лучше, чем сложное.\n",
    "\n",
    "* Сложное лучше, чем запутанное.\n",
    "\n",
    "* Плоское лучше, чем вложенное.\n",
    "\n",
    "* Разреженное лучше, чем плотное.\n",
    "\n",
    "* Читаемость имеет значение.\n",
    "\n",
    "* Особые случаи недостаточно особенны, чтобы нарушать правила.\n",
    "\n",
    "* Несмотря на практичность, чистота важнее.\n",
    "\n",
    "* Ошибки никогда не должны проходить незамеченными.\n",
    "\n",
    "* За исключением случаев явного подавления.\n",
    "\n",
    "* Перед неоднозначностью откажитесь от искушения догадываться.\n",
    "\n",
    "* Должен существовать один — и, желательно, только один — очевидный способ сделать это.\n",
    "\n",
    "* Хотя этот способ может не быть очевидным сразу, если вы не голландец.\n",
    "\n",
    "* Сейчас лучше, чем никогда.\n",
    "\n",
    "* Хотя никогда часто лучше, чем прямо сейчас.\n",
    "\n",
    "* Если реализацию трудно объяснить, это плохая идея.\n",
    "\n",
    "* Если реализацию легко объяснить, это, возможно, хорошая идея.\n",
    "\n",
    "* Пространства имен — отличная идея, давайте делать их больше!*\n",
    "\n",
    "&nbsp;"
   ]
  },
  {
   "cell_type": "markdown",
   "id": "42f7d07e-af9b-483f-932f-f1c152742a4e",
   "metadata": {},
   "source": [
    "   "
   ]
  },
  {
   "cell_type": "markdown",
   "id": "1347de95-b96c-45d8-8799-50fd66700c95",
   "metadata": {},
   "source": [
    "*Вы можете получить в оригинале \"The Zen of Python\" на английском с помощью следующей команды:*"
   ]
  },
  {
   "cell_type": "code",
   "execution_count": 1,
   "id": "b6435aed-b529-42e4-b877-cba8d05717b6",
   "metadata": {
    "scrolled": true
   },
   "outputs": [
    {
     "name": "stdout",
     "output_type": "stream",
     "text": [
      "The Zen of Python, by Tim Peters\n",
      "\n",
      "Beautiful is better than ugly.\n",
      "Explicit is better than implicit.\n",
      "Simple is better than complex.\n",
      "Complex is better than complicated.\n",
      "Flat is better than nested.\n",
      "Sparse is better than dense.\n",
      "Readability counts.\n",
      "Special cases aren't special enough to break the rules.\n",
      "Although practicality beats purity.\n",
      "Errors should never pass silently.\n",
      "Unless explicitly silenced.\n",
      "In the face of ambiguity, refuse the temptation to guess.\n",
      "There should be one-- and preferably only one --obvious way to do it.\n",
      "Although that way may not be obvious at first unless you're Dutch.\n",
      "Now is better than never.\n",
      "Although never is often better than *right* now.\n",
      "If the implementation is hard to explain, it's a bad idea.\n",
      "If the implementation is easy to explain, it may be a good idea.\n",
      "Namespaces are one honking great idea -- let's do more of those!\n"
     ]
    }
   ],
   "source": [
    "# The Zen of Python, by Tim Peters\n",
    "import this"
   ]
  },
  {
   "cell_type": "markdown",
   "id": "cd372a40-6558-497e-96dc-f58af32ada63",
   "metadata": {},
   "source": [
    "   "
   ]
  },
  {
   "cell_type": "markdown",
   "id": "acbc1135-8e3e-42bf-a866-86361273aaf5",
   "metadata": {},
   "source": [
    "   "
   ]
  },
  {
   "cell_type": "markdown",
   "id": "637ca866-7222-4714-8804-a4ff007811e6",
   "metadata": {},
   "source": [
    "## **Интерпретатор Python**\n",
    "\n",
    "&nbsp;"
   ]
  },
  {
   "cell_type": "markdown",
   "id": "84348ee9-9f8e-4885-b882-97d11f86a48b",
   "metadata": {},
   "source": [
    "\n",
    "**Python** редставляет собой мощный язык программирования, который сочетает в себе простоту освоения и эффективные высокоуровневые структуры данных. С его помощью можно легко воплощать принципы объектно-ориентированного программирования, используя подход, который прост по своей сути, но при этом эффективен. Отличается он также утонченным синтаксисом и гибкой динамической типизацией. Благодаря интерпретируемой природе Python, этот язык идеально подходит для создания сценариев и оперативной разработки приложений в различных сферах на разных платформах.\n",
    "\n",
    "\n",
    "**Python** остается одним из наиболее динамично развивающихся языков программирования с активным сообществом разработчиков и пользователей, что делает его популярным выбором для различных проектов и областей применения.\n",
    "\n",
    "&nbsp;\n",
    "\n",
    "**Интерпретатор Python**\n",
    "\n",
    "*Интерпретатор Python* - это программное обеспечение, которое выполняет код, написанный на языке программирования Python. Он интерпретирует и исполняет инструкции Python поочередно, без необходимости предварительной компиляции. Это означает, что вы можете создавать и выполнять программы на Python буквально \"на лету\", без необходимости создания отдельных исполняемых файлов.\n",
    "\n",
    "**Интерпретатор Python** легко расширяется новыми функциями и типами данных, реализованными на C или C++ (или других языках, вызываемых из C). Python также подходит в качестве языка расширения для настраиваемых приложений.\n",
    "\n",
    "\n",
    "**Интерпретатор Python** и обширная стандартная библиотека свободно доступны в исходном или бинарном виде для всех основных платформ на веб-сайте Python: https://www.python.org/ и могут свободно распространяться. Этот же сайт также содержит дистрибутивы и указатели на многие бесплатные сторонние модули Python, программы и инструменты, а также дополнительную документацию.\n",
    "\n",
    "&nbsp;\n",
    "\n",
    "Современный **Python** является популярным и многоцелевым **высокоуровневым** языком программирования, который находит применение во множестве различных областей,перечислю некоторые из них:\n",
    "&nbsp;\n",
    "\n",
    "1. **Веб-приложения:** С использованием фреймворков, таких как *Django* или *Flask*, Python широко применяется для разработки веб-приложений и веб-серверов.\n",
    "\n",
    "2. **Игры:** С помощью библиотек, таких как *Pygame*, Python можно использовать для создания простых компьютерных игр и графических приложений.\n",
    "\n",
    "3. **Настольные программы:** Python может быть использован для создания разнообразных настольных программ, от текстовых редакторов до графических приложений.\n",
    "\n",
    "4. **Работа с базами данных:** Благодаря библиотекам, таким как *SQLAlchemy*, Python облегчает взаимодействие с различными типами баз данных.\n",
    "\n",
    "5. **Машинное обучение и искусственный интеллект:** Python стал одним из основных языков для разработки и исследований в области машинного обучения, глубокого обучения и искусственного интеллекта. Библиотеки, такие как *TensorFlow*, *PyTorch* и *scikit-learn*, делают его популярным выбором для создания и обучения моделей машинного обучения.\n",
    "\n",
    "6. **Научные исследования и анализ данных:** Python предоставляет множество библиотек и инструментов для анализа данных и научных исследований, таких как *NumPy*, *Pandas* и *Matplotlib*.\n",
    "\n",
    "7. **Автоматизация задач:** Python часто используется для автоматизации повседневных задач, создания скриптов и обработки данных.\n",
    "\n",
    "8. **Интернет вещей (IoT):** Python может быть использован для разработки программного обеспечения для устройств Интернета вещей и взаимодействия с ними.\n",
    "\n",
    "9. **Кибербезопасность:** Python часто используется в области кибербезопасности для создания инструментов и скриптов для анализа уязвимостей и тестирования на проникновение.\n",
    "\n",
    "10. **Обработка естественного языка (NLP):** Благодаря библиотекам, таким как *NLTK* и *spaCy*, Python применяется в области обработки и анализа естественного языка.\n",
    "\n",
    "&nbsp;\n",
    "\n",
    "Это лишь небольшой обзор того, как Python используется в различных областях. Его чистый синтаксис, богатая экосистема библиотек и активное сообщество программистов делают его мощным и универсальным инструментом для разработки программного обеспечения в различных сферах.\n",
    "\n",
    "\n",
    "   \n",
    "    "
   ]
  },
  {
   "cell_type": "markdown",
   "id": "905e135c-24f8-4958-964f-7662e0ad8a37",
   "metadata": {},
   "source": [
    "   "
   ]
  },
  {
   "cell_type": "markdown",
   "id": "2d48eba8-233a-4529-b658-ba8489fd934f",
   "metadata": {},
   "source": [
    "## **Основные особенности языка программирования Python**:   "
   ]
  },
  {
   "cell_type": "markdown",
   "id": "ba714775-9624-46df-aa0d-da32ce5785c2",
   "metadata": {},
   "source": [
    "* **Простой и чистый синтаксис.**\n",
    "\n",
    "    Python имеет простой и легко читаемый синтаксис, который позволяет разработчикам выражать свои идеи более ясно и компактно.\n",
    "\n",
    "* **Динамическая типизация.**\n",
    "\n",
    "    Переменные в Python не требуют объявления типов, и их тип может изменяться во время выполнения программы, что делает код более гибким и удобным.\n",
    "\n",
    "* **Автоматическое управление памятью.**\n",
    "\n",
    "    Python автоматически управляет памятью и устраняет необходимость вручную выделять и освобождать память для объектов.\n",
    "\n",
    "* **Большая стандартная библиотека.**\n",
    "\n",
    "    Python поставляется с обширной стандартной библиотекой, которая предоставляет множество полезных модулей и функций для различных задач, таких как работа с файлами, сетевое программирование, обработка строк, математические операции и многое другое.\n",
    "\n",
    "* **Многоцелевой язык.**\n",
    "\n",
    "    Python подходит для разработки разнообразных типов приложений, от веб-серверов и настольных программ до научных вычислений и машинного обучения.\n",
    "\n",
    "* **Кроссплатформенность.**\n",
    "\n",
    "    Python доступен для различных операционных систем, таких как Windows, macOS и различные дистрибутивы Linux.\n",
    "\n",
    "* **Обработка исключений.**\n",
    "\n",
    "    Python предоставляет мощный механизм для обработки исключений, что помогает улучшить устойчивость и надежность программ.\n",
    "\n",
    "* **Поддержка разнообразных парадигм программированияю**\n",
    "\n",
    "    Python действительно поддерживает разнообразные парадигмы программирования: ООП, функциональную парадигму, процедурную парадигму, императивное программирование, реактивное программирование, что делает его очень гибким и мощным инструментом для разработчиков.\n",
    "\n",
    "* **Сильная поддержка объектно-ориентированного программирования (ООП)**.\n",
    "    Python поддерживает объектно-ориентированное программирование, что позволяет создавать модульные и легко расширяемые приложения.\n",
    "\n",
    "* **Динамическая компиляция.**\n",
    "\n",
    "    Python использует интерпретацию и динамическую компиляцию, что обеспечивает гибкость и быстрое время разработки.\n",
    "\n",
    "* **Коммьюнити и библиотеки.**\n",
    "\n",
    "   Python имеет огромное активное сообщество разработчиков, которые создают и поддерживают множество библиотек и фреймворков для разных областей, что ускоряет разработку и расширяет возможности языка.\n",
    "\n"
   ]
  },
  {
   "cell_type": "markdown",
   "id": "c49b1361-bf03-45c7-99db-65bd3ffee5ec",
   "metadata": {},
   "source": [
    "     "
   ]
  },
  {
   "cell_type": "markdown",
   "id": "98d01de1-c77f-4f65-83a2-fb1854e0c5c3",
   "metadata": {},
   "source": [
    "**Шаги выполнения программы на Python выглядят следующим образом:**\n",
    "\n",
    "1. Написание кода: Используя **текстовый редактор** или интегрированную среду разработки (IDE), Вы создаете исходный код программы и сохраняете как **Файл с исходным кодом (.py)**, в котором .py - это расширение файла.\n",
    "\n",
    "2. Трансляция в байткод: Когда вы запускаете скрипт, **Интерпретатор Python** анализирует ваш код, выполняет синтаксический анализ и создает промежуточный байткод.\n",
    "   \n",
    "3.  **Байткод** - это промежуточное представление вашего кода, которое является неким \"языком машины\" для виртуальной машины Python.\n",
    "\n",
    "4. Интерпретация и выполнение виртуальной машиной: **Виртуальная машина Python** (*Python Virtual Machine*, сокращенно PVM) интерпретирует и выполняет байткод. Она преобразует байткод в реальные машинные инструкции, которые операционная система выполняет на аппаратном уровне. Виртуальная машина выполняет инструкции поочередно, обрабатывая операции, вызовы функций, операции с данными и так далее, в зависимости от содержимого вашего исходного кода.\n",
    "\n",
    "5. Завершение выполнения: По завершении выполнения программы происходит вывод результатов, если ваш код содержит инструкции вывода, такие как print(), результаты выводятся в соответствующем месте, например, в командной строке или терминале и управление возвращается обратно в **Операционную систему**.\n",
    "\n",
    "Действительно важно понимать, что весь этот процесс интегрирован в работу интерпретатора Python. Для программиста важно знать, как писать код, а интерпретатор берет на себя трансляцию в байткод и выполнение.\n",
    "\n",
    "&nbsp;"
   ]
  },
  {
   "cell_type": "markdown",
   "id": "cf89e5ea-6234-4e38-9568-84cfa38a9456",
   "metadata": {},
   "source": [
    "  ![][4]\n",
    "\n",
    "  [4]:https://metanit.com/python/tutorial/pics/1.9.png"
   ]
  },
  {
   "cell_type": "markdown",
   "id": "09bad37e-1608-488e-9753-471d6df1de4e",
   "metadata": {},
   "source": [
    "  "
   ]
  },
  {
   "cell_type": "markdown",
   "id": "9fd71cb9-c479-41b1-886c-a2c0ba389d62",
   "metadata": {},
   "source": [
    "   "
   ]
  },
  {
   "cell_type": "markdown",
   "id": "c30cce44-6244-47b7-9951-397a9695cdee",
   "metadata": {},
   "source": [
    "     "
   ]
  },
  {
   "cell_type": "markdown",
   "id": "d431ef2c-1047-45fb-941b-a4747031e75a",
   "metadata": {},
   "source": [
    "  "
   ]
  },
  {
   "cell_type": "markdown",
   "id": "73987ac7-ad47-4a3f-99d3-59ba453ac7d2",
   "metadata": {},
   "source": [
    "## **Пакеты и библиотеки**"
   ]
  },
  {
   "cell_type": "markdown",
   "id": "8dbd4eb9-6552-4cd7-9dad-35a6d5c48b95",
   "metadata": {},
   "source": [
    ">Интерпретатор Python включает в себя обширный набор функций, достаточных для создания приложений на этом языке. Однако для решения определенных задач этого функционала может оказаться недостаточно. Следует отметить, что благодаря активному сообществу разработчиков Python по всему миру существует обширная экосистема разнообразных пакетов и библиотек, которые могут быть использованы для различных целей."
   ]
  },
  {
   "cell_type": "markdown",
   "id": "ec86c65e-7c18-45f7-ab22-a2e42d7abb80",
   "metadata": {},
   "source": [
    "   "
   ]
  },
  {
   "cell_type": "markdown",
   "id": "96846ad9-c5e8-4e24-8fad-b5a0b1804e66",
   "metadata": {},
   "source": [
    "* **Для создания графических приложений:**\n",
    "\n",
    "    * Tkinter\n",
    "\n",
    "    * PyQt / PySide\n",
    "\n",
    "    * wxPython\n",
    "\n",
    "    * DearPyGui\n",
    "\n",
    "    * EasyGUI\n",
    "      \n",
    "    * Kivy\n",
    "      \n",
    "    * Toga\n",
    "      \n",
    "    * GTK\n",
    "\n",
    "* **Для работы с различными типами файлов:**\n",
    "\n",
    "    * OpenPyXL (Excel)\n",
    "      \n",
    "    * xlrd / xlwt (Excel old)\n",
    "\n",
    "    * lxml (XML)\n",
    "    \n",
    "    * csv (CSV)\n",
    "      \n",
    "    * xml.etree.ElementTree (XML)\n",
    "      \n",
    "    * ReportLab / borb (PDF)\n",
    "    \n",
    "    * json (JSON)\n",
    "\n",
    "    * pdfrw / PyPDF2 (PDF)\n",
    "\n",
    "    * Pandas (CSV, Excel, SQL, JSON и другие)\n",
    "      \n",
    "    * pickle (state object)\n",
    "    \n",
    "    * h5py (HDF5)\n",
    "      \n",
    "    * docx ( DOCX)\n",
    "      \n",
    "\n",
    "* **Для машинного обучения (ML), искусственного интеллекта (AI), Data Science:**\n",
    "\n",
    "    * Pandas\n",
    "\n",
    "    * SciPy\n",
    "\n",
    "    * PyTorch\n",
    "\n",
    "    * Matplotlib\n",
    "\n",
    "    * Theano\n",
    "\n",
    "    * Tensorflow\n",
    "      \n",
    "    * Seaborn\n",
    "\n",
    "    * OpenCV\n",
    "\n",
    "    * Scikit-Learn\n",
    "\n",
    "    * Keras\n",
    "\n",
    "    * NumPy\n",
    "      \n",
    "    * NLTK (Natural Language Toolkit)\n",
    "      \n",
    "    * Gensim\n",
    "      \n",
    "    * FastAI\n",
    "\n",
    "* **Для визуализации:**\n",
    "\n",
    "    * Matplotlib\n",
    "\n",
    "    * Seaborn\n",
    "\n",
    "    * Plotly\n",
    "\n",
    "    * Bokeh\n",
    "\n",
    "    * Altair\n",
    "\n",
    "    * HoloViews\n",
    "      \n",
    "    * ggplot\n",
    "      \n",
    "    * Cufflinks\n",
    "      \n",
    "    * WordCloud\n",
    "      \n",
    "    * NetworkX\n",
    "      \n",
    "    * Holoviz\n",
    "      \n",
    "    * Folium\n",
    "      \n",
    "    * Mayavi\n",
    "      \n",
    "    * Gleam\n",
    "\n",
    "* **Для создания мобильных приложений:**\n",
    "\n",
    "    * PyQt for Mobile \n",
    "\n",
    "    * BeeWare\n",
    "\n",
    "    * KivyMD/Kivy\n",
    "\n",
    "    * SL4A (Scripting Layer for Android)\n",
    "\n",
    "    * Toga\n",
    "\n",
    "    * Rubicon-objc / Rubicon-java\n",
    "\n",
    "    * PySide for Mobile\n",
    "\n",
    "* **Для создания веб-приложений:**\n",
    "\n",
    "    * Django\n",
    "\n",
    "    * Flask\n",
    "\n",
    "    * FastAPI\n",
    "\n",
    "    * CherryPy \n",
    "\n",
    "    * Bottle\n",
    "\n",
    "    * Pylons\n",
    "\n",
    "    * TurboGears\n",
    "\n",
    "    * Nagare\n",
    "      \n",
    "    * Pyramid\n",
    "\n",
    "* **Для автоматизации процессов и тестирования:**\n",
    "\n",
    "    * Selenium (для тестирования веб-приложений)\n",
    "\n",
    "    * Flask\n",
    "\n",
    "    * FastAPI\n",
    "\n",
    "    * Pylons\n",
    "  \n",
    "    * Requests\n",
    "\n",
    "    * Bottle\n",
    "      \n",
    "    * pyautogui\n",
    "\n",
    "    * CherryPy\n",
    "\n",
    "    * TurboGears\n",
    "\n",
    "    * Nagare\n",
    "\n",
    "    * Robot Framework\n",
    "\n",
    "    * pywinauto\n",
    "\n",
    "    * Lettuce\n",
    "      \n",
    "    * Appium\n",
    "\n",
    "    * Behave\n",
    "      \n",
    "    * pytest\n",
    "      \n",
    "    * nose2\n",
    "      \n",
    "    * unittest\n",
    "\n",
    "    \n",
    "\n"
   ]
  },
  {
   "cell_type": "markdown",
   "id": "25cddbb9-b4eb-47a9-8544-a642e0dc9e64",
   "metadata": {
    "tags": []
   },
   "source": [
    "## **Структура файла Python**\n",
    "\n",
    "\n",
    "\n",
    "\n"
   ]
  },
  {
   "cell_type": "markdown",
   "id": "7180d3ff-c755-40cd-93f5-d2d2180bdc1c",
   "metadata": {},
   "source": [
    ">Структура файла Python может варьироваться в зависимости от его назначения, но в общем случае файл Python имеет следующую структуру:"
   ]
  },
  {
   "cell_type": "raw",
   "id": "30ea172c-ec5f-4241-8098-1f779a68f6dd",
   "metadata": {},
   "source": [
    "# Импорт необходимых модулей и библиотек\n",
    "import module1\n",
    "import module2\n",
    "\n",
    "# Определение функций\n",
    "def function1():\n",
    "    # Тело функции\n",
    "    pass\n",
    "\n",
    "def function2():\n",
    "    # Тело функции\n",
    "    pass\n",
    "\n",
    "# Определение классов\n",
    "class MyClass1:\n",
    "    # Тело класса\n",
    "    pass\n",
    "\n",
    "class MyClass2:\n",
    "    # Тело класса\n",
    "    pass\n",
    "\n",
    "# Основной код программы\n",
    "if __name__ == \"__main__\":\n",
    "    # Тут может быть код, который будет выполняться при запуске файла напрямую\n",
    "    pass\n"
   ]
  },
  {
   "cell_type": "markdown",
   "id": "477a5f2f-d8fa-4c11-95fb-ecfc27b42c84",
   "metadata": {},
   "source": [
    "**Импорт модулей и библиотек:** В начале файла часто идут строки импорта, где вы можете подключать другие модули и библиотеки, которые будут использоваться в вашем коде.\n",
    "\n",
    "**Определение функций:** Здесь вы можете определять свои функции, которые выполняют определенные задачи. Тело каждой функции следует за ключевым словом def.\n",
    "\n",
    "**Определение классов:** Если ваш код использует объектно-ориентированное программирование, вы можете определять классы, которые инкапсулируют данные и функциональность. Тело каждого класса и его методы (функции внутри класса) идут после ключевого слова class.\n",
    "\n",
    "**Основной код программы:** Обычно в конце файла находится основной код программы, который будет выполнен, если файл запущен напрямую, а не импортирован как модуль. Это можно проверить, используя условие if __name__ == \"__main__\":.\n",
    "\n",
    "*Обратите внимание! Вышеуказанная структура является рекомендацией и может быть изменена в зависимости от конкретных потребностей вашего проекта.*"
   ]
  },
  {
   "cell_type": "markdown",
   "id": "4ce7a093-aad8-4109-b90a-0dc9f41f7f24",
   "metadata": {},
   "source": [
    "   "
   ]
  },
  {
   "cell_type": "markdown",
   "id": "8a55e002-f2f4-4f00-8a44-4390ef51f1f1",
   "metadata": {
    "tags": []
   },
   "source": [
    "## Файл с расширением **\".py\"** "
   ]
  },
  {
   "cell_type": "markdown",
   "id": "44687b80-706c-4476-a624-0678c91c19a3",
   "metadata": {},
   "source": [
    ">Файл с расширением **\".py\"** (см.ниже \"example.py\"), является файлом исходного кода, написанного на языке программирования Python. В таком файле содержится текстовое описание программы на Python, которое может включать определения функций, классов, переменных, импортов модулей и другие инструкции."
   ]
  },
  {
   "cell_type": "markdown",
   "id": "991fa72c-b91e-4ed4-9a92-98b80f8ec013",
   "metadata": {},
   "source": [
    "Когда вы создаете исходный код в файле с расширением \".py\" и затем запускаете его с помощью интерпретатора Python, интерпретатор читает этот файл, анализирует его содержимое и выполняет соответствующие действия в соответствии с вашим кодом."
   ]
  },
  {
   "cell_type": "markdown",
   "id": "311a2af4-d84f-42c9-b7b9-892c9cea80e0",
   "metadata": {},
   "source": [
    "**Рассмотрим пример файла _\"example.py\"_**"
   ]
  },
  {
   "cell_type": "markdown",
   "id": "46b25b27-d8be-4c92-b895-f24f00a8317c",
   "metadata": {},
   "source": [
    "В этом примере файл *\"example.py\"* содержит определение функции greet, которая выводит приветствие с именем, переданным как аргумент. Когда вы запускаете этот файл, интерпретатор Python выполнит инструкции, определенные в нем, и выведет соответствующий результат:"
   ]
  },
  {
   "cell_type": "code",
   "execution_count": 12,
   "id": "58e71ac7-ac30-4e58-90ae-6481af91d450",
   "metadata": {},
   "outputs": [
    {
     "name": "stdin",
     "output_type": "stream",
     "text": [
      "Enter your name:  Jozef\n"
     ]
    },
    {
     "name": "stdout",
     "output_type": "stream",
     "text": [
      "Hello, Jozef!\n"
     ]
    }
   ],
   "source": [
    "# файл \"example.py\"\n",
    "\n",
    "def greet(name):\n",
    "    print(f\"Hello, {name}!\")\n",
    "\n",
    "if __name__ == \"__main__\":\n",
    "    user_name = input(\"Enter your name: \")\n",
    "    greet(user_name)\n"
   ]
  },
  {
   "cell_type": "markdown",
   "id": "e2b7bbdc-fcf8-4a3e-a941-da96347fb242",
   "metadata": {},
   "source": [
    "   "
   ]
  },
  {
   "cell_type": "markdown",
   "id": "6910f572-0dbc-46bc-b8cf-45ba5b35402f",
   "metadata": {},
   "source": [
    "**Для запуска файла \"example.py\"** вы можете использовать CLI, т.е. команду в командной строке (терминале ):\n",
    "\n",
    "для Windows:\n",
    "   `python example.py`\n",
    "   \n",
    "для Linux:\n",
    "  `python3 example.py`\n",
    "   \n",
    "...\n",
    "\n",
    "**python** или **python3** - это команда, используемая для запуска интерпретатора Python в вашей операционной системе *Windows* или *Linux*\n",
    "\n",
    "**example.py** - это имя вашего файла с исходным кодом на Python.\n",
    "\n",
    "\n",
    "...\n"
   ]
  },
  {
   "cell_type": "markdown",
   "id": "ac120c2b-33f4-40c4-9ca3-192967b1745d",
   "metadata": {},
   "source": [
    "   "
   ]
  },
  {
   "cell_type": "markdown",
   "id": "7c92ea8a-35a3-4889-a638-30d7ab6c17ce",
   "metadata": {},
   "source": [
    "#### **Арифметические операции** в Python\n"
   ]
  },
  {
   "cell_type": "markdown",
   "id": "1f68a902-8c79-430a-9036-75ad8ab93ae3",
   "metadata": {},
   "source": [
    ">**Python** предоставляет широкий набор арифметических операций для работы с числами. \n",
    ">\n",
    ">Благодаря широкой библиотеке и возможностям языка, вы можете выполнять различные математические операции и вычисления в своих программах.\n"
   ]
  },
  {
   "cell_type": "markdown",
   "id": "7358035a-badb-411c-b85b-3cf145ce52f3",
   "metadata": {},
   "source": [
    " &nbsp;&nbsp;&nbsp;&nbsp;**+**&nbsp; &nbsp;&nbsp; &nbsp; —&nbsp; &nbsp;&nbsp;&nbsp; сложение\n",
    " \n",
    " &nbsp;&nbsp;&nbsp;&nbsp;**-**&nbsp; &nbsp;&nbsp; &nbsp; —&nbsp; &nbsp;&nbsp; &nbsp; вычитание\n",
    "\n",
    " &nbsp;&nbsp;&nbsp;&nbsp;*&nbsp; &nbsp;&nbsp; &nbsp; — &nbsp; &nbsp;&nbsp; &nbsp;умножение\n",
    "\n",
    "&nbsp;&nbsp;&nbsp;&nbsp;** &nbsp; &nbsp;&nbsp;&nbsp;— &nbsp; &nbsp;&nbsp;&nbsp; возведение в степень\n",
    "\n",
    "&nbsp;&nbsp;&nbsp;&nbsp;**/** &nbsp; &nbsp;&nbsp; &nbsp; —&nbsp; &nbsp;&nbsp; &nbsp; деление\n",
    "\n",
    "&nbsp;&nbsp;&nbsp;&nbsp;**//** &nbsp; &nbsp;&nbsp; &nbsp;—&nbsp; &nbsp;&nbsp; &nbsp; целочисленное деление\n",
    "\n",
    "&nbsp;&nbsp;&nbsp;&nbsp;**%**&nbsp; &nbsp;&nbsp; &nbsp;—&nbsp; &nbsp;&nbsp; &nbsp; остаток от деления\n",
    " \n",
    " &nbsp; &nbsp;\n"
   ]
  },
  {
   "cell_type": "code",
   "execution_count": 1,
   "id": "5b87e2e6-b99d-4c63-8b3d-572afcc056aa",
   "metadata": {
    "tags": []
   },
   "outputs": [],
   "source": [
    "# Сложение (+) - операция, которая выполняет сложение двух чисел\n",
    "a = 3\n",
    "b = 4\n",
    "c = a + b # c = 7\n",
    "\n",
    "# Вычитание (-) - операция, которая вычитает значение правой стороны из значения в левой\n",
    "d = 10\n",
    "e = 5\n",
    "f = d - e # f = 5\n",
    "\n",
    "# Умножение (*) - операция, которая перемножает значения с обеих сторон оператора\n",
    "g = 2\n",
    "h = 3\n",
    "i = g * h # i = 6\n",
    "\n",
    "# Деление (/) - операция, которая делит значение левой стороны на значение правой\n",
    "j = 12\n",
    "k = 4\n",
    "l = j / k # l = 3.0\n",
    "\n",
    "# Возведение в степень (**) или pow() - операция, которая возводит первое число в степень второго\n",
    "m = 2\n",
    "n = 3\n",
    "o = m ** n # o = 8\n",
    "\n",
    "# Деление без остатка (//) - операция, которая возвращает целую часть от деления двух чисел\n",
    "p = 7\n",
    "q = 2\n",
    "r = p // q # r = 3\n",
    "\n",
    "# Деление по модулю (остаток от деления) (%) - операция, которая возвращает остаток от деления двух чисел\n",
    "s = 7\n",
    "t = 2\n",
    "u = s % t # u = 1\n",
    "\n",
    "# Отрицание (-): операция, которая изменяет знак числа на противоположный.\n",
    "num = 10\n",
    "neg_num = -num\n",
    "print(neg_num)  # Вывод: -10\n"
   ]
  },
  {
   "cell_type": "markdown",
   "id": "535fe8df-68f3-4b50-b513-38b4eb1722ed",
   "metadata": {},
   "source": [
    "  "
   ]
  },
  {
   "cell_type": "markdown",
   "id": "794e6676-8aa9-4249-b45b-1feea452b909",
   "metadata": {},
   "source": [
    "#### **Операции сравнения:**\n",
    "\n",
    "| &nbsp; &nbsp; &nbsp; &nbsp;Действие&nbsp;&nbsp;&nbsp;&nbsp;               |  &nbsp;&nbsp;&nbsp;&nbsp;операция&nbsp;&nbsp;&nbsp;&nbsp;  |\n",
    "|:----------------------|:---------------:|\n",
    "|   &nbsp;&nbsp;&nbsp;&nbsp;Равно:               |    **==**      |\n",
    "|   &nbsp;&nbsp;&nbsp;&nbsp;Не равно:            |    **!=**      |\n",
    "|   &nbsp;&nbsp;&nbsp;&nbsp;Больше:              |    **>**       | \n",
    "|   &nbsp;&nbsp;&nbsp;&nbsp;Меньше:              |    **<**       | \n",
    "|   &nbsp;&nbsp;&nbsp;&nbsp;Больше или равно:&nbsp;&nbsp;&nbsp;&nbsp;    |    **>=**      | \n",
    "|   &nbsp;&nbsp;&nbsp;&nbsp;Меньше или равно:&nbsp;&nbsp;&nbsp;&nbsp;    |    **<=**      | "
   ]
  },
  {
   "cell_type": "code",
   "execution_count": 3,
   "id": "9831891c-0fca-4853-9911-75d3321cf679",
   "metadata": {},
   "outputs": [],
   "source": [
    "# Примеры:\n",
    "x = 5\n",
    "y = 7\n",
    "\n",
    "equal = x == y\n",
    "not_equal = x != y\n",
    "greater_than = x > y\n",
    "less_than = x < y\n",
    "greater_than_or_equal = x >= y\n",
    "less_than_or_equal = x <= y\n"
   ]
  },
  {
   "cell_type": "markdown",
   "id": "8d39f645-0d22-4e96-aab4-2351c4ffb18d",
   "metadata": {},
   "source": [
    "   "
   ]
  },
  {
   "cell_type": "markdown",
   "id": "9457c163-8f26-4cff-9597-92b9df31cf7d",
   "metadata": {},
   "source": [
    "#### Логические операции:"
   ]
  },
  {
   "cell_type": "markdown",
   "id": "924643d6-e371-440d-80a4-3a3e2be07884",
   "metadata": {},
   "source": [
    "\n",
    "\n",
    "|    &nbsp;&nbsp;&nbsp;Действие   |   \t&nbsp;&nbsp;&nbsp; операция      |\n",
    "|:-----:|:-------:|\n",
    "| И     | **and** |\n",
    "| Или   | **or**  |\n",
    "| Не    | **not** |\n",
    "\n",
    " "
   ]
  },
  {
   "cell_type": "code",
   "execution_count": null,
   "id": "22103a8a-376c-41ab-9ce3-5a11be6f65d8",
   "metadata": {},
   "outputs": [],
   "source": [
    "# Примеры:\n",
    "p = True\n",
    "q = False\n",
    "\n",
    "logical_and = p and q\n",
    "logical_or = p or q\n",
    "logical_not = not p\n"
   ]
  },
  {
   "cell_type": "markdown",
   "id": "1e5da601-a007-49fc-aee8-bda6e4d42785",
   "metadata": {},
   "source": [
    "   "
   ]
  },
  {
   "cell_type": "markdown",
   "id": "63684e4e-a87b-42cf-b8b8-50c81750b0c7",
   "metadata": {},
   "source": [
    "#### Операции с присваиванием:"
   ]
  },
  {
   "cell_type": "markdown",
   "id": "39ce05c7-9bc0-4931-89b5-2b0cdaf40a1b",
   "metadata": {},
   "source": [
    "|    &nbsp;&nbsp;&nbsp;Действие   |   \t&nbsp;&nbsp;&nbsp; операция      |\n",
    "|:-----:|:-------:|\n",
    "|                      |\n",
    "| Присваивание |  &nbsp;&nbsp;&nbsp;&nbsp;&nbsp;&nbsp; **=** |\n",
    "| Присваивание с операцией | &nbsp;&nbsp;&nbsp;&nbsp;&nbsp;&nbsp; **+=**,&nbsp;&nbsp;&nbsp;&nbsp; **-=**,&nbsp;&nbsp;&nbsp;&nbsp; **\\*=**,&nbsp;&nbsp;&nbsp;&nbsp; **/=**,&nbsp;&nbsp;&nbsp;&nbsp; **//=**,&nbsp;&nbsp;&nbsp;&nbsp; **%=**,&nbsp;&nbsp;&nbsp;&nbsp; **\\*\\*=** |\n",
    "\n",
    "&nbsp;"
   ]
  },
  {
   "cell_type": "code",
   "execution_count": 5,
   "id": "324bfc95-e3a4-4028-9c0a-4a892794bb10",
   "metadata": {},
   "outputs": [
    {
     "name": "stdout",
     "output_type": "stream",
     "text": [
      "24\n"
     ]
    }
   ],
   "source": [
    "# Примеры:\n",
    "\n",
    "x = 10\n",
    "x += 5  # Эквивалентно x = x + 5\n",
    "x -= 3  # Эквивалентно x = x - 3\n",
    "x *= 2  # Эквивалентно x = x * 2\n",
    "\n",
    "print(x)  # (10 + 5 - 3) * 2 = 24"
   ]
  },
  {
   "cell_type": "code",
   "execution_count": 7,
   "id": "79cd46aa-f305-4a30-9b53-ac8f1fac7233",
   "metadata": {},
   "outputs": [
    {
     "name": "stdout",
     "output_type": "stream",
     "text": [
      "6.0\n"
     ]
    }
   ],
   "source": [
    "x /= 2\n",
    "print(x)"
   ]
  },
  {
   "cell_type": "code",
   "execution_count": 8,
   "id": "02b81dd4-4bdb-437b-bf05-33acb3e51344",
   "metadata": {},
   "outputs": [
    {
     "name": "stdout",
     "output_type": "stream",
     "text": [
      "3.0\n"
     ]
    }
   ],
   "source": [
    "x //= 2\n",
    "print(x)"
   ]
  },
  {
   "cell_type": "code",
   "execution_count": 9,
   "id": "4e7b966c-f058-4cb2-b896-5fb03ceec3da",
   "metadata": {},
   "outputs": [
    {
     "name": "stdout",
     "output_type": "stream",
     "text": [
      "1.0\n"
     ]
    }
   ],
   "source": [
    "x %= 2\n",
    "print(x)"
   ]
  },
  {
   "cell_type": "code",
   "execution_count": 10,
   "id": "2d7ac355-ba47-430f-8d1a-d4d577fd179e",
   "metadata": {},
   "outputs": [
    {
     "name": "stdout",
     "output_type": "stream",
     "text": [
      "1.0\n"
     ]
    }
   ],
   "source": [
    "x **= 2\n",
    "print(x)"
   ]
  },
  {
   "cell_type": "markdown",
   "id": "b6e3dc04-af78-4aa1-9982-a22d76ab0d00",
   "metadata": {},
   "source": [
    "  "
   ]
  },
  {
   "cell_type": "markdown",
   "id": "8176dc8a-2c99-40a9-99ce-8a77d0f0c902",
   "metadata": {},
   "source": [
    "#### Операции с битами:\n"
   ]
  },
  {
   "cell_type": "markdown",
   "id": "e41c0dbf-68f8-490a-8310-fa10fb082f49",
   "metadata": {},
   "source": [
    "|    &nbsp;&nbsp;&nbsp;Действие   |   \t&nbsp;&nbsp;&nbsp; операция      |\n",
    "|:-----:|:-------:|\n",
    "|                  |\n",
    "| Побитовое И    | &nbsp;&nbsp;&nbsp;&nbsp;&nbsp;&nbsp;  **&** |\n",
    "| Побитовое ИЛИ   | &nbsp;&nbsp;&nbsp;&nbsp;&nbsp;&nbsp; **|**  |\n",
    "| Побитовое исключающее ИЛИ    | &nbsp;&nbsp;&nbsp;&nbsp;&nbsp;&nbsp; **^** |\n",
    "| Сдвиг влево | &nbsp;&nbsp;&nbsp;&nbsp;&nbsp;&nbsp;**<<** |\n",
    "| Сдвиг вправо | &nbsp;&nbsp;&nbsp;&nbsp;&nbsp;&nbsp;**>>** |\n",
    "|                                                              |\n",
    "\n",
    "&nbsp;"
   ]
  },
  {
   "cell_type": "code",
   "execution_count": null,
   "id": "e7ca9ca0-2f06-4bc6-b283-d8be23ac3daa",
   "metadata": {},
   "outputs": [],
   "source": [
    "# Примеры:\n",
    "\n",
    "a = 0b1010  # 10 в двоичной системе\n",
    "b = 0b1100  # 12 в двоичной системе\n",
    "bitwise_and = a & b\n",
    "bitwise_or = a | b\n",
    "bitwise_xor = a ^ b\n",
    "left_shift = a << 2  # Сдвиг на 2 бита влево\n",
    "right_shift = b >> 1  # Сдвиг на 1 бит вправо\n"
   ]
  },
  {
   "cell_type": "markdown",
   "id": "614e8081-71b1-49c6-842f-4c10ea084ec0",
   "metadata": {},
   "source": [
    "  "
   ]
  },
  {
   "cell_type": "markdown",
   "id": "bee6bfd3-270b-4cd3-a079-1df7737f489a",
   "metadata": {},
   "source": [
    "## **Операторы и операнды в Python**"
   ]
  },
  {
   "cell_type": "markdown",
   "id": "b5d6cc10-435b-4af9-aa79-642024822749",
   "metadata": {},
   "source": [
    "  "
   ]
  },
  {
   "cell_type": "markdown",
   "id": "0e31ea23-0483-4bbc-9f71-60f9ace04081",
   "metadata": {
    "tags": []
   },
   "source": [
    "**Операторы** и **операнды** в Python - это основные понятия, которые помогают писать и понимать программы на этом языке. \n",
    "\n",
    "&nbsp;"
   ]
  },
  {
   "cell_type": "markdown",
   "id": "4b76fd8a-ddc2-42fa-bdbe-818017f9983c",
   "metadata": {
    "tags": []
   },
   "source": [
    "**Операторы** - это специальные символы или слова, которые выполняют некоторые действия над одним или несколькими значениями, называемыми операндами\n",
    "\n",
    "* Например, в выражении ``2 + 5`` ,&nbsp;&nbsp;&nbsp; **2** &nbsp;и&nbsp; **5** &nbsp;&nbsp;-&nbsp; это операнды, а &nbsp;**+**&nbsp; -&nbsp; это оператор сложения.\n"
   ]
  },
  {
   "cell_type": "markdown",
   "id": "f0cf0637-8a3f-4a88-a508-8e352191ec2c",
   "metadata": {},
   "source": [
    "   "
   ]
  },
  {
   "cell_type": "markdown",
   "id": "05aac799-37bf-4f29-b6af-ef845e314062",
   "metadata": {},
   "source": [
    "**Операнды** - это объекты, с которыми работают операторы. Они могут быть переменными, константами, литералами или выражениями.\n",
    "\n",
    "* Например, в выражении ``x * y`` , &nbsp;&nbsp;**x**&nbsp; и&nbsp; **y**&nbsp;&nbsp; - &nbsp;это переменные, которые могут хранить разные значения, а&nbsp;&nbsp; * &nbsp;&nbsp;- &nbsp;это оператор умножения."
   ]
  },
  {
   "cell_type": "markdown",
   "id": "98a3f934-4fcf-4482-811e-c5b287f55472",
   "metadata": {},
   "source": [
    "  "
   ]
  },
  {
   "cell_type": "markdown",
   "id": "fe5575c5-3081-4095-9572-8ec86cafe0d2",
   "metadata": {},
   "source": [
    "**Типы операторов**:\n",
    "&nbsp;\n",
    "    \n",
    "* **Арифметические операторы** (**arithmetic operators**) - это операторы, которые выполняют математические операции над числовыми значениями.\n",
    "\n",
    "  Например, +, -, *, /, %, **, //.\n",
    "\n",
    "* **Операторы сравнения** (**comparison или relational operators**) - это операторы, которые сравнивают два значения и возвращают логическое значение (True или False)\n",
    "\n",
    "  Например, ==, !=, <, >, <=, >=.\n",
    "\n",
    "* **Операторы присваивания** (**assignment operators**) - это операторы, которые присваивают значение одному или нескольким переменным\n",
    "\n",
    "  Например, =, +=, -= и т.д.\n",
    "  \n",
    "* **Логические операторы** (**logical operators**) - это операторы, которые соединяют два или более логических выражений и возвращают логическое значение\n",
    "\n",
    "  Например, **and**, **or**, **not**.\n",
    "  \n",
    "* **Битовые операторы** (**bitwise operators**) - это операторы, которые работают с битами (единицами и нулями) числовых значений\n",
    "\n",
    "  Например, &, |, ^, ~, <<, >>.\n",
    "  \n",
    "* **Операторы принадлежности** (**membership operators**) - это операторы, которые проверяют, содержит ли последовательность (например, строка или список) определенный элемент\n",
    "\n",
    "  Например, **in**, **not in**.\n",
    "  \n",
    "* **Операторы тождественности** (**identity operators**) - это операторы, которые проверяют, являются ли два объекта одним и тем же объектом в памяти\n",
    "\n",
    "  Например, **is**, **is not**.\n",
    " \n",
    "&nbsp;\n",
    "   "
   ]
  },
  {
   "cell_type": "markdown",
   "id": "7c708120-91f2-4149-86a3-b4d49d3f9779",
   "metadata": {},
   "source": [
    "\n",
    "Операции могут содержать разные операторы, из-за чего появляется вопрос об их приоритете."
   ]
  },
  {
   "cell_type": "markdown",
   "id": "b521ce7c-29e7-4ec7-982a-02831d073ad5",
   "metadata": {},
   "source": [
    "  "
   ]
  },
  {
   "cell_type": "markdown",
   "id": "8f866c1f-a5ec-4ae3-835f-04a82d955bc0",
   "metadata": {},
   "source": [
    "### Бинарные, унарные и тернарные операции "
   ]
  },
  {
   "cell_type": "markdown",
   "id": "cb99c860-66c6-44a6-a0d7-55c98337c200",
   "metadata": {},
   "source": [
    "* **Бинарными** операциями действительно называются операции, которые требуют **два операнда** для своего выполнения.\n",
    "\n",
    "  При сложении, у нас есть два операнда: один *слева*, другой *справа* от знака **+** : ``a + b``\n",
    "\n",
    "  Если пропустить хотя бы один операнд, например, 1 + , то программа завершится с *синтаксической ошибкой*.\n",
    "  \n",
    "  &nbsp;\n",
    "  \n",
    "  **Коммутативная операция:**\n",
    "  \n",
    "  «От перемены мест слагаемых сумма не меняется» — это один из базовых законов арифметики, который также называется **коммутативным законом**.\n",
    "  \n",
    "  **Бинарная** операция считается **коммутативной**, если вы получаете тот же самый результат, поменяв местами операнды. \n",
    "  \n",
    "  В этом случае сложение — это коммутативная операция: a + b = b + a.\n",
    "  \n",
    "  *Но вычитание — это не коммутативная операция: 3 - 5 ≠ 5 - 3. В программировании этот закон работает точно так же, как в арифметике. Большинство операций, с которыми мы сталкиваемся в реальной жизни, не являются коммутативными. Отсюда вывод: всегда обращайте внимание на порядок того, с чем работаете.*\n",
    "  \n",
    "    &nbsp;\n",
    "  "
   ]
  },
  {
   "cell_type": "code",
   "execution_count": 1,
   "id": "a50120be-65e8-4b2d-8f47-e19522c62420",
   "metadata": {},
   "outputs": [],
   "source": [
    "# Примеры бинарных операций:\n",
    "\n",
    "result = 5 + 3        # Сложение\n",
    "\n",
    "difference = 10 - 2   # Вычитание\n",
    "\n",
    "product = 4 * 7       # Умножение:\n",
    "\n",
    "quotient = 15 / 3     # Деление\n",
    "\n",
    "remainder = 10 % 3    # Остаток от деления\n"
   ]
  },
  {
   "cell_type": "markdown",
   "id": "120add7c-fe48-4996-8b15-9dc8d94af9b4",
   "metadata": {},
   "source": [
    "   "
   ]
  },
  {
   "cell_type": "markdown",
   "id": "18448091-3221-4532-926e-9153f8912695",
   "metadata": {},
   "source": [
    "* **Унарными** операциями называются операции, которые выполняются над **одним операндом**. \n",
    "\n",
    "  В программировании такие операции могут использоваться для изменения значения операнда или выполнения различных действий над ним.\n",
    "  \n",
    "  *Унарные операции предоставляют программистам гибкость в работе с данными и позволяют быстро выполнять различные действия над операндами.*\n",
    "  \n",
    "  &nbsp;"
   ]
  },
  {
   "cell_type": "markdown",
   "id": "07fe65c4-780d-46cc-97c3-671fd8ed4f71",
   "metadata": {},
   "source": [
    "Символы **+** и **-** используются не только как операторы. \n",
    "\n",
    "Когда речь идет про отрицательные числа, то знак **минуса** становится **частью числа**\n"
   ]
  },
  {
   "cell_type": "code",
   "execution_count": null,
   "id": "9b324aad-286f-4fe2-aa58-d7d206dbfa4d",
   "metadata": {},
   "outputs": [],
   "source": [
    "# Примеры унарных операций:\n",
    "\n",
    "\n",
    "# Унарный минус: Применяется для изменения знака числа.\n",
    "x = -5\n",
    "\n",
    "\n",
    "# Унарный плюс: Практически не изменяет значение числа, но может быть использован для явного обозначения положительного числа.\n",
    "y = +10\n",
    "\n",
    "\n",
    "# Инкремент и декремент: Увеличивают или уменьшают значение переменной на 1 соответственно.\n",
    "count = 5\n",
    "count += 1  # Инкремент, count станет равным 6\n",
    "count -= 1  # Декремент, count вернется к значению 5\n",
    "\n",
    "\n",
    "# Логическое отрицание: Инвертирует логическое значение (True становится False и наоборот).\n",
    "is_valid = False\n",
    "not_valid = not is_valid\n",
    "\n",
    "\n",
    "# Побитовое отрицание: Инвертирует биты числа.\n",
    "num = 5\n",
    "bitwise_not = ~num\n",
    "\n",
    "\n",
    "# Префиксный инкремент и декремент: В некоторых языках программирования существует возможность использовать префиксный инкремент и декремент, \n",
    "# которые изменяют значение переменной до её использования.\n",
    "value = 7\n",
    "++value  # Префиксный инкремент, значение станет 8\n",
    "--value  # Префиксный декремент, значение станет 7\n",
    "\n"
   ]
  },
  {
   "cell_type": "markdown",
   "id": "3779ba87-f87b-47a2-8e0a-a81a38beeeec",
   "metadata": {},
   "source": [
    "  "
   ]
  },
  {
   "cell_type": "markdown",
   "id": "1336fd2b-cdd7-4712-ae2c-184b0701f92f",
   "metadata": {},
   "source": [
    "  "
   ]
  },
  {
   "cell_type": "markdown",
   "id": "15070b0d-c53f-432b-9cf0-4cf70f53db84",
   "metadata": {},
   "source": [
    "* **Тернарной** операцией называется операция, которая принимает три операнда и выполняет какое-то действие в зависимости от условия.\n",
    "\n",
    "  В большинстве языков программирования тернарная операция представлена условным (тернарным) оператором.\n",
    "  \n",
    "  &nbsp;"
   ]
  },
  {
   "cell_type": "code",
   "execution_count": null,
   "id": "e83de612-bb42-48c0-917d-fcdb59e04147",
   "metadata": {},
   "outputs": [],
   "source": [
    "Пример тернарного оператора:"
   ]
  },
  {
   "cell_type": "raw",
   "id": "5cbb5765-a126-4fd9-a155-f4e8e3ca0713",
   "metadata": {},
   "source": [
    "result = x if condition else y"
   ]
  },
  {
   "cell_type": "markdown",
   "id": "e09ad222-769c-4b66-b3a2-7d5ac511e7b4",
   "metadata": {},
   "source": [
    "В данном примере, если условие выполняется (истинно), то переменной result будет присвоено значение x, иначе она получит значение y."
   ]
  },
  {
   "cell_type": "markdown",
   "id": "b8c0efdb-5f2e-4c7b-bf31-621eb1e687c9",
   "metadata": {},
   "source": [
    "   "
   ]
  },
  {
   "cell_type": "code",
   "execution_count": null,
   "id": "f330d10d-a6fc-4f3b-ac11-c60b680cb974",
   "metadata": {},
   "outputs": [],
   "source": [
    "Более конкретный пример:"
   ]
  },
  {
   "cell_type": "code",
   "execution_count": 5,
   "id": "8b568867-48d9-4ec0-8e26-091589189868",
   "metadata": {
    "tags": []
   },
   "outputs": [],
   "source": [
    "age = 18\n",
    "status = \"Adult\" if age >= 18 else \"Minor\""
   ]
  },
  {
   "cell_type": "markdown",
   "id": "fa0863c6-bbb7-479d-877f-711e3ca4bc0e",
   "metadata": {},
   "source": [
    "В данном случае, если значение переменной **age** больше или равно **18**, переменной **status** будет присвоено значение \"**Adult**\" (взрослый), иначе она получит значение \"**Minor**\" (несовершеннолетний)."
   ]
  },
  {
   "cell_type": "markdown",
   "id": "22962820-8eb9-4a88-8733-58bfc01c68ae",
   "metadata": {},
   "source": [
    "Использование тренарного оператора для условного присваивания:"
   ]
  },
  {
   "cell_type": "raw",
   "id": "5eb1a34a-6f30-4b35-a9e3-2e586e451d41",
   "metadata": {},
   "source": [
    "# if_true if expression else\n",
    "if_false\n",
    "\n",
    "condition = True\n",
    "print(\"Condition is False\")\n"
   ]
  },
  {
   "cell_type": "code",
   "execution_count": null,
   "id": "54f33220-d6ea-4f85-b29f-24d71c16cc93",
   "metadata": {},
   "outputs": [],
   "source": [
    "Как видим, в данном примере, тренарные операторы являются кратким обозначением операторов if-else в одной строке"
   ]
  },
  {
   "cell_type": "markdown",
   "id": "5c65a59a-198e-46ff-ab4e-429d431a0ca0",
   "metadata": {},
   "source": [
    "  "
   ]
  },
  {
   "cell_type": "markdown",
   "id": "ddda8c7b-0d52-4cc2-90d0-9795dfe6d0ce",
   "metadata": {},
   "source": [
    "### Композиция операций"
   ]
  },
  {
   "cell_type": "markdown",
   "id": "548cbef5-93b9-41e6-9f9a-6dfbdf86d89d",
   "metadata": {},
   "source": [
    "**Композиция операций** в программировании означает выполнение нескольких операций в последовательности, где результат одной операции используется как входные данные для следующей операции. Это позволяет создавать более сложные выражения и выполнять более сложные действия.\n",
    "\n",
    "В Python, как и во многих других языках программирования, можно использовать композицию операций для создания более сложных выражений и выполнения разнообразных действий. "
   ]
  },
  {
   "cell_type": "markdown",
   "id": "3005df8e-55d2-4495-a785-9244736e451c",
   "metadata": {},
   "source": [
    "Вот некоторые примеры того, как можно использовать композицию операций в Python:"
   ]
  },
  {
   "cell_type": "code",
   "execution_count": null,
   "id": "cde52867-a3ab-49bf-b7ba-dc96867842c2",
   "metadata": {},
   "outputs": [],
   "source": [
    "# Арифметическая композиция:\n",
    "result = (3 + 5) * 2"
   ]
  },
  {
   "cell_type": "markdown",
   "id": "39720e78-4a50-47cb-bad7-22707754969d",
   "metadata": {},
   "source": [
    "В данном примере выполняется операция сложения (3 + 5), а затем результат умножается на 2."
   ]
  },
  {
   "cell_type": "code",
   "execution_count": null,
   "id": "4672ad63-9d6c-4458-bee0-0c659fc662b3",
   "metadata": {},
   "outputs": [],
   "source": [
    "# Логическая композиция: \n",
    "is_even_and_positive = num % 2 == 0 and num > 0"
   ]
  },
  {
   "cell_type": "markdown",
   "id": "7411ffd4-f76a-42aa-90c7-9c14cf02954e",
   "metadata": {},
   "source": [
    "В этом примере проверяется, является ли число num как четным, так и положительным."
   ]
  },
  {
   "cell_type": "code",
   "execution_count": null,
   "id": "a8f76154-df58-4ad1-a9c1-247b9234472c",
   "metadata": {},
   "outputs": [],
   "source": [
    "# Композиция условных операторов:\n",
    "result = \"Even\" if num % 2 == 0 else \"Odd\""
   ]
  },
  {
   "cell_type": "markdown",
   "id": "f8056287-b7b1-4a57-aa98-bb33dbd2d13c",
   "metadata": {},
   "source": [
    "В этом примере, в зависимости от четности числа num определяется, является оно четным или нечетным."
   ]
  },
  {
   "cell_type": "code",
   "execution_count": null,
   "id": "95fd70fd-fc7a-4568-a378-f26b265bdeb8",
   "metadata": {},
   "outputs": [],
   "source": [
    "# Цепочка методов (в объектно-ориентированных языках):\n",
    "full_name = person.get_full_name().capitalize()"
   ]
  },
  {
   "cell_type": "markdown",
   "id": "88e6cda2-970a-4e1f-b706-611b805f153e",
   "metadata": {},
   "source": [
    "В данном примере, сначала вызывается метод get_full_name() объекта person, а затем результат приводится к верхнему регистру методом capitalize()."
   ]
  },
  {
   "cell_type": "code",
   "execution_count": null,
   "id": "839d2a8f-f642-47dc-a3dc-ad2140754cc7",
   "metadata": {},
   "outputs": [],
   "source": [
    "# Композиция функций:\n",
    "def square(x):\n",
    "    return x * x\n",
    "\n",
    "def add_one(x):\n",
    "    return x + 1\n",
    "\n",
    "result = add_one(square(3))\n"
   ]
  },
  {
   "cell_type": "markdown",
   "id": "e4c1649a-f35b-42a8-a80c-643f01a25c24",
   "metadata": {},
   "source": [
    "В этом примере функции square и add_one композируются: сначала число 3 возводится в квадрат, затем к результату прибавляется единица."
   ]
  },
  {
   "cell_type": "markdown",
   "id": "2c37be45-3cb7-4ab7-b87b-e8ff109f0357",
   "metadata": {},
   "source": [
    "**Композиция операций** в Python позволяет создавать более выразительный и читаемый код, делать его более модульным и гибким, а также упрощать выполнение сложных операций."
   ]
  },
  {
   "cell_type": "markdown",
   "id": "6ff966d6-ebda-40b5-98b6-351b9040e005",
   "metadata": {},
   "source": [
    "  "
   ]
  },
  {
   "cell_type": "markdown",
   "id": "f76578c4-6f30-4900-b085-5c5a88650513",
   "metadata": {},
   "source": [
    "   "
   ]
  },
  {
   "cell_type": "markdown",
   "id": "00fdd259-572e-4687-aa83-8a1d2f2a792a",
   "metadata": {
    "tags": []
   },
   "source": [
    "## **Переменные** в Python"
   ]
  },
  {
   "cell_type": "markdown",
   "id": "1893a0b8-ab81-419d-8310-b1a7fa019398",
   "metadata": {},
   "source": [
    ">В Python переменные используются для хранения данных и присвоения им имен. Переменные позволяют вам оперировать и манипулировать данными в вашей программе.\n",
    ">\n",
    ">В  Python существует набор зарезервированных ключевых слов, которые имеют специальное значение в языке и используются для определенных целей. Вы не можете использовать эти ключевые слова в качестве имен переменных, так как они уже имеют определенное значение для интерпретатора Python.\n",
    ">\n"
   ]
  },
  {
   "cell_type": "markdown",
   "id": "1c564b6a-8e89-482d-bf4c-bc6b16b48289",
   "metadata": {},
   "source": [
    "*Вот некоторые из зарезервированных ключевых слов Python:*"
   ]
  },
  {
   "cell_type": "raw",
   "id": "cca7b32c-be9f-4e5a-b0a4-6dc149e225dd",
   "metadata": {},
   "source": [
    "False      await      else       import     pass\n",
    "None       break      except     in         raise\n",
    "True       class      finally    is         return\n",
    "and        continue   for        lambda     try\n",
    "as         def        from       nonlocal   while\n",
    "assert     del        global     not        with\n",
    "async      elif       if         or         yield\n"
   ]
  },
  {
   "cell_type": "code",
   "execution_count": null,
   "id": "46278e01-6ef8-46c7-88de-89273d3f2092",
   "metadata": {
    "scrolled": true
   },
   "outputs": [],
   "source": [
    "# Выводим список зарезервированных ключевых слов в Python\n",
    "\n",
    "import keyword\n",
    "keyword.kwlist"
   ]
  },
  {
   "cell_type": "markdown",
   "id": "5b9bf61a-c6db-46e9-a1df-c700444307f5",
   "metadata": {},
   "source": [
    "   "
   ]
  },
  {
   "cell_type": "markdown",
   "id": "60f0edf4-97b1-4426-930f-1c5bafd423da",
   "metadata": {},
   "source": [
    "*Для того чтобы избежать конфликта с ключевыми словами, хорошей практикой является использование описательных имен переменных, которые четко указывают на то, какие данные они хранят или какую функцию выполняют. Это делает ваш код более читаемым и понятным для других программистов.*"
   ]
  },
  {
   "cell_type": "markdown",
   "id": "6cd7255c-cf52-4f41-b877-2aeff4e1cf0e",
   "metadata": {},
   "source": [
    "   "
   ]
  },
  {
   "cell_type": "markdown",
   "id": "c5788296-2c17-4f34-83e4-ccf606f89b56",
   "metadata": {
    "tags": []
   },
   "source": [
    "### **Имена переменных:**\n",
    " \n",
    "  "
   ]
  },
  {
   "cell_type": "markdown",
   "id": "3c192b95-0a9f-4aa1-b816-48b25fb6fafe",
   "metadata": {},
   "source": [
    ">Имя переменной может содержать буквы **(a-z, A-Z)**, цифры **(0-9)** и символ подчеркивания **(_)**.\n",
    ">\n",
    ">Имена переменных **не могут** начинаться с недопустимого символа **$**, цифр и не могут содержать пробелы.\n",
    ">\n",
    ">Имена переменных чувствительны к регистру (например, **myVariable** и **myvariable** считаются разными переменными).\n",
    "\n",
    "&nbsp;"
   ]
  },
  {
   "cell_type": "markdown",
   "id": "bebe4cd4-9f09-4e44-a38e-66775bff4845",
   "metadata": {},
   "source": [
    " В Python принято использовать два стандартных стиля именования переменных: &nbsp; &nbsp;**camelCase** &nbsp; &nbsp;и  &nbsp; &nbsp;**snake_case**\n",
    " \n",
    " &nbsp;"
   ]
  },
  {
   "cell_type": "markdown",
   "id": "147b58e6-b728-4200-bf04-7c82e133eee8",
   "metadata": {},
   "source": [
    "*   **Camel Case:** В именах переменных с использованием стиля Camel Case каждое слово начинается с заглавной буквы, за исключением первого слова. Пробелы удаляются, а каждое новое слово вставляется без пробела, начиная с заглавной буквы. Этот стиль используется в Python, но менее распространен, чем snake_case.\n",
    "\n",
    "\n",
    "    ` Пример:  myVariableName`\n"
   ]
  },
  {
   "cell_type": "markdown",
   "id": "30daf818-b4a7-464e-bc36-b7fc8b6674c6",
   "metadata": {},
   "source": [
    "*   **Snake Case:** В именах переменных с использованием стиля Snake Case каждое слово разделяется символом подчеркивания _. Все буквы обычно пишутся в нижнем регистре. Этот стиль более распространен и рекомендуется в стандартах кодирования Python **PEP 8**.\n",
    "\n",
    "    ` Пример:  my_variable_name`"
   ]
  },
  {
   "cell_type": "markdown",
   "id": "ecbd6835-c597-4735-b267-8717c283e746",
   "metadata": {},
   "source": [
    "    "
   ]
  },
  {
   "cell_type": "code",
   "execution_count": 11,
   "id": "d7b34d60-ff85-43fe-8663-589a570912b8",
   "metadata": {},
   "outputs": [],
   "source": [
    "# Примеры именования переменных с использованием snake_case\n",
    "user_name = \"John\"\n",
    "max_value = 100\n",
    "total_count = 50\n",
    "\n",
    "# Примеры именования переменных с использованием camelCase\n",
    "myVariableName = 42\n",
    "totalItemCount = 25\n",
    "currentUserName = \"Alice\""
   ]
  },
  {
   "cell_type": "markdown",
   "id": "4bbc9081-4e17-4cb2-90a3-6b2136f6f7ed",
   "metadata": {},
   "source": [
    "Согласно стандартам **PEP 8***, рекомендуется использовать **snake_case** для *'имен переменных',* *'функций'* и *'методов'* в Python. Это помогает сделать код более читаемым и согласованным с общим стилем программирования на Python.\n",
    "\n",
    "Выбор стиля именования зависит от вас и вашей команды, но важно следовать согласованности внутри вашего кода и соблюдать стандарты стиля, чтобы облегчить чтение и понимание вашего кода другими программистами."
   ]
  },
  {
   "cell_type": "markdown",
   "id": "9adbc33e-3628-44b4-bad7-3c48c505603f",
   "metadata": {},
   "source": [
    "**\\* PEP 8** (&nbsp;*Python Enhancement Proposal 8*&nbsp;&nbsp;) &nbsp;-&nbsp;&nbsp; это руководство по стилю кодирования для языка программирования **Python**, которое определяет рекомендации и стандарты относительно того, как следует оформлять код на **Python**, чтобы он был более читаемым и согласованным внутри сообщества разработчиков. Оно  содержит рекомендации по оформлению отступов, использованию пробелов или табуляции, длине строк, именовании переменных, импортам модулей, размещению комментариев и многим другим аспектам кодирования. Соблюдение **PEP 8** не только делает ваш код более читаемым для других разработчиков, но также помогает поддерживать единый стиль в больших проектах.\n",
    "\n"
   ]
  },
  {
   "cell_type": "markdown",
   "id": "45a4f306-54ea-4a45-95e9-f298fa08d7d3",
   "metadata": {},
   "source": [
    "   "
   ]
  },
  {
   "cell_type": "markdown",
   "id": "de105edf-d48e-4175-97d5-977d5e996cf4",
   "metadata": {},
   "source": [
    "2. **Присваивание значения переменной:**\n",
    "\n",
    "    Значение переменной присваивается с помощью оператора  **=**\n",
    "   \n",
    "    `Пример: x = 10`\n",
    "\n",
    "    Здесь определена переменная **x**, которой присвоено значение **10**\n",
    "   "
   ]
  },
  {
   "cell_type": "markdown",
   "id": "58b0d7b4-84b5-496f-a87a-512d2647c0fe",
   "metadata": {},
   "source": [
    "  * **Множественное присваивание**\n",
    "\n",
    "  \n",
    "        Множественное присваивание в Python позволяет одновременно присвоить значения нескольким переменным. Это удобно, когда вы хотите присвоить несколько значений сразу, либо когда вы хотите поменять значения местами без использования временой переменной.\n",
    "   \n",
    "*Примеры множественного присваивания:*"
   ]
  },
  {
   "cell_type": "code",
   "execution_count": 2,
   "id": "1b1f4741-cae0-4336-97b0-0359e2ba5835",
   "metadata": {},
   "outputs": [],
   "source": [
    "# Присваивание нескольких значений сразу\n",
    "x, y, z = 5, 10, 15\n",
    "\n",
    "# Множественное присваивание с помощью временой переменной\n",
    "a = 1\n",
    "b = 2\n",
    "\n",
    "temp = a\n",
    "a = b\n",
    "b = temp\n",
    "\n",
    "# Множественное присваивание без использования временой переменной\n",
    "x = 5\n",
    "y = 10\n",
    "\n",
    "x, y = y, x  # Меняем значения местами, используя множественное присваивание\n"
   ]
  },
  {
   "cell_type": "markdown",
   "id": "54148a7e-c9a0-47f0-940f-2a50b9d33e70",
   "metadata": {},
   "source": [
    "* **Изменение значения переменной**\n",
    "\n",
    "    Значение переменной можно изменить, просто перезаписав ее с новым значением.\n",
    "\n",
    "  "
   ]
  },
  {
   "cell_type": "markdown",
   "id": "9f9e638e-db72-4954-ad25-5f90eaf18d49",
   "metadata": {},
   "source": [
    "В примере приведенном ниже в результате выполнения первой строки `` x = 5 ``, значение переменной **x** становится равным **5**. Затем строка ``x = x + 1`` увеличивает значение **x** на **1**, получается **6.** В итоге, функция **print(x)** выводит значение **6** на экран."
   ]
  },
  {
   "cell_type": "code",
   "execution_count": 3,
   "id": "803b4d5c-9a8c-41fa-8be9-fd286e1ec7f0",
   "metadata": {},
   "outputs": [
    {
     "name": "stdout",
     "output_type": "stream",
     "text": [
      "6\n"
     ]
    }
   ],
   "source": [
    "x = 5\n",
    "x = x + 1  # Теперь x будет равно 6\n",
    "print(x) # выводим значение на экран"
   ]
  },
  {
   "cell_type": "markdown",
   "id": "663d6dbc-58c8-4e5a-900e-283f8af430e6",
   "metadata": {},
   "source": [
    "  "
   ]
  },
  {
   "cell_type": "markdown",
   "id": "80ae8a9e-35f2-4186-ac48-25a51a7b9b7e",
   "metadata": {},
   "source": [
    "  "
   ]
  },
  {
   "cell_type": "markdown",
   "id": "3d2648ab-4841-4394-a58d-4a7b1cab4031",
   "metadata": {},
   "source": [
    "## Комментарии в Python"
   ]
  },
  {
   "cell_type": "markdown",
   "id": "41cda6b4-f353-4191-8b24-61fc34c7fbc0",
   "metadata": {},
   "source": [
    ">В Python **комментарии** предназначены для добавления пояснений и описаний к коду.\n",
    ">\n",
    ">Комментарии не выполняются интерпретатором Python и игнорируются при выполнении программы.\n",
    ">\n",
    ">Комментарии применяются для документирования кода и делают его более читаемым для разработчиков.\n",
    "\n",
    "&nbsp;\n"
   ]
  },
  {
   "cell_type": "markdown",
   "id": "c8a328ef-77c6-4932-a17d-fa28f29c1abf",
   "metadata": {},
   "source": [
    "*Вот несколько способов создания комментариев в Python:*"
   ]
  },
  {
   "cell_type": "markdown",
   "id": "4d72712d-cc47-4be0-aff4-64331aeca6bc",
   "metadata": {},
   "source": [
    " 1. &nbsp; **# &nbsp;&nbsp;-&nbsp;&nbsp; Однострочный комментарий :**"
   ]
  },
  {
   "cell_type": "code",
   "execution_count": null,
   "id": "889cac6a-3055-4938-8aa9-dfa1fc94e91d",
   "metadata": {},
   "outputs": [],
   "source": [
    "# Это однострочный комментарий"
   ]
  },
  {
   "cell_type": "markdown",
   "id": "ae2fcc9e-85ef-4373-91fc-006a9a8df7fe",
   "metadata": {},
   "source": [
    "  "
   ]
  },
  {
   "cell_type": "markdown",
   "id": "c240989b-471d-43d0-b2cb-cbb9eaa0e3dc",
   "metadata": {},
   "source": [
    "*Вариант однострочного комментария после кода:*"
   ]
  },
  {
   "cell_type": "code",
   "execution_count": 8,
   "id": "6c57fe10-5f90-4920-b6c6-88c514b33597",
   "metadata": {},
   "outputs": [],
   "source": [
    "variable = 42  # Это переменная, хранящая число 42"
   ]
  },
  {
   "cell_type": "markdown",
   "id": "7f8fa90c-136c-4c33-a78c-cfa33badfa06",
   "metadata": {},
   "source": [
    "  "
   ]
  },
  {
   "cell_type": "markdown",
   "id": "e26fa0e6-5ce1-4cdd-a6eb-062e8840d6cf",
   "metadata": {},
   "source": [
    " 2. &nbsp; **''' ''' или \"\"\" \"\"\" &nbsp;&nbsp;- &nbsp;&nbsp;Многострочный комментарий :**"
   ]
  },
  {
   "cell_type": "raw",
   "id": "dabbbdfb-eeaf-435d-86d1-24925a52c366",
   "metadata": {},
   "source": [
    "'''\n",
    "Это многострочный комментарий\n",
    "Это многострочный комментарий\n",
    "Это многострочный комментарий\n",
    "'''\n",
    "\n",
    "\"\"\"\n",
    "Это тоже многострочный комментарий\n",
    "Это тоже многострочный комментарий\n",
    "Это тоже многострочный комментарий\n",
    "\"\"\"\n"
   ]
  },
  {
   "cell_type": "markdown",
   "id": "e8f63dd7-c766-46ca-9701-73994ca69a89",
   "metadata": {},
   "source": [
    "  "
   ]
  },
  {
   "cell_type": "markdown",
   "id": "5e698d44-9f50-4380-b2a1-dc499a12a715",
   "metadata": {},
   "source": [
    "* **Многострочный комментарий после кода:**"
   ]
  },
  {
   "cell_type": "code",
   "execution_count": 4,
   "id": "290866e8-0c7a-4631-a8eb-286adf5296a8",
   "metadata": {},
   "outputs": [],
   "source": [
    "def my_function():\n",
    "    \"\"\"\n",
    "    Эта функция выполняет описанные вами  действия.\n",
    "    \"\"\"\n",
    "    # Ваш код здесь"
   ]
  },
  {
   "cell_type": "markdown",
   "id": "8e28a988-fcce-427c-a6f3-8ff477706d02",
   "metadata": {},
   "source": [
    "  "
   ]
  },
  {
   "cell_type": "markdown",
   "id": "43a9ec06-7928-44e2-936c-99f96c3a9588",
   "metadata": {},
   "source": [
    "* **Использование комментариев для временного отключения части кода:**"
   ]
  },
  {
   "cell_type": "code",
   "execution_count": 5,
   "id": "4852cea8-01c9-4ba5-82ee-c06f71b6feba",
   "metadata": {},
   "outputs": [
    {
     "name": "stdout",
     "output_type": "stream",
     "text": [
      "А этот код будет выполнен!\n"
     ]
    }
   ],
   "source": [
    "# Этот код временно отключен\n",
    "# print(\"Этот код не будет выполнен!\")\n",
    "print(\"А этот код будет выполнен!\")"
   ]
  },
  {
   "cell_type": "markdown",
   "id": "b2c0b108-1fd9-42f9-b09e-ab3e72a17544",
   "metadata": {},
   "source": [
    "> **Хорошая практика** &nbsp;-&nbsp; использовать комментарии для объяснения сложных участков кода, важных деталей, ожидаемых результатов или важных замечаний для других разработчиков."
   ]
  },
  {
   "cell_type": "markdown",
   "id": "767b8ebc-0609-4801-a2d6-1311d9605fbd",
   "metadata": {},
   "source": [
    "  "
   ]
  },
  {
   "cell_type": "markdown",
   "id": "e83012c9-3bcd-4d15-9868-f53b6059f977",
   "metadata": {},
   "source": [
    "  "
   ]
  },
  {
   "cell_type": "markdown",
   "id": "fb127332-c0cf-4ef3-a7f2-1c3d2b9dd1ee",
   "metadata": {},
   "source": [
    "   "
   ]
  },
  {
   "cell_type": "markdown",
   "id": "92eab9af-545c-4858-b6b3-cb5f01ec665d",
   "metadata": {},
   "source": [
    "   "
   ]
  },
  {
   "cell_type": "markdown",
   "id": "8cb35930-a4ef-41b4-aec3-394684fc49e6",
   "metadata": {
    "tags": []
   },
   "source": [
    "# **Представление данных в Python**\n",
    "---"
   ]
  },
  {
   "cell_type": "markdown",
   "id": "7f44630d-c5c1-46c9-a412-c26966bd735e",
   "metadata": {},
   "source": [
    "   "
   ]
  },
  {
   "cell_type": "markdown",
   "id": "d31fe336-c896-49bf-8450-08f7e7dbf7b3",
   "metadata": {},
   "source": [
    ">**Python** - это мощный и универсальный язык программирования, который предоставляет разнообразные типы переменных и структуры данных для удобной работы с данными. В этой части мы рассмотрим различные типы переменных в Python, включая контейнерные типы, и предоставим примеры их использования.\n",
    ">\n",
    ">**Python** поддерживает множество типов переменных, которые обеспечивают удобство и гибкость при работе с данными. Типы переменных определяют, как данные могут быть хранены и обрабатываться в программе.\n",
    "\n",
    "&nbsp;"
   ]
  },
  {
   "cell_type": "markdown",
   "id": "e667b1b2-d0fd-4df0-b864-973df220d83f",
   "metadata": {},
   "source": [
    "*В Python существуют два основных способа определения данных: как **литералы** и как **переменные** - это два основных понятия, которые используются для работы с данными в Python.*"
   ]
  },
  {
   "cell_type": "markdown",
   "id": "3f86be5e-5f27-4839-a807-ed46545fe5f5",
   "metadata": {},
   "source": [
    "### Ещё раз о переменных"
   ]
  },
  {
   "cell_type": "markdown",
   "id": "93ef46cd-583e-49f0-9bb8-e30b7c4a5c29",
   "metadata": {},
   "source": [
    "**Переменные** представляют именованные места в памяти, в которых можно хранить данные. Они используются для сохранения значений и обращения к данным по имени. \n",
    "\n",
    "**Переменная** - это **имя**, которое используется для **ссылки** на значение или объект в памяти. \n",
    "\n",
    "**Переменные** позволяют нам работать с данными, изменять их значения и использовать их в вычислениях. Кроме того, переменные могут содержать разные типы данных, и их значения могут быть изменены в ходе выполнения программы.\n",
    "\n",
    "Например, ``x = 5`` - это операция присваивания, которая создает переменную с именем **x** и связывает ее со значением **5**. \n",
    "\n",
    "**Переменные** могут быть изменены в процессе выполнения программы, присваивая им новые значения или объекты. **Переменные** также могут быть использованы для хранения результатов вычислений или операций над данными."
   ]
  },
  {
   "cell_type": "markdown",
   "id": "8db5c0eb-e8ba-4fcc-9876-a7fea9aafd90",
   "metadata": {},
   "source": [
    "  "
   ]
  },
  {
   "cell_type": "markdown",
   "id": "14565cca-ab31-44d3-ae4c-30e718040b75",
   "metadata": {},
   "source": [
    ">В Python, операция b = b + 3 создает новый объект и присваивает его переменной b, тогда как операция b += 3 изменяет существующий объект, на который ссылается b. Это означает, что b += 3 может быть быстрее, чем b = b + 3, потому что она не требует выделения памяти для нового объекта1. Однако, это также зависит от типа объекта, на который ссылается b. Например, если b является списком, то b += 3 вызовет метод iadd списка, который расширит список на месте2. Если же b является числом, то b += 3 будет эквивалентно b = b + 3, потому что числа являются неизменяемыми объектами"
   ]
  },
  {
   "cell_type": "markdown",
   "id": "dfcc2ef6-0259-4a98-a380-fae85b5c9825",
   "metadata": {},
   "source": [
    "  "
   ]
  },
  {
   "cell_type": "markdown",
   "id": "eb61e9cf-0973-43d4-ac7a-a93663c063fc",
   "metadata": {},
   "source": [
    "### *Литералы* \n",
    "\n",
    "**Литерал** &nbsp;&nbsp;-&nbsp;&nbsp; это фиксированное значение, которое записывается непосредственно в коде программы. Литералы бывают разных типов данных, таких как числа, строки, булевы значения, списки, словари и другие. Например:\n",
    "```\n",
    "x = 5   # 5 - это целочисленный литерал\n",
    "\n",
    "y = 3.14   # 3.14 - это вещественный литерал\n",
    "\n",
    "z = ‘Hello’   # ‘Hello’ - это строковый литерал\n",
    "\n",
    "a = True   # True - это булевый литерал\n",
    "\n",
    "b = [1, 2, 3]   # [1, 2, 3] - это список-литерал\n",
    "\n",
    "c = {‘name’: ‘Alice’, ‘age’: 20}   # {‘name’: ‘Alice’, ‘age’: 20} - это словарь-литерал\n",
    "\n",
    "```\n",
    "\n",
    "&nbsp;"
   ]
  },
  {
   "cell_type": "markdown",
   "id": "b3531e5b-cedf-4835-9089-c83ef8f36644",
   "metadata": {},
   "source": [
    "**ВАЖНО!**\n",
    "\n",
    "**В чём же разница между литералом и переменной?**\n",
    "\n",
    "**Разница** между **литералом** и **переменной** заключается в том, что **литерал** - это безымянное значение определенного типа данных, а **переменная** - это именованная ссылка на значение или объект. \n",
    "\n",
    "**Литерал** может быть использован для создания переменной, но не наоборот. **Литерал** не занимает место в памяти, а переменная - **да.**\n",
    "\n",
    "*Важно понимать разницу между **литералами** и **переменными**, так как они представляют основу для работы с данными в Python. **Литералы** - это фиксированные значения, а **переменные** - именованные контейнеры для хранения и изменения значений.*\n",
    "\n",
    "&nbsp;"
   ]
  },
  {
   "cell_type": "markdown",
   "id": "0d183f9c-9dbd-4830-a2e3-5453619251c7",
   "metadata": {},
   "source": [
    "* **Литералы** также называются **анонимными константами**, потому что они - *не имеют имени и не могут быть изменены*."
   ]
  },
  {
   "cell_type": "markdown",
   "id": "d40cec6c-830d-431f-ae62-4a4f663ca528",
   "metadata": {},
   "source": [
    "### *Константы* \n",
    "\n",
    "**Константа** &nbsp;&nbsp;-&nbsp;&nbsp; это переменная, значение которой не может быть изменено после ее объявления. В Python нет специального синтаксиса для объявления констант, но по соглашению используются имена переменных в верхнем регистре. Например:\n",
    "\n",
    "```\n",
    "PI = 3.14\n",
    "GRAVITY = 9.8\n",
    "```\n",
    "Это означает, что переменные **PI** и **GRAVITY** всегда будут иметь одно и то же значение и вы не сможете присвоить им другое значение.\n",
    "\n",
    "&nbsp;"
   ]
  },
  {
   "cell_type": "markdown",
   "id": "676b7bde-32c7-4752-80c8-d43c82f4e9cb",
   "metadata": {},
   "source": [
    "**ВАЖНО!**\n",
    "\n",
    "**В чём же разница между константой и литералом?**\n",
    "\n",
    "**Разница** между константой и литералом заключается в том, что **константа** - это *именованная переменная с неизменяемым значением*, а **литерал** - это *безымянное значение определенного типа данных*. \n",
    "\n",
    "**Константа** может быть создана с помощью **литерала**, но не наоборот! \n",
    "\n",
    "**Константа** занимает место в памяти, а **литерал** - нет!\n",
    "\n",
    "&nbsp;"
   ]
  },
  {
   "cell_type": "markdown",
   "id": "e44d403a-c482-4757-8ff9-243dd163a62c",
   "metadata": {},
   "source": [
    "  "
   ]
  },
  {
   "cell_type": "markdown",
   "id": "8f476314-80f3-420a-aadb-b1d79e2cde51",
   "metadata": {},
   "source": [
    "    "
   ]
  },
  {
   "cell_type": "markdown",
   "id": "eaec7885-970d-419b-9f81-168d3fc1ec49",
   "metadata": {
    "tags": []
   },
   "source": [
    "## **Числовые типы.**"
   ]
  },
  {
   "cell_type": "markdown",
   "id": "378d02ae-ab31-4d58-b777-ff7857d4dd5d",
   "metadata": {},
   "source": [
    "Числовые типы в Python предоставляют мощный инструментарий для работы с числами и выполнения математических операций. Они являются неотъемлемой частью программирования в Python и используются в различных областях, от научных вычислений до разработки веб-приложений. В данной части мы более подробно рассмотрим типы **int** и **float**, их особенности, операции и примеры использования. Python позволяет легко работать с числами в разных системах счисления, что может быть полезным при выполнении определенных вычислений и программировании в различных областях.\n"
   ]
  },
  {
   "cell_type": "markdown",
   "id": "8ac8c649-1ba9-452b-ad35-6fc88fa6da76",
   "metadata": {},
   "source": [
    "### **Integer** - **int** - Целые числа:\n",
    "\n",
    "Тип данных **int** представляет целые числа без десятичной части. Этот тип может представлять как положительные, так и отрицательные целые числа, включая ноль."
   ]
  },
  {
   "cell_type": "raw",
   "id": "0323ecaf-d51f-4d0d-9c1d-9146321af058",
   "metadata": {},
   "source": [
    "# Примеры:\n",
    "\n",
    "x = 5\n",
    "y = -10\n",
    "z = 0\n"
   ]
  },
  {
   "cell_type": "markdown",
   "id": "80f32713-6684-498f-b17d-bde3f8cbefd0",
   "metadata": {},
   "source": [
    "*Целые числа* поддерживают стандартные арифметические операции, такие как сложение, вычитание, умножение и деление.\n"
   ]
  },
  {
   "cell_type": "raw",
   "id": "5c982889-b40c-4a34-bde5-dcbe17aa9f0f",
   "metadata": {},
   "source": [
    "# Примеры арифметических операций:\n",
    "\n",
    "a = 10\n",
    "b = 3\n",
    "\n",
    "sum_result = a + b  # 13\n",
    "subtraction_result = a - b  # 7\n",
    "multiplication_result = a * b  # 30\n",
    "division_result = a / b  # 3.333...\n"
   ]
  },
  {
   "cell_type": "markdown",
   "id": "a23daa5d-0631-4a1f-9801-e0c726288c39",
   "metadata": {},
   "source": [
    "   "
   ]
  },
  {
   "cell_type": "markdown",
   "id": "de1115e7-cb52-4f15-b54c-a678cce14872",
   "metadata": {},
   "source": [
    "#### *Системы счисления:*"
   ]
  },
  {
   "cell_type": "markdown",
   "id": "b8a3b97e-82ad-40ba-9a12-d534308c0cdd",
   "metadata": {},
   "source": [
    "**Python** поддерживает не только числа в **десятичной** системе счисления, но и другие системы счисления, такие как **двоичная**, **восьмеричная** и **шестнадцатеричная**. Это предоставляет гибкость при работе с числами различных форматов. "
   ]
  },
  {
   "cell_type": "markdown",
   "id": "7f842898-7343-46d5-9370-4ece262697d1",
   "metadata": {},
   "source": [
    "1. &nbsp;&nbsp;**Двоичная система (бинарные числа):**\n",
    "    \n",
    "Для представления чисел в **двоичной системе** в Python используется префикс **0b** перед числом."
   ]
  },
  {
   "cell_type": "code",
   "execution_count": 28,
   "id": "1492c950-e329-4bb5-a51f-e638097499d1",
   "metadata": {},
   "outputs": [
    {
     "name": "stdout",
     "output_type": "stream",
     "text": [
      "10\n"
     ]
    }
   ],
   "source": [
    "binary_number = 0b1010  # Представляет число 10 в двоичной системе\n",
    "print(binary_number)    # Вывод: 10"
   ]
  },
  {
   "cell_type": "markdown",
   "id": "5e99fdd7-458d-414b-9884-fc965f6561d9",
   "metadata": {},
   "source": [
    "  "
   ]
  },
  {
   "cell_type": "markdown",
   "id": "3e4d09ef-2bf2-48b7-a5b1-4c27614e1823",
   "metadata": {},
   "source": [
    "2. &nbsp;&nbsp;**Восьмеричная система (октальные числа):**\n",
    "    \n",
    "Для представления чисел в **восьмеричной системе** в Python используется префикс **0o** перед числом."
   ]
  },
  {
   "cell_type": "code",
   "execution_count": 29,
   "id": "c02004f7-b514-4398-bcc6-2a56b2c6d541",
   "metadata": {},
   "outputs": [
    {
     "name": "stdout",
     "output_type": "stream",
     "text": [
      "14\n"
     ]
    }
   ],
   "source": [
    "octal_number = 0o16  # Представляет число 14 в восьмеричной системе\n",
    "print(octal_number)  # Вывод: 14"
   ]
  },
  {
   "cell_type": "markdown",
   "id": "5cff462e-0a38-46ed-880b-68f167213524",
   "metadata": {},
   "source": [
    "  "
   ]
  },
  {
   "cell_type": "markdown",
   "id": "a88d3feb-7210-4b4f-8b56-8cdd0f0395d6",
   "metadata": {},
   "source": [
    "3. &nbsp;&nbsp;**Шестнадцатеричная система (шестнадцатеричные числа):**\n",
    "\n",
    "Для представления чисел в **шестнадцатеричной системе** в Python используется префикс **0x** перед числом."
   ]
  },
  {
   "cell_type": "code",
   "execution_count": 31,
   "id": "dc2ff2b5-8f2f-4fc7-9d25-b783034ad9fb",
   "metadata": {},
   "outputs": [
    {
     "name": "stdout",
     "output_type": "stream",
     "text": [
      "26\n"
     ]
    }
   ],
   "source": [
    "hexadecimal_number = 0x1A  # Представляет число 26 в шестнадцатеричной системе\n",
    "print(hexadecimal_number)  # Вывод: 26"
   ]
  },
  {
   "cell_type": "markdown",
   "id": "d2ebcc04-4ef5-4f3a-b548-668f3fcce05b",
   "metadata": {},
   "source": [
    "  "
   ]
  },
  {
   "cell_type": "markdown",
   "id": "b1faab89-3e57-47e1-827c-71dac3eb1854",
   "metadata": {},
   "source": [
    "**Преобразования чисел из десятичной системы в другие системы счисления:**\n",
    "\n",
    "Вы также можете использовать встроенные функции **bin()**, **oct()** и **hex()** для **преобразования чисел** из десятичной системы в другие системы счисления:"
   ]
  },
  {
   "cell_type": "code",
   "execution_count": null,
   "id": "777d8f75-7e31-4be5-8244-9d383cc2104d",
   "metadata": {},
   "outputs": [],
   "source": [
    "# Пример:\n",
    "\n",
    "decimal_number = 42\n",
    "binary_representation = bin(decimal_number)      # '0b101010'\n",
    "octal_representation = oct(decimal_number)       # '0o52'\n",
    "hexadecimal_representation = hex(decimal_number)  # '0x2a'\n"
   ]
  },
  {
   "cell_type": "markdown",
   "id": "102aab8b-acaa-4e1f-8305-5d5954a45e63",
   "metadata": {},
   "source": [
    "   "
   ]
  },
  {
   "cell_type": "markdown",
   "id": "eb95ab24-b06e-4c3d-b127-65604f0acb2c",
   "metadata": {},
   "source": [
    "**Важно!** В какой-бы системе мы не передали число в функцию **print** для вывода на консоль, оно по умолчанию будет выводиться в **десятичной системе**:"
   ]
  },
  {
   "cell_type": "code",
   "execution_count": 35,
   "id": "f839317f-e48a-4bc3-923b-06451299dedb",
   "metadata": {},
   "outputs": [
    {
     "name": "stdout",
     "output_type": "stream",
     "text": [
      "13\n",
      "252\n",
      "178\n"
     ]
    }
   ],
   "source": [
    "# Пример\n",
    "\n",
    "a = 0x0D\n",
    "b = 0xFC\n",
    "c = 0xB2\n",
    "print(a)    # 13 в десятичной системе\n",
    "print(b)    # 252 в десятичной системе\n",
    "print(c)    # 178 в десятичной системе\n"
   ]
  },
  {
   "cell_type": "markdown",
   "id": "35e77c8f-59c4-4af1-8193-455def7413f3",
   "metadata": {},
   "source": [
    "   "
   ]
  },
  {
   "cell_type": "markdown",
   "id": "6c9829a7-2afa-49cb-8810-07987b9a27d2",
   "metadata": {},
   "source": [
    "### **float** - Числа с плавающей запятой(точкой)"
   ]
  },
  {
   "cell_type": "markdown",
   "id": "92ba965d-9cd7-429d-8adb-522c0e043ea8",
   "metadata": {},
   "source": [
    "В математике **число с плавающей запятой** (или **число с плавающей точкой**) — *экспоненциальная форма* представления **вещественных (действительных) чисел**, в которой число хранится в виде **мантиссы** и **порядка (показателя степени)**. При этом число с плавающей запятой имеет фиксированную относительную точность и изменяющуюся абсолютную. Используемое наиболее часто представление утверждено в стандарте IEEE 754. \n",
    "\n",
    "**Скорость** выполнения операций с числами, представленными в форме с плавающей запятой, измеряется в **FLOPS** (floating-point operations per second), что переводится как **\"количество операций с плавающей запятой в секунду\"**. Это является ключевой метрикой для оценки производительности вычислительных систем, таких как компьютеры и суперкомпьютеры, в задачах, требующих вычислений с плавающей запятой, например, в научных расчетах и вычислениях больших объемов данных.\n"
   ]
  },
  {
   "cell_type": "markdown",
   "id": "88ce57cf-c46f-462e-87ea-f36b4e9daabe",
   "metadata": {},
   "source": [
    "В языке Python тип данных **float** представляет числа с плавающей запятой, включая числа с десятичной частью. В качесте разделителя целой и дробной частей используется точка.\n",
    "\n",
    "Этот тип позволяет представлять как очень большие, так и очень маленькие числа с большой точностью. Число **float** может иметь только **18 значимых символов**.\n",
    "\n",
    "&nbsp;"
   ]
  },
  {
   "cell_type": "code",
   "execution_count": null,
   "id": "13252eae-7645-48d9-b409-ff34288c8592",
   "metadata": {},
   "outputs": [],
   "source": [
    "# Примеры:\n",
    "\n",
    "pi = 3.14159\n",
    "e = 2.71828\n",
    "a = 2.00\n",
    "b = 10.00\n"
   ]
  },
  {
   "cell_type": "markdown",
   "id": "20436c15-f229-4edd-a243-f8210d0eb6c2",
   "metadata": {},
   "source": [
    "*Числа с плавающей запятой* также поддерживают арифметические операции, включая возведение в степень и извлечение квадратного корня."
   ]
  },
  {
   "cell_type": "code",
   "execution_count": null,
   "id": "f4f39b37-89c9-4cd0-9090-37dcf3400f8f",
   "metadata": {},
   "outputs": [],
   "source": [
    "# Примеры арифметических операций с числами с плавающей запятой:\n",
    "\n",
    "x = 4.0\n",
    "y = 2.0\n",
    "\n",
    "power_result = x ** y  # 16.0 (возведение x в степень y)\n",
    "square_root_result = x ** 0.5  # 2.0 (квадратный корень из x)\n"
   ]
  },
  {
   "cell_type": "markdown",
   "id": "101a4a78-d09c-449f-93df-2ec855e6273a",
   "metadata": {},
   "source": [
    "   "
   ]
  },
  {
   "cell_type": "markdown",
   "id": "285d4c19-0d52-4ea7-8d26-e2478919d8ac",
   "metadata": {},
   "source": [
    "### **Преобразование между типами**"
   ]
  },
  {
   "cell_type": "markdown",
   "id": "73ffbb45-1590-4b53-aab5-59a88d4addf1",
   "metadata": {},
   "source": [
    "Вы можете выполнять **преобразование** между *целыми числами* и *числами с плавающей запятой* с помощью соответствующих функций ``int()`` и ``float().``"
   ]
  },
  {
   "cell_type": "raw",
   "id": "67b12f2a-b60f-4741-8de1-2f7faf747dab",
   "metadata": {},
   "source": [
    "# Примеры преобразования типов:\n",
    "\n",
    "integer_number = 42\n",
    "float_number = 3.14\n",
    "\n",
    "converted_to_int = int(float_number)  # 3\n",
    "converted_to_float = float(integer_number)  # 42.0\n"
   ]
  },
  {
   "cell_type": "markdown",
   "id": "1f976312-e3e3-4aae-b49d-5987596db4c5",
   "metadata": {},
   "source": [
    "   "
   ]
  },
  {
   "cell_type": "markdown",
   "id": "99733a12-b633-425d-9949-3fe6e518e8b4",
   "metadata": {},
   "source": [
    "### **Округление чисел с плавающей запятой**"
   ]
  },
  {
   "cell_type": "markdown",
   "id": "a16c976b-8bd1-4300-ad48-d50e2e15e319",
   "metadata": {},
   "source": [
    "Для округления чисел с плавающей запятой используются функции **round()**, **ceil()** и **floor()** из модуля **math**."
   ]
  },
  {
   "cell_type": "code",
   "execution_count": 17,
   "id": "7bcc869b-e392-4f6e-80df-4426f34175dd",
   "metadata": {},
   "outputs": [
    {
     "name": "stdout",
     "output_type": "stream",
     "text": [
      "4\n"
     ]
    }
   ],
   "source": [
    "# Примеры округления:\n",
    "\n",
    "import math\n",
    "\n",
    "num = 3.7\n",
    "\n",
    "# стандартное округление:\n",
    "rounded = round(num)  \n",
    "print(rounded)\n"
   ]
  },
  {
   "cell_type": "code",
   "execution_count": 18,
   "id": "23ce6968-390a-4443-b2e8-e43c24b88176",
   "metadata": {},
   "outputs": [
    {
     "name": "stdout",
     "output_type": "stream",
     "text": [
      "4\n"
     ]
    }
   ],
   "source": [
    "# округление вверх:\n",
    "\n",
    "ceiled = math.ceil(num)  \n",
    "print(ceiled)\n"
   ]
  },
  {
   "cell_type": "code",
   "execution_count": 19,
   "id": "d6403ecb-1739-4c50-adc7-176211c98876",
   "metadata": {},
   "outputs": [
    {
     "name": "stdout",
     "output_type": "stream",
     "text": [
      "3\n"
     ]
    }
   ],
   "source": [
    "# округление вниз:\n",
    "\n",
    "floored = math.floor(num)  \n",
    "print(floored)\n"
   ]
  },
  {
   "cell_type": "markdown",
   "id": "3de77cb2-79bf-43c9-bd38-bc15057bbf37",
   "metadata": {},
   "source": [
    "   "
   ]
  },
  {
   "cell_type": "markdown",
   "id": "404a627c-cc7a-4d6a-8517-3f91d086b64e",
   "metadata": {
    "jp-MarkdownHeadingCollapsed": true
   },
   "source": [
    "###  **complex** - Комплексные числа"
   ]
  },
  {
   "cell_type": "markdown",
   "id": "b1dc25d8-195f-46cf-b2d3-d9490acad1e9",
   "metadata": {},
   "source": [
    "**Комплексные числа** - это числа, которые состоят из двух частей: **действительной** и **мнимой**. \n",
    "\n",
    "**Значение** комплексного типа переменной после её создания **не изменяется**.\n",
    "\n",
    "В математике они записываются в форме **a + bi**, где **a** - действительная часть, **b** - мнимая часть, а **i** - мнимая единица, которая определяется как квадратный корень из -1. \n",
    "\n",
    "Python также поддерживает комплексные числа, позволяя выполнять арифметические операции с ними."
   ]
  },
  {
   "cell_type": "code",
   "execution_count": null,
   "id": "0231ee13-f6f4-41f0-89ee-472f57ac9e81",
   "metadata": {},
   "outputs": [],
   "source": [
    "# Пример комплексных чисел:\n",
    "\n",
    "z1 = 3 + 2j\n",
    "z2 = 1 - 4j\n"
   ]
  },
  {
   "cell_type": "markdown",
   "id": "3384ae7c-cdc7-468f-a6c1-5bd90ac44b50",
   "metadata": {},
   "source": [
    " В этих примерах **3** - *действительная часть*, а **2j** - *мнимая часть* первого комплексного числа.  "
   ]
  },
  {
   "cell_type": "markdown",
   "id": "6ddeafd9-cb72-4ae3-ac27-67e97eefa848",
   "metadata": {},
   "source": [
    "* **Операции с комплексными числами:**\n",
    "\n",
    "Python позволяет выполнять различные арифметические операции с комплексными числами, такие как сложение, вычитание, умножение и деление."
   ]
  },
  {
   "cell_type": "code",
   "execution_count": 36,
   "id": "c08ed243-6ab9-48f5-972e-6ab0bb3cc980",
   "metadata": {},
   "outputs": [],
   "source": [
    "# Примеры операций с комплексными числами:\n",
    "\n",
    "z1 = 3 + 2j\n",
    "z2 = 1 - 4j\n",
    "\n",
    "addition = z1 + z2         # (4 - 2j)\n",
    "subtraction = z1 - z2      # (2 + 6j)\n",
    "multiplication = z1 * z2   # (11 - 10j)\n",
    "division = z1 / z2         # (-0.2 + 0.4j)\n"
   ]
  },
  {
   "cell_type": "markdown",
   "id": "eff8253c-88c3-485d-b412-ab590519c39e",
   "metadata": {},
   "source": [
    "    "
   ]
  },
  {
   "cell_type": "markdown",
   "id": "ae484df2-4d58-4e7d-bb4c-ed2355298a4a",
   "metadata": {},
   "source": [
    "* **Встроенные функции для работы с комплексными числами:**\n",
    "  \n",
    "Python предоставляет встроенные функции для работы с комплексными числами:\n",
    "\n",
    "  **real()**  - возвращает действительную часть комплексного числа.\n",
    "  \n",
    "  **imag()**  - возвращает мнимую часть комплексного числа.\n",
    "  \n",
    "  **conjugate()** - возвращает комплексное сопряжение числа.\n",
    "  \n",
    "  **abs()**  - возвращает модуль комплексного числа (расстояние от нуля до точки в комплексной плоскости).\n",
    "    "
   ]
  },
  {
   "cell_type": "code",
   "execution_count": 37,
   "id": "fd02be5f-e9a1-4552-9f59-2496819b9c9f",
   "metadata": {},
   "outputs": [],
   "source": [
    "# Примеры использования встроенных функций:\n",
    "\n",
    "z = 3 + 4j\n",
    "real_part = z.real             # 3.0\n",
    "imaginary_part = z.imag         # 4.0\n",
    "conjugate_z = z.conjugate()     # (3 - 4j)\n",
    "modulus = abs(z)                # 5.0 (модуль комплексного числа)\n"
   ]
  },
  {
   "cell_type": "markdown",
   "id": "5ec10c25-9a94-4168-81e7-aa3e5f53229e",
   "metadata": {},
   "source": [
    "   "
   ]
  },
  {
   "cell_type": "markdown",
   "id": "05344f61-d2bc-4e2c-97fc-b30c64af087a",
   "metadata": {},
   "source": [
    "* **Преобразование между комплексными и действительными числами:**"
   ]
  },
  {
   "cell_type": "markdown",
   "id": "5520fbcf-4952-49f7-a8b3-67adb3c12e62",
   "metadata": {},
   "source": [
    "Вы можете преобразовать действительное число в комплексное с нулевой мнимой частью с помощью функции **complex()**."
   ]
  },
  {
   "cell_type": "code",
   "execution_count": 38,
   "id": "150bc722-e030-4718-bef7-4fcd76d853b2",
   "metadata": {},
   "outputs": [],
   "source": [
    "# Пример\n",
    "\n",
    "x = 5\n",
    "complex_x = complex(x, 0)   # (5 + 0j)\n"
   ]
  },
  {
   "cell_type": "markdown",
   "id": "7f37e5f5-a439-49d0-bb01-81531455762d",
   "metadata": {},
   "source": [
    "**Комплексные числа** в Python полезны при решении определенных математических задач, в научных и инженерных вычислениях, а также при моделировании реальных физических процессов, где действительная и мнимая части имеют значение."
   ]
  },
  {
   "cell_type": "code",
   "execution_count": null,
   "id": "6797cffe-926f-416b-80dc-dec23e8e0b6d",
   "metadata": {},
   "outputs": [],
   "source": []
  },
  {
   "cell_type": "code",
   "execution_count": null,
   "id": "a786f322-2c63-489f-94fc-50c74297d583",
   "metadata": {},
   "outputs": [],
   "source": []
  },
  {
   "cell_type": "code",
   "execution_count": null,
   "id": "7545e4be-f12c-4a97-9ee2-589232c45af7",
   "metadata": {},
   "outputs": [],
   "source": []
  },
  {
   "cell_type": "code",
   "execution_count": null,
   "id": "cfbfd78c-3cb0-4285-9fc2-98560dacdb52",
   "metadata": {},
   "outputs": [],
   "source": []
  },
  {
   "cell_type": "code",
   "execution_count": null,
   "id": "3a4a98b3-eb15-4f55-aa35-d1c066fee5f5",
   "metadata": {},
   "outputs": [],
   "source": []
  },
  {
   "cell_type": "markdown",
   "id": "310c1a76-b139-4175-8327-4468dbac0880",
   "metadata": {
    "tags": []
   },
   "source": [
    "## **str - Cтроки (строковые литералы).**"
   ]
  },
  {
   "cell_type": "markdown",
   "id": "bf2642a1-d820-4bbd-85ab-6eed11309220",
   "metadata": {},
   "source": [
    ">В Python **строки (строковые литералы)** представляют текстовые данные и используются для хранения, представления и обработки последовательности символов.\\\n",
    ">Тип **str** представляет строки.\\\n",
    ">**Строки** в Python являются неизменяемыми **(immutable)** объектами, что означает, что после создания строки нельзя изменить ее содержимое.\\\n",
    ">В Python 3.x строки представляют набор символов в кодировке **Unicode**.\\\n",
    ">В этой части мы рассмотрим строки подробно, включая создание, обращение к символам, операции над строками и другие важные аспекты."
   ]
  },
  {
   "cell_type": "markdown",
   "id": "8c0a5369-14f4-4b76-8c1c-fc5102cd88bb",
   "metadata": {},
   "source": [
    "* **Создание строк**"
   ]
  },
  {
   "cell_type": "markdown",
   "id": "4cb6b4fa-b667-4ab5-92f1-43d7fc4381d3",
   "metadata": {},
   "source": [
    "**Строки** могут быть созданы с использованием одинарных **'**  или двойных **\"** кавычек. Одинарные и двойные кавычки используются для создания строк без разницы, но иногда внутри строки удобно использовать одинарные кавычки, чтобы избежать конфликта с двойными кавычками."
   ]
  },
  {
   "cell_type": "code",
   "execution_count": 32,
   "id": "ebc3e63a-63d0-45aa-8a68-35bfa6f75638",
   "metadata": {},
   "outputs": [],
   "source": [
    "# Примеры создания строк:\n",
    "\n",
    "single_quoted = 'Hello, world!'\n",
    "double_quoted = \"Python programming\"\n",
    "mixed_quotes = 'She said, \"Hello!\"'\n"
   ]
  },
  {
   "cell_type": "markdown",
   "id": "6acf2d6d-9d4f-418c-a474-27b26d49e6d3",
   "metadata": {},
   "source": [
    "   "
   ]
  },
  {
   "cell_type": "markdown",
   "id": "186d3cd0-df8c-46f1-b461-76c89e17560f",
   "metadata": {},
   "source": [
    "**Длинную строку можно разбить на части:**\n",
    "\n",
    "Длинную строку можно разбить на части и разместить их на разных строках кода для повышения читаемости. Это особенно полезно, когда строка слишком длинная и хочется избежать горизонтального прокручивания кода.\n",
    "\n",
    "Для этого в Python используется конструкция с круглыми скобками и кавычками. Вы можете разместить отдельные части строки внутри круглых скобок и разделить их на разных строках, заключив внутри одинарных или двойных кавычек."
   ]
  },
  {
   "cell_type": "code",
   "execution_count": 40,
   "id": "234188ba-ffe3-406e-9eb9-d73690cc26db",
   "metadata": {},
   "outputs": [
    {
     "name": "stdout",
     "output_type": "stream",
     "text": [
      "Это длинная строка, которую мы разбили на несколько частей для улучшения читаемости.Каждая часть находится на своей строке.\n"
     ]
    }
   ],
   "source": [
    "# Пример:\n",
    "\n",
    "long_string = (\n",
    "    \"Это длинная строка, которую мы разбили на несколько частей \"\n",
    "    \"для улучшения читаемости. \" \n",
    "    \"Каждая часть находится на своей строке.\"\n",
    ")\n",
    "print(long_string)"
   ]
  },
  {
   "cell_type": "markdown",
   "id": "884dcf53-8e3b-4bf2-940f-4bae09a86432",
   "metadata": {},
   "source": [
    "В этом примере **long_string** будет содержать всю строку, объединенную из нескольких частей, разделенных на разных строках кода. Обратите внимание, что Python автоматически склеит эти части в одну строку.\n",
    "\n",
    "Такой подход также полезен, когда вам нужно вставить длинный текст в код, например, для комментариев или для создания **SQL-запросов**.\n",
    "\n",
    "Помните, что это влияет только на читаемость кода, и сама строка остается одной строкой после выполнения программы."
   ]
  },
  {
   "cell_type": "markdown",
   "id": "e13b4530-f8e9-439f-95a7-a40b24bd84e4",
   "metadata": {},
   "source": [
    "   "
   ]
  },
  {
   "cell_type": "markdown",
   "id": "62d71ec8-307a-426d-a2a4-f4eec1704ceb",
   "metadata": {},
   "source": [
    "**Использование тройных кавычек для многострочного текста:**"
   ]
  },
  {
   "cell_type": "markdown",
   "id": "9bda5f2f-0a03-4692-9c06-43062e075283",
   "metadata": {},
   "source": [
    "Если вам нужно определить многострочный текст (несколько строк), вы можете использовать тройные одинарные **(''')** или тройные двойные кавычки **(\"\"\")**. Это удобно, когда вам нужно определить длинный текст, комментарий или документацию."
   ]
  },
  {
   "cell_type": "code",
   "execution_count": 44,
   "id": "7189e24a-0f2d-44e5-9705-0990b8b390f9",
   "metadata": {},
   "outputs": [
    {
     "name": "stdout",
     "output_type": "stream",
     "text": [
      "\n",
      "Это многострочный текст.\n",
      "Он может занимать несколько строк.\n",
      "\n",
      "\n",
      "Это также многострочный текст,\n",
      "но в этот раз используются двойные кавычки.\n",
      "\n"
     ]
    }
   ],
   "source": [
    "# Примеры использования тройных кавычек для многострочного текста:\n",
    "\n",
    "multi_line_text = '''\n",
    "Это многострочный текст.\n",
    "Он может занимать несколько строк.\n",
    "'''\n",
    "\n",
    "another_multi_line_text = \"\"\"\n",
    "Это также многострочный текст,\n",
    "но в этот раз используются двойные кавычки.\n",
    "\"\"\"\n",
    "\n",
    "print(multi_line_text)\n",
    "print(another_multi_line_text)\n"
   ]
  },
  {
   "cell_type": "markdown",
   "id": "168fbc91-0ee5-46a7-8539-c4c3b28c49be",
   "metadata": {},
   "source": [
    "**Важно!**\n",
    "\n",
    "Эти **строки** будут содержать весь многострочный текст, включая переводы строк и форматирование, которое вы указали. Такой подход особенно полезен для документирования кода, вставки больших блоков текста или для определения длинных **SQL-запросов** и т.д.\n",
    "\n",
    "Не забудьте, что **многострочные строки** сохраняют форматирование, включая переводы строк и отступы, поэтому они подходят для долгих текстовых блоков."
   ]
  },
  {
   "cell_type": "markdown",
   "id": "1c6a09e7-0eda-4613-86c1-ed7a0ce92598",
   "metadata": {},
   "source": [
    "   "
   ]
  },
  {
   "cell_type": "markdown",
   "id": "d7f44657-1229-484d-a915-6d7b57651284",
   "metadata": {},
   "source": [
    "### **Управляющие последовательности в строке**\n",
    "\n",
    "**Управляющие последовательности (экранированные символы)** - это специальные символы, которые используются в строках для представления некоторых символов или выполнения определенных действий. В Python и других языках программирования управляющие последовательности начинаются с обратной косой черты (\\). Эти последовательности позволяют вставлять символы, которые трудно или невозможно ввести непосредственно с клавиатуры, такие как переводы строк, кавычки и т.д.\n",
    "\n",
    "*Вот наиболее распространенные управляющие последовательности:* \n",
    "\n",
    "&nbsp;&nbsp;&nbsp;&nbsp;``\\'`` &nbsp;&nbsp;&nbsp;&nbsp;-&nbsp;&nbsp; Одинарная кавычка\n",
    "\n",
    "&nbsp;&nbsp;&nbsp;&nbsp;``\\\"`` &nbsp;&nbsp;&nbsp;&nbsp;-&nbsp;&nbsp; Двойная кавычка\n",
    "\n",
    "&nbsp;&nbsp;&nbsp;&nbsp;``\\\\`` &nbsp;&nbsp;&nbsp;&nbsp;-&nbsp;&nbsp; Обратная косая черта\n",
    "\n",
    "&nbsp;&nbsp;&nbsp;&nbsp;``\\n`` &nbsp;&nbsp;&nbsp;&nbsp;-&nbsp;&nbsp;  Перевод строки\n",
    "\n",
    "&nbsp;&nbsp;&nbsp;&nbsp;``\\t`` &nbsp;&nbsp;&nbsp;&nbsp;-&nbsp;&nbsp; Табуляция ( 4 отступа)\n",
    "\n",
    "&nbsp;&nbsp;&nbsp;&nbsp;``\\r`` &nbsp;&nbsp;&nbsp;&nbsp;-&nbsp;&nbsp; Возврат каретки (возврат в начало строки)\n",
    "\n",
    "&nbsp;&nbsp;&nbsp;&nbsp;``\\b`` &nbsp;&nbsp;&nbsp;&nbsp;-&nbsp;&nbsp; Забой (удаление последнего символа)\n",
    "\n",
    "&nbsp;&nbsp;&nbsp;&nbsp;``\\f`` &nbsp;&nbsp;&nbsp;&nbsp;-&nbsp;&nbsp; Прогон страницы (переход на новую страницу)\n",
    "\n",
    "&nbsp;&nbsp;&nbsp;&nbsp;``\\v`` &nbsp;&nbsp;&nbsp;&nbsp;-&nbsp;&nbsp; Вертикальная табуляция\n",
    "\n",
    "&nbsp;&nbsp;"
   ]
  },
  {
   "cell_type": "code",
   "execution_count": null,
   "id": "22e47ecf-0ba5-43a5-a547-457ba200637c",
   "metadata": {},
   "outputs": [],
   "source": [
    "# Примеры использования управляющих последовательностей:\n",
    "\n",
    "text_with_newline = \"Hello,\\nworld!\"    # Перевод строки\n",
    "text_with_tab = \"Name:\\tJohn\"           # Табуляция\n",
    "escaped_quotes = \"He said, \\\"Hello!\\\"\"  # Вставка кавычек\n",
    "backslash = \"This is a backslash: \\\\\"   # Вставка обратной косой черты\n"
   ]
  },
  {
   "cell_type": "markdown",
   "id": "493a9831-c39f-421b-a4e5-89b962f5c684",
   "metadata": {},
   "source": [
    "Если вы хотите включить обратную косую черту в строку как обычный символ, вы можете использовать двойную обратную косую черту ``(\\\\)``. Например, ``\"C:\\\\path\\\\to\\\\file\"``.\n",
    "\n",
    "Управляющие последовательности позволяют вам точно контролировать, какие символы включаются в строки, и сделать строковые литералы более читаемыми и информативными."
   ]
  },
  {
   "cell_type": "markdown",
   "id": "83ef5869-b7e0-4b2c-a9c5-e74311e7dd64",
   "metadata": {},
   "source": [
    "  "
   ]
  },
  {
   "cell_type": "markdown",
   "id": "e7d61cde-fdba-4c85-8e80-109b16051ec9",
   "metadata": {},
   "source": [
    " ### **Работа с индексами и срезами строк**"
   ]
  },
  {
   "cell_type": "markdown",
   "id": "66f8d16d-9a89-4537-b388-7fa2cc260146",
   "metadata": {},
   "source": [
    "Работа с индексами и срезами строк в Python действительно важна для эффективной манипуляции текстовой информацией. Давайте рассмотрим более подробно работу с индексами и срезами строк, а также рассмотрим различные случаи и нюансы."
   ]
  },
  {
   "cell_type": "markdown",
   "id": "c67365b5-7fcc-43f1-a929-4508b60e69be",
   "metadata": {},
   "source": [
    "  "
   ]
  },
  {
   "cell_type": "markdown",
   "id": "45f33097-440d-4800-b7d3-725fa8b0b64b",
   "metadata": {},
   "source": [
    "### **Индексы**\n",
    "\n",
    "Индексы строк начинаются с **0** для первого символа и идут до длины строки минус **1**.\n",
    "\n",
    "Отрицательные индексы считаются с конца строки, где **-1** соответствует последнему символу."
   ]
  },
  {
   "cell_type": "code",
   "execution_count": 1,
   "id": "e880dd0a-229e-4d3b-8921-a083b349ce32",
   "metadata": {},
   "outputs": [],
   "source": [
    "# Примеры:\n",
    "\n",
    "text = \"Hello, world!\"\n",
    "#index: 01   ...   -1  \n",
    "\n",
    "first_char = text[0]     # 'H'\n",
    "\n",
    "second_char = text[1]    # 'e'\n",
    "\n",
    "last_char = text[-1]     # '!'\n"
   ]
  },
  {
   "cell_type": "markdown",
   "id": "af7529e4-b630-47c0-82e0-b3b3f3d21160",
   "metadata": {},
   "source": [
    "   "
   ]
  },
  {
   "cell_type": "markdown",
   "id": "99d5e1f4-46c1-4ecd-a1c4-78374d515be9",
   "metadata": {},
   "source": [
    "#### **Обращение к символам строки**\n",
    "\n",
    "  **Строки** в Python можно рассматривать как последовательность символов, и каждый символ имеет свой **индекс** (начиная с 0) в этой последовательности.\n",
    "```\n",
    "  str = \" P y t h o n \"            str = \" A  n  n \"\n",
    "  index:  0 1 2 3 4 5              index: -3 -2 -1\n",
    "```\n",
    "  **Индексы** начинаются с **0** для первого символа, и отрицательные индексы считаются с конца строки, где **-1** соответствует последнему символу. Это позволяет эффективно получать доступ к отдельным символам строки."
   ]
  },
  {
   "cell_type": "code",
   "execution_count": 21,
   "id": "8e44ddd2-95d2-451a-864c-121a5c070daa",
   "metadata": {},
   "outputs": [],
   "source": [
    "# Пример обращения к символам строки:\n",
    "\n",
    "text = \"Python\""
   ]
  },
  {
   "cell_type": "code",
   "execution_count": 22,
   "id": "87372a99-7385-4bc3-8192-59308fd1e10a",
   "metadata": {},
   "outputs": [],
   "source": [
    "first_char = text[0]    # 'P'"
   ]
  },
  {
   "cell_type": "code",
   "execution_count": 23,
   "id": "6c9bf10d-deb5-426b-a9ea-492a9efb5374",
   "metadata": {},
   "outputs": [],
   "source": [
    "second_char = text[1]   # 'y'"
   ]
  },
  {
   "cell_type": "code",
   "execution_count": 24,
   "id": "c88c67e5-c2de-4aa9-845b-460f62f5bfd0",
   "metadata": {},
   "outputs": [],
   "source": [
    "last_char = text[-1]    # 'n'"
   ]
  },
  {
   "cell_type": "code",
   "execution_count": 26,
   "id": "fda0355a-2df8-45ae-998f-2005cea59343",
   "metadata": {},
   "outputs": [
    {
     "name": "stdout",
     "output_type": "stream",
     "text": [
      "P y n o\n"
     ]
    }
   ],
   "source": [
    "print(text[0],text[1],text[-1],text[-2])"
   ]
  },
  {
   "cell_type": "markdown",
   "id": "308231aa-3178-4592-b23d-0ae4b95903a5",
   "metadata": {},
   "source": [
    "Мы можем использовать индексы для получения отдельных символов строки. В приведенном выше примере видим:\n",
    "\n",
    "&nbsp;&nbsp;&nbsp;&nbsp;**text[0]** &nbsp;&nbsp;&nbsp;&nbsp;- &nbsp;&nbsp;&nbsp;&nbsp;дает нам первый символ **P** \n",
    "\n",
    "&nbsp;&nbsp;&nbsp;&nbsp;**text[1]** &nbsp;&nbsp;&nbsp;&nbsp;- &nbsp;&nbsp;&nbsp;&nbsp;дает второй символ **y**  \n",
    "\n",
    "&nbsp;&nbsp;&nbsp;&nbsp;**text[-1]** &nbsp;&nbsp;&nbsp;&nbsp;-&nbsp;&nbsp;&nbsp;&nbsp;дает последний символ **n** \n",
    "\n",
    "&nbsp;&nbsp;&nbsp;&nbsp;**text[-2]** &nbsp;&nbsp;&nbsp;&nbsp;-&nbsp;&nbsp;&nbsp;&nbsp;соответственно даёт предпоследний символ **o**"
   ]
  },
  {
   "cell_type": "markdown",
   "id": "71e4ee1f-0558-4e29-86c8-e3592813e137",
   "metadata": {},
   "source": [
    "   "
   ]
  },
  {
   "cell_type": "markdown",
   "id": "e975007c-8532-44a6-8edd-a06884aa91c2",
   "metadata": {},
   "source": [
    "### **Срезы (slicing)**\n",
    "\n",
    "Срезы позволяют получить подстроку из строки, указав начальный и конечный индексы. \n",
    "\n",
    "Подстрока будет содержать символы с начального индекса до *(но не включая) конечного индекса*.\n",
    "\n",
    "\n",
    "&nbsp; **Оператор извлечения среза:**&nbsp; &nbsp; &nbsp; &nbsp; &nbsp; &nbsp; **[ X : Y ]** \n",
    "\n",
    "\n",
    "&nbsp; &nbsp; &nbsp; &nbsp;**X** – начало среза, а **Y** – окончание среза, символ с номером **Y** в срез **не входит.**\n",
    "\n",
    "**Срезы** определяются с использованием двоеточия &nbsp;**:**&nbsp; между индексами начала и конца подстроки.\n",
    "\n",
    "&nbsp; &nbsp;\n"
   ]
  },
  {
   "cell_type": "markdown",
   "id": "eb555899-0126-415e-992f-914c67230f92",
   "metadata": {},
   "source": [
    "#### **Использование срезов строк &nbsp; [ X : Y ]**\n",
    "  \n",
    "Важной частью работы со строками является использование **срезов (slicing)**, которые позволяют получить подстроку из исходной строки.\n",
    "\n",
    "\n",
    "\n",
    "&nbsp; &nbsp;\n"
   ]
  },
  {
   "cell_type": "raw",
   "id": "1ce862c1-1134-4f37-9e3d-fc07c9bcd6a6",
   "metadata": {},
   "source": [
    "Примеры срезов строк:\n",
    "\n",
    "text = \"P y t h o n   p r o g r a m m i n g\"\n",
    "\n",
    "index:  0 1 2 3 4 5 6 7 8 9..-7-6-5-4-3-2-1\n"
   ]
  },
  {
   "cell_type": "code",
   "execution_count": 10,
   "id": "43a11ffa-3029-47c1-9782-d27ba63ebec0",
   "metadata": {},
   "outputs": [
    {
     "name": "stdout",
     "output_type": "stream",
     "text": [
      "Python p\n"
     ]
    }
   ],
   "source": [
    "substring1 = text[0:8]   # 'Python' (с 0 до 5 индекса)\n",
    "print(substring1)"
   ]
  },
  {
   "cell_type": "code",
   "execution_count": 7,
   "id": "005bad5f-d1ee-4943-8eef-598f3281b3af",
   "metadata": {},
   "outputs": [
    {
     "name": "stdout",
     "output_type": "stream",
     "text": [
      "programming\n"
     ]
    }
   ],
   "source": [
    "substring2 = text[7:]    # 'programming' (с 7 индекса до конца)\n",
    "print(substring2)"
   ]
  },
  {
   "cell_type": "code",
   "execution_count": 8,
   "id": "3397c28b-3572-48e9-9c9b-3d137f1cb33e",
   "metadata": {},
   "outputs": [
    {
     "name": "stdout",
     "output_type": "stream",
     "text": [
      "Python\n"
     ]
    }
   ],
   "source": [
    "substring3 = text[:6]    # 'Python' (с начала до 5 индекса)\n",
    "print(substring3)"
   ]
  },
  {
   "cell_type": "markdown",
   "id": "b1410328-64e2-42b3-8a03-a239572effaf",
   "metadata": {},
   "source": [
    "   "
   ]
  },
  {
   "cell_type": "markdown",
   "id": "4498ff9c-5c11-4f8a-8609-9e0920ef6511",
   "metadata": {},
   "source": [
    "В этом примере:\n",
    "\n",
    "&nbsp;&nbsp;**text[0:6]** &nbsp;&nbsp;&nbsp;&nbsp;&nbsp;&nbsp;-&nbsp;&nbsp; дает нам подстроку с 0-го по 5-й индекс (включая 0 и не включая 6),\n",
    "\n",
    "&nbsp;&nbsp;**text[7: ]** &nbsp;&nbsp;&nbsp;&nbsp;&nbsp;&nbsp;-&nbsp;&nbsp; дает подстроку с 7-го индекса до конца строки, \n",
    "\n",
    "&nbsp;&nbsp;**text[ :6]** &nbsp;&nbsp;&nbsp;&nbsp;&nbsp;&nbsp;-&nbsp;&nbsp; дает подстроку с начала строки до 5-го индекса (не включая 6).\n",
    "\n",
    "*Работа с индексами и срезами строк позволяет эффективно манипулировать и извлекать информацию из текстовых данных, делая строки мощным инструментом для обработки текстовой информации в Python.*"
   ]
  },
  {
   "cell_type": "markdown",
   "id": "2bd11e5b-0efd-4bf3-ad79-3327c8363b99",
   "metadata": {},
   "source": [
    "   "
   ]
  },
  {
   "cell_type": "markdown",
   "id": "3c4d9606-c891-4893-9d9f-ee3299d4e934",
   "metadata": {},
   "source": [
    "#### **Шаг среза**\n",
    "  \n",
    "Вы можете использовать **третий** параметр для указания шага среза. Это позволяет вам брать каждый **n-ный** символ из строки.\n",
    "\n",
    " &nbsp;&nbsp;&nbsp;&nbsp;``[ x : y : z ]`` , где\n",
    " \n",
    " &nbsp;&nbsp;&nbsp;&nbsp;**x** - начало среза\n",
    " \n",
    " &nbsp;&nbsp;&nbsp;&nbsp;**y** - конец среза\n",
    " \n",
    " &nbsp;&nbsp;&nbsp;&nbsp;**z** - шаг среза\n",
    " \n",
    " "
   ]
  },
  {
   "cell_type": "code",
   "execution_count": null,
   "id": "56b072fd-ab45-4fb9-97f2-f00dd39899a2",
   "metadata": {},
   "outputs": [],
   "source": [
    "# Пример\n",
    "\n",
    "text = \"abcdefg\"\n",
    "every_second = text[::2]    # 'aceg' (каждая вторая буква)\n",
    "every_third = text[::3]     # 'adg' (каждая третья буква)\n"
   ]
  },
  {
   "cell_type": "markdown",
   "id": "af53c107-58ba-4c8b-b860-c883fbbbd449",
   "metadata": {},
   "source": [
    "   "
   ]
  },
  {
   "cell_type": "markdown",
   "id": "26c02a12-fed6-4669-9167-03ac47b41ee0",
   "metadata": {},
   "source": [
    " &nbsp;&nbsp;**Ограничения !!!**"
   ]
  },
  {
   "cell_type": "markdown",
   "id": "0f7b08d9-99bb-476b-8674-9cafe325828e",
   "metadata": {},
   "source": [
    ">*При работе с индексами и срезами учтите следующие ограничения:*\n",
    "\n",
    ">* Если начальный индекс больше или равен длине строки, результат будет пустой строкой.\n",
    "  \n",
    ">* Если конечный индекс больше или равен длине строки, то срез будет включать все символы от начального индекса до конца строки.\n",
    "  \n",
    ">* Шаг среза не может быть равен **0**. Если он отрицательный, то начальный индекс должен быть больше конечного, иначе результат будет пустой строкой.\n",
    "\n",
    "&nbsp;&nbsp;\n",
    "  "
   ]
  },
  {
   "cell_type": "code",
   "execution_count": null,
   "id": "10903cd1-b5c5-44bb-a55e-e03a5592b433",
   "metadata": {},
   "outputs": [],
   "source": [
    "# Примеры:\n",
    "\n",
    "text = \"Python\"\n",
    "\n",
    "empty_slice = text[10:20]  # ''\n",
    "\n",
    "full_slice = text[1:10]    # 'ython'\n",
    "\n",
    "reverse_slice = text[4:1]  # ''\n"
   ]
  },
  {
   "cell_type": "markdown",
   "id": "7408c3d2-742e-4b72-9ad5-c013cffcb260",
   "metadata": {},
   "source": [
    "   "
   ]
  },
  {
   "cell_type": "markdown",
   "id": "79860eb2-7064-44bb-9524-22504043c702",
   "metadata": {},
   "source": [
    "**Шаг позволяет вам выбирать символы с определенным интервалом:**"
   ]
  },
  {
   "cell_type": "code",
   "execution_count": null,
   "id": "f051371f-2efe-4251-bba3-0d854489ce95",
   "metadata": {},
   "outputs": [],
   "source": [
    "# Примеры:\n",
    "\n",
    "text = \"abcdefgh\"\n",
    "\n",
    "every_second = text[1::2]    # 'bdfh' (каждая вторая буква, начиная с индекса 1)\n",
    "\n",
    "every_third_reverse = text[::-3]  # 'hc' (каждая третья буква, начиная с конца)\n"
   ]
  },
  {
   "cell_type": "markdown",
   "id": "c81d8087-7192-4ad3-b297-a655fe68efef",
   "metadata": {},
   "source": [
    "  "
   ]
  },
  {
   "cell_type": "markdown",
   "id": "584ae720-eaba-4ca8-bee4-627d1874fc32",
   "metadata": {},
   "source": [
    ">При вызове методов необходимо помнить, что **строки** в Python относятся к категории **неизменяемых последовательностей**, то есть все функции и методы могут лишь создавать **новую строку.**"
   ]
  },
  {
   "cell_type": "markdown",
   "id": "5287e281-fdf5-4c70-915b-a33c1b0264fc",
   "metadata": {},
   "source": [
    "**Функция или метод\tНазначение**\n",
    "\n",
    "S = 'str'; S = \"str\"; S = '''str'''; S = \"\"\"str\"\"\"\tЛитералы строк\n",
    "\n",
    "S = \"s\\np\\ta\\nbbb\"\tЭкранированные последовательности\n",
    "\n",
    "S = r\"C:\\temp\\new\"\tНеформатированные строки (подавляют экранирование)\n",
    "\n",
    "S = b\"byte\"\tСтрока байтов\n",
    "\n",
    "S1 + S2\tКонкатенация (сложение строк)\n",
    "\n",
    "S1 * 3\tПовторение строки\n",
    "\n",
    "S[i]\tОбращение по индексу\n",
    "\n",
    "S[i:j:step]\tИзвлечение среза\n",
    "\n",
    "len(S)\tДлина строки\n",
    "\n",
    "S.find(str, [start],[end])\tПоиск подстроки в строке. Возвращает номер первого вхождения или -1\n",
    "\n",
    "S.rfind(str, [start],[end])\tПоиск подстроки в строке. Возвращает номер последнего вхождения или -1\n",
    "\n",
    "S.index(str, [start],[end])\tПоиск подстроки в строке. Возвращает номер первого вхождения или вызывает ValueError\n",
    "\n",
    "S.rindex(str, [start],[end])\tПоиск подстроки в строке. Возвращает номер последнего вхождения или вызывает ValueError\n",
    "\n",
    "S.replace(шаблон, замена[, maxcount])\tЗамена шаблона на замену. maxcount ограничивает количество замен\n",
    "\n",
    "S.split(символ)\tРазбиение строки по разделителю\n",
    "\n",
    "S.isdigit()\tСостоит ли строка из цифр\n",
    "\n",
    "S.isalpha()\tСостоит ли строка из букв\n",
    "\n",
    "S.isalnum()\tСостоит ли строка из цифр или букв\n",
    "\n",
    "S.islower()\tСостоит ли строка из символов в нижнем регистре\n",
    "\n",
    "S.isupper()\tСостоит ли строка из символов в верхнем регистре\n",
    "\n",
    "S.isspace()\tСостоит ли строка из неотображаемых символов (пробел, символ перевода страницы ('\\f'), \"новая строка\" ('\\n'), \"перевод каретки\" ('\\r'), \"горизонтальная табуляция\" ('\\t') и \"вертикальная табуляция\" ('\\v'))\n",
    "\n",
    "S.istitle()\tНачинаются ли слова в строке с заглавной буквы\n",
    "\n",
    "S.upper()\tПреобразование строки к верхнему регистру\n",
    "\n",
    "S.lower()\tПреобразование строки к нижнему регистру\n",
    "\n",
    "S.startswith(str)\tНачинается ли строка S с шаблона str\n",
    "\n",
    "S.endswith(str)\tЗаканчивается ли строка S шаблоном str\n",
    "\n",
    "S.join(список)\tСборка строки из списка с разделителем S\n",
    "\n",
    "ord(символ)\tСимвол в его код ASCII\n",
    "\n",
    "chr(число)\tКод ASCII в символ\n",
    "\n",
    "S.capitalize()\tПереводит первый символ строки в верхний регистр, а все остальные в нижний\n",
    "\n",
    "S.center(width, [fill])\tВозвращает отцентрованную строку, по краям которой стоит символ fill (пробел по умолчанию)\n",
    "\n",
    "S.count(str, [start],[end])\tВозвращает количество непересекающихся вхождений подстроки в диапазоне [начало, конец] (0 и длина строки по умолчанию)\n",
    "\n",
    "S.expandtabs([tabsize])\tВозвращает копию строки, в которой все символы табуляции заменяются одним или несколькими пробелами, в зависимости от текущего столбца. Если TabSize не указан, размер табуляции полагается равным 8 пробелам\n",
    "\n",
    "S.lstrip([chars])\tУдаление пробельных символов в начале строки\n",
    "\n",
    "S.rstrip([chars])\tУдаление пробельных символов в конце строки\n",
    "\n",
    "S.strip([chars])\tУдаление пробельных символов в начале и в конце строки\n",
    "\n",
    "S.partition(шаблон)\tВозвращает кортеж, содержащий часть перед первым шаблоном, сам шаблон, и часть после шаблона. Если шаблон не найден, возвращается кортеж, содержащий саму строку, а затем две пустых строки\n",
    "\n",
    "S.rpartition(sep)\tВозвращает кортеж, содержащий часть перед последним шаблоном, сам шаблон, и часть после шаблона. Если шаблон не найден, возвращается кортеж, содержащий две пустых строки, а затем саму строку\n",
    "\n",
    "S.swapcase()\tПереводит символы нижнего регистра в верхний, а верхнего – в нижний\n",
    "\n",
    "S.title()\tПервую букву каждого слова переводит в верхний регистр, а все остальные в нижний\n",
    "\n",
    "S.zfill(width)\tДелает длину строки не меньшей width, по необходимости заполняя первые символы нулями\n",
    "\n",
    "S.ljust(width, fillchar=\" \")\tДелает длину строки не меньшей width, по необходимости заполняя последние символы символом fillchar\n",
    "\n",
    "S.rjust(width, fillchar=\" \")\tДелает длину строки не меньшей width, по необходимости заполняя первые символы символом fillchar\n",
    "\n",
    "S.format(*args, **kwargs)\tФорматирование строки\n"
   ]
  },
  {
   "cell_type": "code",
   "execution_count": null,
   "id": "fb5e52a6-194a-44d3-882c-d481ecd2ff4e",
   "metadata": {},
   "outputs": [],
   "source": []
  },
  {
   "cell_type": "code",
   "execution_count": null,
   "id": "0b57a3fc-e150-438c-b67b-c46c2f61af62",
   "metadata": {},
   "outputs": [],
   "source": []
  },
  {
   "cell_type": "markdown",
   "id": "0c00033a-26c3-4d52-9d76-61677c5a8f43",
   "metadata": {},
   "source": [
    "**Конкатенация строк:**\n",
    "\n",
    "**Конкатенация** - это процесс объединения строк. В Python вы можете использовать оператор **+** для объединения строк."
   ]
  },
  {
   "cell_type": "code",
   "execution_count": null,
   "id": "766fc8ee-4575-4ff8-b356-69bc27bbf783",
   "metadata": {},
   "outputs": [],
   "source": [
    "# Пример:\n",
    "\n",
    "first_name = \"John\"\n",
    "last_name = \"Doe\"\n",
    "full_name = first_name + \" \" + last_name  # 'John Doe'\n"
   ]
  },
  {
   "cell_type": "markdown",
   "id": "d47a6895-7bc1-4b48-a5ff-33fe2509f99d",
   "metadata": {},
   "source": [
    "  "
   ]
  },
  {
   "cell_type": "markdown",
   "id": "211652ca-0a1c-4f94-ba55-ff088a38e364",
   "metadata": {},
   "source": [
    "**! Использование отрицательного шага для разворота строки:**\n",
    "    \n",
    "Отрицательное значение шага среза особенно полезно для разворота строки."
   ]
  },
  {
   "cell_type": "code",
   "execution_count": 13,
   "id": "04d7a693-4bf2-403e-bf6d-dd3d0ccbe24e",
   "metadata": {},
   "outputs": [],
   "source": [
    "# Пример:\n",
    "\n",
    "text = \"Python programming\"\n",
    "reversed_text = text[::-1]  # 'gnimmargorp nohtyP' (строка в обратном порядке)\n"
   ]
  },
  {
   "cell_type": "markdown",
   "id": "d5b64a3c-7e59-4fe6-be3c-c947a041f295",
   "metadata": {},
   "source": [
    "   "
   ]
  },
  {
   "cell_type": "markdown",
   "id": "0969883a-f7a2-4aa7-adfc-85bca3301b7b",
   "metadata": {},
   "source": [
    "**Использование с отрицательными индексами:**\n",
    "\n",
    "Отрицательные индексы позволяют начать с конца строки.\n"
   ]
  },
  {
   "cell_type": "code",
   "execution_count": null,
   "id": "6bde3674-a2e0-4217-b9ee-5277789be510",
   "metadata": {},
   "outputs": [],
   "source": [
    "# Примеры:\n",
    "\n",
    "text = \"Python programming\"\n",
    "\n",
    "last_three_chars = text[-3:]    # 'ing' (последние три символа)\n",
    "\n",
    "reversed_text = text[::-1]      # 'gnimmargorp nohtyP' (строка в обратном порядке)\n"
   ]
  },
  {
   "cell_type": "markdown",
   "id": "40ebdf67-e6af-430a-b1d0-587fe5e7b5a1",
   "metadata": {},
   "source": [
    "   "
   ]
  },
  {
   "cell_type": "markdown",
   "id": "dcd6c7ec-454f-4b53-ad3b-b02d67049d73",
   "metadata": {},
   "source": [
    "**Проверка на вхождение подстроки:**\n",
    "\n",
    "С помощью срезов вы можете проверить, содержится ли подстрока в строке.\n",
    "\n"
   ]
  },
  {
   "cell_type": "code",
   "execution_count": null,
   "id": "e0b76c5c-00a8-4401-9d34-da39e4efe7be",
   "metadata": {},
   "outputs": [],
   "source": [
    "# Примеры:\n",
    "\n",
    "text = \"Python programming\"\n",
    "\n",
    "contains_python = \"Python\" in text  # True\n",
    "\n",
    "contains_java = \"Java\" in text      # False\n"
   ]
  },
  {
   "cell_type": "markdown",
   "id": "7c6d34b0-b4b0-4f02-b054-f3c2592aadb2",
   "metadata": {},
   "source": [
    "  "
   ]
  },
  {
   "cell_type": "markdown",
   "id": "f6627e20-1ff1-4f25-ad66-820270099187",
   "metadata": {},
   "source": [
    "**Использование None в срезах:**\n",
    "\n",
    "**None** можно использовать в срезах вместо индекса. **None** в данном контексте означает начало или конец строки."
   ]
  },
  {
   "cell_type": "code",
   "execution_count": null,
   "id": "4a7ab193-1078-4d62-9725-7373142be619",
   "metadata": {},
   "outputs": [],
   "source": [
    "# Примеры:\n",
    "\n",
    "text = \"Python programming\"\n",
    "\n",
    "first_three = text[:3]     # 'Pyt'\n",
    "\n",
    "last_three = text[-3:]     # 'ing'\n",
    "\n",
    "everything_but_last = text[:-1]  # 'Python programmin'\n"
   ]
  },
  {
   "cell_type": "markdown",
   "id": "65c9235d-1286-4296-a660-bca174c8f4d4",
   "metadata": {},
   "source": [
    "  "
   ]
  },
  {
   "cell_type": "markdown",
   "id": "90bd8a79-e880-4138-a540-40233b80fb46",
   "metadata": {},
   "source": [
    "**Экранирование специальных символов:**\n",
    "\n",
    "Если вам нужно использовать специальные символы, такие как кавычки, внутри строк, вы можете использовать обратную косую черту ``\\`` для их экранирования.\n",
    "\n"
   ]
  },
  {
   "cell_type": "code",
   "execution_count": null,
   "id": "a0196ced-e309-4c6d-8c42-0d162a1a207f",
   "metadata": {},
   "outputs": [],
   "source": [
    "# Пример:\n",
    "\n",
    "text_with_quotes = \"He said, \\\"Hello!\\\"\"\n"
   ]
  },
  {
   "cell_type": "markdown",
   "id": "134eaca0-794a-4cd9-9f73-9f5dd487ce51",
   "metadata": {},
   "source": [
    "  "
   ]
  },
  {
   "cell_type": "markdown",
   "id": "9d4b49e1-e721-4793-aad4-a57203980f65",
   "metadata": {},
   "source": [
    "**Функция len() - Подсчет символов или подстрок:**\n",
    "\n",
    "С помощью срезов и функции **len()** вы можете подсчитать количество символов или подстрок в строке."
   ]
  },
  {
   "cell_type": "code",
   "execution_count": null,
   "id": "958a03cd-984c-46a0-839b-21148869b43f",
   "metadata": {},
   "outputs": [],
   "source": [
    "# Примеры:\n",
    "\n",
    "text = \"Python programming\"\n",
    "\n",
    "length = len(text)          # 18 (общее количество символов)\n",
    "\n",
    "num_p = text.count('p')     # 2 (количество символов 'p')\n",
    "\n",
    "substring_count = text.count('gram')  # 1 (количество вхождений подстроки 'gram')\n"
   ]
  },
  {
   "cell_type": "markdown",
   "id": "9fb91ab3-b729-4c6e-89ce-95fc254cd384",
   "metadata": {},
   "source": [
    "  "
   ]
  },
  {
   "cell_type": "markdown",
   "id": "8363dd33-0144-4e0b-8a01-c473bd962398",
   "metadata": {},
   "source": [
    "**Метод find() - Поиск подстроки:**\n",
    "\n",
    "Мы уже рассмотрели оператор **in**, который позволяет проверить, содержится ли подстрока в строке. Теперь рассмотрим метод **find()**, который находит первое вхождение подстроки в строке и возвращает его индекс. Если подстрока не найдена, метод возвращает **-1**."
   ]
  },
  {
   "cell_type": "code",
   "execution_count": null,
   "id": "23f0c0ce-91f4-441b-b48b-1b75c0a43896",
   "metadata": {},
   "outputs": [],
   "source": [
    "# Примеры:\n",
    "\n",
    "text = \"Python programming\"\n",
    "\n",
    "index_of_program = text.find(\"program\")  # 7\n",
    "\n",
    "index_of_java = text.find(\"Java\")         # -1 (подстрока не найдена)\n"
   ]
  },
  {
   "cell_type": "markdown",
   "id": "e43d453c-ebe6-4203-8c20-a83161b36848",
   "metadata": {},
   "source": [
    "   "
   ]
  },
  {
   "cell_type": "markdown",
   "id": "ed5cdbe7-0463-44b0-a51a-3cc84bcf6776",
   "metadata": {},
   "source": [
    "**Метод replace() - Замена подстроки:**\n",
    "    \n",
    "Метод **replace()** позволяет заменить все вхождения одной подстроки на другую."
   ]
  },
  {
   "cell_type": "code",
   "execution_count": null,
   "id": "63777070-0a50-4158-9b52-dd0cfd67dfdc",
   "metadata": {},
   "outputs": [],
   "source": [
    "# Пример:\n",
    "\n",
    "text = \"Python is a great programming language. Python is versatile.\"\n",
    "\n",
    "new_text = text.replace(\"Python\", \"Java\")\n",
    "\n",
    "# 'Java is a great programming language. Java is versatile.'\n"
   ]
  },
  {
   "cell_type": "markdown",
   "id": "162e05e2-c926-4546-924d-56c364950b63",
   "metadata": {},
   "source": [
    "  "
   ]
  },
  {
   "cell_type": "markdown",
   "id": "9901ef04-1929-4314-b11d-394e04366b07",
   "metadata": {},
   "source": [
    "**Метод split() - Разделение строки на список:**\n",
    "\n",
    "Метод **split()** позволяет разделить строку на список подстрок, используя заданный разделитель."
   ]
  },
  {
   "cell_type": "code",
   "execution_count": null,
   "id": "ac9d7df8-5c94-493c-bf0a-ce5c4ae40d0e",
   "metadata": {},
   "outputs": [],
   "source": [
    "# Пример:\n",
    "\n",
    "text = \"apple, banana, orange\"\n",
    "fruits_list = text.split(\", \")  # ['apple', 'banana', 'orange']\n"
   ]
  },
  {
   "cell_type": "markdown",
   "id": "d38bccd4-7ed3-4217-8774-9b729133aaab",
   "metadata": {},
   "source": [
    "   "
   ]
  },
  {
   "cell_type": "markdown",
   "id": "d3140941-432d-4582-bc72-db2ba39cae41",
   "metadata": {},
   "source": [
    "**Метод join() - Объединение списка в строку:**\n",
    "\n",
    "Метод **join()** позволяет объединить элементы списка в строку, используя заданный разделитель.\n",
    "\n"
   ]
  },
  {
   "cell_type": "code",
   "execution_count": null,
   "id": "23d63408-f590-4f06-8b29-230a7d35192e",
   "metadata": {},
   "outputs": [],
   "source": [
    "# Пример:\n",
    "\n",
    "fruits = ['apple', 'banana', 'orange']\n",
    "text = \", \".join(fruits)  # 'apple, banana, orange'\n"
   ]
  },
  {
   "cell_type": "markdown",
   "id": "7a23a0ea-a3ca-48f1-a446-7f7dfee66694",
   "metadata": {},
   "source": [
    "  "
   ]
  },
  {
   "cell_type": "markdown",
   "id": "4c08cc41-f0f1-498e-9ee4-dac324594711",
   "metadata": {},
   "source": [
    "**Метод format() - Форматирование строк:**\n",
    "\n",
    "Мы уже коснулись форматирования строк, но давайте рассмотрим это подробнее. Метод **format()** позволяет вставлять значения в строку, заменяя заполнители."
   ]
  },
  {
   "cell_type": "code",
   "execution_count": null,
   "id": "5f34fe82-4032-4cfc-9fd9-98fddf6361f5",
   "metadata": {},
   "outputs": [],
   "source": [
    "# Пример:\n",
    "\n",
    "name = \"Alice\"\n",
    "age = 30\n",
    "\n",
    "formatted_text = \"My name is {} and I am {} years old.\".format(name, age)\n",
    "# 'My name is Alice and I am 30 years old.'\n"
   ]
  },
  {
   "cell_type": "markdown",
   "id": "ea9555f7-abdf-472a-aa1a-00263272e02a",
   "metadata": {},
   "source": [
    "   "
   ]
  },
  {
   "cell_type": "markdown",
   "id": "b543a23f-acea-4a62-85a8-5f3709cada0a",
   "metadata": {},
   "source": [
    "**Методы str.startswith() и str.endswith() - Проверка начала и конца строки:**\n",
    "\n",
    "Методы **str.startswith()** и **str.endswith()** позволяют проверить, начинается ли строка с определенной подстроки или заканчивается ли она ей."
   ]
  },
  {
   "cell_type": "code",
   "execution_count": null,
   "id": "95482728-38c4-45d9-96ea-207a60694736",
   "metadata": {},
   "outputs": [],
   "source": [
    "# Примеры:\n",
    "\n",
    "text = \"Hello, world!\"\n",
    "\n",
    "starts_with_hello = text.startswith(\"Hello\")  # True\n",
    "\n",
    "ends_with_exclamation = text.endswith(\"!\")    # True\n"
   ]
  },
  {
   "cell_type": "markdown",
   "id": "a313fac2-4164-45c7-b2b7-6ba6e2db0fe5",
   "metadata": {},
   "source": [
    "  "
   ]
  },
  {
   "cell_type": "markdown",
   "id": "011777cd-167f-4379-b1ce-88b43a6549b3",
   "metadata": {},
   "source": [
    "**Методы str.strip(), str.lstrip() и str.rstrip() - Удаление пробельных символов:**\n",
    "\n",
    "Методы **str.strip()**, **str.lstrip()** и **str.rstrip()** позволяют удалить пробельные символы **(пробелы, табуляции, переводы строк)** с начала и/или конца строки."
   ]
  },
  {
   "cell_type": "code",
   "execution_count": null,
   "id": "43b2f436-8dad-412c-887f-e0a152e5dd17",
   "metadata": {},
   "outputs": [],
   "source": [
    "# Пример:\n",
    "\n",
    "text = \"    This is some text.   \"\n",
    "cleaned_text = text.strip()   # 'This is some text.'\n"
   ]
  },
  {
   "cell_type": "markdown",
   "id": "bb2825f8-cad9-4167-8509-c91b6bc788b0",
   "metadata": {},
   "source": [
    "   "
   ]
  },
  {
   "cell_type": "markdown",
   "id": "7836be24-4c95-48dc-ac30-80cf9e59323c",
   "metadata": {},
   "source": [
    "**Методы str.upper() и str.lower() - Заглавные и строчные буквы:**\n",
    "\n",
    "Методы **str.upper()** и **str.lower()** позволяют преобразовать строку в заглавные или строчные буквы."
   ]
  },
  {
   "cell_type": "code",
   "execution_count": null,
   "id": "4a40d3c0-f086-48bf-bab6-85e9765622bd",
   "metadata": {},
   "outputs": [],
   "source": [
    "# Пример:\n",
    "\n",
    "text = \"Python Programming\"\n",
    "\n",
    "uppercase_text = text.upper()     # 'PYTHON PROGRAMMING'\n",
    "\n",
    "lowercase_text = text.lower()     # 'python programming'\n"
   ]
  },
  {
   "cell_type": "markdown",
   "id": "12393cd8-95cf-4cf6-b93c-035dcad2f865",
   "metadata": {},
   "source": [
    "  "
   ]
  },
  {
   "cell_type": "markdown",
   "id": "9db75445-de07-4352-b6c0-c7c43674f8e2",
   "metadata": {},
   "source": [
    "**Замена символов:**\n",
    "\n",
    "Метод **str.maketrans()** в сочетании с **str.translate()** позволяет заменить символы в строке по определенному правилу."
   ]
  },
  {
   "cell_type": "code",
   "execution_count": null,
   "id": "8a60b39c-b809-4b8f-acca-fec594495d98",
   "metadata": {},
   "outputs": [],
   "source": [
    "# Пример:\n",
    "\n",
    "text = \"Hello, world!\"\n",
    "\n",
    "translation_table = str.maketrans(\"aeiou\", \"12345\")\n",
    "translated_text = text.translate(translation_table)  # 'H2ll4, w4rld!'\n"
   ]
  },
  {
   "cell_type": "markdown",
   "id": "874561ed-fda1-42d2-b44e-3824ae08e35b",
   "metadata": {},
   "source": [
    "  "
   ]
  },
  {
   "cell_type": "markdown",
   "id": "a26a9e7a-861b-4afc-b5cd-95bfbcc7e6ae",
   "metadata": {},
   "source": [
    "  "
   ]
  },
  {
   "cell_type": "markdown",
   "id": "6a0948ff-afec-4d66-85c3-e18f7aaaa9fa",
   "metadata": {
    "tags": []
   },
   "source": [
    "# **Форматированные строки** (**f-строки**):\n"
   ]
  },
  {
   "cell_type": "markdown",
   "id": "f8c0ca5a-f6bc-4091-851d-bee937e609e8",
   "metadata": {},
   "source": [
    "*Форматированные строки*, также известные как **f-строки**, представляют собой специальный способ форматирования строк в Python, предоставляющий удобный и выразительный способ вставки значений переменных в строки. Они были введены в Python 3.6 и стали очень популярными благодаря своей простоте и удобству использования."
   ]
  },
  {
   "cell_type": "markdown",
   "id": "ffdf055c-b879-41d5-b51f-06d8731125ca",
   "metadata": {},
   "source": [
    "  "
   ]
  },
  {
   "cell_type": "markdown",
   "id": "a1f3c6f0-ffbb-447f-a2bd-dfea0f67aae0",
   "metadata": {},
   "source": [
    "*Форматированные строки* **создаются** путем добавления префикса **f** или **F** перед открывающей кавычкой строки, а затем вставки переменных в фигурные скобки **{}** внутри строки. Во время выполнения, значения переменных автоматически подставляются на место этих скобок."
   ]
  },
  {
   "cell_type": "code",
   "execution_count": null,
   "id": "0cd31d6c-35e9-415e-8620-a944890fc6e7",
   "metadata": {},
   "outputs": [],
   "source": [
    "# Примеры:\n",
    "\n",
    "name = \"Alice\"\n",
    "age = 30\n",
    "\n",
    "# Простая вставка переменных\n",
    "formatted_text = f\"My name is {name} and I am {age} years old.\"\n",
    "# 'My name is Alice and I am 30 years old.'\n",
    "\n",
    "# Можно вставлять выражения\n",
    "result = f\"The sum of 2 and 3 is {2 + 3}.\"\n",
    "# 'The sum of 2 and 3 is 5.'\n"
   ]
  },
  {
   "cell_type": "markdown",
   "id": "117d5675-9461-4d50-b9c4-24bc5bab178f",
   "metadata": {},
   "source": [
    "  "
   ]
  },
  {
   "cell_type": "markdown",
   "id": "8e499e53-4960-45ce-874f-c522c6583492",
   "metadata": {},
   "source": [
    "**Форматирование значений:**\n",
    "\n",
    "**F-строки** позволяют также указывать дополнительный формат для вставляемых значений. Например, вы можете задавать количество знаков после запятой для чисел с плавающей запятой."
   ]
  },
  {
   "cell_type": "code",
   "execution_count": null,
   "id": "24b2e21d-8339-4fe1-af74-2b4bffbb5c7c",
   "metadata": {},
   "outputs": [],
   "source": [
    "# Пример:\n",
    "\n",
    "pi = 3.141592653589793\n",
    "formatted_pi = f\"The value of pi is approximately {pi:.2f}.\"\n",
    "# 'The value of pi is approximately 3.14.'\n"
   ]
  },
  {
   "cell_type": "markdown",
   "id": "f3a8893b-21e8-4707-9be2-1884bddcd7f3",
   "metadata": {},
   "source": [
    "В этом примере **.2f** указывает, что переменная **pi** должна быть отформатирована как число с плавающей запятой с двумя знаками после запятой."
   ]
  },
  {
   "cell_type": "markdown",
   "id": "191441eb-46cf-4e01-9303-a141a7288599",
   "metadata": {},
   "source": [
    "  "
   ]
  },
  {
   "cell_type": "markdown",
   "id": "629f5acf-5148-4354-9f86-1cf40ead3251",
   "metadata": {},
   "source": [
    "**Вызов методов и доступ к атрибутам:**\n",
    "    \n",
    "Вы также можете вызывать методы или получать доступ к атрибутам объектов, вставляя их внутрь фигурных скобок."
   ]
  },
  {
   "cell_type": "code",
   "execution_count": null,
   "id": "a97b52d8-7c3f-491b-96db-c6344ae09835",
   "metadata": {},
   "outputs": [],
   "source": [
    "# Пример:\n",
    "\n",
    "person = {\"name\": \"Alice\", \"age\": 30}\n",
    "formatted_text = f\"My name is {person['name']} and I am {person['age']} years old.\"\n",
    "# 'My name is Alice and I am 30 years old.'\n"
   ]
  },
  {
   "cell_type": "markdown",
   "id": "10fd5f31-8526-44a4-82ec-65c983395276",
   "metadata": {},
   "source": [
    "  "
   ]
  },
  {
   "cell_type": "markdown",
   "id": "f11b2f9a-c765-4663-89cb-82b4a6650c37",
   "metadata": {},
   "source": [
    "**Экранирование фигурных скобок:**\n",
    "\n",
    "Если вам нужно вставить фигурные скобки как часть строки (не как место для вставки переменных), вы можете использовать двойные фигурные скобки **{{}}**."
   ]
  },
  {
   "cell_type": "code",
   "execution_count": null,
   "id": "7adef6ec-a979-4697-b304-f70a95ef12d1",
   "metadata": {},
   "outputs": [],
   "source": [
    "# Пример:\n",
    "\n",
    "text = \"This is an example of {{}} formatting.\"\n",
    "formatted_text = f\"The text says: {text}\"\n",
    "# 'The text says: This is an example of {} formatting.'\n"
   ]
  },
  {
   "cell_type": "markdown",
   "id": "47cf2fe0-8f74-466c-ae84-930c3a5d3359",
   "metadata": {},
   "source": [
    "   "
   ]
  },
  {
   "cell_type": "markdown",
   "id": "e022229b-4604-4d54-8dac-c9341befc768",
   "metadata": {},
   "source": [
    "**Выравнивание и заполнение:**\n",
    "\n",
    "Вы можете использовать фигурные скобки внутри **f-строк** для задания выравнивания и заполнения значений."
   ]
  },
  {
   "cell_type": "code",
   "execution_count": null,
   "id": "6c4fc2df-4b45-4052-8d17-cff66bea4235",
   "metadata": {},
   "outputs": [],
   "source": [
    "# Пример:\n",
    "\n",
    "name = \"Alice\"\n",
    "age = 30\n",
    "\n",
    "# Выравнивание по центру в поле шириной 20 символов\n",
    "formatted_center = f\"|{name:^20}|{age:^20}|\"\n",
    "# '|       Alice        |        30         |'\n",
    "\n",
    "# Выравнивание влево, заполнение точками, ширина поля 20 символов\n",
    "formatted_left = f\"|{name:<20}|{age:<20}|\"\n",
    "# '|Alice               |30                 |'\n",
    "\n",
    "# Выравнивание вправо, заполнение символом #, ширина поля 20 символов\n",
    "formatted_right = f\"|{name:>#20}|{age:>#20}|\"\n",
    "# '|###############Alice|################30|'\n"
   ]
  },
  {
   "cell_type": "markdown",
   "id": "f7557df0-627a-4ecc-a205-4081c11636c6",
   "metadata": {},
   "source": [
    "  "
   ]
  },
  {
   "cell_type": "markdown",
   "id": "b859a881-d530-474d-8edf-a6e3929f0b73",
   "metadata": {},
   "source": [
    "**Значения по умолчанию:**\n",
    "    \n",
    "**F-строки** также поддерживают использование значений по умолчанию, которые будут использоваться, если переменная не определена."
   ]
  },
  {
   "cell_type": "code",
   "execution_count": null,
   "id": "536c6a65-f2ca-4961-bd59-e43e4b2393ba",
   "metadata": {},
   "outputs": [],
   "source": [
    "# Пример:\n",
    "\n",
    "name = \"Alice\"\n",
    "formatted_text = f\"My name is {name} and I am {age} years old.\"\n",
    "# Если переменная age не определена, будет ошибка\n"
   ]
  },
  {
   "cell_type": "markdown",
   "id": "a412d75b-1713-4ccf-960e-697e3edb0eb3",
   "metadata": {},
   "source": [
    "  "
   ]
  },
  {
   "cell_type": "markdown",
   "id": "59ec4cb1-c8ad-4424-9165-66827183943b",
   "metadata": {},
   "source": [
    "Вы можете предоставить значение по умолчанию, используя двоеточие **:**."
   ]
  },
  {
   "cell_type": "code",
   "execution_count": null,
   "id": "a7f7d711-64c6-49f3-86e6-dccc8ee3e05e",
   "metadata": {},
   "outputs": [],
   "source": [
    "# Пример:\n",
    "\n",
    "name = \"Alice\"\n",
    "formatted_text = f\"My name is {name} and I am {age:.0f} years old.\"\n",
    "# Если переменная age не определена, .0f обеспечит отображение целого числа без десятичных знаков\n"
   ]
  },
  {
   "cell_type": "markdown",
   "id": "3a273dfe-c3d2-4d32-b9e7-2f76284d091d",
   "metadata": {},
   "source": [
    "  "
   ]
  },
  {
   "cell_type": "markdown",
   "id": "21a992bf-652d-41f9-9873-83185cf41e51",
   "metadata": {},
   "source": [
    "**Вычисления внутри f-строк:**\n",
    "\n",
    "Вы можете выполнять вычисления внутри **f-строк**, вставляя выражения внутри фигурных скобок."
   ]
  },
  {
   "cell_type": "code",
   "execution_count": null,
   "id": "a5d01b07-7046-4d82-9614-935719529a39",
   "metadata": {},
   "outputs": [],
   "source": [
    "# Пример:\n",
    "\n",
    "a = 5\n",
    "b = 3\n",
    "formatted_text = f\"{a} + {b} = {a + b}\"\n",
    "# '5 + 3 = 8'\n"
   ]
  },
  {
   "cell_type": "markdown",
   "id": "5e0f9536-017c-4484-8957-aed7d980d727",
   "metadata": {},
   "source": [
    "  "
   ]
  },
  {
   "cell_type": "markdown",
   "id": "165efdc5-8b60-4424-be71-6caec1bd1b49",
   "metadata": {},
   "source": [
    "**Исключение фигурных скобок:**\n",
    "Если вам действительно нужно использовать фигурные скобки как часть строки без форматирования, вы можете исключить их с помощью двойных фигурных скобок **{{** и **}}**."
   ]
  },
  {
   "cell_type": "code",
   "execution_count": null,
   "id": "80c4e11d-f272-4839-869e-9d69815b3207",
   "metadata": {},
   "outputs": [],
   "source": [
    "# Пример:\n",
    "\n",
    "text = \"This is an example of {{}} formatting.\"\n",
    "formatted_text = f\"The text says: {text}\"\n",
    "# 'The text says: This is an example of {} formatting.'\n"
   ]
  },
  {
   "cell_type": "markdown",
   "id": "c8e8e371-55c9-4c7d-b646-6831f035221e",
   "metadata": {},
   "source": [
    "  &nbsp;&nbsp;"
   ]
  },
  {
   "cell_type": "markdown",
   "id": "a81f784a-064c-49ac-a0d9-ce57e4415bf0",
   "metadata": {},
   "source": [
    "&nbsp;&nbsp;"
   ]
  },
  {
   "cell_type": "markdown",
   "id": "1afd09c0-c792-4404-9591-486b697ca0ef",
   "metadata": {},
   "source": [
    "## Модуль **string** и его функциональность для форматирования строк.\n",
    "\n",
    "&nbsp;&nbsp;\n",
    "\n",
    ">**Модуль string** в Python предоставляет различные константы и функции для форматирования строк, такие как **string.Template** , которые упрощают работу с строками.\n",
    ">\n",
    ">В частности, этот модуль содержит **класс Template**, который позволяет создавать и форматировать строки на основе шаблонов.\n",
    "\n",
    "&nbsp;&nbsp;\n"
   ]
  },
  {
   "cell_type": "markdown",
   "id": "a782451f-c346-4dc5-911e-a90f403870bc",
   "metadata": {},
   "source": [
    "**Класс Template:**\n",
    "\n",
    "Класс **Template** из модуля **string** представляет собой механизм форматирования строк, основанный на замене **плейсхолдеров** (заменяемых значений) в тексте шаблона. Он позволяет легко и безопасно вставлять переменные в строку.\n",
    "\n",
    "* Рассмотрим простое форматирование со **string.Template**.\n",
    "Давайте начнем с простого примера, чтобы понять, как работает класс Template:\n"
   ]
  },
  {
   "cell_type": "code",
   "execution_count": 1,
   "id": "06f1e781-9011-4fa4-b4c9-222804b56661",
   "metadata": {},
   "outputs": [
    {
     "name": "stdout",
     "output_type": "stream",
     "text": [
      "My name is Alice and I am 30 years old.\n"
     ]
    }
   ],
   "source": [
    "# Пример:\n",
    "\n",
    "from string import Template\n",
    "\n",
    "name = \"Alice\"\n",
    "age = 30\n",
    "\n",
    "template = Template(\"My name is $name and I am $age years old.\")\n",
    "formatted_text = template.substitute(name=name, age=age)\n",
    "\n",
    "print(formatted_text)\n",
    "# Output: My name is Alice and I am 30 years old.\n"
   ]
  },
  {
   "cell_type": "markdown",
   "id": "99390436-9132-4211-b1e7-75510bef048f",
   "metadata": {},
   "source": [
    "В этом примере, мы создали объект **Template** с текстом шаблона *\"My name is $name and I am $age years old.\"*. \n",
    "\n",
    "Затем мы использовали метод **substitute()** для подстановки значений переменных **name** и **age** вместо плейсхолдеров **\\$name** и **$age**."
   ]
  },
  {
   "cell_type": "markdown",
   "id": "83092d98-1507-4b29-9a6f-49a703966087",
   "metadata": {},
   "source": [
    "  "
   ]
  },
  {
   "cell_type": "markdown",
   "id": "b9425ac1-1409-4fff-8f34-f1fa8c19e09c",
   "metadata": {},
   "source": [
    "* **Безопасное форматирование:**\n",
    "  \n",
    "Один из ключевых аспектов **string.Template** заключается в том, что он *обеспечивает безопасное форматирование строк, предотвращая возможность инъекций кода*.\n"
   ]
  },
  {
   "cell_type": "code",
   "execution_count": 4,
   "id": "1fc5e308-7fe7-4e34-8f40-01178e224314",
   "metadata": {},
   "outputs": [
    {
     "name": "stdin",
     "output_type": "stream",
     "text": [
      "Enter your name:  Alice\"; import os; os.system('echo \"Hacked!\"')\n"
     ]
    },
    {
     "name": "stdout",
     "output_type": "stream",
     "text": [
      "Hello, Alice\"; import os; os.system('echo \"Hacked!\"')!\n"
     ]
    }
   ],
   "source": [
    "# Пример:\n",
    "\n",
    "from string import Template\n",
    "\n",
    "user_input = input(\"Enter your name: \")\n",
    "template = Template(\"Hello, $name!\")\n",
    "formatted_text = template.substitute(name=user_input)\n",
    "\n",
    "print(formatted_text)\n"
   ]
  },
  {
   "cell_type": "markdown",
   "id": "9d6ac4ea-9e67-4752-951b-8684dbd04c2d",
   "metadata": {},
   "source": [
    "В этом примере, если пользователь введет строку `` \"Alice\"; import os; os.system('echo \"Hacked!\"') ``, \n",
    "\n",
    "то **string.Template** автоматически заэкранирует специальные символы и предотвратит выполнение вредоносного кода."
   ]
  },
  {
   "cell_type": "markdown",
   "id": "43eaf996-b545-428b-a535-f92dd4f7d376",
   "metadata": {},
   "source": [
    "  "
   ]
  },
  {
   "cell_type": "markdown",
   "id": "b784e4e9-524a-447b-a68a-911ede7e9be3",
   "metadata": {},
   "source": [
    "* **Замена неопределенных значений - метод safe_substitute():**\n",
    "\n",
    "Если вы хотите обеспечить более гибкое форматирование и предоставить значения по умолчанию для отсутствующих переменных, вы можете использовать метод **safe_substitute()**:"
   ]
  },
  {
   "cell_type": "code",
   "execution_count": null,
   "id": "43e0fde8-d41f-44f2-bd83-4e61fa7c7763",
   "metadata": {},
   "outputs": [],
   "source": [
    "# Пример:\n",
    "\n",
    "from string import Template\n",
    "\n",
    "name = \"Alice\"\n",
    "\n",
    "template = Template(\"My name is $name and I am $age years old.\")\n",
    "formatted_text = template.safe_substitute(name=name)\n",
    "\n",
    "print(formatted_text)\n",
    "# Output: My name is Alice and I am $age years old.\n"
   ]
  },
  {
   "cell_type": "markdown",
   "id": "dfb784d1-9582-47e8-b830-e471e96670d2",
   "metadata": {},
   "source": [
    "  "
   ]
  },
  {
   "cell_type": "markdown",
   "id": "b7acbeef-6c81-4f8b-9a2d-c24d46c211cb",
   "metadata": {},
   "source": [
    "* **Использование специальных символов:**\n",
    "  \n",
    "Если вам нужно вставить символ **$** в шаблоне, вы можете сделать это с помощью удвоения символа **$$**:"
   ]
  },
  {
   "cell_type": "code",
   "execution_count": null,
   "id": "acc66b4e-365b-43aa-9409-bed6f32e3f97",
   "metadata": {},
   "outputs": [],
   "source": [
    "# Пример:\n",
    "\n",
    "from string import Template\n",
    "\n",
    "amount = 100\n",
    "template = Template(\"You have $$ $amount.\")\n",
    "formatted_text = template.substitute(amount=amount)\n",
    "\n",
    "print(formatted_text)\n",
    "# Output: You have $ 100.\n"
   ]
  },
  {
   "cell_type": "markdown",
   "id": "83a37717-2f72-450d-a60e-8826e0c08274",
   "metadata": {},
   "source": [
    "  "
   ]
  },
  {
   "cell_type": "markdown",
   "id": "ce5b7e2e-6261-42dc-8baa-70e225c2f4d4",
   "metadata": {},
   "source": [
    "**string.Template** предоставляет гибкость и безопасность при форматировании строк, что делает его полезным инструментом для создания информативных и динамических текстовых сообщений."
   ]
  },
  {
   "cell_type": "markdown",
   "id": "83030a51-73e5-4019-8020-c7d572531e74",
   "metadata": {},
   "source": [
    "  "
   ]
  },
  {
   "cell_type": "markdown",
   "id": "4bdff650-d62a-430f-8894-0d781c0cccae",
   "metadata": {},
   "source": [
    "## @ Задание - повторим основные методы строк:"
   ]
  },
  {
   "cell_type": "code",
   "execution_count": null,
   "id": "21517ec2-9b7d-4100-9aa4-e4c901a4b1f6",
   "metadata": {},
   "outputs": [],
   "source": [
    "text = \"Python is a versatile programming language.\"\n",
    "\n",
    "# Поиск подстроки\n",
    "position = text.find(\"versatile\")   # 12\n",
    "\n",
    "# Замена подстроки\n",
    "new_text = text.replace(\"versatile\", \"powerful\")\n",
    "\n",
    "# Изменение регистра\n",
    "uppercase = text.upper()   # 'PYTHON IS A VERSATILE PROGRAMMING LANGUAGE.'\n",
    "lowercase = text.lower()   # 'python is a versatile programming language.'\n",
    "\n",
    "# Проверка начала и конца строки\n",
    "starts_with_python = text.startswith(\"Python\")  # True\n",
    "ends_with_language = text.endswith(\"language.\")  # True\n"
   ]
  },
  {
   "cell_type": "markdown",
   "id": "f46894de-ef37-4616-afc1-36d0ce1a5699",
   "metadata": {},
   "source": [
    "    "
   ]
  },
  {
   "cell_type": "markdown",
   "id": "a8503347-6f27-4c40-bc25-562ff0d54efc",
   "metadata": {},
   "source": [
    "  "
   ]
  },
  {
   "cell_type": "markdown",
   "id": "834d198d-ebbe-4af7-9eae-8c524f0131e6",
   "metadata": {},
   "source": [
    "  "
   ]
  },
  {
   "cell_type": "markdown",
   "id": "0695a08b-da13-4c68-962f-a6152461870e",
   "metadata": {},
   "source": [
    "  "
   ]
  },
  {
   "cell_type": "markdown",
   "id": "b0a568b1-b4b4-4553-be44-159a7d2bfa7a",
   "metadata": {},
   "source": [
    "# **Булевы значения bool**\n",
    "\n",
    ">**Булевы** значения **bool** используются для логических операций(выражений)."
   ]
  },
  {
   "cell_type": "markdown",
   "id": "6f23c04c-134c-4701-aa79-36ff86edec14",
   "metadata": {},
   "source": [
    "Они представляют истинность или ложность выражений:\n",
    "\n",
    "**True** - истина\n",
    "\n",
    "**False** - ложь "
   ]
  },
  {
   "cell_type": "markdown",
   "id": "69c453df-b753-4c51-ab7f-61c4bd984e4b",
   "metadata": {},
   "source": [
    "**Булевы** значения представляют основные логические истины в программировании. Они используются для проверки условий и принятия решений в коде. В результате выполнения логических операций или вычислений, переменные могут быть присвоены значениям **True** или **False**."
   ]
  },
  {
   "cell_type": "code",
   "execution_count": 5,
   "id": "5adb41b7-ebf6-4111-b373-917be9fe78eb",
   "metadata": {},
   "outputs": [
    {
     "name": "stdout",
     "output_type": "stream",
     "text": [
      "Take an umbrella.\n"
     ]
    }
   ],
   "source": [
    "# Пример:\n",
    "\n",
    "is_raining = True\n",
    "is_sunny = False\n",
    "\n",
    "if is_raining:\n",
    "    print(\"Take an umbrella.\")\n",
    "else:\n",
    "    print(\"Enjoy the sunshine.\")\n"
   ]
  },
  {
   "cell_type": "markdown",
   "id": "644e7405-e267-4fe0-9388-2d65405e22a8",
   "metadata": {},
   "source": [
    "  "
   ]
  },
  {
   "cell_type": "markdown",
   "id": "1e04b194-b776-4ead-8234-3dc957fbea2e",
   "metadata": {},
   "source": [
    "# **Логические операции:**"
   ]
  },
  {
   "cell_type": "markdown",
   "id": "b72d8002-30d3-45f6-9538-ef9828a2d1b2",
   "metadata": {},
   "source": [
    ">В Python существуют логические операции, которые позволяют комбинировать и сравнивать булевы значения.\n",
    ">В программировании логические операции позволяют создавать сложные логические выражения, которые зависят от состояний истинности (True) или ложности (False) операндов.\n",
    "> \n",
    ">Логические операции позволяют программистам также создавать выразительные условия и проверки, которые определяют поведение программы в зависимости от различных ситуаций.\n",
    ">\n",
    ">Они играют важную роль в условных операторах, циклах, проверках и других аспектах логического программирования, существенно способствуют созданию более гибких, адаптивных и функциональных программ.\n",
    "\n",
    "&nbsp;&nbsp;&nbsp;&nbsp;\n",
    "&nbsp;&nbsp;&nbsp;&nbsp;\n",
    "&nbsp;&nbsp;&nbsp;&nbsp;\n",
    "&nbsp;&nbsp;&nbsp;&nbsp;"
   ]
  },
  {
   "cell_type": "markdown",
   "id": "04967830-a8d2-4090-9287-111b2cbd573c",
   "metadata": {},
   "source": [
    "**Cписок логических операций в Python:**\n",
    "\n",
    "&nbsp;&nbsp;"
   ]
  },
  {
   "cell_type": "markdown",
   "id": "fe85a79b-a718-475d-8796-b2894d540880",
   "metadata": {},
   "source": [
    "&nbsp;&nbsp;&nbsp;&nbsp; **and** &nbsp;&nbsp;&nbsp;&nbsp;&nbsp;&nbsp;&nbsp;&nbsp;&nbsp;&nbsp;&nbsp;-&nbsp;&nbsp;Логическое **И**. Возвращает *True*, если оба операнда истинны.\n",
    "  \n",
    "&nbsp;&nbsp;&nbsp;&nbsp; **or** &nbsp;&nbsp;&nbsp;&nbsp;&nbsp;&nbsp;&nbsp;&nbsp;&nbsp;&nbsp;&nbsp;&nbsp;&nbsp;&nbsp;-&nbsp;&nbsp;Логическое **ИЛИ**. Возвращает *True*, если хотя бы один операнд истинен.\n",
    "  \n",
    "&nbsp;&nbsp;&nbsp;&nbsp; **not** &nbsp;&nbsp;&nbsp;&nbsp;&nbsp;&nbsp;&nbsp;&nbsp;&nbsp;&nbsp;&nbsp;-&nbsp;&nbsp; Логическое **НЕ**. Инвертирует значение операнда.\n",
    "  \n",
    "&nbsp;&nbsp;&nbsp;&nbsp; **==** &nbsp;&nbsp;&nbsp;&nbsp;&nbsp;&nbsp;&nbsp;&nbsp;&nbsp;&nbsp;&nbsp;&nbsp;-&nbsp;&nbsp; Равно. Возвращает *True*, если операнды равны.\n",
    "  \n",
    "&nbsp;&nbsp;&nbsp;&nbsp; **!=** &nbsp;&nbsp;&nbsp;&nbsp;&nbsp;&nbsp;&nbsp;&nbsp;&nbsp;&nbsp;&nbsp;&nbsp;&nbsp;-&nbsp;&nbsp;&nbsp; Не равно. Возвращает *True*, если операнды не равны.\n",
    "\n",
    "&nbsp;&nbsp;&nbsp;&nbsp; **<** &nbsp;&nbsp;&nbsp;&nbsp;&nbsp;&nbsp;&nbsp;&nbsp;&nbsp;&nbsp;&nbsp;&nbsp;&nbsp;&nbsp;-&nbsp;&nbsp;&nbsp; Меньше. Возвращает *True*, если левый операнд меньше правого.\n",
    "\n",
    "&nbsp;&nbsp;&nbsp;&nbsp; **>** &nbsp;&nbsp;&nbsp;&nbsp;&nbsp;&nbsp;&nbsp;&nbsp;&nbsp;&nbsp;&nbsp;&nbsp;&nbsp;&nbsp;-&nbsp;&nbsp;&nbsp; Больше. Возвращает *True*, если левый операнд больше правого.\n",
    "\n",
    "&nbsp;&nbsp;&nbsp;&nbsp; **<=** &nbsp;&nbsp;&nbsp;&nbsp;&nbsp;&nbsp;&nbsp;&nbsp;&nbsp;&nbsp;&nbsp;-&nbsp;&nbsp;&nbsp; Меньше или равно. Возвращает *True*, если левый операнд меньше или равен правому.\n",
    "\n",
    "&nbsp;&nbsp;&nbsp;&nbsp; **>=** &nbsp;&nbsp;&nbsp;&nbsp;&nbsp;&nbsp;&nbsp;&nbsp;&nbsp;&nbsp;&nbsp;- &nbsp;&nbsp;&nbsp;Больше или равно. Возвращает *True*, если левый операнд больше или равен правому.\n",
    "\n",
    "&nbsp;&nbsp;&nbsp;&nbsp; **is**&nbsp;&nbsp;&nbsp;&nbsp;&nbsp;&nbsp;&nbsp;&nbsp;&nbsp;&nbsp;&nbsp;&nbsp;&nbsp;&nbsp;-&nbsp;&nbsp;&nbsp; Проверка идентичности. Возвращает *True*, если два операнда ссылаются на один и тот же объект.\n",
    "\n",
    "&nbsp;&nbsp;&nbsp;&nbsp; **is not** &nbsp;&nbsp;&nbsp;&nbsp;&nbsp;&nbsp;- &nbsp;&nbsp;&nbsp; Проверка отсутствия идентичности. Возвращает *True*, если два операнда не ссылаются на один и тот же объект.\n",
    "  "
   ]
  },
  {
   "cell_type": "code",
   "execution_count": null,
   "id": "b9d15e1b-7908-4457-b128-2933b1764e9a",
   "metadata": {},
   "outputs": [],
   "source": []
  },
  {
   "cell_type": "code",
   "execution_count": null,
   "id": "afe0fc98-ac64-4059-8be6-0ab2659e83e9",
   "metadata": {},
   "outputs": [],
   "source": []
  },
  {
   "cell_type": "markdown",
   "id": "b9164b86-9e43-4692-89cf-b9f5a38bc349",
   "metadata": {
    "jp-MarkdownHeadingCollapsed": true
   },
   "source": [
    "## **Поток** (или **поток выполнения**)"
   ]
  },
  {
   "cell_type": "markdown",
   "id": "9ab16acd-4d24-46df-b0f8-bd2d7d205c61",
   "metadata": {},
   "source": [
    "&nbsp;&nbsp;\n",
    "\n",
    ">**Поток** (или **поток выполнения**) - это концепция в программировании, которая представляет собой последовательность выполнения инструкций в программе. Потоки позволяют программам выполнять несколько задач или операций одновременно или параллельно, что может улучшить эффективность и производительность программы.\n",
    "\n",
    "&nbsp;&nbsp;\n",
    "\n",
    "В контексте *многозадачности* и *параллельного программирования*, потоки позволяют программе выполнять несколько операций независимо друг от друга. Они могут быть реализованы как отдельные нити выполнения в одном процессе (параллельные потоки) или как отдельные процессы (многопроцессорные системы).\n",
    "\n",
    "*Потоки часто используются для обработки множества задач, например:*"
   ]
  },
  {
   "cell_type": "markdown",
   "id": "c5430454-dbdc-4088-8ee2-c5b148ff4302",
   "metadata": {},
   "source": [
    "**Многозадачность:** Один поток может заниматься чтением данных с диска, в то время как другой поток выполняет вычисления. Это позволяет максимально эффективно использовать ресурсы системы.\n",
    "\n",
    "**Параллельные вычисления:** В многопроцессорных системах, разные потоки могут выполнять вычисления параллельно на разных процессорах, ускоряя выполнение программы.\n",
    "\n",
    "**Асинхронное программирование:** В асинхронном программировании, потоки могут обрабатывать события в фоновом режиме, позволяя основному потоку выполнения продолжать работу без блокировки.\n"
   ]
  },
  {
   "cell_type": "markdown",
   "id": "31008056-fb82-4163-8c63-b1b3e65e9509",
   "metadata": {},
   "source": [
    "*Пример использования потоков в Python с использованием модуля threading:*"
   ]
  },
  {
   "cell_type": "raw",
   "id": "ad867502-b519-48a9-b93d-1cac6642e695",
   "metadata": {},
   "source": [
    "# Пример использования потоков\n",
    "\n",
    "import threading\n",
    "\n",
    "def print_numbers():\n",
    "    for i in range(1, 6):\n",
    "        print(f\"Number: {i}\")\n",
    "\n",
    "def print_letters():\n",
    "    for letter in 'abcde':\n",
    "        print(f\"Letter: {letter}\")\n",
    "\n",
    "# Создание двух потоков\n",
    "t1 = threading.Thread(target=print_numbers)\n",
    "t2 = threading.Thread(target=print_letters)\n",
    "\n",
    "# Запуск потоков\n",
    "t1.start()\n",
    "t2.start()\n",
    "\n",
    "# Ожидание завершения потоков\n",
    "t1.join()\n",
    "t2.join()\n",
    "\n",
    "print(\"Threads are done.\")\n"
   ]
  },
  {
   "cell_type": "markdown",
   "id": "18de0285-350a-4100-8e32-358adccb72d3",
   "metadata": {},
   "source": [
    "**Потоки** обеспечивают эффективное использование ресурсов и повышают производительность программ, позволяя выполнять несколько задач параллельно. \n",
    "\n",
    "Однако, при использовании потоков, также важно учитывать синхронизацию и обработку состояний, чтобы избежать проблем с доступом к общим ресурсам."
   ]
  },
  {
   "cell_type": "markdown",
   "id": "b618684b-ce0f-4123-b233-9ddbb91ff717",
   "metadata": {},
   "source": [
    "   "
   ]
  },
  {
   "cell_type": "markdown",
   "id": "1bca22ac-900a-4eee-b432-88a041e9d87b",
   "metadata": {},
   "source": [
    "   "
   ]
  },
  {
   "cell_type": "markdown",
   "id": "f3e26e81-6e04-4592-8021-c5442684b582",
   "metadata": {},
   "source": [
    "   "
   ]
  },
  {
   "cell_type": "markdown",
   "id": "2a1bbfb5-200f-4c1a-aa23-211bc533534f",
   "metadata": {},
   "source": [
    "# **2. Условный оператор if-elif-else.**\n",
    "---------------------------------------------"
   ]
  },
  {
   "cell_type": "markdown",
   "id": "ec459706-7308-4d2e-8bf3-800059f15fa3",
   "metadata": {},
   "source": [
    "\n",
    ">**Условный оператор if** в Python используется для выполнения определенного блока кода только при выполнении определенного логического условия.\n",
    "\n",
    "&nbsp;&nbsp;"
   ]
  },
  {
   "cell_type": "markdown",
   "id": "4a5d3cff-1a16-4d5d-a149-9c78c5feba56",
   "metadata": {},
   "source": [
    "**Cинтаксис оператора if:**"
   ]
  },
  {
   "cell_type": "raw",
   "id": "d2bc6f58-f77c-4e79-a4f4-4bd08d982f7a",
   "metadata": {},
   "source": [
    "\n",
    "if условие:\n",
    "    # выполняемый код, если условие истинно*\n"
   ]
  },
  {
   "cell_type": "markdown",
   "id": "355217e2-d528-4c0b-801f-9877adf7735e",
   "metadata": {},
   "source": [
    "* Если условие истинно (то есть оно имеет значение **True**), то код внутри блока выполнится. Если же условие ложно (**False**), то блок кода будет пропущен.\n",
    "\n"
   ]
  },
  {
   "cell_type": "markdown",
   "id": "47d7a230-a868-403d-9055-4a197231b13f",
   "metadata": {},
   "source": [
    "   "
   ]
  },
  {
   "cell_type": "markdown",
   "id": "03db24b2-9d57-43a8-ab07-6be012028686",
   "metadata": {},
   "source": [
    "## Конструкции **elif** и **else:**"
   ]
  },
  {
   "cell_type": "markdown",
   "id": "a5d3be91-e41c-493e-b33b-a09c0e323363",
   "metadata": {},
   "source": [
    ">**Дополнительные ветви** в код можно добавить с помощью конструкций **elif** (сокращение от **\"else if\"**) и **else:**\n",
    "\n",
    "&nbsp;&nbsp;"
   ]
  },
  {
   "cell_type": "markdown",
   "id": "6a8630fe-39e1-4499-bf63-d7c2aa7ad002",
   "metadata": {},
   "source": [
    "**Cинтаксис оператора if с дополнительными ветвями:**"
   ]
  },
  {
   "cell_type": "raw",
   "id": "0d0efc94-2336-4d10-95c8-a12ad5f9ca10",
   "metadata": {},
   "source": [
    "\n",
    "\n",
    "if условие1:\n",
    "    # выполняемый код, если условие1 истинно\n",
    "\n",
    "elif условие2:\n",
    "    # выполняемый код, если условие1 ложно, а условие2 истинно\n",
    "\n",
    "else:\n",
    "    # выполняемый код, если все предыдущие условия ложны\n",
    "\n"
   ]
  },
  {
   "cell_type": "markdown",
   "id": "3d9d103c-6e91-48d6-ac29-6805e9184254",
   "metadata": {},
   "source": [
    "   "
   ]
  },
  {
   "cell_type": "markdown",
   "id": "9b735845-81d6-444c-8db2-e29a85d4100e",
   "metadata": {},
   "source": [
    "   "
   ]
  },
  {
   "cell_type": "code",
   "execution_count": 1,
   "id": "f59faa03-fd92-4ecd-bf7b-94a49bf46164",
   "metadata": {},
   "outputs": [
    {
     "name": "stdout",
     "output_type": "stream",
     "text": [
      "x положительное\n"
     ]
    }
   ],
   "source": [
    " # Пример 1:\n",
    "\n",
    "x = 10\n",
    "\n",
    "if x > 0:\n",
    "    print(\"x положительное\")\n",
    "elif x == 0:\n",
    "    print(\"x равно нулю\")\n",
    "else:\n",
    "    print(\"x отрицательное\")\n",
    "\n"
   ]
  },
  {
   "cell_type": "markdown",
   "id": "d35f8552-75f0-46cd-873e-d6c18745eae3",
   "metadata": {},
   "source": [
    "  "
   ]
  },
  {
   "cell_type": "code",
   "execution_count": 15,
   "id": "aee1628b-4893-4e23-adcb-0f96a075ce74",
   "metadata": {},
   "outputs": [
    {
     "name": "stdin",
     "output_type": "stream",
     "text": [
      "input age 54\n"
     ]
    }
   ],
   "source": [
    "# Пример 2:\n",
    "\n",
    "age = int(input(\"input age\"))"
   ]
  },
  {
   "cell_type": "code",
   "execution_count": 16,
   "id": "55f043f7-ae59-4a8b-86d3-4c97f5d2870d",
   "metadata": {},
   "outputs": [
    {
     "name": "stdout",
     "output_type": "stream",
     "text": [
      "welcome\n"
     ]
    }
   ],
   "source": [
    "if (age>=25):\n",
    "    print(\"welcome\")\n",
    "elif (age>=18) and (age<25):\n",
    "     print(\"you exit\")\n",
    "else:\n",
    "    print(\"stopped!\")\n"
   ]
  },
  {
   "cell_type": "markdown",
   "id": "e6d05641-553f-452f-a37f-23f156ea9c1d",
   "metadata": {},
   "source": [
    "  "
   ]
  },
  {
   "cell_type": "markdown",
   "id": "cfaaa81a-b017-4cdc-95f7-bf26ea337823",
   "metadata": {},
   "source": [
    "   "
   ]
  },
  {
   "cell_type": "code",
   "execution_count": 17,
   "id": "4e8d3d12-2f95-4a45-bd00-64aef5fff28b",
   "metadata": {},
   "outputs": [
    {
     "data": {
      "text/plain": [
       "6"
      ]
     },
     "execution_count": 17,
     "metadata": {},
     "output_type": "execute_result"
    }
   ],
   "source": [
    "# Пример 3:\n",
    "\n",
    "def func(a=2):\n",
    "    return 2*a+2\n",
    "\n",
    "func()"
   ]
  },
  {
   "cell_type": "code",
   "execution_count": 18,
   "id": "2f4abaf2-a093-40f0-9512-54262a4434a9",
   "metadata": {},
   "outputs": [
    {
     "name": "stdout",
     "output_type": "stream",
     "text": [
      "10\n"
     ]
    }
   ],
   "source": [
    "print(func(4)) # a!=2 a=4"
   ]
  },
  {
   "cell_type": "markdown",
   "id": "758a42c3-743f-4ae2-b0cb-9674636100ae",
   "metadata": {},
   "source": [
    "  "
   ]
  },
  {
   "cell_type": "markdown",
   "id": "9882c0aa-f8f3-4eef-b031-708c54392fce",
   "metadata": {},
   "source": [
    "  "
   ]
  },
  {
   "cell_type": "markdown",
   "id": "50260ef8-9baa-458a-97f4-3a6877a2b7f6",
   "metadata": {},
   "source": [
    "## Использование логических операторов **and**, **or** и **not** \n"
   ]
  },
  {
   "cell_type": "markdown",
   "id": "d79f3a0b-791b-4953-95dc-dd32303aa32f",
   "metadata": {},
   "source": [
    "  "
   ]
  },
  {
   "cell_type": "markdown",
   "id": "78685e45-9b76-4a8c-8162-799f09195ad2",
   "metadata": {},
   "source": [
    ">Условный оператор **if** можно вкладывать друг в друга для создания более сложной логики. Также, можно использовать логические операторы **and, or, not** для создания более сложных условий в операторах **if, elif** и **else.**"
   ]
  },
  {
   "cell_type": "markdown",
   "id": "15a82d29-d8cb-4557-b2ca-5c400ce85b6f",
   "metadata": {},
   "source": [
    "  "
   ]
  },
  {
   "cell_type": "code",
   "execution_count": 19,
   "id": "4267d5e9-18ef-4554-b88e-71d91c6031d0",
   "metadata": {},
   "outputs": [
    {
     "name": "stdout",
     "output_type": "stream",
     "text": [
      "Обе переменные положительные\n"
     ]
    }
   ],
   "source": [
    "# Пример с использованием and:\n",
    "\n",
    "x = 5\n",
    "y = 10\n",
    "\n",
    "if x > 0 and y > 0:\n",
    "    print(\"Обе переменные положительные\")\n",
    "else:\n",
    "    print(\"Хотя бы одна переменная не положительная\")\n",
    "\n"
   ]
  },
  {
   "cell_type": "markdown",
   "id": "406ba429-bc34-4e52-b23d-1439c23aab69",
   "metadata": {},
   "source": [
    "  \n"
   ]
  },
  {
   "cell_type": "code",
   "execution_count": 20,
   "id": "d14983ca-ba44-45cd-ac9e-7ecb24194ae4",
   "metadata": {},
   "outputs": [
    {
     "name": "stdout",
     "output_type": "stream",
     "text": [
      "Вам в рабочем возрасте\n"
     ]
    }
   ],
   "source": [
    "# Пример с использованием or:\n",
    "\n",
    "age = 25\n",
    "\n",
    "if age < 18 or age > 65:\n",
    "    print(\"Вы либо несовершеннолетний, либо пожилой\")\n",
    "else:\n",
    "    print(\"Вам в рабочем возрасте\")\n",
    "    \n"
   ]
  },
  {
   "cell_type": "markdown",
   "id": "0879f4d1-5cb7-4109-8ebc-ef3ccc78965d",
   "metadata": {},
   "source": [
    "  "
   ]
  },
  {
   "cell_type": "code",
   "execution_count": 21,
   "id": "88e57acb-fc1e-4da4-8bdb-d76e00c6fe8e",
   "metadata": {},
   "outputs": [
    {
     "name": "stdout",
     "output_type": "stream",
     "text": [
      "Сегодня идет дождь\n"
     ]
    }
   ],
   "source": [
    "# Пример с использованием not:\n",
    "\n",
    "is_raining = True\n",
    "\n",
    "if not is_raining:\n",
    "    print(\"Сегодня не идет дождь\")\n",
    "else:\n",
    "    print(\"Сегодня идет дождь\")\n",
    "    \n"
   ]
  },
  {
   "cell_type": "markdown",
   "id": "fe824a13-2853-490c-a044-95202ebabd33",
   "metadata": {},
   "source": [
    "Обратите внимание, что при использовании операторов **and** и **or**, условие будет считаться истинным или ложным на основе сочетания значений операндов. Кроме того, вы можете использовать круглые скобки для явного определения порядка выполнения операций и создания более сложных условий."
   ]
  },
  {
   "cell_type": "markdown",
   "id": "63f115a8-0cb8-4846-a4ff-07d796869492",
   "metadata": {},
   "source": [
    "                                   "
   ]
  },
  {
   "cell_type": "markdown",
   "id": "6d9b992d-d484-49ee-a890-15dcf04c7fe1",
   "metadata": {},
   "source": [
    "  "
   ]
  },
  {
   "cell_type": "markdown",
   "id": "8d75e82d-14df-4cb7-8efa-ae25a5055a98",
   "metadata": {},
   "source": [
    "## Использование **круглых скобок ( )** в условных выражениях "
   ]
  },
  {
   "cell_type": "markdown",
   "id": "8e97a955-33cc-4f07-ab58-b2a9a2534e5b",
   "metadata": {},
   "source": [
    ">Использование круглых скобок в условных выражениях позволяет явно определить порядок выполнения операций и создать более сложные условия. Круглые скобки в условиях **if, elif** и **else** позволяют изменить стандартный порядок вычислений и управляют группировкой операций.\n",
    "\n",
    "&nbsp;&nbsp;"
   ]
  },
  {
   "cell_type": "code",
   "execution_count": 7,
   "id": "a85a7d97-46d8-4eeb-bc1a-87d3a747536b",
   "metadata": {},
   "outputs": [
    {
     "name": "stdout",
     "output_type": "stream",
     "text": [
      "Условие выполнено!\n"
     ]
    }
   ],
   "source": [
    "# Пример 1: Использование круглых скобок для явного задания порядка выполнения операций:\n",
    "\n",
    "x = 10\n",
    "y = 5\n",
    "z = 8\n",
    "\n",
    "if (x + y) * z > 50:\n",
    "    print(\"Условие выполнено!\")\n",
    "else:\n",
    "    print(\"Условие не выполнено!\")\n",
    "    \n"
   ]
  },
  {
   "cell_type": "markdown",
   "id": "923ef817-92c0-418a-bd2b-ee152132ed23",
   "metadata": {},
   "source": [
    "         "
   ]
  },
  {
   "cell_type": "code",
   "execution_count": 8,
   "id": "db9462a9-b751-46ad-8e20-574ab552ec7f",
   "metadata": {},
   "outputs": [
    {
     "name": "stdout",
     "output_type": "stream",
     "text": [
      "Вы не подходите для специальной программы\n"
     ]
    }
   ],
   "source": [
    "# Пример 2: Создание сложного логического условия с использованием круглых скобок:\n",
    "\n",
    "age = 25\n",
    "income = 60000\n",
    "\n",
    "if (age < 18 or age > 65) and income < 50000:\n",
    "    print(\"Вы подходите для специальной программы\")\n",
    "else:\n",
    "    print(\"Вы не подходите для специальной программы\")\n",
    "\n"
   ]
  },
  {
   "cell_type": "markdown",
   "id": "f01ed41a-5582-494e-8413-7bd9e956dbe3",
   "metadata": {},
   "source": [
    "   "
   ]
  },
  {
   "cell_type": "markdown",
   "id": "3c9bdf07-c801-423d-868e-07ece51115fe",
   "metadata": {},
   "source": [
    ">**Круглые скобки** могут также использоваться для явного объединения условий внутри операторов and и or, чтобы уточнить, какие операции должны выполняться в первую очередь:\n",
    "\n",
    "&nbsp;&nbsp;"
   ]
  },
  {
   "cell_type": "code",
   "execution_count": null,
   "id": "6d0fb801-c64b-42c6-8ca0-8ec18d0f3218",
   "metadata": {},
   "outputs": [],
   "source": [
    "# Пример 3: Использование круглых скобок для уточнения порядка операций с and и or:\n",
    "\n",
    "x = 10\n",
    "y = 5\n",
    "z = 8\n",
    "\n",
    "if (x > y) and (y > z) or (x == z):\n",
    "    print(\"Условие выполнено\")\n",
    "else:\n",
    "    print(\"Условие не выполнено\")\n",
    "    \n"
   ]
  },
  {
   "cell_type": "markdown",
   "id": "614af559-5e25-4646-86d3-53bd500c41ea",
   "metadata": {},
   "source": [
    "* *Использование **круглых скобок** в условных выражениях делает код более читаемым и понятным, особенно при создании сложных логических условий.*"
   ]
  },
  {
   "cell_type": "markdown",
   "id": "2ff3eba2-69de-4627-a4fc-cde961ed5cb5",
   "metadata": {},
   "source": [
    "   "
   ]
  },
  {
   "cell_type": "markdown",
   "id": "8fb0d166-a126-4d7d-b749-4c682caad610",
   "metadata": {},
   "source": [
    "## Упрощённый оператор **if**"
   ]
  },
  {
   "cell_type": "markdown",
   "id": "58376800-b7d2-4c02-84c4-74c7964cfd2b",
   "metadata": {},
   "source": [
    "**Упрощенный оператор if**, также называемый *тернарным оператором*, представляет собой способ записи условной конструкции в более компактной форме. \n",
    "\n",
    "Вместо использования полного блока &nbsp;``if-else ``&nbsp; выражение записывается в одну строку. \n",
    "\n",
    "Тернарный оператор часто используется для присваивания значения переменной в зависимости от выполнения условия.\n",
    "\n",
    "**Синтаксис тернарного оператора следующий:**\n",
    "\n",
    "\n",
    "&nbsp;&nbsp;&nbsp;&nbsp;&nbsp;&nbsp;&nbsp;&nbsp;*значение_если_истина* &nbsp;&nbsp;**if**&nbsp;&nbsp; *условие* &nbsp;&nbsp;**else**&nbsp;&nbsp; *значение_если_ложь*\n",
    "\n",
    "\n",
    "**Здесь:**\n",
    "\n",
    "* *условие* &nbsp;&nbsp;-&nbsp;&nbsp; это выражение, которое проверяется на истинность или ложность.\n",
    "\n",
    "* *значение_если_истина* &nbsp;&nbsp;-&nbsp;&nbsp; это значение, которое будет присвоено переменной, если условие истинно.\n",
    "\n",
    "* *значение_если_ложь* &nbsp;&nbsp;-&nbsp;&nbsp; это значение, которое будет присвоено переменной, если условие ложно.\n",
    "\n",
    "&nbsp;"
   ]
  },
  {
   "cell_type": "code",
   "execution_count": 5,
   "id": "6efd6aca-2c82-4b8f-8311-f1fd90b6baa2",
   "metadata": {},
   "outputs": [
    {
     "name": "stdout",
     "output_type": "stream",
     "text": [
      "Больше 5\n",
      "Больше 5\n"
     ]
    }
   ],
   "source": [
    "# Пример замены обычного if-else, конструкцией Тренарного оператора:\n",
    "\n",
    "# обычное использование if-else\n",
    "x = 10\n",
    "if x > 5:\n",
    "    result = \"Больше 5\"\n",
    "else:\n",
    "    result = \"Меньше или равно 5\"\n",
    "print(result)\n",
    "\n",
    "# используем Тернарный оператор:\n",
    "x = 10\n",
    "result = \"Больше 5\" if x > 5 else \"Меньше или равно 5\"\n",
    "print(result)\n"
   ]
  },
  {
   "cell_type": "markdown",
   "id": "7eea88cf-cb1c-4c74-ab55-d139a657616c",
   "metadata": {},
   "source": [
    "  "
   ]
  },
  {
   "cell_type": "code",
   "execution_count": 4,
   "id": "8095c7dc-b2ce-4efa-ac47-652a127fc4bd",
   "metadata": {},
   "outputs": [
    {
     "name": "stdout",
     "output_type": "stream",
     "text": [
      "if statement 1\n",
      "if statement 1\n"
     ]
    }
   ],
   "source": [
    "# Пример конструкции: \n",
    "\n",
    "m = 3\n",
    "\n",
    "# Не использовать:\n",
    "if m == 1 or m == 2 or m == 3 or m == 4:\n",
    "    print(\"if statement 1\")\n",
    "\n",
    "# Использовать:\n",
    "if m in [1,2,3,4]:\n",
    "    print(\"if statement 1\")\n"
   ]
  },
  {
   "cell_type": "markdown",
   "id": "a4f5baa6-71ac-43fc-a04c-fea6009af4d0",
   "metadata": {},
   "source": [
    "**И**спользовать конструкцию&nbsp;&nbsp;&nbsp; ``if m in [1, 2, 3, 4]:`` &nbsp;&nbsp;&nbsp;вместо&nbsp;&nbsp;&nbsp; ``if m == 1 or m == 2 or m == 3 or m == 4:`` &nbsp;&nbsp;&nbsp;- &nbsp;&nbsp;&nbsp;это хорошая практика, и она рекомендуется из нескольких причин:"
   ]
  },
  {
   "cell_type": "markdown",
   "id": "3b28cb08-a80e-436a-982c-09acce88f557",
   "metadata": {},
   "source": [
    "* *Упрощение кода:*&nbsp;&nbsp;&nbsp; Использование оператора in сразу делает код более компактным и легким для чтения. Вы перечисляете все возможные значения в одном списке, вместо длинной цепочки логических операторов or.\n",
    "\n",
    "* *Расширяемость:*&nbsp;&nbsp;&nbsp; Если в будущем вам потребуется добавить или удалить значения из условия, то вам нужно будет изменить только список значений в одном месте, а не переписывать всю строку с операторами **or**.\n",
    "\n",
    "* *Производительность:*&nbsp;&nbsp;&nbsp; В большинстве языков программирования проверка на вхождение в список выполняется более эффективно, чем последовательное выполнение логических операторов **or**.\n",
    "\n",
    "* *Читаемость и понятность:*&nbsp;&nbsp;&nbsp; Когда вы используете оператор **in**, ваш код становится более легким для понимания другими разработчиками, так как это стандартная идиоматическая конструкция.\n",
    "\n",
    "Таким образом, использование &nbsp;&nbsp;&nbsp;``if m in [1, 2, 3, 4]:`` &nbsp;&nbsp;&nbsp;- &nbsp;&nbsp;&nbsp;более предпочтительный вариант, который сделает ваш код более понятным, расширяемым и эффективным."
   ]
  },
  {
   "cell_type": "markdown",
   "id": "b4e15549-4e44-4b6b-97b7-41c003a99bea",
   "metadata": {},
   "source": [
    "  "
   ]
  },
  {
   "cell_type": "markdown",
   "id": "d0a284d9-410c-4289-bc80-b49d7ea67ac6",
   "metadata": {},
   "source": [
    "*Тернарный оператор* &nbsp;&nbsp;- &nbsp;&nbsp;это полезный инструмент для уменьшения объема кода и улучшения его читаемости в случаях, когда необходимо сделать небольшие условные проверки. Однако следует использовать его с умом, чтобы не ухудшать читаемость кода в случае, когда условие или значения сложны."
   ]
  },
  {
   "cell_type": "markdown",
   "id": "fbf9769f-6197-4ec2-975c-8bb5f37fa346",
   "metadata": {},
   "source": [
    "   "
   ]
  },
  {
   "cell_type": "markdown",
   "id": "93b1355e-3b33-4044-9d63-d2d1ad38407d",
   "metadata": {},
   "source": [
    "   "
   ]
  },
  {
   "cell_type": "markdown",
   "id": "55e32bb7-cf95-4525-9608-3f863cda0040",
   "metadata": {
    "jp-MarkdownHeadingCollapsed": true
   },
   "source": [
    "# **3. Циклы.**\n",
    "------------------"
   ]
  },
  {
   "cell_type": "markdown",
   "id": "a84341d3-eb7b-4097-8196-3dc7bf34d8bf",
   "metadata": {},
   "source": [
    "> Циклы являются основой автоматизации процессов.\n",
    ">\n",
    "> **Цикл** - это многократность повторения одного и того же процесса \n",
    ">\n",
    "> *Итерируемый объект* - это объект который можно поделить на злементы или части и присвоить им порядковые номера.\n",
    ">\n",
    "> *Итерирование* - это перебор каждого элемента итерированного объекта\n",
    ">\n",
    "> **Итерация цикла** - это однократное выполнение *тела* цикла"
   ]
  },
  {
   "cell_type": "markdown",
   "id": "86955e25-1821-4485-a380-c31401c189c3",
   "metadata": {},
   "source": [
    "> **Циклы бывают двух типов:**\n",
    ">\n",
    "> 1. **for** - предназначен для обработки последовательности значений, называемый ещё \"циклом с параметром\" потому что параметр принимает каждый раз значение из последовательности значений.\n",
    "> 2. **while** - цикл с условием\n",
    ">\n",
    "> Отличие в том, что цикл **for** имеет конечное число повторений, в то время, как цикл **while** может быть бесконечным"
   ]
  },
  {
   "cell_type": "markdown",
   "id": "c03ccd22-3647-4666-a257-152852fc6492",
   "metadata": {},
   "source": [
    "   "
   ]
  },
  {
   "cell_type": "markdown",
   "id": "b2f6a15e-a4fa-43c0-8027-a53e9f9ba32e",
   "metadata": {
    "jp-MarkdownHeadingCollapsed": true
   },
   "source": [
    "# 3.1 Цикл *FOR*:"
   ]
  },
  {
   "cell_type": "markdown",
   "id": "f0d4e107-881b-4535-82a4-807866b45003",
   "metadata": {},
   "source": [
    "&nbsp;&nbsp;\n",
    "\n",
    "&nbsp;&nbsp;&nbsp;&nbsp;**Синтаксис цикла FOR:**\n",
    "\n",
    "&nbsp;&nbsp;\n",
    "\n",
    "&nbsp;&nbsp;&nbsp;&nbsp;&nbsp;&nbsp;&nbsp;&nbsp;&nbsp;&nbsp;&nbsp;&nbsp;**for**   *имя_переменной*   **in**   *имя_итер_объекта* **:**  \n",
    "\n",
    "&nbsp;&nbsp;&nbsp;&nbsp;&nbsp;&nbsp;&nbsp;&nbsp;&nbsp;&nbsp;&nbsp;&nbsp;&nbsp;&nbsp;&nbsp;&nbsp;&nbsp;&nbsp;&nbsp;&nbsp;&nbsp;инструкции...&nbsp;&nbsp;&nbsp;&nbsp; &nbsp;&nbsp;&nbsp;&nbsp;&nbsp;&nbsp;&nbsp;&nbsp;\n",
    "\n",
    "&nbsp;&nbsp;&nbsp;&nbsp;&nbsp;&nbsp;\n",
    "                                     \n",
    "\n",
    "   Первая строка - это всегда часть, которая называется **заголовок цикла**\n",
    "\n",
    "   Вторая строка - - эта часть называется - **тело цикла**\n",
    "\n",
    "&nbsp;&nbsp;\n",
    "\n",
    " &nbsp;&nbsp;  "
   ]
  },
  {
   "cell_type": "code",
   "execution_count": 22,
   "id": "2098ec1c-d0e7-4ed0-80b1-04241017dd56",
   "metadata": {},
   "outputs": [
    {
     "name": "stdout",
     "output_type": "stream",
     "text": [
      "H\n",
      "e\n",
      "l\n",
      "l\n",
      "o\n",
      " \n",
      "W\n",
      "o\n",
      "r\n",
      "l\n",
      "d\n"
     ]
    }
   ],
   "source": [
    "# Пример 1\n",
    "\n",
    "name = \"Hello World\"\n",
    "\n",
    "for i in name:\n",
    "    print(i)\n"
   ]
  },
  {
   "cell_type": "markdown",
   "id": "76d52b77-af31-4824-bce1-ed5ccd0cea89",
   "metadata": {},
   "source": [
    "  "
   ]
  },
  {
   "cell_type": "markdown",
   "id": "ef32a6b4-1d80-405a-8d24-0c1d35d0d294",
   "metadata": {},
   "source": [
    "**Функция Range()** \n",
    "* позволяет выводить наш объект заданное количество раз:\n",
    " range(3,5) - это диапазон чисел от 3 до 5 - это 3 и 4\n",
    " range(3) - это диапазон чисел от 0 до 3, т.е. 0,1,2\n",
    "* в цикле используется как счетчик"
   ]
  },
  {
   "cell_type": "code",
   "execution_count": 23,
   "id": "f18cdc80-ca64-4377-806d-ae926175d95b",
   "metadata": {},
   "outputs": [
    {
     "name": "stdout",
     "output_type": "stream",
     "text": [
      " Hellow Siergej!\n",
      " Hellow Siergej!\n"
     ]
    }
   ],
   "source": [
    "# Пример 2\n",
    "\n",
    "name = \" Hellow Siergej!\"\n",
    "for i in range(3,5):  # 2 раза\n",
    "    print(name)\n"
   ]
  },
  {
   "cell_type": "code",
   "execution_count": 24,
   "id": "8e7e8d0f-4d6d-4c1f-b6d2-496bc84fb3e1",
   "metadata": {},
   "outputs": [
    {
     "name": "stdout",
     "output_type": "stream",
     "text": [
      " Hellow Siergej!\n",
      " Hellow Siergej!\n",
      " Hellow Siergej!\n"
     ]
    }
   ],
   "source": [
    "for i in range(3):  # 3 раза\n",
    "    print(name)"
   ]
  },
  {
   "cell_type": "code",
   "execution_count": 25,
   "id": "7e32b5c5-6db9-4f6f-b688-453171debc1b",
   "metadata": {},
   "outputs": [
    {
     "name": "stdout",
     "output_type": "stream",
     "text": [
      "0\n",
      "1\n",
      "8\n",
      "27\n",
      "64\n",
      "125\n",
      "216\n",
      "343\n"
     ]
    }
   ],
   "source": [
    "# Пример 3\n",
    "\n",
    "for x in 0,1,2,3,4,5,6,7:\n",
    "    print(x**3)  # x в кубе\n"
   ]
  },
  {
   "cell_type": "code",
   "execution_count": 26,
   "id": "d7b300f6-cd8d-4a2b-90ff-4f830d6f20a5",
   "metadata": {},
   "outputs": [
    {
     "name": "stdout",
     "output_type": "stream",
     "text": [
      "h a\n",
      "e a\n",
      "l a\n",
      "l a\n",
      "o a\n",
      "w a\n",
      " a\n",
      "  a\n",
      "! a\n"
     ]
    }
   ],
   "source": [
    "# Пример 4\n",
    "\n",
    "for x in 'h','e','l','l','o','w','',' ','!':\n",
    "    print (x,'a')\n",
    "\n"
   ]
  },
  {
   "cell_type": "code",
   "execution_count": 27,
   "id": "2a4e5c17-4dca-4850-9002-32e376572b0e",
   "metadata": {},
   "outputs": [
    {
     "name": "stdout",
     "output_type": "stream",
     "text": [
      "H\n",
      "e\n",
      "l\n",
      "l\n",
      "o\n",
      "w\n",
      "!\n"
     ]
    }
   ],
   "source": [
    "for x in 'Hellow!':\n",
    "    print (x)"
   ]
  },
  {
   "cell_type": "code",
   "execution_count": 28,
   "id": "e718897b-33c7-4daa-8191-41f67c7c31b1",
   "metadata": {},
   "outputs": [
    {
     "name": "stdout",
     "output_type": "stream",
     "text": [
      "Hello Bill !\n",
      "Hello Nike !\n",
      "Hello Ann !\n"
     ]
    }
   ],
   "source": [
    "# Пример 5\n",
    "\n",
    "hi = \"Hello\"\n",
    "\n",
    "for x in 'Bill', 'Nike', 'Ann':\n",
    "    print(hi,x,\"!\")\n",
    "    "
   ]
  },
  {
   "cell_type": "markdown",
   "id": "e6e998b0-ad1f-47b5-a7af-9fd27ce22d37",
   "metadata": {},
   "source": []
  },
  {
   "cell_type": "markdown",
   "id": "e3c4e795-85a8-4ebb-ad8c-dc781c171a55",
   "metadata": {
    "jp-MarkdownHeadingCollapsed": true
   },
   "source": [
    "# 3.2 Цикл *WHILE*:"
   ]
  },
  {
   "cell_type": "markdown",
   "id": "90231114-ffd5-4a3e-9fac-bc2223e1822a",
   "metadata": {},
   "source": [
    "Цикл **while**  это цикл с условием, слово while - означает 'пока', т.е. 'пока' выполняется заданное 'условие' , до тех пор выполняется тело цикла.\n",
    "\n",
    "**Синтаксис цикла while:**\n",
    "\n",
    "**while**  *условие* **:**         \n",
    " . . . .*инструкции...*             \n",
    "\n",
    "Цикл **while** в Python используется для повторения выполнения определенного блока кода до тех пор, пока заданное условие истинно.\n",
    "Он выполняет код внутри себя до тех пор, пока условие не перестанет быть истинным.\n",
    "    "
   ]
  },
  {
   "cell_type": "markdown",
   "id": "d9fdf286-6523-4585-8941-7af0ff0e07bd",
   "metadata": {},
   "source": [
    "Важно следить за тем, чтобы условие в цикле ***while*** со временем стало ложным, иначе цикл будет выполняться бесконечно (если условие всегда истинно), что может привести к зависанию программы.\n",
    "\n",
    "Цикл **while** может быть полезен, когда заранее неизвестно, сколько итераций будет выполняться код, и завершение цикла зависит от условия."
   ]
  },
  {
   "cell_type": "markdown",
   "id": "37b23520-fc06-4c82-98a7-595649c31b3d",
   "metadata": {},
   "source": [
    "   "
   ]
  },
  {
   "cell_type": "code",
   "execution_count": null,
   "id": "567df773-52f7-406f-917b-680bf8dfca1d",
   "metadata": {},
   "outputs": [],
   "source": [
    "# Пример 1: Вывод чисел от 1 до 5 с использованием цикла while:\n",
    "\n",
    "num = 1\n",
    "while num <= 12:\n",
    "    print(num)\n",
    "    num += 1\n"
   ]
  },
  {
   "cell_type": "markdown",
   "id": "dc6fa111-3b61-4cbd-b8b9-40888884cc2d",
   "metadata": {},
   "source": [
    "** В этом примере, блок кода print(num) будет выполняться до тех пор, пока num остается меньше или равным 12. \n",
    "Каждый раз после выполнения блока кода, значение num увеличивается +1."
   ]
  },
  {
   "cell_type": "markdown",
   "id": "3154d41e-14fa-445c-8f6b-3daa28e014da",
   "metadata": {},
   "source": [
    "   "
   ]
  },
  {
   "cell_type": "code",
   "execution_count": null,
   "id": "7e76350d-b61a-4f22-9aa1-d5640bb20390",
   "metadata": {},
   "outputs": [],
   "source": [
    "# Пример 2: Вычисление суммы натуральных чисел от 1 до 10 с использованием цикла while:\n",
    "\n",
    "sum = 0\n",
    "num = 1\n",
    "while num <= 100:\n",
    "    sum += num\n",
    "    num += 1\n",
    "print(\"Сумма чисел от 1 до 100 = \", sum)\n",
    "\n"
   ]
  },
  {
   "cell_type": "markdown",
   "id": "158ea5bf-e7e7-41be-af3f-98d4f0d460a8",
   "metadata": {},
   "source": [
    "** В этом примере, цикл while используется для поочередного добавления чисел от 1 до 10 к переменной sum, что позволяет вычислить и вывести сумму этих чисел.\n",
    "\n"
   ]
  },
  {
   "cell_type": "code",
   "execution_count": null,
   "id": "7db0c815-6faa-4f78-9f2f-4b3102f704c4",
   "metadata": {},
   "outputs": [],
   "source": [
    "# Пример 3: Вычисление суммы натуральных чисел от 1 до 10 с использованием цикла while:\n",
    "\n",
    "# Считывание количества слагаемых:\n",
    "n = input(\"Укажите количество слагаемых:\")\n",
    "\n",
    "# Переменная с текмтовым значением:\n",
    "txt = \"1\"\n",
    "\n",
    "# Индексная переменная:\n",
    "k = 1\n",
    "\n",
    "# оператор цикла для формирования текста с выражением для суммы натуральных чисел\n",
    "while str(k)!=n :\n",
    "    k = k + 1    \n",
    "    txt = txt + '+' + str(k)  # txt=\"1+2+3+4+5\"\n",
    "print(txt, '=', eval(txt))    # 1+2+3+4+5 = 15\n",
    "\n",
    "txt2=\"7+8+9+0\"\n",
    "eval(txt2)  #24\n"
   ]
  },
  {
   "cell_type": "markdown",
   "id": "c23a3c06-132b-4352-bd61-2f82b09e79ea",
   "metadata": {},
   "source": [
    "  "
   ]
  },
  {
   "cell_type": "markdown",
   "id": "25e0e374-c9c5-405d-81cd-7514a723ec33",
   "metadata": {},
   "source": [
    "> **Функция eval()** "
   ]
  },
  {
   "cell_type": "markdown",
   "id": "8b509648-5b5a-48ac-abc0-2efc1c7abb77",
   "metadata": {},
   "source": [
    "В Python функция **eval()** используется для выполнения переданной ей строковой команды или выражения как код Python. \n",
    "\n",
    "Она принимает строку как аргумент, а затем интерпретирует и выполняет эту строку как Python-код. Результат выполнения выражения возвращается функцией."
   ]
  },
  {
   "cell_type": "markdown",
   "id": "2273b602-7eb3-4082-8a31-db3d080ac350",
   "metadata": {},
   "source": [
    "**Синтаксис eval():**\n",
    "\n",
    "result = eval(expression)\n",
    "\n",
    "Здесь expression - это строка с выражением или командой Python, которую вы хотите выполнить. result будет содержать результат выполнения выражения.\n"
   ]
  },
  {
   "cell_type": "code",
   "execution_count": null,
   "id": "fdf432bb-8e4f-4bf5-a618-45f983640342",
   "metadata": {},
   "outputs": [],
   "source": [
    "# Пример 1\n",
    "\n",
    "x = 10\n",
    "result = eval(\"x + 5\")\n",
    "print(result)\n"
   ]
  },
  {
   "cell_type": "code",
   "execution_count": null,
   "id": "09604a42-6faf-4ab4-bb09-a139bc215889",
   "metadata": {},
   "outputs": [],
   "source": [
    "# Пример 2 Вычисление математического выражения:\n",
    "\n",
    "expression = \"3 * (4 + 2)\"\n",
    "result = eval(expression)\n",
    "print(result)\n"
   ]
  },
  {
   "cell_type": "code",
   "execution_count": null,
   "id": "0e797cd0-ccdd-4e48-8843-d6c63a65ee0f",
   "metadata": {},
   "outputs": [],
   "source": [
    "# Пример 3 Работа со списками:\n",
    "\n",
    "my_list = [1, 2, 3, 4, 5]\n",
    "index = 2\n",
    "element = eval(\"my_list[\" + str(index) + \"]\")\n",
    "print(element)\n"
   ]
  },
  {
   "cell_type": "markdown",
   "id": "62a4b8de-cedc-4c66-8445-d85fbe7b653f",
   "metadata": {},
   "source": [
    "*** Хотя eval() может быть полезной для выполнения динамически созданных выражений, следует использовать эту функцию осторожно, так как она может представлять потенциальную уязвимость безопасности. Неправильное использование eval() может привести к выполнению произвольного кода или коду, который может нанести вред вашей программе. Вместо eval() в большинстве случаев предпочтительнее использовать более безопасные способы выполнения выражений, такие как функции int(), float() и другие, в зависимости от конкретных требований."
   ]
  },
  {
   "cell_type": "markdown",
   "id": "3607611a-30f5-45ad-b993-d6c946ef0e82",
   "metadata": {},
   "source": [
    "   "
   ]
  },
  {
   "cell_type": "markdown",
   "id": "4520a763-f2ce-4b0d-bb1d-d44ea2c0f2f6",
   "metadata": {},
   "source": [
    "> **BREAK** и **CONTINUE**"
   ]
  },
  {
   "cell_type": "markdown",
   "id": "c102c35b-78ab-4c47-babf-2a096f70d254",
   "metadata": {},
   "source": [
    "  **break** и **continue** - это ключевые слова в Python, которые используются для управления выполнением циклов (**for** и **while**) и изменения их поведения.\n",
    "\n",
    "  Использование **break** и **continue** может значительно улучшить управление выполнением циклов, позволяя вам точно контролировать, когда прервать или пропустить итерации в цикле, в зависимости от вашей логики программы.\n",
    "  "
   ]
  },
  {
   "cell_type": "markdown",
   "id": "250b9e40-ec95-4ddf-a657-6f02bbff9984",
   "metadata": {},
   "source": [
    "* **break:**\n"
   ]
  },
  {
   "cell_type": "markdown",
   "id": "7231db6f-ae7e-4cda-bec8-a6d692f01a28",
   "metadata": {},
   "source": [
    "Когда вы используете **break** внутри цикла, выполнение цикла немедленно прекращается, даже если условие цикла все еще истинно. Это полезно, когда вы хотите завершить цикл, как только выполнено определенное условие."
   ]
  },
  {
   "cell_type": "code",
   "execution_count": null,
   "id": "7cf0bba1-5767-4fd6-bc09-7d1f324362ad",
   "metadata": {},
   "outputs": [],
   "source": [
    "# Пример 1:\n",
    "\n",
    "num = 1\n",
    "while num <= 10:\n",
    "    if num == 5:\n",
    "        break  # Прекратить выполнение цикла, если num равно 5\n",
    "    print(num)\n",
    "    num += 1\n"
   ]
  },
  {
   "cell_type": "markdown",
   "id": "0b497e61-3cf9-41c8-84ca-876ef3214e46",
   "metadata": {},
   "source": [
    "    "
   ]
  },
  {
   "cell_type": "markdown",
   "id": "55ee621b-b7b8-4870-adb0-b99a11f1f3be",
   "metadata": {},
   "source": [
    "* **continue:**"
   ]
  },
  {
   "cell_type": "markdown",
   "id": "d8cba339-a317-4f38-b856-5d96bc5c9653",
   "metadata": {},
   "source": [
    "Когда вы используете **continue** внутри цикла, текущая итерация цикла завершается, и управление переходит к следующей итерации. Таким образом, код, который идет после **continue** внутри цикла, пропускается для текущей итерации."
   ]
  },
  {
   "cell_type": "code",
   "execution_count": null,
   "id": "d6073729-17ae-4210-98a8-2de73d2f46d9",
   "metadata": {},
   "outputs": [],
   "source": [
    "# Пример 2:\n",
    "\n",
    "num = 1\n",
    "while num <= 5:\n",
    "    if num == 3:\n",
    "        num += 1\n",
    "        continue  # Пропустить вывод числа 3\n",
    "    print(num)\n",
    "    num += 1\n",
    "\n"
   ]
  },
  {
   "cell_type": "markdown",
   "id": "814d1a76-e208-47f6-ac22-9bde2f27d0c2",
   "metadata": {},
   "source": [
    "  "
   ]
  },
  {
   "cell_type": "markdown",
   "id": "197698f1-7406-4ba6-be5b-c5bca8cbfbd0",
   "metadata": {},
   "source": [
    "  "
   ]
  },
  {
   "cell_type": "markdown",
   "id": "1b266cb4-335a-4355-929f-5d56271d5fe4",
   "metadata": {},
   "source": [
    "  "
   ]
  },
  {
   "cell_type": "markdown",
   "id": "5ec5a44d-12ef-470f-afb9-f37c2dcb632b",
   "metadata": {},
   "source": [
    "   "
   ]
  },
  {
   "cell_type": "markdown",
   "id": "60bc8d04-2f86-40df-891f-fd14c7dc90de",
   "metadata": {},
   "source": [
    "# **4. ФУНКЦИИ**\n",
    "--------------------"
   ]
  },
  {
   "cell_type": "markdown",
   "id": "3ab3e13c-6705-4d06-b34e-32b62fbe36a6",
   "metadata": {},
   "source": [
    "**Функция** в Python - это именованный блок кода, который может принимать аргументы (параметры) и выполнять определенные действия. \n",
    "\n",
    "* Функции позволяют организовывать код в модули, делать его более структурированным и упрощать повторное использование.\n",
    "  \n",
    "\n",
    "**Синтаксис функции:**\n",
    "\n",
    "**def** имя-функции **(** *аргументы* **):**\n",
    "\n",
    "\n",
    "\n",
    ">1. **Определение функции:** Для создания функции используется ключевое слово **def**, за которым следует **имя функции** и скобки с возможными **параметрами**. После определения функции следует блок кода, который описывает, что функция должна делать.\n",
    ">2. **Параметры функции:** Параметры - это переменные, которые вы передаете функции при её вызове. Они определяются в скобках при определении функции.\n",
    ">3. **Вызов функции:** Для выполнения кода функции и передачи аргументов используется вызов функции по её имени, с передачей аргументов в скобках.\n"
   ]
  },
  {
   "cell_type": "code",
   "execution_count": 3,
   "id": "9b7c09a6-36be-475d-8803-3fcec907c8dd",
   "metadata": {},
   "outputs": [
    {
     "name": "stdout",
     "output_type": "stream",
     "text": [
      "Привет, Анна\n"
     ]
    }
   ],
   "source": [
    "# Пример определения и вызова функции:\n",
    "\n",
    "def приветствие(имя):\n",
    "    print(\"Привет,\", имя)\n",
    "\n",
    "имя_пользователя = \"Анна\"\n",
    "приветствие(имя_пользователя)\n"
   ]
  },
  {
   "cell_type": "markdown",
   "id": "6969553d-9271-4874-aa15-e201998ebea3",
   "metadata": {},
   "source": [
    "*** *В этом примере, функция приветствие принимает один параметр имя, и при вызове с аргументом \"Анна\" будет выведено \"Привет, Анна\".*\n",
    "\n"
   ]
  },
  {
   "cell_type": "markdown",
   "id": "730770ab-c61b-44f2-99cf-6eece54221ad",
   "metadata": {},
   "source": [
    "   "
   ]
  },
  {
   "cell_type": "code",
   "execution_count": 5,
   "id": "ca58663d-af36-45dd-b21c-370b1dbf7458",
   "metadata": {},
   "outputs": [
    {
     "name": "stdout",
     "output_type": "stream",
     "text": [
      "hello-hello!!!\n"
     ]
    }
   ],
   "source": [
    "# Пример вызова функции:\n",
    "\n",
    "def hello():\n",
    "    print(\"hello-hello!!!\")\n",
    "\n",
    "hello()     # вызов функции\n"
   ]
  },
  {
   "cell_type": "markdown",
   "id": "3d09c41a-3a59-4a8e-b282-a0f89940eb1b",
   "metadata": {},
   "source": [
    "   "
   ]
  },
  {
   "cell_type": "code",
   "execution_count": 1,
   "id": "74e8f5dd-5018-462e-a2d4-96dfc6494f23",
   "metadata": {},
   "outputs": [
    {
     "name": "stdout",
     "output_type": "stream",
     "text": [
      "['P', 'h', 'n', 'o', 't', 'y']\n"
     ]
    }
   ],
   "source": [
    " # Пример использования функции для отображения букв из переданного аргументом текста:\n",
    "\n",
    "def show(txt):\n",
    "    # преобразование текста в список символов и его сортировка\n",
    "    txt_chars = list(txt)\n",
    "    symbs = sorted(txt_chars)\n",
    "    print(symbs)\n",
    "\n",
    "# вызов функции\n",
    "show(\"Python\")"
   ]
  },
  {
   "cell_type": "code",
   "execution_count": 3,
   "id": "b3383738-3d56-40fb-9ca8-0d5cc82036ba",
   "metadata": {},
   "outputs": [
    {
     "name": "stdin",
     "output_type": "stream",
     "text": [
      "x:  12\n",
      "y:  13\n"
     ]
    },
    {
     "name": "stdout",
     "output_type": "stream",
     "text": [
      "37\n",
      "19\n",
      "31\n"
     ]
    }
   ],
   "source": [
    "# Пример 2\n",
    "\n",
    "x = int(input(\"x: \")) # приводим строку к целочисленному значению\n",
    "y = int(input(\"y: \"))\n",
    "\n",
    "\n",
    "def sum(a,b):\n",
    "    return 2*a + b\n",
    "\n",
    "print(sum(x,y)) \n",
    "print(sum(3,y))  \n",
    "print(sum(x,7))"
   ]
  },
  {
   "cell_type": "code",
   "execution_count": 2,
   "id": "f280b67d-07c7-486a-bb35-5dc0809c6956",
   "metadata": {},
   "outputs": [
    {
     "name": "stdout",
     "output_type": "stream",
     "text": [
      "45\n"
     ]
    }
   ],
   "source": [
    "# Пример 3\n",
    "\n",
    "a = 45\n",
    "b = 5\n",
    "def fun():\n",
    "   a = a + b\n",
    "print (a)\n"
   ]
  },
  {
   "cell_type": "code",
   "execution_count": 4,
   "id": "e0f90465-4582-442b-9360-5e7beedbe389",
   "metadata": {},
   "outputs": [
    {
     "data": {
      "text/plain": [
       "11"
      ]
     },
     "execution_count": 4,
     "metadata": {},
     "output_type": "execute_result"
    }
   ],
   "source": [
    "# Пример 4\n",
    "\n",
    "x = 4\n",
    "y = 2\n",
    "def f1(a = 4, b = 7):\n",
    "    c = a + b\n",
    "    return c\n",
    "f1()\n"
   ]
  },
  {
   "cell_type": "code",
   "execution_count": 5,
   "id": "ce128299-f7e3-4f4c-98eb-2059e44f55c8",
   "metadata": {},
   "outputs": [
    {
     "data": {
      "text/plain": [
       "22"
      ]
     },
     "execution_count": 5,
     "metadata": {},
     "output_type": "execute_result"
    }
   ],
   "source": [
    "# Пример 5\n",
    "\n",
    "a = 1\n",
    "b = 2\n",
    "def f2( a = 8 , b = 7):   \n",
    "    c = a + b\n",
    "    return c\n",
    "f2(15)   #значение 15 присваивается первому параметру a\n"
   ]
  },
  {
   "cell_type": "code",
   "execution_count": 6,
   "id": "f7d709a8-8534-442a-b180-adf6b85584c2",
   "metadata": {},
   "outputs": [
    {
     "name": "stdout",
     "output_type": "stream",
     "text": [
      "15\n"
     ]
    }
   ],
   "source": [
    "print(f2())"
   ]
  },
  {
   "cell_type": "code",
   "execution_count": 1,
   "id": "4ce18e76-74fe-4d76-ae1a-e2288a840f92",
   "metadata": {},
   "outputs": [
    {
     "name": "stdout",
     "output_type": "stream",
     "text": [
      "сумма квадратов чисел от 1 до 10: 385\n"
     ]
    }
   ],
   "source": [
    "# Пример 6 Создание списка из квадратов натуральных чисел\n",
    "\n",
    "def sqsum(n):\n",
    "    # создаем список состоящий из квадратов чисел от 1 до n(аргумент функции) включительно, используя генератор списков: значение элементов\n",
    "    # списка вычисляется выражением k*k, и при этом переменная k последовательно принимает значения от 1 до n :\n",
    "    nums = [k*k for k in range(1, n+1)] \n",
    "\n",
    "    return sum(nums)\n",
    "\n",
    "m = 10  # переменная с числовым значением\n",
    "\n",
    "# вызов функции для вычичсления\n",
    "print(\"сумма квадратов чисел от 1 до\", str(m)+':',sqsum(m))\n",
    "\n"
   ]
  },
  {
   "cell_type": "markdown",
   "id": "a18e64fd-61b6-446a-a5ed-e98d7ce0bc97",
   "metadata": {},
   "source": [
    ">**Переменные**, которые находятся в теле функции, включая аргумент или аргументы функции, доступны или имеют область видимости только в теле функции и называются **локальными переменными**. \n",
    "\n"
   ]
  },
  {
   "cell_type": "markdown",
   "id": "ed17ff36-8bd8-4b7d-bb17-a2c3a2949f70",
   "metadata": {},
   "source": [
    ">В этом примере диапазон изменения переменной k определяется выражением range(1,n+1). Следует помнить, что это объект итерируемого типа, через который реализуется последовательность чисел от 1 до n."
   ]
  },
  {
   "cell_type": "markdown",
   "id": "dfd760c2-3b66-41ec-b1c8-2fe49d6a84f4",
   "metadata": {},
   "source": [
    ">Мы использовали встроенную функцию sum(), которая позволяет нам вычислить сумму значений элементов списка, переданного аргументом функции."
   ]
  },
  {
   "cell_type": "markdown",
   "id": "71adc38b-e5ef-4b6a-b280-ae2c1b2d17b5",
   "metadata": {},
   "source": [
    "    "
   ]
  },
  {
   "cell_type": "markdown",
   "id": "5d718643-a3b1-46ea-b7db-5ebbb61b36ea",
   "metadata": {},
   "source": [
    "  "
   ]
  },
  {
   "cell_type": "markdown",
   "id": "0def917f-d0f8-4383-b298-b8a7a2998439",
   "metadata": {},
   "source": [
    "  "
   ]
  },
  {
   "cell_type": "markdown",
   "id": "b9784b31-2ca1-40d7-8708-7a1710e848a7",
   "metadata": {},
   "source": [
    "  "
   ]
  },
  {
   "cell_type": "markdown",
   "id": "b663c1e1-aac5-44c9-880e-fe0d33785d0e",
   "metadata": {},
   "source": [
    "## Типы функций в Python\n",
    "\n",
    "&nbsp;\n",
    "\n",
    "В Python есть много видов функций. И каждый из них по-своему очень важен:\n",
    "\n",
    "* **встроенные функции**\n",
    "  \n",
    "* **рекурсивные функции**\n",
    "  \n",
    "* **лямбда-функции**\n",
    "  \n",
    "* **пользовательские функции**\n",
    "\n",
    "Рассмотрим подробно эти функции, начиная со встроенных, поскольку их очень легко понять и реализовать."
   ]
  },
  {
   "cell_type": "markdown",
   "id": "02b49c07-6b05-4083-bf4c-c1c60f2a564b",
   "metadata": {},
   "source": [
    "  "
   ]
  },
  {
   "cell_type": "markdown",
   "id": "1cfa22e9-f273-411f-97b4-df32f161d314",
   "metadata": {},
   "source": [
    "## 1) **Встроенные функции Python**\n",
    "\n",
    "Интерпретатор Python имеет ряд функций, которые всегда доступны для использования. Эти функции называются встроенными.\n",
    "\n",
    "Например, функция print() выводит указанный объект на стандартное устройство вывода (экран) или в файл текстового потока.\n",
    "\n"
   ]
  },
  {
   "cell_type": "markdown",
   "id": "c77cfaa7-a960-4642-ba25-bc75c59298e9",
   "metadata": {},
   "source": [
    "Рассмотрим несколько наиболее часто используемые\n",
    "\n",
    "**Функция all()**\n",
    "\n",
    "Метод all() возвращает True, если все элементы в данном итерируемом объекте истинны. В противном случае возвращается False.\n",
    "\n",
    "*Синтаксис метода all():*"
   ]
  },
  {
   "cell_type": "raw",
   "id": "10bbe2ac-dd85-46fc-9497-a18440a2a577",
   "metadata": {},
   "source": [
    "all(iterable)"
   ]
  },
  {
   "cell_type": "markdown",
   "id": "c054dc76-a88f-4a7d-8d67-7ad3488070cb",
   "metadata": {},
   "source": [
    "Метод all() принимает единственный параметр — iterable. Это любой итерируемый объект (список, кортеж, словарь и т.д.), который содержит элементы."
   ]
  },
  {
   "cell_type": "code",
   "execution_count": 7,
   "id": "f5e3fdd2-a4e3-4bcc-8e19-d244cf008714",
   "metadata": {},
   "outputs": [
    {
     "name": "stdout",
     "output_type": "stream",
     "text": [
      "True\n",
      "False\n",
      "False\n",
      "False\n",
      "True\n"
     ]
    }
   ],
   "source": [
    "# Примеры:\n",
    "\n",
    "# all values true\n",
    "l = [1, 3, 4, 5]\n",
    "print(all(l))\n",
    " \n",
    "# all values false\n",
    "l = [0, False]\n",
    "print(all(l))\n",
    " \n",
    "# one false value\n",
    "l = [1, 3, 4, 0]\n",
    "print(all(l))\n",
    " \n",
    "# one true value\n",
    "l = [0, False, 5]\n",
    "print(all(l))\n",
    " \n",
    "# empty iterable\n",
    "l = []\n",
    "print(all(l))\n",
    "\n",
    "# Output:\n",
    "# True\n",
    "# False\n",
    "# False\n",
    "# False\n",
    "# True"
   ]
  },
  {
   "cell_type": "markdown",
   "id": "89e75a52-5b39-4e25-8d07-a6691355c3e5",
   "metadata": {},
   "source": [
    "  "
   ]
  },
  {
   "cell_type": "markdown",
   "id": "e1efdbf5-c9c1-4765-b7a7-18ab0d5a32cd",
   "metadata": {},
   "source": [
    "**Функция abs()**\n",
    "\n",
    "Метод *abs()* возвращает абсолютное значение заданного числа. Если число является комплексным, *abs()* возвращает его величину.\n",
    "\n",
    "*Синтаксис метода abs():*"
   ]
  },
  {
   "cell_type": "raw",
   "id": "86b85d47-501f-4784-bafe-6e9d551fe2fc",
   "metadata": {},
   "source": [
    "abs(num)"
   ]
  },
  {
   "cell_type": "markdown",
   "id": "736576e2-0364-4d8c-98b7-d63ae121af02",
   "metadata": {},
   "source": [
    "Метод *abs()* принимает единственный аргумент — *num*. Это число, абсолютное значение которого должно быть возвращено. Число может быть целым, с плавающей точкой или комплексным."
   ]
  },
  {
   "cell_type": "code",
   "execution_count": 8,
   "id": "6e969d53-92b5-4de5-9d0f-b1b47d566d4e",
   "metadata": {},
   "outputs": [
    {
     "name": "stdout",
     "output_type": "stream",
     "text": [
      "Absolute value of -20 is: 20\n",
      "Absolute value of -30.33 is: 30.33\n"
     ]
    }
   ],
   "source": [
    "# Пример\n",
    "\n",
    "# random integer\n",
    "integer = -20\n",
    "print('Absolute value of -20 is:', abs(integer))\n",
    " \n",
    "#random floating number\n",
    "floating = -30.33\n",
    "print('Absolute value of -30.33 is:', abs(floating))\n",
    "\n",
    "# Output:\n",
    "# Absolute value of -20 is: 20 Absolute value of -30.33 is: 30.33"
   ]
  },
  {
   "cell_type": "markdown",
   "id": "49a74f39-4e61-4ce6-b304-e605139cc418",
   "metadata": {},
   "source": [
    "   "
   ]
  },
  {
   "cell_type": "markdown",
   "id": "08948f89-446d-4124-891b-ded7e954f552",
   "metadata": {},
   "source": [
    "**Функция enumerate()**\n",
    "\n",
    "Метод *enumerate()* добавляет счетчик к итерируемому объекту и возвращает индексы элементов с их значениями.\n",
    "\n",
    "*Синтаксис:*\n",
    "```\n",
    "enumerate(iterable, start = 0)\n",
    "```\n",
    "\n",
    "Метод **enumerate()** принимает два параметра:\n",
    "\n",
    "* iterable – последовательность, итератор или объекты, поддерживающие итерацию.\n",
    "* start (необязательный) – enumerate() начинает отсчет с этого числа. Если start опущен, за начало принимается 0.\n"
   ]
  },
  {
   "cell_type": "code",
   "execution_count": 9,
   "id": "f73ceb27-91d2-42af-a914-7e8e8e4f8247",
   "metadata": {},
   "outputs": [
    {
     "name": "stdout",
     "output_type": "stream",
     "text": [
      "<class 'enumerate'>\n",
      "[(0, 'bread'), (1, 'milk'), (2, 'butter')]\n",
      "[(10, 'bread'), (11, 'milk'), (12, 'butter')]\n"
     ]
    }
   ],
   "source": [
    "# Примеры\n",
    "\n",
    "grocery = ['bread', 'milk', 'butter']\n",
    "enumerateGrocery = enumerate(grocery)\n",
    " \n",
    "print(type(enumerateGrocery))\n",
    " \n",
    "# converting to list\n",
    "print(list(enumerateGrocery))\n",
    " \n",
    "# changing the default counter\n",
    "enumerateGrocery = enumerate(grocery, 10)\n",
    "print(list(enumerateGrocery))\n",
    "\n",
    "# Output\n",
    "# <class 'enumerate'>\n",
    "# [(0, 'bread'), (1, 'milk'), (2, 'butter')]\n",
    "# [(10, 'bread'), (11, 'milk'), (12, 'butter')]"
   ]
  },
  {
   "cell_type": "markdown",
   "id": "ebc4b83a-81de-4d10-8faf-88365c38804f",
   "metadata": {},
   "source": [
    "   "
   ]
  },
  {
   "cell_type": "markdown",
   "id": "8f6e353f-1fab-4ec8-be2d-0d6afc4d7948",
   "metadata": {},
   "source": [
    "Также существует множество других встроенных функций, например:\n",
    "\n",
    "ascii() — для вывода символов, отличных от ASCII\n",
    "\n",
    "bin() — для бинарного представления числа\n",
    "\n",
    "dict() — чтобы создать словарь\n",
    "\n",
    "sum() — для вычисления суммы\n",
    "\n",
    "help() — для вызова справочника Python\n",
    "\n",
    "len() — чтобы определить длину итерируемого объекта\n",
    "\n",
    "max() — поиск максимального значения\n",
    "\n",
    "min() — поиск минимального значения\n",
    "\n",
    "pow() — чтобы возвести число в степень.\n"
   ]
  },
  {
   "cell_type": "code",
   "execution_count": null,
   "id": "1754b95c-c1ee-4549-90e5-b787f10910df",
   "metadata": {},
   "outputs": [],
   "source": []
  },
  {
   "cell_type": "code",
   "execution_count": null,
   "id": "3564b9d4-6154-4a56-b789-6f1e5c915cbf",
   "metadata": {},
   "outputs": [],
   "source": []
  },
  {
   "cell_type": "markdown",
   "id": "5422f8b8-0cee-4f3f-987d-bdae435a44a7",
   "metadata": {},
   "source": [
    "## Оператор **return**"
   ]
  },
  {
   "cell_type": "markdown",
   "id": "a96cd083-6b4c-4f21-95f1-c71d40b196f6",
   "metadata": {},
   "source": [
    "\n",
    "\n",
    ">Ключевое слово **return** в Python используется внутри функций для **возврата** значения **обратно в вызывающую программу**. Это позволяет функции не только выполнять определенные операции, но и предоставлять результат своей работы для дальнейшего использования."
   ]
  },
  {
   "cell_type": "markdown",
   "id": "46ed0ac6-04ed-48ba-9356-18471963fdd2",
   "metadata": {},
   "source": [
    ">инструкция **return** может использоваться и в функции, которая не возвращает значение, в этом случае после инструкции **return** никакое значение не указывается, а ее выполнение просто приводит к завершению выполнения кода функции. "
   ]
  },
  {
   "cell_type": "markdown",
   "id": "bf82668f-9a05-459e-9f45-d0f255646ff3",
   "metadata": {},
   "source": [
    ">Выполнение инструкции **return** в теле функции приводит к завершению выполнения кода функции, поэтому, **НО НЕ ВСЕГДА**, команда **return** является последней. "
   ]
  },
  {
   "cell_type": "markdown",
   "id": "f59bc956-b289-47f3-b66a-f32625fbf2f9",
   "metadata": {},
   "source": [
    "**Синтаксис return:**\n",
    "\n",
    "```\n",
    "def имя_функции(параметры):\n",
    "    # блок кода функции\n",
    "    return значение\n",
    "```\n",
    "\n",
    "*** Здесь **значение** - это то значение, которое функция будет **возвращать.** \n",
    "\n",
    "> Важно отметить, что после выполнения оператора **return**, выполнение функции немедленно завершается, и управление возвращается в вызывающую часть программы.\n"
   ]
  },
  {
   "cell_type": "code",
   "execution_count": 4,
   "id": "aa673482-5627-473e-8520-ed5f9ead2529",
   "metadata": {},
   "outputs": [
    {
     "name": "stdout",
     "output_type": "stream",
     "text": [
      "25\n"
     ]
    }
   ],
   "source": [
    "# Пример\n",
    "\n",
    "def square(x):\n",
    "    return x * x\n",
    "\n",
    "result = square(5)\n",
    "print(result)  # Вывод: 25"
   ]
  },
  {
   "cell_type": "markdown",
   "id": "898b82b5-3c19-4a9b-9e80-fb601c17e78c",
   "metadata": {},
   "source": [
    "*** В этом примере функция квадрат принимает один аргумент x, вычисляет квадрат этого числа и возвращает результат. Затем возвращенное значение присваивается переменной результат, и мы выводим его на экран.\n",
    "\n"
   ]
  },
  {
   "cell_type": "markdown",
   "id": "abb7f410-2a97-4d3a-ada1-9dedddb111b5",
   "metadata": {},
   "source": [
    "   "
   ]
  },
  {
   "cell_type": "code",
   "execution_count": 5,
   "id": "05a934b0-9904-4840-9143-9a9be4cf53cd",
   "metadata": {},
   "outputs": [
    {
     "name": "stdout",
     "output_type": "stream",
     "text": [
      "[1, 2, 3, 4, 5]\n"
     ]
    }
   ],
   "source": [
    "# Пример возвращения списка из функции:\n",
    "\n",
    "def create_list():\n",
    "    return [1, 2, 3, 4, 5]\n",
    "\n",
    "list = create_list()\n",
    "print(list)  # Вывод: [1, 2, 3, 4, 5]"
   ]
  },
  {
   "cell_type": "markdown",
   "id": "cbd94b23-6689-42a9-9c8e-48c487719ed6",
   "metadata": {},
   "source": [
    ">**return** может быть использовано для возврата любого типа данных: числа, строк, списков, объектов и т.д.\n",
    ">\n",
    ">Использование **return** позволяет функциям становиться более гибкими, так как они могут производить результаты, которые могут быть использованы в различных частях программы."
   ]
  },
  {
   "cell_type": "markdown",
   "id": "d04bdf22-71cd-4d25-a0d8-4e6e2ebc7823",
   "metadata": {},
   "source": [
    "   "
   ]
  },
  {
   "cell_type": "markdown",
   "id": "03dc607d-15df-4513-ad03-67c7a041caba",
   "metadata": {},
   "source": [
    "   "
   ]
  },
  {
   "cell_type": "markdown",
   "id": "cb587cd3-da6a-4dd5-a53f-60c20f66c2fc",
   "metadata": {},
   "source": [
    "## **Параметры (Parameters) и Аргументы (Arguments)** функций "
   ]
  },
  {
   "cell_type": "markdown",
   "id": "b7a35eae-32f9-4855-a624-9878eb4b737e",
   "metadata": {},
   "source": [
    "Термины **\"параметры\"** и **\"аргументы\"** часто используются в контексте функций в программировании и имеют разные значения:"
   ]
  },
  {
   "cell_type": "markdown",
   "id": "e99e3e87-3d74-40eb-b7a3-6a6d1309a63f",
   "metadata": {},
   "source": [
    "1. **Параметры (Parameters):** Параметры - это именованные переменные, которые объявляются в сигнатуре (определении) функции. Они служат как **плейсхолдеры** или места, куда будут передаваться значения во время вызова функции. Параметры определяются в определении функции и указывают, какие значения она ожидает получить."
   ]
  },
  {
   "cell_type": "code",
   "execution_count": 21,
   "id": "616de837-3d27-420b-8b7e-7e34be304197",
   "metadata": {},
   "outputs": [
    {
     "name": "stdout",
     "output_type": "stream",
     "text": [
      "Привет, Sierge Тебе 33 лет!\n"
     ]
    }
   ],
   "source": [
    "# Пример объявления функции с параметрами:\n",
    "\n",
    "def hello(name, age):   # В этом месте,в сигнатуре функции, name и age - это параметры функции hello.\n",
    "    print(\"Привет,\", name, \"Тебе\", age, \"лет!\")\n",
    "\n",
    "    \n",
    "hello('Sierge', 33)   # тут вызываем функцию и передаем уже аргументы 'Sierge' и 33"
   ]
  },
  {
   "cell_type": "markdown",
   "id": "c15fbf67-20e3-4d60-ae7c-643a2b66426c",
   "metadata": {},
   "source": [
    "2. **Аргументы (Arguments):** Аргументы - это фактические значения, которые передаются в функцию при её вызове. Они подставляются вместо параметров функции во время выполнения. Каждый аргумент соответствует параметру по позиции: первый аргумент передается первому параметру, второй аргумент - второму параметру, и так далее."
   ]
  },
  {
   "cell_type": "code",
   "execution_count": 19,
   "id": "0ebceccf-21d4-4423-a86e-b98a59b720c8",
   "metadata": {},
   "outputs": [
    {
     "name": "stdout",
     "output_type": "stream",
     "text": [
      "Привет, Анна Тебе 25 лет!\n"
     ]
    }
   ],
   "source": [
    "# Пример вызова функции с аргументами:\n",
    "\n",
    "hello(\"Анна\", 25)\n"
   ]
  },
  {
   "cell_type": "markdown",
   "id": "e8bf451a-89c5-4656-922e-f25ced9a9fcc",
   "metadata": {},
   "source": [
    "> Итак,**параметры** определяются при создании функции и ожидают значения, а **аргументы** - это фактически передаваемые значения при вызове функции."
   ]
  },
  {
   "cell_type": "markdown",
   "id": "b6f6309d-d3fa-4012-b0f8-7b4fe9c8d326",
   "metadata": {},
   "source": [
    "   "
   ]
  },
  {
   "cell_type": "markdown",
   "id": "56d29136-0811-4381-a3aa-14ad2c0132c0",
   "metadata": {},
   "source": [
    "## **{} Плейсхолдеры (Placeholders)** "
   ]
  },
  {
   "cell_type": "markdown",
   "id": "14537603-9bd4-4acf-84d7-5df33bd4439e",
   "metadata": {},
   "source": [
    ">**Плейсхолдер** - это временное или символическое значение, которое используется в программировании для указания места, где будет подставлено конкретное значение или данные в дальнейшем. Он действует как заполнитель, пока реальные данные не будут доступны или введены.\n",
    ">**Плейсхолдеры** помогают сделать код более гибким и удобочитаемым, позволяя описать общую структуру или место для данных, которые будут вставлены позже."
   ]
  },
  {
   "cell_type": "markdown",
   "id": "ae47e448-ad20-4642-b1dc-ece0c1851dfe",
   "metadata": {},
   "source": [
    "\n",
    "**Плейсхолдеры {} часто используются в различных контекстах:**\n",
    "\n",
    "1. **Строковые форматы:** В строках, форматах или шаблонах можно использовать плейсхолдеры, которые будут заменены на конкретные значения при форматировании строки."
   ]
  },
  {
   "cell_type": "code",
   "execution_count": 24,
   "id": "386daf4f-427a-445b-88a4-835584ceb844",
   "metadata": {},
   "outputs": [
    {
     "name": "stdout",
     "output_type": "stream",
     "text": [
      "Привет, Анна! Тебе 25 лет.\n"
     ]
    }
   ],
   "source": [
    "# Пример с использованием плейсхолдера в строковом формате:\n",
    "\n",
    "name = \"Анна\"\n",
    "age = 25\n",
    "message = \"Привет, {}! Тебе {} лет.\".format(name, age)\n",
    "\n",
    "print(message)"
   ]
  },
  {
   "cell_type": "markdown",
   "id": "46fe7e4b-3fcd-4122-bb54-2a4b095b83b7",
   "metadata": {},
   "source": [
    "В этом примере **{} - это плейсхолдеры**, которые будут заменены значениями переменных имя и возраст при форматировании строки."
   ]
  },
  {
   "cell_type": "markdown",
   "id": "19c90c8c-0f99-427f-9fd9-89919144b6de",
   "metadata": {},
   "source": [
    "2. **Функции:** Когда вы определяете функцию, параметры могут служить плейсхолдерами для будущих аргументов, которые будут переданы функции при её вызове."
   ]
  },
  {
   "cell_type": "code",
   "execution_count": 26,
   "id": "1144e3d4-6c1c-4225-88e9-97020dd36bc2",
   "metadata": {},
   "outputs": [
    {
     "name": "stdout",
     "output_type": "stream",
     "text": [
      "Привет, Анна! Тебе 25 лет.\n"
     ]
    }
   ],
   "source": [
    "# Пример функции с плейсхолдерами в параметрах:\n",
    "\n",
    "def hello(name, age):\n",
    "    print(\"Привет, {}! Тебе {} лет.\".format(name, age))\n",
    "\n",
    "name_user = \"Анна\"\n",
    "age_user = 25\n",
    "hello(name_user, age_user)"
   ]
  },
  {
   "cell_type": "markdown",
   "id": "d81d9120-1f9b-4ada-9f37-caa4bd6372c1",
   "metadata": {},
   "source": [
    "В этом примере параметры **name** и **age** функции **hello()** действуют как **плейсхолдеры**, которые будут заменены аргументами при вызове функции.\n",
    "\n"
   ]
  },
  {
   "cell_type": "markdown",
   "id": "bc1117df-96bc-44f2-9fd1-265f5926343c",
   "metadata": {},
   "source": [
    "   "
   ]
  },
  {
   "cell_type": "markdown",
   "id": "d4ebddc6-f344-4519-a4f2-b21de0829775",
   "metadata": {},
   "source": [
    "   "
   ]
  },
  {
   "cell_type": "markdown",
   "id": "6697c398-97df-4928-8f5b-5dbf2dbc1330",
   "metadata": {},
   "source": [
    "## 2) Рекурсивные функции в Python"
   ]
  },
  {
   "cell_type": "markdown",
   "id": "373077cb-ec78-44ce-8b33-fcc338c38b9f",
   "metadata": {},
   "source": [
    "\n",
    "**Рекурсивная функция** в Python - это функция, которая вызывает сама себя внутри своего кода. \n",
    "\n",
    "Рекурсия является мощным инструментом программирования и может быть использована для решения различных задач. Однако её следует использовать осторожно, так как неправильно организованная рекурсия может привести к **бесконечному** выполнению программы *(бесконечной рекурсии)*, что приведет к ошибке *\"RecursionError\"*.\n",
    "\n",
    "Примером рекурсии в физическом мире может быть размещение двух параллельных зеркал, обращенных друг к другу. Любой объект между ними будет отражаться рекурсивно.\n",
    "\n",
    "Мы знаем, что функция в Python может вызывать другие функции. Но функция может вызывать и сама себя. Конструкции такого типа и называются рекурсивными функциями.\n",
    "\n"
   ]
  },
  {
   "cell_type": "markdown",
   "id": "979c49cc-33c5-4d4d-b108-7e1ebebe346d",
   "metadata": {},
   "source": [
    "**Основные компоненты рекурсивной функции:**\n",
    "\n",
    "* **Базовый случай (base case)**  -  это условие, при котором функция прекращает рекурсивные вызовы и возвращает конечное значение. Отсутствие базового случая может привести к бесконечной рекурсии.\n",
    "\n",
    "* **Рекурсивный случай (recursive case)** - это условие, при котором функция вызывает сама себя для решения более простой подзадачи. Каждый рекурсивный вызов должен приближать задачу к базовому случаю.\n",
    "\n"
   ]
  },
  {
   "cell_type": "code",
   "execution_count": 12,
   "id": "d1593f60-48b4-48a9-af75-546ff8342b80",
   "metadata": {},
   "outputs": [],
   "source": [
    "# Пример\n",
    "\n",
    "def factorial(n):\n",
    "    if n == 0:  # Базовый случай\n",
    "        return 1\n",
    "    else:       # Рекурсивный случай\n",
    "        return n * factorial(n - 1)\n"
   ]
  },
  {
   "cell_type": "markdown",
   "id": "2049a0ee-ced1-474d-b8cf-44d508dc8df1",
   "metadata": {},
   "source": [
    "Пример вызова: factorial(5) вернет 120, так как 5! = 5 * 4 * 3 * 2 * 1 = 120."
   ]
  },
  {
   "cell_type": "markdown",
   "id": "6f8b3f8d-4312-4aef-bec2-1404cec104de",
   "metadata": {},
   "source": [
    "При написании рекурсивных функций необходимо убедиться, что рекурсивные вызовы приводят к базовому случаю. Кроме того, рекурсия может быть несколько менее эффективной по сравнению с итеративными методами, так как каждый рекурсивный вызов требует создания нового стекового фрейма. В некоторых случаях можно использовать мемоизацию (хранение результатов предыдущих вызовов) или оптимизацию хвостовой рекурсии для улучшения производительности.\n",
    "\n",
    "**Важно** также следить за тем, чтобы рекурсивная функция действительно сходилась к базовому случаю и не создавала бесконечную цепочку вызовов."
   ]
  },
  {
   "cell_type": "markdown",
   "id": "32b38dea-c928-407a-8dc1-e028d403fa88",
   "metadata": {},
   "source": [
    "  "
   ]
  },
  {
   "cell_type": "code",
   "execution_count": null,
   "id": "69e54c50-444c-407d-9913-220625e63735",
   "metadata": {},
   "outputs": [],
   "source": [
    "Приведём ниже пример рекурсивной функции для поиска факториала целого числа.\n",
    "\n",
    "Факториал числа – это произведение всех целых чисел от 1 до этого числа. Например, факториал 5 (обозначается как 5!) это 1 * 2 * 3 * 4 * 5 = 120."
   ]
  },
  {
   "cell_type": "markdown",
   "id": "81871775-2c52-4b66-97a5-d9886d410f06",
   "metadata": {},
   "source": [
    "# Пример\n",
    " \n",
    "def calc_factorial(x):\n",
    "    \"\"\"This is a recursive function\n",
    "    to find the factorial of an integer\"\"\"\n",
    " \n",
    "    if x == 1:\n",
    "        return 1\n",
    "    else:\n",
    "        return (x * calc_factorial(x-1))\n",
    " \n",
    "num = 4\n",
    "print(\"The factorial of\", num, \"is\", calc_factorial(num)) \n"
   ]
  },
  {
   "cell_type": "markdown",
   "id": "902a55ab-64eb-4157-8653-6c4f02d2a90a",
   "metadata": {},
   "source": [
    "В приведенном выше примере ``calc_factorial()`` является рекурсивной функцией, потому что она вызывает саму себя.\n",
    "\n",
    "Когда мы вызываем эту функцию с положительным целым числом, она рекурсивно вызывает себя, уменьшая исходное число.\n",
    "\n",
    "Наша рекурсия заканчивается, когда число уменьшается до 1. Это называется **базовым случаем.**\n",
    "\n",
    "*Каждая рекурсивная функция **должна** иметь базовый случай, останавливающий рекурсию, потому что иначе функция будет вызывать себя бесконечно.*"
   ]
  },
  {
   "cell_type": "markdown",
   "id": "9a85be35-cc7d-4027-851e-007319675300",
   "metadata": {},
   "source": [
    "**Преимущества рекурсии:**\n",
    "\n",
    "* рекурсивные функции делают код чистым и элегантным\n",
    "* с помощью рекурсии сложную задачу можно разбить на более простые подзадачи\n",
    "* с помощью рекурсии генерировать последовательность проще, чем с использованием вложенной итерации.\n",
    "\n",
    "**Недостатки рекурсии:**\n",
    "\n",
    "* иногда трудно понять ее логику\n",
    "* рекурсивные вызовы дороги (неэффективны), поскольку занимают много памяти и времени\n",
    "* рекурсивные функции сложно отлаживать."
   ]
  },
  {
   "cell_type": "code",
   "execution_count": null,
   "id": "add62e92-63e2-4bff-91fb-be466c8d725a",
   "metadata": {},
   "outputs": [],
   "source": [
    "  "
   ]
  },
  {
   "cell_type": "markdown",
   "id": "cf0b0054-79cf-4de1-a123-17db195e3600",
   "metadata": {},
   "source": [
    " ## Задачи:"
   ]
  },
  {
   "cell_type": "markdown",
   "id": "436c7276-a7f0-42fe-b2a4-25bb369d5df9",
   "metadata": {},
   "source": [
    "**Задача 1**"
   ]
  },
  {
   "cell_type": "markdown",
   "id": "8ecf9afa-5a70-4f8b-996f-f1d70e36217c",
   "metadata": {},
   "source": [
    "*Описание задачи:* \\\n",
    "Программа принимает на вход число и рекурсивно определяет, четное это число или нечетное.\n",
    "\n",
    "*Решение задачи:* \\\n",
    "Принимаем число и записываем его в переменную.\n",
    "Передаем это число в качестве аргумента в рекурсивную функцию.\n",
    "Определяем базовое условие рекурсии (т.е., базу рекурсии), при котором решение задачи тривиально и не требует дальнейшего обращения функции к самой себе. В данном случае значение переменной должно быть меньше 2. Если это условие выполняется, то работа функции завершается.\n",
    "В противном случае мы опять рекурсивно вызываем нашу функцию, уменьшив значение переменной на 2.\n",
    "В конце концов работа функции завершается, и по ее результату ( True или False) мы определяем четность числа.\n",
    "Выводим конечный результат на экран.\n",
    "Конец.\n",
    "\n",
    "Код:"
   ]
  },
  {
   "cell_type": "code",
   "execution_count": null,
   "id": "c68ea3e6-d91a-4445-8690-e80452b5f323",
   "metadata": {},
   "outputs": [],
   "source": [
    "def check(n):\n",
    "    if (n < 2):\n",
    "        return (n % 2 == 0)\n",
    "    return (check(n - 2))\n",
    "n = int(input(\"Введите число:\"))\n",
    "if (check(n) == True):\n",
    "      print(\"Число четное!\")\n",
    "else:\n",
    "      print(\"Число нечетное!\")"
   ]
  },
  {
   "cell_type": "markdown",
   "id": "f3334b7e-3c67-4361-bbc1-742755815c4b",
   "metadata": {},
   "source": [
    "**Объяснение работы программы**:\n",
    "\n",
    "Пользователь вводит число и оно записывается в переменную n.\n",
    "Число, записанное в переменную n, передается в качестве аргумента в рекурсивную функцию check(), которая в коде написана самой первой.\n",
    "Базой рекурсии является условие n < 2. При выполнении данного условия функция прекращает свою работу и возвращает либо True, либо False.\n",
    "В противном случае, функция вызывается снова с аргументом n - 2.\n",
    "Когда функция завершает свою работу и возвращает результат, мы на его основе определяем, четное это число или нечетное. Если функция возвращает True, то число четное, если False, то нечетное.\n",
    "Выводим результат на экран."
   ]
  },
  {
   "cell_type": "code",
   "execution_count": null,
   "id": "1f72fb34-ab2a-41a9-beb4-735069ede222",
   "metadata": {},
   "outputs": [],
   "source": []
  },
  {
   "cell_type": "markdown",
   "id": "2b9573a1-f287-4686-a834-0589714ea88f",
   "metadata": {},
   "source": [
    "**Задача 2**"
   ]
  },
  {
   "cell_type": "markdown",
   "id": "c6638dc0-c966-47e8-a25b-c69a7afe0aef",
   "metadata": {},
   "source": [
    "*Описание задачи* \\\n",
    "Сколько раз буква встречается в строке.\\\n",
    "Программа принимает на вход строку и букву. Надо определить (с использованием рекурсии), сколько раз данная буква встречается в строке.\n",
    "\n",
    "*Решение задачи*\\\n",
    "Принимаем на вход строку и букву, записываем их в разные переменные.\n",
    "Передаем эти переменные в качестве аргументов в рекурсивную функцию.\n",
    "В качестве базы рекурсии примем условие, что строка является непустой.\n",
    "Если строка является непустой, то работа функции продолжается и мы смотрим, совпадает ли первый символ строки с проверяемой буквой, или нет. Если совпадает, то мы увеличиваем счетчик на единицу.\n",
    "Далее мы передаем строку без первой буквы снова в функцию, и все повторяется заново.\n",
    "Когда строка станет пустой, функция вернет нам количество вхождений буквы в строке. Выведем этот результат на экран.\n",
    "Конец.\n",
    "\n",
    "Код:\n"
   ]
  },
  {
   "cell_type": "code",
   "execution_count": null,
   "id": "ec579fae-7a6e-4659-bee5-de1b7b46740e",
   "metadata": {},
   "outputs": [],
   "source": [
    "def check(string, ch):\n",
    "    if not string:\n",
    "        return 0\n",
    "    elif string[0] == ch:\n",
    "        return 1 + check(string[1:], ch)\n",
    "    else: \n",
    "        return check(string[1:], ch)\n",
    "string = raw_input(\"Введите строку:\")\n",
    "ch = raw_input(\"Введите букву для проверки:\")\n",
    "print(\"Количество вхождений:\")\n",
    "print(check(string, ch))\n"
   ]
  },
  {
   "cell_type": "markdown",
   "id": "b4c2e963-9851-4a31-a57e-9009189354c8",
   "metadata": {},
   "source": [
    "**Объяснение работы программы:**\n",
    "\n",
    "Пользователь вводит строку и букву, которые записываются в отдельные переменные string и ch.\n",
    "Далее эти переменные передаются в качестве аргументов в рекурсивную функцию check().\n",
    "Для того чтобы функция продолжала свою работу, необходимо, чтобы строка была непустой. Если строка является пустой, функция завершает свою работу и возвращает 0.\n",
    "На следующем шаге рекурсивная функция проверяет, совпадает ли буква в переменной ch с первой буквой в строке. Если совпадает, то в выходное значение добавляется 1, к которой прибавляется функция check(), в которой в качестве аргумента передается наша строка, но уже без первой буквы. Если нет, то просто вызывается функция check(), где в качестве аргумента также строка без первой буквы.\n",
    "Так повторяется до тех пор, пока строка не станет пустой.\n",
    "После этого результат выводится на экран."
   ]
  },
  {
   "cell_type": "code",
   "execution_count": null,
   "id": "d4a0b109-94ab-45c6-aa87-08363834042e",
   "metadata": {},
   "outputs": [],
   "source": []
  },
  {
   "cell_type": "markdown",
   "id": "b5dcbade-cf23-49de-874d-3af6b70fd1d1",
   "metadata": {},
   "source": [
    "**Задача 3**"
   ]
  },
  {
   "cell_type": "markdown",
   "id": "a5eda32d-b8a3-42e2-be3f-e87bc738620d",
   "metadata": {},
   "source": [
    "*Описание задачи*\\\n",
    "Рекурсивный метод нахождения чисел Фибоначчи. \\\n",
    "Программа принимает на вход число членов последовательности Фибоначчи и при помощи рекурсии вычисляет все числа, входящие в эту последовательность.\n",
    "\n",
    "*Решение задачи*\\\n",
    "Принимаем на вход число членов последовательности и записываем его в отдельную переменную.\n",
    "Это число передается в качестве аргумента в рекурсивную функцию, которая будет вычислять n-й член последовательности.\n",
    "В качестве базового условия принимаем то обстоятельство, что число членов последовательности Фибоначчи не может быть меньше единицы либо равно ей. При наступление этого условия рекурсия останавливается.\n",
    "В противном случае функция вызывается вновь следующим образом: в качестве аргумента нашей рекурсивной функции передается введенное число, уменьшенное на единицу, и к этому прибавляется эта же функция с аргументом, уменьшенным уже на 2.\n",
    "Каждый вызов функции возвращает одно число, которое мы потом выводим на экран.\n",
    "\n",
    "Код:"
   ]
  },
  {
   "cell_type": "code",
   "execution_count": 15,
   "id": "05e0d489-97f5-4681-822f-e61d1b367b5d",
   "metadata": {},
   "outputs": [
    {
     "name": "stdin",
     "output_type": "stream",
     "text": [
      "Введите число членов последовательности: 23\n"
     ]
    },
    {
     "name": "stdout",
     "output_type": "stream",
     "text": [
      "Последовательность Фибоначчи:\n",
      "0\n",
      "1\n",
      "1\n",
      "2\n",
      "3\n",
      "5\n",
      "8\n",
      "13\n",
      "21\n",
      "34\n",
      "55\n",
      "89\n",
      "144\n",
      "233\n",
      "377\n",
      "610\n",
      "987\n",
      "1597\n",
      "2584\n",
      "4181\n",
      "6765\n",
      "10946\n",
      "17711\n"
     ]
    }
   ],
   "source": [
    "def fibonacci(n):\n",
    "    if (n <= 1):\n",
    "        return n\n",
    "    else:\n",
    "        return (fibonacci(n-1) + fibonacci(n-2))\n",
    "n = int(input(\"Введите число членов последовательности:\"))\n",
    "print(\"Последовательность Фибоначчи:\")\n",
    "for i in range(n):\n",
    "    print(fibonacci(i))"
   ]
  },
  {
   "cell_type": "markdown",
   "id": "3d358fff-bcd6-4b82-9d8c-fc6094ba85f0",
   "metadata": {},
   "source": [
    "**Объяснение работы программы:** \\\n",
    "Пользователь вводит число и оно записывается в переменную n.\n",
    "Передаем число n в качестве аргумента в рекурсивную функцию, которая вычисляет n-ый член последовательности.\n",
    "Так как первый член последовательности Фибоначчи по определению не может быть меньше 1, в качестве базового условия принимаем ``n <= 1.`` Когда оно выполняется, рекурсия прерывается.\n",
    "В противном случае функция вызывается вновь следующим образом: ``fibonacci(n-1) + fibonacci(n-2)``.\n",
    "Результаты выводятся на экран при помощи цикла for.\n"
   ]
  },
  {
   "cell_type": "code",
   "execution_count": null,
   "id": "33f16376-013d-4c06-96ad-2514f920a672",
   "metadata": {},
   "outputs": [],
   "source": []
  },
  {
   "cell_type": "markdown",
   "id": "a6325eaa-39f1-4e7c-a538-8d56943a673e",
   "metadata": {},
   "source": [
    "**Задача 4**"
   ]
  },
  {
   "cell_type": "markdown",
   "id": "c9c51b3e-88b0-4f68-a05e-93b5aaeac424",
   "metadata": {},
   "source": [
    "*Описание задачи* \\\n",
    "Вычисление факториала числа с использованием рекурсии\\\n",
    "Программа принимает на вход число и вычисляет факториал этого числа с использованием рекурсивного алгоритма.\n",
    "\n",
    "*Решение задачи*\\\n",
    "Записываем введенное пользователем число в отдельную переменную.\n",
    "Передаем это число в качестве аргумента в рекурсивную функцию, которая вычисляет факториал.\n",
    "Определяем внутри этой функции базовое условие рекурсии: в случае, когда аргумент функции меньше либо равен 1, рекурсивная функция прекращает свою работу и возвращает в качестве результата 1.\n",
    "В противном случае в качестве результата возвращается число, умноженное на рекурсивную функцию, аргумент которой уменьшен на единицу. И все повторяется заново.\n",
    "После того, как рекурсивная функция прекратила свою работу, на экран выводится результат.\n",
    "Конец.\n",
    "\n",
    "Код:"
   ]
  },
  {
   "cell_type": "code",
   "execution_count": null,
   "id": "ae8c5fa9-bccc-49f0-99ef-fad44b7a3aaf",
   "metadata": {},
   "outputs": [],
   "source": [
    "def factorial(n):\n",
    "    if (n <= 1):\n",
    "        return 1\n",
    "    else:\n",
    "        return (n * factorial(n-1))\n",
    "n = int(input(\"Введите число:\"))\n",
    "print(\"Факториал числа равен:\")\n",
    "print(factorial(n))\n"
   ]
  },
  {
   "cell_type": "markdown",
   "id": "e7f856fc-9863-4e33-befb-6a4eef5cc68c",
   "metadata": {},
   "source": [
    "**Объяснение работы программы:** \\\n",
    "Пользователь вводит число и оно записывается в переменную n.\n",
    "Передаем число n в качестве аргумента в рекурсивную функцию, которая вычисляет факториал этого числа.\n",
    "Задаем базу рекурсии при помощи условия n <= 1 . Если оно выполняется, рекурсивная функция возвращает 1 и ее работа останавливается.\n",
    "В противном случае функция возвращает n * factorial(n-1) и все повторяется заново.\n",
    "После того, как функция завершит свою работу, результат выводится на экран."
   ]
  },
  {
   "cell_type": "markdown",
   "id": "85060e4e-1b7e-4461-b552-c7c0fb417e5a",
   "metadata": {},
   "source": []
  },
  {
   "cell_type": "markdown",
   "id": "725680cd-963e-4a1f-a996-424016c57aba",
   "metadata": {},
   "source": [
    "**Задача 5**"
   ]
  },
  {
   "cell_type": "markdown",
   "id": "2a19d96b-2fab-4d8e-99d1-be411602536a",
   "metadata": {},
   "source": [
    "*Описание задачи* \\\n",
    "Вычисление суммы элементов списка при помощи рекурсии\\\n",
    "Программа принимает на вход список и вычисляет сумму его элементов, используя рекурсию.\n",
    "\n",
    "*Решение задачи*\\\n",
    "Определяем рекурсивную функцию, которая в качестве аргументов принимает список и его длину.\n",
    "Принимаем длину цикла и записываем ее в отдельную переменную.\n",
    "Создаем новую переменную и инициируем ее пустым списком.\n",
    "Для добавления элементов в список используем цикл.\n",
    "Передаем сформированный список и его длину в рекурсивную функцию в качестве аргументов.\n",
    "В качестве базы рекурсии принимается условие равенства длины списка 0 . Если длина списка равна 0, работа функции завершается и она возвращает в качестве результата 0.\n",
    "В противном случае возвращается сумма последнего элемента списка вместе с рекурсивным вызовом функции, где длина массива уменьшена на 1.\n",
    "Значение рекурсивной функции записывается в отдельную переменную, значение которой потом выводится на экран.\n",
    "Конец.\n",
    "\n",
    "Исходный код"
   ]
  },
  {
   "cell_type": "code",
   "execution_count": null,
   "id": "eace946d-3e45-4de7-957f-7af56eb616f5",
   "metadata": {},
   "outputs": [],
   "source": [
    "def sum_arr(arr, size):\n",
    "    if (size == 0):\n",
    "        return 0\n",
    "    else:\n",
    "        return arr[size - 1] + sum_arr(arr, size - 1)\n",
    "n = int(input(\"Введите длину списка:\"))\n",
    "a = []\n",
    "for i in range(0, n):\n",
    "    element = int(input(\"Введите элемент списка:\"))\n",
    "    a.append(element)\n",
    "print(\"Весь список:\")\n",
    "print(a)\n",
    "print(\"Сумма элементов списка равна:\")\n",
    "b = sum_arr(a, n)\n",
    "print(b)\n"
   ]
  },
  {
   "cell_type": "markdown",
   "id": "f28e163d-40af-4a7c-b14e-f87c6f87cdd4",
   "metadata": {},
   "source": [
    "**Объяснение работы программы:** \\\n",
    "Пользователь вводит число элементов списка, которое сохраняется в отдельной переменной n.\n",
    "Далее пользователь n раз вводит элементы массива, длину которого мы будем вычислять.\n",
    "Введенные данные добавляются в заранее созданный список a при помощи функции append(). Для наглядности окончательный список выводится на экран.\n",
    "Затем введенный список и его длина передаются в качестве аргументов в рекурсивную функцию sum_arr(), код которой мы написали ранее.\n",
    "Как только длина списка уменьшается до 0, работа функции прекращается и она перестает вызывать сама себя.\n",
    "Пока длина списка не равна нулю, функция возвращает сумму последнего элемента списка и вызов самой себя с длиной списка, уменьшенной на 1.\n",
    "Результат работы функции записывается в переменную b, которая затем выводится на экран."
   ]
  },
  {
   "cell_type": "code",
   "execution_count": null,
   "id": "3a2a8912-bf97-4da0-9c00-2a29efb248c0",
   "metadata": {},
   "outputs": [],
   "source": []
  },
  {
   "cell_type": "markdown",
   "id": "e7dbae64-e1fd-43eb-8cac-be29ee62ce6c",
   "metadata": {},
   "source": [
    "**Задача 6**"
   ]
  },
  {
   "cell_type": "markdown",
   "id": "24e944e9-29ef-4729-ba5c-ca5e783cf6de",
   "metadata": {},
   "source": [
    "*Описание задачи* \\\n",
    "Рекурсивный перевод числа в двоичную систему счисления\n",
    "Программа принимает число и переводит его в двоичную систему счисления с использованием рекурсии.\n",
    "\n",
    "*Решение задачи* \\\n",
    "Задаем рекурсивную функцию, которая может принимать в качестве аргумента число.\n",
    "Принимаем от пользователя число и передаем его в качестве аргумента в рекурсивную функцию.\n",
    "В самой функции в качестве базового условия рекурсии задаем равенство входящего аргумента нулю. В этом случае функция возвращает переменную, в которую до начала работы функции был помещен пустой список.\n",
    "В противном случае в список добавляется остаток от деления аргумента на 2, а затем снова вызывается эта же функция, в которую в качестве аргумента передается результат целочисленного деления на 2.\n",
    "Далее мы переворачиваем список и выводим его на экран при помощи цикла for.\n",
    "Конец\n",
    "\n",
    "Исходный код\n"
   ]
  },
  {
   "cell_type": "code",
   "execution_count": null,
   "id": "3b026b79-7053-4294-9f34-2f62c6332601",
   "metadata": {},
   "outputs": [],
   "source": [
    "l = []\n",
    "def convert(b):\n",
    "    if (b == 0):\n",
    "        return l\n",
    "    dig = b % 2\n",
    "    l.append(dig)\n",
    "    convert(b // 2)\n",
    "a = int(input(\"Введите число: \"))\n",
    "convert(a)\n",
    "l.reverse()\n",
    "print(\"Двоичная форма числа:\")\n",
    "for i in l:\n",
    "    print(i)\n",
    "    "
   ]
  },
  {
   "cell_type": "markdown",
   "id": "1c85b70d-7125-48fd-840c-dfb35139a2b5",
   "metadata": {},
   "source": [
    "**Объяснение работы программы:** \\\n",
    "Создается переменная l, которая инициируется пустым списком.\n",
    "Определяется рекурсивная функция convert(), которая в качестве аргумента принимает число.\n",
    "В самой функции определяется базовое условие рекурсии. Оно состоит в равенстве аргумента функции 0. В этом случае функция возвращает сформированный рекурсивным образом список l.\n",
    "В противном случае каждая цифра числа переводится в двоичный вид и добавляется в список в виде 0 или 1. А функция вызывается еще раз с аргументом, который был получен из первоначального аргумента посредством целочисленного деления на 2.\n",
    "Затем список инвертируется посредством функции reverse() и выводится на экран с помощью цикла for."
   ]
  },
  {
   "cell_type": "code",
   "execution_count": null,
   "id": "9cab55c3-9e90-433b-85fc-ae0ec44b5658",
   "metadata": {},
   "outputs": [],
   "source": []
  },
  {
   "cell_type": "markdown",
   "id": "4bc272ae-d681-48ea-92d9-99d0f80dad54",
   "metadata": {},
   "source": [
    "**Задача 7**"
   ]
  },
  {
   "cell_type": "markdown",
   "id": "a64fd184-4876-4b2f-89a2-e12fbc1cafa2",
   "metadata": {},
   "source": [
    "*Описание задачи* \\\n",
    "Нахождение суммы всех цифр числа при помощи рекурсии \\\n",
    "Программа принимает на вход число и при помощи рекурсии находит сумму всех цифр, из которых это число состоит.\n",
    "\n",
    "*Решение задачи* \\\n",
    "Создадим пустой список, в который будем записывать цифры данного числа.\n",
    "Определим рекурсивную функцию, которая будет принимать в качестве аргумента число.\n",
    "Далее, принимаем от пользователя число и передаем его этой функции в качестве аргумента.\n",
    "В рекурсивной функции базовое условие определено как равенство аргумента нулю. В этом случае программа выводит сформированный список, состоящий из всех цифр числа.\n",
    "В противном случае в список добавляется остаток от деления аргумента на 10, а затем снова вызывается эта же функция, в которую в качестве аргумента передается результат целочисленного деления на 10.\n",
    "Затем находится сумма элементов списка при помощи встроенной функции Python, а результат выводится на экран. Вместо встроенной в Python функции также можно использовать код, который мы приводили в этом же разделе ранее.\n",
    "Также для сравнения можно посмотреть, как мы решали ранее эту же задачу при помощи итераций.\n",
    "\n",
    "Исходный код"
   ]
  },
  {
   "cell_type": "code",
   "execution_count": null,
   "id": "4fe242ec-077d-4cb4-ae7b-e06ee79dd50d",
   "metadata": {},
   "outputs": [],
   "source": [
    "l = []\n",
    "def sum_digits(b):\n",
    "    if (b == 0):\n",
    "        return l\n",
    "    dig = b % 10\n",
    "    l.append(dig)\n",
    "    sum_digits(b // 10)\n",
    "n = int(input(\"Введите число: \"))\n",
    "sum_digits(n)\n",
    "print(sum(l))\n"
   ]
  },
  {
   "cell_type": "markdown",
   "id": "13987412-aa1b-4873-a70d-b62c78e20fc9",
   "metadata": {},
   "source": [
    "**Объяснение работы программы:** \\\n",
    "Создается переменная l, которая инициируется пустым списком.\n",
    "Определяется рекурсивная функция sum_digits(), принимающая в качестве аргумента число.\n",
    "В самой функции определяется базовое условие рекурсии. Оно состоит в равенстве аргумента функции 0. В этом случае функция возвращает сформированный рекурсивным образом список l.\n",
    "В противном случае в список добавляется остаток от деления аргумента на 10, а затем снова вызывается эта же функция, в которую в качестве аргумента передается результат целочисленного деления на 10.\n",
    "Далее мы вызываем функцию sum_digits(), а в качестве аргумента передаем введенное пользователем число n.\n",
    "Затем вычисленная сумма всех цифр числа выводится на экран."
   ]
  },
  {
   "cell_type": "code",
   "execution_count": null,
   "id": "5836c710-4184-40cd-a313-0c603187d078",
   "metadata": {},
   "outputs": [],
   "source": []
  },
  {
   "cell_type": "markdown",
   "id": "4d5e4866-c005-494d-b2d6-167969d6462f",
   "metadata": {},
   "source": [
    "**Задача 8**"
   ]
  },
  {
   "cell_type": "markdown",
   "id": "4a9825d5-3f7c-496b-9c20-8bed7aa3e3e9",
   "metadata": {},
   "source": [
    "*Описание задачи* \\\n",
    "Нахождение наименьшего общего кратного (НОК) при помощи рекурсии \\\n",
    "Программа принимает на вход два числа и находит наименьшее общее кратное (НОК) при помощи рекурсии.\n",
    "\n",
    "*Решение задачи* \\\n",
    "Принимаем два числа и записываем их в отдельные переменные.\n",
    "Вводим переменную, которая в начале работы функции принимает значение наибольшей из двух переменных.\n",
    "Проверяем, делится ли без остатка число, содержащееся во вновь введенной переменной, на оба данных нам числа одновременно.\n",
    "Если делится, то функция прекращает свою работу и выводит это число, которое и будет наименьшим общим кратным (НОК).\n",
    "Если нет, то опять вызывается эта рекурсивная функция, в которой значение переменной еще раз увеличивается на величину наибольшего из данных в задаче чисел. И так будет повторяться, пока не выполнится условие делимости без остатка на оба числа.\n",
    "После того как функция завершит свою работу, значение наименьшего общего кратного (НОК) выводится на экран.\n",
    "\n",
    "Исходный код"
   ]
  },
  {
   "cell_type": "code",
   "execution_count": null,
   "id": "c3f066a0-4bf0-49b8-a441-c01f6b8881e3",
   "metadata": {},
   "outputs": [],
   "source": [
    "def lcm(a, b):\n",
    "    lcm.multiple = lcm.multiple + b\n",
    "    if ((lcm.multiple % a == 0) and (lcm.multiple % b == 0)):\n",
    "        return lcm.multiple;\n",
    "    else:\n",
    "        lcm(a, b)\n",
    "    return lcm.multiple\n",
    "lcm.multiple = 0\n",
    "a = int(input(\"Введите первое число:\"))\n",
    "b = int(input(\"Введите второе число:\"))\n",
    "if (a > b):\n",
    "    LCM = lcm(b, a)\n",
    "else:\n",
    "    LCM = lcm(a, b)\n",
    "print(\"НОК:\")\n",
    "print(LCM)\n"
   ]
  },
  {
   "cell_type": "markdown",
   "id": "fc4f405f-f976-4cec-bed8-b6cb210bca39",
   "metadata": {},
   "source": [
    "**Объяснение работы программы:** \\\n",
    "Пользователь вводит два числа и они записываются в переменные a и b.\n",
    "Также вводится еще одна переменная, lcm.multiple, которая для начала инициируется нулем.\n",
    "Далее проверяется, какое из введенных чисел больше, чтобы передать их в рекурсивную функцию lcm() в порядке возрастания.\n",
    "В функции lcm() на первом шаге значение переменной увеличивается на величину наибольшего из введенных пользователем чисел. То есть при первом вызове функции значение переменной становится равным этому числу.\n",
    "Затем происходит проверка, делится ли значение переменной lcm.multiple без остатка на оба наших числа одновременно. Если делится, то функция прекращает свою работу и выводит в качестве результата значение переменной lcm.multiple.\n",
    "Если нет, то опять вызывается рекурсивная функция lcm(), в которой значение переменной lcm.multiple еще раз увеличивается на величину наибольшего из данных в задаче чисел. И так будет повторяться, пока не выполнится условие делимости без остатка на оба числа.\n",
    "После того как функция завершит свою работу, значение наименьшего общего кратного (НОК) выводится на экран.\n"
   ]
  },
  {
   "cell_type": "code",
   "execution_count": null,
   "id": "125e76d2-e4b6-4272-a251-23122c67de79",
   "metadata": {},
   "outputs": [],
   "source": []
  },
  {
   "cell_type": "markdown",
   "id": "1ced91eb-c553-4b9d-a4dc-8135b71dbca2",
   "metadata": {},
   "source": [
    "**Задача 9**"
   ]
  },
  {
   "cell_type": "markdown",
   "id": "16057006-935b-4fb4-b33f-691b64e05be6",
   "metadata": {},
   "source": [
    "*Описание задачи* \\\n",
    "Нахождение наибольшего общего делителя (НОД) при помощи рекурсии \\\n",
    "Программа принимает на вход два числа и находит наибольший общий делитель (НОД) с использованием рекурсии.\n",
    "\n",
    "*Решение задачи* \\\n",
    "Принимаются два числа, которые сохраняются в отдельные переменные.\n",
    "Передаем оба числа в рекурсивную функцию в качестве аргумента.\n",
    "В качестве базового условия рекурсии принимаем равенство нулю второго числа (второго аргумента функции). В этом случае результатом работы функции является первое число (первый аргумент функции).\n",
    "В противном случае снова рекурсивно вызываем эту функцию и в качестве первого аргумента передаем ей второй аргумент из предыдущего вызова функции, а в качестве второго — остаток от деления первого аргумента на второй аргумент.\n",
    "Когда функция завершит свою работу, ее результатам будет первый аргумент из последнего вызова этой функции. Он и будет наибольшим общим делителем (НОД).\n",
    "Выводим результат на экран.\n",
    "Конец.\n",
    "\n",
    "Исходный код"
   ]
  },
  {
   "cell_type": "code",
   "execution_count": null,
   "id": "57939f40-a12d-4ff9-9c04-5bfc0e00dc26",
   "metadata": {},
   "outputs": [],
   "source": [
    "def gcd(a, b):\n",
    "    if (b == 0):\n",
    "        return a\n",
    "    else:\n",
    "        return gcd(b, a % b)\n",
    "a = int(input(\"Введите первое число:\"))\n",
    "b = int(input(\"Введите второе число:\"))\n",
    "GCD = gcd(a, b)\n",
    "print(\"НОД: \")\n",
    "print(GCD)\n"
   ]
  },
  {
   "cell_type": "markdown",
   "id": "730d0c4b-3df1-41ee-9157-c9d6c4a922e1",
   "metadata": {},
   "source": [
    "**Объяснение работы программы:** \\\n",
    "Пользователь вводит два числа и они записываются в переменные a и b.\n",
    "Затем эти два числа передаются в качестве аргументов в рекурсивную функцию gcd().\n",
    "В качестве базового условия рекурсии принимаем равенство 0 второго аргумента функции: b == 0. В этом случае результатом работы функции будет первый аргумент a.\n",
    "В противном случае снова рекурсивно вызываем нашу функцию следующим образом: gcd(b, a % b). То есть, в качестве первого аргумента передаем ей второй аргумент из предыдущего вызова функции (b), а в качестве второго —остаток от деления a на b.\n",
    "Когда функция завершит свою работу, ее результатам будет первый аргумент из последнего вызова этой функции. Он и будет наибольшим общим делителем (НОД).\n",
    "Выводим результат работы функции на экран.\n"
   ]
  },
  {
   "cell_type": "code",
   "execution_count": null,
   "id": "56145aa1-593b-4c56-9ce8-3aa97c68cbfd",
   "metadata": {},
   "outputs": [],
   "source": []
  },
  {
   "cell_type": "markdown",
   "id": "e375ae3e-1c09-4772-953d-d313e72d1fef",
   "metadata": {},
   "source": [
    "**Задача 10**"
   ]
  },
  {
   "cell_type": "markdown",
   "id": "d775cc5a-c109-4463-948d-3ea9ff916482",
   "metadata": {},
   "source": [
    "*Описание задачи* \\\n",
    "Проверка числа на простоту с использованием рекурсии \\\n",
    "Программа получает на вход число и определяет, является ли это число простым или нет, используя рекурсивный алгоритм.\n",
    "\n",
    "*Решение задачи* \\\n",
    "Принимаем число и записываем его в отдельную переменную.\n",
    "Передаем это число в качестве аргумента в рекурсивную функцию. В качестве второго аргумента этой рекурсивной функции будет переменная-делитель. Она при первом вызове инициируется значением None.\n",
    "Затем делителю присваивается значение на единицу меньшее, чем наше число, и проверяется, делится ли число на него без остатка. Если делится, программа завершает работу и определяет, что число не является простым.\n",
    "Если нет, то функция рекурсивно вызывает саму себя, причем второй аргумент (делитель) теперь на 1 меньше, чем был до этого.\n",
    "Таким образом, мы проверяем делимость исходного числа на все числа, которые меньше него и больше 1. Если хоть на одно из этих чисел оно делится без остатка, функция возвращает False. В противном случае число считается простым.\n",
    "Выводим результат на экран.\n",
    "Конец.\n",
    "\n",
    "Исходный код"
   ]
  },
  {
   "cell_type": "code",
   "execution_count": null,
   "id": "f2ae3d25-db41-44ed-bb22-faadfdc3d3c5",
   "metadata": {},
   "outputs": [],
   "source": [
    "def check(n, div = None):\n",
    "    if div is None:\n",
    "        div = n - 1\n",
    "    while div >= 2:\n",
    "        if n % div == 0:\n",
    "            print(\"Число не является простым\")\n",
    "            return False\n",
    "        else:\n",
    "            return check(n, div-1)\n",
    "    else:\n",
    "        print(\"Число является простым\")\n",
    "        return True\n",
    "n = int(input(\"Введите число: \"))\n",
    "check(n)\n"
   ]
  },
  {
   "cell_type": "markdown",
   "id": "6e499653-f1ce-45dd-8a5a-905ccfddadba",
   "metadata": {},
   "source": [
    "**Объяснение работы программы:** \\\n",
    "Принимаем число и записываем его в отдельную переменную n.\n",
    "Передаем это число в качестве аргумента в рекурсивную функцию check(). В качестве второго аргумента этой рекурсивной функции передается переменная div, которая будет делителем. Она при первом вызове инициируется значением None.\n",
    "Затем делителю присваивается значение на единицу меньшее, чем наше число, и проверяется, делится ли число на этот делитель без остатка. Если делится, программа завершает работу и определяет, что число не является простым.\n",
    "Если нет, то функция рекурсивно вызывает саму себя следующим образом: check(n, div-1). Заметьте, что второй аргумент div теперь на 1 меньше, чем был до этого.\n",
    "Таким образом мы проверяем делимость исходного числа на все числа, которые меньше него и больше 1. Если хоть на одно из этих чисел оно делится без остатка, функция возвращает False: число не является простым. А если нет, то число простое.\n",
    "Выводим результат на экран."
   ]
  },
  {
   "cell_type": "code",
   "execution_count": null,
   "id": "f5af19db-ad19-4aec-9254-16059ec0f8a9",
   "metadata": {},
   "outputs": [],
   "source": []
  },
  {
   "cell_type": "markdown",
   "id": "e2b187ae-7cad-4f73-86ee-0ee1a7e0840a",
   "metadata": {},
   "source": [
    "**Задача 11**"
   ]
  },
  {
   "cell_type": "markdown",
   "id": "1735a5ac-e6aa-41c8-9ee4-f31101fc8e0e",
   "metadata": {},
   "source": [
    "*Описание задачи* \\\n",
    "Нахождение произведения двух чисел с использованием рекурсии \\\n",
    "Программа принимает на вход два числа и при помощи рекурсии находит их произведение.\n",
    "\n",
    "*Решение задачи* \\\n",
    "Принимаем на вход два числа и записываем их в отдельные переменные.\n",
    "Передаем эти переменные в качестве аргументов в рекурсивную функцию.\n",
    "В начале работы функции проверяем, является ли первый аргумент меньше второго. Если является, то вызываем данную функцию вновь, меняя аргументы местами.\n",
    "В качестве базового условия рекурсии принимаем равенство 0 второго аргумента функции (меньшего). Пока второй аргумент не равен 0, функция возвращает сумму первого аргумента и рекурсивный вызов самой себя, где второй аргумент уменьшается на 1.\n",
    "Когда второй аргумент уменьшится до 0, функция при последнем вызове возвратит 0 и ее работа завершится.\n",
    "Выводим результат на экран.\n",
    "Конец.\n",
    "    \n",
    "Исходный код"
   ]
  },
  {
   "cell_type": "code",
   "execution_count": 25,
   "id": "ed96ddb8-e0b3-4697-b24d-57cd494cab22",
   "metadata": {},
   "outputs": [
    {
     "name": "stdin",
     "output_type": "stream",
     "text": [
      "Введите первое число:  12\n",
      "Введите второе число:  1\n"
     ]
    },
    {
     "name": "stdout",
     "output_type": "stream",
     "text": [
      "Произведением двух чисел будет:  12\n"
     ]
    }
   ],
   "source": [
    "def product(a, b):\n",
    "    if (a < b):\n",
    "        return product(b, a)\n",
    "    elif (b != 0):\n",
    "        return (a + product(a, b-1))\n",
    "    else:\n",
    "        return 0\n",
    "a = int(input(\"Введите первое число: \"))\n",
    "b = int(input(\"Введите второе число: \"))\n",
    "print(\"Произведением двух чисел будет: \", product(a, b))\n"
   ]
  },
  {
   "cell_type": "markdown",
   "id": "b9596a8a-196c-4680-bb71-5589c6ca0f04",
   "metadata": {},
   "source": [
    "**Объяснение работы программы:** \\\n",
    "Пользователь вводит два числа и они записываются в переменные a и b.\n",
    "Передаем эти переменные в качестве аргументов в рекурсивную функцию product().\n",
    "В начале работы функции проверяем, какой из аргументов больше. Если первый аргумент меньше второго, то вызываем данную функцию вновь, меняя аргументы местами, то есть product(b, a).\n",
    "В качестве базового условия рекурсии принимаем равенство 0 второго аргумента функции (меньшего). Пока второй аргумент не равен 0, функция возвращает сумму первого аргумента и рекурсивный вызов самой себя, где второй аргумент уменьшается на единицу: a + product(a, b-1).\n",
    "Когда второй аргумент уменьшится до 0, функция при последнем вызове возвратит 0 и ее работа завершится. Таким образом, мы в результате накопили сложение числа a c самим собой ровно b раз, что как раз эквивалентно умножению a на b.\n",
    "Выводим результат на экран."
   ]
  },
  {
   "cell_type": "code",
   "execution_count": null,
   "id": "f71d0a22-ce87-4f19-94fc-9fe64031bd69",
   "metadata": {},
   "outputs": [],
   "source": []
  },
  {
   "cell_type": "markdown",
   "id": "9cfd4c95-250f-44e0-972e-3c6ec3417054",
   "metadata": {},
   "source": [
    "**Задача 12**"
   ]
  },
  {
   "cell_type": "markdown",
   "id": "34cd40e0-a588-4bf9-88b3-cad0548b0212",
   "metadata": {},
   "source": [
    "*Описание задачи* \\\n",
    "Нахождение степени числа с использованием рекурсии \\\n",
    "Программа принимает на вход число и его степень, и при помощи рекурсии вычисляет результат.\n",
    "\n",
    "*Решение задачи* \\\n",
    "Принимаем на вход число и значение его степени, записываем их в отдельные переменные.\n",
    "Передаем эти переменные в качестве аргументов в рекурсивную функцию.\n",
    "Определяем в качестве базового условия рекурсии равенство степени 1. В этом случае функция выводит само число, так как любое число в степени 1 равно само себе.\n",
    "В противном случае мы выводим произведение числа на эту же функцию, в которой второй аргумент, степень, уменьшен на 1.\n",
    "Выводим конечный результат на экран.\n",
    "Конец.\n",
    "\n",
    "Исходный код\n"
   ]
  },
  {
   "cell_type": "code",
   "execution_count": null,
   "id": "04e5a692-72aa-4e5c-8c25-349d9b7abe6a",
   "metadata": {},
   "outputs": [],
   "source": [
    "def power(base, exp):\n",
    "    if (exp == 1):\n",
    "        return (base)\n",
    "    if (exp != 1):\n",
    "        return (base * power(base, exp - 1))\n",
    "base = int(input(\"Введите число: \"))\n",
    "exp = int(input(\"Введите его степень: \"))\n",
    "print(\"Результат возведения в степень равен:\", power(base, exp)\n",
    "      "
   ]
  },
  {
   "cell_type": "code",
   "execution_count": null,
   "id": "1529c1a1-2089-49be-8095-c81bbc3b7e21",
   "metadata": {},
   "outputs": [],
   "source": [
    "Объяснение работы программы\n",
    "Принимаем на вход число и значение его степени, записываем их в отдельные переменные base и exp соответственно.\n",
    "Передаем эти переменные в качестве аргументов в рекурсивную функцию power().\n",
    "Определяем в качестве базового условия рекурсии exp == 1. В этом случае функция выводит само число из переменной base, так как любое число в степени 1 равно само себе.\n",
    "В противном случае мы выводим произведение числа на эту же функцию, в которой второй аргумент (степень) уменьшен на единицу: base * power(base, exp - 1). Таким образом мы накапливаем произведение числа, хранящегося в переменной base, самого на себя ровно exp раз, что эквивалентно возведению числа base в степень exp.\n",
    "Выводим конечный результат на экран."
   ]
  },
  {
   "cell_type": "code",
   "execution_count": null,
   "id": "d830ec6a-a3db-4c92-a0ea-23f9f11637b6",
   "metadata": {},
   "outputs": [],
   "source": []
  },
  {
   "cell_type": "markdown",
   "id": "8146ac7c-4d1e-4dfe-8f51-2ce0a89f1744",
   "metadata": {},
   "source": [
    "**Задача 13**"
   ]
  },
  {
   "cell_type": "markdown",
   "id": "8816326d-befa-4f17-b653-bb8d66bb10b8",
   "metadata": {},
   "source": [
    "*Описание задачи* \\\n",
    "Проверка при помощи рекурсии, является ли строка палиндромом\\\n",
    "Программа принимает на вход строку и проверяет при помощи рекурсии, является эта строка палиндромом или нет.\n",
    "\n",
    "*Решение задачи* \\ \n",
    "Принимаем на вход строку и сохраняем ее в отдельную переменную.\n",
    "Передаем эту строку в качестве аргумента в рекурсивную функцию.\n",
    "В качестве базового условия рекурсии принимаем значение длины строки меньше единицы. В этом случае выводим результат True.\n",
    "В противном случае проверяем равенство первого и последнего элементов строки. Если они равны, то опять вызываем нашу рекурсивную функцию, но передаем в нее в качестве аргумента строку без уже проверенных символов. Если нет, то условия основного свойства палиндрома нарушены, и мы выводим значение False.\n",
    "Далее, в зависимости от результата работы функции, мы выводим ответ на вопрос нашей задачи. Если результат True, то строка является палиндромом, если False, то нет.\n",
    "Конец.\n",
    "\n",
    "Исходный код"
   ]
  },
  {
   "cell_type": "code",
   "execution_count": null,
   "id": "3d6c2d8e-9bf6-4df7-8eaa-04fd3812654e",
   "metadata": {},
   "outputs": [],
   "source": [
    "def is_palindrome(s):\n",
    "    if len(s) < 1:\n",
    "        return True\n",
    "    else:\n",
    "        if s[0] == s[-1]:\n",
    "            return is_palindrome(s[1:-1])\n",
    "        else:\n",
    "            return False\n",
    "a = str(input(\"Введите строку:\"))\n",
    "if (is_palindrome(a) == True):\n",
    "    print(\"Данная строка палиндром!\")\n",
    "else:\n",
    "    print(\"Данная строка не палиндром!\")\n",
    "    "
   ]
  },
  {
   "cell_type": "markdown",
   "id": "48511ae3-6bd6-4ab8-88f3-cba9ba521b40",
   "metadata": {},
   "source": [
    "**Объяснение работы программы:** \\\n",
    "Пользователь вводит строку, которая записывается в переменную a.\n",
    "Передаем переменную a в качестве аргумента в рекурсивную функцию is_palindrome().\n",
    "В качестве базового условия рекурсии принимаем значение длины строки меньше единицы. В этом случае выводим результат True.\n",
    "В противном случае проверяем равенство первого и последнего элементов строки. Выбираем эти элементы при помощи индексов: s[0] == s[-1]. Если они равны, то опять вызываем нашу рекурсивную функцию, но передаем в нее в качестве аргумента строку без проверенных символов, используя для этого следующий срез строки: s[1:-1]. Если первый и последний элементы не равны, то условия основного свойства палиндрома нарушены, и мы выводим значение False.\n",
    "Далее, в зависимости от результата работы функции, мы выводим ответ на вопрос нашей задачи. Если результат True, то строка является палиндромом, если False, то не является.\n"
   ]
  },
  {
   "cell_type": "code",
   "execution_count": null,
   "id": "86c7d220-66f7-4025-9743-69e2931ff879",
   "metadata": {},
   "outputs": [],
   "source": []
  },
  {
   "cell_type": "markdown",
   "id": "9a0fb049-9757-48b0-adaa-356f85ef119e",
   "metadata": {},
   "source": [
    "**Задача 14**"
   ]
  },
  {
   "cell_type": "markdown",
   "id": "6f6963fd-3a4e-4a77-973c-de0117e13cd6",
   "metadata": {},
   "source": [
    "*Описание задачи* \\\n",
    "Вывод строки в обратном порядке с использованием рекурсии \\\n",
    "Программа принимает на вход строку и выводит ее в обратном порядке с использованием рекурсии.\n",
    "\n",
    "*Решение задачи* \\\n",
    "Принимается строка и записывается в отдельную переменную.\n",
    "Далее эта переменная передается в качестве аргумента в рекурсивную функцию.\n",
    "В качестве базового условия рекурсии принимаем равенство длины строки нулю. В этом случае возвращается нулевая строка и функция завершает свою работу.\n",
    "В противном случае опять рекурсивно вызываем эту же функцию, но без первого символа, и просто прибавляем к ней этот символ. Таким образом, в результате у нас накапливается эта же строка, но в обратном порядке.\n",
    "Выводим результат на экран.\n",
    "Конец.\n",
    "\n",
    "Исходный код"
   ]
  },
  {
   "cell_type": "code",
   "execution_count": null,
   "id": "b6e3f2c5-265b-49a4-bfd1-adad78faecdd",
   "metadata": {},
   "outputs": [],
   "source": [
    "def reverse(string):\n",
    "    if len(string) == 0:\n",
    "        return string\n",
    "    else:\n",
    "        return reverse(string[1:]) + string[0]\n",
    "a = str(input(\"Введите строку: \"))\n",
    "print(reverse(a))"
   ]
  },
  {
   "cell_type": "markdown",
   "id": "53528471-c927-4700-80bd-1c4390f40643",
   "metadata": {},
   "source": [
    "**Объяснение работы программы:** \\\n",
    "Пользователь вводит строку, которая записывается в переменную a.\n",
    "Далее эта переменная передается в качестве аргумента в рекурсивную функцию reverse() .\n",
    "В качестве базового условия рекурсии принимаем равенство 0 длины строки, для вычисления которой используем встроенную функцию len(). В этом случае возвращается нулевая строка и функция завершает свою работу.\n",
    "В противном случае опять рекурсивно вызываем эту же функцию, но без первого символа, используя для этого срез строки string[1:], и просто прибавляем к ней этот символ, обращаясь к нему по индексу string[0]. Таким образом, в результате у нас накапливается эта же строка, но в обратном порядке.\n",
    "Выводим результат на экран.\n"
   ]
  },
  {
   "cell_type": "code",
   "execution_count": null,
   "id": "da91610f-99c0-4e7b-8a03-4d6300565cda",
   "metadata": {},
   "outputs": [],
   "source": []
  },
  {
   "cell_type": "markdown",
   "id": "0895b3ef-b4c8-4ede-b1a5-62dd9c301c54",
   "metadata": {},
   "source": [
    "**Задача 15**"
   ]
  },
  {
   "cell_type": "markdown",
   "id": "177becf2-8e12-485a-b4b2-5b63cd2574c6",
   "metadata": {},
   "source": [
    "*Описание задачи* \\\n",
    "Выпрямление списков при помощи рекурсии \\\n",
    "Программа принимает на вход список, состоящий из других списков, и возвращает обычный список, в котором присутствуют все элементы из вложенных списков. Эта операция производится при помощи рекурсии.\n",
    "\n",
    "*Решение задачи* \\\n",
    "Инициализируем переменную списком, в котором содержатся вложенные списки.\n",
    "Передаем этот список в рекурсивную функцию для преобразования в обычный список.\n",
    "Базовым условием рекурсии будет равенство входящего списка пустому списку. В этом случае возвращается пустой список и дальнейшие вызовы рекурсивной функции не осуществляются.\n",
    "В противном случае проверяется, является ли элемент списка вложенным списком или обычным элементом списка.\n",
    "Если элемент списка тоже список, то он целиком передается нашей рекурсивной функции в качестве аргумента и к этому прибавляется остальная часть основного списка, которую мы также передаем в функцию в качестве аргумента.\n",
    "Если же элемент списка обычное число, то оно выводится в результат в виде списка из одного элемента и к нему прибавляется рекурсивная функция, в которой в качестве аргумента остальная часть списка. Таким образом, мы можем «распрямить» списки со сколь угодно глубокими вложениями.\n",
    "После окончания работы функции выпрямленный список выводится на печать.\n",
    "Конец.\n",
    "    \n",
    "Исходный код\n"
   ]
  },
  {
   "cell_type": "code",
   "execution_count": null,
   "id": "273cbb7e-277d-4235-b563-4567f1a9bc80",
   "metadata": {},
   "outputs": [],
   "source": [
    "def flatten(s):\n",
    "    if s == []:\n",
    "        return s\n",
    "    if isinstance(s[0], list):\n",
    "        return(flatten(s[0]) + flatten(s[1:]))\n",
    "    return(s[:1] + flatten(s[1:]))\n",
    "s = [[1, 2], [3, 4]]\n",
    "print(\"Выпрямленный список: \", flatten(s))\n"
   ]
  },
  {
   "cell_type": "markdown",
   "id": "5ba460be-213d-46b5-9666-4435399ede06",
   "metadata": {},
   "source": [
    "**Объяснение работы программы:** \\\n",
    "Инициализируем переменную s списком, в котором содержатся вложенные списки.\n",
    "Передаем этот список в рекурсивную функцию flatten() для преобразования в обычный список.\n",
    "Базовым условием рекурсии будет равенство входящего списка пустому списку. В этом случае возвращается пустой список и дальнейшие вызовы рекурсивной функции не осуществляются.\n",
    "В противном случае проверяется, является ли первый элемент списка вложенным списком или обычным элементом списка. Проверка осуществляется при помощи функции isinstance(s[0], list).\n",
    "Если элемент списка тоже список, то он целиком передается нашей рекурсивной функции в качестве аргумента и к этому прибавляется остальная часть основного списка, которую мы также передаем в функцию в качестве аргумента. А именно: flatten(s[0]) + flatten(s[1:].\n",
    "Если же элемент списка обычное число, то он выводится в результат в виде списка из одного элемента и к нему прибавляется рекурсивная функция, в которой в качестве аргумента остальная часть списка. А именно: s[:1] + flatten(s[1:]. Таким образом мы можем «распрямить» списки со сколь угодно глубокими вложениями.\n",
    "После окончания работы функции выпрямленный список выводится на печать.\n",
    "Конец."
   ]
  },
  {
   "cell_type": "code",
   "execution_count": null,
   "id": "08821afb-bfa9-478a-9139-00681745eb97",
   "metadata": {},
   "outputs": [],
   "source": []
  },
  {
   "cell_type": "markdown",
   "id": "3ca6ca33-2260-4f34-89f7-34c1c28d6507",
   "metadata": {},
   "source": [
    "**Задача 16**"
   ]
  },
  {
   "cell_type": "markdown",
   "id": "444fb51b-f523-4854-9d65-dfdd395e98d6",
   "metadata": {},
   "source": [
    "*Описание задачи* \\\n",
    "Рекурсивное нахождение суммы элементов списка, в который входят другие списки \\\n",
    "Программа принимает на вход список со вложенными списками и находит сумму элементов всех вложенных списков при помощи рекурсии.\n",
    "\n",
    "*Решение задачи* \\\n",
    "Инициализируем переменную списком, в котором содержатся вложенные списки.\n",
    "Передаем этот список в качестве аргумента в рекурсивную функцию для вычисления суммы всех элементов.\n",
    "В теле этой функции используем одновременно цикл и рекурсию, для того чтобы достать все элементы из вложенных списков и сложить их друг с другом.\n",
    "На выходе функции выдается сумма всех элементов всех вложенных списков. Причем вложенных списков может быть сколько угодно.\n",
    "Выводим этот результат на экран.\n",
    "Конец.\n",
    "\n",
    "Исходный код"
   ]
  },
  {
   "cell_type": "code",
   "execution_count": 27,
   "id": "d871d675-2940-4da5-8c97-e53785680ec6",
   "metadata": {},
   "outputs": [
    {
     "name": "stdout",
     "output_type": "stream",
     "text": [
      "Сумма элементов равна: 10\n"
     ]
    }
   ],
   "source": [
    "def sum1(lst):\n",
    "    total = 0\n",
    "    for element in lst:\n",
    "        if (type(element) == type([])):\n",
    "            total = total + sum1(element)\n",
    "        else:\n",
    "            total = total + element\n",
    "    return total\n",
    "print(\"Сумма элементов равна:\", sum1([[1, 2], [3, 4]]))\n"
   ]
  },
  {
   "cell_type": "markdown",
   "id": "997216dc-7912-4e75-ac40-feaa6ba15c46",
   "metadata": {},
   "source": [
    "**Объяснение работы программы:** \\\n",
    "Инициализируем переменную списком, в котором содержатся вложенные списки.\n",
    "Передаем этот список в качестве аргумента в рекурсивную функцию sum1() для вычисления суммы всех элементов.\n",
    "В теле этой функции создаем переменную total, в которой будем суммировать элементы списков.\n",
    "Далее используем цикл for и рекурсию одновременно — для того, чтобы достать все элементы из вложенных списков и сложить их друг с другом.\n",
    "На выходе функции выдается сумма всех элементов всех вложенных списков. Причем вложенных списков может быть сколько угодно.\n",
    "Выводим этот результат на экран."
   ]
  },
  {
   "cell_type": "code",
   "execution_count": null,
   "id": "4c29e6fc-62c6-4274-ad57-32912259888a",
   "metadata": {},
   "outputs": [],
   "source": []
  },
  {
   "cell_type": "markdown",
   "id": "303f0176-0b05-43f7-95c5-bfc6ea35095a",
   "metadata": {},
   "source": [
    "**Задача 17**"
   ]
  },
  {
   "cell_type": "markdown",
   "id": "ca9e4574-1dd6-433c-9012-34cb543747ae",
   "metadata": {},
   "source": [
    "*Описание задачи* \\\n",
    "Нахождение длины списка при помощи рекурсии \\\n",
    "Программа принимает на вход список и определяет его длину при помощи рекурсии.\n",
    "\n",
    "*Решение задачи*\n",
    "Инициализируем переменную списком.\n",
    "Определяем рекурсивную функцию, которая принимает список в качестве аргумента.\n",
    "В качестве базового условия рекурсии примем наличие в списке элементов. Если на вход функции подается пустой список, то функция возвращает 0 и рекурсия останавливается.\n",
    "В противном случае функция выводит сумму 1 и рекурсивной функции, на вход которой подается исходный список без первого элемента.\n",
    "После окончания работы функции выводим результат на экран.\n",
    "Конец.\n",
    "    \n",
    "Исходный код\n"
   ]
  },
  {
   "cell_type": "code",
   "execution_count": null,
   "id": "179f0c4d-5091-4308-b941-4d3fd111d09e",
   "metadata": {},
   "outputs": [],
   "source": [
    "def length(lst):\n",
    "    if not lst:\n",
    "        return 0\n",
    "    return 1 + length(lst[1:])\n",
    "a = [1, 2, 3]\n",
    "print(\"Длина списка равна: \")\n",
    "print(length(a))\n"
   ]
  },
  {
   "cell_type": "markdown",
   "id": "2cf58950-0b93-45c6-9d9d-a7ee3e16deb3",
   "metadata": {},
   "source": [
    "**Объяснение работы программы:** \\\n",
    "Инициализируем переменную a списком.\n",
    "Определяем рекурсивную функцию length(), которая принимает список в качестве аргумента.\n",
    "В качестве базового условия рекурсии примем наличие в списке элементов. Если на вход функции подается пустой список, то функция возвращает 0 и рекурсия останавливается.\n",
    "В противном случае функция выводит сумму 1 и рекурсивной функции length(), на вход которой подается исходный список без первого элемента. Это делается при помощи среза списка lst[1:].\n",
    "После окончания работы функции выводим результат на экран."
   ]
  },
  {
   "cell_type": "code",
   "execution_count": null,
   "id": "211f7194-9246-492e-943b-9d38b4fb1262",
   "metadata": {},
   "outputs": [],
   "source": []
  },
  {
   "cell_type": "code",
   "execution_count": null,
   "id": "c3caa84f-0583-4b1c-b47a-afc13f79daba",
   "metadata": {},
   "outputs": [],
   "source": []
  },
  {
   "cell_type": "markdown",
   "id": "9448871d-62cb-4fac-b8c2-85606ed98107",
   "metadata": {},
   "source": [
    "## 3) Лямбда-функции в Python\n",
    "\n",
    "В Python можно определить функцию, не давая ей имени. Такая функция называется **анонимной.**\n",
    "\n",
    "В то время как обычные функции определяются с помощью ключевого слова **def**, анонимные функции определяются с помощью ключевого слова **lambda**.\n",
    "\n",
    "**Лямбда-функция в Python имеет следующий синтаксис:**"
   ]
  },
  {
   "cell_type": "raw",
   "id": "5928f61d-97fc-4eee-a7e0-c53ca42f8b1b",
   "metadata": {},
   "source": [
    "lambda arguments: expression"
   ]
  },
  {
   "cell_type": "markdown",
   "id": "89dbd2a6-5b76-4567-be43-48f448dd94b4",
   "metadata": {},
   "source": [
    "**Лямбда-функции** могут иметь любое количество аргументов, но только одно выражение."
   ]
  },
  {
   "cell_type": "code",
   "execution_count": null,
   "id": "6396da99-162c-4d6a-82b0-80cf092435df",
   "metadata": {},
   "outputs": [],
   "source": [
    "# Program to show the use of lambda functions\n",
    " \n",
    "double = lambda x: x * 2\n",
    "print(double(5))\n",
    "# Output\n",
    "# 10"
   ]
  },
  {
   "cell_type": "markdown",
   "id": "cda623d5-8d96-487d-85f7-8fd7f841e6f4",
   "metadata": {},
   "source": [
    "В приведенной выше программе ``lambda x: x * 2 `` – это лямбда-функция. Здесь ``x ``– аргумент, а ``x * 2`` — выражение, которое вычисляется и возвращается.\n",
    "\n",
    "У этой функции нет имени. Она возвращает объект функции, которому присвоен идентификатор double. Благодаря этому мы можем вызывать ее, как обычную функцию."
   ]
  },
  {
   "cell_type": "markdown",
   "id": "c352e517-cbb2-4c70-b0de-90c4fbe485af",
   "metadata": {},
   "source": [
    "  "
   ]
  },
  {
   "cell_type": "markdown",
   "id": "28cb5f6a-e027-4cac-ae6e-8842bcd62d49",
   "metadata": {},
   "source": [
    "  "
   ]
  },
  {
   "cell_type": "markdown",
   "id": "350d248e-d987-4cc2-b17a-138edd0859e9",
   "metadata": {},
   "source": [
    "## 4) Пользовательские функции Python"
   ]
  },
  {
   "cell_type": "markdown",
   "id": "3f202c3c-3e57-421c-9498-91dcb87d86a9",
   "metadata": {},
   "source": [
    "Функции, которые поставляются с Python, называются встроенными функциями. Если мы используем функции, написанные другими людьми и выложенные в форме библиотеки, это можно назвать библиотечными функциями.\n",
    "\n",
    "Все остальные функции, которые мы пишем самостоятельно, относятся к пользовательским функциям. При этом наша пользовательская функция может быть библиотечной функцией для кого-то еще.\n",
    "\n",
    "Преимущества пользовательских функций\n",
    "Прежде всего, пользовательские функции помогают разбить большую программу на небольшие сегменты. Это упрощает понимание, поддержку и отладку кода.\n",
    "\n",
    "Если в программе встречается повторяющийся код, его можно выделить в функцию и выполнять при необходимости путем вызова этой функции.\n",
    "\n",
    "Кроме того, программисты, работающие над большим проектом, могут разделить рабочую нагрузку, занимаясь разными функциями.\n",
    "\n"
   ]
  },
  {
   "cell_type": "code",
   "execution_count": 29,
   "id": "370724d4-256a-4eb4-83c5-e3067c4f26e5",
   "metadata": {},
   "outputs": [
    {
     "name": "stdout",
     "output_type": "stream",
     "text": [
      "The sum is 11\n"
     ]
    }
   ],
   "source": [
    "# Пример пользовательской функции:\n",
    "\n",
    "def add_numbers(x,y):\n",
    "   sum = x + y\n",
    "   return sum\n",
    " \n",
    "num1 = 5\n",
    "num2 = 6\n",
    "print(\"The sum is\", add_numbers(num1, num2))\n",
    "# Output:\n",
    "# Enter a number: 2.4\n",
    "# Enter another number: 6.5\n",
    "# The sum is 8.9\n"
   ]
  },
  {
   "cell_type": "code",
   "execution_count": null,
   "id": "c3f6a63e-e2c7-48b3-9acc-72e23bb381f9",
   "metadata": {},
   "outputs": [],
   "source": []
  },
  {
   "cell_type": "code",
   "execution_count": null,
   "id": "4c3f4f52-7f48-4110-b45e-7b197f52a344",
   "metadata": {},
   "outputs": [],
   "source": []
  },
  {
   "cell_type": "markdown",
   "id": "866aa31a-5257-4816-a7d3-ad01d4d1484b",
   "metadata": {},
   "source": [
    "## Создаем простое приложение \"Калькулятор\" на Python\n",
    "\n",
    "В этом примере мы создадим простой калькулятор, умеющий складывать, вычитать, умножать или делить числа, введенные пользователем."
   ]
  },
  {
   "cell_type": "code",
   "execution_count": null,
   "id": "c0cabeeb-c2cf-4322-8d9c-9d03622897ae",
   "metadata": {},
   "outputs": [
    {
     "name": "stdout",
     "output_type": "stream",
     "text": [
      "Select operation.\n",
      "1.Add '+'\n",
      "2.Subtract '-'\n",
      "3.Multiply '*'\n",
      "4.Divide '/'\n"
     ]
    }
   ],
   "source": [
    "# This function adds two numbers \n",
    "def add(x, y):\n",
    "   return x + y\n",
    " \n",
    "# This function subtracts two numbers \n",
    "def subtract(x, y):\n",
    "   return x - y\n",
    " \n",
    "# This function multiplies two numbers\n",
    "def multiply(x, y):\n",
    "   return x * y\n",
    " \n",
    "# This function divides two numbers\n",
    "def divide(x, y):\n",
    "   return x / y\n",
    " \n",
    "print(\"Select operation.\")\n",
    "print(\"1.Add '+'\")\n",
    "print(\"2.Subtract '-'\")\n",
    "print(\"3.Multiply '*'\")\n",
    "print(\"4.Divide '/'\")\n",
    " \n",
    "# Take input from the user \n",
    "choice = input(\"Enter choice(1/2/3/4):\")\n",
    " \n",
    "num1 = int(input(\"Enter first number: \"))\n",
    "num2 = int(input(\"Enter second number: \"))\n",
    " \n",
    "if choice == '1':\n",
    "   print(num1,\"+\",num2,\"=\", add(num1,num2))\n",
    " \n",
    "elif choice == '2':\n",
    "   print(num1,\"-\",num2,\"=\", subtract(num1,num2))\n",
    " \n",
    "elif choice == '3':\n",
    "   print(num1,\"*\",num2,\"=\", multiply(num1,num2))\n",
    " \n",
    "elif choice == '4':\n",
    "   print(num1,\"/\",num2,\"=\", divide(num1,num2))\n",
    "else:\n",
    "   print(\"Invalid input\")\n",
    "    "
   ]
  }
 ],
 "metadata": {
  "kernelspec": {
   "display_name": "Python 3 (ipykernel)",
   "language": "python",
   "name": "python3"
  },
  "language_info": {
   "codemirror_mode": {
    "name": "ipython",
    "version": 3
   },
   "file_extension": ".py",
   "mimetype": "text/x-python",
   "name": "python",
   "nbconvert_exporter": "python",
   "pygments_lexer": "ipython3",
   "version": "3.12.5"
  }
 },
 "nbformat": 4,
 "nbformat_minor": 5
}
